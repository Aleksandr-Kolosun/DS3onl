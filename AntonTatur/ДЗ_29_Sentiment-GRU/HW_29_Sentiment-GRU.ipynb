{
 "cells": [
  {
   "cell_type": "markdown",
   "id": "50085a84",
   "metadata": {},
   "source": [
    "#### ДЗ_29 - классифкация текста по эмоциональной окраске\n",
    "#### Татур А.А.\n",
    "##### 06.03.2023\n",
    "##### v.0.1\n",
    "\n",
    "##### Задача: используя сет с набором твитов построить классификатор по эмоциональной окраске с использованием рекуррентных сетей."
   ]
  },
  {
   "cell_type": "code",
   "execution_count": 359,
   "id": "7b539a1c",
   "metadata": {},
   "outputs": [],
   "source": [
    "import numpy as np\n",
    "import pandas as pd\n",
    "import os\n",
    "\n",
    "import re\n",
    "import emoji\n",
    "import string\n",
    "from nltk.corpus import stopwords\n",
    "from nltk.stem import WordNetLemmatizer\n",
    "STOPWORDS  = stopwords.words('english') + ['im']\n",
    "\n",
    "from sklearn.preprocessing import LabelEncoder\n",
    "\n",
    "import tensorflow as tf\n",
    "from tensorflow import convert_to_tensor\n",
    "from tensorflow.keras.layers import Dense, LSTM, Input, Embedding, Dropout, GRU, BatchNormalization\n",
    "from tensorflow.keras.losses import CategoricalCrossentropy\n",
    "from tensorflow.keras.models import Sequential, load_model\n",
    "from tensorflow.keras.optimizers import Adam\n",
    "from tensorflow.keras.preprocessing.text import Tokenizer, text_to_word_sequence\n",
    "from tensorflow.keras.preprocessing.sequence import pad_sequences\n",
    "from tensorflow.keras.utils import to_categorical\n",
    "from tensorflow.keras.callbacks import ModelCheckpoint, ReduceLROnPlateau\n",
    "\n",
    "import matplotlib.pyplot as plt"
   ]
  },
  {
   "cell_type": "code",
   "execution_count": 273,
   "id": "ebfa9385",
   "metadata": {},
   "outputs": [],
   "source": [
    "#### Функция для построения графика обучения на тренировочном и обучающем наборе:\n",
    "def test_val_graph (history,train,val):\n",
    "    plt.plot(history.history[train], label='Точность на обучающем наборе')\n",
    "    plt.plot(history.history[val], label='Точность на проверочном наборе')\n",
    "    plt.xlabel('Цикл обучения')\n",
    "    plt.ylabel('Точность')\n",
    "    plt.legend()\n",
    "    plt.show()\n",
    "    pass;"
   ]
  },
  {
   "cell_type": "code",
   "execution_count": 281,
   "id": "c4ee0d41",
   "metadata": {},
   "outputs": [],
   "source": [
    "#### Функция для очистки текста и лемматизации\n",
    "\n",
    "def cleaner(tweet):\n",
    "    tweet = tweet.lower() # приводим к нижнему регистру\n",
    "    tweet = tweet.replace(\"<unk>\", \"\") #убираем значение <unk>, которое встречается в некоторых строках\n",
    "    tweet = re.sub(r\"(?:\\@|http?\\://|https?\\://|www)\\S+\", \"\", tweet) #убираем ссылки\n",
    "    tweet = re.sub(r'[^\\w\\s]', '', tweet) #убираем знаки препинания\n",
    "    tweet = ''.join (c for c in tweet if c not in string.digits)  #убираем все символы, которые относятся к цифрам\n",
    "    tweet = ' '.join(c for c in tweet.split() if emoji.is_emoji(c)==False \\ #убираем эмодзи, знаки пунктуации и стоп-слова\n",
    "                                    and c not in string.punctuation \\\n",
    "                                    and c not in STOPWORDS)\n",
    "    tweet = tweet.replace(\"#\", \"\").replace(\"_\", \" \").replace(\"pm\",\"\") #убираем решетки, нижние подчеркивания и обозначния времени\n",
    "    \n",
    "    lemmatizer = WordNetLemmatizer() #лемматизируем слова\n",
    "    one_lemma = [lemmatizer.lemmatize(word) for word in tweet]\n",
    "    tweet=''.join(one_lemma)\n",
    "    \n",
    "    return tweet"
   ]
  },
  {
   "cell_type": "markdown",
   "id": "7563316d",
   "metadata": {},
   "source": [
    "#### 01. Загружаем тренировочный и тестовый датасет"
   ]
  },
  {
   "cell_type": "code",
   "execution_count": 282,
   "id": "391680b2",
   "metadata": {},
   "outputs": [],
   "source": [
    "df_training = pd.read_csv('twitter_training.csv',\n",
    "                          header=None, \n",
    "                          usecols={2,3},\n",
    "                          names=['Sentiment', 'Tweet'])\n",
    "\n",
    "df_test = pd.read_csv('twitter_validation.csv',\n",
    "                            header=None, \n",
    "                            usecols={2,3},\n",
    "                            names=['Sentiment', 'Tweet'])\n",
    "\n",
    "df_training['Tweet']=df_training['Tweet'].astype(str)\n",
    "df_test['Tweet']=df_test['Tweet'].astype(str)"
   ]
  },
  {
   "cell_type": "markdown",
   "id": "34e2465f",
   "metadata": {},
   "source": [
    "#### 02. Проводим очистку датасетов"
   ]
  },
  {
   "cell_type": "code",
   "execution_count": 283,
   "id": "38b86a5d",
   "metadata": {},
   "outputs": [],
   "source": [
    "df_training['cleaned'] = df_training['Tweet'].map(lambda x: cleaner(x))\n",
    "df_test['cleaned'] = df_test['Tweet'].map(lambda x: cleaner(x))"
   ]
  },
  {
   "cell_type": "markdown",
   "id": "b47ff354",
   "metadata": {},
   "source": [
    "#### 03. Кодируем категориальные признаки"
   ]
  },
  {
   "cell_type": "code",
   "execution_count": 284,
   "id": "d475e822",
   "metadata": {},
   "outputs": [],
   "source": [
    "labeles = LabelEncoder()\n",
    "train_labels = to_categorical(labeles.fit_transform(df_training['Sentiment']), num_classes=4)\n",
    "test_labels = to_categorical(labeles.transform(df_test['Sentiment']), num_classes=4)"
   ]
  },
  {
   "cell_type": "markdown",
   "id": "c82566e9",
   "metadata": {},
   "source": [
    "#### 04. Токенизируем текст"
   ]
  },
  {
   "cell_type": "code",
   "execution_count": 301,
   "id": "428d0bf0",
   "metadata": {},
   "outputs": [],
   "source": [
    "tokenizer = Tokenizer (num_words=20000,\n",
    "                       lower = True,\n",
    "                       split = ' ',\n",
    "                       char_level=False)\n",
    "tokenizer.fit_on_texts(df_training['cleaned'])"
   ]
  },
  {
   "cell_type": "markdown",
   "id": "25bf8810",
   "metadata": {},
   "source": [
    "#### 05. Заполняем нулями или обрезаем предложения до 10 слов"
   ]
  },
  {
   "cell_type": "code",
   "execution_count": 336,
   "id": "a341efcc",
   "metadata": {},
   "outputs": [],
   "source": [
    "max_text_len = 10\n",
    "data = tokenizer.texts_to_sequences(df_training['cleaned'])\n",
    "data_pad = pad_sequences (data, maxlen=max_text_len)"
   ]
  },
  {
   "cell_type": "markdown",
   "id": "b8912995",
   "metadata": {},
   "source": [
    "#### 06. Рандомизируем тренировочный сет"
   ]
  },
  {
   "cell_type": "code",
   "execution_count": 303,
   "id": "b16665f9",
   "metadata": {},
   "outputs": [],
   "source": [
    "indices = np.random.choice (X.shape[0], size = X.shape[0], replace=False)\n",
    "X=data_pad[indices]\n",
    "y=train_labels[indices]"
   ]
  },
  {
   "cell_type": "markdown",
   "id": "a69d8135",
   "metadata": {},
   "source": [
    "#### 07 Создаем валидационный и тренировочный наборы"
   ]
  },
  {
   "cell_type": "code",
   "execution_count": 304,
   "id": "3c002ed1",
   "metadata": {},
   "outputs": [],
   "source": [
    "X_train = X[:60000]; X_val=X[60000:]\n",
    "y_train = y[:60000]; y_val=y[60000:]"
   ]
  },
  {
   "cell_type": "markdown",
   "id": "5c6673c5",
   "metadata": {},
   "source": [
    "#### 08. Создаем тестовый набор"
   ]
  },
  {
   "cell_type": "code",
   "execution_count": 305,
   "id": "16bb8a11",
   "metadata": {},
   "outputs": [],
   "source": [
    "data_test = tokenizer.texts_to_sequences(df_test['cleaned'])\n",
    "data_test_pad = pad_sequences (data_test, maxlen=max_text_len)"
   ]
  },
  {
   "cell_type": "code",
   "execution_count": 306,
   "id": "3d2d5a27",
   "metadata": {},
   "outputs": [],
   "source": [
    "X_test = data_test_pad\n",
    "y_test = test_labels"
   ]
  },
  {
   "cell_type": "markdown",
   "id": "44e88b60",
   "metadata": {},
   "source": [
    "#### 09. Строим модель и проводим ее обучение"
   ]
  },
  {
   "cell_type": "code",
   "execution_count": 415,
   "id": "c8cf6cd3",
   "metadata": {},
   "outputs": [
    {
     "name": "stdout",
     "output_type": "stream",
     "text": [
      "Model: \"sequential_16\"\n",
      "_________________________________________________________________\n",
      " Layer (type)                Output Shape              Param #   \n",
      "=================================================================\n",
      " embedding_16 (Embedding)    (None, 10, 128)           2560000   \n",
      "                                                                 \n",
      " gru_18 (GRU)                (None, 10, 128)           99072     \n",
      "                                                                 \n",
      " gru_19 (GRU)                (None, 128)               99072     \n",
      "                                                                 \n",
      " batch_normalization_12 (Bat  (None, 128)              512       \n",
      " chNormalization)                                                \n",
      "                                                                 \n",
      " dense_26 (Dense)            (None, 1000)              129000    \n",
      "                                                                 \n",
      " batch_normalization_13 (Bat  (None, 1000)             4000      \n",
      " chNormalization)                                                \n",
      "                                                                 \n",
      " dense_27 (Dense)            (None, 4)                 4004      \n",
      "                                                                 \n",
      "=================================================================\n",
      "Total params: 2,895,660\n",
      "Trainable params: 2,893,404\n",
      "Non-trainable params: 2,256\n",
      "_________________________________________________________________\n"
     ]
    }
   ],
   "source": [
    "model = Sequential()\n",
    "model.add (Embedding(maxWordsCount, 128, input_length=max_text_len))\n",
    "model.add (GRU(128, return_sequences=True))\n",
    "model.add (GRU(128))\n",
    "model.add (BatchNormalization())\n",
    "model.add (Dense(1000, activation='relu'))\n",
    "model.add (BatchNormalization())\n",
    "model.add (Dense(4, activation='linear'))\n",
    "model.summary()"
   ]
  },
  {
   "cell_type": "code",
   "execution_count": 416,
   "id": "1c675102",
   "metadata": {},
   "outputs": [],
   "source": [
    "model.compile (optimizer=Adam(0.0001),\n",
    "               loss = CategoricalCrossentropy(from_logits=True),\n",
    "               metrics = ['accuracy'])"
   ]
  },
  {
   "cell_type": "code",
   "execution_count": 417,
   "id": "90143e01",
   "metadata": {},
   "outputs": [],
   "source": [
    "checkpoint_cb_conv = ModelCheckpoint(\"model.h5\", \n",
    "                                     monitor = 'val_accuracy',\n",
    "                                     save_best_only=True)\n",
    "\n",
    "lr_scheduler = ReduceLROnPlateau(factor=0.2, patience=2)"
   ]
  },
  {
   "cell_type": "code",
   "execution_count": 418,
   "id": "f3809a09",
   "metadata": {},
   "outputs": [
    {
     "name": "stdout",
     "output_type": "stream",
     "text": [
      "Epoch 1/20\n",
      "938/938 [==============================] - 18s 15ms/step - loss: 1.1371 - accuracy: 0.5177 - val_loss: 0.9093 - val_accuracy: 0.6419 - lr: 1.0000e-04\n",
      "Epoch 2/20\n",
      "938/938 [==============================] - 14s 15ms/step - loss: 0.6079 - accuracy: 0.7750 - val_loss: 0.6647 - val_accuracy: 0.7571 - lr: 1.0000e-04\n",
      "Epoch 3/20\n",
      "938/938 [==============================] - 14s 14ms/step - loss: 0.3566 - accuracy: 0.8742 - val_loss: 0.5166 - val_accuracy: 0.8139 - lr: 1.0000e-04\n",
      "Epoch 4/20\n",
      "938/938 [==============================] - 14s 15ms/step - loss: 0.2421 - accuracy: 0.9148 - val_loss: 0.4795 - val_accuracy: 0.8338 - lr: 1.0000e-04\n",
      "Epoch 5/20\n",
      "938/938 [==============================] - 14s 15ms/step - loss: 0.1898 - accuracy: 0.9319 - val_loss: 0.4900 - val_accuracy: 0.8331 - lr: 1.0000e-04\n",
      "Epoch 6/20\n",
      "938/938 [==============================] - 16s 17ms/step - loss: 0.1581 - accuracy: 0.9424 - val_loss: 0.4672 - val_accuracy: 0.8470 - lr: 1.0000e-04\n",
      "Epoch 7/20\n",
      "938/938 [==============================] - 14s 15ms/step - loss: 0.1368 - accuracy: 0.9487 - val_loss: 0.5645 - val_accuracy: 0.8265 - lr: 1.0000e-04\n",
      "Epoch 8/20\n",
      "938/938 [==============================] - 16s 17ms/step - loss: 0.1272 - accuracy: 0.9512 - val_loss: 0.4996 - val_accuracy: 0.8499 - lr: 1.0000e-04\n",
      "Epoch 9/20\n",
      "938/938 [==============================] - 16s 17ms/step - loss: 0.1039 - accuracy: 0.9576 - val_loss: 0.4620 - val_accuracy: 0.8552 - lr: 2.0000e-05\n",
      "Epoch 10/20\n",
      "938/938 [==============================] - 15s 16ms/step - loss: 0.0994 - accuracy: 0.9585 - val_loss: 0.4636 - val_accuracy: 0.8587 - lr: 2.0000e-05\n",
      "Epoch 11/20\n",
      "938/938 [==============================] - 15s 16ms/step - loss: 0.0976 - accuracy: 0.9590 - val_loss: 0.4684 - val_accuracy: 0.8560 - lr: 2.0000e-05\n",
      "Epoch 12/20\n",
      "938/938 [==============================] - 14s 15ms/step - loss: 0.0922 - accuracy: 0.9610 - val_loss: 0.4648 - val_accuracy: 0.8611 - lr: 4.0000e-06\n",
      "Epoch 13/20\n",
      "938/938 [==============================] - 15s 16ms/step - loss: 0.0917 - accuracy: 0.9609 - val_loss: 0.4673 - val_accuracy: 0.8617 - lr: 4.0000e-06\n",
      "Epoch 14/20\n",
      "938/938 [==============================] - 16s 17ms/step - loss: 0.0909 - accuracy: 0.9614 - val_loss: 0.4675 - val_accuracy: 0.8615 - lr: 8.0000e-07\n",
      "Epoch 15/20\n",
      "938/938 [==============================] - 15s 16ms/step - loss: 0.0908 - accuracy: 0.9604 - val_loss: 0.4667 - val_accuracy: 0.8618 - lr: 8.0000e-07\n",
      "Epoch 16/20\n",
      "938/938 [==============================] - 14s 15ms/step - loss: 0.0905 - accuracy: 0.9614 - val_loss: 0.4675 - val_accuracy: 0.8617 - lr: 1.6000e-07\n",
      "Epoch 17/20\n",
      "938/938 [==============================] - 14s 15ms/step - loss: 0.0907 - accuracy: 0.9608 - val_loss: 0.4670 - val_accuracy: 0.8617 - lr: 1.6000e-07\n",
      "Epoch 18/20\n",
      "938/938 [==============================] - 14s 15ms/step - loss: 0.0902 - accuracy: 0.9614 - val_loss: 0.4670 - val_accuracy: 0.8623 - lr: 3.2000e-08\n",
      "Epoch 19/20\n",
      "938/938 [==============================] - 14s 15ms/step - loss: 0.0902 - accuracy: 0.9610 - val_loss: 0.4675 - val_accuracy: 0.8619 - lr: 3.2000e-08\n",
      "Epoch 20/20\n",
      "938/938 [==============================] - 14s 14ms/step - loss: 0.0910 - accuracy: 0.9610 - val_loss: 0.4667 - val_accuracy: 0.8619 - lr: 6.4000e-09\n"
     ]
    }
   ],
   "source": [
    "history = model.fit (X_train, y_train, \n",
    "                     batch_size=64, \n",
    "                     epochs=20,\n",
    "                     validation_data = (X_val, y_val),\n",
    "                     callbacks=[checkpoint_cb_conv,lr_scheduler])"
   ]
  },
  {
   "cell_type": "code",
   "execution_count": 419,
   "id": "328e63fa",
   "metadata": {},
   "outputs": [
    {
     "data": {
      "image/png": "[encoded data removed]",
      "text/plain": [
       "<Figure size 640x480 with 1 Axes>"
      ]
     },
     "metadata": {},
     "output_type": "display_data"
    }
   ],
   "source": [
    "test_val_graph (history,'accuracy', 'val_accuracy')"
   ]
  },
  {
   "cell_type": "markdown",
   "id": "f8a0e5e9",
   "metadata": {},
   "source": [
    "#### 10. Оценка эффективности модели на тестовом наборе"
   ]
  },
  {
   "cell_type": "code",
   "execution_count": 420,
   "id": "03754257",
   "metadata": {},
   "outputs": [],
   "source": [
    "model = load_model(\"model.h5\")"
   ]
  },
  {
   "cell_type": "code",
   "execution_count": 421,
   "id": "9d974839",
   "metadata": {},
   "outputs": [
    {
     "name": "stdout",
     "output_type": "stream",
     "text": [
      "32/32 [==============================] - 1s 5ms/step - loss: 0.3062 - accuracy: 0.9350\n"
     ]
    },
    {
     "data": {
      "text/plain": [
       "[0.30623185634613037, 0.9350000023841858]"
      ]
     },
     "execution_count": 421,
     "metadata": {},
     "output_type": "execute_result"
    }
   ],
   "source": [
    "model.evaluate(X_test, y_test)"
   ]
  },
  {
   "cell_type": "markdown",
   "id": "61011074",
   "metadata": {},
   "source": [
    "#### 11. Создадим функцию для проверки модели на собственных предложениях"
   ]
  },
  {
   "cell_type": "code",
   "execution_count": 368,
   "id": "2a6597c9",
   "metadata": {},
   "outputs": [],
   "source": [
    "def text_checker (text):\n",
    "    t_cleaned = cleaner (text)\n",
    "    data = tokenizer.texts_to_sequences([t_cleaned])\n",
    "    data_pad = pad_sequences (data, maxlen=max_text_len)\n",
    "    res = model.predict(data_pad)\n",
    "    print ('Окраска текста - ', labeles.classes_[np.argmax(res)])"
   ]
  },
  {
   "cell_type": "code",
   "execution_count": 369,
   "id": "14f565d6",
   "metadata": {},
   "outputs": [
    {
     "name": "stdout",
     "output_type": "stream",
     "text": [
      "1/1 [==============================] - 1s 767ms/step\n",
      "Окраска текста -  Negative\n"
     ]
    }
   ],
   "source": [
    "text_checker('this idea is absolutely bullshit')"
   ]
  },
  {
   "cell_type": "code",
   "execution_count": 378,
   "id": "483a5a0d",
   "metadata": {},
   "outputs": [
    {
     "name": "stdout",
     "output_type": "stream",
     "text": [
      "1/1 [==============================] - 0s 28ms/step\n",
      "Окраска текста -  Positive\n"
     ]
    }
   ],
   "source": [
    "text_checker('this idea is absolutely brilliant')"
   ]
  },
  {
   "cell_type": "code",
   "execution_count": 371,
   "id": "30df0880",
   "metadata": {},
   "outputs": [
    {
     "name": "stdout",
     "output_type": "stream",
     "text": [
      "1/1 [==============================] - 0s 29ms/step\n",
      "Окраска текста -  Positive\n"
     ]
    }
   ],
   "source": [
    "text_checker(\"i don't think this is a good idea\")"
   ]
  },
  {
   "cell_type": "code",
   "execution_count": 372,
   "id": "5a5d4139",
   "metadata": {},
   "outputs": [
    {
     "name": "stdout",
     "output_type": "stream",
     "text": [
      "1/1 [==============================] - 0s 27ms/step\n",
      "Окраска текста -  Negative\n"
     ]
    }
   ],
   "source": [
    "text_checker(\"i think this is a bad idea\")"
   ]
  },
  {
   "cell_type": "code",
   "execution_count": 373,
   "id": "d448237a",
   "metadata": {},
   "outputs": [
    {
     "name": "stdout",
     "output_type": "stream",
     "text": [
      "1/1 [==============================] - 0s 28ms/step\n",
      "Окраска текста -  Neutral\n"
     ]
    }
   ],
   "source": [
    "text_checker(\"knock the door from the other side\")"
   ]
  },
  {
   "cell_type": "code",
   "execution_count": 374,
   "id": "61941e6f",
   "metadata": {},
   "outputs": [
    {
     "name": "stdout",
     "output_type": "stream",
     "text": [
      "1/1 [==============================] - 0s 29ms/step\n",
      "Окраска текста -  Negative\n"
     ]
    }
   ],
   "source": [
    "text_checker(\"fuck off\")"
   ]
  },
  {
   "cell_type": "code",
   "execution_count": 375,
   "id": "36e93265",
   "metadata": {},
   "outputs": [
    {
     "name": "stdout",
     "output_type": "stream",
     "text": [
      "1/1 [==============================] - 0s 28ms/step\n",
      "Окраска текста -  Negative\n"
     ]
    }
   ],
   "source": [
    "text_checker(\"knock yourself out\")"
   ]
  },
  {
   "cell_type": "code",
   "execution_count": 376,
   "id": "e5ebe410",
   "metadata": {},
   "outputs": [
    {
     "name": "stdout",
     "output_type": "stream",
     "text": [
      "1/1 [==============================] - 0s 27ms/step\n",
      "Окраска текста -  Irrelevant\n"
     ]
    }
   ],
   "source": [
    "text_checker(\"come out\")"
   ]
  },
  {
   "cell_type": "code",
   "execution_count": 377,
   "id": "274e2f78",
   "metadata": {},
   "outputs": [
    {
     "name": "stdout",
     "output_type": "stream",
     "text": [
      "1/1 [==============================] - 0s 31ms/step\n",
      "Окраска текста -  Positive\n"
     ]
    }
   ],
   "source": [
    "text_checker(\"go on\")"
   ]
  },
  {
   "cell_type": "code",
   "execution_count": null,
   "id": "75b752bd",
   "metadata": {},
   "outputs": [],
   "source": []
  }
 ],
 "metadata": {
  "kernelspec": {
   "display_name": "Python 3 (ipykernel)",
   "language": "python",
   "name": "python3"
  },
  "language_info": {
   "codemirror_mode": {
    "name": "ipython",
    "version": 3
   },
   "file_extension": ".py",
   "mimetype": "text/x-python",
   "name": "python",
   "nbconvert_exporter": "python",
   "pygments_lexer": "ipython3",
   "version": "3.9.13"
  }
 },
 "nbformat": 4,
 "nbformat_minor": 5
}
