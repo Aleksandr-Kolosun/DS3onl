{
 "cells": [
  {
   "cell_type": "markdown",
   "id": "6ba7d8d0",
   "metadata": {},
   "source": [
    "#### Татур А.А.\n",
    "#### 18.09.2022\n",
    "#### ver 0.1"
   ]
  },
  {
   "cell_type": "markdown",
   "id": "2c1e72b1",
   "metadata": {},
   "source": [
    "# Задание\n",
    "\n",
    "## C использованием библиотек Numpy и Pandas написать программу реализующую:\n",
    "\n",
    "1. Загрузку текстового файла из корневого каталога объемом не менее 20000 символов включая пробелы и все символы.\n",
    "\n",
    "2. Подсчет частоты встречаемости слов в загруженном файле (критерий схожести слов выбрать самостоятельно).\n",
    "\n",
    "3. Подсчет длин предложений и их количества.\n",
    "\n",
    "4. Ввод полученных данных в объект DataFrame и Series, а также отображение полученных результатов в виде таблицы \"объекты - признаки\".\n",
    "\n",
    "5. Построение гистограммы частоты встречаемости слов."
   ]
  },
  {
   "cell_type": "code",
   "execution_count": 67,
   "id": "f0e7c272",
   "metadata": {},
   "outputs": [],
   "source": [
    "import pandas as pd\n",
    "import codecs\n",
    "import re\n",
    "import matplotlib.pyplot as plt\n",
    "import seaborn as sns"
   ]
  },
  {
   "cell_type": "markdown",
   "id": "ecfd0938",
   "metadata": {},
   "source": [
    "# Считаем слова"
   ]
  },
  {
   "cell_type": "markdown",
   "id": "c766681a",
   "metadata": {},
   "source": [
    "##### Открываем файл"
   ]
  },
  {
   "cell_type": "code",
   "execution_count": 1,
   "id": "c6b6ae37",
   "metadata": {},
   "outputs": [],
   "source": [
    "with open(\"MyText.txt\", \"r\", encoding = \"UTF8\") as text_file:\n",
    "    text=text_file.readlines()"
   ]
  },
  {
   "cell_type": "markdown",
   "id": "99749b47",
   "metadata": {},
   "source": [
    "#### Создаем переменную, которая будет содержать обработанный текст.\n",
    "#### Подгружаем файл, содержащий пустые по смыслу слова"
   ]
  },
  {
   "cell_type": "code",
   "execution_count": 3,
   "id": "34ea8a10",
   "metadata": {},
   "outputs": [],
   "source": [
    "with open (\"Trash.txt\", \"r\", encoding = \"UTF8\") as trash_file:\n",
    "    trash_word = tuple(trash_file.readlines()[0].split())"
   ]
  },
  {
   "cell_type": "markdown",
   "id": "2b10c331",
   "metadata": {},
   "source": [
    "##### Выполняем построчное чтение, разбиваем предложения по пробелам для вычленения отдельных слов, чистим от специальных символов, пустых слов, переводим все в нижний регистр, сортируем по алфавиту"
   ]
  },
  {
   "cell_type": "code",
   "execution_count": 4,
   "id": "7f6d8f81",
   "metadata": {},
   "outputs": [],
   "source": [
    "text_cleaned=[] #пустой лист, где будет содержаться наш очищенный от мусорных слов текст\n",
    "\n",
    "for line in text: #Выделяем отдельные строки\n",
    "    for word in line.split(): #Разбиваем на части по пробелам\n",
    "        word = re.sub(\"[!#$%^&*\\(\\)...''\\\"«»–\\'\\'?,-<>1234567890]\", '', word) #удаляем специальные символы и цифры\n",
    "        if word.lower() in trash_word or len(word)<1: #удаляем слова без смысла, пустые символы\n",
    "            continue\n",
    "        else:\n",
    "            text_cleaned.append(word.lower())\n",
    "            \n",
    "sorted_and_cleaned = sorted(text_cleaned) #очищенный лист, который отсортирован по алфавиту"
   ]
  },
  {
   "cell_type": "markdown",
   "id": "c98a494f",
   "metadata": {},
   "source": [
    "#### Функция для удаления окончания слов в зависимости от их длины. Если длина слова меньше или равна трем символам - оставляем как есть. Если 4 и более символов - убираем один на конце."
   ]
  },
  {
   "cell_type": "code",
   "execution_count": 149,
   "id": "77d15b74",
   "metadata": {},
   "outputs": [],
   "source": [
    "def rem_last(word):\n",
    "    if len(word)<=3:\n",
    "        return word\n",
    "    else:\n",
    "        return (word[0:-1]+\"*\")"
   ]
  },
  {
   "cell_type": "markdown",
   "id": "60d04141",
   "metadata": {},
   "source": [
    "#### Вносим в объек DataFrame два списка -  с окончанием и без. Записываем в файл. Выдергиваем 10 самых частых"
   ]
  },
  {
   "cell_type": "code",
   "execution_count": 154,
   "id": "83caea7b",
   "metadata": {},
   "outputs": [
    {
     "data": {
      "text/plain": [
       "маргарит*     598\n",
       "сказа*        279\n",
       "ответи*       245\n",
       "ива*          241\n",
       "голов*        193\n",
       "рук*          191\n",
       "коровье*      188\n",
       "очен*         187\n",
       "волан*        186\n",
       "лиц*          184\n",
       "прокурато*    179\n",
       "глаз*         171\n",
       "врем*         169\n",
       "кот           166\n",
       "челове*       164\n",
       "спроси*       155\n",
       "азазелл*      152\n",
       "дел*          150\n",
       "тепер*        145\n",
       "совершенн*    142\n",
       "Name: Mod, dtype: int64"
      ]
     },
     "execution_count": 154,
     "metadata": {},
     "output_type": "execute_result"
    }
   ],
   "source": [
    "Word_Data=pd.DataFrame({\"Orig\": sorted_and_cleaned, \"Mod\":(list(map(rem_last, sorted_and_cleaned)))})\n",
    "Word_Data.to_csv('Word_Data.csv')\n",
    "mf = Word_Data['Mod'].value_counts()\n",
    "mf.head(20)"
   ]
  },
  {
   "cell_type": "markdown",
   "id": "2e8d2066",
   "metadata": {},
   "source": [
    "#### Строим график для 20 наиболее часто встречающихся "
   ]
  },
  {
   "cell_type": "code",
   "execution_count": 151,
   "id": "91041f56",
   "metadata": {},
   "outputs": [
    {
     "data": {
      "text/plain": [
       "<AxesSubplot:title={'center':'Сколько раз встретились самые популярные слова?'}, xlabel='Название слова', ylabel='Mod'>"
      ]
     },
     "execution_count": 151,
     "metadata": {},
     "output_type": "execute_result"
    },
    {
     "data": {
      "image/png": "[encoded data removed]",
      "text/plain": [
       "<Figure size 1440x720 with 1 Axes>"
      ]
     },
     "metadata": {
      "needs_background": "light"
     },
     "output_type": "display_data"
    }
   ],
   "source": [
    "## настройки графика\n",
    "\n",
    "plt.figure(figsize=(20,10))\n",
    "plt.title(\"Сколько раз встретились самые популярные слова?\")\n",
    "plt.ylabel(\"Число упоминаний\")\n",
    "plt.xlabel(\"Название слова\")\n",
    "\n",
    "x=20 # Переменная для определения, частоту скольких первых слов отобразить на графике\n",
    "sns.barplot(x=mf.head(x).index, y=mf.head(x))"
   ]
  },
  {
   "cell_type": "markdown",
   "id": "0c9d14b5",
   "metadata": {},
   "source": [
    "# Считаем предложения"
   ]
  },
  {
   "cell_type": "markdown",
   "id": "b9c2c833",
   "metadata": {},
   "source": [
    "#### Открываем файл"
   ]
  },
  {
   "cell_type": "code",
   "execution_count": 148,
   "id": "f7d12e08",
   "metadata": {},
   "outputs": [],
   "source": [
    "with open(\"MyText.txt\", \"r\", encoding = \"UTF8\") as text_file:\n",
    "    text=text_file.readlines()"
   ]
  },
  {
   "cell_type": "markdown",
   "id": "9e95390b",
   "metadata": {},
   "source": [
    "#### Убираем из файла все символы новой строки, а также дефисы, которые обозначают диалоги.  Используем гипотезу, что все предложения заканчиваются на \". \", \"! \" или \"? \". Выполняем их поиск по тексту и заменяем специальным символом \"|\""
   ]
  },
  {
   "cell_type": "code",
   "execution_count": 145,
   "id": "1062139f",
   "metadata": {},
   "outputs": [],
   "source": [
    "new_text=[]\n",
    "for line in text:\n",
    "    line=re.sub(r'[–]', '',line) #убираем начальные символы диалогов\n",
    "    line=re.sub(r'[.!?»]\\n', r'|', line) #обозначаем конец предложений, где знака идет новая строка\n",
    "    line=re.sub(r'[.!?]\\s', r'|', line) #бозначаем конец предложений, где после точки, восклицательного знака или вопроса идет пробел\n",
    "    line=re.sub(r'\\n', '',line) #убираем символ новой строки\n",
    "    new_text.append(line)"
   ]
  },
  {
   "cell_type": "markdown",
   "id": "db12fe3f",
   "metadata": {},
   "source": [
    "#### Соединяем все элементы листа в строку и преобразуем ее в новый лист по делителю \"|\". Считаем количество предложений как длину списка"
   ]
  },
  {
   "cell_type": "code",
   "execution_count": 146,
   "id": "8f5ca4a0",
   "metadata": {},
   "outputs": [
    {
     "data": {
      "text/plain": [
       "9313"
      ]
     },
     "execution_count": 146,
     "metadata": {},
     "output_type": "execute_result"
    }
   ],
   "source": [
    "new_file=(''.join(new_text)).split('|')\n",
    "len(new_file)"
   ]
  },
  {
   "cell_type": "markdown",
   "id": "9e43b9ac",
   "metadata": {},
   "source": [
    "#### Добавляем все сведения в DataSeries, где индекс - само предложение, а значение - его длина."
   ]
  },
  {
   "cell_type": "code",
   "execution_count": 155,
   "id": "80961dbc",
   "metadata": {},
   "outputs": [
    {
     "data": {
      "text/plain": [
       "Михаил БулгаковМастер и МаргаритаМосква 1984ЧАСТЬ ПЕРВАЯ...Так кто ж ты, наконец                                                                                                                                                                                                                                80\n",
       " Я  часть той силы,что вечно хочетзла и вечно совершает благо                                                                                                                                                                                                                                                   61\n",
       "Гете                                                                                                                                                                                                                                                                                                             4\n",
       "«Фауст                                                                                                                                                                                                                                                                                                           6\n",
       "Глава 1Никогда не разговаривайте с неизвестнымиОднажды весною, в час небывало жаркого заката, в Москве, на Патриарших прудах, появились два гражданина                                                                                                                                                         150\n",
       "Первый из них, одетый в летнюю серенькую пару, был маленького роста, упитан, лыс, свою приличную шляпу пирожком нес в руке, а на хорошо выбритом лице его помещались сверхъестественных размеров очки в черной роговой оправе                                                                                  221\n",
       "Второй  плечистый, рыжеватый, вихрастый молодой человек в заломленной на затылок клетчатой кепке  был в ковбойке, жеваных белых брюках и в черных тапочках                                                                                                                                                     154\n",
       "Первый был не кто иной, как Михаил Александрович Берлиоз, председатель правления одной из крупнейших московских литературных ассоциаций, сокращенно именуемой МАССОЛИТ, и редактор толстого художественного журнала, а молодой спутник его  поэт Иван Николаевич Понырев, пишущий под псевдонимом Бездомный    299\n",
       "Попав в тень чуть зеленеющих лип, писатели первым долгом бросились к пестро раскрашенной будочке с надписью «Пиво и воды»                                                                                                                                                                                      121\n",
       "Да, следует отметить первую странность этого страшного майского вечера                                                                                                                                                                                                                                          70\n",
       "Не только у будочки, но и во всей аллее, параллельной Малой Бронной улице, не оказалось ни одного человека                                                                                                                                                                                                     106\n",
       "В тот час, когда уж, кажется, и сил не было дышать, когда солнце, раскалив Москву, в сухом тумане валилось куда-то за Садовое кольцо,  никто не пришел под липы, никто не сел на скамейку, пуста была аллея                                                                                                    203\n",
       " Дайте нарзану,  попросил Берлиоз                                                                                                                                                                                                                                                                               33\n",
       " Нарзану нету,  ответила женщина в будочке и почему-то обиделась                                                                                                                                                                                                                                                64\n",
       " Пиво есть                                                                                                                                                                                                                                                                                                      10\n",
       " сиплым голосом осведомился Бездомный                                                                                                                                                                                                                                                                           37\n",
       " Пиво привезут к вечеру,  ответила женщина                                                                                                                                                                                                                                                                      42\n",
       " А что есть                                                                                                                                                                                                                                                                                                     11\n",
       " спросил Берлиоз                                                                                                                                                                                                                                                                                                16\n",
       " Абрикосовая, только теплая,  сказала женщина                                                                                                                                                                                                                                                                   45\n",
       "dtype: int64"
      ]
     },
     "execution_count": 155,
     "metadata": {},
     "output_type": "execute_result"
    }
   ],
   "source": [
    "Sent_Data=pd.Series(list(map(len, new_file)), index=new_file) \n",
    "Sent_Data.to_csv('Sent_Data.csv')\n",
    "Sent_Data.head(20)"
   ]
  }
 ],
 "metadata": {
  "kernelspec": {
   "display_name": "Python 3 (ipykernel)",
   "language": "python",
   "name": "python3"
  },
  "language_info": {
   "codemirror_mode": {
    "name": "ipython",
    "version": 3
   },
   "file_extension": ".py",
   "mimetype": "text/x-python",
   "name": "python",
   "nbconvert_exporter": "python",
   "pygments_lexer": "ipython3",
   "version": "3.9.12"
  }
 },
 "nbformat": 4,
 "nbformat_minor": 5
}
