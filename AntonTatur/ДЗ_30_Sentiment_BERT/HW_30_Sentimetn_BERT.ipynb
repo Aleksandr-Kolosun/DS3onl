{
 "cells": [
  {
   "cell_type": "markdown",
   "id": "50085a84",
   "metadata": {},
   "source": [
    "#### ДЗ_30 - классифкация текста по эмоциональной окраске c использованием BERT\n",
    "#### Татур А.А.\n",
    "##### 13.03.2023\n",
    "##### v.0.1\n",
    "\n",
    "##### Задача: используя сет с набором твитов построить классификатор по эмоциональной окраске с использованием BERT."
   ]
  },
  {
   "cell_type": "code",
   "execution_count": 27,
   "id": "7b539a1c",
   "metadata": {},
   "outputs": [],
   "source": [
    "import numpy as np\n",
    "import pandas as pd\n",
    "import os\n",
    "\n",
    "import re\n",
    "import emoji\n",
    "import string\n",
    "from nltk.corpus import stopwords\n",
    "from nltk.stem import WordNetLemmatizer\n",
    "STOPWORDS  = stopwords.words('english') + ['im']\n",
    "\n",
    "from sklearn.preprocessing import LabelEncoder\n",
    "\n",
    "import gc\n",
    "\n",
    "import tensorflow as tf\n",
    "import tensorflow_hub as hub\n",
    "import tensorflow_text as text\n",
    "\n",
    "from tensorflow.keras.layers import Dense, Input, Dropout, BatchNormalization\n",
    "from tensorflow.keras.losses import CategoricalCrossentropy\n",
    "from tensorflow.keras.models import Model, load_model\n",
    "from tensorflow.keras.optimizers import Adam\n",
    "from tensorflow.keras.utils import to_categorical\n",
    "from tensorflow.keras.callbacks import ModelCheckpoint, ReduceLROnPlateau\n",
    "\n",
    "import matplotlib.pyplot as plt"
   ]
  },
  {
   "cell_type": "code",
   "execution_count": 2,
   "id": "ebfa9385",
   "metadata": {},
   "outputs": [],
   "source": [
    "#### Функция для построения графика обучения на тренировочном и обучающем наборе:\n",
    "def test_val_graph (history,train,val):\n",
    "    plt.plot(history.history[train], label='Точность на обучающем наборе')\n",
    "    plt.plot(history.history[val], label='Точность на проверочном наборе')\n",
    "    plt.xlabel('Цикл обучения')\n",
    "    plt.ylabel('Точность')\n",
    "    plt.legend()\n",
    "    plt.show()\n",
    "    pass;"
   ]
  },
  {
   "cell_type": "code",
   "execution_count": 3,
   "id": "c4ee0d41",
   "metadata": {},
   "outputs": [],
   "source": [
    "#### Функция для очистки текста и лемматизации\n",
    "\n",
    "def cleaner(tweet):\n",
    "    tweet = tweet.lower() # приводим к нижнему регистру\n",
    "    tweet = tweet.replace(\"<unk>\", \"\") #убираем значение <unk>, которое встречается в некоторых строках\n",
    "    tweet = re.sub(r\"(?:\\@|http?\\://|https?\\://|www)\\S+\", \"\", tweet) #убираем ссылки\n",
    "    tweet = re.sub(r'[^\\w\\s]', '', tweet) #убираем знаки препинания\n",
    "    tweet = ''.join (c for c in tweet if c not in string.digits)  #убираем все символы, которые относятся к цифрам\n",
    "    tweet = ' '.join(c for c in tweet.split() if emoji.is_emoji(c)==False\\\n",
    "                     and c not in string.punctuation\\\n",
    "                     and c not in STOPWORDS) #убираем эмодзи, знаки пунктуации и стоп-слова\n",
    "    tweet = tweet.replace(\"#\", \"\").replace(\"_\", \" \").replace(\"pm\",\"\") #убираем решетки, н ижние подчеркивания и обозначния времени\n",
    "    \n",
    "    lemmatizer = WordNetLemmatizer() #лемматизируем слова\n",
    "    one_lemma = [lemmatizer.lemmatize(word) for word in tweet]\n",
    "    tweet=''.join(one_lemma)\n",
    "    \n",
    "    return tweet"
   ]
  },
  {
   "cell_type": "markdown",
   "id": "7563316d",
   "metadata": {},
   "source": [
    "#### 01. Загружаем тренировочный и тестовый датасет"
   ]
  },
  {
   "cell_type": "code",
   "execution_count": 4,
   "id": "391680b2",
   "metadata": {},
   "outputs": [],
   "source": [
    "df_training = pd.read_csv('twitter_training.csv',\n",
    "                          header=None, \n",
    "                          usecols={2,3},\n",
    "                          names=['Sentiment', 'Tweet'])\n",
    "\n",
    "df_test = pd.read_csv('twitter_validation.csv',\n",
    "                            header=None, \n",
    "                            usecols={2,3},\n",
    "                            names=['Sentiment', 'Tweet'])\n",
    "\n",
    "df_training['Tweet']=df_training['Tweet'].astype(str)\n",
    "df_test['Tweet']=df_test['Tweet'].astype(str)"
   ]
  },
  {
   "cell_type": "markdown",
   "id": "34e2465f",
   "metadata": {},
   "source": [
    "#### 02. Проводим очистку датасетов"
   ]
  },
  {
   "cell_type": "code",
   "execution_count": 61,
   "id": "38b86a5d",
   "metadata": {},
   "outputs": [],
   "source": [
    "df_training['cleaned'] = df_training['Tweet'].map(lambda x: cleaner(x))\n",
    "df_test['cleaned'] = df_test['Tweet'].map(lambda x: cleaner(x))"
   ]
  },
  {
   "cell_type": "markdown",
   "id": "b47ff354",
   "metadata": {},
   "source": [
    "#### 03. Кодируем категориальные признаки"
   ]
  },
  {
   "cell_type": "code",
   "execution_count": 62,
   "id": "d475e822",
   "metadata": {},
   "outputs": [],
   "source": [
    "labeles = LabelEncoder()\n",
    "train_labels = to_categorical(labeles.fit_transform(df_training['Sentiment']), num_classes=4)\n",
    "test_labels = to_categorical(labeles.transform(df_test['Sentiment']), num_classes=4)"
   ]
  },
  {
   "cell_type": "markdown",
   "id": "0bb74315",
   "metadata": {},
   "source": [
    "#### 04. Сформируем выборки"
   ]
  },
  {
   "cell_type": "code",
   "execution_count": 63,
   "id": "106d8895",
   "metadata": {},
   "outputs": [],
   "source": [
    "indices = np.random.choice (df_training['cleaned'].shape[0], size = df_training['cleaned'].shape[0], replace=False)\n",
    "X=df_training['cleaned'][indices]\n",
    "y=train_labels[indices]"
   ]
  },
  {
   "cell_type": "code",
   "execution_count": 64,
   "id": "23e6bcfb",
   "metadata": {},
   "outputs": [
    {
     "name": "stderr",
     "output_type": "stream",
     "text": [
      "C:\\Users\\ratua\\AppData\\Local\\Temp\\ipykernel_5616\\3453483829.py:1: FutureWarning: The behavior of `series[i:j]` with an integer-dtype index is deprecated. In a future version, this will be treated as *label-based* indexing, consistent with e.g. `series[i]` lookups. To retain the old behavior, use `series.iloc[i:j]`. To get the future behavior, use `series.loc[i:j]`.\n",
      "  X_train = X[:60000]; X_val=X[60000:]\n"
     ]
    }
   ],
   "source": [
    "X_train = X[:60000]; X_val=X[60000:]\n",
    "y_train = y[:60000]; y_val=y[60000:]"
   ]
  },
  {
   "cell_type": "code",
   "execution_count": 65,
   "id": "e7866f0f",
   "metadata": {},
   "outputs": [],
   "source": [
    "indices = np.random.choice (df_test['cleaned'].shape[0], size = df_test['cleaned'].shape[0], replace=False)\n",
    "X_test = df_test['cleaned'][indices]\n",
    "y_test = test_labels[indices]"
   ]
  },
  {
   "cell_type": "markdown",
   "id": "6bba9021",
   "metadata": {},
   "source": [
    "#### 05. Формируем ссылки на BERT модель и препроцессор"
   ]
  },
  {
   "cell_type": "code",
   "execution_count": 9,
   "id": "487c4d56",
   "metadata": {},
   "outputs": [
    {
     "name": "stdout",
     "output_type": "stream",
     "text": [
      "BERT model selected           : https://tfhub.dev/tensorflow/small_bert/bert_en_uncased_L-4_H-512_A-8/1\n",
      "Preprocess model auto-selected: https://tfhub.dev/tensorflow/bert_en_uncased_preprocess/3\n"
     ]
    }
   ],
   "source": [
    "map_name_to_handle = {\n",
    "    'bert_en_uncased_L-12_H-768_A-12':\n",
    "        'https://tfhub.dev/tensorflow/bert_en_uncased_L-12_H-768_A-12/3',\n",
    "    'bert_en_cased_L-12_H-768_A-12':\n",
    "        'https://tfhub.dev/tensorflow/bert_en_cased_L-12_H-768_A-12/3',\n",
    "    'bert_multi_cased_L-12_H-768_A-12':\n",
    "        'https://tfhub.dev/tensorflow/bert_multi_cased_L-12_H-768_A-12/3',\n",
    "    'small_bert/bert_en_uncased_L-2_H-128_A-2':\n",
    "        'https://tfhub.dev/tensorflow/small_bert/bert_en_uncased_L-2_H-128_A-2/1',\n",
    "    'small_bert/bert_en_uncased_L-2_H-256_A-4':\n",
    "        'https://tfhub.dev/tensorflow/small_bert/bert_en_uncased_L-2_H-256_A-4/1',\n",
    "    'small_bert/bert_en_uncased_L-2_H-512_A-8':\n",
    "        'https://tfhub.dev/tensorflow/small_bert/bert_en_uncased_L-2_H-512_A-8/1',\n",
    "    'small_bert/bert_en_uncased_L-2_H-768_A-12':\n",
    "        'https://tfhub.dev/tensorflow/small_bert/bert_en_uncased_L-2_H-768_A-12/1',\n",
    "    'small_bert/bert_en_uncased_L-4_H-128_A-2':\n",
    "        'https://tfhub.dev/tensorflow/small_bert/bert_en_uncased_L-4_H-128_A-2/1',\n",
    "    'small_bert/bert_en_uncased_L-4_H-256_A-4':\n",
    "        'https://tfhub.dev/tensorflow/small_bert/bert_en_uncased_L-4_H-256_A-4/1',\n",
    "    'small_bert/bert_en_uncased_L-4_H-512_A-8':\n",
    "        'https://tfhub.dev/tensorflow/small_bert/bert_en_uncased_L-4_H-512_A-8/1',\n",
    "    'small_bert/bert_en_uncased_L-4_H-768_A-12':\n",
    "        'https://tfhub.dev/tensorflow/small_bert/bert_en_uncased_L-4_H-768_A-12/1',\n",
    "    'small_bert/bert_en_uncased_L-6_H-128_A-2':\n",
    "        'https://tfhub.dev/tensorflow/small_bert/bert_en_uncased_L-6_H-128_A-2/1',\n",
    "    'small_bert/bert_en_uncased_L-6_H-256_A-4':\n",
    "        'https://tfhub.dev/tensorflow/small_bert/bert_en_uncased_L-6_H-256_A-4/1',\n",
    "    'small_bert/bert_en_uncased_L-6_H-512_A-8':\n",
    "        'https://tfhub.dev/tensorflow/small_bert/bert_en_uncased_L-6_H-512_A-8/1',\n",
    "    'small_bert/bert_en_uncased_L-6_H-768_A-12':\n",
    "        'https://tfhub.dev/tensorflow/small_bert/bert_en_uncased_L-6_H-768_A-12/1',\n",
    "    'small_bert/bert_en_uncased_L-8_H-128_A-2':\n",
    "        'https://tfhub.dev/tensorflow/small_bert/bert_en_uncased_L-8_H-128_A-2/1',\n",
    "    'small_bert/bert_en_uncased_L-8_H-256_A-4':\n",
    "        'https://tfhub.dev/tensorflow/small_bert/bert_en_uncased_L-8_H-256_A-4/1',\n",
    "    'small_bert/bert_en_uncased_L-8_H-512_A-8':\n",
    "        'https://tfhub.dev/tensorflow/small_bert/bert_en_uncased_L-8_H-512_A-8/1',\n",
    "    'small_bert/bert_en_uncased_L-8_H-768_A-12':\n",
    "        'https://tfhub.dev/tensorflow/small_bert/bert_en_uncased_L-8_H-768_A-12/1',\n",
    "    'small_bert/bert_en_uncased_L-10_H-128_A-2':\n",
    "        'https://tfhub.dev/tensorflow/small_bert/bert_en_uncased_L-10_H-128_A-2/1',\n",
    "    'small_bert/bert_en_uncased_L-10_H-256_A-4':\n",
    "        'https://tfhub.dev/tensorflow/small_bert/bert_en_uncased_L-10_H-256_A-4/1',\n",
    "    'small_bert/bert_en_uncased_L-10_H-512_A-8':\n",
    "        'https://tfhub.dev/tensorflow/small_bert/bert_en_uncased_L-10_H-512_A-8/1',\n",
    "    'small_bert/bert_en_uncased_L-10_H-768_A-12':\n",
    "        'https://tfhub.dev/tensorflow/small_bert/bert_en_uncased_L-10_H-768_A-12/1',\n",
    "    'small_bert/bert_en_uncased_L-12_H-128_A-2':\n",
    "        'https://tfhub.dev/tensorflow/small_bert/bert_en_uncased_L-12_H-128_A-2/1',\n",
    "    'small_bert/bert_en_uncased_L-12_H-256_A-4':\n",
    "        'https://tfhub.dev/tensorflow/small_bert/bert_en_uncased_L-12_H-256_A-4/1',\n",
    "    'small_bert/bert_en_uncased_L-12_H-512_A-8':\n",
    "        'https://tfhub.dev/tensorflow/small_bert/bert_en_uncased_L-12_H-512_A-8/1',\n",
    "    'small_bert/bert_en_uncased_L-12_H-768_A-12':\n",
    "        'https://tfhub.dev/tensorflow/small_bert/bert_en_uncased_L-12_H-768_A-12/1',\n",
    "    'albert_en_base':\n",
    "        'https://tfhub.dev/tensorflow/albert_en_base/2',\n",
    "    'electra_small':\n",
    "        'https://tfhub.dev/google/electra_small/2',\n",
    "    'electra_base':\n",
    "        'https://tfhub.dev/google/electra_base/2',\n",
    "    'experts_pubmed':\n",
    "        'https://tfhub.dev/google/experts/bert/pubmed/2',\n",
    "    'experts_wiki_books':\n",
    "        'https://tfhub.dev/google/experts/bert/wiki_books/2',\n",
    "    'talking-heads_base':\n",
    "        'https://tfhub.dev/tensorflow/talkheads_ggelu_bert_en_base/1',\n",
    "}\n",
    "\n",
    "map_model_to_preprocess = {\n",
    "    'bert_en_uncased_L-12_H-768_A-12':\n",
    "        'https://tfhub.dev/tensorflow/bert_en_uncased_preprocess/3',\n",
    "    'bert_en_cased_L-12_H-768_A-12':\n",
    "        'https://tfhub.dev/tensorflow/bert_en_cased_preprocess/3',\n",
    "    'small_bert/bert_en_uncased_L-2_H-128_A-2':\n",
    "        'https://tfhub.dev/tensorflow/bert_en_uncased_preprocess/3',\n",
    "    'small_bert/bert_en_uncased_L-2_H-256_A-4':\n",
    "        'https://tfhub.dev/tensorflow/bert_en_uncased_preprocess/3',\n",
    "    'small_bert/bert_en_uncased_L-2_H-512_A-8':\n",
    "        'https://tfhub.dev/tensorflow/bert_en_uncased_preprocess/3',\n",
    "    'small_bert/bert_en_uncased_L-2_H-768_A-12':\n",
    "        'https://tfhub.dev/tensorflow/bert_en_uncased_preprocess/3',\n",
    "    'small_bert/bert_en_uncased_L-4_H-128_A-2':\n",
    "        'https://tfhub.dev/tensorflow/bert_en_uncased_preprocess/3',\n",
    "    'small_bert/bert_en_uncased_L-4_H-256_A-4':\n",
    "        'https://tfhub.dev/tensorflow/bert_en_uncased_preprocess/3',\n",
    "    'small_bert/bert_en_uncased_L-4_H-512_A-8':\n",
    "        'https://tfhub.dev/tensorflow/bert_en_uncased_preprocess/3',\n",
    "    'small_bert/bert_en_uncased_L-4_H-768_A-12':\n",
    "        'https://tfhub.dev/tensorflow/bert_en_uncased_preprocess/3',\n",
    "    'small_bert/bert_en_uncased_L-6_H-128_A-2':\n",
    "        'https://tfhub.dev/tensorflow/bert_en_uncased_preprocess/3',\n",
    "    'small_bert/bert_en_uncased_L-6_H-256_A-4':\n",
    "        'https://tfhub.dev/tensorflow/bert_en_uncased_preprocess/3',\n",
    "    'small_bert/bert_en_uncased_L-6_H-512_A-8':\n",
    "        'https://tfhub.dev/tensorflow/bert_en_uncased_preprocess/3',\n",
    "    'small_bert/bert_en_uncased_L-6_H-768_A-12':\n",
    "        'https://tfhub.dev/tensorflow/bert_en_uncased_preprocess/3',\n",
    "    'small_bert/bert_en_uncased_L-8_H-128_A-2':\n",
    "        'https://tfhub.dev/tensorflow/bert_en_uncased_preprocess/3',\n",
    "    'small_bert/bert_en_uncased_L-8_H-256_A-4':\n",
    "        'https://tfhub.dev/tensorflow/bert_en_uncased_preprocess/3',\n",
    "    'small_bert/bert_en_uncased_L-8_H-512_A-8':\n",
    "        'https://tfhub.dev/tensorflow/bert_en_uncased_preprocess/3',\n",
    "    'small_bert/bert_en_uncased_L-8_H-768_A-12':\n",
    "        'https://tfhub.dev/tensorflow/bert_en_uncased_preprocess/3',\n",
    "    'small_bert/bert_en_uncased_L-10_H-128_A-2':\n",
    "        'https://tfhub.dev/tensorflow/bert_en_uncased_preprocess/3',\n",
    "    'small_bert/bert_en_uncased_L-10_H-256_A-4':\n",
    "        'https://tfhub.dev/tensorflow/bert_en_uncased_preprocess/3',\n",
    "    'small_bert/bert_en_uncased_L-10_H-512_A-8':\n",
    "        'https://tfhub.dev/tensorflow/bert_en_uncased_preprocess/3',\n",
    "    'small_bert/bert_en_uncased_L-10_H-768_A-12':\n",
    "        'https://tfhub.dev/tensorflow/bert_en_uncased_preprocess/3',\n",
    "    'small_bert/bert_en_uncased_L-12_H-128_A-2':\n",
    "        'https://tfhub.dev/tensorflow/bert_en_uncased_preprocess/3',\n",
    "    'small_bert/bert_en_uncased_L-12_H-256_A-4':\n",
    "        'https://tfhub.dev/tensorflow/bert_en_uncased_preprocess/3',\n",
    "    'small_bert/bert_en_uncased_L-12_H-512_A-8':\n",
    "        'https://tfhub.dev/tensorflow/bert_en_uncased_preprocess/3',\n",
    "    'small_bert/bert_en_uncased_L-12_H-768_A-12':\n",
    "        'https://tfhub.dev/tensorflow/bert_en_uncased_preprocess/3',\n",
    "    'bert_multi_cased_L-12_H-768_A-12':\n",
    "        'https://tfhub.dev/tensorflow/bert_multi_cased_preprocess/3',\n",
    "    'albert_en_base':\n",
    "        'https://tfhub.dev/tensorflow/albert_en_preprocess/3',\n",
    "    'electra_small':\n",
    "        'https://tfhub.dev/tensorflow/bert_en_uncased_preprocess/3',\n",
    "    'electra_base':\n",
    "        'https://tfhub.dev/tensorflow/bert_en_uncased_preprocess/3',\n",
    "    'experts_pubmed':\n",
    "        'https://tfhub.dev/tensorflow/bert_en_uncased_preprocess/3',\n",
    "    'experts_wiki_books':\n",
    "        'https://tfhub.dev/tensorflow/bert_en_uncased_preprocess/3',\n",
    "    'talking-heads_base':\n",
    "        'https://tfhub.dev/tensorflow/bert_en_uncased_preprocess/3',\n",
    "}\n",
    "\n",
    "bert_model_name = 'small_bert/bert_en_uncased_L-4_H-512_A-8' \n",
    "\n",
    "tfhub_handle_encoder = map_name_to_handle[bert_model_name]\n",
    "tfhub_handle_preprocess = map_model_to_preprocess[bert_model_name]\n",
    "\n",
    "print(f'BERT model selected           : {tfhub_handle_encoder}')\n",
    "print(f'Preprocess model auto-selected: {tfhub_handle_preprocess}')"
   ]
  },
  {
   "cell_type": "markdown",
   "id": "6254d993",
   "metadata": {},
   "source": [
    "#### 06. Строим модель BERT"
   ]
  },
  {
   "cell_type": "code",
   "execution_count": 87,
   "id": "6970e71a",
   "metadata": {},
   "outputs": [],
   "source": [
    "bert_preprocess_model = hub.KerasLayer(tfhub_handle_preprocess)\n",
    "bert_model = hub.KerasLayer(tfhub_handle_encoder)"
   ]
  },
  {
   "cell_type": "code",
   "execution_count": 88,
   "id": "72137d54",
   "metadata": {},
   "outputs": [],
   "source": [
    "text_input = tf.keras.layers.Input(shape=(), dtype=tf.string, name='text')\n",
    "\n",
    "preprocessing_layer = hub.KerasLayer(tfhub_handle_preprocess, name='preprocessing')\n",
    "encoder_inputs = preprocessing_layer(text_input)\n",
    "encoder = hub.KerasLayer(tfhub_handle_encoder, trainable=True, name='BERT_encoder')\n",
    "outputs = encoder(encoder_inputs)\n",
    "\n",
    "net = outputs['pooled_output']\n",
    "\n",
    "net = tf.keras.layers.Dropout(0.1)(net)\n",
    "net = tf.keras.layers.Dense(4, activation=None, name='classifier')(net)\n",
    "model = tf.keras.Model(text_input, net)"
   ]
  },
  {
   "cell_type": "code",
   "execution_count": 89,
   "id": "f6ea39d0",
   "metadata": {},
   "outputs": [],
   "source": [
    "model.compile(optimizer=Adam(learning_rate=0.00005), \n",
    "              loss=CategoricalCrossentropy(from_logits=True), \n",
    "              metrics=['accuracy'])"
   ]
  },
  {
   "cell_type": "code",
   "execution_count": 90,
   "id": "f5127ed7",
   "metadata": {},
   "outputs": [
    {
     "name": "stdout",
     "output_type": "stream",
     "text": [
      "Model: \"model_11\"\n",
      "__________________________________________________________________________________________________\n",
      " Layer (type)                   Output Shape         Param #     Connected to                     \n",
      "==================================================================================================\n",
      " text (InputLayer)              [(None,)]            0           []                               \n",
      "                                                                                                  \n",
      " preprocessing (KerasLayer)     {'input_type_ids':   0           ['text[0][0]']                   \n",
      "                                (None, 128),                                                      \n",
      "                                 'input_mask': (Non                                               \n",
      "                                e, 128),                                                          \n",
      "                                 'input_word_ids':                                                \n",
      "                                (None, 128)}                                                      \n",
      "                                                                                                  \n",
      " BERT_encoder (KerasLayer)      {'sequence_output':  28763649    ['preprocessing[0][0]',          \n",
      "                                 (None, 128, 512),                'preprocessing[0][1]',          \n",
      "                                 'default': (None,                'preprocessing[0][2]']          \n",
      "                                512),                                                             \n",
      "                                 'encoder_outputs':                                               \n",
      "                                 [(None, 128, 512),                                               \n",
      "                                 (None, 128, 512),                                                \n",
      "                                 (None, 128, 512),                                                \n",
      "                                 (None, 128, 512)],                                               \n",
      "                                 'pooled_output': (                                               \n",
      "                                None, 512)}                                                       \n",
      "                                                                                                  \n",
      " dropout_7 (Dropout)            (None, 512)          0           ['BERT_encoder[0][5]']           \n",
      "                                                                                                  \n",
      " classifier (Dense)             (None, 4)            2052        ['dropout_7[0][0]']              \n",
      "                                                                                                  \n",
      "==================================================================================================\n",
      "Total params: 28,765,701\n",
      "Trainable params: 28,765,700\n",
      "Non-trainable params: 1\n",
      "__________________________________________________________________________________________________\n"
     ]
    }
   ],
   "source": [
    "model.summary()"
   ]
  },
  {
   "cell_type": "code",
   "execution_count": 91,
   "id": "6b1302da",
   "metadata": {},
   "outputs": [],
   "source": [
    "checkpoint_cb_conv = ModelCheckpoint(\"model.h5\", \n",
    "                                     monitor = 'val_accuracy',\n",
    "                                     save_best_only=True)\n",
    "\n",
    "lr_scheduler = ReduceLROnPlateau(factor=0.2, patience=2)"
   ]
  },
  {
   "cell_type": "code",
   "execution_count": 92,
   "id": "a7d4715e",
   "metadata": {},
   "outputs": [
    {
     "name": "stdout",
     "output_type": "stream",
     "text": [
      "Epoch 1/5\n",
      "5000/5000 [==============================] - 565s 112ms/step - loss: 0.9781 - accuracy: 0.6007 - val_loss: 0.7460 - val_accuracy: 0.7136 - lr: 5.0000e-05\n",
      "Epoch 2/5\n",
      "5000/5000 [==============================] - 573s 115ms/step - loss: 0.5200 - accuracy: 0.8062 - val_loss: 0.4655 - val_accuracy: 0.8317 - lr: 5.0000e-05\n",
      "Epoch 3/5\n",
      "5000/5000 [==============================] - 579s 116ms/step - loss: 0.3022 - accuracy: 0.8849 - val_loss: 0.3778 - val_accuracy: 0.8692 - lr: 5.0000e-05\n",
      "Epoch 4/5\n",
      "5000/5000 [==============================] - 573s 115ms/step - loss: 0.2162 - accuracy: 0.9166 - val_loss: 0.4059 - val_accuracy: 0.8760 - lr: 5.0000e-05\n",
      "Epoch 5/5\n",
      "5000/5000 [==============================] - 541s 108ms/step - loss: 0.1766 - accuracy: 0.9297 - val_loss: 0.3910 - val_accuracy: 0.8815 - lr: 5.0000e-05\n"
     ]
    },
    {
     "data": {
      "text/plain": [
       "<keras.callbacks.History at 0x1bdbfd31250>"
      ]
     },
     "execution_count": 92,
     "metadata": {},
     "output_type": "execute_result"
    }
   ],
   "source": [
    "model.fit(X_train, y_train, \n",
    "          epochs=5, \n",
    "          batch_size = 12, \n",
    "          validation_data = (X_val, y_val),\n",
    "          callbacks=[checkpoint_cb_conv,lr_scheduler])"
   ]
  },
  {
   "cell_type": "code",
   "execution_count": 93,
   "id": "085d19fe",
   "metadata": {},
   "outputs": [
    {
     "data": {
      "image/png": "[encoded data removed]",
      "text/plain": [
       "<Figure size 640x480 with 1 Axes>"
      ]
     },
     "metadata": {},
     "output_type": "display_data"
    }
   ],
   "source": [
    "test_val_graph(model.history, 'accuracy', 'val_accuracy')"
   ]
  },
  {
   "cell_type": "code",
   "execution_count": null,
   "id": "0f6a7660",
   "metadata": {},
   "outputs": [],
   "source": [
    "#del model\n",
    "#gc.collect()"
   ]
  },
  {
   "cell_type": "markdown",
   "id": "f8a0e5e9",
   "metadata": {},
   "source": [
    "#### 07. Оценка эффективности модели на тестовом наборе"
   ]
  },
  {
   "cell_type": "code",
   "execution_count": null,
   "id": "88068b27",
   "metadata": {},
   "outputs": [],
   "source": [
    "#model = load_model(\"model.h5\")"
   ]
  },
  {
   "cell_type": "code",
   "execution_count": 94,
   "id": "9d974839",
   "metadata": {},
   "outputs": [
    {
     "name": "stdout",
     "output_type": "stream",
     "text": [
      "32/32 [==============================] - 5s 134ms/step - loss: 0.1663 - accuracy: 0.9520\n"
     ]
    },
    {
     "data": {
      "text/plain": [
       "[0.16626930236816406, 0.9520000219345093]"
      ]
     },
     "execution_count": 94,
     "metadata": {},
     "output_type": "execute_result"
    }
   ],
   "source": [
    "model.evaluate(X_test, y_test)"
   ]
  },
  {
   "cell_type": "markdown",
   "id": "61011074",
   "metadata": {},
   "source": [
    "#### 08. Создадим функцию для проверки модели на собственных предложениях"
   ]
  },
  {
   "cell_type": "code",
   "execution_count": 97,
   "id": "2a6597c9",
   "metadata": {},
   "outputs": [],
   "source": [
    "def text_checker (text):\n",
    "    t_cleaned = cleaner (text)\n",
    "    res = model.predict([t_cleaned])\n",
    "    print ('Окраска текста - ', labeles.classes_[np.argmax(res)])"
   ]
  },
  {
   "cell_type": "code",
   "execution_count": 98,
   "id": "14f565d6",
   "metadata": {},
   "outputs": [
    {
     "name": "stdout",
     "output_type": "stream",
     "text": [
      "1/1 [==============================] - 1s 641ms/step\n",
      "Окраска текста -  Negative\n"
     ]
    }
   ],
   "source": [
    "text_checker('this idea is absolutely bullshit')"
   ]
  },
  {
   "cell_type": "code",
   "execution_count": 99,
   "id": "483a5a0d",
   "metadata": {},
   "outputs": [
    {
     "name": "stdout",
     "output_type": "stream",
     "text": [
      "1/1 [==============================] - 0s 63ms/step\n",
      "Окраска текста -  Positive\n"
     ]
    }
   ],
   "source": [
    "text_checker('this idea is absolutely brilliant')"
   ]
  },
  {
   "cell_type": "code",
   "execution_count": 100,
   "id": "4f701bf7",
   "metadata": {},
   "outputs": [
    {
     "name": "stdout",
     "output_type": "stream",
     "text": [
      "1/1 [==============================] - 0s 54ms/step\n",
      "Окраска текста -  Positive\n"
     ]
    }
   ],
   "source": [
    "text_checker('how could it for god sake be')"
   ]
  },
  {
   "cell_type": "code",
   "execution_count": 101,
   "id": "30df0880",
   "metadata": {},
   "outputs": [
    {
     "name": "stdout",
     "output_type": "stream",
     "text": [
      "1/1 [==============================] - 0s 46ms/step\n",
      "Окраска текста -  Negative\n"
     ]
    }
   ],
   "source": [
    "text_checker(\"i don't think this is a good idea\")"
   ]
  },
  {
   "cell_type": "code",
   "execution_count": 102,
   "id": "5a5d4139",
   "metadata": {},
   "outputs": [
    {
     "name": "stdout",
     "output_type": "stream",
     "text": [
      "1/1 [==============================] - 0s 48ms/step\n",
      "Окраска текста -  Negative\n"
     ]
    }
   ],
   "source": [
    "text_checker(\"i think this is a bad idea\")"
   ]
  },
  {
   "cell_type": "code",
   "execution_count": 103,
   "id": "d448237a",
   "metadata": {},
   "outputs": [
    {
     "name": "stdout",
     "output_type": "stream",
     "text": [
      "1/1 [==============================] - 0s 50ms/step\n",
      "Окраска текста -  Negative\n"
     ]
    }
   ],
   "source": [
    "text_checker(\"knock the door from the other side\")"
   ]
  },
  {
   "cell_type": "code",
   "execution_count": 104,
   "id": "61941e6f",
   "metadata": {},
   "outputs": [
    {
     "name": "stdout",
     "output_type": "stream",
     "text": [
      "1/1 [==============================] - 0s 46ms/step\n",
      "Окраска текста -  Negative\n"
     ]
    }
   ],
   "source": [
    "text_checker(\"fuck off\")"
   ]
  },
  {
   "cell_type": "code",
   "execution_count": 105,
   "id": "36e93265",
   "metadata": {},
   "outputs": [
    {
     "name": "stdout",
     "output_type": "stream",
     "text": [
      "1/1 [==============================] - 0s 62ms/step\n",
      "Окраска текста -  Negative\n"
     ]
    }
   ],
   "source": [
    "text_checker(\"knock yourself out\")"
   ]
  },
  {
   "cell_type": "code",
   "execution_count": 106,
   "id": "e5ebe410",
   "metadata": {},
   "outputs": [
    {
     "name": "stdout",
     "output_type": "stream",
     "text": [
      "1/1 [==============================] - 0s 65ms/step\n",
      "Окраска текста -  Neutral\n"
     ]
    }
   ],
   "source": [
    "text_checker(\"come out\")"
   ]
  },
  {
   "cell_type": "code",
   "execution_count": 107,
   "id": "274e2f78",
   "metadata": {},
   "outputs": [
    {
     "name": "stdout",
     "output_type": "stream",
     "text": [
      "1/1 [==============================] - 0s 68ms/step\n",
      "Окраска текста -  Neutral\n"
     ]
    }
   ],
   "source": [
    "text_checker(\"go on\")"
   ]
  },
  {
   "cell_type": "code",
   "execution_count": 108,
   "id": "870500b2",
   "metadata": {},
   "outputs": [
    {
     "name": "stdout",
     "output_type": "stream",
     "text": [
      "1/1 [==============================] - 0s 53ms/step\n",
      "Окраска текста -  Negative\n"
     ]
    }
   ],
   "source": [
    "text_checker(\"what ever you say\")"
   ]
  }
 ],
 "metadata": {
  "kernelspec": {
   "display_name": "Python 3 (ipykernel)",
   "language": "python",
   "name": "python3"
  },
  "language_info": {
   "codemirror_mode": {
    "name": "ipython",
    "version": 3
   },
   "file_extension": ".py",
   "mimetype": "text/x-python",
   "name": "python",
   "nbconvert_exporter": "python",
   "pygments_lexer": "ipython3",
   "version": "3.9.13"
  }
 },
 "nbformat": 4,
 "nbformat_minor": 5
}
