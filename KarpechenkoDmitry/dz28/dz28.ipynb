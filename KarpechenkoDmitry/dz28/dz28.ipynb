{
 "cells": [
  {
   "cell_type": "code",
   "execution_count": 1,
   "id": "16cfd5c5",
   "metadata": {},
   "outputs": [],
   "source": [
    "import pandas as pd\n",
    "from matplotlib import pyplot as plt\n",
    "import numpy as np\n",
    "from keras.utils import to_categorical\n",
    "from keras.preprocessing.text import Tokenizer\n",
    "from keras.utils import pad_sequences\n",
    "from keras import models\n",
    "from keras import Sequential\n",
    "from keras import layers\n",
    "from keras.callbacks import ModelCheckpoint\n",
    "from keras import optimizers\n",
    "from keras.metrics import AUC\n",
    "from keras.regularizers import L1"
   ]
  },
  {
   "cell_type": "code",
   "execution_count": 2,
   "id": "ff4e4ce1",
   "metadata": {},
   "outputs": [],
   "source": [
    "colnames=['ID', 'Social network', 'Sentiment', 'Text'] "
   ]
  },
  {
   "cell_type": "code",
   "execution_count": 3,
   "id": "62247c99",
   "metadata": {},
   "outputs": [],
   "source": [
    "df_train = pd.read_csv('twitter_training.csv', names=colnames, header=None)\n",
    "df_val = pd.read_csv('twitter_validation.csv', names=colnames, header=None)"
   ]
  },
  {
   "cell_type": "code",
   "execution_count": 4,
   "id": "4b911634",
   "metadata": {},
   "outputs": [
    {
     "data": {
      "text/html": [
       "<div>\n",
       "<style scoped>\n",
       "    .dataframe tbody tr th:only-of-type {\n",
       "        vertical-align: middle;\n",
       "    }\n",
       "\n",
       "    .dataframe tbody tr th {\n",
       "        vertical-align: top;\n",
       "    }\n",
       "\n",
       "    .dataframe thead th {\n",
       "        text-align: right;\n",
       "    }\n",
       "</style>\n",
       "<table border=\"1\" class=\"dataframe\">\n",
       "  <thead>\n",
       "    <tr style=\"text-align: right;\">\n",
       "      <th></th>\n",
       "      <th>ID</th>\n",
       "      <th>Social network</th>\n",
       "      <th>Sentiment</th>\n",
       "      <th>Text</th>\n",
       "    </tr>\n",
       "  </thead>\n",
       "  <tbody>\n",
       "    <tr>\n",
       "      <th>0</th>\n",
       "      <td>2401</td>\n",
       "      <td>Borderlands</td>\n",
       "      <td>Positive</td>\n",
       "      <td>im getting on borderlands and i will murder yo...</td>\n",
       "    </tr>\n",
       "    <tr>\n",
       "      <th>1</th>\n",
       "      <td>2401</td>\n",
       "      <td>Borderlands</td>\n",
       "      <td>Positive</td>\n",
       "      <td>I am coming to the borders and I will kill you...</td>\n",
       "    </tr>\n",
       "    <tr>\n",
       "      <th>2</th>\n",
       "      <td>2401</td>\n",
       "      <td>Borderlands</td>\n",
       "      <td>Positive</td>\n",
       "      <td>im getting on borderlands and i will kill you ...</td>\n",
       "    </tr>\n",
       "    <tr>\n",
       "      <th>3</th>\n",
       "      <td>2401</td>\n",
       "      <td>Borderlands</td>\n",
       "      <td>Positive</td>\n",
       "      <td>im coming on borderlands and i will murder you...</td>\n",
       "    </tr>\n",
       "    <tr>\n",
       "      <th>4</th>\n",
       "      <td>2401</td>\n",
       "      <td>Borderlands</td>\n",
       "      <td>Positive</td>\n",
       "      <td>im getting on borderlands 2 and i will murder ...</td>\n",
       "    </tr>\n",
       "  </tbody>\n",
       "</table>\n",
       "</div>"
      ],
      "text/plain": [
       "     ID Social network Sentiment  \\\n",
       "0  2401    Borderlands  Positive   \n",
       "1  2401    Borderlands  Positive   \n",
       "2  2401    Borderlands  Positive   \n",
       "3  2401    Borderlands  Positive   \n",
       "4  2401    Borderlands  Positive   \n",
       "\n",
       "                                                Text  \n",
       "0  im getting on borderlands and i will murder yo...  \n",
       "1  I am coming to the borders and I will kill you...  \n",
       "2  im getting on borderlands and i will kill you ...  \n",
       "3  im coming on borderlands and i will murder you...  \n",
       "4  im getting on borderlands 2 and i will murder ...  "
      ]
     },
     "execution_count": 4,
     "metadata": {},
     "output_type": "execute_result"
    }
   ],
   "source": [
    "df_train.head(5)"
   ]
  },
  {
   "cell_type": "code",
   "execution_count": 5,
   "id": "7fb4697a",
   "metadata": {},
   "outputs": [
    {
     "name": "stdout",
     "output_type": "stream",
     "text": [
      "<class 'pandas.core.frame.DataFrame'>\n",
      "RangeIndex: 74682 entries, 0 to 74681\n",
      "Data columns (total 4 columns):\n",
      " #   Column          Non-Null Count  Dtype \n",
      "---  ------          --------------  ----- \n",
      " 0   ID              74682 non-null  int64 \n",
      " 1   Social network  74682 non-null  object\n",
      " 2   Sentiment       74682 non-null  object\n",
      " 3   Text            73996 non-null  object\n",
      "dtypes: int64(1), object(3)\n",
      "memory usage: 2.3+ MB\n"
     ]
    }
   ],
   "source": [
    "df_train.info()"
   ]
  },
  {
   "cell_type": "code",
   "execution_count": 6,
   "id": "fcf6809a",
   "metadata": {},
   "outputs": [
    {
     "name": "stdout",
     "output_type": "stream",
     "text": [
      "<class 'pandas.core.frame.DataFrame'>\n",
      "RangeIndex: 1000 entries, 0 to 999\n",
      "Data columns (total 4 columns):\n",
      " #   Column          Non-Null Count  Dtype \n",
      "---  ------          --------------  ----- \n",
      " 0   ID              1000 non-null   int64 \n",
      " 1   Social network  1000 non-null   object\n",
      " 2   Sentiment       1000 non-null   object\n",
      " 3   Text            1000 non-null   object\n",
      "dtypes: int64(1), object(3)\n",
      "memory usage: 31.4+ KB\n"
     ]
    }
   ],
   "source": [
    "df_val.info()"
   ]
  },
  {
   "cell_type": "markdown",
   "id": "7f7be3ce",
   "metadata": {},
   "source": [
    "Очистим пустые значения"
   ]
  },
  {
   "cell_type": "code",
   "execution_count": 7,
   "id": "4d0bc095",
   "metadata": {},
   "outputs": [
    {
     "data": {
      "text/plain": [
       "ID                  0\n",
       "Social network      0\n",
       "Sentiment           0\n",
       "Text              686\n",
       "dtype: int64"
      ]
     },
     "execution_count": 7,
     "metadata": {},
     "output_type": "execute_result"
    }
   ],
   "source": [
    "df_train.isna().sum()"
   ]
  },
  {
   "cell_type": "code",
   "execution_count": 8,
   "id": "3d4ea794",
   "metadata": {},
   "outputs": [],
   "source": [
    "df_train = df_train.replace(to_replace='None', value=np.nan).dropna()"
   ]
  },
  {
   "cell_type": "code",
   "execution_count": 9,
   "id": "c8604976",
   "metadata": {},
   "outputs": [
    {
     "data": {
      "text/plain": [
       "ID                0\n",
       "Social network    0\n",
       "Sentiment         0\n",
       "Text              0\n",
       "dtype: int64"
      ]
     },
     "execution_count": 9,
     "metadata": {},
     "output_type": "execute_result"
    }
   ],
   "source": [
    "df_train.isna().sum()"
   ]
  },
  {
   "cell_type": "code",
   "execution_count": 10,
   "id": "ab3c31c0",
   "metadata": {},
   "outputs": [
    {
     "data": {
      "text/plain": [
       "ID                0\n",
       "Social network    0\n",
       "Sentiment         0\n",
       "Text              0\n",
       "dtype: int64"
      ]
     },
     "execution_count": 10,
     "metadata": {},
     "output_type": "execute_result"
    }
   ],
   "source": [
    "df_val.isna().sum()"
   ]
  },
  {
   "cell_type": "code",
   "execution_count": 11,
   "id": "4479ec0e",
   "metadata": {},
   "outputs": [
    {
     "data": {
      "image/png": "[encoded data removed]",
      "text/plain": [
       "<Figure size 640x480 with 1 Axes>"
      ]
     },
     "metadata": {},
     "output_type": "display_data"
    },
    {
     "data": {
      "image/png": "[encoded data removed]",
      "text/plain": [
       "<Figure size 640x480 with 1 Axes>"
      ]
     },
     "metadata": {},
     "output_type": "display_data"
    }
   ],
   "source": [
    "plt.hist(df_train['Sentiment'])\n",
    "plt.title(\"Train categories\")\n",
    "plt.show()\n",
    "\n",
    "plt.hist(df_val['Sentiment'])\n",
    "plt.title(\"Validation categories\")\n",
    "plt.show()"
   ]
  },
  {
   "cell_type": "code",
   "execution_count": 12,
   "id": "bf2ed182",
   "metadata": {},
   "outputs": [],
   "source": [
    "import spacy\n",
    "from spacy.lang.en.stop_words import STOP_WORDS\n",
    "nlp = spacy.load(\"en_core_web_sm\")"
   ]
  },
  {
   "cell_type": "code",
   "execution_count": 13,
   "id": "632ae258",
   "metadata": {},
   "outputs": [],
   "source": [
    "# Дополнительные стоп слова\n",
    "additionalStopWords=set((r'\\n', 'www','http','@'));"
   ]
  },
  {
   "cell_type": "code",
   "execution_count": 14,
   "id": "6fb90ffe",
   "metadata": {},
   "outputs": [],
   "source": [
    "import re\n",
    "import string"
   ]
  },
  {
   "cell_type": "code",
   "execution_count": 15,
   "id": "8d29e190",
   "metadata": {},
   "outputs": [],
   "source": [
    "def clean_text(text):\n",
    "   # удаляем числа\n",
    "    text = re.sub(r\"[^a-zA-Z]\", \" \", text)\n",
    "    \n",
    "   #заменяем на леммы и приводим к нижнему регистру \n",
    "    tokenSource = nlp(text)\n",
    "    tokens = [word.lemma_.lower() for word in tokenSource]\n",
    "    \n",
    "    #удаляем пунктуацию\n",
    "    tokens = [word for word in tokens\n",
    "              if word not in string.punctuation]\n",
    "    #убираем стоп-слова\n",
    "    tokens = [word for word in tokens\n",
    "              if word not in STOP_WORDS\n",
    "              and word not in additionalStopWords]\n",
    "    \n",
    "    tokens = [word for word in tokens\n",
    "              if len(word)>2]\n",
    "    \n",
    "    return (\" \".join(tokens))"
   ]
  },
  {
   "cell_type": "code",
   "execution_count": 16,
   "id": "993332b1",
   "metadata": {},
   "outputs": [],
   "source": [
    "df_train['Text'] = df_train['Text'].apply(lambda x:clean_text(x))"
   ]
  },
  {
   "cell_type": "code",
   "execution_count": 17,
   "id": "3c899027",
   "metadata": {},
   "outputs": [
    {
     "data": {
      "text/html": [
       "<div>\n",
       "<style scoped>\n",
       "    .dataframe tbody tr th:only-of-type {\n",
       "        vertical-align: middle;\n",
       "    }\n",
       "\n",
       "    .dataframe tbody tr th {\n",
       "        vertical-align: top;\n",
       "    }\n",
       "\n",
       "    .dataframe thead th {\n",
       "        text-align: right;\n",
       "    }\n",
       "</style>\n",
       "<table border=\"1\" class=\"dataframe\">\n",
       "  <thead>\n",
       "    <tr style=\"text-align: right;\">\n",
       "      <th></th>\n",
       "      <th>ID</th>\n",
       "      <th>Social network</th>\n",
       "      <th>Sentiment</th>\n",
       "      <th>Text</th>\n",
       "    </tr>\n",
       "  </thead>\n",
       "  <tbody>\n",
       "    <tr>\n",
       "      <th>0</th>\n",
       "      <td>2401</td>\n",
       "      <td>Borderlands</td>\n",
       "      <td>Positive</td>\n",
       "      <td>borderland murder</td>\n",
       "    </tr>\n",
       "    <tr>\n",
       "      <th>1</th>\n",
       "      <td>2401</td>\n",
       "      <td>Borderlands</td>\n",
       "      <td>Positive</td>\n",
       "      <td>come border kill</td>\n",
       "    </tr>\n",
       "    <tr>\n",
       "      <th>2</th>\n",
       "      <td>2401</td>\n",
       "      <td>Borderlands</td>\n",
       "      <td>Positive</td>\n",
       "      <td>borderland kill</td>\n",
       "    </tr>\n",
       "    <tr>\n",
       "      <th>3</th>\n",
       "      <td>2401</td>\n",
       "      <td>Borderlands</td>\n",
       "      <td>Positive</td>\n",
       "      <td>come borderland murder</td>\n",
       "    </tr>\n",
       "    <tr>\n",
       "      <th>4</th>\n",
       "      <td>2401</td>\n",
       "      <td>Borderlands</td>\n",
       "      <td>Positive</td>\n",
       "      <td>borderland murder</td>\n",
       "    </tr>\n",
       "  </tbody>\n",
       "</table>\n",
       "</div>"
      ],
      "text/plain": [
       "     ID Social network Sentiment                    Text\n",
       "0  2401    Borderlands  Positive       borderland murder\n",
       "1  2401    Borderlands  Positive        come border kill\n",
       "2  2401    Borderlands  Positive         borderland kill\n",
       "3  2401    Borderlands  Positive  come borderland murder\n",
       "4  2401    Borderlands  Positive       borderland murder"
      ]
     },
     "execution_count": 17,
     "metadata": {},
     "output_type": "execute_result"
    }
   ],
   "source": [
    "df_train.head(5)"
   ]
  },
  {
   "cell_type": "code",
   "execution_count": 18,
   "id": "da70d1a6",
   "metadata": {},
   "outputs": [],
   "source": [
    "df_val['Text'] = df_val['Text'].apply(lambda x:clean_text(x))"
   ]
  },
  {
   "cell_type": "code",
   "execution_count": 19,
   "id": "a729d85b",
   "metadata": {},
   "outputs": [
    {
     "data": {
      "text/html": [
       "<div>\n",
       "<style scoped>\n",
       "    .dataframe tbody tr th:only-of-type {\n",
       "        vertical-align: middle;\n",
       "    }\n",
       "\n",
       "    .dataframe tbody tr th {\n",
       "        vertical-align: top;\n",
       "    }\n",
       "\n",
       "    .dataframe thead th {\n",
       "        text-align: right;\n",
       "    }\n",
       "</style>\n",
       "<table border=\"1\" class=\"dataframe\">\n",
       "  <thead>\n",
       "    <tr style=\"text-align: right;\">\n",
       "      <th></th>\n",
       "      <th>ID</th>\n",
       "      <th>Social network</th>\n",
       "      <th>Sentiment</th>\n",
       "      <th>Text</th>\n",
       "    </tr>\n",
       "  </thead>\n",
       "  <tbody>\n",
       "    <tr>\n",
       "      <th>0</th>\n",
       "      <td>3364</td>\n",
       "      <td>Facebook</td>\n",
       "      <td>Irrelevant</td>\n",
       "      <td>mention facebook struggle motivation run day t...</td>\n",
       "    </tr>\n",
       "    <tr>\n",
       "      <th>1</th>\n",
       "      <td>352</td>\n",
       "      <td>Amazon</td>\n",
       "      <td>Neutral</td>\n",
       "      <td>bbc news amazon boss jeff bezos reject claim c...</td>\n",
       "    </tr>\n",
       "    <tr>\n",
       "      <th>2</th>\n",
       "      <td>8312</td>\n",
       "      <td>Microsoft</td>\n",
       "      <td>Negative</td>\n",
       "      <td>microsoft pay word function poorly samsungus c...</td>\n",
       "    </tr>\n",
       "    <tr>\n",
       "      <th>3</th>\n",
       "      <td>4371</td>\n",
       "      <td>CS-GO</td>\n",
       "      <td>Negative</td>\n",
       "      <td>csgo matchmaking closet hack truly awful game</td>\n",
       "    </tr>\n",
       "    <tr>\n",
       "      <th>4</th>\n",
       "      <td>4433</td>\n",
       "      <td>Google</td>\n",
       "      <td>Neutral</td>\n",
       "      <td>president slap americans face commit unlawful ...</td>\n",
       "    </tr>\n",
       "    <tr>\n",
       "      <th>5</th>\n",
       "      <td>6273</td>\n",
       "      <td>FIFA</td>\n",
       "      <td>Negative</td>\n",
       "      <td>eahelp madeleine mccann cellar past     year l...</td>\n",
       "    </tr>\n",
       "  </tbody>\n",
       "</table>\n",
       "</div>"
      ],
      "text/plain": [
       "     ID Social network   Sentiment  \\\n",
       "0  3364       Facebook  Irrelevant   \n",
       "1   352         Amazon     Neutral   \n",
       "2  8312      Microsoft    Negative   \n",
       "3  4371          CS-GO    Negative   \n",
       "4  4433         Google     Neutral   \n",
       "5  6273           FIFA    Negative   \n",
       "\n",
       "                                                Text  \n",
       "0  mention facebook struggle motivation run day t...  \n",
       "1  bbc news amazon boss jeff bezos reject claim c...  \n",
       "2  microsoft pay word function poorly samsungus c...  \n",
       "3      csgo matchmaking closet hack truly awful game  \n",
       "4  president slap americans face commit unlawful ...  \n",
       "5  eahelp madeleine mccann cellar past     year l...  "
      ]
     },
     "execution_count": 19,
     "metadata": {},
     "output_type": "execute_result"
    }
   ],
   "source": [
    "df_val.head(6)"
   ]
  },
  {
   "cell_type": "code",
   "execution_count": 20,
   "id": "67cff8d8",
   "metadata": {},
   "outputs": [],
   "source": [
    "train_data = df_train['Text'].to_list()\n",
    "val_data = df_val['Text'].to_list()"
   ]
  },
  {
   "cell_type": "code",
   "execution_count": 22,
   "id": "b6017e7b",
   "metadata": {},
   "outputs": [],
   "source": [
    "train_data = np.concatenate([train_data, val_data])"
   ]
  },
  {
   "cell_type": "code",
   "execution_count": 23,
   "id": "9021edca",
   "metadata": {},
   "outputs": [
    {
     "data": {
      "text/plain": [
       "(74996,)"
      ]
     },
     "execution_count": 23,
     "metadata": {},
     "output_type": "execute_result"
    }
   ],
   "source": [
    "train_data.shape"
   ]
  },
  {
   "cell_type": "code",
   "execution_count": 24,
   "id": "3c54ecf5",
   "metadata": {},
   "outputs": [],
   "source": [
    "train_categ = df_train['Sentiment']\n",
    "val_categ = df_val['Sentiment']"
   ]
  },
  {
   "cell_type": "code",
   "execution_count": 25,
   "id": "267db61e",
   "metadata": {},
   "outputs": [
    {
     "data": {
      "text/plain": [
       "0        Positive\n",
       "1        Positive\n",
       "2        Positive\n",
       "3        Positive\n",
       "4        Positive\n",
       "           ...   \n",
       "74677    Positive\n",
       "74678    Positive\n",
       "74679    Positive\n",
       "74680    Positive\n",
       "74681    Positive\n",
       "Name: Sentiment, Length: 73996, dtype: object"
      ]
     },
     "execution_count": 25,
     "metadata": {},
     "output_type": "execute_result"
    }
   ],
   "source": [
    "train_categ"
   ]
  },
  {
   "cell_type": "code",
   "execution_count": 26,
   "id": "798b822a",
   "metadata": {},
   "outputs": [
    {
     "data": {
      "text/plain": [
       "0      Irrelevant\n",
       "1         Neutral\n",
       "2        Negative\n",
       "3        Negative\n",
       "4         Neutral\n",
       "          ...    \n",
       "995    Irrelevant\n",
       "996    Irrelevant\n",
       "997      Positive\n",
       "998      Positive\n",
       "999       Neutral\n",
       "Name: Sentiment, Length: 1000, dtype: object"
      ]
     },
     "execution_count": 26,
     "metadata": {},
     "output_type": "execute_result"
    }
   ],
   "source": [
    "val_categ"
   ]
  },
  {
   "cell_type": "code",
   "execution_count": 27,
   "id": "553ff862",
   "metadata": {},
   "outputs": [
    {
     "name": "stdout",
     "output_type": "stream",
     "text": [
      "['Positive', 'Neutral', 'Negative', 'Irrelevant']\n",
      "{'Positive': 0, 'Neutral': 1, 'Negative': 2, 'Irrelevant': 3}\n"
     ]
    }
   ],
   "source": [
    "labels = list(df_train['Sentiment'].unique())\n",
    "label2id = {v:k for k,v in enumerate(labels)}\n",
    "print(labels)\n",
    "print(label2id)"
   ]
  },
  {
   "cell_type": "code",
   "execution_count": 28,
   "id": "a3dabe46",
   "metadata": {},
   "outputs": [],
   "source": [
    "train_targets = np.array(df_train[\"Sentiment\"].map(label2id).to_list())\n",
    "val_targets = np.array(df_val['Sentiment'].map(label2id).to_list())\n",
    "train_targets = np.concatenate([train_targets, val_targets])"
   ]
  },
  {
   "cell_type": "code",
   "execution_count": 29,
   "id": "bab9efda",
   "metadata": {},
   "outputs": [
    {
     "data": {
      "text/plain": [
       "(74996,)"
      ]
     },
     "execution_count": 29,
     "metadata": {},
     "output_type": "execute_result"
    }
   ],
   "source": [
    "train_targets.shape"
   ]
  },
  {
   "cell_type": "code",
   "execution_count": 30,
   "id": "8bcc07ac",
   "metadata": {},
   "outputs": [],
   "source": [
    "max_len = 128\n",
    "max_words = 25842\n",
    "tokenizer = Tokenizer(num_words=max_words, filters='!\"#$%&()*+,-./:;<=>?@[\\\\]^_`{|}~\\t\\n')  # создаем токенайзер\n",
    "vocab = tokenizer.fit_on_texts(train_data)   # создаем словарь на основе слов из текста \n",
    "sequences = tokenizer.texts_to_sequences(train_data) # преобразуем каждый текст в последовательность чисел"
   ]
  },
  {
   "cell_type": "code",
   "execution_count": 31,
   "id": "d9941d3e",
   "metadata": {},
   "outputs": [
    {
     "data": {
      "text/plain": [
       "[32, 112, 1059]"
      ]
     },
     "execution_count": 31,
     "metadata": {},
     "output_type": "execute_result"
    }
   ],
   "source": [
    "sequences[3]"
   ]
  },
  {
   "cell_type": "code",
   "execution_count": 32,
   "id": "463854b2",
   "metadata": {},
   "outputs": [
    {
     "data": {
      "text/plain": [
       "['borderland murder']"
      ]
     },
     "execution_count": 32,
     "metadata": {},
     "output_type": "execute_result"
    }
   ],
   "source": [
    "tokenizer.sequences_to_texts(\n",
    "    sequences[:1])"
   ]
  },
  {
   "cell_type": "code",
   "execution_count": 33,
   "id": "bd6462b3",
   "metadata": {},
   "outputs": [
    {
     "name": "stdout",
     "output_type": "stream",
     "text": [
      "Found 25843 unique tokens\n"
     ]
    }
   ],
   "source": [
    "word_index = tokenizer.word_index   # получаем количество уникальных слов\n",
    "print('Found %s unique tokens'%len(word_index))"
   ]
  },
  {
   "cell_type": "code",
   "execution_count": 34,
   "id": "bf2a3919",
   "metadata": {},
   "outputs": [],
   "source": [
    "train_texts = pad_sequences(sequences, maxlen=max_len)"
   ]
  },
  {
   "cell_type": "code",
   "execution_count": 35,
   "id": "89f23cda",
   "metadata": {},
   "outputs": [
    {
     "name": "stdout",
     "output_type": "stream",
     "text": [
      "(74996, 128)\n"
     ]
    }
   ],
   "source": [
    "print(train_texts.shape)"
   ]
  },
  {
   "cell_type": "code",
   "execution_count": 36,
   "id": "8857559b",
   "metadata": {},
   "outputs": [],
   "source": [
    "indices = np.arange(train_targets.shape[0])    # перемешиваем данные\n",
    "np.random.shuffle(indices)\n",
    "train_texts = train_texts[indices]\n",
    "train_targets = train_targets[indices]\n",
    "# train test split\n",
    "test_texts = train_texts[:10_000]\n",
    "test_targets = train_targets[:10_000]\n",
    "\n",
    "train_texts = train_texts[10_000:]\n",
    "train_targets = train_targets[10_000:]"
   ]
  },
  {
   "cell_type": "code",
   "execution_count": 37,
   "id": "38bc00ce",
   "metadata": {},
   "outputs": [],
   "source": [
    "train_targets = to_categorical(train_targets)\n",
    "test_targets = to_categorical(test_targets)"
   ]
  },
  {
   "cell_type": "code",
   "execution_count": 38,
   "id": "f77050e8",
   "metadata": {},
   "outputs": [
    {
     "data": {
      "text/plain": [
       "array([[0., 1., 0., 0.],\n",
       "       [1., 0., 0., 0.],\n",
       "       [0., 0., 1., 0.],\n",
       "       ...,\n",
       "       [0., 0., 1., 0.],\n",
       "       [0., 1., 0., 0.],\n",
       "       [0., 0., 1., 0.]], dtype=float32)"
      ]
     },
     "execution_count": 38,
     "metadata": {},
     "output_type": "execute_result"
    }
   ],
   "source": [
    "test_targets"
   ]
  },
  {
   "cell_type": "code",
   "execution_count": 39,
   "id": "9e391c73",
   "metadata": {},
   "outputs": [
    {
     "name": "stdout",
     "output_type": "stream",
     "text": [
      "Train texts shape: (64996, 128)\n",
      "Test texts shape: (10000, 128)\n"
     ]
    }
   ],
   "source": [
    "print(f\"Train texts shape: {train_texts.shape}\")\n",
    "print(f\"Test texts shape: {test_texts.shape}\")"
   ]
  },
  {
   "cell_type": "code",
   "execution_count": 40,
   "id": "d77663bb",
   "metadata": {},
   "outputs": [
    {
     "name": "stdout",
     "output_type": "stream",
     "text": [
      "Train targets shape: (64996, 4)\n",
      "Test targets shape: (10000, 4)\n"
     ]
    }
   ],
   "source": [
    "print(f\"Train targets shape: {train_targets.shape}\")\n",
    "print(f\"Test targets shape: {test_targets.shape}\")"
   ]
  },
  {
   "cell_type": "code",
   "execution_count": 41,
   "id": "aa995d1c",
   "metadata": {},
   "outputs": [],
   "source": [
    "def build_model():\n",
    "  model = Sequential()\n",
    "  model.add(layers.Embedding(input_dim=max_words, output_dim=128))\n",
    "  model.add(layers.Bidirectional(layers.LSTM(units=128)))\n",
    "  model.add(layers.Dense(units=64, activation='relu'))  # , kernel_regularizer=L1(0.01)\n",
    "  model.add(layers.Dense(4, activation='softmax'))\n",
    "\n",
    "  return model"
   ]
  },
  {
   "cell_type": "code",
   "execution_count": 42,
   "id": "f1751927",
   "metadata": {},
   "outputs": [],
   "source": [
    "model = build_model()"
   ]
  },
  {
   "cell_type": "code",
   "execution_count": 43,
   "id": "c0400df2",
   "metadata": {},
   "outputs": [
    {
     "name": "stdout",
     "output_type": "stream",
     "text": [
      "Model: \"sequential\"\n",
      "_________________________________________________________________\n",
      " Layer (type)                Output Shape              Param #   \n",
      "=================================================================\n",
      " embedding (Embedding)       (None, None, 128)         3307776   \n",
      "                                                                 \n",
      " bidirectional (Bidirectiona  (None, 256)              263168    \n",
      " l)                                                              \n",
      "                                                                 \n",
      " dense (Dense)               (None, 64)                16448     \n",
      "                                                                 \n",
      " dense_1 (Dense)             (None, 4)                 260       \n",
      "                                                                 \n",
      "=================================================================\n",
      "Total params: 3,587,652\n",
      "Trainable params: 3,587,652\n",
      "Non-trainable params: 0\n",
      "_________________________________________________________________\n"
     ]
    }
   ],
   "source": [
    "model.summary()"
   ]
  },
  {
   "cell_type": "code",
   "execution_count": 44,
   "id": "9fff8b7e",
   "metadata": {},
   "outputs": [
    {
     "name": "stdout",
     "output_type": "stream",
     "text": [
      "(128, 512)\n",
      "(128, 512)\n",
      "(512,)\n",
      "(128, 512)\n",
      "(128, 512)\n",
      "(512,)\n"
     ]
    }
   ],
   "source": [
    "for i in model.layers[1].weights:\n",
    "    print(i.shape)"
   ]
  },
  {
   "cell_type": "code",
   "execution_count": 45,
   "id": "447b6a27",
   "metadata": {},
   "outputs": [],
   "source": [
    "from tensorflow.keras.callbacks import ModelCheckpoint, ReduceLROnPlateau\n",
    "checkpoint = ModelCheckpoint(filepath='weights1.h5', save_best_only = True, monitor='val_loss')\n",
    "lr_scheduler = ReduceLROnPlateau(factor=0.2, patience=3)"
   ]
  },
  {
   "cell_type": "code",
   "execution_count": 46,
   "id": "df5e76e4",
   "metadata": {},
   "outputs": [
    {
     "name": "stdout",
     "output_type": "stream",
     "text": [
      "Epoch 1/10\n",
      "204/204 [==============================] - 316s 2s/step - loss: 1.0531 - acc: 0.5631 - auc: 0.8030 - val_loss: 0.8071 - val_acc: 0.6848 - val_auc: 0.8887 - lr: 0.0010\n",
      "Epoch 2/10\n",
      "204/204 [==============================] - 299s 1s/step - loss: 0.6024 - acc: 0.7726 - auc: 0.9384 - val_loss: 0.6283 - val_acc: 0.7633 - val_auc: 0.9332 - lr: 0.0010\n",
      "Epoch 3/10\n",
      "204/204 [==============================] - 296s 1s/step - loss: 0.4345 - acc: 0.8387 - auc: 0.9677 - val_loss: 0.5058 - val_acc: 0.8095 - val_auc: 0.9564 - lr: 0.0010\n",
      "Epoch 4/10\n",
      "204/204 [==============================] - 286s 1s/step - loss: 0.3460 - acc: 0.8694 - auc: 0.9793 - val_loss: 0.4654 - val_acc: 0.8328 - val_auc: 0.9643 - lr: 0.0010\n",
      "Epoch 5/10\n",
      "204/204 [==============================] - 282s 1s/step - loss: 0.2911 - acc: 0.8895 - auc: 0.9853 - val_loss: 0.4290 - val_acc: 0.8462 - val_auc: 0.9692 - lr: 0.0010\n",
      "Epoch 6/10\n",
      "204/204 [==============================] - 278s 1s/step - loss: 0.2509 - acc: 0.9037 - auc: 0.9889 - val_loss: 0.4280 - val_acc: 0.8516 - val_auc: 0.9707 - lr: 0.0010\n",
      "Epoch 7/10\n",
      "204/204 [==============================] - 279s 1s/step - loss: 0.2218 - acc: 0.9140 - auc: 0.9912 - val_loss: 0.4072 - val_acc: 0.8625 - val_auc: 0.9728 - lr: 0.0010\n",
      "Epoch 8/10\n",
      "204/204 [==============================] - 272s 1s/step - loss: 0.2015 - acc: 0.9217 - auc: 0.9927 - val_loss: 0.4078 - val_acc: 0.8636 - val_auc: 0.9731 - lr: 0.0010\n",
      "Epoch 9/10\n",
      "204/204 [==============================] - 270s 1s/step - loss: 0.1838 - acc: 0.9297 - auc: 0.9939 - val_loss: 0.3952 - val_acc: 0.8695 - val_auc: 0.9747 - lr: 0.0010\n",
      "Epoch 10/10\n",
      "204/204 [==============================] - 271s 1s/step - loss: 0.1708 - acc: 0.9342 - auc: 0.9946 - val_loss: 0.4167 - val_acc: 0.8716 - val_auc: 0.9735 - lr: 0.0010\n"
     ]
    }
   ],
   "source": [
    "model.compile(loss='categorical_crossentropy', optimizer=optimizers.RMSprop(), metrics=['acc', AUC()])\n",
    "history = model.fit(train_texts, train_targets, epochs=10, validation_split=0.2, batch_size=256, callbacks=[checkpoint,lr_scheduler])"
   ]
  },
  {
   "cell_type": "code",
   "execution_count": 47,
   "id": "5f35e954",
   "metadata": {},
   "outputs": [
    {
     "name": "stdout",
     "output_type": "stream",
     "text": [
      "313/313 [==============================] - 15s 49ms/step - loss: 0.4524 - acc: 0.8642 - auc: 0.9703\n"
     ]
    },
    {
     "data": {
      "text/plain": [
       "[0.45239052176475525, 0.8641999959945679, 0.9703189730644226]"
      ]
     },
     "execution_count": 47,
     "metadata": {},
     "output_type": "execute_result"
    }
   ],
   "source": [
    "model.evaluate(test_texts, test_targets)"
   ]
  },
  {
   "cell_type": "code",
   "execution_count": 48,
   "id": "36266939",
   "metadata": {},
   "outputs": [
    {
     "name": "stdout",
     "output_type": "stream",
     "text": [
      "313/313 [==============================] - 16s 48ms/step\n"
     ]
    }
   ],
   "source": [
    "predictions = model.predict(test_texts, verbose=1)"
   ]
  },
  {
   "cell_type": "code",
   "execution_count": null,
   "id": "22757a9b",
   "metadata": {},
   "outputs": [],
   "source": []
  }
 ],
 "metadata": {
  "kernelspec": {
   "display_name": "Python 3 (ipykernel)",
   "language": "python",
   "name": "python3"
  },
  "language_info": {
   "codemirror_mode": {
    "name": "ipython",
    "version": 3
   },
   "file_extension": ".py",
   "mimetype": "text/x-python",
   "name": "python",
   "nbconvert_exporter": "python",
   "pygments_lexer": "ipython3",
   "version": "3.8.0"
  }
 },
 "nbformat": 4,
 "nbformat_minor": 5
}
