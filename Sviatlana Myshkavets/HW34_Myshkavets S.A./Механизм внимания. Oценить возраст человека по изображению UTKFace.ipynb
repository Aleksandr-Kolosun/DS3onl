{
 "cells": [
  {
   "attachments": {},
   "cell_type": "markdown",
   "id": "318bca12",
   "metadata": {},
   "source": [
    "Мышковец С.А., v.1 01.05.2023\n",
    "\n",
    "**Решение задачи:**\n",
    "\n",
    "ДЗ - оценить возраст человека по изображению. \n",
    "\n",
    "Применить в любой задачи из ДЗ (например в задачи где мы определяли возраст) механизм внимания (слой MultiheadAttention) в место основного или вместе с основным телом модели. \n",
    "Цель - попробовать применять данный слой.  \n",
    "\n",
    "**Вывод**\n",
    "\n",
    "| Модель | train | valid | test |\n",
    "| ----------- | ----------- | ----------- |----------- |\n",
    "| custom_model | 5,23 | 7,09 | 7,14 |\n",
    "| mh_at_custom_model | 4,56 | 6,77 | 6.97 |\n",
    "\n",
    "Применение слоя MultiHeadAttention улучшило результат модели."
   ]
  },
  {
   "attachments": {},
   "cell_type": "markdown",
   "id": "369e52ad",
   "metadata": {},
   "source": [
    "# Загрузим необходимые библиотеки и проведем разведовательный анализ данных."
   ]
  },
  {
   "cell_type": "code",
   "execution_count": 44,
   "id": "1ca47b19",
   "metadata": {},
   "outputs": [
    {
     "name": "stdout",
     "output_type": "stream",
     "text": [
      "OpenCV: 4.7.0\n",
      "matplotlib: 3.6.3\n",
      "graphviz: 0.20.1\n"
     ]
    }
   ],
   "source": [
    "import numpy as np # linear algebra\n",
    "import pandas as pd # data processing, CSV file I/O (e.g. pd.read_csv)\n",
    "\n",
    "# Visualization\n",
    "import cv2 # for ingesting images\n",
    "print('OpenCV: %s' % cv2.__version__) # print version\n",
    "import matplotlib \n",
    "import matplotlib.pyplot as plt # or data visualizationa\n",
    "print('matplotlib: %s' % matplotlib.__version__) # print version\n",
    "import graphviz # for showing model diagram\n",
    "print('graphviz: %s' % graphviz.__version__) # print version\n",
    "\n",
    "import tensorflow as tf\n",
    "from tensorflow.keras.optimizers import Adam\n",
    "from tensorflow.keras.models import Sequential, Model\n",
    "from tensorflow.keras.layers import Dense, Conv2D, MaxPooling2D, Flatten, Dropout, BatchNormalization, AveragePooling2D, Activation, GlobalMaxPool2D, GlobalAveragePooling2D, Input, MaxPool2D, MultiHeadAttention\n",
    "from tensorflow.keras.callbacks import EarlyStopping, ReduceLROnPlateau, ModelCheckpoint\n",
    "\n",
    "import gc\n",
    "\n",
    "import sys\n",
    "import os"
   ]
  },
  {
   "cell_type": "code",
   "execution_count": 2,
   "id": "53af112c",
   "metadata": {},
   "outputs": [],
   "source": [
    "# Define loss visualization function\n",
    "def test_val_graph (history,train,val):\n",
    "    plt.plot(history.history[train], label='Точность на обучающем наборе')\n",
    "    plt.plot(history.history[val], label='Точность на проверочном наборе')\n",
    "    plt.xlabel('Цикл обучения')\n",
    "    plt.ylabel('Точность')\n",
    "    plt.legend()\n",
    "    plt.show()\n",
    "    pass;"
   ]
  },
  {
   "cell_type": "code",
   "execution_count": 3,
   "id": "c057cef6",
   "metadata": {},
   "outputs": [],
   "source": [
    "import os\n",
    "main_dir = os.getcwd()"
   ]
  },
  {
   "cell_type": "code",
   "execution_count": 4,
   "id": "00b1f3d1",
   "metadata": {},
   "outputs": [
    {
     "data": {
      "text/plain": [
       "'/Users/sviatlanamyshkavets/Documents/Courses/DS TM/47 Композиция глубоких сетей/HW33_Myshkavets S.A.'"
      ]
     },
     "execution_count": 4,
     "metadata": {},
     "output_type": "execute_result"
    }
   ],
   "source": [
    "main_dir"
   ]
  },
  {
   "cell_type": "code",
   "execution_count": 5,
   "id": "4ff494b8",
   "metadata": {},
   "outputs": [],
   "source": [
    "# Specify the location of images after you have downloaded them\n",
    "ImgLocation = main_dir + \"/UTKFace\""
   ]
  },
  {
   "cell_type": "code",
   "execution_count": 6,
   "id": "d518444e",
   "metadata": {},
   "outputs": [],
   "source": [
    "# Extract age values from file names\n",
    "age = []\n",
    "for file in os.listdir(ImgLocation):\n",
    "    file = int(file.split('_')[0])\n",
    "    age.append(file)"
   ]
  },
  {
   "cell_type": "code",
   "execution_count": 7,
   "id": "2f589993",
   "metadata": {},
   "outputs": [
    {
     "data": {
      "text/plain": [
       "23708"
      ]
     },
     "execution_count": 7,
     "metadata": {},
     "output_type": "execute_result"
    }
   ],
   "source": [
    "len(age)"
   ]
  },
  {
   "cell_type": "code",
   "execution_count": 8,
   "id": "179c49eb",
   "metadata": {},
   "outputs": [],
   "source": [
    "# Extract paths for further data exploration\n",
    "full_path = []\n",
    "for file in os.listdir(ImgLocation):\n",
    "    path = ImgLocation + '/' + file\n",
    "    full_path.append(path)"
   ]
  },
  {
   "cell_type": "code",
   "execution_count": 9,
   "id": "f982729d",
   "metadata": {},
   "outputs": [],
   "source": [
    "# Create pd DataFrame\n",
    "df = pd.DataFrame({'age': age,  \n",
    "                   'full_path': full_path, \n",
    "                   }\n",
    "                 )"
   ]
  },
  {
   "cell_type": "code",
   "execution_count": 10,
   "id": "4ebe089a",
   "metadata": {},
   "outputs": [
    {
     "data": {
      "text/html": [
       "<div>\n",
       "<style scoped>\n",
       "    .dataframe tbody tr th:only-of-type {\n",
       "        vertical-align: middle;\n",
       "    }\n",
       "\n",
       "    .dataframe tbody tr th {\n",
       "        vertical-align: top;\n",
       "    }\n",
       "\n",
       "    .dataframe thead th {\n",
       "        text-align: right;\n",
       "    }\n",
       "</style>\n",
       "<table border=\"1\" class=\"dataframe\">\n",
       "  <thead>\n",
       "    <tr style=\"text-align: right;\">\n",
       "      <th></th>\n",
       "      <th>age</th>\n",
       "      <th>full_path</th>\n",
       "    </tr>\n",
       "  </thead>\n",
       "  <tbody>\n",
       "    <tr>\n",
       "      <th>0</th>\n",
       "      <td>9</td>\n",
       "      <td>/Users/sviatlanamyshkavets/Documents/Courses/D...</td>\n",
       "    </tr>\n",
       "    <tr>\n",
       "      <th>1</th>\n",
       "      <td>36</td>\n",
       "      <td>/Users/sviatlanamyshkavets/Documents/Courses/D...</td>\n",
       "    </tr>\n",
       "    <tr>\n",
       "      <th>2</th>\n",
       "      <td>86</td>\n",
       "      <td>/Users/sviatlanamyshkavets/Documents/Courses/D...</td>\n",
       "    </tr>\n",
       "    <tr>\n",
       "      <th>3</th>\n",
       "      <td>26</td>\n",
       "      <td>/Users/sviatlanamyshkavets/Documents/Courses/D...</td>\n",
       "    </tr>\n",
       "    <tr>\n",
       "      <th>4</th>\n",
       "      <td>1</td>\n",
       "      <td>/Users/sviatlanamyshkavets/Documents/Courses/D...</td>\n",
       "    </tr>\n",
       "  </tbody>\n",
       "</table>\n",
       "</div>"
      ],
      "text/plain": [
       "   age                                          full_path\n",
       "0    9  /Users/sviatlanamyshkavets/Documents/Courses/D...\n",
       "1   36  /Users/sviatlanamyshkavets/Documents/Courses/D...\n",
       "2   86  /Users/sviatlanamyshkavets/Documents/Courses/D...\n",
       "3   26  /Users/sviatlanamyshkavets/Documents/Courses/D...\n",
       "4    1  /Users/sviatlanamyshkavets/Documents/Courses/D..."
      ]
     },
     "execution_count": 10,
     "metadata": {},
     "output_type": "execute_result"
    }
   ],
   "source": [
    "df.head()"
   ]
  },
  {
   "cell_type": "code",
   "execution_count": 11,
   "id": "c2683acd",
   "metadata": {},
   "outputs": [
    {
     "data": {
      "text/html": [
       "<div>\n",
       "<style scoped>\n",
       "    .dataframe tbody tr th:only-of-type {\n",
       "        vertical-align: middle;\n",
       "    }\n",
       "\n",
       "    .dataframe tbody tr th {\n",
       "        vertical-align: top;\n",
       "    }\n",
       "\n",
       "    .dataframe thead th {\n",
       "        text-align: right;\n",
       "    }\n",
       "</style>\n",
       "<table border=\"1\" class=\"dataframe\">\n",
       "  <thead>\n",
       "    <tr style=\"text-align: right;\">\n",
       "      <th></th>\n",
       "      <th>age</th>\n",
       "    </tr>\n",
       "  </thead>\n",
       "  <tbody>\n",
       "    <tr>\n",
       "      <th>count</th>\n",
       "      <td>23708.000000</td>\n",
       "    </tr>\n",
       "    <tr>\n",
       "      <th>mean</th>\n",
       "      <td>33.303484</td>\n",
       "    </tr>\n",
       "    <tr>\n",
       "      <th>std</th>\n",
       "      <td>19.886112</td>\n",
       "    </tr>\n",
       "    <tr>\n",
       "      <th>min</th>\n",
       "      <td>1.000000</td>\n",
       "    </tr>\n",
       "    <tr>\n",
       "      <th>25%</th>\n",
       "      <td>23.000000</td>\n",
       "    </tr>\n",
       "    <tr>\n",
       "      <th>50%</th>\n",
       "      <td>29.000000</td>\n",
       "    </tr>\n",
       "    <tr>\n",
       "      <th>75%</th>\n",
       "      <td>45.000000</td>\n",
       "    </tr>\n",
       "    <tr>\n",
       "      <th>max</th>\n",
       "      <td>116.000000</td>\n",
       "    </tr>\n",
       "  </tbody>\n",
       "</table>\n",
       "</div>"
      ],
      "text/plain": [
       "                age\n",
       "count  23708.000000\n",
       "mean      33.303484\n",
       "std       19.886112\n",
       "min        1.000000\n",
       "25%       23.000000\n",
       "50%       29.000000\n",
       "75%       45.000000\n",
       "max      116.000000"
      ]
     },
     "execution_count": 11,
     "metadata": {},
     "output_type": "execute_result"
    }
   ],
   "source": [
    "df.describe()"
   ]
  },
  {
   "cell_type": "code",
   "execution_count": 12,
   "id": "61b8c742",
   "metadata": {},
   "outputs": [
    {
     "name": "stdout",
     "output_type": "stream",
     "text": [
      "<class 'pandas.core.frame.DataFrame'>\n",
      "RangeIndex: 23708 entries, 0 to 23707\n",
      "Data columns (total 2 columns):\n",
      " #   Column     Non-Null Count  Dtype \n",
      "---  ------     --------------  ----- \n",
      " 0   age        23708 non-null  int64 \n",
      " 1   full_path  23708 non-null  object\n",
      "dtypes: int64(1), object(1)\n",
      "memory usage: 370.6+ KB\n"
     ]
    }
   ],
   "source": [
    "df.info()"
   ]
  },
  {
   "cell_type": "markdown",
   "id": "c8079b55",
   "metadata": {},
   "source": [
    "# Выведем фотографии из файлов, частично проверим верность целевых меток."
   ]
  },
  {
   "attachments": {},
   "cell_type": "markdown",
   "id": "a9fbcf2d",
   "metadata": {},
   "source": [
    "**При необходимости при помощи кода ниже пробежимся по папкам и проверим фото детей до 18 лет, удалим явные выбросы. В нашем случае выбран очищенный датасет.**"
   ]
  },
  {
   "cell_type": "code",
   "execution_count": null,
   "id": "109e9d3b",
   "metadata": {},
   "outputs": [],
   "source": [
    "test = df[df['age']==1]\n",
    "%matplotlib inline\n",
    "import matplotlib.pyplot as plt\n",
    "import matplotlib.image as mpimg\n",
    "\n",
    "for i in test['full_path']:\n",
    "#     img = cv2.imread(file)\n",
    "    img = mpimg.imread(i)\n",
    "    imgplot = plt.imshow(img)\n",
    "    plt.xlabel(i)\n",
    "    print(i)\n",
    "    plt.show()"
   ]
  },
  {
   "cell_type": "code",
   "execution_count": 13,
   "id": "5449c40f",
   "metadata": {},
   "outputs": [
    {
     "data": {
      "text/plain": [
       "array([[<AxesSubplot: title={'center': 'age'}>]], dtype=object)"
      ]
     },
     "execution_count": 13,
     "metadata": {},
     "output_type": "execute_result"
    },
    {
     "data": {
      "image/png": "[encoded data removed]",
      "text/plain": [
       "<Figure size 640x480 with 1 Axes>"
      ]
     },
     "metadata": {},
     "output_type": "display_data"
    }
   ],
   "source": [
    "# Explore age distribution\n",
    "df.hist()"
   ]
  },
  {
   "cell_type": "code",
   "execution_count": 14,
   "id": "d4e5074c",
   "metadata": {},
   "outputs": [
    {
     "data": {
      "text/plain": [
       "age\n",
       "111       1\n",
       "103       1\n",
       "101       2\n",
       "91        2\n",
       "115       3\n",
       "       ... \n",
       "24      859\n",
       "35      880\n",
       "28      918\n",
       "1      1123\n",
       "26     2197\n",
       "Name: age, Length: 104, dtype: int64"
      ]
     },
     "execution_count": 14,
     "metadata": {},
     "output_type": "execute_result"
    }
   ],
   "source": [
    "df.groupby('age')['age'].count().sort_values()"
   ]
  },
  {
   "cell_type": "code",
   "execution_count": 15,
   "id": "e1090d7d",
   "metadata": {},
   "outputs": [],
   "source": [
    "# Delete age values over 99 years\n",
    "index_age_100 = df[df['age']>99].index\n",
    "df.drop(index_age_100 , inplace=True)"
   ]
  },
  {
   "cell_type": "code",
   "execution_count": 15,
   "id": "eb38ac9d",
   "metadata": {},
   "outputs": [],
   "source": [
    "# from sklearn.preprocessing import LabelEncoder\n",
    "# labelencoder = LabelEncoder()\n",
    "# df['age'] = labelencoder.fit_transform(df['age'])"
   ]
  },
  {
   "cell_type": "markdown",
   "id": "4c3497c4",
   "metadata": {},
   "source": [
    "**Разделим данные на тренировочную, тестовую и валидационную выборку.**"
   ]
  },
  {
   "cell_type": "code",
   "execution_count": 16,
   "id": "73b56e0b",
   "metadata": {},
   "outputs": [],
   "source": [
    "from sklearn.model_selection import train_test_split\n",
    "\n",
    "y = df['age']\n",
    "X = df['full_path']"
   ]
  },
  {
   "cell_type": "code",
   "execution_count": 17,
   "id": "010868cc",
   "metadata": {},
   "outputs": [],
   "source": [
    "train_full, test= train_test_split(\n",
    "    df, test_size=0.12, stratify=df['age'], random_state=0)"
   ]
  },
  {
   "cell_type": "code",
   "execution_count": 18,
   "id": "2291d6da",
   "metadata": {},
   "outputs": [
    {
     "data": {
      "text/plain": [
       "age\n",
       "1     988\n",
       "2     424\n",
       "3     254\n",
       "4     240\n",
       "5     173\n",
       "     ... \n",
       "92     12\n",
       "93      4\n",
       "95      8\n",
       "96     15\n",
       "99      8\n",
       "Name: age, Length: 96, dtype: int64"
      ]
     },
     "execution_count": 18,
     "metadata": {},
     "output_type": "execute_result"
    }
   ],
   "source": [
    "train_full.groupby('age')['age'].count()"
   ]
  },
  {
   "cell_type": "code",
   "execution_count": 19,
   "id": "673fc51e",
   "metadata": {},
   "outputs": [
    {
     "data": {
      "text/plain": [
       "(20834, 2)"
      ]
     },
     "execution_count": 19,
     "metadata": {},
     "output_type": "execute_result"
    }
   ],
   "source": [
    "train_full.shape"
   ]
  },
  {
   "cell_type": "code",
   "execution_count": 20,
   "id": "15d3b798",
   "metadata": {},
   "outputs": [],
   "source": [
    "# Extract valid from train\n",
    "train, valid = train_full[:-5500], train_full[-5500:]"
   ]
  },
  {
   "cell_type": "code",
   "execution_count": 21,
   "id": "25df67c8",
   "metadata": {},
   "outputs": [
    {
     "data": {
      "text/plain": [
       "(2842, 2)"
      ]
     },
     "execution_count": 21,
     "metadata": {},
     "output_type": "execute_result"
    }
   ],
   "source": [
    "test.shape"
   ]
  },
  {
   "cell_type": "code",
   "execution_count": 22,
   "id": "80621430",
   "metadata": {},
   "outputs": [
    {
     "data": {
      "text/plain": [
       "age\n",
       "1     135\n",
       "2      58\n",
       "3      35\n",
       "4      33\n",
       "5      23\n",
       "     ... \n",
       "92      1\n",
       "93      1\n",
       "95      1\n",
       "96      2\n",
       "99      1\n",
       "Name: age, Length: 95, dtype: int64"
      ]
     },
     "execution_count": 22,
     "metadata": {},
     "output_type": "execute_result"
    }
   ],
   "source": [
    "test.groupby('age')['age'].count()"
   ]
  },
  {
   "cell_type": "code",
   "execution_count": 77,
   "id": "14767f63",
   "metadata": {},
   "outputs": [],
   "source": [
    "# Create necessary folders for image storage\n",
    "os.makedirs('train')"
   ]
  },
  {
   "cell_type": "code",
   "execution_count": 78,
   "id": "16076645",
   "metadata": {},
   "outputs": [],
   "source": [
    "os.makedirs('test')"
   ]
  },
  {
   "cell_type": "code",
   "execution_count": 79,
   "id": "57fb03bf",
   "metadata": {},
   "outputs": [],
   "source": [
    "os.makedirs('valid')"
   ]
  },
  {
   "cell_type": "code",
   "execution_count": 80,
   "id": "396bdfa9",
   "metadata": {},
   "outputs": [],
   "source": [
    "# Create lists for train/test/valid images\n",
    "train_files = []\n",
    "for i in train['full_path']:\n",
    "    train_files.append(i)\n",
    "for a in train['age']:\n",
    "    train_files.append(a)"
   ]
  },
  {
   "cell_type": "code",
   "execution_count": 81,
   "id": "2d3d0b32",
   "metadata": {},
   "outputs": [],
   "source": [
    "test_files = []\n",
    "for i in test['full_path']:\n",
    "    test_files.append(i)\n",
    "for a in test['age']:\n",
    "    test_files.append(a)"
   ]
  },
  {
   "cell_type": "code",
   "execution_count": 82,
   "id": "11e68299",
   "metadata": {},
   "outputs": [],
   "source": [
    "valid_files = []\n",
    "for i in valid['full_path']:\n",
    "    valid_files.append(i)\n",
    "for a in valid['age']:\n",
    "    valid_files.append(a)"
   ]
  },
  {
   "cell_type": "code",
   "execution_count": 83,
   "id": "7ef979e2",
   "metadata": {},
   "outputs": [],
   "source": [
    "train_dir = main_dir + '/train'\n",
    "test_dir = main_dir + '/test'\n",
    "valid_dir = main_dir + '/valid'"
   ]
  },
  {
   "cell_type": "code",
   "execution_count": 84,
   "id": "09178479",
   "metadata": {},
   "outputs": [],
   "source": [
    "for filename in os.listdir(ImgLocation):\n",
    "    if filename != '.DS_Store':\n",
    "        # for i in os.listdir(ImgLocation + '/' + filename):\n",
    "        file = ImgLocation + '/' + filename\n",
    "        if file in train_files:\n",
    "            img = cv2.imread(file)\n",
    "            img = cv2.resize(img, (224, 224))\n",
    "            if img.shape[2] == 1:\n",
    "                img = np.dstack([img, img, img]) # Some images are in  greyscale (1 channel), \n",
    "                                                     # therefore convert them to 3 channel\n",
    "            path = train_dir\n",
    "            cv2.imwrite(os.path.join(path, filename), img)\n",
    "        if file in test_files:\n",
    "            img = cv2.imread(file)\n",
    "            img = cv2.resize(img, (224, 224))\n",
    "            if img.shape[2] == 1:\n",
    "                img = np.dstack([img, img, img])\n",
    "            path = test_dir\n",
    "            cv2.imwrite(os.path.join(path, filename), img)\n",
    "        if file in valid_files:\n",
    "            img = cv2.imread(file)\n",
    "            img = cv2.resize(img, (224, 224))\n",
    "            if img.shape[2] == 1:\n",
    "                img = np.dstack([img, img, img])\n",
    "            path = valid_dir\n",
    "            cv2.imwrite(os.path.join(path, filename), img)"
   ]
  },
  {
   "cell_type": "code",
   "execution_count": 23,
   "id": "c62b84c9",
   "metadata": {},
   "outputs": [],
   "source": [
    "from tensorflow.keras.preprocessing.image import ImageDataGenerator"
   ]
  },
  {
   "cell_type": "code",
   "execution_count": 24,
   "id": "d4433713",
   "metadata": {},
   "outputs": [],
   "source": [
    "train_datagen=ImageDataGenerator(rescale=1./255.)"
   ]
  },
  {
   "cell_type": "code",
   "execution_count": 25,
   "id": "e3f02687",
   "metadata": {},
   "outputs": [],
   "source": [
    "test_datagen=ImageDataGenerator(rescale=1./255.)"
   ]
  },
  {
   "cell_type": "code",
   "execution_count": 26,
   "id": "6ab8ca14",
   "metadata": {},
   "outputs": [],
   "source": [
    "valid_datagen=ImageDataGenerator(rescale=1./255.)"
   ]
  },
  {
   "cell_type": "code",
   "execution_count": 27,
   "id": "5d366052",
   "metadata": {},
   "outputs": [
    {
     "name": "stdout",
     "output_type": "stream",
     "text": [
      "Found 15334 validated image filenames.\n",
      "Found 5500 validated image filenames.\n",
      "Found 2842 validated image filenames.\n"
     ]
    }
   ],
   "source": [
    "TARGET_SIZE = (224,224)\n",
    "\n",
    "train_gen=train_datagen.flow_from_dataframe(\n",
    "dataframe=train,\n",
    "directory=main_dir + '/train',\n",
    "x_col=\"full_path\",\n",
    "y_col=\"age\",\n",
    "batch_size=32,\n",
    "seed=42,\n",
    "shuffle=True,\n",
    "class_mode=\"raw\",\n",
    "color_mode='rgb',\n",
    "target_size=TARGET_SIZE\n",
    ")\n",
    "\n",
    "valid_gen=train_datagen.flow_from_dataframe(\n",
    "dataframe=valid,\n",
    "directory=main_dir + '/valid',\n",
    "x_col=\"full_path\",\n",
    "y_col=\"age\",\n",
    "batch_size=32,\n",
    "seed=42,\n",
    "shuffle=True,\n",
    "class_mode=\"raw\",\n",
    "color_mode='rgb',\n",
    "target_size=TARGET_SIZE\n",
    ")\n",
    "\n",
    "test_gen=test_datagen.flow_from_dataframe(\n",
    "dataframe=test,\n",
    "directory=main_dir + '/test',\n",
    "x_col=\"full_path\",\n",
    "y_col=\"age\",\n",
    "batch_size=32,\n",
    "seed=42,\n",
    "shuffle=False,\n",
    "class_mode=\"raw\",\n",
    "color_mode='rgb',\n",
    "target_size=TARGET_SIZE\n",
    ")"
   ]
  },
  {
   "attachments": {},
   "cell_type": "markdown",
   "id": "2ef4a50e",
   "metadata": {},
   "source": [
    "# Определим и обучим несколько моделей."
   ]
  },
  {
   "attachments": {},
   "cell_type": "markdown",
   "id": "94a49824",
   "metadata": {},
   "source": [
    "**Custom model**"
   ]
  },
  {
   "cell_type": "code",
   "execution_count": 42,
   "id": "ddc65fe2",
   "metadata": {},
   "outputs": [],
   "source": [
    "from tensorflow.keras.models import Sequential, Model\n",
    "from tensorflow.keras.layers import Dense, Conv2D, MaxPooling2D, Flatten, Dropout, BatchNormalization, AveragePooling2D, Activation, GlobalMaxPool2D, GlobalAveragePooling2D, Input, MaxPool2D\n",
    "from tensorflow.keras.optimizers import Adam\n",
    "from tensorflow.keras.callbacks import EarlyStopping, ReduceLROnPlateau, ModelCheckpoint"
   ]
  },
  {
   "cell_type": "code",
   "execution_count": 110,
   "id": "bbd08114",
   "metadata": {},
   "outputs": [],
   "source": [
    "target_size = (224,224,3) \n",
    "input = Input(shape= target_size) \n",
    "\n",
    "x = Conv2D(filters=32, kernel_size=(3,3), activation='relu')(input) \n",
    "x = MaxPool2D(2,2)(x) \n",
    "\n",
    "x = Conv2D(filters=64, kernel_size=(3,3), activation='relu')(x) \n",
    "x = MaxPool2D(2,2)(x) \n",
    "\n",
    "x = Conv2D(filters=128, kernel_size=(3,3), activation='relu')(x) \n",
    "x = MaxPool2D(2,2)(x) \n",
    "\n",
    "x = Conv2D(filters=256, kernel_size=(3,3), activation='relu')(x) \n",
    "x = MaxPool2D(2,2)(x) \n",
    "x = GlobalMaxPool2D()(x)\n",
    "x = Dropout(0.25)(x) \n",
    "x = Flatten()(x) \n",
    "x = Dense(units=128, activation='relu')(x) \n",
    "x = Dense(units=64, activation='relu')(x) \n",
    "output = Dense(units=1, activation='linear')(x) \n",
    "\n",
    "custom_model  = Model(input, output, name= 'Custom_Model')"
   ]
  },
  {
   "cell_type": "code",
   "execution_count": 111,
   "id": "12ab6d06",
   "metadata": {},
   "outputs": [
    {
     "name": "stdout",
     "output_type": "stream",
     "text": [
      "Model: \"Custom_Model\"\n",
      "_________________________________________________________________\n",
      " Layer (type)                Output Shape              Param #   \n",
      "=================================================================\n",
      " input_8 (InputLayer)        [(None, 224, 224, 3)]     0         \n",
      "                                                                 \n",
      " conv2d_19 (Conv2D)          (None, 222, 222, 32)      896       \n",
      "                                                                 \n",
      " max_pooling2d_18 (MaxPoolin  (None, 111, 111, 32)     0         \n",
      " g2D)                                                            \n",
      "                                                                 \n",
      " conv2d_20 (Conv2D)          (None, 109, 109, 64)      18496     \n",
      "                                                                 \n",
      " max_pooling2d_19 (MaxPoolin  (None, 54, 54, 64)       0         \n",
      " g2D)                                                            \n",
      "                                                                 \n",
      " conv2d_21 (Conv2D)          (None, 52, 52, 128)       73856     \n",
      "                                                                 \n",
      " max_pooling2d_20 (MaxPoolin  (None, 26, 26, 128)      0         \n",
      " g2D)                                                            \n",
      "                                                                 \n",
      " conv2d_22 (Conv2D)          (None, 24, 24, 256)       295168    \n",
      "                                                                 \n",
      " max_pooling2d_21 (MaxPoolin  (None, 12, 12, 256)      0         \n",
      " g2D)                                                            \n",
      "                                                                 \n",
      " global_max_pooling2d_5 (Glo  (None, 256)              0         \n",
      " balMaxPooling2D)                                                \n",
      "                                                                 \n",
      " dropout_4 (Dropout)         (None, 256)               0         \n",
      "                                                                 \n",
      " flatten_4 (Flatten)         (None, 256)               0         \n",
      "                                                                 \n",
      " dense_14 (Dense)            (None, 128)               32896     \n",
      "                                                                 \n",
      " dense_15 (Dense)            (None, 64)                8256      \n",
      "                                                                 \n",
      " dense_16 (Dense)            (None, 1)                 65        \n",
      "                                                                 \n",
      "=================================================================\n",
      "Total params: 429,633\n",
      "Trainable params: 429,633\n",
      "Non-trainable params: 0\n",
      "_________________________________________________________________\n"
     ]
    }
   ],
   "source": [
    "custom_model.summary()"
   ]
  },
  {
   "cell_type": "code",
   "execution_count": 112,
   "id": "d2e13903",
   "metadata": {},
   "outputs": [
    {
     "data": {
      "image/png": "[encoded data removed]",
      "text/plain": [
       "<IPython.core.display.Image object>"
      ]
     },
     "execution_count": 112,
     "metadata": {},
     "output_type": "execute_result"
    }
   ],
   "source": [
    "# show model structure \n",
    "from tensorflow.keras.utils import plot_model \n",
    "plot_model(custom_model,show_shapes=True,\n",
    "    show_dtype=True,\n",
    "    show_layer_names=True)"
   ]
  },
  {
   "cell_type": "code",
   "execution_count": 314,
   "id": "41dbea3f",
   "metadata": {},
   "outputs": [],
   "source": [
    "# compile model\n",
    "custom_model.compile(loss='mse', optimizer='rmsprop', metrics=['mae']) \n",
    "\n",
    "# initialize callbacks \n",
    "reduceLR = ReduceLROnPlateau(monitor='val_mae', patience= 3, verbose= 1, mode='min', factor=  0.2, min_lr = 1e-6) \n",
    "\n",
    "early_stopping = EarlyStopping(monitor='val_mae', patience = 5 , verbose=1, mode='min', restore_best_weights= True) \n",
    "\n",
    "checkpoint = ModelCheckpoint('CustomModel.weights.hdf5', monitor='val_mae', verbose=1, save_best_only=True, mode= 'min') \n",
    "\n",
    "callbacks= [reduceLR, early_stopping, checkpoint]"
   ]
  },
  {
   "cell_type": "code",
   "execution_count": 315,
   "id": "7113f3c4",
   "metadata": {},
   "outputs": [
    {
     "name": "stdout",
     "output_type": "stream",
     "text": [
      "Epoch 1/30\n"
     ]
    },
    {
     "name": "stderr",
     "output_type": "stream",
     "text": [
      "2023-04-28 09:26:12.908151: I tensorflow/core/grappler/optimizers/custom_graph_optimizer_registry.cc:114] Plugin optimizer for device_type GPU is enabled.\n"
     ]
    },
    {
     "name": "stdout",
     "output_type": "stream",
     "text": [
      "494/494 [==============================] - ETA: 0s - loss: 467.8811 - mae: 16.6850"
     ]
    },
    {
     "name": "stderr",
     "output_type": "stream",
     "text": [
      "2023-04-28 09:26:58.101621: I tensorflow/core/grappler/optimizers/custom_graph_optimizer_registry.cc:114] Plugin optimizer for device_type GPU is enabled.\n"
     ]
    },
    {
     "name": "stdout",
     "output_type": "stream",
     "text": [
      "\n",
      "Epoch 1: val_mae improved from inf to 16.53504, saving model to CustomModel.weights.hdf5\n",
      "494/494 [==============================] - 50s 96ms/step - loss: 467.8811 - mae: 16.6850 - val_loss: 418.3416 - val_mae: 16.5350 - lr: 0.0010\n",
      "Epoch 2/30\n",
      "494/494 [==============================] - ETA: 0s - loss: 422.9438 - mae: 15.8779\n",
      "Epoch 2: val_mae improved from 16.53504 to 16.41605, saving model to CustomModel.weights.hdf5\n",
      "494/494 [==============================] - 45s 92ms/step - loss: 422.9438 - mae: 15.8779 - val_loss: 404.0142 - val_mae: 16.4160 - lr: 0.0010\n",
      "Epoch 3/30\n",
      "494/494 [==============================] - ETA: 0s - loss: 398.8951 - mae: 15.4267\n",
      "Epoch 3: val_mae improved from 16.41605 to 14.64964, saving model to CustomModel.weights.hdf5\n",
      "494/494 [==============================] - 46s 92ms/step - loss: 398.8951 - mae: 15.4267 - val_loss: 377.7776 - val_mae: 14.6496 - lr: 0.0010\n",
      "Epoch 4/30\n",
      "494/494 [==============================] - ETA: 0s - loss: 376.5752 - mae: 14.9819\n",
      "Epoch 4: val_mae improved from 14.64964 to 14.44860, saving model to CustomModel.weights.hdf5\n",
      "494/494 [==============================] - 45s 92ms/step - loss: 376.5752 - mae: 14.9819 - val_loss: 393.8831 - val_mae: 14.4486 - lr: 0.0010\n",
      "Epoch 5/30\n",
      "494/494 [==============================] - ETA: 0s - loss: 356.8665 - mae: 14.5311\n",
      "Epoch 5: val_mae improved from 14.44860 to 13.40815, saving model to CustomModel.weights.hdf5\n",
      "494/494 [==============================] - 45s 92ms/step - loss: 356.8665 - mae: 14.5311 - val_loss: 339.3489 - val_mae: 13.4082 - lr: 0.0010\n",
      "Epoch 6/30\n",
      "494/494 [==============================] - ETA: 0s - loss: 313.3951 - mae: 13.5664\n",
      "Epoch 6: val_mae improved from 13.40815 to 11.73688, saving model to CustomModel.weights.hdf5\n",
      "494/494 [==============================] - 45s 92ms/step - loss: 313.3951 - mae: 13.5664 - val_loss: 265.6459 - val_mae: 11.7369 - lr: 0.0010\n",
      "Epoch 7/30\n",
      "494/494 [==============================] - ETA: 0s - loss: 267.5835 - mae: 12.4258\n",
      "Epoch 7: val_mae did not improve from 11.73688\n",
      "494/494 [==============================] - 45s 92ms/step - loss: 267.5835 - mae: 12.4258 - val_loss: 325.6333 - val_mae: 12.8329 - lr: 0.0010\n",
      "Epoch 8/30\n",
      "494/494 [==============================] - ETA: 0s - loss: 242.1690 - mae: 11.6714\n",
      "Epoch 8: val_mae did not improve from 11.73688\n",
      "494/494 [==============================] - 45s 92ms/step - loss: 242.1690 - mae: 11.6714 - val_loss: 275.3777 - val_mae: 11.7841 - lr: 0.0010\n",
      "Epoch 9/30\n",
      "494/494 [==============================] - ETA: 0s - loss: 221.5073 - mae: 11.0921\n",
      "Epoch 9: val_mae improved from 11.73688 to 10.08280, saving model to CustomModel.weights.hdf5\n",
      "494/494 [==============================] - 45s 92ms/step - loss: 221.5073 - mae: 11.0921 - val_loss: 188.5208 - val_mae: 10.0828 - lr: 0.0010\n",
      "Epoch 10/30\n",
      "494/494 [==============================] - ETA: 0s - loss: 203.8271 - mae: 10.6038\n",
      "Epoch 10: val_mae did not improve from 10.08280\n",
      "494/494 [==============================] - 45s 92ms/step - loss: 203.8271 - mae: 10.6038 - val_loss: 298.2029 - val_mae: 12.3260 - lr: 0.0010\n",
      "Epoch 11/30\n",
      "494/494 [==============================] - ETA: 0s - loss: 189.2376 - mae: 10.1830\n",
      "Epoch 11: val_mae did not improve from 10.08280\n",
      "494/494 [==============================] - 46s 92ms/step - loss: 189.2376 - mae: 10.1830 - val_loss: 212.7072 - val_mae: 10.3906 - lr: 0.0010\n",
      "Epoch 12/30\n",
      "494/494 [==============================] - ETA: 0s - loss: 176.1048 - mae: 9.7379\n",
      "Epoch 12: val_mae improved from 10.08280 to 9.71510, saving model to CustomModel.weights.hdf5\n",
      "494/494 [==============================] - 46s 92ms/step - loss: 176.1048 - mae: 9.7379 - val_loss: 194.7867 - val_mae: 9.7151 - lr: 0.0010\n",
      "Epoch 13/30\n",
      "494/494 [==============================] - ETA: 0s - loss: 167.0414 - mae: 9.4596\n",
      "Epoch 13: val_mae improved from 9.71510 to 9.33580, saving model to CustomModel.weights.hdf5\n",
      "494/494 [==============================] - 45s 92ms/step - loss: 167.0414 - mae: 9.4596 - val_loss: 157.7840 - val_mae: 9.3358 - lr: 0.0010\n",
      "Epoch 14/30\n",
      "494/494 [==============================] - ETA: 0s - loss: 154.1170 - mae: 9.1181\n",
      "Epoch 14: val_mae did not improve from 9.33580\n",
      "494/494 [==============================] - 45s 91ms/step - loss: 154.1170 - mae: 9.1181 - val_loss: 153.1166 - val_mae: 9.3522 - lr: 0.0010\n",
      "Epoch 15/30\n",
      "494/494 [==============================] - ETA: 0s - loss: 143.3680 - mae: 8.7757\n",
      "Epoch 15: val_mae improved from 9.33580 to 8.16215, saving model to CustomModel.weights.hdf5\n",
      "494/494 [==============================] - 45s 92ms/step - loss: 143.3680 - mae: 8.7757 - val_loss: 130.3523 - val_mae: 8.1621 - lr: 0.0010\n",
      "Epoch 16/30\n",
      "494/494 [==============================] - ETA: 0s - loss: 135.6683 - mae: 8.5298\n",
      "Epoch 16: val_mae did not improve from 8.16215\n",
      "494/494 [==============================] - 45s 92ms/step - loss: 135.6683 - mae: 8.5298 - val_loss: 128.0355 - val_mae: 8.2117 - lr: 0.0010\n",
      "Epoch 17/30\n",
      "494/494 [==============================] - ETA: 0s - loss: 127.2541 - mae: 8.2259\n",
      "Epoch 17: val_mae did not improve from 8.16215\n",
      "494/494 [==============================] - 45s 92ms/step - loss: 127.2541 - mae: 8.2259 - val_loss: 147.8094 - val_mae: 8.3691 - lr: 0.0010\n",
      "Epoch 18/30\n",
      "494/494 [==============================] - ETA: 0s - loss: 121.3052 - mae: 8.0790\n",
      "Epoch 18: ReduceLROnPlateau reducing learning rate to 0.00020000000949949026.\n",
      "\n",
      "Epoch 18: val_mae did not improve from 8.16215\n",
      "494/494 [==============================] - 45s 92ms/step - loss: 121.3052 - mae: 8.0790 - val_loss: 159.9152 - val_mae: 8.8031 - lr: 0.0010\n",
      "Epoch 19/30\n",
      "494/494 [==============================] - ETA: 0s - loss: 83.2619 - mae: 6.6282\n",
      "Epoch 19: val_mae improved from 8.16215 to 7.39556, saving model to CustomModel.weights.hdf5\n",
      "494/494 [==============================] - 45s 92ms/step - loss: 83.2619 - mae: 6.6282 - val_loss: 109.6792 - val_mae: 7.3956 - lr: 2.0000e-04\n",
      "Epoch 20/30\n",
      "494/494 [==============================] - ETA: 0s - loss: 76.6257 - mae: 6.4110\n",
      "Epoch 20: val_mae did not improve from 7.39556\n",
      "494/494 [==============================] - 45s 92ms/step - loss: 76.6257 - mae: 6.4110 - val_loss: 117.2857 - val_mae: 7.5577 - lr: 2.0000e-04\n",
      "Epoch 21/30\n",
      "494/494 [==============================] - ETA: 0s - loss: 74.6093 - mae: 6.3174\n",
      "Epoch 21: val_mae improved from 7.39556 to 7.24304, saving model to CustomModel.weights.hdf5\n",
      "494/494 [==============================] - 45s 92ms/step - loss: 74.6093 - mae: 6.3174 - val_loss: 104.0576 - val_mae: 7.2430 - lr: 2.0000e-04\n",
      "Epoch 22/30\n",
      "494/494 [==============================] - ETA: 0s - loss: 71.3365 - mae: 6.2014\n",
      "Epoch 22: val_mae did not improve from 7.24304\n",
      "494/494 [==============================] - 45s 92ms/step - loss: 71.3365 - mae: 6.2014 - val_loss: 111.0497 - val_mae: 7.3721 - lr: 2.0000e-04\n",
      "Epoch 23/30\n",
      "494/494 [==============================] - ETA: 0s - loss: 68.0908 - mae: 6.0410\n",
      "Epoch 23: val_mae improved from 7.24304 to 7.18565, saving model to CustomModel.weights.hdf5\n",
      "494/494 [==============================] - 46s 92ms/step - loss: 68.0908 - mae: 6.0410 - val_loss: 103.0834 - val_mae: 7.1856 - lr: 2.0000e-04\n",
      "Epoch 24/30\n",
      "494/494 [==============================] - ETA: 0s - loss: 65.7363 - mae: 5.9455\n",
      "Epoch 24: val_mae improved from 7.18565 to 7.15948, saving model to CustomModel.weights.hdf5\n",
      "494/494 [==============================] - 46s 92ms/step - loss: 65.7363 - mae: 5.9455 - val_loss: 103.3025 - val_mae: 7.1595 - lr: 2.0000e-04\n",
      "Epoch 25/30\n",
      "494/494 [==============================] - ETA: 0s - loss: 63.0810 - mae: 5.8365\n",
      "Epoch 25: val_mae did not improve from 7.15948\n",
      "494/494 [==============================] - 46s 93ms/step - loss: 63.0810 - mae: 5.8365 - val_loss: 122.6142 - val_mae: 7.6956 - lr: 2.0000e-04\n",
      "Epoch 26/30\n",
      "494/494 [==============================] - ETA: 0s - loss: 60.9585 - mae: 5.7254\n",
      "Epoch 26: val_mae did not improve from 7.15948\n",
      "494/494 [==============================] - 46s 92ms/step - loss: 60.9585 - mae: 5.7254 - val_loss: 117.3359 - val_mae: 7.5195 - lr: 2.0000e-04\n",
      "Epoch 27/30\n",
      "494/494 [==============================] - ETA: 0s - loss: 59.0192 - mae: 5.6543\n",
      "Epoch 27: ReduceLROnPlateau reducing learning rate to 4.0000001899898055e-05.\n",
      "\n",
      "Epoch 27: val_mae did not improve from 7.15948\n",
      "494/494 [==============================] - 46s 93ms/step - loss: 59.0192 - mae: 5.6543 - val_loss: 102.8703 - val_mae: 7.1600 - lr: 2.0000e-04\n",
      "Epoch 28/30\n",
      "494/494 [==============================] - ETA: 0s - loss: 52.6405 - mae: 5.3440\n",
      "Epoch 28: val_mae did not improve from 7.15948\n",
      "494/494 [==============================] - 46s 93ms/step - loss: 52.6405 - mae: 5.3440 - val_loss: 105.2796 - val_mae: 7.1690 - lr: 4.0000e-05\n",
      "Epoch 29/30\n",
      "494/494 [==============================] - ETA: 0s - loss: 51.4632 - mae: 5.2735\n",
      "Epoch 29: val_mae improved from 7.15948 to 7.10614, saving model to CustomModel.weights.hdf5\n",
      "494/494 [==============================] - 46s 93ms/step - loss: 51.4632 - mae: 5.2735 - val_loss: 103.5016 - val_mae: 7.1061 - lr: 4.0000e-05\n",
      "Epoch 30/30\n",
      "494/494 [==============================] - ETA: 0s - loss: 50.4206 - mae: 5.2359\n",
      "Epoch 30: val_mae improved from 7.10614 to 7.09467, saving model to CustomModel.weights.hdf5\n",
      "494/494 [==============================] - 46s 93ms/step - loss: 50.4206 - mae: 5.2359 - val_loss: 102.7544 - val_mae: 7.0947 - lr: 4.0000e-05\n"
     ]
    },
    {
     "data": {
      "text/plain": [
       "<keras.callbacks.History at 0x2cdb4d5e0>"
      ]
     },
     "execution_count": 315,
     "metadata": {},
     "output_type": "execute_result"
    }
   ],
   "source": [
    "epochs = 30 \n",
    "custom_model.fit(train_gen, validation_data=valid_gen, epochs= epochs, callbacks= callbacks)"
   ]
  },
  {
   "cell_type": "code",
   "execution_count": null,
   "id": "17f23f71",
   "metadata": {},
   "outputs": [],
   "source": [
    "test_val_graph (custom_model.fit(train_gen, validation_data=valid_gen, epochs= epochs, callbacks= callbacks),'mae','val_mae')"
   ]
  },
  {
   "cell_type": "code",
   "execution_count": 317,
   "id": "14024ec4",
   "metadata": {},
   "outputs": [],
   "source": [
    "del custom_model"
   ]
  },
  {
   "cell_type": "code",
   "execution_count": 318,
   "id": "6fef61c4",
   "metadata": {},
   "outputs": [
    {
     "data": {
      "text/plain": [
       "4565"
      ]
     },
     "execution_count": 318,
     "metadata": {},
     "output_type": "execute_result"
    }
   ],
   "source": [
    "gc.collect()"
   ]
  },
  {
   "cell_type": "code",
   "execution_count": 320,
   "id": "db25a110",
   "metadata": {},
   "outputs": [],
   "source": [
    "# import tensorflow as tf\n",
    "custom_model =  tf.keras.models.load_model('CustomModel.weights.hdf5')"
   ]
  },
  {
   "cell_type": "code",
   "execution_count": 321,
   "id": "831cec41",
   "metadata": {},
   "outputs": [
    {
     "name": "stderr",
     "output_type": "stream",
     "text": [
      "2023-04-28 09:49:43.372372: I tensorflow/core/grappler/optimizers/custom_graph_optimizer_registry.cc:114] Plugin optimizer for device_type GPU is enabled.\n"
     ]
    },
    {
     "name": "stdout",
     "output_type": "stream",
     "text": [
      "74/74 [==============================] - 3s 31ms/step - loss: 103.9018 - mae: 7.1424\n"
     ]
    },
    {
     "data": {
      "text/plain": [
       "[103.90179443359375, 7.142443656921387]"
      ]
     },
     "execution_count": 321,
     "metadata": {},
     "output_type": "execute_result"
    }
   ],
   "source": [
    "# Evaluate the model \n",
    "custom_model.evaluate(test_gen)"
   ]
  },
  {
   "attachments": {},
   "cell_type": "markdown",
   "id": "7c6d802d",
   "metadata": {},
   "source": [
    "**Модель со слоем MultiHeadAttention.**"
   ]
  },
  {
   "cell_type": "code",
   "execution_count": 61,
   "id": "e3596a4f",
   "metadata": {},
   "outputs": [
    {
     "name": "stdout",
     "output_type": "stream",
     "text": [
      "Model: \"model_12\"\n",
      "__________________________________________________________________________________________________\n",
      " Layer (type)                   Output Shape         Param #     Connected to                     \n",
      "==================================================================================================\n",
      " input_25 (InputLayer)          [(None, 224, 224, 3  0           []                               \n",
      "                                )]                                                                \n",
      "                                                                                                  \n",
      " max_pooling2d_81 (MaxPooling2D  (None, 112, 112, 3)  0          ['input_25[0][0]']               \n",
      " )                                                                                                \n",
      "                                                                                                  \n",
      " conv2d_82 (Conv2D)             (None, 110, 110, 64  1792        ['max_pooling2d_81[0][0]']       \n",
      "                                )                                                                 \n",
      "                                                                                                  \n",
      " max_pooling2d_82 (MaxPooling2D  (None, 55, 55, 64)  0           ['conv2d_82[0][0]']              \n",
      " )                                                                                                \n",
      "                                                                                                  \n",
      " conv2d_83 (Conv2D)             (None, 53, 53, 128)  73856       ['max_pooling2d_82[0][0]']       \n",
      "                                                                                                  \n",
      " max_pooling2d_83 (MaxPooling2D  (None, 26, 26, 128)  0          ['conv2d_83[0][0]']              \n",
      " )                                                                                                \n",
      "                                                                                                  \n",
      " conv2d_84 (Conv2D)             (None, 24, 24, 256)  295168      ['max_pooling2d_83[0][0]']       \n",
      "                                                                                                  \n",
      " max_pooling2d_84 (MaxPooling2D  (None, 12, 12, 256)  0          ['conv2d_84[0][0]']              \n",
      " )                                                                                                \n",
      "                                                                                                  \n",
      " global_max_pooling2d_20 (Globa  (None, 256)         0           ['max_pooling2d_84[0][0]']       \n",
      " lMaxPooling2D)                                                                                   \n",
      "                                                                                                  \n",
      " dropout_23 (Dropout)           (None, 256)          0           ['global_max_pooling2d_20[0][0]']\n",
      "                                                                                                  \n",
      " flatten_19 (Flatten)           (None, 256)          0           ['dropout_23[0][0]']             \n",
      "                                                                                                  \n",
      " dense_55 (Dense)               (None, 128)          32896       ['flatten_19[0][0]']             \n",
      "                                                                                                  \n",
      " dense_56 (Dense)               (None, 64)           8256        ['dense_55[0][0]']               \n",
      "                                                                                                  \n",
      " multi_head_attention_14 (Multi  (None, 64)          1060928     ['dense_56[0][0]',               \n",
      " HeadAttention)                                                   'dense_56[0][0]']               \n",
      "                                                                                                  \n",
      " dropout_24 (Dropout)           (None, 64)           0           ['multi_head_attention_14[0][0]']\n",
      "                                                                                                  \n",
      " dense_57 (Dense)               (None, 1)            65          ['dropout_24[0][0]']             \n",
      "                                                                                                  \n",
      "==================================================================================================\n",
      "Total params: 1,472,961\n",
      "Trainable params: 1,472,961\n",
      "Non-trainable params: 0\n",
      "__________________________________________________________________________________________________\n"
     ]
    }
   ],
   "source": [
    "# Задаем параметры сети\n",
    "input_shape = (224,224,3) \n",
    "\n",
    "# Создаем сверточную нейронную сеть\n",
    "input_layer = Input(shape=input_shape)\n",
    "x = Conv2D(filters=32, kernel_size=(3,3), activation='relu')(input_layer) \n",
    "x = MaxPool2D(2,2)(input_layer) \n",
    "\n",
    "x = Conv2D(filters=64, kernel_size=(3,3), activation='relu')(x) \n",
    "x = MaxPool2D(2,2)(x) \n",
    "\n",
    "x = Conv2D(filters=128, kernel_size=(3,3), activation='relu')(x) \n",
    "x = MaxPool2D(2,2)(x) \n",
    "\n",
    "x = Conv2D(filters=256, kernel_size=(3,3), activation='relu')(x) \n",
    "x = MaxPool2D(2,2)(x) \n",
    "x = GlobalMaxPool2D()(x)\n",
    "x = Dropout(0.25)(x) \n",
    "x = Flatten()(x) \n",
    "x = Dense(units=128, activation='relu')(x) \n",
    "x = Dense(units=64, activation='relu')(x) \n",
    "\n",
    "# Создаем слой механизма внимания\n",
    "x = MultiHeadAttention(num_heads=8, key_dim=512, attention_axes=(0, 1))(x, x)\n",
    "x = Dropout(0.5)(x)\n",
    "\n",
    "# Добавляем выходной слой\n",
    "output_layer = Dense(1, activation='linear')(x)\n",
    "\n",
    "# Создаем модель\n",
    "mh_at_custom_model = Model(inputs=input_layer, outputs=output_layer)\n",
    "mh_at_custom_model.summary()"
   ]
  },
  {
   "cell_type": "code",
   "execution_count": null,
   "id": "3b8e0e36",
   "metadata": {},
   "outputs": [],
   "source": [
    "# show model structure \n",
    "from tensorflow.keras.utils import plot_model \n",
    "plot_model(mh_at_custom_model,show_shapes=True,\n",
    "    show_dtype=True,\n",
    "    show_layer_names=True)"
   ]
  },
  {
   "cell_type": "code",
   "execution_count": 64,
   "id": "8ef7d6cc",
   "metadata": {},
   "outputs": [],
   "source": [
    "# compile model\n",
    "mh_at_custom_model.compile(loss='mse', optimizer='rmsprop', metrics=['mae']) \n",
    "\n",
    "# initialize callbacks \n",
    "reduceLR = ReduceLROnPlateau(monitor='val_mae', patience= 3, verbose= 1, mode='min', factor=  0.2, min_lr = 1e-6) \n",
    "\n",
    "early_stopping = EarlyStopping(monitor='val_mae', patience = 5 , verbose=1, mode='min', restore_best_weights= True) \n",
    "\n",
    "checkpoint = ModelCheckpoint('Multihead_Attenion_CustomModel.weights.hdf5', monitor='val_mae', verbose=1, save_best_only=True, mode= 'min') \n",
    "\n",
    "callbacks= [reduceLR, early_stopping, checkpoint]"
   ]
  },
  {
   "cell_type": "code",
   "execution_count": 65,
   "id": "0e885e11",
   "metadata": {},
   "outputs": [
    {
     "name": "stdout",
     "output_type": "stream",
     "text": [
      "Epoch 1/30\n"
     ]
    },
    {
     "name": "stderr",
     "output_type": "stream",
     "text": [
      "2023-05-01 11:56:30.711969: I tensorflow/core/grappler/optimizers/custom_graph_optimizer_registry.cc:114] Plugin optimizer for device_type GPU is enabled.\n"
     ]
    },
    {
     "name": "stdout",
     "output_type": "stream",
     "text": [
      "480/480 [==============================] - ETA: 0s - loss: 519.4298 - mae: 17.1745"
     ]
    },
    {
     "name": "stderr",
     "output_type": "stream",
     "text": [
      "2023-05-01 11:57:02.212673: I tensorflow/core/grappler/optimizers/custom_graph_optimizer_registry.cc:114] Plugin optimizer for device_type GPU is enabled.\n"
     ]
    },
    {
     "name": "stdout",
     "output_type": "stream",
     "text": [
      "\n",
      "Epoch 1: val_mae improved from inf to 14.59214, saving model to Multihead_Attenion_CustomModel.weights.hdf5\n",
      "480/480 [==============================] - 37s 73ms/step - loss: 519.4298 - mae: 17.1745 - val_loss: 353.1433 - val_mae: 14.5921 - lr: 0.0010\n",
      "Epoch 2/30\n",
      "480/480 [==============================] - ETA: 0s - loss: 327.2922 - mae: 13.9769\n",
      "Epoch 2: val_mae improved from 14.59214 to 12.43668, saving model to Multihead_Attenion_CustomModel.weights.hdf5\n",
      "480/480 [==============================] - 34s 72ms/step - loss: 327.2922 - mae: 13.9769 - val_loss: 254.8083 - val_mae: 12.4367 - lr: 0.0010\n",
      "Epoch 3/30\n",
      "480/480 [==============================] - ETA: 0s - loss: 250.0003 - mae: 12.0973\n",
      "Epoch 3: val_mae improved from 12.43668 to 11.32623, saving model to Multihead_Attenion_CustomModel.weights.hdf5\n",
      "480/480 [==============================] - 36s 76ms/step - loss: 250.0003 - mae: 12.0973 - val_loss: 215.0585 - val_mae: 11.3262 - lr: 0.0010\n",
      "Epoch 4/30\n",
      "480/480 [==============================] - ETA: 0s - loss: 200.3516 - mae: 10.6301\n",
      "Epoch 4: val_mae improved from 11.32623 to 10.30894, saving model to Multihead_Attenion_CustomModel.weights.hdf5\n",
      "480/480 [==============================] - 37s 78ms/step - loss: 200.3516 - mae: 10.6301 - val_loss: 208.4485 - val_mae: 10.3089 - lr: 0.0010\n",
      "Epoch 5/30\n",
      "480/480 [==============================] - ETA: 0s - loss: 170.6594 - mae: 9.6289\n",
      "Epoch 5: val_mae improved from 10.30894 to 9.06620, saving model to Multihead_Attenion_CustomModel.weights.hdf5\n",
      "480/480 [==============================] - 38s 79ms/step - loss: 170.6594 - mae: 9.6289 - val_loss: 157.7433 - val_mae: 9.0662 - lr: 0.0010\n",
      "Epoch 6/30\n",
      "480/480 [==============================] - ETA: 0s - loss: 154.5927 - mae: 9.1788\n",
      "Epoch 6: val_mae improved from 9.06620 to 8.98233, saving model to Multihead_Attenion_CustomModel.weights.hdf5\n",
      "480/480 [==============================] - 39s 80ms/step - loss: 154.5927 - mae: 9.1788 - val_loss: 147.3236 - val_mae: 8.9823 - lr: 0.0010\n",
      "Epoch 7/30\n",
      "480/480 [==============================] - ETA: 0s - loss: 145.0243 - mae: 8.8898\n",
      "Epoch 7: val_mae did not improve from 8.98233\n",
      "480/480 [==============================] - 38s 79ms/step - loss: 145.0243 - mae: 8.8898 - val_loss: 240.8350 - val_mae: 10.7933 - lr: 0.0010\n",
      "Epoch 8/30\n",
      "480/480 [==============================] - ETA: 0s - loss: 136.5173 - mae: 8.5878\n",
      "Epoch 8: val_mae did not improve from 8.98233\n",
      "480/480 [==============================] - 37s 76ms/step - loss: 136.5173 - mae: 8.5878 - val_loss: 186.6275 - val_mae: 9.8056 - lr: 0.0010\n",
      "Epoch 9/30\n",
      "480/480 [==============================] - ETA: 0s - loss: 130.2568 - mae: 8.3262\n",
      "Epoch 9: val_mae improved from 8.98233 to 8.21298, saving model to Multihead_Attenion_CustomModel.weights.hdf5\n",
      "480/480 [==============================] - 36s 75ms/step - loss: 130.2568 - mae: 8.3262 - val_loss: 124.6735 - val_mae: 8.2130 - lr: 0.0010\n",
      "Epoch 10/30\n",
      "480/480 [==============================] - ETA: 0s - loss: 133.1508 - mae: 8.2211\n",
      "Epoch 10: val_mae improved from 8.21298 to 7.81151, saving model to Multihead_Attenion_CustomModel.weights.hdf5\n",
      "480/480 [==============================] - 36s 75ms/step - loss: 133.1508 - mae: 8.2211 - val_loss: 115.7116 - val_mae: 7.8115 - lr: 0.0010\n",
      "Epoch 11/30\n",
      "480/480 [==============================] - ETA: 0s - loss: 117.0148 - mae: 7.9192\n",
      "Epoch 11: val_mae did not improve from 7.81151\n",
      "480/480 [==============================] - 36s 76ms/step - loss: 117.0148 - mae: 7.9192 - val_loss: 127.0652 - val_mae: 8.6983 - lr: 0.0010\n",
      "Epoch 12/30\n",
      "480/480 [==============================] - ETA: 0s - loss: 154.3046 - mae: 8.0284\n",
      "Epoch 12: val_mae did not improve from 7.81151\n",
      "480/480 [==============================] - 36s 74ms/step - loss: 154.3046 - mae: 8.0284 - val_loss: 130.9911 - val_mae: 8.5948 - lr: 0.0010\n",
      "Epoch 13/30\n",
      "480/480 [==============================] - ETA: 0s - loss: 115.0985 - mae: 7.7512\n",
      "Epoch 13: ReduceLROnPlateau reducing learning rate to 0.00020000000949949026.\n",
      "\n",
      "Epoch 13: val_mae did not improve from 7.81151\n",
      "480/480 [==============================] - 36s 76ms/step - loss: 115.0985 - mae: 7.7512 - val_loss: 155.0470 - val_mae: 9.2419 - lr: 0.0010\n",
      "Epoch 14/30\n",
      "480/480 [==============================] - ETA: 0s - loss: 75.4608 - mae: 6.3605\n",
      "Epoch 14: val_mae improved from 7.81151 to 7.02225, saving model to Multihead_Attenion_CustomModel.weights.hdf5\n",
      "480/480 [==============================] - 36s 76ms/step - loss: 75.4608 - mae: 6.3605 - val_loss: 100.7112 - val_mae: 7.0223 - lr: 2.0000e-04\n",
      "Epoch 15/30\n",
      "480/480 [==============================] - ETA: 0s - loss: 67.3526 - mae: 6.0285\n",
      "Epoch 15: val_mae improved from 7.02225 to 6.96595, saving model to Multihead_Attenion_CustomModel.weights.hdf5\n",
      "480/480 [==============================] - 35s 73ms/step - loss: 67.3526 - mae: 6.0285 - val_loss: 100.5957 - val_mae: 6.9659 - lr: 2.0000e-04\n",
      "Epoch 16/30\n",
      "480/480 [==============================] - ETA: 0s - loss: 63.8626 - mae: 5.8893\n",
      "Epoch 16: val_mae did not improve from 6.96595\n",
      "480/480 [==============================] - 36s 74ms/step - loss: 63.8626 - mae: 5.8893 - val_loss: 109.1537 - val_mae: 7.2426 - lr: 2.0000e-04\n",
      "Epoch 17/30\n",
      "480/480 [==============================] - ETA: 0s - loss: 60.9835 - mae: 5.7427\n",
      "Epoch 17: val_mae did not improve from 6.96595\n",
      "480/480 [==============================] - 38s 78ms/step - loss: 60.9835 - mae: 5.7427 - val_loss: 99.3822 - val_mae: 6.9779 - lr: 2.0000e-04\n",
      "Epoch 18/30\n",
      "480/480 [==============================] - ETA: 0s - loss: 59.0240 - mae: 5.6371\n",
      "Epoch 18: val_mae improved from 6.96595 to 6.95816, saving model to Multihead_Attenion_CustomModel.weights.hdf5\n",
      "480/480 [==============================] - 38s 78ms/step - loss: 59.0240 - mae: 5.6371 - val_loss: 102.2245 - val_mae: 6.9582 - lr: 2.0000e-04\n",
      "Epoch 19/30\n",
      "480/480 [==============================] - ETA: 0s - loss: 55.9650 - mae: 5.5204\n",
      "Epoch 19: val_mae improved from 6.95816 to 6.91111, saving model to Multihead_Attenion_CustomModel.weights.hdf5\n",
      "480/480 [==============================] - 37s 77ms/step - loss: 55.9650 - mae: 5.5204 - val_loss: 97.1643 - val_mae: 6.9111 - lr: 2.0000e-04\n",
      "Epoch 20/30\n",
      "480/480 [==============================] - ETA: 0s - loss: 54.6592 - mae: 5.4657\n",
      "Epoch 20: val_mae did not improve from 6.91111\n",
      "480/480 [==============================] - 38s 79ms/step - loss: 54.6592 - mae: 5.4657 - val_loss: 97.8601 - val_mae: 6.9134 - lr: 2.0000e-04\n",
      "Epoch 21/30\n",
      "480/480 [==============================] - ETA: 0s - loss: 52.5968 - mae: 5.3360\n",
      "Epoch 21: val_mae improved from 6.91111 to 6.79659, saving model to Multihead_Attenion_CustomModel.weights.hdf5\n",
      "480/480 [==============================] - 36s 76ms/step - loss: 52.5968 - mae: 5.3360 - val_loss: 93.7281 - val_mae: 6.7966 - lr: 2.0000e-04\n",
      "Epoch 22/30\n",
      "480/480 [==============================] - ETA: 0s - loss: 50.4143 - mae: 5.2491\n",
      "Epoch 22: val_mae did not improve from 6.79659\n",
      "480/480 [==============================] - 34s 72ms/step - loss: 50.4143 - mae: 5.2491 - val_loss: 99.2012 - val_mae: 6.9511 - lr: 2.0000e-04\n",
      "Epoch 23/30\n",
      "480/480 [==============================] - ETA: 0s - loss: 49.1176 - mae: 5.1791\n",
      "Epoch 23: val_mae improved from 6.79659 to 6.79000, saving model to Multihead_Attenion_CustomModel.weights.hdf5\n",
      "480/480 [==============================] - 36s 75ms/step - loss: 49.1176 - mae: 5.1791 - val_loss: 92.8180 - val_mae: 6.7900 - lr: 2.0000e-04\n",
      "Epoch 24/30\n",
      "480/480 [==============================] - ETA: 0s - loss: 46.9370 - mae: 5.0822\n",
      "Epoch 24: val_mae did not improve from 6.79000\n",
      "480/480 [==============================] - 36s 76ms/step - loss: 46.9370 - mae: 5.0822 - val_loss: 96.1057 - val_mae: 6.8482 - lr: 2.0000e-04\n",
      "Epoch 25/30\n",
      "480/480 [==============================] - ETA: 0s - loss: 46.1389 - mae: 5.0059\n",
      "Epoch 25: val_mae did not improve from 6.79000\n",
      "480/480 [==============================] - 36s 76ms/step - loss: 46.1389 - mae: 5.0059 - val_loss: 105.9320 - val_mae: 7.0694 - lr: 2.0000e-04\n",
      "Epoch 26/30\n",
      "480/480 [==============================] - ETA: 0s - loss: 45.1593 - mae: 4.9615\n",
      "Epoch 26: ReduceLROnPlateau reducing learning rate to 4.0000001899898055e-05.\n",
      "\n",
      "Epoch 26: val_mae did not improve from 6.79000\n",
      "480/480 [==============================] - 37s 76ms/step - loss: 45.1593 - mae: 4.9615 - val_loss: 94.4247 - val_mae: 6.8546 - lr: 2.0000e-04\n",
      "Epoch 27/30\n",
      "480/480 [==============================] - ETA: 0s - loss: 37.5972 - mae: 4.5626\n",
      "Epoch 27: val_mae improved from 6.79000 to 6.77982, saving model to Multihead_Attenion_CustomModel.weights.hdf5\n",
      "480/480 [==============================] - 35s 74ms/step - loss: 37.5972 - mae: 4.5626 - val_loss: 95.9389 - val_mae: 6.7798 - lr: 4.0000e-05\n",
      "Epoch 28/30\n",
      "480/480 [==============================] - ETA: 0s - loss: 36.3502 - mae: 4.4806\n",
      "Epoch 28: val_mae improved from 6.77982 to 6.77247, saving model to Multihead_Attenion_CustomModel.weights.hdf5\n",
      "480/480 [==============================] - 35s 74ms/step - loss: 36.3502 - mae: 4.4806 - val_loss: 94.5105 - val_mae: 6.7725 - lr: 4.0000e-05\n",
      "Epoch 29/30\n",
      "480/480 [==============================] - ETA: 0s - loss: 35.8730 - mae: 4.4434\n",
      "Epoch 29: val_mae did not improve from 6.77247\n",
      "480/480 [==============================] - 35s 73ms/step - loss: 35.8730 - mae: 4.4434 - val_loss: 96.6496 - val_mae: 6.8153 - lr: 4.0000e-05\n",
      "Epoch 30/30\n",
      "480/480 [==============================] - ETA: 0s - loss: 35.4096 - mae: 4.4094\n",
      "Epoch 30: val_mae did not improve from 6.77247\n",
      "480/480 [==============================] - 35s 74ms/step - loss: 35.4096 - mae: 4.4094 - val_loss: 97.9684 - val_mae: 6.8319 - lr: 4.0000e-05\n"
     ]
    },
    {
     "data": {
      "text/plain": [
       "<keras.callbacks.History at 0x2ff494250>"
      ]
     },
     "execution_count": 65,
     "metadata": {},
     "output_type": "execute_result"
    }
   ],
   "source": [
    "# train model\n",
    "epochs = 30 \n",
    "mh_at_custom_model.fit(train_gen, validation_data=valid_gen, epochs= epochs, callbacks= callbacks)"
   ]
  },
  {
   "cell_type": "code",
   "execution_count": 66,
   "id": "bc36daa7",
   "metadata": {},
   "outputs": [],
   "source": [
    "del mh_at_custom_model"
   ]
  },
  {
   "cell_type": "code",
   "execution_count": 67,
   "id": "e5522021",
   "metadata": {},
   "outputs": [
    {
     "data": {
      "text/plain": [
       "30066"
      ]
     },
     "execution_count": 67,
     "metadata": {},
     "output_type": "execute_result"
    }
   ],
   "source": [
    "gc.collect()"
   ]
  },
  {
   "cell_type": "code",
   "execution_count": 68,
   "id": "f1aeff1b",
   "metadata": {},
   "outputs": [],
   "source": [
    "# Load trained model \n",
    "mh_at_custom_model = tf.keras.models.load_model('Multihead_Attenion_CustomModel.weights.hdf5')"
   ]
  },
  {
   "cell_type": "code",
   "execution_count": 69,
   "id": "ed8e800a",
   "metadata": {},
   "outputs": [
    {
     "name": "stdout",
     "output_type": "stream",
     "text": [
      " 1/89 [..............................] - ETA: 20s - loss: 66.6144 - mae: 5.5758"
     ]
    },
    {
     "name": "stderr",
     "output_type": "stream",
     "text": [
      "2023-05-01 12:15:27.528356: I tensorflow/core/grappler/optimizers/custom_graph_optimizer_registry.cc:114] Plugin optimizer for device_type GPU is enabled.\n"
     ]
    },
    {
     "name": "stdout",
     "output_type": "stream",
     "text": [
      "89/89 [==============================] - 3s 28ms/step - loss: 100.7148 - mae: 6.9767\n"
     ]
    },
    {
     "data": {
      "text/plain": [
       "[100.71483612060547, 6.976693630218506]"
      ]
     },
     "execution_count": 69,
     "metadata": {},
     "output_type": "execute_result"
    }
   ],
   "source": [
    "# Evaluate the model \n",
    "mh_at_custom_model.evaluate(test_gen)"
   ]
  },
  {
   "attachments": {},
   "cell_type": "markdown",
   "id": "84b214ee",
   "metadata": {},
   "source": [
    "**Вывод**\n",
    "\n",
    "| Модель | train | valid | test |\n",
    "| ----------- | ----------- | ----------- |----------- |\n",
    "| custom_model | 5,23 | 7,09 | 7,14 |\n",
    "| mh_at_custom_model | 4,56 | 6,77 | 6.97 |\n",
    "\n",
    "Применение слоя MultiHeadAttention улучшило результат модели."
   ]
  }
 ],
 "metadata": {
  "kernelspec": {
   "display_name": "Python 3 (ipykernel)",
   "language": "python",
   "name": "python3"
  },
  "language_info": {
   "codemirror_mode": {
    "name": "ipython",
    "version": 3
   },
   "file_extension": ".py",
   "mimetype": "text/x-python",
   "name": "python",
   "nbconvert_exporter": "python",
   "pygments_lexer": "ipython3",
   "version": "3.9.16"
  }
 },
 "nbformat": 4,
 "nbformat_minor": 5
}
