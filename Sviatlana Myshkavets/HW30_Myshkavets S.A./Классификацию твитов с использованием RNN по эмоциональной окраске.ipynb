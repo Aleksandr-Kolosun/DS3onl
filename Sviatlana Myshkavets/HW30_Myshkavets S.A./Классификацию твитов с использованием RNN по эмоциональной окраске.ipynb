{
 "cells": [
  {
   "cell_type": "markdown",
   "id": "993c4538",
   "metadata": {},
   "source": [
    "Мышковец С.А., v.1 14.03.2023\n",
    "\n",
    "Решение задачи:\n",
    "\n",
    "Выполнить классификацию твитов из предоставленного набора данных с использованием рекурентных нейронных сетей по 4 классам.\n",
    "\n",
    "Вывод:\n",
    "\n",
    "Максимальная точность на валидационной выборке - 92,9%.\n"
   ]
  },
  {
   "cell_type": "code",
   "execution_count": 1,
   "id": "7665f1c1",
   "metadata": {},
   "outputs": [],
   "source": [
    "import pandas as pd \n",
    "import matplotlib.pyplot as plt \n",
    "import numpy as np \n",
    "import tensorflow as tf \n",
    "from tensorflow.keras.preprocessing.text import Tokenizer\n",
    "import tensorflow as tf\n",
    "from sklearn.metrics import accuracy_score\n",
    "from sklearn.model_selection import train_test_split\n",
    "from sklearn.metrics import accuracy_score, confusion_matrix, precision_score, recall_score\n",
    "import seaborn as sns \n",
    "plt.style.use('ggplot')"
   ]
  },
  {
   "cell_type": "markdown",
   "id": "06312a79",
   "metadata": {},
   "source": [
    "**Загрузим данные.**"
   ]
  },
  {
   "cell_type": "code",
   "execution_count": 2,
   "id": "3b37be0d",
   "metadata": {},
   "outputs": [],
   "source": [
    "train_df = pd.read_csv('twitter_training.csv', header=None,names=['model', 'video', 'emotion', 'twit'])"
   ]
  },
  {
   "cell_type": "code",
   "execution_count": 3,
   "id": "39dae1a2",
   "metadata": {},
   "outputs": [
    {
     "data": {
      "text/html": [
       "<div>\n",
       "<style scoped>\n",
       "    .dataframe tbody tr th:only-of-type {\n",
       "        vertical-align: middle;\n",
       "    }\n",
       "\n",
       "    .dataframe tbody tr th {\n",
       "        vertical-align: top;\n",
       "    }\n",
       "\n",
       "    .dataframe thead th {\n",
       "        text-align: right;\n",
       "    }\n",
       "</style>\n",
       "<table border=\"1\" class=\"dataframe\">\n",
       "  <thead>\n",
       "    <tr style=\"text-align: right;\">\n",
       "      <th></th>\n",
       "      <th>model</th>\n",
       "      <th>video</th>\n",
       "      <th>emotion</th>\n",
       "      <th>twit</th>\n",
       "    </tr>\n",
       "  </thead>\n",
       "  <tbody>\n",
       "    <tr>\n",
       "      <th>0</th>\n",
       "      <td>2401</td>\n",
       "      <td>Borderlands</td>\n",
       "      <td>Positive</td>\n",
       "      <td>im getting on borderlands and i will murder yo...</td>\n",
       "    </tr>\n",
       "    <tr>\n",
       "      <th>1</th>\n",
       "      <td>2401</td>\n",
       "      <td>Borderlands</td>\n",
       "      <td>Positive</td>\n",
       "      <td>I am coming to the borders and I will kill you...</td>\n",
       "    </tr>\n",
       "    <tr>\n",
       "      <th>2</th>\n",
       "      <td>2401</td>\n",
       "      <td>Borderlands</td>\n",
       "      <td>Positive</td>\n",
       "      <td>im getting on borderlands and i will kill you ...</td>\n",
       "    </tr>\n",
       "  </tbody>\n",
       "</table>\n",
       "</div>"
      ],
      "text/plain": [
       "   model        video   emotion  \\\n",
       "0   2401  Borderlands  Positive   \n",
       "1   2401  Borderlands  Positive   \n",
       "2   2401  Borderlands  Positive   \n",
       "\n",
       "                                                twit  \n",
       "0  im getting on borderlands and i will murder yo...  \n",
       "1  I am coming to the borders and I will kill you...  \n",
       "2  im getting on borderlands and i will kill you ...  "
      ]
     },
     "execution_count": 3,
     "metadata": {},
     "output_type": "execute_result"
    }
   ],
   "source": [
    "train_df.head(3)"
   ]
  },
  {
   "cell_type": "code",
   "execution_count": 4,
   "id": "8c7b0202",
   "metadata": {},
   "outputs": [
    {
     "name": "stdout",
     "output_type": "stream",
     "text": [
      "<class 'pandas.core.frame.DataFrame'>\n",
      "RangeIndex: 74682 entries, 0 to 74681\n",
      "Data columns (total 4 columns):\n",
      " #   Column   Non-Null Count  Dtype \n",
      "---  ------   --------------  ----- \n",
      " 0   model    74682 non-null  int64 \n",
      " 1   video    74682 non-null  object\n",
      " 2   emotion  74682 non-null  object\n",
      " 3   twit     73996 non-null  object\n",
      "dtypes: int64(1), object(3)\n",
      "memory usage: 2.3+ MB\n"
     ]
    }
   ],
   "source": [
    "train_df.info()"
   ]
  },
  {
   "cell_type": "code",
   "execution_count": 5,
   "id": "33b9009a",
   "metadata": {},
   "outputs": [
    {
     "data": {
      "text/plain": [
       "array(['Positive', 'Neutral', 'Negative', 'Irrelevant'], dtype=object)"
      ]
     },
     "execution_count": 5,
     "metadata": {},
     "output_type": "execute_result"
    }
   ],
   "source": [
    "train_df.emotion.unique()"
   ]
  },
  {
   "cell_type": "markdown",
   "id": "47118d3c",
   "metadata": {},
   "source": [
    "**Удалим записи с пустыми твиттами и лишние столбцы.**"
   ]
  },
  {
   "cell_type": "code",
   "execution_count": 6,
   "id": "f09db1b3",
   "metadata": {},
   "outputs": [
    {
     "data": {
      "text/plain": [
       "model        0\n",
       "video        0\n",
       "emotion      0\n",
       "twit       686\n",
       "dtype: int64"
      ]
     },
     "execution_count": 6,
     "metadata": {},
     "output_type": "execute_result"
    }
   ],
   "source": [
    "train_df.isna().sum()"
   ]
  },
  {
   "cell_type": "code",
   "execution_count": 7,
   "id": "e16e5056",
   "metadata": {},
   "outputs": [],
   "source": [
    "train_df = train_df.drop(train_df[train_df.twit.isna()].index)"
   ]
  },
  {
   "cell_type": "code",
   "execution_count": 8,
   "id": "58d23367",
   "metadata": {},
   "outputs": [],
   "source": [
    "train_df = train_df.drop(['model', 'video'], axis=1)"
   ]
  },
  {
   "cell_type": "markdown",
   "id": "a9e6527d",
   "metadata": {},
   "source": [
    "**Закодируем таргеты и удалим исходную колонку.**"
   ]
  },
  {
   "cell_type": "code",
   "execution_count": 9,
   "id": "6580ba79",
   "metadata": {},
   "outputs": [],
   "source": [
    "from sklearn import preprocessing\n",
    "le = preprocessing.LabelEncoder()"
   ]
  },
  {
   "cell_type": "code",
   "execution_count": 10,
   "id": "759d53ba",
   "metadata": {},
   "outputs": [],
   "source": [
    "train_df[\"le_emotion\"] = le.fit_transform(train_df[\"emotion\"])"
   ]
  },
  {
   "cell_type": "code",
   "execution_count": 11,
   "id": "a95a1763",
   "metadata": {},
   "outputs": [],
   "source": [
    "train_df = train_df.drop(['emotion'], axis=1)"
   ]
  },
  {
   "cell_type": "code",
   "execution_count": 12,
   "id": "94dec6f4",
   "metadata": {},
   "outputs": [
    {
     "name": "stdout",
     "output_type": "stream",
     "text": [
      "<class 'pandas.core.frame.DataFrame'>\n",
      "Int64Index: 73996 entries, 0 to 74681\n",
      "Data columns (total 2 columns):\n",
      " #   Column      Non-Null Count  Dtype \n",
      "---  ------      --------------  ----- \n",
      " 0   twit        73996 non-null  object\n",
      " 1   le_emotion  73996 non-null  int64 \n",
      "dtypes: int64(1), object(1)\n",
      "memory usage: 1.7+ MB\n"
     ]
    }
   ],
   "source": [
    "train_df.info()"
   ]
  },
  {
   "cell_type": "code",
   "execution_count": 13,
   "id": "0e1343c0",
   "metadata": {},
   "outputs": [
    {
     "data": {
      "text/html": [
       "<div>\n",
       "<style scoped>\n",
       "    .dataframe tbody tr th:only-of-type {\n",
       "        vertical-align: middle;\n",
       "    }\n",
       "\n",
       "    .dataframe tbody tr th {\n",
       "        vertical-align: top;\n",
       "    }\n",
       "\n",
       "    .dataframe thead th {\n",
       "        text-align: right;\n",
       "    }\n",
       "</style>\n",
       "<table border=\"1\" class=\"dataframe\">\n",
       "  <thead>\n",
       "    <tr style=\"text-align: right;\">\n",
       "      <th></th>\n",
       "      <th>twit</th>\n",
       "      <th>le_emotion</th>\n",
       "    </tr>\n",
       "  </thead>\n",
       "  <tbody>\n",
       "    <tr>\n",
       "      <th>0</th>\n",
       "      <td>im getting on borderlands and i will murder yo...</td>\n",
       "      <td>3</td>\n",
       "    </tr>\n",
       "    <tr>\n",
       "      <th>1</th>\n",
       "      <td>I am coming to the borders and I will kill you...</td>\n",
       "      <td>3</td>\n",
       "    </tr>\n",
       "    <tr>\n",
       "      <th>2</th>\n",
       "      <td>im getting on borderlands and i will kill you ...</td>\n",
       "      <td>3</td>\n",
       "    </tr>\n",
       "  </tbody>\n",
       "</table>\n",
       "</div>"
      ],
      "text/plain": [
       "                                                twit  le_emotion\n",
       "0  im getting on borderlands and i will murder yo...           3\n",
       "1  I am coming to the borders and I will kill you...           3\n",
       "2  im getting on borderlands and i will kill you ...           3"
      ]
     },
     "execution_count": 13,
     "metadata": {},
     "output_type": "execute_result"
    }
   ],
   "source": [
    "train_df.head(3)"
   ]
  },
  {
   "cell_type": "code",
   "execution_count": 14,
   "id": "a9d7b5ea",
   "metadata": {},
   "outputs": [
    {
     "data": {
      "text/plain": [
       "array([[<AxesSubplot: title={'center': 'le_emotion'}>]], dtype=object)"
      ]
     },
     "execution_count": 14,
     "metadata": {},
     "output_type": "execute_result"
    },
    {
     "data": {
      "image/png": "[encoded data removed]",
      "text/plain": [
       "<Figure size 640x480 with 1 Axes>"
      ]
     },
     "metadata": {},
     "output_type": "display_data"
    }
   ],
   "source": [
    "train_df.hist()"
   ]
  },
  {
   "cell_type": "markdown",
   "id": "6817cc36",
   "metadata": {},
   "source": [
    "**Классы относительно сбалансированые.**"
   ]
  },
  {
   "cell_type": "markdown",
   "id": "02a15e78",
   "metadata": {},
   "source": [
    "---"
   ]
  },
  {
   "cell_type": "markdown",
   "id": "1c2116fb",
   "metadata": {},
   "source": [
    "**Повторим выше указанные действия на валидационной выборке.**"
   ]
  },
  {
   "cell_type": "code",
   "execution_count": 15,
   "id": "d4589f83",
   "metadata": {},
   "outputs": [],
   "source": [
    "valid_df = pd.read_csv('twitter_validation.csv', header=None,names=['model', 'video', 'emotion', 'twit'])"
   ]
  },
  {
   "cell_type": "code",
   "execution_count": 16,
   "id": "ba728ad5",
   "metadata": {},
   "outputs": [
    {
     "data": {
      "text/html": [
       "<div>\n",
       "<style scoped>\n",
       "    .dataframe tbody tr th:only-of-type {\n",
       "        vertical-align: middle;\n",
       "    }\n",
       "\n",
       "    .dataframe tbody tr th {\n",
       "        vertical-align: top;\n",
       "    }\n",
       "\n",
       "    .dataframe thead th {\n",
       "        text-align: right;\n",
       "    }\n",
       "</style>\n",
       "<table border=\"1\" class=\"dataframe\">\n",
       "  <thead>\n",
       "    <tr style=\"text-align: right;\">\n",
       "      <th></th>\n",
       "      <th>model</th>\n",
       "      <th>video</th>\n",
       "      <th>emotion</th>\n",
       "      <th>twit</th>\n",
       "    </tr>\n",
       "  </thead>\n",
       "  <tbody>\n",
       "    <tr>\n",
       "      <th>0</th>\n",
       "      <td>3364</td>\n",
       "      <td>Facebook</td>\n",
       "      <td>Irrelevant</td>\n",
       "      <td>I mentioned on Facebook that I was struggling ...</td>\n",
       "    </tr>\n",
       "    <tr>\n",
       "      <th>1</th>\n",
       "      <td>352</td>\n",
       "      <td>Amazon</td>\n",
       "      <td>Neutral</td>\n",
       "      <td>BBC News - Amazon boss Jeff Bezos rejects clai...</td>\n",
       "    </tr>\n",
       "    <tr>\n",
       "      <th>2</th>\n",
       "      <td>8312</td>\n",
       "      <td>Microsoft</td>\n",
       "      <td>Negative</td>\n",
       "      <td>@Microsoft Why do I pay for WORD when it funct...</td>\n",
       "    </tr>\n",
       "  </tbody>\n",
       "</table>\n",
       "</div>"
      ],
      "text/plain": [
       "   model      video     emotion  \\\n",
       "0   3364   Facebook  Irrelevant   \n",
       "1    352     Amazon     Neutral   \n",
       "2   8312  Microsoft    Negative   \n",
       "\n",
       "                                                twit  \n",
       "0  I mentioned on Facebook that I was struggling ...  \n",
       "1  BBC News - Amazon boss Jeff Bezos rejects clai...  \n",
       "2  @Microsoft Why do I pay for WORD when it funct...  "
      ]
     },
     "execution_count": 16,
     "metadata": {},
     "output_type": "execute_result"
    }
   ],
   "source": [
    "valid_df.head(3)"
   ]
  },
  {
   "cell_type": "code",
   "execution_count": 17,
   "id": "69792632",
   "metadata": {},
   "outputs": [
    {
     "data": {
      "text/plain": [
       "model      0\n",
       "video      0\n",
       "emotion    0\n",
       "twit       0\n",
       "dtype: int64"
      ]
     },
     "execution_count": 17,
     "metadata": {},
     "output_type": "execute_result"
    }
   ],
   "source": [
    "valid_df.isna().sum()"
   ]
  },
  {
   "cell_type": "code",
   "execution_count": 18,
   "id": "7b57159a",
   "metadata": {},
   "outputs": [],
   "source": [
    "valid_df[\"le_emotion\"] = le.fit_transform(valid_df[\"emotion\"])"
   ]
  },
  {
   "cell_type": "code",
   "execution_count": 19,
   "id": "f5345a8d",
   "metadata": {},
   "outputs": [],
   "source": [
    "valid_df = valid_df.drop(['emotion', 'video', 'model'], axis=1)"
   ]
  },
  {
   "cell_type": "code",
   "execution_count": 20,
   "id": "b46462ac",
   "metadata": {},
   "outputs": [
    {
     "data": {
      "text/html": [
       "<div>\n",
       "<style scoped>\n",
       "    .dataframe tbody tr th:only-of-type {\n",
       "        vertical-align: middle;\n",
       "    }\n",
       "\n",
       "    .dataframe tbody tr th {\n",
       "        vertical-align: top;\n",
       "    }\n",
       "\n",
       "    .dataframe thead th {\n",
       "        text-align: right;\n",
       "    }\n",
       "</style>\n",
       "<table border=\"1\" class=\"dataframe\">\n",
       "  <thead>\n",
       "    <tr style=\"text-align: right;\">\n",
       "      <th></th>\n",
       "      <th>twit</th>\n",
       "      <th>le_emotion</th>\n",
       "    </tr>\n",
       "  </thead>\n",
       "  <tbody>\n",
       "    <tr>\n",
       "      <th>0</th>\n",
       "      <td>I mentioned on Facebook that I was struggling ...</td>\n",
       "      <td>0</td>\n",
       "    </tr>\n",
       "    <tr>\n",
       "      <th>1</th>\n",
       "      <td>BBC News - Amazon boss Jeff Bezos rejects clai...</td>\n",
       "      <td>2</td>\n",
       "    </tr>\n",
       "    <tr>\n",
       "      <th>2</th>\n",
       "      <td>@Microsoft Why do I pay for WORD when it funct...</td>\n",
       "      <td>1</td>\n",
       "    </tr>\n",
       "    <tr>\n",
       "      <th>3</th>\n",
       "      <td>CSGO matchmaking is so full of closet hacking,...</td>\n",
       "      <td>1</td>\n",
       "    </tr>\n",
       "    <tr>\n",
       "      <th>4</th>\n",
       "      <td>Now the President is slapping Americans in the...</td>\n",
       "      <td>2</td>\n",
       "    </tr>\n",
       "  </tbody>\n",
       "</table>\n",
       "</div>"
      ],
      "text/plain": [
       "                                                twit  le_emotion\n",
       "0  I mentioned on Facebook that I was struggling ...           0\n",
       "1  BBC News - Amazon boss Jeff Bezos rejects clai...           2\n",
       "2  @Microsoft Why do I pay for WORD when it funct...           1\n",
       "3  CSGO matchmaking is so full of closet hacking,...           1\n",
       "4  Now the President is slapping Americans in the...           2"
      ]
     },
     "execution_count": 20,
     "metadata": {},
     "output_type": "execute_result"
    }
   ],
   "source": [
    "valid_df.head()"
   ]
  },
  {
   "cell_type": "markdown",
   "id": "71cb0e23",
   "metadata": {},
   "source": [
    "---"
   ]
  },
  {
   "cell_type": "markdown",
   "id": "d3beff72",
   "metadata": {},
   "source": [
    "**Сформируем токенизатор на основе тренировочной и валидационной выборок.**"
   ]
  },
  {
   "cell_type": "code",
   "execution_count": 21,
   "id": "31c76a11",
   "metadata": {},
   "outputs": [],
   "source": [
    "tokenazer_df = pd.concat([train_df, valid_df])"
   ]
  },
  {
   "cell_type": "code",
   "execution_count": 22,
   "id": "fa3ed534",
   "metadata": {},
   "outputs": [
    {
     "data": {
      "text/html": [
       "<div>\n",
       "<style scoped>\n",
       "    .dataframe tbody tr th:only-of-type {\n",
       "        vertical-align: middle;\n",
       "    }\n",
       "\n",
       "    .dataframe tbody tr th {\n",
       "        vertical-align: top;\n",
       "    }\n",
       "\n",
       "    .dataframe thead th {\n",
       "        text-align: right;\n",
       "    }\n",
       "</style>\n",
       "<table border=\"1\" class=\"dataframe\">\n",
       "  <thead>\n",
       "    <tr style=\"text-align: right;\">\n",
       "      <th></th>\n",
       "      <th>twit</th>\n",
       "      <th>le_emotion</th>\n",
       "    </tr>\n",
       "  </thead>\n",
       "  <tbody>\n",
       "    <tr>\n",
       "      <th>0</th>\n",
       "      <td>im getting on borderlands and i will murder yo...</td>\n",
       "      <td>3</td>\n",
       "    </tr>\n",
       "    <tr>\n",
       "      <th>1</th>\n",
       "      <td>I am coming to the borders and I will kill you...</td>\n",
       "      <td>3</td>\n",
       "    </tr>\n",
       "    <tr>\n",
       "      <th>2</th>\n",
       "      <td>im getting on borderlands and i will kill you ...</td>\n",
       "      <td>3</td>\n",
       "    </tr>\n",
       "  </tbody>\n",
       "</table>\n",
       "</div>"
      ],
      "text/plain": [
       "                                                twit  le_emotion\n",
       "0  im getting on borderlands and i will murder yo...           3\n",
       "1  I am coming to the borders and I will kill you...           3\n",
       "2  im getting on borderlands and i will kill you ...           3"
      ]
     },
     "execution_count": 22,
     "metadata": {},
     "output_type": "execute_result"
    }
   ],
   "source": [
    "tokenazer_df.head(3)"
   ]
  },
  {
   "cell_type": "code",
   "execution_count": 23,
   "id": "db9a85af",
   "metadata": {},
   "outputs": [],
   "source": [
    "word_count = []\n",
    "len_tw = []\n",
    "for tw in tokenazer_df['twit']:\n",
    "    words = [w for w in tw.split(' ')]\n",
    "    len_tw.append(len(words))\n",
    "    word_count.extend(words)"
   ]
  },
  {
   "cell_type": "markdown",
   "id": "ef28c2c5",
   "metadata": {},
   "source": [
    "**Найдем длину словаря.**"
   ]
  },
  {
   "cell_type": "code",
   "execution_count": 24,
   "id": "5d4f797d",
   "metadata": {},
   "outputs": [],
   "source": [
    "unique_words = set(word_count)"
   ]
  },
  {
   "cell_type": "code",
   "execution_count": 25,
   "id": "5445c885",
   "metadata": {},
   "outputs": [
    {
     "data": {
      "text/plain": [
       "83850"
      ]
     },
     "execution_count": 25,
     "metadata": {},
     "output_type": "execute_result"
    }
   ],
   "source": [
    "len(unique_words)"
   ]
  },
  {
   "cell_type": "code",
   "execution_count": 26,
   "id": "20151017",
   "metadata": {},
   "outputs": [
    {
     "data": {
      "text/plain": [
       "198"
      ]
     },
     "execution_count": 26,
     "metadata": {},
     "output_type": "execute_result"
    }
   ],
   "source": [
    "max(len_tw)"
   ]
  },
  {
   "cell_type": "code",
   "execution_count": 27,
   "id": "fd800134",
   "metadata": {},
   "outputs": [
    {
     "data": {
      "text/plain": [
       "1"
      ]
     },
     "execution_count": 27,
     "metadata": {},
     "output_type": "execute_result"
    }
   ],
   "source": [
    "min(len_tw)"
   ]
  },
  {
   "cell_type": "code",
   "execution_count": 28,
   "id": "a9cb532b",
   "metadata": {},
   "outputs": [
    {
     "data": {
      "text/plain": [
       "19.4236759293829"
      ]
     },
     "execution_count": 28,
     "metadata": {},
     "output_type": "execute_result"
    }
   ],
   "source": [
    "sum(len_tw)/len(len_tw)"
   ]
  },
  {
   "cell_type": "code",
   "execution_count": 29,
   "id": "7e554d74",
   "metadata": {},
   "outputs": [],
   "source": [
    "max_vocab = 50000\n",
    "tokenizer = Tokenizer(num_words=max_vocab, oov_token='<OOV>')\n",
    "tokenizer.fit_on_texts(tokenazer_df.twit)"
   ]
  },
  {
   "cell_type": "markdown",
   "id": "a5ae005f",
   "metadata": {},
   "source": [
    "---"
   ]
  },
  {
   "cell_type": "markdown",
   "id": "07045531",
   "metadata": {},
   "source": [
    "**Выделим из тенировочной выборки тестовую.**"
   ]
  },
  {
   "cell_type": "code",
   "execution_count": 30,
   "id": "e2e7a431",
   "metadata": {},
   "outputs": [],
   "source": [
    "X = train_df.twit\n",
    "y = train_df.le_emotion"
   ]
  },
  {
   "cell_type": "code",
   "execution_count": 31,
   "id": "a201f746",
   "metadata": {},
   "outputs": [],
   "source": [
    "X_train, X_test, y_train, y_test = train_test_split(X, y, test_size=0.20, random_state=18, stratify=y)"
   ]
  },
  {
   "cell_type": "markdown",
   "id": "5f17fbf6",
   "metadata": {},
   "source": [
    "**Токенизируем тренировочную и тестовую выборку признаков.**"
   ]
  },
  {
   "cell_type": "code",
   "execution_count": 32,
   "id": "7f96f390",
   "metadata": {},
   "outputs": [],
   "source": [
    "X_train = tokenizer.texts_to_sequences(X_train)"
   ]
  },
  {
   "cell_type": "code",
   "execution_count": 33,
   "id": "ada3d350",
   "metadata": {},
   "outputs": [],
   "source": [
    "# text = tokenizer.sequences_to_texts(X_train)"
   ]
  },
  {
   "cell_type": "code",
   "execution_count": 34,
   "id": "7c42c130",
   "metadata": {},
   "outputs": [],
   "source": [
    "# text[1]"
   ]
  },
  {
   "cell_type": "code",
   "execution_count": 35,
   "id": "bddf4004",
   "metadata": {},
   "outputs": [],
   "source": [
    "X_test = tokenizer.texts_to_sequences(X_test)"
   ]
  },
  {
   "cell_type": "code",
   "execution_count": 36,
   "id": "7c1b79fe",
   "metadata": {},
   "outputs": [],
   "source": [
    "X_train = tf.keras.preprocessing.sequence.pad_sequences(X_train, padding='post', maxlen=20)\n",
    "X_test = tf.keras.preprocessing.sequence.pad_sequences(X_test, padding='post', maxlen=20)"
   ]
  },
  {
   "cell_type": "markdown",
   "id": "8f4f54fe",
   "metadata": {},
   "source": [
    "---"
   ]
  },
  {
   "cell_type": "markdown",
   "id": "e36a284e",
   "metadata": {},
   "source": [
    "**Сформируем модель.**"
   ]
  },
  {
   "cell_type": "code",
   "execution_count": 37,
   "id": "c20b7e69",
   "metadata": {},
   "outputs": [
    {
     "name": "stderr",
     "output_type": "stream",
     "text": [
      "2023-03-15 15:54:02.306726: I tensorflow/core/common_runtime/pluggable_device/pluggable_device_factory.cc:306] Could not identify NUMA node of platform GPU ID 0, defaulting to 0. Your kernel may not have been built with NUMA support.\n",
      "2023-03-15 15:54:02.306864: I tensorflow/core/common_runtime/pluggable_device/pluggable_device_factory.cc:272] Created TensorFlow device (/job:localhost/replica:0/task:0/device:GPU:0 with 0 MB memory) -> physical PluggableDevice (device: 0, name: METAL, pci bus id: <undefined>)\n"
     ]
    },
    {
     "name": "stdout",
     "output_type": "stream",
     "text": [
      "Metal device set to: Apple M1 Pro\n",
      "Model: \"sequential\"\n",
      "_________________________________________________________________\n",
      " Layer (type)                Output Shape              Param #   \n",
      "=================================================================\n",
      " embedding (Embedding)       (None, None, 64)          3200000   \n",
      "                                                                 \n",
      " dropout (Dropout)           (None, None, 64)          0         \n",
      "                                                                 \n",
      " bidirectional (Bidirectiona  (None, None, 128)        66048     \n",
      " l)                                                              \n",
      "                                                                 \n",
      " bidirectional_1 (Bidirectio  (None, 64)               41216     \n",
      " nal)                                                            \n",
      "                                                                 \n",
      " batch_normalization (BatchN  (None, 64)               256       \n",
      " ormalization)                                                   \n",
      "                                                                 \n",
      " dense (Dense)               (None, 32)                2080      \n",
      "                                                                 \n",
      " batch_normalization_1 (Batc  (None, 32)               128       \n",
      " hNormalization)                                                 \n",
      "                                                                 \n",
      " dense_1 (Dense)             (None, 4)                 132       \n",
      "                                                                 \n",
      "=================================================================\n",
      "Total params: 3,309,860\n",
      "Trainable params: 3,309,668\n",
      "Non-trainable params: 192\n",
      "_________________________________________________________________\n"
     ]
    }
   ],
   "source": [
    "model_1 = tf.keras.Sequential([\n",
    "    tf.keras.layers.Embedding(max_vocab, 64), \n",
    "    tf.keras.layers.Dropout(0.5),\n",
    "    tf.keras.layers.Bidirectional(tf.keras.layers.LSTM(64, return_sequences=True)),\n",
    "    tf.keras.layers.Bidirectional(tf.keras.layers.LSTM(32)),\n",
    "    tf.keras.layers.BatchNormalization(), \n",
    "    tf.keras.layers.Dense(32, activation='relu'),\n",
    "    tf.keras.layers.BatchNormalization(),\n",
    "    tf.keras.layers.Dense(4, activation='softmax')\n",
    "])\n",
    "\n",
    "model_1.summary()"
   ]
  },
  {
   "cell_type": "code",
   "execution_count": 38,
   "id": "f1901db8",
   "metadata": {},
   "outputs": [],
   "source": [
    "checkpoint_cb_1 = tf.keras.callbacks.ModelCheckpoint(\"model_1.h5\", \n",
    "                                     monitor = 'val_accuracy',\n",
    "                                     save_best_only=True)"
   ]
  },
  {
   "cell_type": "code",
   "execution_count": 39,
   "id": "e214e1ab",
   "metadata": {},
   "outputs": [],
   "source": [
    "model_1.compile(loss=tf.keras.losses.SparseCategoricalCrossentropy(),\n",
    "              optimizer=tf.keras.optimizers.Adam(learning_rate=0.001, decay=1e-6),\n",
    "              metrics=['accuracy'])"
   ]
  },
  {
   "cell_type": "code",
   "execution_count": 40,
   "id": "61191b3b",
   "metadata": {},
   "outputs": [
    {
     "name": "stderr",
     "output_type": "stream",
     "text": [
      "2023-03-15 15:54:06.015591: W tensorflow/core/platform/profile_utils/cpu_utils.cc:128] Failed to get CPU frequency: 0 Hz\n",
      "2023-03-15 15:54:07.446717: I tensorflow/core/grappler/optimizers/custom_graph_optimizer_registry.cc:114] Plugin optimizer for device_type GPU is enabled.\n",
      "2023-03-15 15:54:07.763860: I tensorflow/core/grappler/optimizers/custom_graph_optimizer_registry.cc:114] Plugin optimizer for device_type GPU is enabled.\n",
      "2023-03-15 15:54:07.777826: I tensorflow/core/grappler/optimizers/custom_graph_optimizer_registry.cc:114] Plugin optimizer for device_type GPU is enabled.\n",
      "2023-03-15 15:54:07.898758: I tensorflow/core/grappler/optimizers/custom_graph_optimizer_registry.cc:114] Plugin optimizer for device_type GPU is enabled.\n",
      "2023-03-15 15:54:07.910223: I tensorflow/core/grappler/optimizers/custom_graph_optimizer_registry.cc:114] Plugin optimizer for device_type GPU is enabled.\n",
      "2023-03-15 15:54:08.204884: I tensorflow/core/grappler/optimizers/custom_graph_optimizer_registry.cc:114] Plugin optimizer for device_type GPU is enabled.\n",
      "2023-03-15 15:54:08.220845: I tensorflow/core/grappler/optimizers/custom_graph_optimizer_registry.cc:114] Plugin optimizer for device_type GPU is enabled.\n",
      "2023-03-15 15:54:08.431805: I tensorflow/core/grappler/optimizers/custom_graph_optimizer_registry.cc:114] Plugin optimizer for device_type GPU is enabled.\n",
      "2023-03-15 15:54:08.450322: I tensorflow/core/grappler/optimizers/custom_graph_optimizer_registry.cc:114] Plugin optimizer for device_type GPU is enabled.\n",
      "2023-03-15 15:55:28.144190: I tensorflow/core/grappler/optimizers/custom_graph_optimizer_registry.cc:114] Plugin optimizer for device_type GPU is enabled.\n",
      "2023-03-15 15:55:28.255556: I tensorflow/core/grappler/optimizers/custom_graph_optimizer_registry.cc:114] Plugin optimizer for device_type GPU is enabled.\n",
      "2023-03-15 15:55:28.265617: I tensorflow/core/grappler/optimizers/custom_graph_optimizer_registry.cc:114] Plugin optimizer for device_type GPU is enabled.\n",
      "2023-03-15 15:55:28.379707: I tensorflow/core/grappler/optimizers/custom_graph_optimizer_registry.cc:114] Plugin optimizer for device_type GPU is enabled.\n",
      "2023-03-15 15:55:28.388601: I tensorflow/core/grappler/optimizers/custom_graph_optimizer_registry.cc:114] Plugin optimizer for device_type GPU is enabled.\n"
     ]
    }
   ],
   "source": [
    "history_1 = model_1.fit(X_train, y_train, \n",
    "                     epochs=20,\n",
    "                     validation_split=0.1, \n",
    "                     batch_size=32, \n",
    "                     shuffle=True, \n",
    "                     callbacks=[checkpoint_cb_1],\n",
    "                     verbose=0\n",
    "                       )"
   ]
  },
  {
   "cell_type": "markdown",
   "id": "eb0e46f4",
   "metadata": {},
   "source": [
    "**Оценим модель на тестовой выборке.**"
   ]
  },
  {
   "cell_type": "code",
   "execution_count": 42,
   "id": "9d708f5a",
   "metadata": {},
   "outputs": [
    {
     "name": "stderr",
     "output_type": "stream",
     "text": [
      "2023-03-15 16:22:43.874545: I tensorflow/core/grappler/optimizers/custom_graph_optimizer_registry.cc:114] Plugin optimizer for device_type GPU is enabled.\n",
      "2023-03-15 16:22:43.994551: I tensorflow/core/grappler/optimizers/custom_graph_optimizer_registry.cc:114] Plugin optimizer for device_type GPU is enabled.\n",
      "2023-03-15 16:22:44.004930: I tensorflow/core/grappler/optimizers/custom_graph_optimizer_registry.cc:114] Plugin optimizer for device_type GPU is enabled.\n"
     ]
    },
    {
     "name": "stdout",
     "output_type": "stream",
     "text": [
      "\r",
      "  1/463 [..............................] - ETA: 5:35 - loss: 0.3432 - accuracy: 0.8438"
     ]
    },
    {
     "name": "stderr",
     "output_type": "stream",
     "text": [
      "2023-03-15 16:22:44.124236: I tensorflow/core/grappler/optimizers/custom_graph_optimizer_registry.cc:114] Plugin optimizer for device_type GPU is enabled.\n",
      "2023-03-15 16:22:44.133239: I tensorflow/core/grappler/optimizers/custom_graph_optimizer_registry.cc:114] Plugin optimizer for device_type GPU is enabled.\n"
     ]
    },
    {
     "name": "stdout",
     "output_type": "stream",
     "text": [
      "463/463 [==============================] - 11s 22ms/step - loss: 0.3675 - accuracy: 0.8989\n"
     ]
    },
    {
     "data": {
      "text/plain": [
       "[0.3675399720668793, 0.8989189267158508]"
      ]
     },
     "execution_count": 42,
     "metadata": {},
     "output_type": "execute_result"
    }
   ],
   "source": [
    "model_1.evaluate(X_test, y_test)"
   ]
  },
  {
   "cell_type": "code",
   "execution_count": 44,
   "id": "8fb22835",
   "metadata": {},
   "outputs": [
    {
     "data": {
      "image/png": "[encoded data removed]",
      "text/plain": [
       "<Figure size 1000x300 with 1 Axes>"
      ]
     },
     "metadata": {},
     "output_type": "display_data"
    },
    {
     "data": {
      "image/png": "[encoded data removed]",
      "text/plain": [
       "<Figure size 1000x300 with 1 Axes>"
      ]
     },
     "metadata": {},
     "output_type": "display_data"
    }
   ],
   "source": [
    "history_dict = history_1.history\n",
    "\n",
    "acc = history_dict['accuracy']\n",
    "val_acc = history_dict['val_accuracy']\n",
    "loss = history_dict['loss']\n",
    "val_loss = history_dict['val_loss']\n",
    "epochs = history_1.epoch\n",
    "\n",
    "plt.figure(figsize=(10,3))\n",
    "plt.plot(epochs, loss, 'r', label='Training loss')\n",
    "plt.plot(epochs, val_loss, 'b', label='Validation loss')\n",
    "plt.title('Training and validation loss', size=10)\n",
    "plt.xlabel('Epochs', size=10)\n",
    "plt.ylabel('Loss', size=10)\n",
    "plt.legend(prop={'size': 10})\n",
    "plt.show()\n",
    "\n",
    "plt.figure(figsize=(10,3))\n",
    "plt.plot(epochs, acc, 'g', label='Training acc')\n",
    "plt.plot(epochs, val_acc, 'b', label='Validation acc')\n",
    "plt.title('Training and validation accuracy', size=10)\n",
    "plt.xlabel('Epochs', size=10)\n",
    "plt.ylabel('Accuracy', size=10)\n",
    "plt.legend(prop={'size': 10})\n",
    "plt.ylim((0.5,1))\n",
    "plt.show()"
   ]
  },
  {
   "cell_type": "markdown",
   "id": "39b4b971",
   "metadata": {},
   "source": [
    "**Проверим работу модели на валидационной выборке.**"
   ]
  },
  {
   "cell_type": "code",
   "execution_count": 45,
   "id": "b6291a03",
   "metadata": {},
   "outputs": [],
   "source": [
    "X_valid = valid_df.twit"
   ]
  },
  {
   "cell_type": "code",
   "execution_count": 46,
   "id": "5f06ad37",
   "metadata": {},
   "outputs": [],
   "source": [
    "X_valid = tokenizer.texts_to_sequences(X_valid)"
   ]
  },
  {
   "cell_type": "code",
   "execution_count": 47,
   "id": "efa2d50a",
   "metadata": {},
   "outputs": [],
   "source": [
    "X_valid = tf.keras.preprocessing.sequence.pad_sequences(X_valid, padding='post', maxlen=20)"
   ]
  },
  {
   "cell_type": "code",
   "execution_count": 48,
   "id": "d6abe4cd",
   "metadata": {},
   "outputs": [],
   "source": [
    "y_valid = valid_df.le_emotion"
   ]
  },
  {
   "cell_type": "code",
   "execution_count": 49,
   "id": "d4d72e03",
   "metadata": {},
   "outputs": [
    {
     "name": "stdout",
     "output_type": "stream",
     "text": [
      "32/32 [==============================] - 1s 27ms/step - loss: 0.3789 - accuracy: 0.9180\n"
     ]
    },
    {
     "data": {
      "text/plain": [
       "[0.378928542137146, 0.9180000424385071]"
      ]
     },
     "execution_count": 49,
     "metadata": {},
     "output_type": "execute_result"
    }
   ],
   "source": [
    "model_1.evaluate(X_valid, y_valid)"
   ]
  },
  {
   "cell_type": "markdown",
   "id": "0885b4e5",
   "metadata": {},
   "source": [
    "---"
   ]
  },
  {
   "cell_type": "markdown",
   "id": "ca620180",
   "metadata": {},
   "source": [
    "**Упросим модель**"
   ]
  },
  {
   "cell_type": "code",
   "execution_count": 50,
   "id": "8bd67a03",
   "metadata": {},
   "outputs": [
    {
     "name": "stdout",
     "output_type": "stream",
     "text": [
      "Model: \"sequential_1\"\n",
      "_________________________________________________________________\n",
      " Layer (type)                Output Shape              Param #   \n",
      "=================================================================\n",
      " embedding_1 (Embedding)     (None, None, 64)          3200000   \n",
      "                                                                 \n",
      " dropout_1 (Dropout)         (None, None, 64)          0         \n",
      "                                                                 \n",
      " bidirectional_2 (Bidirectio  (None, 128)              66048     \n",
      " nal)                                                            \n",
      "                                                                 \n",
      " dense_2 (Dense)             (None, 4)                 516       \n",
      "                                                                 \n",
      "=================================================================\n",
      "Total params: 3,266,564\n",
      "Trainable params: 3,266,564\n",
      "Non-trainable params: 0\n",
      "_________________________________________________________________\n"
     ]
    }
   ],
   "source": [
    "model_2 = tf.keras.Sequential([\n",
    "    tf.keras.layers.Embedding(max_vocab, 64), \n",
    "    tf.keras.layers.Dropout(0.5),\n",
    "    tf.keras.layers.Bidirectional(tf.keras.layers.LSTM(64)),\n",
    "    tf.keras.layers.Dense(4, activation='softmax'),\n",
    "])\n",
    "\n",
    "model_2.summary()"
   ]
  },
  {
   "cell_type": "code",
   "execution_count": 51,
   "id": "3eff2427",
   "metadata": {},
   "outputs": [],
   "source": [
    "checkpoint_cb_2 = tf.keras.callbacks.ModelCheckpoint(\"model_2.h5\", \n",
    "                                     monitor = 'val_accuracy',\n",
    "                                     save_best_only=True)"
   ]
  },
  {
   "cell_type": "code",
   "execution_count": 52,
   "id": "05680eb8",
   "metadata": {},
   "outputs": [],
   "source": [
    "model_2.compile(loss=tf.keras.losses.SparseCategoricalCrossentropy(),\n",
    "              optimizer=tf.keras.optimizers.Adam(learning_rate=0.001, decay=1e-6),\n",
    "              metrics=['accuracy'])"
   ]
  },
  {
   "cell_type": "markdown",
   "id": "c1a112c6",
   "metadata": {},
   "source": [
    "**Обучим упрощенную модель**"
   ]
  },
  {
   "cell_type": "code",
   "execution_count": 53,
   "id": "978e0f67",
   "metadata": {},
   "outputs": [
    {
     "name": "stderr",
     "output_type": "stream",
     "text": [
      "2023-03-15 16:24:24.319006: I tensorflow/core/grappler/optimizers/custom_graph_optimizer_registry.cc:114] Plugin optimizer for device_type GPU is enabled.\n",
      "2023-03-15 16:24:24.504001: I tensorflow/core/grappler/optimizers/custom_graph_optimizer_registry.cc:114] Plugin optimizer for device_type GPU is enabled.\n",
      "2023-03-15 16:24:24.517372: I tensorflow/core/grappler/optimizers/custom_graph_optimizer_registry.cc:114] Plugin optimizer for device_type GPU is enabled.\n",
      "2023-03-15 16:24:24.690260: I tensorflow/core/grappler/optimizers/custom_graph_optimizer_registry.cc:114] Plugin optimizer for device_type GPU is enabled.\n",
      "2023-03-15 16:24:24.706161: I tensorflow/core/grappler/optimizers/custom_graph_optimizer_registry.cc:114] Plugin optimizer for device_type GPU is enabled.\n",
      "2023-03-15 16:25:11.797493: I tensorflow/core/grappler/optimizers/custom_graph_optimizer_registry.cc:114] Plugin optimizer for device_type GPU is enabled.\n",
      "2023-03-15 16:25:11.866490: I tensorflow/core/grappler/optimizers/custom_graph_optimizer_registry.cc:114] Plugin optimizer for device_type GPU is enabled.\n",
      "2023-03-15 16:25:11.875351: I tensorflow/core/grappler/optimizers/custom_graph_optimizer_registry.cc:114] Plugin optimizer for device_type GPU is enabled.\n"
     ]
    }
   ],
   "source": [
    "history_2 = model_2.fit(X_train, y_train, \n",
    "                     epochs=30,\n",
    "                     validation_split=0.1, \n",
    "                     batch_size=32, \n",
    "                     shuffle=True, \n",
    "                     callbacks=[checkpoint_cb_2],\n",
    "                     verbose=0)"
   ]
  },
  {
   "cell_type": "markdown",
   "id": "c07374dd",
   "metadata": {},
   "source": [
    "**Оценим модель на тестовой выборке.**"
   ]
  },
  {
   "cell_type": "code",
   "execution_count": 54,
   "id": "cf9e0927",
   "metadata": {},
   "outputs": [
    {
     "name": "stderr",
     "output_type": "stream",
     "text": [
      "2023-03-15 16:47:06.860375: I tensorflow/core/grappler/optimizers/custom_graph_optimizer_registry.cc:114] Plugin optimizer for device_type GPU is enabled.\n",
      "2023-03-15 16:47:06.936125: I tensorflow/core/grappler/optimizers/custom_graph_optimizer_registry.cc:114] Plugin optimizer for device_type GPU is enabled.\n",
      "2023-03-15 16:47:06.947065: I tensorflow/core/grappler/optimizers/custom_graph_optimizer_registry.cc:114] Plugin optimizer for device_type GPU is enabled.\n"
     ]
    },
    {
     "name": "stdout",
     "output_type": "stream",
     "text": [
      "463/463 [==============================] - 6s 12ms/step - loss: 0.4740 - accuracy: 0.8945\n"
     ]
    },
    {
     "data": {
      "text/plain": [
       "[0.47401145100593567, 0.8945270776748657]"
      ]
     },
     "execution_count": 54,
     "metadata": {},
     "output_type": "execute_result"
    }
   ],
   "source": [
    "model_2.evaluate(X_test, y_test)"
   ]
  },
  {
   "cell_type": "code",
   "execution_count": 55,
   "id": "9214320b",
   "metadata": {},
   "outputs": [
    {
     "data": {
      "image/png": "[encoded data removed]",
      "text/plain": [
       "<Figure size 1000x300 with 1 Axes>"
      ]
     },
     "metadata": {},
     "output_type": "display_data"
    },
    {
     "data": {
      "image/png": "[encoded data removed]",
      "text/plain": [
       "<Figure size 1000x300 with 1 Axes>"
      ]
     },
     "metadata": {},
     "output_type": "display_data"
    }
   ],
   "source": [
    "history_dict = history_2.history\n",
    "\n",
    "acc = history_dict['accuracy']\n",
    "val_acc = history_dict['val_accuracy']\n",
    "loss = history_dict['loss']\n",
    "val_loss = history_dict['val_loss']\n",
    "epochs = history_2.epoch\n",
    "\n",
    "plt.figure(figsize=(10,3))\n",
    "plt.plot(epochs, loss, 'r', label='Training loss')\n",
    "plt.plot(epochs, val_loss, 'b', label='Validation loss')\n",
    "plt.title('Training and validation loss', size=10)\n",
    "plt.xlabel('Epochs', size=10)\n",
    "plt.ylabel('Loss', size=10)\n",
    "plt.legend(prop={'size': 10})\n",
    "plt.show()\n",
    "\n",
    "plt.figure(figsize=(10,3))\n",
    "plt.plot(epochs, acc, 'g', label='Training acc')\n",
    "plt.plot(epochs, val_acc, 'b', label='Validation acc')\n",
    "plt.title('Training and validation accuracy', size=10)\n",
    "plt.xlabel('Epochs', size=10)\n",
    "plt.ylabel('Accuracy', size=10)\n",
    "plt.legend(prop={'size': 10})\n",
    "plt.ylim((0.5,1))\n",
    "plt.show()"
   ]
  },
  {
   "cell_type": "markdown",
   "id": "dab41692",
   "metadata": {},
   "source": [
    "**Проверим работу модели на валидационной выборке.**"
   ]
  },
  {
   "cell_type": "code",
   "execution_count": 56,
   "id": "09c23094",
   "metadata": {},
   "outputs": [
    {
     "name": "stdout",
     "output_type": "stream",
     "text": [
      "32/32 [==============================] - 1s 15ms/step - loss: 0.4280 - accuracy: 0.9290\n"
     ]
    },
    {
     "data": {
      "text/plain": [
       "[0.4280472695827484, 0.9290000200271606]"
      ]
     },
     "execution_count": 56,
     "metadata": {},
     "output_type": "execute_result"
    }
   ],
   "source": [
    "model_2.evaluate(X_valid, y_valid)"
   ]
  },
  {
   "cell_type": "code",
   "execution_count": null,
   "id": "36313671",
   "metadata": {},
   "outputs": [],
   "source": []
  }
 ],
 "metadata": {
  "kernelspec": {
   "display_name": "Python 3 (ipykernel)",
   "language": "python",
   "name": "python3"
  },
  "language_info": {
   "codemirror_mode": {
    "name": "ipython",
    "version": 3
   },
   "file_extension": ".py",
   "mimetype": "text/x-python",
   "name": "python",
   "nbconvert_exporter": "python",
   "pygments_lexer": "ipython3",
   "version": "3.9.16"
  }
 },
 "nbformat": 4,
 "nbformat_minor": 5
}
