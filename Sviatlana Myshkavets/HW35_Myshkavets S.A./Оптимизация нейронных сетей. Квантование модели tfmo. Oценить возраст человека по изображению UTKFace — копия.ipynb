{
 "cells": [
  {
   "attachments": {},
   "cell_type": "markdown",
   "id": "318bca12",
   "metadata": {},
   "source": [
    "Мышковец С.А., v.1 01.05.2023\n",
    "\n",
    "**Решение задачи:**\n",
    "\n",
    "ДЗ - оценить возраст человека по изображению. \n",
    "\n",
    "Выполнить оптимизацию ранее написанных нейронных сетей. Выбор на ваше усмотрение (лучше брать что то что относительно большое).\n",
    "\n",
    "Используйте tensorrt. Сравните квантование float16 и float32. \n",
    "Дополнительно : tensorflow-lite\n",
    "Выполнить тестирование времени вывода и опреледилть есть ли падение точности. \n",
    "\n",
    "**Вывод**\n",
    "\n",
    "| Модель | train | valid | test | time train | time eval | time predict\n",
    "| ----------- | ----------- | ----------- |----------- |----------- |----------- |----------- |\n",
    "| custom_model | 4,81 | 6,91 | 7,05 | 22 min 10 s  | 2.74 s | 29 s\n",
    "| quantized_custom_model | 3,57 | 7,02 | 7,03 | 54 min | 10 s | 42 s\n",
    "| quantized_custom_model_1 | 9,4 | 10,9  | 9,67 | 1 h 24 min 41 s | 10.6 s | 40 S\n",
    "\n",
    "В модели quantized_custom_model квантизация увеличила более чем в 2 раза увеличила время обучения и в 3,7 раза время на оценку модели, но качество модели снизилось незначительно.\n",
    "В модели quantized_custom_model_1 квантизация увеличила почти в 4 раза увеличила время обучения и в 3,7 раза время на оценку модели, но качество модели значительно упало.\n"
   ]
  },
  {
   "attachments": {},
   "cell_type": "markdown",
   "id": "369e52ad",
   "metadata": {},
   "source": [
    "# Загрузим необходимые библиотеки и проведем разведовательный анализ данных."
   ]
  },
  {
   "cell_type": "code",
   "execution_count": null,
   "id": "af10ba61",
   "metadata": {},
   "outputs": [],
   "source": [
    "# pip install coremltools"
   ]
  },
  {
   "cell_type": "code",
   "execution_count": 41,
   "id": "9dffd690",
   "metadata": {},
   "outputs": [
    {
     "name": "stdout",
     "output_type": "stream",
     "text": [
      "Note: you may need to restart the kernel to use updated packages.\n"
     ]
    }
   ],
   "source": [
    "# pip install -q tensorflow-model-optimization"
   ]
  },
  {
   "cell_type": "code",
   "execution_count": 87,
   "id": "1ca47b19",
   "metadata": {},
   "outputs": [
    {
     "name": "stdout",
     "output_type": "stream",
     "text": [
      "OpenCV: 4.7.0\n",
      "matplotlib: 3.6.3\n",
      "graphviz: 0.20.1\n"
     ]
    }
   ],
   "source": [
    "import numpy as np # linear algebra\n",
    "import pandas as pd # data processing, CSV file I/O (e.g. pd.read_csv)\n",
    "\n",
    "# Visualization\n",
    "import cv2 # for ingesting images\n",
    "print('OpenCV: %s' % cv2.__version__) # print version\n",
    "import matplotlib \n",
    "import matplotlib.pyplot as plt # or data visualizationa\n",
    "print('matplotlib: %s' % matplotlib.__version__) # print version\n",
    "import graphviz # for showing model diagram\n",
    "print('graphviz: %s' % graphviz.__version__) # print version\n",
    "\n",
    "import tensorflow as tf\n",
    "from tensorflow.keras.optimizers import Adam\n",
    "from tensorflow.keras.models import Sequential, Model\n",
    "from tensorflow.keras.layers import Dense, Conv2D, MaxPooling2D, Flatten, Dropout, BatchNormalization, AveragePooling2D, Activation, GlobalMaxPool2D, GlobalAveragePooling2D, Input, MaxPool2D, MultiHeadAttention\n",
    "from tensorflow.keras.callbacks import EarlyStopping, ReduceLROnPlateau, ModelCheckpoint\n",
    "import tensorflow_model_optimization as tfmot\n",
    "\n",
    "import gc\n",
    "from tqdm import tqdm\n",
    "import sys\n",
    "import os"
   ]
  },
  {
   "cell_type": "code",
   "execution_count": 2,
   "id": "53af112c",
   "metadata": {},
   "outputs": [],
   "source": [
    "# Define loss visualization function\n",
    "def test_val_graph (history,train,val):\n",
    "    plt.plot(history.history[train], label='Точность на обучающем наборе')\n",
    "    plt.plot(history.history[val], label='Точность на проверочном наборе')\n",
    "    plt.xlabel('Цикл обучения')\n",
    "    plt.ylabel('Точность')\n",
    "    plt.legend()\n",
    "    plt.show()\n",
    "    pass;"
   ]
  },
  {
   "cell_type": "code",
   "execution_count": 3,
   "id": "c057cef6",
   "metadata": {},
   "outputs": [],
   "source": [
    "import os\n",
    "main_dir = os.getcwd()"
   ]
  },
  {
   "cell_type": "code",
   "execution_count": 4,
   "id": "00b1f3d1",
   "metadata": {},
   "outputs": [
    {
     "data": {
      "text/plain": [
       "'/Users/sviatlanamyshkavets/Documents/Courses/DS TM/47 Композиция глубоких сетей/HW33_Myshkavets S.A.'"
      ]
     },
     "execution_count": 4,
     "metadata": {},
     "output_type": "execute_result"
    }
   ],
   "source": [
    "main_dir"
   ]
  },
  {
   "cell_type": "code",
   "execution_count": 5,
   "id": "4ff494b8",
   "metadata": {},
   "outputs": [],
   "source": [
    "# Specify the location of images after you have downloaded them\n",
    "ImgLocation = main_dir + \"/UTKFace\""
   ]
  },
  {
   "cell_type": "code",
   "execution_count": 6,
   "id": "d518444e",
   "metadata": {},
   "outputs": [],
   "source": [
    "# Extract age values from file names\n",
    "age = []\n",
    "for file in os.listdir(ImgLocation):\n",
    "    file = int(file.split('_')[0])\n",
    "    age.append(file)"
   ]
  },
  {
   "cell_type": "code",
   "execution_count": 7,
   "id": "2f589993",
   "metadata": {},
   "outputs": [
    {
     "data": {
      "text/plain": [
       "23708"
      ]
     },
     "execution_count": 7,
     "metadata": {},
     "output_type": "execute_result"
    }
   ],
   "source": [
    "len(age)"
   ]
  },
  {
   "cell_type": "code",
   "execution_count": 8,
   "id": "179c49eb",
   "metadata": {},
   "outputs": [],
   "source": [
    "# Extract paths for further data exploration\n",
    "full_path = []\n",
    "for file in os.listdir(ImgLocation):\n",
    "    path = ImgLocation + '/' + file\n",
    "    full_path.append(path)"
   ]
  },
  {
   "cell_type": "code",
   "execution_count": 9,
   "id": "f982729d",
   "metadata": {},
   "outputs": [],
   "source": [
    "# Create pd DataFrame\n",
    "df = pd.DataFrame({'age': age,  \n",
    "                   'full_path': full_path, \n",
    "                   }\n",
    "                 )"
   ]
  },
  {
   "cell_type": "code",
   "execution_count": 10,
   "id": "4ebe089a",
   "metadata": {},
   "outputs": [
    {
     "data": {
      "text/html": [
       "<div>\n",
       "<style scoped>\n",
       "    .dataframe tbody tr th:only-of-type {\n",
       "        vertical-align: middle;\n",
       "    }\n",
       "\n",
       "    .dataframe tbody tr th {\n",
       "        vertical-align: top;\n",
       "    }\n",
       "\n",
       "    .dataframe thead th {\n",
       "        text-align: right;\n",
       "    }\n",
       "</style>\n",
       "<table border=\"1\" class=\"dataframe\">\n",
       "  <thead>\n",
       "    <tr style=\"text-align: right;\">\n",
       "      <th></th>\n",
       "      <th>age</th>\n",
       "      <th>full_path</th>\n",
       "    </tr>\n",
       "  </thead>\n",
       "  <tbody>\n",
       "    <tr>\n",
       "      <th>0</th>\n",
       "      <td>9</td>\n",
       "      <td>/Users/sviatlanamyshkavets/Documents/Courses/D...</td>\n",
       "    </tr>\n",
       "    <tr>\n",
       "      <th>1</th>\n",
       "      <td>36</td>\n",
       "      <td>/Users/sviatlanamyshkavets/Documents/Courses/D...</td>\n",
       "    </tr>\n",
       "    <tr>\n",
       "      <th>2</th>\n",
       "      <td>86</td>\n",
       "      <td>/Users/sviatlanamyshkavets/Documents/Courses/D...</td>\n",
       "    </tr>\n",
       "    <tr>\n",
       "      <th>3</th>\n",
       "      <td>26</td>\n",
       "      <td>/Users/sviatlanamyshkavets/Documents/Courses/D...</td>\n",
       "    </tr>\n",
       "    <tr>\n",
       "      <th>4</th>\n",
       "      <td>1</td>\n",
       "      <td>/Users/sviatlanamyshkavets/Documents/Courses/D...</td>\n",
       "    </tr>\n",
       "  </tbody>\n",
       "</table>\n",
       "</div>"
      ],
      "text/plain": [
       "   age                                          full_path\n",
       "0    9  /Users/sviatlanamyshkavets/Documents/Courses/D...\n",
       "1   36  /Users/sviatlanamyshkavets/Documents/Courses/D...\n",
       "2   86  /Users/sviatlanamyshkavets/Documents/Courses/D...\n",
       "3   26  /Users/sviatlanamyshkavets/Documents/Courses/D...\n",
       "4    1  /Users/sviatlanamyshkavets/Documents/Courses/D..."
      ]
     },
     "execution_count": 10,
     "metadata": {},
     "output_type": "execute_result"
    }
   ],
   "source": [
    "df.head()"
   ]
  },
  {
   "cell_type": "code",
   "execution_count": 11,
   "id": "c2683acd",
   "metadata": {},
   "outputs": [
    {
     "data": {
      "text/html": [
       "<div>\n",
       "<style scoped>\n",
       "    .dataframe tbody tr th:only-of-type {\n",
       "        vertical-align: middle;\n",
       "    }\n",
       "\n",
       "    .dataframe tbody tr th {\n",
       "        vertical-align: top;\n",
       "    }\n",
       "\n",
       "    .dataframe thead th {\n",
       "        text-align: right;\n",
       "    }\n",
       "</style>\n",
       "<table border=\"1\" class=\"dataframe\">\n",
       "  <thead>\n",
       "    <tr style=\"text-align: right;\">\n",
       "      <th></th>\n",
       "      <th>age</th>\n",
       "    </tr>\n",
       "  </thead>\n",
       "  <tbody>\n",
       "    <tr>\n",
       "      <th>count</th>\n",
       "      <td>23708.000000</td>\n",
       "    </tr>\n",
       "    <tr>\n",
       "      <th>mean</th>\n",
       "      <td>33.303484</td>\n",
       "    </tr>\n",
       "    <tr>\n",
       "      <th>std</th>\n",
       "      <td>19.886112</td>\n",
       "    </tr>\n",
       "    <tr>\n",
       "      <th>min</th>\n",
       "      <td>1.000000</td>\n",
       "    </tr>\n",
       "    <tr>\n",
       "      <th>25%</th>\n",
       "      <td>23.000000</td>\n",
       "    </tr>\n",
       "    <tr>\n",
       "      <th>50%</th>\n",
       "      <td>29.000000</td>\n",
       "    </tr>\n",
       "    <tr>\n",
       "      <th>75%</th>\n",
       "      <td>45.000000</td>\n",
       "    </tr>\n",
       "    <tr>\n",
       "      <th>max</th>\n",
       "      <td>116.000000</td>\n",
       "    </tr>\n",
       "  </tbody>\n",
       "</table>\n",
       "</div>"
      ],
      "text/plain": [
       "                age\n",
       "count  23708.000000\n",
       "mean      33.303484\n",
       "std       19.886112\n",
       "min        1.000000\n",
       "25%       23.000000\n",
       "50%       29.000000\n",
       "75%       45.000000\n",
       "max      116.000000"
      ]
     },
     "execution_count": 11,
     "metadata": {},
     "output_type": "execute_result"
    }
   ],
   "source": [
    "df.describe()"
   ]
  },
  {
   "cell_type": "code",
   "execution_count": 12,
   "id": "61b8c742",
   "metadata": {},
   "outputs": [
    {
     "name": "stdout",
     "output_type": "stream",
     "text": [
      "<class 'pandas.core.frame.DataFrame'>\n",
      "RangeIndex: 23708 entries, 0 to 23707\n",
      "Data columns (total 2 columns):\n",
      " #   Column     Non-Null Count  Dtype \n",
      "---  ------     --------------  ----- \n",
      " 0   age        23708 non-null  int64 \n",
      " 1   full_path  23708 non-null  object\n",
      "dtypes: int64(1), object(1)\n",
      "memory usage: 370.6+ KB\n"
     ]
    }
   ],
   "source": [
    "df.info()"
   ]
  },
  {
   "cell_type": "markdown",
   "id": "c8079b55",
   "metadata": {},
   "source": [
    "# Выведем фотографии из файлов, частично проверим верность целевых меток."
   ]
  },
  {
   "attachments": {},
   "cell_type": "markdown",
   "id": "a9fbcf2d",
   "metadata": {},
   "source": [
    "**При необходимости при помощи кода ниже пробежимся по папкам и проверим фото детей до 18 лет, удалим явные выбросы. В нашем случае выбран очищенный датасет.**"
   ]
  },
  {
   "cell_type": "code",
   "execution_count": null,
   "id": "109e9d3b",
   "metadata": {},
   "outputs": [],
   "source": [
    "test = df[df['age']==1]\n",
    "%matplotlib inline\n",
    "import matplotlib.pyplot as plt\n",
    "import matplotlib.image as mpimg\n",
    "\n",
    "for i in test['full_path']:\n",
    "#     img = cv2.imread(file)\n",
    "    img = mpimg.imread(i)\n",
    "    imgplot = plt.imshow(img)\n",
    "    plt.xlabel(i)\n",
    "    print(i)\n",
    "    plt.show()"
   ]
  },
  {
   "cell_type": "code",
   "execution_count": 13,
   "id": "5449c40f",
   "metadata": {},
   "outputs": [
    {
     "data": {
      "text/plain": [
       "array([[<AxesSubplot: title={'center': 'age'}>]], dtype=object)"
      ]
     },
     "execution_count": 13,
     "metadata": {},
     "output_type": "execute_result"
    },
    {
     "data": {
      "image/png": "[encoded data removed]",
      "text/plain": [
       "<Figure size 640x480 with 1 Axes>"
      ]
     },
     "metadata": {},
     "output_type": "display_data"
    }
   ],
   "source": [
    "# Explore age distribution\n",
    "df.hist()"
   ]
  },
  {
   "cell_type": "code",
   "execution_count": 14,
   "id": "d4e5074c",
   "metadata": {},
   "outputs": [
    {
     "data": {
      "text/plain": [
       "age\n",
       "111       1\n",
       "103       1\n",
       "101       2\n",
       "91        2\n",
       "115       3\n",
       "       ... \n",
       "24      859\n",
       "35      880\n",
       "28      918\n",
       "1      1123\n",
       "26     2197\n",
       "Name: age, Length: 104, dtype: int64"
      ]
     },
     "execution_count": 14,
     "metadata": {},
     "output_type": "execute_result"
    }
   ],
   "source": [
    "df.groupby('age')['age'].count().sort_values()"
   ]
  },
  {
   "cell_type": "code",
   "execution_count": 15,
   "id": "e1090d7d",
   "metadata": {},
   "outputs": [],
   "source": [
    "# Delete age values over 99 years\n",
    "index_age_100 = df[df['age']>99].index\n",
    "df.drop(index_age_100 , inplace=True)"
   ]
  },
  {
   "cell_type": "code",
   "execution_count": 15,
   "id": "eb38ac9d",
   "metadata": {},
   "outputs": [],
   "source": [
    "# from sklearn.preprocessing import LabelEncoder\n",
    "# labelencoder = LabelEncoder()\n",
    "# df['age'] = labelencoder.fit_transform(df['age'])"
   ]
  },
  {
   "cell_type": "markdown",
   "id": "4c3497c4",
   "metadata": {},
   "source": [
    "**Разделим данные на тренировочную, тестовую и валидационную выборку.**"
   ]
  },
  {
   "cell_type": "code",
   "execution_count": 16,
   "id": "73b56e0b",
   "metadata": {},
   "outputs": [],
   "source": [
    "from sklearn.model_selection import train_test_split\n",
    "\n",
    "y = df['age']\n",
    "X = df['full_path']"
   ]
  },
  {
   "cell_type": "code",
   "execution_count": 17,
   "id": "010868cc",
   "metadata": {},
   "outputs": [],
   "source": [
    "train_full, test= train_test_split(\n",
    "    df, test_size=0.12, stratify=df['age'], random_state=0)"
   ]
  },
  {
   "cell_type": "code",
   "execution_count": 18,
   "id": "2291d6da",
   "metadata": {},
   "outputs": [
    {
     "data": {
      "text/plain": [
       "age\n",
       "1     988\n",
       "2     424\n",
       "3     254\n",
       "4     240\n",
       "5     173\n",
       "     ... \n",
       "92     12\n",
       "93      4\n",
       "95      8\n",
       "96     15\n",
       "99      8\n",
       "Name: age, Length: 96, dtype: int64"
      ]
     },
     "execution_count": 18,
     "metadata": {},
     "output_type": "execute_result"
    }
   ],
   "source": [
    "train_full.groupby('age')['age'].count()"
   ]
  },
  {
   "cell_type": "code",
   "execution_count": 19,
   "id": "673fc51e",
   "metadata": {},
   "outputs": [
    {
     "data": {
      "text/plain": [
       "(20834, 2)"
      ]
     },
     "execution_count": 19,
     "metadata": {},
     "output_type": "execute_result"
    }
   ],
   "source": [
    "train_full.shape"
   ]
  },
  {
   "cell_type": "code",
   "execution_count": 20,
   "id": "15d3b798",
   "metadata": {},
   "outputs": [],
   "source": [
    "# Extract valid from train\n",
    "train, valid = train_full[:-5500], train_full[-5500:]"
   ]
  },
  {
   "cell_type": "code",
   "execution_count": 21,
   "id": "25df67c8",
   "metadata": {},
   "outputs": [
    {
     "data": {
      "text/plain": [
       "(2842, 2)"
      ]
     },
     "execution_count": 21,
     "metadata": {},
     "output_type": "execute_result"
    }
   ],
   "source": [
    "test.shape"
   ]
  },
  {
   "cell_type": "code",
   "execution_count": 22,
   "id": "80621430",
   "metadata": {},
   "outputs": [
    {
     "data": {
      "text/plain": [
       "age\n",
       "1     135\n",
       "2      58\n",
       "3      35\n",
       "4      33\n",
       "5      23\n",
       "     ... \n",
       "92      1\n",
       "93      1\n",
       "95      1\n",
       "96      2\n",
       "99      1\n",
       "Name: age, Length: 95, dtype: int64"
      ]
     },
     "execution_count": 22,
     "metadata": {},
     "output_type": "execute_result"
    }
   ],
   "source": [
    "test.groupby('age')['age'].count()"
   ]
  },
  {
   "cell_type": "code",
   "execution_count": 77,
   "id": "14767f63",
   "metadata": {},
   "outputs": [],
   "source": [
    "# Create necessary folders for image storage\n",
    "os.makedirs('train')"
   ]
  },
  {
   "cell_type": "code",
   "execution_count": 78,
   "id": "16076645",
   "metadata": {},
   "outputs": [],
   "source": [
    "os.makedirs('test')"
   ]
  },
  {
   "cell_type": "code",
   "execution_count": 79,
   "id": "57fb03bf",
   "metadata": {},
   "outputs": [],
   "source": [
    "os.makedirs('valid')"
   ]
  },
  {
   "cell_type": "code",
   "execution_count": 23,
   "id": "396bdfa9",
   "metadata": {},
   "outputs": [],
   "source": [
    "# Create lists for train/test/valid images\n",
    "train_files = []\n",
    "for i in train['full_path']:\n",
    "    train_files.append(i)\n",
    "for a in train['age']:\n",
    "    train_files.append(a)"
   ]
  },
  {
   "cell_type": "code",
   "execution_count": 24,
   "id": "2d3d0b32",
   "metadata": {},
   "outputs": [],
   "source": [
    "test_files = []\n",
    "for i in test['full_path']:\n",
    "    test_files.append(i)\n",
    "for a in test['age']:\n",
    "    test_files.append(a)"
   ]
  },
  {
   "cell_type": "code",
   "execution_count": 25,
   "id": "11e68299",
   "metadata": {},
   "outputs": [],
   "source": [
    "valid_files = []\n",
    "for i in valid['full_path']:\n",
    "    valid_files.append(i)\n",
    "for a in valid['age']:\n",
    "    valid_files.append(a)"
   ]
  },
  {
   "cell_type": "code",
   "execution_count": 26,
   "id": "7ef979e2",
   "metadata": {},
   "outputs": [],
   "source": [
    "train_dir = main_dir + '/train'\n",
    "test_dir = main_dir + '/test'\n",
    "valid_dir = main_dir + '/valid'"
   ]
  },
  {
   "cell_type": "code",
   "execution_count": 84,
   "id": "09178479",
   "metadata": {},
   "outputs": [],
   "source": [
    "for filename in os.listdir(ImgLocation):\n",
    "    if filename != '.DS_Store':\n",
    "        # for i in os.listdir(ImgLocation + '/' + filename):\n",
    "        file = ImgLocation + '/' + filename\n",
    "        if file in train_files:\n",
    "            img = cv2.imread(file)\n",
    "            img = cv2.resize(img, (224, 224))\n",
    "            if img.shape[2] == 1:\n",
    "                img = np.dstack([img, img, img]) # Some images are in  greyscale (1 channel), \n",
    "                                                     # therefore convert them to 3 channel\n",
    "            path = train_dir\n",
    "            cv2.imwrite(os.path.join(path, filename), img)\n",
    "        if file in test_files:\n",
    "            img = cv2.imread(file)\n",
    "            img = cv2.resize(img, (224, 224))\n",
    "            if img.shape[2] == 1:\n",
    "                img = np.dstack([img, img, img])\n",
    "            path = test_dir\n",
    "            cv2.imwrite(os.path.join(path, filename), img)\n",
    "        if file in valid_files:\n",
    "            img = cv2.imread(file)\n",
    "            img = cv2.resize(img, (224, 224))\n",
    "            if img.shape[2] == 1:\n",
    "                img = np.dstack([img, img, img])\n",
    "            path = valid_dir\n",
    "            cv2.imwrite(os.path.join(path, filename), img)"
   ]
  },
  {
   "cell_type": "code",
   "execution_count": 27,
   "id": "c62b84c9",
   "metadata": {},
   "outputs": [],
   "source": [
    "from tensorflow.keras.preprocessing.image import ImageDataGenerator"
   ]
  },
  {
   "cell_type": "code",
   "execution_count": 28,
   "id": "d4433713",
   "metadata": {},
   "outputs": [],
   "source": [
    "train_datagen=ImageDataGenerator(rescale=1./255.)"
   ]
  },
  {
   "cell_type": "code",
   "execution_count": 29,
   "id": "e3f02687",
   "metadata": {},
   "outputs": [],
   "source": [
    "test_datagen=ImageDataGenerator(rescale=1./255.)"
   ]
  },
  {
   "cell_type": "code",
   "execution_count": 30,
   "id": "6ab8ca14",
   "metadata": {},
   "outputs": [],
   "source": [
    "valid_datagen=ImageDataGenerator(rescale=1./255.)"
   ]
  },
  {
   "cell_type": "code",
   "execution_count": 31,
   "id": "5d366052",
   "metadata": {},
   "outputs": [
    {
     "name": "stdout",
     "output_type": "stream",
     "text": [
      "Found 15334 validated image filenames.\n",
      "Found 5500 validated image filenames.\n",
      "Found 2842 validated image filenames.\n"
     ]
    }
   ],
   "source": [
    "TARGET_SIZE = (224,224)\n",
    "\n",
    "train_gen=train_datagen.flow_from_dataframe(\n",
    "dataframe=train,\n",
    "directory=main_dir + '/train',\n",
    "x_col=\"full_path\",\n",
    "y_col=\"age\",\n",
    "batch_size=32,\n",
    "seed=42,\n",
    "shuffle=True,\n",
    "class_mode=\"raw\",\n",
    "color_mode='rgb',\n",
    "target_size=TARGET_SIZE\n",
    ")\n",
    "\n",
    "valid_gen=train_datagen.flow_from_dataframe(\n",
    "dataframe=valid,\n",
    "directory=main_dir + '/valid',\n",
    "x_col=\"full_path\",\n",
    "y_col=\"age\",\n",
    "batch_size=32,\n",
    "seed=42,\n",
    "shuffle=True,\n",
    "class_mode=\"raw\",\n",
    "color_mode='rgb',\n",
    "target_size=TARGET_SIZE\n",
    ")\n",
    "\n",
    "test_gen=test_datagen.flow_from_dataframe(\n",
    "dataframe=test,\n",
    "directory=main_dir + '/test',\n",
    "x_col=\"full_path\",\n",
    "y_col=\"age\",\n",
    "batch_size=32,\n",
    "seed=42,\n",
    "shuffle=False,\n",
    "class_mode=\"raw\",\n",
    "color_mode='rgb',\n",
    "target_size=TARGET_SIZE\n",
    ")"
   ]
  },
  {
   "attachments": {},
   "cell_type": "markdown",
   "id": "2ef4a50e",
   "metadata": {},
   "source": [
    "# Определим и обучим базовую модель."
   ]
  },
  {
   "attachments": {},
   "cell_type": "markdown",
   "id": "94a49824",
   "metadata": {},
   "source": [
    "**Custom model**"
   ]
  },
  {
   "cell_type": "code",
   "execution_count": 42,
   "id": "ddc65fe2",
   "metadata": {},
   "outputs": [],
   "source": [
    "from tensorflow.keras.models import Sequential, Model\n",
    "from tensorflow.keras.layers import Dense, Conv2D, MaxPooling2D, Flatten, Dropout, BatchNormalization, AveragePooling2D, Activation, GlobalMaxPool2D, GlobalAveragePooling2D, Input, MaxPool2D\n",
    "from tensorflow.keras.optimizers import Adam\n",
    "from tensorflow.keras.callbacks import EarlyStopping, ReduceLROnPlateau, ModelCheckpoint"
   ]
  },
  {
   "cell_type": "code",
   "execution_count": 58,
   "id": "bbd08114",
   "metadata": {},
   "outputs": [],
   "source": [
    "target_size = (224,224,3) \n",
    "input = Input(shape= target_size) \n",
    "\n",
    "x = Conv2D(filters=32, kernel_size=(3,3), activation='relu')(input) \n",
    "x = MaxPool2D(2,2)(x) \n",
    "\n",
    "x = Conv2D(filters=64, kernel_size=(3,3), activation='relu')(x) \n",
    "x = MaxPool2D(2,2)(x) \n",
    "\n",
    "x = Conv2D(filters=128, kernel_size=(3,3), activation='relu')(x) \n",
    "x = MaxPool2D(2,2)(x) \n",
    "\n",
    "x = Conv2D(filters=256, kernel_size=(3,3), activation='relu')(x) \n",
    "x = MaxPool2D(2,2)(x) \n",
    "x = GlobalMaxPool2D()(x)\n",
    "x = Dropout(0.25)(x) \n",
    "x = Flatten()(x) \n",
    "x = Dense(units=128, activation='relu')(x) \n",
    "x = Dense(units=64, activation='relu')(x) \n",
    "output = Dense(units=1, activation='linear')(x) \n",
    "\n",
    "custom_model  = Model(input, output, name= 'Custom_Model')"
   ]
  },
  {
   "cell_type": "code",
   "execution_count": 52,
   "id": "12ab6d06",
   "metadata": {},
   "outputs": [
    {
     "name": "stdout",
     "output_type": "stream",
     "text": [
      "Model: \"Custom_Model\"\n",
      "_________________________________________________________________\n",
      " Layer (type)                Output Shape              Param #   \n",
      "=================================================================\n",
      " input_1 (InputLayer)        [(None, 224, 224, 3)]     0         \n",
      "                                                                 \n",
      " conv2d (Conv2D)             (None, 222, 222, 32)      896       \n",
      "                                                                 \n",
      " max_pooling2d (MaxPooling2D  (None, 111, 111, 32)     0         \n",
      " )                                                               \n",
      "                                                                 \n",
      " conv2d_1 (Conv2D)           (None, 109, 109, 64)      18496     \n",
      "                                                                 \n",
      " max_pooling2d_1 (MaxPooling  (None, 54, 54, 64)       0         \n",
      " 2D)                                                             \n",
      "                                                                 \n",
      " conv2d_2 (Conv2D)           (None, 52, 52, 128)       73856     \n",
      "                                                                 \n",
      " max_pooling2d_2 (MaxPooling  (None, 26, 26, 128)      0         \n",
      " 2D)                                                             \n",
      "                                                                 \n",
      " conv2d_3 (Conv2D)           (None, 24, 24, 256)       295168    \n",
      "                                                                 \n",
      " max_pooling2d_3 (MaxPooling  (None, 12, 12, 256)      0         \n",
      " 2D)                                                             \n",
      "                                                                 \n",
      " global_max_pooling2d (Globa  (None, 256)              0         \n",
      " lMaxPooling2D)                                                  \n",
      "                                                                 \n",
      " dropout_1 (Dropout)         (None, 256)               0         \n",
      "                                                                 \n",
      " flatten (Flatten)           (None, 256)               0         \n",
      "                                                                 \n",
      " dense (Dense)               (None, 128)               32896     \n",
      "                                                                 \n",
      " dense_1 (Dense)             (None, 64)                8256      \n",
      "                                                                 \n",
      " dense_2 (Dense)             (None, 1)                 65        \n",
      "                                                                 \n",
      "=================================================================\n",
      "Total params: 429,633\n",
      "Trainable params: 429,633\n",
      "Non-trainable params: 0\n",
      "_________________________________________________________________\n"
     ]
    }
   ],
   "source": [
    "custom_model.summary()"
   ]
  },
  {
   "cell_type": "code",
   "execution_count": null,
   "id": "d2e13903",
   "metadata": {},
   "outputs": [],
   "source": [
    "# show model structure \n",
    "from tensorflow.keras.utils import plot_model \n",
    "plot_model(custom_model,show_shapes=True,\n",
    "    show_dtype=True,\n",
    "    show_layer_names=True)"
   ]
  },
  {
   "cell_type": "code",
   "execution_count": 59,
   "id": "41dbea3f",
   "metadata": {},
   "outputs": [],
   "source": [
    "# compile model\n",
    "custom_model.compile(loss='mse', optimizer='rmsprop', metrics=['mae']) \n",
    "\n",
    "# initialize callbacks \n",
    "reduceLR = ReduceLROnPlateau(monitor='val_mae', patience= 3, verbose= 1, mode='min', factor=  0.2, min_lr = 1e-6) \n",
    "\n",
    "early_stopping = EarlyStopping(monitor='val_mae', patience = 5 , verbose=1, mode='min', restore_best_weights= True) \n",
    "\n",
    "checkpoint = ModelCheckpoint('CustomModel.weights.hdf5', monitor='val_mae', verbose=1, save_best_only=True, mode= 'min') \n",
    "\n",
    "callbacks= [reduceLR, early_stopping, checkpoint]"
   ]
  },
  {
   "cell_type": "code",
   "execution_count": 60,
   "id": "7113f3c4",
   "metadata": {},
   "outputs": [
    {
     "name": "stdout",
     "output_type": "stream",
     "text": [
      "Epoch 1/30\n"
     ]
    },
    {
     "name": "stderr",
     "output_type": "stream",
     "text": [
      "2023-05-02 15:33:10.274047: I tensorflow/core/grappler/optimizers/custom_graph_optimizer_registry.cc:114] Plugin optimizer for device_type GPU is enabled.\n"
     ]
    },
    {
     "name": "stdout",
     "output_type": "stream",
     "text": [
      "480/480 [==============================] - ETA: 0s - loss: 467.1237 - mae: 16.6714"
     ]
    },
    {
     "name": "stderr",
     "output_type": "stream",
     "text": [
      "2023-05-02 15:33:51.053655: I tensorflow/core/grappler/optimizers/custom_graph_optimizer_registry.cc:114] Plugin optimizer for device_type GPU is enabled.\n"
     ]
    },
    {
     "name": "stdout",
     "output_type": "stream",
     "text": [
      "\n",
      "Epoch 1: val_mae improved from inf to 15.10244, saving model to CustomModel.weights.hdf5\n",
      "480/480 [==============================] - 46s 93ms/step - loss: 467.1237 - mae: 16.6714 - val_loss: 407.1921 - val_mae: 15.1024 - lr: 0.0010\n",
      "Epoch 2/30\n",
      "480/480 [==============================] - ETA: 0s - loss: 424.6072 - mae: 15.8943\n",
      "Epoch 2: val_mae did not improve from 15.10244\n",
      "480/480 [==============================] - 45s 94ms/step - loss: 424.6072 - mae: 15.8943 - val_loss: 452.7494 - val_mae: 15.5281 - lr: 0.0010\n",
      "Epoch 3/30\n",
      "480/480 [==============================] - ETA: 0s - loss: 398.1640 - mae: 15.3852\n",
      "Epoch 3: val_mae did not improve from 15.10244\n",
      "480/480 [==============================] - 45s 93ms/step - loss: 398.1640 - mae: 15.3852 - val_loss: 380.3707 - val_mae: 15.7101 - lr: 0.0010\n",
      "Epoch 4/30\n",
      "480/480 [==============================] - ETA: 0s - loss: 375.3994 - mae: 14.9523\n",
      "Epoch 4: val_mae improved from 15.10244 to 14.55857, saving model to CustomModel.weights.hdf5\n",
      "480/480 [==============================] - 45s 94ms/step - loss: 375.3994 - mae: 14.9523 - val_loss: 399.9847 - val_mae: 14.5586 - lr: 0.0010\n",
      "Epoch 5/30\n",
      "480/480 [==============================] - ETA: 0s - loss: 352.8330 - mae: 14.4651\n",
      "Epoch 5: val_mae did not improve from 14.55857\n",
      "480/480 [==============================] - 45s 94ms/step - loss: 352.8330 - mae: 14.4651 - val_loss: 418.2274 - val_mae: 15.0640 - lr: 0.0010\n",
      "Epoch 6/30\n",
      "480/480 [==============================] - ETA: 0s - loss: 324.4301 - mae: 13.8494\n",
      "Epoch 6: val_mae improved from 14.55857 to 12.67037, saving model to CustomModel.weights.hdf5\n",
      "480/480 [==============================] - 44s 93ms/step - loss: 324.4301 - mae: 13.8494 - val_loss: 292.6593 - val_mae: 12.6704 - lr: 0.0010\n",
      "Epoch 7/30\n",
      "480/480 [==============================] - ETA: 0s - loss: 277.4305 - mae: 12.7741\n",
      "Epoch 7: val_mae improved from 12.67037 to 11.82129, saving model to CustomModel.weights.hdf5\n",
      "480/480 [==============================] - 44s 92ms/step - loss: 277.4305 - mae: 12.7741 - val_loss: 270.8218 - val_mae: 11.8213 - lr: 0.0010\n",
      "Epoch 8/30\n",
      "480/480 [==============================] - ETA: 0s - loss: 245.8852 - mae: 11.8709\n",
      "Epoch 8: val_mae improved from 11.82129 to 10.69930, saving model to CustomModel.weights.hdf5\n",
      "480/480 [==============================] - 44s 92ms/step - loss: 245.8852 - mae: 11.8709 - val_loss: 214.0600 - val_mae: 10.6993 - lr: 0.0010\n",
      "Epoch 9/30\n",
      "480/480 [==============================] - ETA: 0s - loss: 220.5373 - mae: 11.1411\n",
      "Epoch 9: val_mae improved from 10.69930 to 10.19071, saving model to CustomModel.weights.hdf5\n",
      "480/480 [==============================] - 44s 92ms/step - loss: 220.5373 - mae: 11.1411 - val_loss: 186.2832 - val_mae: 10.1907 - lr: 0.0010\n",
      "Epoch 10/30\n",
      "480/480 [==============================] - ETA: 0s - loss: 199.9741 - mae: 10.5279\n",
      "Epoch 10: val_mae improved from 10.19071 to 9.59200, saving model to CustomModel.weights.hdf5\n",
      "480/480 [==============================] - 44s 92ms/step - loss: 199.9741 - mae: 10.5279 - val_loss: 179.5655 - val_mae: 9.5920 - lr: 0.0010\n",
      "Epoch 11/30\n",
      "480/480 [==============================] - ETA: 0s - loss: 183.8045 - mae: 10.0620\n",
      "Epoch 11: val_mae improved from 9.59200 to 9.50203, saving model to CustomModel.weights.hdf5\n",
      "480/480 [==============================] - 44s 92ms/step - loss: 183.8045 - mae: 10.0620 - val_loss: 177.4946 - val_mae: 9.5020 - lr: 0.0010\n",
      "Epoch 12/30\n",
      "480/480 [==============================] - ETA: 0s - loss: 168.2738 - mae: 9.5472\n",
      "Epoch 12: val_mae improved from 9.50203 to 9.38933, saving model to CustomModel.weights.hdf5\n",
      "480/480 [==============================] - 44s 91ms/step - loss: 168.2738 - mae: 9.5472 - val_loss: 176.6863 - val_mae: 9.3893 - lr: 0.0010\n",
      "Epoch 13/30\n",
      "480/480 [==============================] - ETA: 0s - loss: 152.5170 - mae: 9.0812\n",
      "Epoch 13: val_mae improved from 9.38933 to 8.62216, saving model to CustomModel.weights.hdf5\n",
      "480/480 [==============================] - 44s 91ms/step - loss: 152.5170 - mae: 9.0812 - val_loss: 151.0571 - val_mae: 8.6222 - lr: 0.0010\n",
      "Epoch 14/30\n",
      "480/480 [==============================] - ETA: 0s - loss: 142.8752 - mae: 8.7672\n",
      "Epoch 14: val_mae improved from 8.62216 to 8.17776, saving model to CustomModel.weights.hdf5\n",
      "480/480 [==============================] - 44s 91ms/step - loss: 142.8752 - mae: 8.7672 - val_loss: 134.9524 - val_mae: 8.1778 - lr: 0.0010\n",
      "Epoch 15/30\n",
      "480/480 [==============================] - ETA: 0s - loss: 133.4108 - mae: 8.4429\n",
      "Epoch 15: val_mae improved from 8.17776 to 8.09960, saving model to CustomModel.weights.hdf5\n",
      "480/480 [==============================] - 44s 91ms/step - loss: 133.4108 - mae: 8.4429 - val_loss: 125.1344 - val_mae: 8.0996 - lr: 0.0010\n",
      "Epoch 16/30\n",
      "480/480 [==============================] - ETA: 0s - loss: 124.8032 - mae: 8.1686\n",
      "Epoch 16: val_mae did not improve from 8.09960\n",
      "480/480 [==============================] - 44s 92ms/step - loss: 124.8032 - mae: 8.1686 - val_loss: 134.2726 - val_mae: 8.1149 - lr: 0.0010\n",
      "Epoch 17/30\n",
      "480/480 [==============================] - ETA: 0s - loss: 115.0422 - mae: 7.8601\n",
      "Epoch 17: val_mae improved from 8.09960 to 7.99243, saving model to CustomModel.weights.hdf5\n",
      "480/480 [==============================] - 46s 96ms/step - loss: 115.0422 - mae: 7.8601 - val_loss: 120.2952 - val_mae: 7.9924 - lr: 0.0010\n",
      "Epoch 18/30\n",
      "480/480 [==============================] - ETA: 0s - loss: 111.0867 - mae: 7.7101\n",
      "Epoch 18: val_mae improved from 7.99243 to 7.75626, saving model to CustomModel.weights.hdf5\n",
      "480/480 [==============================] - 45s 94ms/step - loss: 111.0867 - mae: 7.7101 - val_loss: 121.1842 - val_mae: 7.7563 - lr: 0.0010\n",
      "Epoch 19/30\n",
      "480/480 [==============================] - ETA: 0s - loss: 106.4129 - mae: 7.4787\n",
      "Epoch 19: val_mae did not improve from 7.75626\n",
      "480/480 [==============================] - 44s 92ms/step - loss: 106.4129 - mae: 7.4787 - val_loss: 126.4996 - val_mae: 7.9244 - lr: 0.0010\n",
      "Epoch 20/30\n",
      "480/480 [==============================] - ETA: 0s - loss: 98.6919 - mae: 7.2623\n",
      "Epoch 20: val_mae did not improve from 7.75626\n",
      "480/480 [==============================] - 44s 92ms/step - loss: 98.6919 - mae: 7.2623 - val_loss: 127.7383 - val_mae: 7.8916 - lr: 0.0010\n",
      "Epoch 21/30\n",
      "480/480 [==============================] - ETA: 0s - loss: 94.8307 - mae: 7.1412\n",
      "Epoch 21: ReduceLROnPlateau reducing learning rate to 0.00020000000949949026.\n",
      "\n",
      "Epoch 21: val_mae did not improve from 7.75626\n",
      "480/480 [==============================] - 44s 92ms/step - loss: 94.8307 - mae: 7.1412 - val_loss: 128.3635 - val_mae: 7.8606 - lr: 0.0010\n",
      "Epoch 22/30\n",
      "480/480 [==============================] - ETA: 0s - loss: 62.4806 - mae: 5.7808\n",
      "Epoch 22: val_mae improved from 7.75626 to 7.27498, saving model to CustomModel.weights.hdf5\n",
      "480/480 [==============================] - 44s 92ms/step - loss: 62.4806 - mae: 5.7808 - val_loss: 108.3693 - val_mae: 7.2750 - lr: 2.0000e-04\n",
      "Epoch 23/30\n",
      "480/480 [==============================] - ETA: 0s - loss: 57.3897 - mae: 5.5454\n",
      "Epoch 23: val_mae improved from 7.27498 to 7.05062, saving model to CustomModel.weights.hdf5\n",
      "480/480 [==============================] - 44s 92ms/step - loss: 57.3897 - mae: 5.5454 - val_loss: 97.0193 - val_mae: 7.0506 - lr: 2.0000e-04\n",
      "Epoch 24/30\n",
      "480/480 [==============================] - ETA: 0s - loss: 54.9601 - mae: 5.4376\n",
      "Epoch 24: val_mae did not improve from 7.05062\n",
      "480/480 [==============================] - 44s 92ms/step - loss: 54.9601 - mae: 5.4376 - val_loss: 114.9656 - val_mae: 7.4522 - lr: 2.0000e-04\n",
      "Epoch 25/30\n",
      "480/480 [==============================] - ETA: 0s - loss: 52.0097 - mae: 5.2872\n",
      "Epoch 25: val_mae did not improve from 7.05062\n",
      "480/480 [==============================] - 45s 93ms/step - loss: 52.0097 - mae: 5.2872 - val_loss: 105.2213 - val_mae: 7.1141 - lr: 2.0000e-04\n",
      "Epoch 26/30\n",
      "480/480 [==============================] - ETA: 0s - loss: 49.6359 - mae: 5.1854\n",
      "Epoch 26: val_mae improved from 7.05062 to 7.01612, saving model to CustomModel.weights.hdf5\n",
      "480/480 [==============================] - 44s 93ms/step - loss: 49.6359 - mae: 5.1854 - val_loss: 101.1399 - val_mae: 7.0161 - lr: 2.0000e-04\n",
      "Epoch 27/30\n",
      "480/480 [==============================] - ETA: 0s - loss: 48.5711 - mae: 5.1236\n",
      "Epoch 27: val_mae did not improve from 7.01612\n",
      "480/480 [==============================] - 44s 92ms/step - loss: 48.5711 - mae: 5.1236 - val_loss: 104.2954 - val_mae: 7.1158 - lr: 2.0000e-04\n",
      "Epoch 28/30\n",
      "480/480 [==============================] - ETA: 0s - loss: 45.8029 - mae: 4.9849\n",
      "Epoch 28: val_mae did not improve from 7.01612\n",
      "480/480 [==============================] - 44s 92ms/step - loss: 45.8029 - mae: 4.9849 - val_loss: 108.0285 - val_mae: 7.2087 - lr: 2.0000e-04\n",
      "Epoch 29/30\n",
      "480/480 [==============================] - ETA: 0s - loss: 43.6914 - mae: 4.8711\n",
      "Epoch 29: val_mae improved from 7.01612 to 6.95895, saving model to CustomModel.weights.hdf5\n",
      "480/480 [==============================] - 44s 92ms/step - loss: 43.6914 - mae: 4.8711 - val_loss: 99.0654 - val_mae: 6.9590 - lr: 2.0000e-04\n",
      "Epoch 30/30\n",
      "480/480 [==============================] - ETA: 0s - loss: 42.8190 - mae: 4.8165\n",
      "Epoch 30: val_mae improved from 6.95895 to 6.91384, saving model to CustomModel.weights.hdf5\n",
      "480/480 [==============================] - 44s 92ms/step - loss: 42.8190 - mae: 4.8165 - val_loss: 96.8458 - val_mae: 6.9138 - lr: 2.0000e-04\n",
      "CPU times: user 9min 49s, sys: 4min 9s, total: 13min 59s\n",
      "Wall time: 22min 10s\n"
     ]
    }
   ],
   "source": [
    "%%time \n",
    "\n",
    "epochs = 30 \n",
    "custom_model_history = custom_model.fit(train_gen, validation_data=valid_gen, epochs= epochs, callbacks= callbacks)"
   ]
  },
  {
   "cell_type": "code",
   "execution_count": 61,
   "id": "17f23f71",
   "metadata": {},
   "outputs": [
    {
     "data": {
      "image/png": "[encoded data removed]",
      "text/plain": [
       "<Figure size 640x480 with 1 Axes>"
      ]
     },
     "metadata": {},
     "output_type": "display_data"
    }
   ],
   "source": [
    "test_val_graph (custom_model_history,'mae','val_mae')"
   ]
  },
  {
   "cell_type": "code",
   "execution_count": 62,
   "id": "14024ec4",
   "metadata": {},
   "outputs": [],
   "source": [
    "del custom_model"
   ]
  },
  {
   "cell_type": "code",
   "execution_count": 63,
   "id": "6fef61c4",
   "metadata": {},
   "outputs": [
    {
     "data": {
      "text/plain": [
       "3859"
      ]
     },
     "execution_count": 63,
     "metadata": {},
     "output_type": "execute_result"
    }
   ],
   "source": [
    "gc.collect()"
   ]
  },
  {
   "cell_type": "code",
   "execution_count": 64,
   "id": "db25a110",
   "metadata": {},
   "outputs": [],
   "source": [
    "# load trained model\n",
    "custom_model =  tf.keras.models.load_model('CustomModel.weights.hdf5')"
   ]
  },
  {
   "cell_type": "code",
   "execution_count": 65,
   "id": "831cec41",
   "metadata": {},
   "outputs": [
    {
     "name": "stdout",
     "output_type": "stream",
     "text": [
      " 3/89 [>.............................] - ETA: 2s - loss: 158.8709 - mae: 7.8509"
     ]
    },
    {
     "name": "stderr",
     "output_type": "stream",
     "text": [
      "2023-05-02 15:55:45.725368: I tensorflow/core/grappler/optimizers/custom_graph_optimizer_registry.cc:114] Plugin optimizer for device_type GPU is enabled.\n"
     ]
    },
    {
     "name": "stdout",
     "output_type": "stream",
     "text": [
      "89/89 [==============================] - 3s 29ms/step - loss: 99.0604 - mae: 7.0522\n",
      "CPU times: user 2.16 s, sys: 1.35 s, total: 3.51 s\n",
      "Wall time: 2.75 s\n"
     ]
    },
    {
     "data": {
      "text/plain": [
       "[99.06040954589844, 7.052201271057129]"
      ]
     },
     "execution_count": 65,
     "metadata": {},
     "output_type": "execute_result"
    }
   ],
   "source": [
    "%%time\n",
    "\n",
    "# Evaluate the model \n",
    "custom_model.evaluate(test_gen)"
   ]
  },
  {
   "cell_type": "code",
   "execution_count": 96,
   "id": "41807095",
   "metadata": {},
   "outputs": [
    {
     "name": "stderr",
     "output_type": "stream",
     "text": [
      "Prediction: 1000it [00:29, 33.82it/s]\n"
     ]
    }
   ],
   "source": [
    "# Predict on 1000 images \n",
    "NUM_IMAGES = 1000\n",
    "idx = np.random.randint (0,len(test),NUM_IMAGES)\n",
    "expected = []\n",
    "predicted = []\n",
    "\n",
    "for idx in tqdm(enumerate(idx), desc='Prediction'):\n",
    "    link = test.iloc[idx[1]]\n",
    "    image = plt.imread(link[1])\n",
    "    img_resized = cv2.resize (image, (224,224))/255 #,\n",
    "    img_reshaped  = img_resized.reshape (1,224,224,3)\n",
    "    predict = custom_model.predict(img_reshaped, verbose=0)[0][0];\n",
    "    \n",
    "    expected.append (link[1])\n",
    "    predicted.append (predict)"
   ]
  },
  {
   "attachments": {},
   "cell_type": "markdown",
   "id": "3732110f",
   "metadata": {},
   "source": [
    "---"
   ]
  },
  {
   "attachments": {},
   "cell_type": "markdown",
   "id": "a6745418",
   "metadata": {},
   "source": [
    "# Квантование модели."
   ]
  },
  {
   "attachments": {},
   "cell_type": "markdown",
   "id": "cbd717a1",
   "metadata": {},
   "source": [
    "\n",
    "Quantization can save memory storage cost and bandwidth for faster and more energy-efficient computation. Quantization has been successfully applied to supervised learning to enable edge deployments of machine learning (ML) models and achieve faster training."
   ]
  },
  {
   "cell_type": "code",
   "execution_count": 66,
   "id": "affef3a3",
   "metadata": {},
   "outputs": [],
   "source": [
    "quantized_custom_model = tfmot.quantization.keras.quantize_model(custom_model)"
   ]
  },
  {
   "cell_type": "code",
   "execution_count": 67,
   "id": "3f4eb826",
   "metadata": {},
   "outputs": [],
   "source": [
    "# compile model\n",
    "quantized_custom_model.compile(loss='mse', optimizer='rmsprop', metrics=['mae']) "
   ]
  },
  {
   "cell_type": "code",
   "execution_count": 68,
   "id": "d9c6170a",
   "metadata": {},
   "outputs": [],
   "source": [
    "# initialize callbacks \n",
    "reduceLR = ReduceLROnPlateau(monitor='val_mae', patience= 3, verbose= 1, mode='min', factor=  0.2, min_lr = 1e-6) \n",
    "\n",
    "early_stopping = EarlyStopping(monitor='val_mae', patience = 5 , verbose=1, mode='min', restore_best_weights= True) \n",
    "\n",
    "checkpoint = ModelCheckpoint('Quantized_CustomModel.weights.hdf5', monitor='val_mae', verbose=1, save_best_only=True, mode= 'min') \n",
    "\n",
    "callbacks= [reduceLR, early_stopping, checkpoint]"
   ]
  },
  {
   "cell_type": "code",
   "execution_count": 69,
   "id": "b4ecad61",
   "metadata": {},
   "outputs": [
    {
     "name": "stdout",
     "output_type": "stream",
     "text": [
      "Epoch 1/30\n"
     ]
    },
    {
     "name": "stderr",
     "output_type": "stream",
     "text": [
      "2023-05-02 15:56:05.558288: I tensorflow/core/grappler/optimizers/custom_graph_optimizer_registry.cc:114] Plugin optimizer for device_type GPU is enabled.\n"
     ]
    },
    {
     "name": "stdout",
     "output_type": "stream",
     "text": [
      "480/480 [==============================] - ETA: 0s - loss: 887.1226 - mae: 23.6870"
     ]
    },
    {
     "name": "stderr",
     "output_type": "stream",
     "text": [
      "2023-05-02 15:58:37.111266: I tensorflow/core/grappler/optimizers/custom_graph_optimizer_registry.cc:114] Plugin optimizer for device_type GPU is enabled.\n"
     ]
    },
    {
     "name": "stdout",
     "output_type": "stream",
     "text": [
      "\n",
      "Epoch 1: val_mae improved from inf to 19.14114, saving model to Quantized_CustomModel.weights.hdf5\n",
      "480/480 [==============================] - 171s 354ms/step - loss: 887.1226 - mae: 23.6870 - val_loss: 643.9396 - val_mae: 19.1411 - lr: 0.0010\n",
      "Epoch 2/30\n",
      "480/480 [==============================] - ETA: 0s - loss: 392.1638 - mae: 13.7462\n",
      "Epoch 2: val_mae improved from 19.14114 to 10.47716, saving model to Quantized_CustomModel.weights.hdf5\n",
      "480/480 [==============================] - 168s 350ms/step - loss: 392.1638 - mae: 13.7462 - val_loss: 225.4711 - val_mae: 10.4772 - lr: 0.0010\n",
      "Epoch 3/30\n",
      "480/480 [==============================] - ETA: 0s - loss: 151.3506 - mae: 8.6728\n",
      "Epoch 3: val_mae improved from 10.47716 to 7.78598, saving model to Quantized_CustomModel.weights.hdf5\n",
      "480/480 [==============================] - 169s 352ms/step - loss: 151.3506 - mae: 8.6728 - val_loss: 118.9509 - val_mae: 7.7860 - lr: 0.0010\n",
      "Epoch 4/30\n",
      "480/480 [==============================] - ETA: 0s - loss: 94.9797 - mae: 7.1245\n",
      "Epoch 4: val_mae did not improve from 7.78598\n",
      "480/480 [==============================] - 171s 355ms/step - loss: 94.9797 - mae: 7.1245 - val_loss: 128.9272 - val_mae: 7.9123 - lr: 0.0010\n",
      "Epoch 5/30\n",
      "480/480 [==============================] - ETA: 0s - loss: 82.3554 - mae: 6.7082\n",
      "Epoch 5: val_mae improved from 7.78598 to 7.47424, saving model to Quantized_CustomModel.weights.hdf5\n",
      "480/480 [==============================] - 176s 367ms/step - loss: 82.3554 - mae: 6.7082 - val_loss: 108.4304 - val_mae: 7.4742 - lr: 0.0010\n",
      "Epoch 6/30\n",
      "480/480 [==============================] - ETA: 0s - loss: 76.1770 - mae: 6.5000\n",
      "Epoch 6: val_mae did not improve from 7.47424\n",
      "480/480 [==============================] - 181s 376ms/step - loss: 76.1770 - mae: 6.5000 - val_loss: 258.7087 - val_mae: 11.6883 - lr: 0.0010\n",
      "Epoch 7/30\n",
      "480/480 [==============================] - ETA: 0s - loss: 73.6972 - mae: 6.3517\n",
      "Epoch 7: val_mae did not improve from 7.47424\n",
      "480/480 [==============================] - 185s 385ms/step - loss: 73.6972 - mae: 6.3517 - val_loss: 124.6029 - val_mae: 7.7803 - lr: 0.0010\n",
      "Epoch 8/30\n",
      "480/480 [==============================] - ETA: 0s - loss: 69.1852 - mae: 6.1624\n",
      "Epoch 8: ReduceLROnPlateau reducing learning rate to 0.00020000000949949026.\n",
      "\n",
      "Epoch 8: val_mae did not improve from 7.47424\n",
      "480/480 [==============================] - 181s 376ms/step - loss: 69.1852 - mae: 6.1624 - val_loss: 105.6144 - val_mae: 7.7119 - lr: 0.0010\n",
      "Epoch 9/30\n",
      "480/480 [==============================] - ETA: 0s - loss: 41.1091 - mae: 4.7763\n",
      "Epoch 9: val_mae improved from 7.47424 to 7.33200, saving model to Quantized_CustomModel.weights.hdf5\n",
      "480/480 [==============================] - 180s 374ms/step - loss: 41.1091 - mae: 4.7763 - val_loss: 110.9416 - val_mae: 7.3320 - lr: 2.0000e-04\n",
      "Epoch 10/30\n",
      "480/480 [==============================] - ETA: 0s - loss: 36.9170 - mae: 4.5366\n",
      "Epoch 10: val_mae improved from 7.33200 to 7.22701, saving model to Quantized_CustomModel.weights.hdf5\n",
      "480/480 [==============================] - 174s 363ms/step - loss: 36.9170 - mae: 4.5366 - val_loss: 107.6710 - val_mae: 7.2270 - lr: 2.0000e-04\n",
      "Epoch 11/30\n",
      "480/480 [==============================] - ETA: 0s - loss: 34.9371 - mae: 4.4062\n",
      "Epoch 11: val_mae improved from 7.22701 to 6.94568, saving model to Quantized_CustomModel.weights.hdf5\n",
      "480/480 [==============================] - 169s 352ms/step - loss: 34.9371 - mae: 4.4062 - val_loss: 97.0266 - val_mae: 6.9457 - lr: 2.0000e-04\n",
      "Epoch 12/30\n",
      "480/480 [==============================] - ETA: 0s - loss: 33.6129 - mae: 4.3276\n",
      "Epoch 12: val_mae did not improve from 6.94568\n",
      "480/480 [==============================] - 167s 347ms/step - loss: 33.6129 - mae: 4.3276 - val_loss: 103.1282 - val_mae: 7.0713 - lr: 2.0000e-04\n",
      "Epoch 13/30\n",
      "480/480 [==============================] - ETA: 0s - loss: 31.5208 - mae: 4.1768\n",
      "Epoch 13: val_mae did not improve from 6.94568\n",
      "480/480 [==============================] - 166s 346ms/step - loss: 31.5208 - mae: 4.1768 - val_loss: 110.6147 - val_mae: 7.3320 - lr: 2.0000e-04\n",
      "Epoch 14/30\n",
      "480/480 [==============================] - ETA: 0s - loss: 30.6777 - mae: 4.1322\n",
      "Epoch 14: val_mae improved from 6.94568 to 6.91925, saving model to Quantized_CustomModel.weights.hdf5\n",
      "480/480 [==============================] - 168s 349ms/step - loss: 30.6777 - mae: 4.1322 - val_loss: 96.9120 - val_mae: 6.9193 - lr: 2.0000e-04\n",
      "Epoch 15/30\n",
      "480/480 [==============================] - ETA: 0s - loss: 29.1739 - mae: 4.0367\n",
      "Epoch 15: val_mae did not improve from 6.91925\n",
      "480/480 [==============================] - 167s 348ms/step - loss: 29.1739 - mae: 4.0367 - val_loss: 107.7439 - val_mae: 7.2394 - lr: 2.0000e-04\n",
      "Epoch 16/30\n",
      "480/480 [==============================] - ETA: 0s - loss: 27.9251 - mae: 3.9454\n",
      "Epoch 16: val_mae did not improve from 6.91925\n",
      "480/480 [==============================] - 166s 345ms/step - loss: 27.9251 - mae: 3.9454 - val_loss: 102.3072 - val_mae: 7.0405 - lr: 2.0000e-04\n",
      "Epoch 17/30\n",
      "480/480 [==============================] - ETA: 0s - loss: 26.8675 - mae: 3.8693\n",
      "Epoch 17: ReduceLROnPlateau reducing learning rate to 4.0000001899898055e-05.\n",
      "\n",
      "Epoch 17: val_mae did not improve from 6.91925\n",
      "480/480 [==============================] - 166s 347ms/step - loss: 26.8675 - mae: 3.8693 - val_loss: 102.9027 - val_mae: 7.0827 - lr: 2.0000e-04\n",
      "Epoch 18/30\n",
      "480/480 [==============================] - ETA: 0s - loss: 23.6140 - mae: 3.6338\n",
      "Epoch 18: val_mae did not improve from 6.91925\n",
      "480/480 [==============================] - 168s 349ms/step - loss: 23.6140 - mae: 3.6338 - val_loss: 102.9761 - val_mae: 7.0749 - lr: 4.0000e-05\n",
      "Epoch 19/30\n",
      "480/480 [==============================] - ETA: 0s - loss: 22.8560 - mae: 3.5756Restoring model weights from the end of the best epoch: 14.\n",
      "\n",
      "Epoch 19: val_mae did not improve from 6.91925\n",
      "480/480 [==============================] - 167s 347ms/step - loss: 22.8560 - mae: 3.5756 - val_loss: 101.6896 - val_mae: 7.0257 - lr: 4.0000e-05\n",
      "Epoch 19: early stopping\n"
     ]
    },
    {
     "data": {
      "text/plain": [
       "<keras.callbacks.History at 0x2cf564ac0>"
      ]
     },
     "execution_count": 69,
     "metadata": {},
     "output_type": "execute_result"
    }
   ],
   "source": [
    "epochs = 30 \n",
    "quantized_custom_model.fit(train_gen, validation_data=valid_gen, epochs= epochs, callbacks= callbacks)"
   ]
  },
  {
   "attachments": {},
   "cell_type": "markdown",
   "id": "338a4feb",
   "metadata": {},
   "source": [
    "54 мин обучалачь модель"
   ]
  },
  {
   "cell_type": "code",
   "execution_count": 70,
   "id": "9d41e34f",
   "metadata": {},
   "outputs": [],
   "source": [
    "del quantized_custom_model"
   ]
  },
  {
   "cell_type": "code",
   "execution_count": 71,
   "id": "ee11c8a6",
   "metadata": {},
   "outputs": [
    {
     "data": {
      "text/plain": [
       "8828"
      ]
     },
     "execution_count": 71,
     "metadata": {},
     "output_type": "execute_result"
    }
   ],
   "source": [
    "gc.collect()"
   ]
  },
  {
   "cell_type": "code",
   "execution_count": null,
   "id": "fa681f4f",
   "metadata": {},
   "outputs": [],
   "source": [
    "# load trained model\n",
    "quantized_custom_model =  tf.keras.models.load_model('Quantized_CustomModel.weights.hdf5')\n",
    "\n",
    "# ValueError: Unknown layer: QuantizeLayer. Please ensure this object is passed to the `custom_objects` argument."
   ]
  },
  {
   "cell_type": "code",
   "execution_count": 75,
   "id": "7ffd5d9a",
   "metadata": {},
   "outputs": [],
   "source": [
    "with tfmot.quantization.keras.quantize_scope():\n",
    "    quantized_custom_model = tf.keras.models.load_model('Quantized_CustomModel.weights.hdf5')"
   ]
  },
  {
   "cell_type": "code",
   "execution_count": 76,
   "id": "e5bfd385",
   "metadata": {},
   "outputs": [
    {
     "name": "stderr",
     "output_type": "stream",
     "text": [
      "2023-05-02 16:54:42.552400: I tensorflow/core/grappler/optimizers/custom_graph_optimizer_registry.cc:114] Plugin optimizer for device_type GPU is enabled.\n"
     ]
    },
    {
     "name": "stdout",
     "output_type": "stream",
     "text": [
      "89/89 [==============================] - 10s 115ms/step - loss: 99.0989 - mae: 7.0361\n",
      "CPU times: user 6.85 s, sys: 16.4 s, total: 23.2 s\n",
      "Wall time: 10.5 s\n"
     ]
    },
    {
     "data": {
      "text/plain": [
       "[99.09888458251953, 7.036126613616943]"
      ]
     },
     "execution_count": 76,
     "metadata": {},
     "output_type": "execute_result"
    }
   ],
   "source": [
    "%%time\n",
    "\n",
    "# Evaluate the model \n",
    "quantized_custom_model.evaluate(test_gen)"
   ]
  },
  {
   "cell_type": "code",
   "execution_count": 94,
   "id": "b3e9c5b4",
   "metadata": {},
   "outputs": [
    {
     "name": "stderr",
     "output_type": "stream",
     "text": [
      "Prediction: 0it [00:00, ?it/s]2023-05-02 18:35:42.188931: I tensorflow/core/grappler/optimizers/custom_graph_optimizer_registry.cc:114] Plugin optimizer for device_type GPU is enabled.\n",
      "Prediction: 1000it [00:42, 23.52it/s]\n"
     ]
    }
   ],
   "source": [
    "# Predict on 1000 images \n",
    "NUM_IMAGES = 1000\n",
    "idx = np.random.randint (0,len(test),NUM_IMAGES)\n",
    "expected = []\n",
    "predicted = []\n",
    "\n",
    "for idx in tqdm(enumerate(idx), desc='Prediction'):\n",
    "    link = test.iloc[idx[1]]\n",
    "    image = plt.imread(link[1])\n",
    "    img_resized = cv2.resize (image, (224,224))/255 #,\n",
    "    img_reshaped  = img_resized.reshape (1,224,224,3)\n",
    "    predict = quantized_custom_model.predict(img_reshaped, verbose=0)[0][0];\n",
    "    \n",
    "    expected.append (link[1])\n",
    "    predicted.append (predict)"
   ]
  },
  {
   "attachments": {},
   "cell_type": "markdown",
   "id": "69f9d319",
   "metadata": {},
   "source": [
    "---"
   ]
  },
  {
   "cell_type": "code",
   "execution_count": 77,
   "id": "2dcd04ab",
   "metadata": {},
   "outputs": [],
   "source": [
    "target_size = (224,224,3) \n",
    "input = Input(shape= target_size) \n",
    "\n",
    "x = Conv2D(filters=32, kernel_size=(3,3), activation='relu')(input) \n",
    "x = MaxPool2D(2,2)(x) \n",
    "\n",
    "x = Conv2D(filters=64, kernel_size=(3,3), activation='relu')(x) \n",
    "x = MaxPool2D(2,2)(x) \n",
    "\n",
    "x = Conv2D(filters=128, kernel_size=(3,3), activation='relu')(x) \n",
    "x = MaxPool2D(2,2)(x) \n",
    "\n",
    "x = Conv2D(filters=256, kernel_size=(3,3), activation='relu')(x) \n",
    "x = MaxPool2D(2,2)(x) \n",
    "x = GlobalMaxPool2D()(x)\n",
    "x = Dropout(0.25)(x) \n",
    "x = Flatten()(x) \n",
    "x = Dense(units=128, activation='relu')(x) \n",
    "x = Dense(units=64, activation='relu')(x) \n",
    "output = Dense(units=1, activation='linear')(x) \n",
    "\n",
    "custom_model_1  = Model(input, output, name= 'Custom_Model_1')\n",
    "quantized_custom_model_1 = tfmot.quantization.keras.quantize_model(custom_model_1)"
   ]
  },
  {
   "cell_type": "code",
   "execution_count": 78,
   "id": "180adb69",
   "metadata": {},
   "outputs": [],
   "source": [
    "# compile model\n",
    "quantized_custom_model_1.compile(loss='mse', optimizer='rmsprop', metrics=['mae']) "
   ]
  },
  {
   "cell_type": "code",
   "execution_count": 79,
   "id": "81f20a43",
   "metadata": {},
   "outputs": [],
   "source": [
    "# initialize callbacks \n",
    "reduceLR = ReduceLROnPlateau(monitor='val_mae', patience= 3, verbose= 1, mode='min', factor=  0.2, min_lr = 1e-6) \n",
    "\n",
    "early_stopping = EarlyStopping(monitor='val_mae', patience = 5 , verbose=1, mode='min', restore_best_weights= True) \n",
    "\n",
    "checkpoint = ModelCheckpoint('Quantized_CustomModel_1.weights.hdf5', monitor='val_mae', verbose=1, save_best_only=True, mode= 'min') \n",
    "\n",
    "callbacks= [reduceLR, early_stopping, checkpoint]"
   ]
  },
  {
   "cell_type": "code",
   "execution_count": 80,
   "id": "c097a98e",
   "metadata": {},
   "outputs": [
    {
     "name": "stdout",
     "output_type": "stream",
     "text": [
      "Epoch 1/30\n"
     ]
    },
    {
     "name": "stderr",
     "output_type": "stream",
     "text": [
      "2023-05-02 16:59:07.509710: I tensorflow/core/grappler/optimizers/custom_graph_optimizer_registry.cc:114] Plugin optimizer for device_type GPU is enabled.\n"
     ]
    },
    {
     "name": "stdout",
     "output_type": "stream",
     "text": [
      "480/480 [==============================] - ETA: 0s - loss: 1000.6949 - mae: 26.0274"
     ]
    },
    {
     "name": "stderr",
     "output_type": "stream",
     "text": [
      "2023-05-02 17:01:40.605886: I tensorflow/core/grappler/optimizers/custom_graph_optimizer_registry.cc:114] Plugin optimizer for device_type GPU is enabled.\n"
     ]
    },
    {
     "name": "stdout",
     "output_type": "stream",
     "text": [
      "\n",
      "Epoch 1: val_mae improved from inf to 23.38358, saving model to Quantized_CustomModel_1.weights.hdf5\n",
      "480/480 [==============================] - 173s 358ms/step - loss: 1000.6949 - mae: 26.0274 - val_loss: 832.4333 - val_mae: 23.3836 - lr: 0.0010\n",
      "Epoch 2/30\n",
      "480/480 [==============================] - ETA: 0s - loss: 621.0607 - mae: 19.2453\n",
      "Epoch 2: val_mae improved from 23.38358 to 15.53712, saving model to Quantized_CustomModel_1.weights.hdf5\n",
      "480/480 [==============================] - 171s 356ms/step - loss: 621.0607 - mae: 19.2453 - val_loss: 454.5974 - val_mae: 15.5371 - lr: 0.0010\n",
      "Epoch 3/30\n",
      "480/480 [==============================] - ETA: 0s - loss: 461.0421 - mae: 17.1404\n",
      "Epoch 3: val_mae did not improve from 15.53712\n",
      "480/480 [==============================] - 170s 355ms/step - loss: 461.0421 - mae: 17.1404 - val_loss: 723.6787 - val_mae: 23.2982 - lr: 0.0010\n",
      "Epoch 4/30\n",
      "480/480 [==============================] - ETA: 0s - loss: 1871.4570 - mae: 38.0372\n",
      "Epoch 4: val_mae did not improve from 15.53712\n",
      "480/480 [==============================] - 170s 353ms/step - loss: 1871.4570 - mae: 38.0372 - val_loss: 453.1998 - val_mae: 17.3618 - lr: 0.0010\n",
      "Epoch 5/30\n",
      "480/480 [==============================] - ETA: 0s - loss: 447.9115 - mae: 16.3068\n",
      "Epoch 5: ReduceLROnPlateau reducing learning rate to 0.00020000000949949026.\n",
      "\n",
      "Epoch 5: val_mae did not improve from 15.53712\n",
      "480/480 [==============================] - 167s 348ms/step - loss: 447.9115 - mae: 16.3068 - val_loss: 401.9647 - val_mae: 15.8645 - lr: 0.0010\n",
      "Epoch 6/30\n",
      "480/480 [==============================] - ETA: 0s - loss: 397.7195 - mae: 15.3588\n",
      "Epoch 6: val_mae did not improve from 15.53712\n",
      "480/480 [==============================] - 169s 352ms/step - loss: 397.7195 - mae: 15.3588 - val_loss: 396.5552 - val_mae: 15.8536 - lr: 2.0000e-04\n",
      "Epoch 7/30\n",
      "480/480 [==============================] - ETA: 0s - loss: 387.2675 - mae: 15.1357\n",
      "Epoch 7: val_mae improved from 15.53712 to 14.80936, saving model to Quantized_CustomModel_1.weights.hdf5\n",
      "480/480 [==============================] - 167s 348ms/step - loss: 387.2675 - mae: 15.1357 - val_loss: 374.2320 - val_mae: 14.8094 - lr: 2.0000e-04\n",
      "Epoch 8/30\n",
      "480/480 [==============================] - ETA: 0s - loss: 374.3805 - mae: 14.9423\n",
      "Epoch 8: val_mae improved from 14.80936 to 14.53220, saving model to Quantized_CustomModel_1.weights.hdf5\n",
      "480/480 [==============================] - 170s 354ms/step - loss: 374.3805 - mae: 14.9423 - val_loss: 386.9431 - val_mae: 14.5322 - lr: 2.0000e-04\n",
      "Epoch 9/30\n",
      "480/480 [==============================] - ETA: 0s - loss: 366.3201 - mae: 14.7784\n",
      "Epoch 9: val_mae did not improve from 14.53220\n",
      "480/480 [==============================] - 169s 352ms/step - loss: 366.3201 - mae: 14.7784 - val_loss: 359.0495 - val_mae: 15.0518 - lr: 2.0000e-04\n",
      "Epoch 10/30\n",
      "480/480 [==============================] - ETA: 0s - loss: 358.5640 - mae: 14.6083\n",
      "Epoch 10: val_mae improved from 14.53220 to 14.41843, saving model to Quantized_CustomModel_1.weights.hdf5\n",
      "480/480 [==============================] - 169s 352ms/step - loss: 358.5640 - mae: 14.6083 - val_loss: 345.8197 - val_mae: 14.4184 - lr: 2.0000e-04\n",
      "Epoch 11/30\n",
      "480/480 [==============================] - ETA: 0s - loss: 349.3942 - mae: 14.4241\n",
      "Epoch 11: val_mae improved from 14.41843 to 14.17123, saving model to Quantized_CustomModel_1.weights.hdf5\n",
      "480/480 [==============================] - 169s 353ms/step - loss: 349.3942 - mae: 14.4241 - val_loss: 372.5560 - val_mae: 14.1712 - lr: 2.0000e-04\n",
      "Epoch 12/30\n",
      "480/480 [==============================] - ETA: 0s - loss: 342.4497 - mae: 14.2824\n",
      "Epoch 12: val_mae improved from 14.17123 to 13.98022, saving model to Quantized_CustomModel_1.weights.hdf5\n",
      "480/480 [==============================] - 172s 359ms/step - loss: 342.4497 - mae: 14.2824 - val_loss: 323.9305 - val_mae: 13.9802 - lr: 2.0000e-04\n",
      "Epoch 13/30\n",
      "480/480 [==============================] - ETA: 0s - loss: 333.5079 - mae: 14.0862\n",
      "Epoch 13: val_mae improved from 13.98022 to 13.49417, saving model to Quantized_CustomModel_1.weights.hdf5\n",
      "480/480 [==============================] - 169s 353ms/step - loss: 333.5079 - mae: 14.0862 - val_loss: 317.2105 - val_mae: 13.4942 - lr: 2.0000e-04\n",
      "Epoch 14/30\n",
      "480/480 [==============================] - ETA: 0s - loss: 320.9062 - mae: 13.8202\n",
      "Epoch 14: val_mae improved from 13.49417 to 13.32399, saving model to Quantized_CustomModel_1.weights.hdf5\n",
      "480/480 [==============================] - 170s 354ms/step - loss: 320.9062 - mae: 13.8202 - val_loss: 321.6986 - val_mae: 13.3240 - lr: 2.0000e-04\n",
      "Epoch 15/30\n",
      "480/480 [==============================] - ETA: 0s - loss: 305.5776 - mae: 13.4652\n",
      "Epoch 15: val_mae improved from 13.32399 to 13.07609, saving model to Quantized_CustomModel_1.weights.hdf5\n",
      "480/480 [==============================] - 167s 348ms/step - loss: 305.5776 - mae: 13.4652 - val_loss: 280.3153 - val_mae: 13.0761 - lr: 2.0000e-04\n",
      "Epoch 16/30\n",
      "480/480 [==============================] - ETA: 0s - loss: 286.4261 - mae: 13.0269\n",
      "Epoch 16: val_mae improved from 13.07609 to 12.64670, saving model to Quantized_CustomModel_1.weights.hdf5\n",
      "480/480 [==============================] - 168s 349ms/step - loss: 286.4261 - mae: 13.0269 - val_loss: 302.3307 - val_mae: 12.6467 - lr: 2.0000e-04\n",
      "Epoch 17/30\n",
      "480/480 [==============================] - ETA: 0s - loss: 270.2580 - mae: 12.6497\n",
      "Epoch 17: val_mae improved from 12.64670 to 11.86878, saving model to Quantized_CustomModel_1.weights.hdf5\n",
      "480/480 [==============================] - 169s 351ms/step - loss: 270.2580 - mae: 12.6497 - val_loss: 247.1823 - val_mae: 11.8688 - lr: 2.0000e-04\n",
      "Epoch 18/30\n",
      "480/480 [==============================] - ETA: 0s - loss: 255.1644 - mae: 12.2927\n",
      "Epoch 18: val_mae did not improve from 11.86878\n",
      "480/480 [==============================] - 168s 350ms/step - loss: 255.1644 - mae: 12.2927 - val_loss: 282.5567 - val_mae: 12.1690 - lr: 2.0000e-04\n",
      "Epoch 19/30\n",
      "480/480 [==============================] - ETA: 0s - loss: 243.8306 - mae: 11.9375\n",
      "Epoch 19: val_mae improved from 11.86878 to 11.69307, saving model to Quantized_CustomModel_1.weights.hdf5\n",
      "480/480 [==============================] - 169s 351ms/step - loss: 243.8306 - mae: 11.9375 - val_loss: 262.2979 - val_mae: 11.6931 - lr: 2.0000e-04\n",
      "Epoch 20/30\n",
      "480/480 [==============================] - ETA: 0s - loss: 234.6624 - mae: 11.7250\n",
      "Epoch 20: val_mae improved from 11.69307 to 11.11625, saving model to Quantized_CustomModel_1.weights.hdf5\n",
      "480/480 [==============================] - 168s 350ms/step - loss: 234.6624 - mae: 11.7250 - val_loss: 216.0440 - val_mae: 11.1162 - lr: 2.0000e-04\n",
      "Epoch 21/30\n",
      "480/480 [==============================] - ETA: 0s - loss: 225.4955 - mae: 11.4762\n",
      "Epoch 21: val_mae did not improve from 11.11625\n",
      "480/480 [==============================] - 169s 351ms/step - loss: 225.4955 - mae: 11.4762 - val_loss: 272.2691 - val_mae: 12.0215 - lr: 2.0000e-04\n",
      "Epoch 22/30\n",
      "480/480 [==============================] - ETA: 0s - loss: 217.3425 - mae: 11.2311\n",
      "Epoch 22: val_mae improved from 11.11625 to 10.73385, saving model to Quantized_CustomModel_1.weights.hdf5\n",
      "480/480 [==============================] - 171s 355ms/step - loss: 217.3425 - mae: 11.2311 - val_loss: 214.8915 - val_mae: 10.7339 - lr: 2.0000e-04\n",
      "Epoch 23/30\n",
      "480/480 [==============================] - ETA: 0s - loss: 206.0544 - mae: 10.9315\n",
      "Epoch 23: val_mae did not improve from 10.73385\n",
      "480/480 [==============================] - 176s 366ms/step - loss: 206.0544 - mae: 10.9315 - val_loss: 225.8202 - val_mae: 10.8769 - lr: 2.0000e-04\n",
      "Epoch 24/30\n",
      "480/480 [==============================] - ETA: 0s - loss: 199.2471 - mae: 10.7383\n",
      "Epoch 24: val_mae improved from 10.73385 to 10.37234, saving model to Quantized_CustomModel_1.weights.hdf5\n",
      "480/480 [==============================] - 174s 362ms/step - loss: 199.2471 - mae: 10.7383 - val_loss: 202.4121 - val_mae: 10.3723 - lr: 2.0000e-04\n",
      "Epoch 25/30\n",
      "480/480 [==============================] - ETA: 0s - loss: 191.8125 - mae: 10.4997\n",
      "Epoch 25: val_mae did not improve from 10.37234\n",
      "480/480 [==============================] - 168s 351ms/step - loss: 191.8125 - mae: 10.4997 - val_loss: 186.4301 - val_mae: 10.4687 - lr: 2.0000e-04\n",
      "Epoch 26/30\n",
      "480/480 [==============================] - ETA: 0s - loss: 186.1172 - mae: 10.3406\n",
      "Epoch 26: val_mae improved from 10.37234 to 9.77264, saving model to Quantized_CustomModel_1.weights.hdf5\n",
      "480/480 [==============================] - 166s 346ms/step - loss: 186.1172 - mae: 10.3406 - val_loss: 171.5095 - val_mae: 9.7726 - lr: 2.0000e-04\n",
      "Epoch 27/30\n",
      "480/480 [==============================] - ETA: 0s - loss: 176.6654 - mae: 10.0586\n",
      "Epoch 27: val_mae did not improve from 9.77264\n",
      "480/480 [==============================] - 166s 346ms/step - loss: 176.6654 - mae: 10.0586 - val_loss: 294.3272 - val_mae: 13.1459 - lr: 2.0000e-04\n",
      "Epoch 28/30\n",
      "480/480 [==============================] - ETA: 0s - loss: 172.2816 - mae: 9.9387\n",
      "Epoch 28: val_mae improved from 9.77264 to 9.68333, saving model to Quantized_CustomModel_1.weights.hdf5\n",
      "480/480 [==============================] - 168s 350ms/step - loss: 172.2816 - mae: 9.9387 - val_loss: 177.6218 - val_mae: 9.6833 - lr: 2.0000e-04\n",
      "Epoch 29/30\n",
      "480/480 [==============================] - ETA: 0s - loss: 165.9886 - mae: 9.7231\n",
      "Epoch 29: val_mae did not improve from 9.68333\n",
      "480/480 [==============================] - 168s 349ms/step - loss: 165.9886 - mae: 9.7231 - val_loss: 202.2012 - val_mae: 10.4857 - lr: 2.0000e-04\n",
      "Epoch 30/30\n",
      "480/480 [==============================] - ETA: 0s - loss: 158.2436 - mae: 9.4983\n",
      "Epoch 30: val_mae did not improve from 9.68333\n",
      "480/480 [==============================] - 172s 359ms/step - loss: 158.2436 - mae: 9.4983 - val_loss: 218.5070 - val_mae: 10.9012 - lr: 2.0000e-04\n",
      "CPU times: user 1h 25min 49s, sys: 1h 49min 1s, total: 3h 14min 51s\n",
      "Wall time: 1h 24min 41s\n"
     ]
    },
    {
     "data": {
      "text/plain": [
       "<keras.callbacks.History at 0x2f390d430>"
      ]
     },
     "execution_count": 80,
     "metadata": {},
     "output_type": "execute_result"
    }
   ],
   "source": [
    "%%time \n",
    "\n",
    "epochs = 30 \n",
    "quantized_custom_model_1.fit(train_gen, validation_data=valid_gen, epochs= epochs, callbacks= callbacks)"
   ]
  },
  {
   "cell_type": "code",
   "execution_count": 81,
   "id": "390fddb3",
   "metadata": {},
   "outputs": [],
   "source": [
    "del quantized_custom_model_1"
   ]
  },
  {
   "cell_type": "code",
   "execution_count": 82,
   "id": "f9a7a9fd",
   "metadata": {},
   "outputs": [
    {
     "data": {
      "text/plain": [
       "6299"
      ]
     },
     "execution_count": 82,
     "metadata": {},
     "output_type": "execute_result"
    }
   ],
   "source": [
    "gc.collect()"
   ]
  },
  {
   "cell_type": "code",
   "execution_count": 84,
   "id": "89f56e84",
   "metadata": {},
   "outputs": [],
   "source": [
    "# load trained model\n",
    "with tfmot.quantization.keras.quantize_scope():\n",
    "    quantized_custom_model_1 = tf.keras.models.load_model('Quantized_CustomModel_1.weights.hdf5')"
   ]
  },
  {
   "cell_type": "code",
   "execution_count": 85,
   "id": "be4d4f96",
   "metadata": {},
   "outputs": [
    {
     "name": "stderr",
     "output_type": "stream",
     "text": [
      "2023-05-02 18:25:02.472943: I tensorflow/core/grappler/optimizers/custom_graph_optimizer_registry.cc:114] Plugin optimizer for device_type GPU is enabled.\n"
     ]
    },
    {
     "name": "stdout",
     "output_type": "stream",
     "text": [
      "89/89 [==============================] - 11s 116ms/step - loss: 178.2008 - mae: 9.6725\n",
      "CPU times: user 6.98 s, sys: 16.4 s, total: 23.4 s\n",
      "Wall time: 10.6 s\n"
     ]
    },
    {
     "data": {
      "text/plain": [
       "[178.2007598876953, 9.672463417053223]"
      ]
     },
     "execution_count": 85,
     "metadata": {},
     "output_type": "execute_result"
    }
   ],
   "source": [
    "%%time\n",
    "\n",
    "# Evaluate the model \n",
    "quantized_custom_model_1.evaluate(test_gen)"
   ]
  },
  {
   "cell_type": "code",
   "execution_count": 93,
   "id": "49e44d57",
   "metadata": {},
   "outputs": [
    {
     "name": "stderr",
     "output_type": "stream",
     "text": [
      "Prediction: 1000it [00:40, 24.41it/s]\n"
     ]
    }
   ],
   "source": [
    "# Predict on 1000 images \n",
    "NUM_IMAGES = 1000\n",
    "idx = np.random.randint (0,len(test),NUM_IMAGES)\n",
    "expected = []\n",
    "predicted = []\n",
    "\n",
    "for idx in tqdm(enumerate(idx), desc='Prediction'):\n",
    "    link = test.iloc[idx[1]]\n",
    "    image = plt.imread(link[1])\n",
    "    img_resized = cv2.resize (image, (224,224))/255 #,\n",
    "    img_reshaped  = img_resized.reshape (1,224,224,3)\n",
    "    predict = quantized_custom_model_1.predict(img_reshaped, verbose=0)[0][0];\n",
    "    \n",
    "    expected.append (link[1])\n",
    "    predicted.append (predict)"
   ]
  },
  {
   "attachments": {},
   "cell_type": "markdown",
   "id": "08d1e2b2",
   "metadata": {},
   "source": [
    "---"
   ]
  }
 ],
 "metadata": {
  "kernelspec": {
   "display_name": "Python 3 (ipykernel)",
   "language": "python",
   "name": "python3"
  },
  "language_info": {
   "codemirror_mode": {
    "name": "ipython",
    "version": 3
   },
   "file_extension": ".py",
   "mimetype": "text/x-python",
   "name": "python",
   "nbconvert_exporter": "python",
   "pygments_lexer": "ipython3",
   "version": "3.9.16"
  }
 },
 "nbformat": 4,
 "nbformat_minor": 5
}
