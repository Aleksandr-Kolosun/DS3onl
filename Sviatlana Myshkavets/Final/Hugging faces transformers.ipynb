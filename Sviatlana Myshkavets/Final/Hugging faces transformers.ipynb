{
 "cells": [
  {
   "attachments": {},
   "cell_type": "markdown",
   "id": "993c4538",
   "metadata": {},
   "source": [
    "Мышковец С.А., v.1 1.05.2023\n",
    "\n",
    "Решение задачи:\n",
    "\n",
    "Обучить модель на основе hugging faces transformers на отзывах из amazon для дальнейшей оценки качества работы разных методов саммаризации.\n"
   ]
  },
  {
   "cell_type": "code",
   "execution_count": 270,
   "id": "7665f1c1",
   "metadata": {},
   "outputs": [],
   "source": [
    "import pandas as pd \n",
    "import matplotlib.pyplot as plt \n",
    "import numpy as np \n",
    "\n",
    "import tensorflow as tf \n",
    "from tensorflow.keras.preprocessing.text import Tokenizer\n",
    "from tensorflow.keras.callbacks import EarlyStopping, ReduceLROnPlateau, ModelCheckpoint\n",
    "\n",
    "from sklearn.metrics import accuracy_score\n",
    "from sklearn.model_selection import train_test_split\n",
    "from sklearn.metrics import accuracy_score, confusion_matrix, precision_score, recall_score\n",
    "from sklearn.utils import shuffle\n",
    "\n",
    "import evaluate\n",
    "\n",
    "import seaborn as sns \n",
    "plt.style.use('ggplot')\n",
    "\n",
    "import gc"
   ]
  },
  {
   "attachments": {},
   "cell_type": "markdown",
   "id": "3481a044",
   "metadata": {},
   "source": [
    "---"
   ]
  },
  {
   "cell_type": "code",
   "execution_count": 1,
   "id": "1b0335da",
   "metadata": {},
   "outputs": [
    {
     "data": {
      "application/vnd.jupyter.widget-view+json": {
       "model_id": "60f37bde5f5f4d04abf3b5392c4b0c59",
       "version_major": 2,
       "version_minor": 0
      },
      "text/plain": [
       "Downloading builder script:   0%|          | 0.00/7.16k [00:00<?, ?B/s]"
      ]
     },
     "metadata": {},
     "output_type": "display_data"
    },
    {
     "data": {
      "application/vnd.jupyter.widget-view+json": {
       "model_id": "ae96975504d54d89ac46430e90eaf081",
       "version_major": 2,
       "version_minor": 0
      },
      "text/plain": [
       "Downloading metadata:   0%|          | 0.00/37.4k [00:00<?, ?B/s]"
      ]
     },
     "metadata": {},
     "output_type": "display_data"
    },
    {
     "data": {
      "application/vnd.jupyter.widget-view+json": {
       "model_id": "a7e252a3a4304539943a3fad6dd30705",
       "version_major": 2,
       "version_minor": 0
      },
      "text/plain": [
       "Downloading readme:   0%|          | 0.00/15.0k [00:00<?, ?B/s]"
      ]
     },
     "metadata": {},
     "output_type": "display_data"
    },
    {
     "name": "stdout",
     "output_type": "stream",
     "text": [
      "Downloading and preparing dataset amazon_reviews_multi/es to /Users/sviatlanamyshkavets/.cache/huggingface/datasets/amazon_reviews_multi/es/1.0.0/724e94f4b0c6c405ce7e476a6c5ef4f87db30799ad49f765094cf9770e0f7609...\n"
     ]
    },
    {
     "data": {
      "application/vnd.jupyter.widget-view+json": {
       "model_id": "b677bfd0dfe041a4818628167a5f893c",
       "version_major": 2,
       "version_minor": 0
      },
      "text/plain": [
       "Downloading data files:   0%|          | 0/1 [00:00<?, ?it/s]"
      ]
     },
     "metadata": {},
     "output_type": "display_data"
    },
    {
     "data": {
      "application/vnd.jupyter.widget-view+json": {
       "model_id": "dcbdb11166854eb6b9268c02919e3557",
       "version_major": 2,
       "version_minor": 0
      },
      "text/plain": [
       "Downloading data:   0%|          | 0.00/77.5M [00:00<?, ?B/s]"
      ]
     },
     "metadata": {},
     "output_type": "display_data"
    },
    {
     "data": {
      "application/vnd.jupyter.widget-view+json": {
       "model_id": "f1d17504626c4c4d9beddfd3d52ab505",
       "version_major": 2,
       "version_minor": 0
      },
      "text/plain": [
       "Extracting data files:   0%|          | 0/1 [00:00<?, ?it/s]"
      ]
     },
     "metadata": {},
     "output_type": "display_data"
    },
    {
     "data": {
      "application/vnd.jupyter.widget-view+json": {
       "model_id": "334aa4ad89ab466dbdc678dd36498b08",
       "version_major": 2,
       "version_minor": 0
      },
      "text/plain": [
       "Downloading data files:   0%|          | 0/1 [00:00<?, ?it/s]"
      ]
     },
     "metadata": {},
     "output_type": "display_data"
    },
    {
     "data": {
      "application/vnd.jupyter.widget-view+json": {
       "model_id": "0c4df2cdb88c4f3a8ea64afb9d2e4567",
       "version_major": 2,
       "version_minor": 0
      },
      "text/plain": [
       "Downloading data:   0%|          | 0.00/1.93M [00:00<?, ?B/s]"
      ]
     },
     "metadata": {},
     "output_type": "display_data"
    },
    {
     "data": {
      "application/vnd.jupyter.widget-view+json": {
       "model_id": "09aa0ea48b534dac92af239b2b933076",
       "version_major": 2,
       "version_minor": 0
      },
      "text/plain": [
       "Extracting data files:   0%|          | 0/1 [00:00<?, ?it/s]"
      ]
     },
     "metadata": {},
     "output_type": "display_data"
    },
    {
     "data": {
      "application/vnd.jupyter.widget-view+json": {
       "model_id": "dc42a8b1397742dc82721e6e616b35a7",
       "version_major": 2,
       "version_minor": 0
      },
      "text/plain": [
       "Downloading data files:   0%|          | 0/1 [00:00<?, ?it/s]"
      ]
     },
     "metadata": {},
     "output_type": "display_data"
    },
    {
     "data": {
      "application/vnd.jupyter.widget-view+json": {
       "model_id": "cdf5482ee7944c23bdbc39203d70684e",
       "version_major": 2,
       "version_minor": 0
      },
      "text/plain": [
       "Downloading data:   0%|          | 0.00/1.94M [00:00<?, ?B/s]"
      ]
     },
     "metadata": {},
     "output_type": "display_data"
    },
    {
     "data": {
      "application/vnd.jupyter.widget-view+json": {
       "model_id": "4334e75b339d4878a8ff92e5c660a693",
       "version_major": 2,
       "version_minor": 0
      },
      "text/plain": [
       "Extracting data files:   0%|          | 0/1 [00:00<?, ?it/s]"
      ]
     },
     "metadata": {},
     "output_type": "display_data"
    },
    {
     "data": {
      "application/vnd.jupyter.widget-view+json": {
       "model_id": "4d78ab49019940fdb8dea3350e73a669",
       "version_major": 2,
       "version_minor": 0
      },
      "text/plain": [
       "Generating train split:   0%|          | 0/200000 [00:00<?, ? examples/s]"
      ]
     },
     "metadata": {},
     "output_type": "display_data"
    },
    {
     "data": {
      "application/vnd.jupyter.widget-view+json": {
       "model_id": "8551dca66d4046559f433fede29e8e9e",
       "version_major": 2,
       "version_minor": 0
      },
      "text/plain": [
       "Generating validation split:   0%|          | 0/5000 [00:00<?, ? examples/s]"
      ]
     },
     "metadata": {},
     "output_type": "display_data"
    },
    {
     "data": {
      "application/vnd.jupyter.widget-view+json": {
       "model_id": "9da6235382174dacbd47c0e3d103ea7e",
       "version_major": 2,
       "version_minor": 0
      },
      "text/plain": [
       "Generating test split:   0%|          | 0/5000 [00:00<?, ? examples/s]"
      ]
     },
     "metadata": {},
     "output_type": "display_data"
    },
    {
     "name": "stdout",
     "output_type": "stream",
     "text": [
      "Dataset amazon_reviews_multi downloaded and prepared to /Users/sviatlanamyshkavets/.cache/huggingface/datasets/amazon_reviews_multi/es/1.0.0/724e94f4b0c6c405ce7e476a6c5ef4f87db30799ad49f765094cf9770e0f7609. Subsequent calls will reuse this data.\n"
     ]
    },
    {
     "data": {
      "application/vnd.jupyter.widget-view+json": {
       "model_id": "4faf62ca9b944f17aef35d22ce11558e",
       "version_major": 2,
       "version_minor": 0
      },
      "text/plain": [
       "  0%|          | 0/3 [00:00<?, ?it/s]"
      ]
     },
     "metadata": {},
     "output_type": "display_data"
    },
    {
     "name": "stdout",
     "output_type": "stream",
     "text": [
      "Downloading and preparing dataset amazon_reviews_multi/en to /Users/sviatlanamyshkavets/.cache/huggingface/datasets/amazon_reviews_multi/en/1.0.0/724e94f4b0c6c405ce7e476a6c5ef4f87db30799ad49f765094cf9770e0f7609...\n"
     ]
    },
    {
     "data": {
      "application/vnd.jupyter.widget-view+json": {
       "model_id": "c50d788c23564a7aa1525079ec385d87",
       "version_major": 2,
       "version_minor": 0
      },
      "text/plain": [
       "Downloading data files:   0%|          | 0/1 [00:00<?, ?it/s]"
      ]
     },
     "metadata": {},
     "output_type": "display_data"
    },
    {
     "data": {
      "application/vnd.jupyter.widget-view+json": {
       "model_id": "ce8ad6328e964a21ade102e7eb0405bb",
       "version_major": 2,
       "version_minor": 0
      },
      "text/plain": [
       "Downloading data:   0%|          | 0.00/82.0M [00:00<?, ?B/s]"
      ]
     },
     "metadata": {},
     "output_type": "display_data"
    },
    {
     "data": {
      "application/vnd.jupyter.widget-view+json": {
       "model_id": "a0e6cea0b50942779a05fa25a5150e20",
       "version_major": 2,
       "version_minor": 0
      },
      "text/plain": [
       "Extracting data files:   0%|          | 0/1 [00:00<?, ?it/s]"
      ]
     },
     "metadata": {},
     "output_type": "display_data"
    },
    {
     "data": {
      "application/vnd.jupyter.widget-view+json": {
       "model_id": "1ad6f734c19141c09836ecd05db50093",
       "version_major": 2,
       "version_minor": 0
      },
      "text/plain": [
       "Downloading data files:   0%|          | 0/1 [00:00<?, ?it/s]"
      ]
     },
     "metadata": {},
     "output_type": "display_data"
    },
    {
     "data": {
      "application/vnd.jupyter.widget-view+json": {
       "model_id": "02eb8140220e49b69e084ee45dc43da0",
       "version_major": 2,
       "version_minor": 0
      },
      "text/plain": [
       "Downloading data:   0%|          | 0.00/2.06M [00:00<?, ?B/s]"
      ]
     },
     "metadata": {},
     "output_type": "display_data"
    },
    {
     "data": {
      "application/vnd.jupyter.widget-view+json": {
       "model_id": "13ce11f8125c411694991ad93c2250ff",
       "version_major": 2,
       "version_minor": 0
      },
      "text/plain": [
       "Extracting data files:   0%|          | 0/1 [00:00<?, ?it/s]"
      ]
     },
     "metadata": {},
     "output_type": "display_data"
    },
    {
     "data": {
      "application/vnd.jupyter.widget-view+json": {
       "model_id": "b7274eab53744c009730abb085e57019",
       "version_major": 2,
       "version_minor": 0
      },
      "text/plain": [
       "Downloading data files:   0%|          | 0/1 [00:00<?, ?it/s]"
      ]
     },
     "metadata": {},
     "output_type": "display_data"
    },
    {
     "data": {
      "application/vnd.jupyter.widget-view+json": {
       "model_id": "29bcf8826a24486396ceb04eb6a2fa90",
       "version_major": 2,
       "version_minor": 0
      },
      "text/plain": [
       "Downloading data:   0%|          | 0.00/2.05M [00:00<?, ?B/s]"
      ]
     },
     "metadata": {},
     "output_type": "display_data"
    },
    {
     "data": {
      "application/vnd.jupyter.widget-view+json": {
       "model_id": "7e72cf0953ed4b8c8bf45f6e0d77253f",
       "version_major": 2,
       "version_minor": 0
      },
      "text/plain": [
       "Extracting data files:   0%|          | 0/1 [00:00<?, ?it/s]"
      ]
     },
     "metadata": {},
     "output_type": "display_data"
    },
    {
     "data": {
      "application/vnd.jupyter.widget-view+json": {
       "model_id": "111008a04f2f49acb2ab8cd6d8df5835",
       "version_major": 2,
       "version_minor": 0
      },
      "text/plain": [
       "Generating train split:   0%|          | 0/200000 [00:00<?, ? examples/s]"
      ]
     },
     "metadata": {},
     "output_type": "display_data"
    },
    {
     "data": {
      "application/vnd.jupyter.widget-view+json": {
       "model_id": "7f5eae6dd6f842a7b896623d1a88ee1e",
       "version_major": 2,
       "version_minor": 0
      },
      "text/plain": [
       "Generating validation split:   0%|          | 0/5000 [00:00<?, ? examples/s]"
      ]
     },
     "metadata": {},
     "output_type": "display_data"
    },
    {
     "data": {
      "application/vnd.jupyter.widget-view+json": {
       "model_id": "6608982249214a34a0afe199376520fe",
       "version_major": 2,
       "version_minor": 0
      },
      "text/plain": [
       "Generating test split:   0%|          | 0/5000 [00:00<?, ? examples/s]"
      ]
     },
     "metadata": {},
     "output_type": "display_data"
    },
    {
     "name": "stdout",
     "output_type": "stream",
     "text": [
      "Dataset amazon_reviews_multi downloaded and prepared to /Users/sviatlanamyshkavets/.cache/huggingface/datasets/amazon_reviews_multi/en/1.0.0/724e94f4b0c6c405ce7e476a6c5ef4f87db30799ad49f765094cf9770e0f7609. Subsequent calls will reuse this data.\n"
     ]
    },
    {
     "data": {
      "application/vnd.jupyter.widget-view+json": {
       "model_id": "90f59c565057408fb73bca921d1f1e93",
       "version_major": 2,
       "version_minor": 0
      },
      "text/plain": [
       "  0%|          | 0/3 [00:00<?, ?it/s]"
      ]
     },
     "metadata": {},
     "output_type": "display_data"
    },
    {
     "data": {
      "text/plain": [
       "DatasetDict({\n",
       "    train: Dataset({\n",
       "        features: ['review_id', 'product_id', 'reviewer_id', 'stars', 'review_body', 'review_title', 'language', 'product_category'],\n",
       "        num_rows: 200000\n",
       "    })\n",
       "    validation: Dataset({\n",
       "        features: ['review_id', 'product_id', 'reviewer_id', 'stars', 'review_body', 'review_title', 'language', 'product_category'],\n",
       "        num_rows: 5000\n",
       "    })\n",
       "    test: Dataset({\n",
       "        features: ['review_id', 'product_id', 'reviewer_id', 'stars', 'review_body', 'review_title', 'language', 'product_category'],\n",
       "        num_rows: 5000\n",
       "    })\n",
       "})"
      ]
     },
     "execution_count": 1,
     "metadata": {},
     "output_type": "execute_result"
    }
   ],
   "source": [
    "from datasets import load_dataset\n",
    "\n",
    "spanish_dataset = load_dataset(\"amazon_reviews_multi\", \"es\")\n",
    "english_dataset = load_dataset(\"amazon_reviews_multi\", \"en\")\n",
    "english_dataset"
   ]
  },
  {
   "cell_type": "code",
   "execution_count": 2,
   "id": "865fdd1d",
   "metadata": {},
   "outputs": [
    {
     "name": "stdout",
     "output_type": "stream",
     "text": [
      "\n",
      "'>> Title: Worked in front position, not rear'\n",
      "'>> Review: 3 stars because these are not rear brakes as stated in the item description. At least the mount adapter only worked on the front fork of the bike that I got it for.'\n",
      "\n",
      "'>> Title: meh'\n",
      "'>> Review: Does it’s job and it’s gorgeous but mine is falling apart, I had to basically put it together again with hot glue'\n",
      "\n",
      "'>> Title: Can't beat these for the money'\n",
      "'>> Review: Bought this for handling miscellaneous aircraft parts and hanger \"stuff\" that I needed to organize; it really fit the bill. The unit arrived quickly, was well packaged and arrived intact (always a good sign). There are five wall mounts-- three on the top and two on the bottom. I wanted to mount it on the wall, so all I had to do was to remove the top two layers of plastic drawers, as well as the bottom corner drawers, place it when I wanted and mark it; I then used some of the new plastic screw in wall anchors (the 50 pound variety) and it easily mounted to the wall. Some have remarked that they wanted dividers for the drawers, and that they made those. Good idea. My application was that I needed something that I can see the contents at about eye level, so I wanted the fuller-sized drawers. I also like that these are the new plastic that doesn't get brittle and split like my older plastic drawers did. I like the all-plastic construction. It's heavy duty enough to hold metal parts, but being made of plastic it's not as heavy as a metal frame, so you can easily mount it to the wall and still load it up with heavy stuff, or light stuff. No problem there. For the money, you can't beat it. Best one of these I've bought to date-- and I've been using some version of these for over forty years.'\n"
     ]
    }
   ],
   "source": [
    "def show_samples(dataset, num_samples=3, seed=42):\n",
    "    sample = dataset[\"train\"].shuffle(seed=seed).select(range(num_samples))\n",
    "    for example in sample:\n",
    "        print(f\"\\n'>> Title: {example['review_title']}'\")\n",
    "        print(f\"'>> Review: {example['review_body']}'\")\n",
    "\n",
    "\n",
    "show_samples(english_dataset)"
   ]
  },
  {
   "cell_type": "code",
   "execution_count": 3,
   "id": "77736cda",
   "metadata": {},
   "outputs": [
    {
     "data": {
      "text/plain": [
       "home                      17679\n",
       "apparel                   15951\n",
       "wireless                  15717\n",
       "other                     13418\n",
       "beauty                    12091\n",
       "drugstore                 11730\n",
       "kitchen                   10382\n",
       "toy                        8745\n",
       "sports                     8277\n",
       "automotive                 7506\n",
       "lawn_and_garden            7327\n",
       "home_improvement           7136\n",
       "pet_products               7082\n",
       "digital_ebook_purchase     6749\n",
       "pc                         6401\n",
       "electronics                6186\n",
       "office_product             5521\n",
       "shoes                      5197\n",
       "grocery                    4730\n",
       "book                       3756\n",
       "Name: product_category, dtype: int64"
      ]
     },
     "execution_count": 3,
     "metadata": {},
     "output_type": "execute_result"
    }
   ],
   "source": [
    "english_dataset.set_format(\"pandas\")\n",
    "english_df = english_dataset[\"train\"][:]\n",
    "# Show counts for top 20 products\n",
    "english_df[\"product_category\"].value_counts()[:20]"
   ]
  },
  {
   "cell_type": "code",
   "execution_count": 84,
   "id": "6c1fd89a",
   "metadata": {},
   "outputs": [],
   "source": [
    "def filter_books(example):\n",
    "    return (\n",
    "        example[\"product_category\"] == \"book\"\n",
    "        or example[\"product_category\"] == \"digital_ebook_purchase\"\n",
    "    )"
   ]
  },
  {
   "cell_type": "code",
   "execution_count": 85,
   "id": "c345cc00",
   "metadata": {},
   "outputs": [],
   "source": [
    "english_dataset.reset_format()"
   ]
  },
  {
   "cell_type": "code",
   "execution_count": 86,
   "id": "63b19c59",
   "metadata": {},
   "outputs": [
    {
     "name": "stderr",
     "output_type": "stream",
     "text": [
      "WARNING:datasets.arrow_dataset:Loading cached processed dataset at /Users/sviatlanamyshkavets/.cache/huggingface/datasets/amazon_reviews_multi/es/1.0.0/724e94f4b0c6c405ce7e476a6c5ef4f87db30799ad49f765094cf9770e0f7609/cache-ee725ea6b4642028.arrow\n",
      "WARNING:datasets.arrow_dataset:Loading cached processed dataset at /Users/sviatlanamyshkavets/.cache/huggingface/datasets/amazon_reviews_multi/es/1.0.0/724e94f4b0c6c405ce7e476a6c5ef4f87db30799ad49f765094cf9770e0f7609/cache-ec542a73613cabf6.arrow\n",
      "WARNING:datasets.arrow_dataset:Loading cached processed dataset at /Users/sviatlanamyshkavets/.cache/huggingface/datasets/amazon_reviews_multi/es/1.0.0/724e94f4b0c6c405ce7e476a6c5ef4f87db30799ad49f765094cf9770e0f7609/cache-54332f52c5e8781c.arrow\n"
     ]
    },
    {
     "data": {
      "application/vnd.jupyter.widget-view+json": {
       "model_id": "1b19b4faa4ad41b8adbf49b51391d077",
       "version_major": 2,
       "version_minor": 0
      },
      "text/plain": [
       "Filter:   0%|          | 0/200000 [00:00<?, ? examples/s]"
      ]
     },
     "metadata": {},
     "output_type": "display_data"
    },
    {
     "data": {
      "application/vnd.jupyter.widget-view+json": {
       "model_id": "f0aa398e7ac1437fa36871154d69dec3",
       "version_major": 2,
       "version_minor": 0
      },
      "text/plain": [
       "Filter:   0%|          | 0/5000 [00:00<?, ? examples/s]"
      ]
     },
     "metadata": {},
     "output_type": "display_data"
    },
    {
     "data": {
      "application/vnd.jupyter.widget-view+json": {
       "model_id": "b5228eaf550e4bbcb49152f5efe530c2",
       "version_major": 2,
       "version_minor": 0
      },
      "text/plain": [
       "Filter:   0%|          | 0/5000 [00:00<?, ? examples/s]"
      ]
     },
     "metadata": {},
     "output_type": "display_data"
    }
   ],
   "source": [
    "spanish_books = spanish_dataset.filter(filter_books)\n",
    "english_books = english_dataset.filter(filter_books)\n",
    "show_samples(english_books)"
   ]
  },
  {
   "cell_type": "code",
   "execution_count": 87,
   "id": "041a75fa",
   "metadata": {},
   "outputs": [],
   "source": [
    "from datasets import concatenate_datasets, DatasetDict\n",
    "\n",
    "books_dataset = DatasetDict()\n",
    "\n",
    "for split in english_books.keys():\n",
    "    books_dataset[split] = concatenate_datasets(\n",
    "        [english_books[split], spanish_books[split]]\n",
    "    )\n",
    "    books_dataset[split] = books_dataset[split].shuffle(seed=42)\n",
    "\n",
    "# Peek at a few examples\n",
    "show_samples(books_dataset)"
   ]
  },
  {
   "cell_type": "code",
   "execution_count": 88,
   "id": "90bd3354",
   "metadata": {},
   "outputs": [
    {
     "data": {
      "application/vnd.jupyter.widget-view+json": {
       "model_id": "d3f31348769f49878637da414c851882",
       "version_major": 2,
       "version_minor": 0
      },
      "text/plain": [
       "Filter:   0%|          | 0/17612 [00:00<?, ? examples/s]"
      ]
     },
     "metadata": {},
     "output_type": "display_data"
    },
    {
     "data": {
      "application/vnd.jupyter.widget-view+json": {
       "model_id": "5e4be98007cb4e4896346462ccfcc9ff",
       "version_major": 2,
       "version_minor": 0
      },
      "text/plain": [
       "Filter:   0%|          | 0/424 [00:00<?, ? examples/s]"
      ]
     },
     "metadata": {},
     "output_type": "display_data"
    },
    {
     "data": {
      "application/vnd.jupyter.widget-view+json": {
       "model_id": "dbc04466b31543cc8c112b389a077147",
       "version_major": 2,
       "version_minor": 0
      },
      "text/plain": [
       "Filter:   0%|          | 0/442 [00:00<?, ? examples/s]"
      ]
     },
     "metadata": {},
     "output_type": "display_data"
    }
   ],
   "source": [
    "books_dataset = books_dataset.filter(lambda x: len(x[\"review_title\"].split()) > 2)"
   ]
  },
  {
   "cell_type": "code",
   "execution_count": 89,
   "id": "6ec1915d",
   "metadata": {},
   "outputs": [
    {
     "data": {
      "text/plain": [
       "DatasetDict({\n",
       "    train: Dataset({\n",
       "        features: ['review_id', 'product_id', 'reviewer_id', 'stars', 'review_body', 'review_title', 'language', 'product_category'],\n",
       "        num_rows: 9672\n",
       "    })\n",
       "    validation: Dataset({\n",
       "        features: ['review_id', 'product_id', 'reviewer_id', 'stars', 'review_body', 'review_title', 'language', 'product_category'],\n",
       "        num_rows: 238\n",
       "    })\n",
       "    test: Dataset({\n",
       "        features: ['review_id', 'product_id', 'reviewer_id', 'stars', 'review_body', 'review_title', 'language', 'product_category'],\n",
       "        num_rows: 245\n",
       "    })\n",
       "})"
      ]
     },
     "execution_count": 89,
     "metadata": {},
     "output_type": "execute_result"
    }
   ],
   "source": [
    "books_dataset"
   ]
  },
  {
   "cell_type": "code",
   "execution_count": 9,
   "id": "f54af831",
   "metadata": {},
   "outputs": [
    {
     "data": {
      "application/vnd.jupyter.widget-view+json": {
       "model_id": "71854dbd383e4316a77180c444725a11",
       "version_major": 2,
       "version_minor": 0
      },
      "text/plain": [
       "Downloading (…)okenizer_config.json:   0%|          | 0.00/82.0 [00:00<?, ?B/s]"
      ]
     },
     "metadata": {},
     "output_type": "display_data"
    },
    {
     "data": {
      "application/vnd.jupyter.widget-view+json": {
       "model_id": "2241521f4c87464b9c1b2b6536af2e40",
       "version_major": 2,
       "version_minor": 0
      },
      "text/plain": [
       "Downloading (…)lve/main/config.json:   0%|          | 0.00/553 [00:00<?, ?B/s]"
      ]
     },
     "metadata": {},
     "output_type": "display_data"
    },
    {
     "data": {
      "application/vnd.jupyter.widget-view+json": {
       "model_id": "78aa5fa8e4cc478d91c3cac3117be08f",
       "version_major": 2,
       "version_minor": 0
      },
      "text/plain": [
       "Downloading (…)ve/main/spiece.model:   0%|          | 0.00/4.31M [00:00<?, ?B/s]"
      ]
     },
     "metadata": {},
     "output_type": "display_data"
    },
    {
     "data": {
      "application/vnd.jupyter.widget-view+json": {
       "model_id": "a46a99322e7a488088fd5d056ef77ea6",
       "version_major": 2,
       "version_minor": 0
      },
      "text/plain": [
       "Downloading (…)cial_tokens_map.json:   0%|          | 0.00/99.0 [00:00<?, ?B/s]"
      ]
     },
     "metadata": {},
     "output_type": "display_data"
    },
    {
     "name": "stderr",
     "output_type": "stream",
     "text": [
      "/opt/homebrew/Caskroom/miniforge/base/envs/tf_mac/lib/python3.9/site-packages/transformers/convert_slow_tokenizer.py:454: UserWarning: The sentencepiece tokenizer that you are converting to a fast tokenizer uses the byte fallback option which is not implemented in the fast tokenizers. In practice this means that the fast version of the tokenizer can produce unknown tokens whereas the sentencepiece version would have converted these unknown tokens into a sequence of byte tokens matching the original piece of text.\n",
      "  warnings.warn(\n"
     ]
    }
   ],
   "source": [
    "from transformers import AutoTokenizer\n",
    "\n",
    "model_checkpoint = \"google/mt5-small\"\n",
    "tokenizer = AutoTokenizer.from_pretrained(model_checkpoint)"
   ]
  },
  {
   "cell_type": "code",
   "execution_count": 90,
   "id": "0f9c5dfa",
   "metadata": {},
   "outputs": [
    {
     "data": {
      "text/plain": [
       "{'input_ids': [336, 259, 28387, 11807, 287, 62893, 295, 12507, 309, 1], 'attention_mask': [1, 1, 1, 1, 1, 1, 1, 1, 1, 1]}"
      ]
     },
     "execution_count": 90,
     "metadata": {},
     "output_type": "execute_result"
    }
   ],
   "source": [
    "inputs = tokenizer(\"I loved reading the Hunger Games!\")\n",
    "inputs"
   ]
  },
  {
   "cell_type": "code",
   "execution_count": 91,
   "id": "b660f02c",
   "metadata": {},
   "outputs": [
    {
     "data": {
      "text/plain": [
       "['▁I', '▁', 'loved', '▁reading', '▁the', '▁Hung', 'er', '▁Games', '!', '</s>']"
      ]
     },
     "execution_count": 91,
     "metadata": {},
     "output_type": "execute_result"
    }
   ],
   "source": [
    "tokenizer.convert_ids_to_tokens(inputs.input_ids)"
   ]
  },
  {
   "cell_type": "code",
   "execution_count": 92,
   "id": "e5f3ccfe",
   "metadata": {},
   "outputs": [],
   "source": [
    "max_input_length = 512\n",
    "max_target_length = 30\n",
    "\n",
    "\n",
    "def preprocess_function(examples):\n",
    "    model_inputs = tokenizer(\n",
    "        examples[\"review_body\"],\n",
    "        max_length=max_input_length,\n",
    "        truncation=True,\n",
    "    )\n",
    "    labels = tokenizer(\n",
    "        examples[\"review_title\"], max_length=max_target_length, truncation=True\n",
    "    )\n",
    "    model_inputs[\"labels\"] = labels[\"input_ids\"]\n",
    "    return model_inputs"
   ]
  },
  {
   "cell_type": "code",
   "execution_count": 93,
   "id": "a3b15f51",
   "metadata": {},
   "outputs": [
    {
     "data": {
      "application/vnd.jupyter.widget-view+json": {
       "model_id": "37b59a25104a48c186483b0fd5a8d586",
       "version_major": 2,
       "version_minor": 0
      },
      "text/plain": [
       "Map:   0%|          | 0/9672 [00:00<?, ? examples/s]"
      ]
     },
     "metadata": {},
     "output_type": "display_data"
    },
    {
     "data": {
      "application/vnd.jupyter.widget-view+json": {
       "model_id": "9773f62b49974fb28f6565ac1a4e4181",
       "version_major": 2,
       "version_minor": 0
      },
      "text/plain": [
       "Map:   0%|          | 0/238 [00:00<?, ? examples/s]"
      ]
     },
     "metadata": {},
     "output_type": "display_data"
    },
    {
     "data": {
      "application/vnd.jupyter.widget-view+json": {
       "model_id": "2dde493a95b241d982841f5767fbdf74",
       "version_major": 2,
       "version_minor": 0
      },
      "text/plain": [
       "Map:   0%|          | 0/245 [00:00<?, ? examples/s]"
      ]
     },
     "metadata": {},
     "output_type": "display_data"
    }
   ],
   "source": [
    "tokenized_datasets = books_dataset.map(preprocess_function, batched=True)"
   ]
  },
  {
   "cell_type": "code",
   "execution_count": 58,
   "id": "32a2bc6e",
   "metadata": {},
   "outputs": [],
   "source": [
    "generated_summary = \"I absolutely loved reading the Hunger Games\"\n",
    "reference_summary = \"I loved reading the Hunger Games\""
   ]
  },
  {
   "cell_type": "code",
   "execution_count": null,
   "id": "5c939893",
   "metadata": {},
   "outputs": [],
   "source": [
    "# !pip install rouge_score"
   ]
  },
  {
   "cell_type": "code",
   "execution_count": 59,
   "id": "5e263d0b",
   "metadata": {},
   "outputs": [],
   "source": [
    "import evaluate\n",
    "\n",
    "rouge_score = evaluate.load(\"rouge\")"
   ]
  },
  {
   "cell_type": "code",
   "execution_count": 94,
   "id": "ddafdbc4",
   "metadata": {},
   "outputs": [
    {
     "data": {
      "text/plain": [
       "{'rouge1': 0.923076923076923,\n",
       " 'rouge2': 0.7272727272727272,\n",
       " 'rougeL': 0.923076923076923,\n",
       " 'rougeLsum': 0.923076923076923}"
      ]
     },
     "execution_count": 94,
     "metadata": {},
     "output_type": "execute_result"
    }
   ],
   "source": [
    "scores = rouge_score.compute(\n",
    "    predictions=[generated_summary], references=[reference_summary]\n",
    ")\n",
    "scores"
   ]
  },
  {
   "cell_type": "code",
   "execution_count": null,
   "id": "5840f8f1",
   "metadata": {},
   "outputs": [],
   "source": [
    "# !pip install nltk"
   ]
  },
  {
   "cell_type": "code",
   "execution_count": 61,
   "id": "3250ac16",
   "metadata": {},
   "outputs": [
    {
     "name": "stderr",
     "output_type": "stream",
     "text": [
      "[nltk_data] Downloading package punkt to\n",
      "[nltk_data]     /Users/sviatlanamyshkavets/nltk_data...\n",
      "[nltk_data]   Package punkt is already up-to-date!\n"
     ]
    },
    {
     "data": {
      "text/plain": [
       "True"
      ]
     },
     "execution_count": 61,
     "metadata": {},
     "output_type": "execute_result"
    }
   ],
   "source": [
    "import nltk\n",
    "\n",
    "nltk.download(\"punkt\")"
   ]
  },
  {
   "cell_type": "code",
   "execution_count": 95,
   "id": "054c5cb6",
   "metadata": {},
   "outputs": [],
   "source": [
    "from nltk.tokenize import sent_tokenize\n",
    "\n",
    "\n",
    "def three_sentence_summary(text):\n",
    "    return \"\\n\".join(sent_tokenize(text)[:3])\n",
    "\n",
    "\n",
    "print(three_sentence_summary(books_dataset[\"train\"][1][\"review_body\"]))"
   ]
  },
  {
   "cell_type": "code",
   "execution_count": 96,
   "id": "73af4937",
   "metadata": {},
   "outputs": [],
   "source": [
    "def evaluate_baseline(dataset, metric):\n",
    "    summaries = [three_sentence_summary(text) for text in dataset[\"review_body\"]]\n",
    "    return metric.compute(predictions=summaries, references=dataset[\"review_title\"])"
   ]
  },
  {
   "cell_type": "code",
   "execution_count": 97,
   "id": "53d92e75",
   "metadata": {},
   "outputs": [
    {
     "data": {
      "text/plain": [
       "{'rouge1': 16.74, 'rouge2': 8.8, 'rougeL': 15.55, 'rougeLsum': 15.93}"
      ]
     },
     "execution_count": 97,
     "metadata": {},
     "output_type": "execute_result"
    }
   ],
   "source": [
    "import pandas as pd\n",
    "\n",
    "score = evaluate_baseline(books_dataset[\"validation\"], rouge_score)\n",
    "rouge_names = [\"rouge1\", \"rouge2\", \"rougeL\", \"rougeLsum\"]\n",
    "rouge_dict = dict((rn, round(score[rn] * 100, 2)) for rn in rouge_names)\n",
    "rouge_dict"
   ]
  },
  {
   "cell_type": "code",
   "execution_count": 31,
   "id": "f1a28bd3",
   "metadata": {},
   "outputs": [
    {
     "data": {
      "application/vnd.jupyter.widget-view+json": {
       "model_id": "7df94b3c62f94d959b89c796776aca1d",
       "version_major": 2,
       "version_minor": 0
      },
      "text/plain": [
       "Downloading pytorch_model.bin:   0%|          | 0.00/1.20G [00:00<?, ?B/s]"
      ]
     },
     "metadata": {},
     "output_type": "display_data"
    },
    {
     "data": {
      "application/vnd.jupyter.widget-view+json": {
       "model_id": "1cdd3d2054ad489298793e82a7b654ca",
       "version_major": 2,
       "version_minor": 0
      },
      "text/plain": [
       "Downloading (…)neration_config.json:   0%|          | 0.00/147 [00:00<?, ?B/s]"
      ]
     },
     "metadata": {},
     "output_type": "display_data"
    }
   ],
   "source": [
    "from transformers import AutoModelForSeq2SeqLM\n",
    "\n",
    "model = AutoModelForSeq2SeqLM.from_pretrained(model_checkpoint)"
   ]
  },
  {
   "cell_type": "code",
   "execution_count": 41,
   "id": "abd40adb",
   "metadata": {},
   "outputs": [
    {
     "data": {
      "application/vnd.jupyter.widget-view+json": {
       "model_id": "4111461d042f4af1bbacf6670a50454c",
       "version_major": 2,
       "version_minor": 0
      },
      "text/plain": [
       "VBox(children=(HTML(value='<center> <img\\nsrc=https://huggingface.co/front/assets/huggingface_logo-noborder.sv…"
      ]
     },
     "metadata": {},
     "output_type": "display_data"
    }
   ],
   "source": [
    "from huggingface_hub import notebook_login\n",
    "\n",
    "notebook_login()"
   ]
  },
  {
   "cell_type": "code",
   "execution_count": 98,
   "id": "d9ba7ff4",
   "metadata": {},
   "outputs": [],
   "source": [
    "from transformers import Seq2SeqTrainingArguments\n",
    "\n",
    "batch_size = 8\n",
    "num_train_epochs = 8\n",
    "# Show the training loss with every epoch\n",
    "logging_steps = len(tokenized_datasets[\"train\"]) // batch_size\n",
    "model_name = model_checkpoint.split(\"/\")[-1]\n",
    "\n",
    "args = Seq2SeqTrainingArguments(\n",
    "    output_dir=f\"{model_name}-finetuned-amazon-en-es\",\n",
    "    evaluation_strategy=\"epoch\",\n",
    "    learning_rate=5.6e-5,\n",
    "    per_device_train_batch_size=batch_size,\n",
    "    per_device_eval_batch_size=batch_size,\n",
    "    weight_decay=0.01,\n",
    "    save_total_limit=3,\n",
    "    num_train_epochs=num_train_epochs,\n",
    "    predict_with_generate=True,\n",
    "    logging_steps=logging_steps,\n",
    "    push_to_hub=True,\n",
    ")"
   ]
  },
  {
   "cell_type": "code",
   "execution_count": 99,
   "id": "35f1b10f",
   "metadata": {},
   "outputs": [],
   "source": [
    "import numpy as np\n",
    "\n",
    "\n",
    "def compute_metrics(eval_pred):\n",
    "    predictions, labels = eval_pred\n",
    "    # Decode generated summaries into text\n",
    "    decoded_preds = tokenizer.batch_decode(predictions, skip_special_tokens=True)\n",
    "    # Replace -100 in the labels as we can't decode them\n",
    "    labels = np.where(labels != -100, labels, tokenizer.pad_token_id)\n",
    "    # Decode reference summaries into text\n",
    "    decoded_labels = tokenizer.batch_decode(labels, skip_special_tokens=True)\n",
    "    # ROUGE expects a newline after each sentence\n",
    "    decoded_preds = [\"\\n\".join(sent_tokenize(pred.strip())) for pred in decoded_preds]\n",
    "    decoded_labels = [\"\\n\".join(sent_tokenize(label.strip())) for label in decoded_labels]\n",
    "    # Compute ROUGE scores\n",
    "    result = rouge_score.compute(\n",
    "        predictions=decoded_preds, references=decoded_labels, use_stemmer=True\n",
    "    )\n",
    "    # Extract the median scores\n",
    "    result = {key: value * 100 for key, value in result.items()}\n",
    "    return {k: round(v, 4) for k, v in result.items()}"
   ]
  },
  {
   "cell_type": "code",
   "execution_count": 100,
   "id": "20203aae",
   "metadata": {},
   "outputs": [],
   "source": [
    "from transformers import DataCollatorForSeq2Seq\n",
    "\n",
    "data_collator = DataCollatorForSeq2Seq(tokenizer, model=model)"
   ]
  },
  {
   "cell_type": "code",
   "execution_count": 102,
   "id": "5aa441c1",
   "metadata": {},
   "outputs": [],
   "source": [
    "tokenized_datasets = tokenized_datasets.remove_columns(\n",
    "    books_dataset[\"train\"].column_names\n",
    ")"
   ]
  },
  {
   "cell_type": "code",
   "execution_count": 103,
   "id": "e7f7f48e",
   "metadata": {},
   "outputs": [
    {
     "data": {
      "text/plain": [
       "{'input_ids': tensor([[   653,   1957,   1314,    261,   2757,   1280,    435,    259,  29166,\n",
       "            263,    269,    774,   5547,      1,      0,      0,      0,      0,\n",
       "              0,      0,      0,      0,      0,      0,      0,      0,      0,\n",
       "              0,      0,      0,      0,      0,      0,      0,      0,      0,\n",
       "              0,      0,      0,      0,      0,      0,      0,      0,      0,\n",
       "              0,      0,      0,      0,      0,      0,      0,      0,      0,\n",
       "              0,      0,      0,      0,      0,      0,      0,      0,      0,\n",
       "              0,      0,      0,      0,      0,      0,      0,      0,      0,\n",
       "              0,      0,      0,      0,      0,      0,      0,      0,      0,\n",
       "              0,      0,      0,      0,      0,      0,      0,      0,      0,\n",
       "              0,      0,      0,      0,      0,      0,      0,      0,      0,\n",
       "              0,      0,      0,      0,      0,      0,      0,      0,      0,\n",
       "              0,      0,      0,      0,      0,      0,      0,      0,      0,\n",
       "              0,      0,      0,      0,      0,      0,      0,      0,      0,\n",
       "              0,      0,      0,      0,      0,      0,      0,      0,      0,\n",
       "              0,      0,      0,      0,      0,      0,      0,      0,      0,\n",
       "              0,      0,      0,      0,      0,      0,      0,      0,      0,\n",
       "              0,      0,      0,      0,      0,      0,      0,      0,      0,\n",
       "              0,      0,      0,      0,      0,      0,      0,      0,      0,\n",
       "              0,      0,      0,      0,      0,      0,      0,      0,      0,\n",
       "              0,      0,      0,      0,      0,      0,      0,      0],\n",
       "        [   336,   6998,    481,   1150,  11807,   1590,  16339,    360,    261,\n",
       "            305,   3127,   2780,    261,    336,  35042,    345,    261,   3141,\n",
       "         136052,    285,    259,    266,   1425,    313,   2983, 106419,    272,\n",
       "            311,   4065,    260,  36874,    261,   1909,    259,    262,  22163,\n",
       "            639,    259,   7505,    332,   9066,  88398,    265,   5105,   6320,\n",
       "           4906,    261,    336,  21847,    345,   1590,  16339,    360,    260,\n",
       "           4630,   5897,    320, 146261,    260,    486,  21101,   1998,   3684,\n",
       "           2606,   2316,    609,    639,   3014,  11665,    416,    260,    336,\n",
       "            639,   7779,    259,    266,   1425,  57512,   9066,   5401,    260,\n",
       "            336,    259,  91451,    259,    262,  27613,    332,    259,  34779,\n",
       "            260,   1494,    639,    259,    262,   3005,    584,  62351,    288,\n",
       "            461,   6801,  22590,  62799,   3093,    259,    262,  20233,   3622,\n",
       "            304,    259,  11994,    259,  36260,  48971,    533,    418,   2725,\n",
       "            484,  27067,   1059,    260,  18646,    521,    259,   3659,   1063,\n",
       "           1388,    514,   3622,   3004,  26222,    260,    298, 109508,    276,\n",
       "            533,   1425,    288,    390,    259, 131690,    260,    336,    259,\n",
       "          25505,    609,    288,    390,    287,   3435,    336,   4906,   6338,\n",
       "            259,   6924,    259,  29426,    261,   2469,    351,    259, 109933,\n",
       "            260,    563,  15129,    261,    336,    277,    857,  36975,    345,\n",
       "          14355,    305,    259,    265, 111962,    288,  27039,    714,    260,\n",
       "            459,  25640,    259,    262,   5150,   4906,    260,      1]]), 'attention_mask': tensor([[1, 1, 1, 1, 1, 1, 1, 1, 1, 1, 1, 1, 1, 1, 0, 0, 0, 0, 0, 0, 0, 0, 0, 0,\n",
       "         0, 0, 0, 0, 0, 0, 0, 0, 0, 0, 0, 0, 0, 0, 0, 0, 0, 0, 0, 0, 0, 0, 0, 0,\n",
       "         0, 0, 0, 0, 0, 0, 0, 0, 0, 0, 0, 0, 0, 0, 0, 0, 0, 0, 0, 0, 0, 0, 0, 0,\n",
       "         0, 0, 0, 0, 0, 0, 0, 0, 0, 0, 0, 0, 0, 0, 0, 0, 0, 0, 0, 0, 0, 0, 0, 0,\n",
       "         0, 0, 0, 0, 0, 0, 0, 0, 0, 0, 0, 0, 0, 0, 0, 0, 0, 0, 0, 0, 0, 0, 0, 0,\n",
       "         0, 0, 0, 0, 0, 0, 0, 0, 0, 0, 0, 0, 0, 0, 0, 0, 0, 0, 0, 0, 0, 0, 0, 0,\n",
       "         0, 0, 0, 0, 0, 0, 0, 0, 0, 0, 0, 0, 0, 0, 0, 0, 0, 0, 0, 0, 0, 0, 0, 0,\n",
       "         0, 0, 0, 0, 0, 0, 0, 0, 0, 0, 0, 0, 0, 0, 0, 0, 0, 0, 0, 0],\n",
       "        [1, 1, 1, 1, 1, 1, 1, 1, 1, 1, 1, 1, 1, 1, 1, 1, 1, 1, 1, 1, 1, 1, 1, 1,\n",
       "         1, 1, 1, 1, 1, 1, 1, 1, 1, 1, 1, 1, 1, 1, 1, 1, 1, 1, 1, 1, 1, 1, 1, 1,\n",
       "         1, 1, 1, 1, 1, 1, 1, 1, 1, 1, 1, 1, 1, 1, 1, 1, 1, 1, 1, 1, 1, 1, 1, 1,\n",
       "         1, 1, 1, 1, 1, 1, 1, 1, 1, 1, 1, 1, 1, 1, 1, 1, 1, 1, 1, 1, 1, 1, 1, 1,\n",
       "         1, 1, 1, 1, 1, 1, 1, 1, 1, 1, 1, 1, 1, 1, 1, 1, 1, 1, 1, 1, 1, 1, 1, 1,\n",
       "         1, 1, 1, 1, 1, 1, 1, 1, 1, 1, 1, 1, 1, 1, 1, 1, 1, 1, 1, 1, 1, 1, 1, 1,\n",
       "         1, 1, 1, 1, 1, 1, 1, 1, 1, 1, 1, 1, 1, 1, 1, 1, 1, 1, 1, 1, 1, 1, 1, 1,\n",
       "         1, 1, 1, 1, 1, 1, 1, 1, 1, 1, 1, 1, 1, 1, 1, 1, 1, 1, 1, 1]]), 'labels': tensor([[  298,   259,  5994,   269,   774,  5547,     1],\n",
       "        [  298, 10380,   304, 13992,   291,     1,  -100]]), 'decoder_input_ids': tensor([[    0,   298,   259,  5994,   269,   774,  5547],\n",
       "        [    0,   298, 10380,   304, 13992,   291,     1]])}"
      ]
     },
     "execution_count": 103,
     "metadata": {},
     "output_type": "execute_result"
    }
   ],
   "source": [
    "features = [tokenized_datasets[\"train\"][i] for i in range(2)]\n",
    "data_collator(features)"
   ]
  },
  {
   "cell_type": "code",
   "execution_count": 104,
   "id": "6bc52a89",
   "metadata": {},
   "outputs": [
    {
     "name": "stderr",
     "output_type": "stream",
     "text": [
      "/Users/sviatlanamyshkavets/Documents/Courses/DS TM/Final/mt5-small-finetuned-amazon-en-es is already a clone of https://huggingface.co/solmysh/mt5-small-finetuned-amazon-en-es. Make sure you pull the latest changes with `repo.git_pull()`.\n",
      "WARNING:huggingface_hub.repository:/Users/sviatlanamyshkavets/Documents/Courses/DS TM/Final/mt5-small-finetuned-amazon-en-es is already a clone of https://huggingface.co/solmysh/mt5-small-finetuned-amazon-en-es. Make sure you pull the latest changes with `repo.git_pull()`.\n"
     ]
    }
   ],
   "source": [
    "from transformers import Seq2SeqTrainer\n",
    "\n",
    "trainer = Seq2SeqTrainer(\n",
    "    model,\n",
    "    args,\n",
    "    train_dataset=tokenized_datasets[\"train\"],\n",
    "    eval_dataset=tokenized_datasets[\"validation\"],\n",
    "    data_collator=data_collator,\n",
    "    tokenizer=tokenizer,\n",
    "    compute_metrics=compute_metrics,\n",
    ")"
   ]
  },
  {
   "cell_type": "code",
   "execution_count": 105,
   "id": "3fdb9113",
   "metadata": {},
   "outputs": [
    {
     "name": "stderr",
     "output_type": "stream",
     "text": [
      "/opt/homebrew/Caskroom/miniforge/base/envs/tf_mac/lib/python3.9/site-packages/transformers/optimization.py:407: FutureWarning: This implementation of AdamW is deprecated and will be removed in a future version. Use the PyTorch implementation torch.optim.AdamW instead, or set `no_deprecation_warning=True` to disable this warning\n",
      "  warnings.warn(\n"
     ]
    },
    {
     "data": {
      "application/vnd.jupyter.widget-view+json": {
       "model_id": "a11c86d24e2d450480a57846a4c4352d",
       "version_major": 2,
       "version_minor": 0
      },
      "text/plain": [
       "  0%|          | 0/9672 [00:00<?, ?it/s]"
      ]
     },
     "metadata": {},
     "output_type": "display_data"
    },
    {
     "data": {
      "application/vnd.jupyter.widget-view+json": {
       "model_id": "4f7f8cf8a14a4119943c7b9ec6ae6ec4",
       "version_major": 2,
       "version_minor": 0
      },
      "text/plain": [
       "  0%|          | 0/30 [00:00<?, ?it/s]"
      ]
     },
     "metadata": {},
     "output_type": "display_data"
    },
    {
     "data": {
      "application/vnd.jupyter.widget-view+json": {
       "model_id": "3d829f2c59cb480a82a9beaac87a6a1e",
       "version_major": 2,
       "version_minor": 0
      },
      "text/plain": [
       "  0%|          | 0/30 [00:00<?, ?it/s]"
      ]
     },
     "metadata": {},
     "output_type": "display_data"
    },
    {
     "data": {
      "application/vnd.jupyter.widget-view+json": {
       "model_id": "25dee7e1c1fc4f21bd46c2cb44a8f922",
       "version_major": 2,
       "version_minor": 0
      },
      "text/plain": [
       "  0%|          | 0/30 [00:00<?, ?it/s]"
      ]
     },
     "metadata": {},
     "output_type": "display_data"
    },
    {
     "name": "stderr",
     "output_type": "stream",
     "text": [
      "Several commits (2) will be pushed upstream.\n",
      "WARNING:huggingface_hub.repository:Several commits (2) will be pushed upstream.\n"
     ]
    },
    {
     "data": {
      "application/vnd.jupyter.widget-view+json": {
       "model_id": "68a012b4ea4247668effe886d3a32074",
       "version_major": 2,
       "version_minor": 0
      },
      "text/plain": [
       "  0%|          | 0/30 [00:00<?, ?it/s]"
      ]
     },
     "metadata": {},
     "output_type": "display_data"
    },
    {
     "data": {
      "application/vnd.jupyter.widget-view+json": {
       "model_id": "c1c8e1dfe93346fca7f76a53bef67712",
       "version_major": 2,
       "version_minor": 0
      },
      "text/plain": [
       "  0%|          | 0/30 [00:00<?, ?it/s]"
      ]
     },
     "metadata": {},
     "output_type": "display_data"
    },
    {
     "data": {
      "application/vnd.jupyter.widget-view+json": {
       "model_id": "a4d700eced1d4c0e85bd55e6294433f4",
       "version_major": 2,
       "version_minor": 0
      },
      "text/plain": [
       "  0%|          | 0/30 [00:00<?, ?it/s]"
      ]
     },
     "metadata": {},
     "output_type": "display_data"
    },
    {
     "data": {
      "application/vnd.jupyter.widget-view+json": {
       "model_id": "dd7256dda22242e5a265c22aa6741458",
       "version_major": 2,
       "version_minor": 0
      },
      "text/plain": [
       "  0%|          | 0/30 [00:00<?, ?it/s]"
      ]
     },
     "metadata": {},
     "output_type": "display_data"
    },
    {
     "data": {
      "application/vnd.jupyter.widget-view+json": {
       "model_id": "cb90478c64c442168fa8344e327451ca",
       "version_major": 2,
       "version_minor": 0
      },
      "text/plain": [
       "  0%|          | 0/30 [00:00<?, ?it/s]"
      ]
     },
     "metadata": {},
     "output_type": "display_data"
    },
    {
     "data": {
      "text/plain": [
       "TrainOutput(global_step=9672, training_loss=3.2002855021663694, metrics={'train_runtime': 151341.1725, 'train_samples_per_second': 0.511, 'train_steps_per_second': 0.064, 'train_loss': 3.2002855021663694, 'epoch': 8.0})"
      ]
     },
     "execution_count": 105,
     "metadata": {},
     "output_type": "execute_result"
    }
   ],
   "source": [
    "trainer.train()"
   ]
  },
  {
   "cell_type": "code",
   "execution_count": 162,
   "id": "b441347d",
   "metadata": {},
   "outputs": [
    {
     "name": "stderr",
     "output_type": "stream",
     "text": [
      "To https://huggingface.co/solmysh/mt5-small-finetuned-amazon-en-es\n",
      "   0e3cb17..28accaf  main -> main\n",
      "\n",
      "WARNING:huggingface_hub.repository:To https://huggingface.co/solmysh/mt5-small-finetuned-amazon-en-es\n",
      "   0e3cb17..28accaf  main -> main\n",
      "\n"
     ]
    }
   ],
   "source": [
    "trainer.save_model()"
   ]
  },
  {
   "cell_type": "code",
   "execution_count": 106,
   "id": "03f7c7f8",
   "metadata": {},
   "outputs": [
    {
     "data": {
      "application/vnd.jupyter.widget-view+json": {
       "model_id": "4bb2465c6f2d4c6497331a13515a22ab",
       "version_major": 2,
       "version_minor": 0
      },
      "text/plain": [
       "  0%|          | 0/30 [00:00<?, ?it/s]"
      ]
     },
     "metadata": {},
     "output_type": "display_data"
    },
    {
     "data": {
      "text/plain": [
       "{'eval_loss': 3.0134811401367188,\n",
       " 'eval_rouge1': 16.5421,\n",
       " 'eval_rouge2': 7.9012,\n",
       " 'eval_rougeL': 16.2574,\n",
       " 'eval_rougeLsum': 16.1537,\n",
       " 'eval_runtime': 36.7312,\n",
       " 'eval_samples_per_second': 6.479,\n",
       " 'eval_steps_per_second': 0.817,\n",
       " 'epoch': 8.0}"
      ]
     },
     "execution_count": 106,
     "metadata": {},
     "output_type": "execute_result"
    }
   ],
   "source": [
    "trainer.evaluate()"
   ]
  },
  {
   "cell_type": "code",
   "execution_count": 107,
   "id": "d1b4d9e1",
   "metadata": {},
   "outputs": [
    {
     "name": "stderr",
     "output_type": "stream",
     "text": [
      "Several commits (3) will be pushed upstream.\n",
      "WARNING:huggingface_hub.repository:Several commits (3) will be pushed upstream.\n",
      "The progress bars may be unreliable.\n",
      "WARNING:huggingface_hub.repository:The progress bars may be unreliable.\n"
     ]
    },
    {
     "data": {
      "application/vnd.jupyter.widget-view+json": {
       "model_id": "16c3a6ba8c20458c91b8216cb78315e1",
       "version_major": 2,
       "version_minor": 0
      },
      "text/plain": [
       "Upload file pytorch_model.bin:   0%|          | 1.00/1.12G [00:00<?, ?B/s]"
      ]
     },
     "metadata": {},
     "output_type": "display_data"
    },
    {
     "data": {
      "application/vnd.jupyter.widget-view+json": {
       "model_id": "161969aff5a841e8bd9bebd4420be5cf",
       "version_major": 2,
       "version_minor": 0
      },
      "text/plain": [
       "Upload file runs/May16_18-07-05_MacBook-Pro-Sviatlana.local/events.out.tfevents.1684249648.MacBook-Pro-Sviatla…"
      ]
     },
     "metadata": {},
     "output_type": "display_data"
    },
    {
     "data": {
      "application/vnd.jupyter.widget-view+json": {
       "model_id": "cc99b65c41ae4d42851896fbca3c64ed",
       "version_major": 2,
       "version_minor": 0
      },
      "text/plain": [
       "Upload file runs/May16_18-07-05_MacBook-Pro-Sviatlana.local/events.out.tfevents.1684401170.MacBook-Pro-Sviatla…"
      ]
     },
     "metadata": {},
     "output_type": "display_data"
    },
    {
     "name": "stderr",
     "output_type": "stream",
     "text": [
      "To https://huggingface.co/solmysh/mt5-small-finetuned-amazon-en-es\n",
      "   0736f31..ad68cb4  main -> main\n",
      "\n",
      "WARNING:huggingface_hub.repository:To https://huggingface.co/solmysh/mt5-small-finetuned-amazon-en-es\n",
      "   0736f31..ad68cb4  main -> main\n",
      "\n",
      "To https://huggingface.co/solmysh/mt5-small-finetuned-amazon-en-es\n",
      "   ad68cb4..0e3cb17  main -> main\n",
      "\n",
      "WARNING:huggingface_hub.repository:To https://huggingface.co/solmysh/mt5-small-finetuned-amazon-en-es\n",
      "   ad68cb4..0e3cb17  main -> main\n",
      "\n"
     ]
    },
    {
     "data": {
      "text/plain": [
       "'https://huggingface.co/solmysh/mt5-small-finetuned-amazon-en-es/commit/ad68cb48230fd40e096d8ff66ff94dcf810042ce'"
      ]
     },
     "execution_count": 107,
     "metadata": {},
     "output_type": "execute_result"
    }
   ],
   "source": [
    "trainer.push_to_hub(commit_message=\"Training complete\", tags=\"summarization\")"
   ]
  },
  {
   "cell_type": "code",
   "execution_count": 261,
   "id": "1ec97362",
   "metadata": {},
   "outputs": [],
   "source": [
    "from transformers import pipeline\n",
    "\n",
    "hub_model_id = \"huggingface-course/mt5-small-finetuned-amazon-en-es\"\n",
    "summarizer = pipeline(\"summarization\", model=hub_model_id, max_length=20)"
   ]
  },
  {
   "cell_type": "code",
   "execution_count": 262,
   "id": "ca0270ec",
   "metadata": {},
   "outputs": [],
   "source": [
    "def print_summary(idx):\n",
    "    review = books_dataset[\"test\"][idx][\"review_body\"]\n",
    "    title = books_dataset[\"test\"][idx][\"review_title\"]\n",
    "    summary = summarizer(books_dataset[\"test\"][idx][\"review_body\"])[0][\"summary_text\"]\n",
    "    return f\"Review: {review}\" , f\"Title: {title}\", f\"Summary: {summary}\""
   ]
  },
  {
   "cell_type": "code",
   "execution_count": 263,
   "id": "f5069187",
   "metadata": {},
   "outputs": [
    {
     "data": {
      "text/plain": [
       "('Review: Good, but not his best. Well-researched but basically revolves around the growth of one town in Ohio. Would have liked broader view',\n",
       " 'Title: Good, but not his best.',\n",
       " 'Summary: Good, but not his best')"
      ]
     },
     "execution_count": 263,
     "metadata": {},
     "output_type": "execute_result"
    }
   ],
   "source": [
    "print_summary(199)"
   ]
  },
  {
   "cell_type": "code",
   "execution_count": 264,
   "id": "7646a633",
   "metadata": {},
   "outputs": [
    {
     "data": {
      "text/plain": [
       "[{'summary_text': 'Very disappointed'}]"
      ]
     },
     "execution_count": 264,
     "metadata": {},
     "output_type": "execute_result"
    }
   ],
   "source": [
    "summarizer(\"\"\"I bought this book because I read some glowing praise on an online library site. Unfortunately, I was deeply disappointed by page three. I always buy books in the hope and expectation of having an enjoyable read, not to criticise. However, this book is in urgent need of good editing -- though quite possibly editing alone wouldn't save it. Examples: a bed squeaks slightly and sharply in the same sentence; a nightgown hangs freely over her girlish figure and olive colored complexion; coffee aromas huddle; rumbling clouds huddle (as well as the coffee?); she prepared to sip her coffee beneath the wrath of God... cuddled within the arms of a strong breeze; (the wrath of God is a breeze?); the Columbian (stet) coffee aroma danced beneath her sculpted tan nose; the coffee bean fragrance tangoed within her body; she placed her thick pink lips against the warm cup;... and so on, all by page three. It is quite possible that the storyline is deeply moving. I'll never know because I can't bring myself to continue. Sorry.\"\"\")"
   ]
  },
  {
   "cell_type": "code",
   "execution_count": 265,
   "id": "2f5f64f8",
   "metadata": {},
   "outputs": [
    {
     "data": {
      "text/plain": [
       "[{'summary_text': 'Very good'}]"
      ]
     },
     "execution_count": 265,
     "metadata": {},
     "output_type": "execute_result"
    }
   ],
   "source": [
    "summarizer(\"\"\"This book is one of my all time favorite Garwood novels because it features one of my all time favorite characters - Brodich Buchanan. Brodich is most definitely an alpha male with a wry sense of humor. The supporting characters add to the fun. The only downside to the book was the rushed treatment that Ramsey received. The secondary romance was a bit weak for my taste. Even so, I gave the review 5 stars because Brodich is that good.\"\"\")"
   ]
  },
  {
   "cell_type": "code",
   "execution_count": 164,
   "id": "353287f9",
   "metadata": {},
   "outputs": [],
   "source": [
    "df = pd.read_csv('train_df.csv')                  "
   ]
  },
  {
   "cell_type": "code",
   "execution_count": 165,
   "id": "56e1e75f",
   "metadata": {},
   "outputs": [
    {
     "data": {
      "text/html": [
       "<div>\n",
       "<style scoped>\n",
       "    .dataframe tbody tr th:only-of-type {\n",
       "        vertical-align: middle;\n",
       "    }\n",
       "\n",
       "    .dataframe tbody tr th {\n",
       "        vertical-align: top;\n",
       "    }\n",
       "\n",
       "    .dataframe thead th {\n",
       "        text-align: right;\n",
       "    }\n",
       "</style>\n",
       "<table border=\"1\" class=\"dataframe\">\n",
       "  <thead>\n",
       "    <tr style=\"text-align: right;\">\n",
       "      <th></th>\n",
       "      <th>score</th>\n",
       "      <th>summary</th>\n",
       "      <th>review</th>\n",
       "    </tr>\n",
       "  </thead>\n",
       "  <tbody>\n",
       "    <tr>\n",
       "      <th>0</th>\n",
       "      <td>1.0</td>\n",
       "      <td>not good</td>\n",
       "      <td>I bought this book because I read some glowing...</td>\n",
       "    </tr>\n",
       "    <tr>\n",
       "      <th>1</th>\n",
       "      <td>1.0</td>\n",
       "      <td>Buyer beware</td>\n",
       "      <td>This is a self-published book, and if you want...</td>\n",
       "    </tr>\n",
       "    <tr>\n",
       "      <th>2</th>\n",
       "      <td>1.0</td>\n",
       "      <td>The Worst!</td>\n",
       "      <td>A complete waste of time. Typographical errors...</td>\n",
       "    </tr>\n",
       "    <tr>\n",
       "      <th>3</th>\n",
       "      <td>1.0</td>\n",
       "      <td>Oh please</td>\n",
       "      <td>I guess you have to be a romance novel lover f...</td>\n",
       "    </tr>\n",
       "    <tr>\n",
       "      <th>4</th>\n",
       "      <td>1.0</td>\n",
       "      <td>Awful beyond belief!</td>\n",
       "      <td>I feel I have to write to keep others from was...</td>\n",
       "    </tr>\n",
       "    <tr>\n",
       "      <th>...</th>\n",
       "      <td>...</td>\n",
       "      <td>...</td>\n",
       "      <td>...</td>\n",
       "    </tr>\n",
       "    <tr>\n",
       "      <th>24995</th>\n",
       "      <td>5.0</td>\n",
       "      <td>You have to read this!</td>\n",
       "      <td>&amp;quot;The Chosen&amp;quot; is one of my overall fa...</td>\n",
       "    </tr>\n",
       "    <tr>\n",
       "      <th>24996</th>\n",
       "      <td>5.0</td>\n",
       "      <td>More Night World</td>\n",
       "      <td>I can read these books over and over, but espe...</td>\n",
       "    </tr>\n",
       "    <tr>\n",
       "      <th>24997</th>\n",
       "      <td>5.0</td>\n",
       "      <td>This was one of the best in the series!!!!!</td>\n",
       "      <td>Rashel was definitely a heroic character and s...</td>\n",
       "    </tr>\n",
       "    <tr>\n",
       "      <th>24998</th>\n",
       "      <td>5.0</td>\n",
       "      <td>Fantastic</td>\n",
       "      <td>This was the first Night World book that I eve...</td>\n",
       "    </tr>\n",
       "    <tr>\n",
       "      <th>24999</th>\n",
       "      <td>5.0</td>\n",
       "      <td>read mi review. sorta like ads.</td>\n",
       "      <td>this book rocks, people! however, i got reali ...</td>\n",
       "    </tr>\n",
       "  </tbody>\n",
       "</table>\n",
       "<p>25000 rows × 3 columns</p>\n",
       "</div>"
      ],
      "text/plain": [
       "       score                                      summary  \\\n",
       "0        1.0                                     not good   \n",
       "1        1.0                                 Buyer beware   \n",
       "2        1.0                                   The Worst!   \n",
       "3        1.0                                    Oh please   \n",
       "4        1.0                         Awful beyond belief!   \n",
       "...      ...                                          ...   \n",
       "24995    5.0                       You have to read this!   \n",
       "24996    5.0                             More Night World   \n",
       "24997    5.0  This was one of the best in the series!!!!!   \n",
       "24998    5.0                                    Fantastic   \n",
       "24999    5.0              read mi review. sorta like ads.   \n",
       "\n",
       "                                                  review  \n",
       "0      I bought this book because I read some glowing...  \n",
       "1      This is a self-published book, and if you want...  \n",
       "2      A complete waste of time. Typographical errors...  \n",
       "3      I guess you have to be a romance novel lover f...  \n",
       "4      I feel I have to write to keep others from was...  \n",
       "...                                                  ...  \n",
       "24995  &quot;The Chosen&quot; is one of my overall fa...  \n",
       "24996  I can read these books over and over, but espe...  \n",
       "24997  Rashel was definitely a heroic character and s...  \n",
       "24998  This was the first Night World book that I eve...  \n",
       "24999  this book rocks, people! however, i got reali ...  \n",
       "\n",
       "[25000 rows x 3 columns]"
      ]
     },
     "execution_count": 165,
     "metadata": {},
     "output_type": "execute_result"
    }
   ],
   "source": [
    "df"
   ]
  },
  {
   "cell_type": "code",
   "execution_count": null,
   "id": "7a62f9e5",
   "metadata": {},
   "outputs": [],
   "source": [
    "# prepare data for df['predicted summary']\n",
    "\n",
    "predicted_summary = []\n",
    "for i in df['review']:\n",
    "    summary = summarizer(i)\n",
    "    predicted_summary.append(summary)"
   ]
  },
  {
   "cell_type": "code",
   "execution_count": 216,
   "id": "302601ef",
   "metadata": {},
   "outputs": [],
   "source": [
    "values = []\n",
    "for i in predicted_summary:\n",
    "    for e in i:\n",
    "        for k, v in e.items():\n",
    "            value = v\n",
    "            values.append(value)"
   ]
  },
  {
   "cell_type": "code",
   "execution_count": 226,
   "id": "ad76b73b",
   "metadata": {},
   "outputs": [],
   "source": [
    "df['model predicted summary'] = values"
   ]
  },
  {
   "cell_type": "code",
   "execution_count": 230,
   "id": "a5ed6118",
   "metadata": {},
   "outputs": [],
   "source": [
    "df = df.drop(['model predicted summaty'], axis=1)"
   ]
  },
  {
   "cell_type": "code",
   "execution_count": 238,
   "id": "924090b5",
   "metadata": {},
   "outputs": [
    {
     "data": {
      "text/plain": [
       "Index(['score', 'summary', 'review', 'model predicted summary'], dtype='object')"
      ]
     },
     "execution_count": 238,
     "metadata": {},
     "output_type": "execute_result"
    }
   ],
   "source": [
    "df.columns"
   ]
  },
  {
   "cell_type": "code",
   "execution_count": 271,
   "id": "ece8767e",
   "metadata": {},
   "outputs": [],
   "source": [
    "df_shuffle = shuffle(df)"
   ]
  },
  {
   "cell_type": "code",
   "execution_count": 273,
   "id": "046ca486",
   "metadata": {},
   "outputs": [
    {
     "data": {
      "text/html": [
       "<div>\n",
       "<style scoped>\n",
       "    .dataframe tbody tr th:only-of-type {\n",
       "        vertical-align: middle;\n",
       "    }\n",
       "\n",
       "    .dataframe tbody tr th {\n",
       "        vertical-align: top;\n",
       "    }\n",
       "\n",
       "    .dataframe thead th {\n",
       "        text-align: right;\n",
       "    }\n",
       "</style>\n",
       "<table border=\"1\" class=\"dataframe\">\n",
       "  <thead>\n",
       "    <tr style=\"text-align: right;\">\n",
       "      <th></th>\n",
       "      <th>score</th>\n",
       "      <th>summary</th>\n",
       "      <th>review</th>\n",
       "      <th>model predicted summary</th>\n",
       "    </tr>\n",
       "  </thead>\n",
       "  <tbody>\n",
       "    <tr>\n",
       "      <th>24233</th>\n",
       "      <td>5.0</td>\n",
       "      <td>A detailed exploration into the issues of fema...</td>\n",
       "      <td>Expertly written by Paxton Quigly, \"Stayin' Al...</td>\n",
       "      <td>Very detailed exploration into the issues of f...</td>\n",
       "    </tr>\n",
       "    <tr>\n",
       "      <th>18942</th>\n",
       "      <td>4.0</td>\n",
       "      <td>Lschs student review for five points extra cre...</td>\n",
       "      <td>The book A Philadelphia Catholic in King James...</td>\n",
       "      <td>Another thing I liked in the story outweighed ...</td>\n",
       "    </tr>\n",
       "    <tr>\n",
       "      <th>8666</th>\n",
       "      <td>2.0</td>\n",
       "      <td>Sorry Poul</td>\n",
       "      <td>Oh Poul. When it came to big ideas, he was unb...</td>\n",
       "      <td>Very interesting, but a few pages read like an...</td>\n",
       "    </tr>\n",
       "    <tr>\n",
       "      <th>6396</th>\n",
       "      <td>2.0</td>\n",
       "      <td>Limited combat involvement</td>\n",
       "      <td>`A Paratrooper's Panoramic View' by Robert L. ...</td>\n",
       "      <td>Very useful</td>\n",
       "    </tr>\n",
       "    <tr>\n",
       "      <th>19769</th>\n",
       "      <td>4.0</td>\n",
       "      <td>A Good Read</td>\n",
       "      <td>A very good book, hard to put down. I was hopi...</td>\n",
       "      <td>A very good book, hard to put down</td>\n",
       "    </tr>\n",
       "    <tr>\n",
       "      <th>20939</th>\n",
       "      <td>5.0</td>\n",
       "      <td>Understanding the philosophy of economics</td>\n",
       "      <td>These concepts are important for everyone to f...</td>\n",
       "      <td>Very easy to read</td>\n",
       "    </tr>\n",
       "    <tr>\n",
       "      <th>17568</th>\n",
       "      <td>4.0</td>\n",
       "      <td>Hard Times is a harder read</td>\n",
       "      <td>While this was a faster paced book than usual ...</td>\n",
       "      <td>Very boring</td>\n",
       "    </tr>\n",
       "    <tr>\n",
       "      <th>6420</th>\n",
       "      <td>2.0</td>\n",
       "      <td>Interesting premise, but biased and repetitive</td>\n",
       "      <td>This book's strong point, as other readers hav...</td>\n",
       "      <td>Very interesting, but a very interesting read.</td>\n",
       "    </tr>\n",
       "    <tr>\n",
       "      <th>5051</th>\n",
       "      <td>2.0</td>\n",
       "      <td>So far, the worst book of one of my favorite a...</td>\n",
       "      <td>Having read all of Patricia Cornwell's books, ...</td>\n",
       "      <td>Patricia Cornwell's books were described incon...</td>\n",
       "    </tr>\n",
       "    <tr>\n",
       "      <th>5311</th>\n",
       "      <td>2.0</td>\n",
       "      <td>The autobiography of my mother</td>\n",
       "      <td>Did not really get lost in there book....found...</td>\n",
       "      <td>boring</td>\n",
       "    </tr>\n",
       "    <tr>\n",
       "      <th>2433</th>\n",
       "      <td>1.0</td>\n",
       "      <td>The prose is great, the print/binding/print si...</td>\n",
       "      <td>I have never seen such a lousy printing. Indee...</td>\n",
       "      <td>Very ordinary print</td>\n",
       "    </tr>\n",
       "    <tr>\n",
       "      <th>23333</th>\n",
       "      <td>5.0</td>\n",
       "      <td>The only thing better than the story is the wr...</td>\n",
       "      <td>Galsworthy gives his readers a view into the t...</td>\n",
       "      <td>Enjoyable</td>\n",
       "    </tr>\n",
       "    <tr>\n",
       "      <th>769</th>\n",
       "      <td>1.0</td>\n",
       "      <td>Be hold</td>\n",
       "      <td>contineously zionest snakes spit out their poi...</td>\n",
       "      <td>Very basic</td>\n",
       "    </tr>\n",
       "    <tr>\n",
       "      <th>1685</th>\n",
       "      <td>1.0</td>\n",
       "      <td>In the Trash When I Finished</td>\n",
       "      <td>This is one of those books that leaves you fee...</td>\n",
       "      <td>Very funny</td>\n",
       "    </tr>\n",
       "    <tr>\n",
       "      <th>8322</th>\n",
       "      <td>2.0</td>\n",
       "      <td>Self-advertisement</td>\n",
       "      <td>When purchasing this book/dvd combination, I w...</td>\n",
       "      <td>Very useful</td>\n",
       "    </tr>\n",
       "    <tr>\n",
       "      <th>16023</th>\n",
       "      <td>4.0</td>\n",
       "      <td>good stuff</td>\n",
       "      <td>great resource for anyone looking to add varie...</td>\n",
       "      <td>Great resource for anyone looking to add varie...</td>\n",
       "    </tr>\n",
       "    <tr>\n",
       "      <th>11363</th>\n",
       "      <td>3.0</td>\n",
       "      <td>Fahrenheit 451</td>\n",
       "      <td>Fahrenheit 451 is a book that is set in the fu...</td>\n",
       "      <td>Very interesting</td>\n",
       "    </tr>\n",
       "    <tr>\n",
       "      <th>14423</th>\n",
       "      <td>3.0</td>\n",
       "      <td>Interesting at times...</td>\n",
       "      <td>In my opinion it was an interesting enough boo...</td>\n",
       "      <td>Very interesting</td>\n",
       "    </tr>\n",
       "    <tr>\n",
       "      <th>21962</th>\n",
       "      <td>5.0</td>\n",
       "      <td>No complaints.</td>\n",
       "      <td>The book was a bit thinner than I thought. (Di...</td>\n",
       "      <td>Very worthwhile buy</td>\n",
       "    </tr>\n",
       "    <tr>\n",
       "      <th>4426</th>\n",
       "      <td>1.0</td>\n",
       "      <td>Nothing but fiction</td>\n",
       "      <td>This book should be in the fiction category. I...</td>\n",
       "      <td>Another interesting book</td>\n",
       "    </tr>\n",
       "    <tr>\n",
       "      <th>16850</th>\n",
       "      <td>4.0</td>\n",
       "      <td>Great Help For High Schoolers</td>\n",
       "      <td>This is a great tool for high schoolers as the...</td>\n",
       "      <td>Great tool for high schoolers as they attempt ...</td>\n",
       "    </tr>\n",
       "    <tr>\n",
       "      <th>6265</th>\n",
       "      <td>2.0</td>\n",
       "      <td>Leans very much to the wrong.</td>\n",
       "      <td>I heard about this book on Air America and tho...</td>\n",
       "      <td>Why is it okay to be offended?</td>\n",
       "    </tr>\n",
       "    <tr>\n",
       "      <th>22118</th>\n",
       "      <td>5.0</td>\n",
       "      <td>A VERY COMPLETE AND COMPREHENDING BOOK</td>\n",
       "      <td>for pregnant mothers !It covers all, solve all...</td>\n",
       "      <td>Cute tips!</td>\n",
       "    </tr>\n",
       "    <tr>\n",
       "      <th>11284</th>\n",
       "      <td>3.0</td>\n",
       "      <td>A good science fiction story, lost in the trap...</td>\n",
       "      <td>A quarter of a century late, I finally got aro...</td>\n",
       "      <td>Very interesting, but a very interesting read.</td>\n",
       "    </tr>\n",
       "    <tr>\n",
       "      <th>11964</th>\n",
       "      <td>3.0</td>\n",
       "      <td>So-so</td>\n",
       "      <td>After thoroughly enjoying Gordon Wenham's comm...</td>\n",
       "      <td>Very interesting</td>\n",
       "    </tr>\n",
       "    <tr>\n",
       "      <th>21575</th>\n",
       "      <td>5.0</td>\n",
       "      <td>A declaration of love for Greece and the Greeks</td>\n",
       "      <td>After reading Professor. Lundberg's book it is...</td>\n",
       "      <td>Very interesting, but a lesson for us all here</td>\n",
       "    </tr>\n",
       "    <tr>\n",
       "      <th>5390</th>\n",
       "      <td>2.0</td>\n",
       "      <td>Better than \"On the Road\". Still not as good a...</td>\n",
       "      <td>A few years ago I read On the Road and was sur...</td>\n",
       "      <td>Very interesting, but a very interesting read.</td>\n",
       "    </tr>\n",
       "    <tr>\n",
       "      <th>860</th>\n",
       "      <td>1.0</td>\n",
       "      <td>Where's the storyline</td>\n",
       "      <td>This is beautifully written but this does not ...</td>\n",
       "      <td>Very disappointing</td>\n",
       "    </tr>\n",
       "    <tr>\n",
       "      <th>15795</th>\n",
       "      <td>4.0</td>\n",
       "      <td>busy little fingers</td>\n",
       "      <td>Great project for a child with patience. Need ...</td>\n",
       "      <td>Great project for a child with patience</td>\n",
       "    </tr>\n",
       "    <tr>\n",
       "      <th>23654</th>\n",
       "      <td>5.0</td>\n",
       "      <td>Mum's the word, says Victorian novelist.</td>\n",
       "      <td>A question that often appears in agony aunt co...</td>\n",
       "      <td>Very interesting, very interesting, very inter...</td>\n",
       "    </tr>\n",
       "  </tbody>\n",
       "</table>\n",
       "</div>"
      ],
      "text/plain": [
       "       score                                            summary  \\\n",
       "24233    5.0  A detailed exploration into the issues of fema...   \n",
       "18942    4.0  Lschs student review for five points extra cre...   \n",
       "8666     2.0                                         Sorry Poul   \n",
       "6396     2.0                         Limited combat involvement   \n",
       "19769    4.0                                        A Good Read   \n",
       "20939    5.0          Understanding the philosophy of economics   \n",
       "17568    4.0                        Hard Times is a harder read   \n",
       "6420     2.0     Interesting premise, but biased and repetitive   \n",
       "5051     2.0  So far, the worst book of one of my favorite a...   \n",
       "5311     2.0                     The autobiography of my mother   \n",
       "2433     1.0  The prose is great, the print/binding/print si...   \n",
       "23333    5.0  The only thing better than the story is the wr...   \n",
       "769      1.0                                            Be hold   \n",
       "1685     1.0                       In the Trash When I Finished   \n",
       "8322     2.0                                 Self-advertisement   \n",
       "16023    4.0                                         good stuff   \n",
       "11363    3.0                                     Fahrenheit 451   \n",
       "14423    3.0                            Interesting at times...   \n",
       "21962    5.0                                     No complaints.   \n",
       "4426     1.0                                Nothing but fiction   \n",
       "16850    4.0                      Great Help For High Schoolers   \n",
       "6265     2.0                      Leans very much to the wrong.   \n",
       "22118    5.0             A VERY COMPLETE AND COMPREHENDING BOOK   \n",
       "11284    3.0  A good science fiction story, lost in the trap...   \n",
       "11964    3.0                                              So-so   \n",
       "21575    5.0    A declaration of love for Greece and the Greeks   \n",
       "5390     2.0  Better than \"On the Road\". Still not as good a...   \n",
       "860      1.0                              Where's the storyline   \n",
       "15795    4.0                                busy little fingers   \n",
       "23654    5.0           Mum's the word, says Victorian novelist.   \n",
       "\n",
       "                                                  review  \\\n",
       "24233  Expertly written by Paxton Quigly, \"Stayin' Al...   \n",
       "18942  The book A Philadelphia Catholic in King James...   \n",
       "8666   Oh Poul. When it came to big ideas, he was unb...   \n",
       "6396   `A Paratrooper's Panoramic View' by Robert L. ...   \n",
       "19769  A very good book, hard to put down. I was hopi...   \n",
       "20939  These concepts are important for everyone to f...   \n",
       "17568  While this was a faster paced book than usual ...   \n",
       "6420   This book's strong point, as other readers hav...   \n",
       "5051   Having read all of Patricia Cornwell's books, ...   \n",
       "5311   Did not really get lost in there book....found...   \n",
       "2433   I have never seen such a lousy printing. Indee...   \n",
       "23333  Galsworthy gives his readers a view into the t...   \n",
       "769    contineously zionest snakes spit out their poi...   \n",
       "1685   This is one of those books that leaves you fee...   \n",
       "8322   When purchasing this book/dvd combination, I w...   \n",
       "16023  great resource for anyone looking to add varie...   \n",
       "11363  Fahrenheit 451 is a book that is set in the fu...   \n",
       "14423  In my opinion it was an interesting enough boo...   \n",
       "21962  The book was a bit thinner than I thought. (Di...   \n",
       "4426   This book should be in the fiction category. I...   \n",
       "16850  This is a great tool for high schoolers as the...   \n",
       "6265   I heard about this book on Air America and tho...   \n",
       "22118  for pregnant mothers !It covers all, solve all...   \n",
       "11284  A quarter of a century late, I finally got aro...   \n",
       "11964  After thoroughly enjoying Gordon Wenham's comm...   \n",
       "21575  After reading Professor. Lundberg's book it is...   \n",
       "5390   A few years ago I read On the Road and was sur...   \n",
       "860    This is beautifully written but this does not ...   \n",
       "15795  Great project for a child with patience. Need ...   \n",
       "23654  A question that often appears in agony aunt co...   \n",
       "\n",
       "                                 model predicted summary  \n",
       "24233  Very detailed exploration into the issues of f...  \n",
       "18942  Another thing I liked in the story outweighed ...  \n",
       "8666   Very interesting, but a few pages read like an...  \n",
       "6396                                         Very useful  \n",
       "19769                 A very good book, hard to put down  \n",
       "20939                                  Very easy to read  \n",
       "17568                                        Very boring  \n",
       "6420      Very interesting, but a very interesting read.  \n",
       "5051   Patricia Cornwell's books were described incon...  \n",
       "5311                                              boring  \n",
       "2433                                 Very ordinary print  \n",
       "23333                                          Enjoyable  \n",
       "769                                           Very basic  \n",
       "1685                                          Very funny  \n",
       "8322                                         Very useful  \n",
       "16023  Great resource for anyone looking to add varie...  \n",
       "11363                                   Very interesting  \n",
       "14423                                   Very interesting  \n",
       "21962                                Very worthwhile buy  \n",
       "4426                            Another interesting book  \n",
       "16850  Great tool for high schoolers as they attempt ...  \n",
       "6265                      Why is it okay to be offended?  \n",
       "22118                                         Cute tips!  \n",
       "11284     Very interesting, but a very interesting read.  \n",
       "11964                                   Very interesting  \n",
       "21575     Very interesting, but a lesson for us all here  \n",
       "5390      Very interesting, but a very interesting read.  \n",
       "860                                   Very disappointing  \n",
       "15795            Great project for a child with patience  \n",
       "23654  Very interesting, very interesting, very inter...  "
      ]
     },
     "execution_count": 273,
     "metadata": {},
     "output_type": "execute_result"
    }
   ],
   "source": [
    "df_shuffle.tail(30)"
   ]
  },
  {
   "cell_type": "code",
   "execution_count": 247,
   "id": "730407e5",
   "metadata": {},
   "outputs": [
    {
     "data": {
      "text/html": [
       "<div>\n",
       "<style scoped>\n",
       "    .dataframe tbody tr th:only-of-type {\n",
       "        vertical-align: middle;\n",
       "    }\n",
       "\n",
       "    .dataframe tbody tr th {\n",
       "        vertical-align: top;\n",
       "    }\n",
       "\n",
       "    .dataframe thead th {\n",
       "        text-align: right;\n",
       "    }\n",
       "</style>\n",
       "<table border=\"1\" class=\"dataframe\">\n",
       "  <thead>\n",
       "    <tr style=\"text-align: right;\">\n",
       "      <th></th>\n",
       "      <th>score</th>\n",
       "      <th>summary</th>\n",
       "      <th>review</th>\n",
       "      <th>model predicted summary</th>\n",
       "    </tr>\n",
       "  </thead>\n",
       "  <tbody>\n",
       "    <tr>\n",
       "      <th>4100</th>\n",
       "      <td>1.0</td>\n",
       "      <td>wrong book</td>\n",
       "      <td>They sent me the wrong book. It was The Berens...</td>\n",
       "      <td>They sent me the wrong book</td>\n",
       "    </tr>\n",
       "    <tr>\n",
       "      <th>4101</th>\n",
       "      <td>1.0</td>\n",
       "      <td>The Only Good Thing About It Is The Title &amp;amp...</td>\n",
       "      <td>Being unnaturally obsessed with Kafka, it was ...</td>\n",
       "      <td>Very interesting</td>\n",
       "    </tr>\n",
       "    <tr>\n",
       "      <th>4102</th>\n",
       "      <td>1.0</td>\n",
       "      <td>tosses out morality and rationality.......</td>\n",
       "      <td>The Stranger is an existential story of a man ...</td>\n",
       "      <td>Very interesting read</td>\n",
       "    </tr>\n",
       "    <tr>\n",
       "      <th>4103</th>\n",
       "      <td>1.0</td>\n",
       "      <td>A horrible translation</td>\n",
       "      <td>I have read a previous translation of The Stra...</td>\n",
       "      <td>Very moving</td>\n",
       "    </tr>\n",
       "    <tr>\n",
       "      <th>4104</th>\n",
       "      <td>1.0</td>\n",
       "      <td>Do you really like existentialist atheism and ...</td>\n",
       "      <td>This book brought me a chilling and troubling ...</td>\n",
       "      <td>Another interesting read</td>\n",
       "    </tr>\n",
       "  </tbody>\n",
       "</table>\n",
       "</div>"
      ],
      "text/plain": [
       "      score                                            summary  \\\n",
       "4100    1.0                                         wrong book   \n",
       "4101    1.0  The Only Good Thing About It Is The Title &amp...   \n",
       "4102    1.0         tosses out morality and rationality.......   \n",
       "4103    1.0                             A horrible translation   \n",
       "4104    1.0  Do you really like existentialist atheism and ...   \n",
       "\n",
       "                                                 review  \\\n",
       "4100  They sent me the wrong book. It was The Berens...   \n",
       "4101  Being unnaturally obsessed with Kafka, it was ...   \n",
       "4102  The Stranger is an existential story of a man ...   \n",
       "4103  I have read a previous translation of The Stra...   \n",
       "4104  This book brought me a chilling and troubling ...   \n",
       "\n",
       "          model predicted summary  \n",
       "4100  They sent me the wrong book  \n",
       "4101             Very interesting  \n",
       "4102        Very interesting read  \n",
       "4103                  Very moving  \n",
       "4104     Another interesting read  "
      ]
     },
     "execution_count": 247,
     "metadata": {},
     "output_type": "execute_result"
    }
   ],
   "source": [
    "df[4100:4105]"
   ]
  },
  {
   "cell_type": "code",
   "execution_count": 248,
   "id": "e63d3423",
   "metadata": {},
   "outputs": [
    {
     "data": {
      "text/plain": [
       "'They sent me the wrong book. It was The Berenstain Bears, Learn About Strangers, instead of The Stranger. It was disappointing!!'"
      ]
     },
     "metadata": {},
     "output_type": "display_data"
    },
    {
     "data": {
      "text/plain": [
       "'Being unnaturally obsessed with Kafka, it was assumed by my compadres that I would also like this author, and particularly this book. How wrong they were. The plot makes no sense, the characterization is meager &amp; unconvincing, and the only poetic prose occurs on the last page as our hero (ha!) languishes in prison in the final hours before he is to be executed, wondering what it all means &amp; railing at humanity for treating him like the dog he is.'"
      ]
     },
     "metadata": {},
     "output_type": "display_data"
    },
    {
     "data": {
      "text/plain": [
       "'The Stranger is an existential story of a man living his life as a self-determing individual. He feels that nothing is truly wrong or right and therefore nothing that he does makes any difference or has any real impact except to himself. It is almost as if he is on a stage writing his life as he goes, acting it out and the rest of the universe is merely a backdrop for whatever he chooses to pursue. It is a timeless novel that tosses out morality and rationality as a means to make choices. It shows a vast emptiness, a soulessness that is overpowering in its totality. This is an amazing, insightful look at life where no matter what one does, the end will always be the same. It is interesting to note that Camus while having the belief that the universe was a cold and indifferent place, still believed in the dignity of each individual being and had a concern for their welfare. It is one of the most widely read books, but it is bleak in an eye-opening manner.'"
      ]
     },
     "metadata": {},
     "output_type": "display_data"
    },
    {
     "data": {
      "text/plain": [
       "'I have read a previous translation of The Stranger, and was deeply moved. My entire life was changed. The previous translator did Camus justice. Matthew Ward, with this translation of The Stranger, ruined the novel. Ward includes awful cliche and unintelligent description. Unfortunately this is the only translation currently in print in the US. If you are able to, please order from a forgein printer (sometimes printed under the title The Outsider) or consider searching for an out of print copy not translated by Matthew Ward.'"
      ]
     },
     "metadata": {},
     "output_type": "display_data"
    },
    {
     "data": {
      "text/plain": [
       "\"This book brought me a chilling and troubling nightmare of what it means to live without hope, which according to Camus, is a positive expression of the freedom of pushing a mute rock up a hill forever in joy as he explicates in his discursive book, The Myth of Sisyphus. But when a spiritual and religious person reads this 'fiction', she will recognize the truth that Camus' work never ceases to entrap itself in death-glorification, even, as in the final paragraph of this book, the stranger finds himself 'as having been happy and happy still', at the thought of the advent of his death, taking joy in the expectation (which, ironically, is a betrayal of Camus' conception of loss of hope as being a positive thing) of the spectacle of his death of execution and the jeers of the mob of spectators as they see him killed. The 'protagonist' of The Stranger is a cold-hearted emotionless character, and throughout this whole book of 'fiction' he turns the stomach. Read it only if you want to be that spectator of a man who willfully denies having hope, faith, and love, making a spectacle of himself for all to see, in that old literary post-modern fashion. I didnt have any kind of guidance when i first read it, someone to tell me that to read Camus was a taking part in the spectacle of a hopeless death, which again, is a good thing for him. He make take joy in hopelessness and the loss of God...Oh its such a twisted vision, one thinks. What freedom it is to rebel against freedom! How free must i be!!!! So, in all seriousness, perhaps one could read it to be more informed about hopeless and selfishly joyful atheism, but only to use your criticism available and valuable to others who are truly inquiring into what life is and what it is worth, to expose the unfortunate cowardliness of Camus, The Stranger.\""
      ]
     },
     "metadata": {},
     "output_type": "display_data"
    }
   ],
   "source": [
    "for i in df[4100:4105].review:\n",
    "    display(i)"
   ]
  },
  {
   "cell_type": "code",
   "execution_count": 249,
   "id": "17b3752b",
   "metadata": {},
   "outputs": [
    {
     "data": {
      "text/plain": [
       "'They sent me the wrong book'"
      ]
     },
     "metadata": {},
     "output_type": "display_data"
    },
    {
     "data": {
      "text/plain": [
       "'Very interesting'"
      ]
     },
     "metadata": {},
     "output_type": "display_data"
    },
    {
     "data": {
      "text/plain": [
       "'Very interesting read'"
      ]
     },
     "metadata": {},
     "output_type": "display_data"
    },
    {
     "data": {
      "text/plain": [
       "'Very moving'"
      ]
     },
     "metadata": {},
     "output_type": "display_data"
    },
    {
     "data": {
      "text/plain": [
       "'Another interesting read'"
      ]
     },
     "metadata": {},
     "output_type": "display_data"
    }
   ],
   "source": [
    "for i in df[4100:4105]['model predicted summary']:\n",
    "    display(i)"
   ]
  },
  {
   "cell_type": "code",
   "execution_count": 228,
   "id": "0b88017a",
   "metadata": {},
   "outputs": [],
   "source": [
    "df.to_csv('/Users/sviatlanamyshkavets/Documents/Courses/DS TM/Final/model_predicted_summary_train.csv', index=False)"
   ]
  },
  {
   "attachments": {},
   "cell_type": "markdown",
   "id": "f034c8d1",
   "metadata": {},
   "source": [
    "---"
   ]
  },
  {
   "cell_type": "code",
   "execution_count": 266,
   "id": "bdc96938",
   "metadata": {},
   "outputs": [
    {
     "data": {
      "text/plain": [
       "[{'summary_text': 'Accidental rockslide'}]"
      ]
     },
     "execution_count": 266,
     "metadata": {},
     "output_type": "execute_result"
    }
   ],
   "source": [
    "summarizer(\"\"\"Residents of a tiny Swiss village have all been evacuated because of the risk of an imminent rockslide.\n",
    "\n",
    "Brienz's fewer than 100 villagers were given just 48 hours to pack what they could and abandon their homes.\n",
    "\n",
    "Even the dairy cows were loaded up for departure after geologists warned a rockfall was imminent.\n",
    "\n",
    "Two million cubic metres of rock is coming loose from the mountain above, and a rockslide could obliterate the village.\n",
    "\n",
    "The development has raised questions about the safety of some mountain communities, as global warming changes the alpine environment.\n",
    "\n",
    "Brienz, in the eastern canton of Graubünden, is now empty.\n",
    "\n",
    "The village has been judged a geological risk for some time and is built on land that is subsiding down towards the valley, causing the church spire to lean and large cracks to appear in buildings.\n",
    "\n",
    "As the minutes ticked towards the deadline to leave, even Brienz's dairy cows were being taken to safety.\n",
    "\n",
    "The residents, some young, some old, families, farmers and professional couples, had two days to abandon their homes.\n",
    "\n",
    "They were asked earlier this week to evacuate the village by Friday evening.\n",
    "\n",
    "Switzerland's Alpine regions are especially sensitive to global warming - as the permafrost high in the mountains begins to thaw, the rock becomes more unstable.\n",
    "\n",
    "This particular mountain has always been unstable, but recently the rock has been shifting faster and faster.\n",
    "\n",
    "Days of heavy rain could bring two million cubic metres of loosened rock crashing down the mountainside onto the village, scientists warned.\n",
    "\n",
    "Now the villagers must wait, in temporary accommodation, for the rock to fall - and hope it misses their homes.\"\"\")"
   ]
  },
  {
   "cell_type": "code",
   "execution_count": 267,
   "id": "1e18d0a1",
   "metadata": {},
   "outputs": [
    {
     "data": {
      "text/plain": [
       "[{'summary_text': 'Very good evening. Can I start you off with some refreshing drink?'}]"
      ]
     },
     "execution_count": 267,
     "metadata": {},
     "output_type": "execute_result"
    }
   ],
   "source": [
    "summarizer(\"\"\"Waiter: Hello, good evening. Can I start you off with some refreshing drink?\n",
    "\n",
    "Rana: Yes. I’ll have iced tea, please.\n",
    "\n",
    "Amal: And I’ll have a chocolate cold coffee.\n",
    "\n",
    "Waiter: Ok. Should I take your order now, or do you need a few minutes more?\n",
    "\n",
    "Rana: No no we are ready, you can take the order. I’ll have the corn mushroom soup to start, and the grilled chicken with mashed potatoes and peas. And, please also bring a bowl of garlic rice.\n",
    "\n",
    "Waiter: Sure sir. How do you want the chicken— low spicy, medium, or high on spice?\n",
    "\n",
    "Rana: Medium spice, please.\n",
    "\n",
    "Amal: And I’ll just have the beef, with bread and a salad.\"\"\")"
   ]
  }
 ],
 "metadata": {
  "kernelspec": {
   "display_name": "Python 3 (ipykernel)",
   "language": "python",
   "name": "python3"
  },
  "language_info": {
   "codemirror_mode": {
    "name": "ipython",
    "version": 3
   },
   "file_extension": ".py",
   "mimetype": "text/x-python",
   "name": "python",
   "nbconvert_exporter": "python",
   "pygments_lexer": "ipython3",
   "version": "3.9.16"
  }
 },
 "nbformat": 4,
 "nbformat_minor": 5
}
