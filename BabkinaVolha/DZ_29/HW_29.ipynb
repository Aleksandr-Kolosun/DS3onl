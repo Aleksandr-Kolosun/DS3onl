{
 "cells": [
  {
   "cell_type": "markdown",
   "id": "a51e3c1e",
   "metadata": {},
   "source": [
    "Выполнить классификацию ттвитов из предоставленного набора данных с использованием рекурентных нейронных сетей по 4 классам.\n",
    "При работе использовать пример example_attenchion.ipnyb  "
   ]
  },
  {
   "cell_type": "code",
   "execution_count": 1,
   "id": "e821ba19",
   "metadata": {},
   "outputs": [
    {
     "name": "stderr",
     "output_type": "stream",
     "text": [
      "[nltk_data] Downloading package stopwords to\n",
      "[nltk_data]     C:\\Users\\User\\AppData\\Roaming\\nltk_data...\n",
      "[nltk_data]   Package stopwords is already up-to-date!\n",
      "[nltk_data] Downloading package wordnet to\n",
      "[nltk_data]     C:\\Users\\User\\AppData\\Roaming\\nltk_data...\n",
      "[nltk_data]   Package wordnet is already up-to-date!\n",
      "[nltk_data] Downloading package omw-1.4 to\n",
      "[nltk_data]     C:\\Users\\User\\AppData\\Roaming\\nltk_data...\n",
      "[nltk_data]   Package omw-1.4 is already up-to-date!\n"
     ]
    }
   ],
   "source": [
    "import pandas as pd\n",
    "from matplotlib import pyplot as plt\n",
    "import numpy as np\n",
    "import tensorflow as tf\n",
    "from tensorflow import keras\n",
    "from keras.utils import to_categorical\n",
    "from keras.preprocessing.text import Tokenizer\n",
    "from keras.utils import pad_sequences\n",
    "from keras import models\n",
    "from keras import Sequential\n",
    "from keras import layers\n",
    "from keras.callbacks import ModelCheckpoint\n",
    "from keras import optimizers\n",
    "from keras.metrics import AUC\n",
    "from keras.regularizers import L1\n",
    "import nltk\n",
    "nltk.download('stopwords')\n",
    "nltk.download('wordnet')\n",
    "nltk.download('omw-1.4')\n",
    "from nltk.corpus import stopwords\n",
    "from nltk.stem import WordNetLemmatizer\n",
    "from bs4 import BeautifulSoup \n",
    "import re\n",
    "import string\n",
    "import emoji\n",
    "from sklearn.preprocessing import LabelEncoder\n",
    "\n",
    "#максимальное количество слов в твите\n",
    "TEXT_MAX_LEN = 128\n",
    "#количество наиболее часто используемых слов\n",
    "TEXT_MAX_WORDS = 27000\n",
    "RANDOM_STATE = 42"
   ]
  },
  {
   "cell_type": "code",
   "execution_count": 2,
   "id": "d0f7b00d",
   "metadata": {},
   "outputs": [],
   "source": [
    "colnames=['ID', 'Social network', 'Sentiment', 'Text'] \n",
    "\n",
    "df_train = pd.read_csv('twitter_training.csv', names=colnames, header=None)\n",
    "\n",
    "df_val = pd.read_csv('twitter_validation.csv', names=colnames, header=None)\n",
    "\n",
    "df_train['Text'] = df_train['Text'].astype(str)\n",
    "df_val['Text'] = df_val['Text'].astype(str)"
   ]
  },
  {
   "cell_type": "markdown",
   "id": "11ad829e",
   "metadata": {},
   "source": [
    "Объявляем функцию для очистки датасетов"
   ]
  },
  {
   "cell_type": "code",
   "execution_count": 3,
   "id": "81b2740b",
   "metadata": {},
   "outputs": [],
   "source": [
    "STOPWORDS = stopwords.words(\"english\")\n",
    "STOPWORDS.remove('not')\n",
    "STOPWORDS.remove('no')\n",
    "\n",
    "def clean_data(tweet):\n",
    "    #приводим к нижнему регистру\n",
    "    tweet = tweet.lower() \n",
    "    #убираем значение <unk>, которое встречается в некоторых строках\n",
    "    tweet = tweet.replace(\"<unk>\", \"\")\n",
    "    #убираем ссылки, знаки препинания и прочие символы\n",
    "    tweet = re.sub(r\"(?:\\@|http?\\://|https?\\://|www)\\S+\", \"\", tweet)\n",
    "    tweet = re.sub(r'[^\\w\\s]', '', tweet) \n",
    "    tweet = ''.join (c for c in tweet if c not in string.digits)  #убираем все символы, которые относятся к цифрам\n",
    "    #убираем эмодзи, знаки пунктуации и стоп-слова\n",
    "    tweet = ' '.join(c for c in tweet.split() if emoji.is_emoji(c)==False  \n",
    "                                    and c not in string.punctuation \n",
    "                                    and c not in STOPWORDS)\n",
    "    tweet = tweet.replace(\"#\", \"\").replace(\"_\", \" \").replace(\"pm\",\"\") \n",
    "    return tweet"
   ]
  },
  {
   "cell_type": "code",
   "execution_count": 4,
   "id": "4d78c184",
   "metadata": {},
   "outputs": [],
   "source": [
    "df_train['Cleaned_Text'] = df_train['Text'].apply(lambda x:clean_data(x))\n",
    "df_val['Cleaned_Text'] = df_val['Text'].apply(lambda x:clean_data(x))"
   ]
  },
  {
   "cell_type": "code",
   "execution_count": 5,
   "id": "83d62aa2",
   "metadata": {},
   "outputs": [],
   "source": [
    "labeles = LabelEncoder()\n",
    "train_labels = to_categorical(labeles.fit_transform(df_train['Sentiment']), num_classes=4)\n",
    "test_labels = to_categorical(labeles.transform(df_val['Sentiment']), num_classes=4)"
   ]
  },
  {
   "cell_type": "code",
   "execution_count": 6,
   "id": "916cffb8",
   "metadata": {},
   "outputs": [],
   "source": [
    "tokenizer = Tokenizer (num_words=20000,\n",
    "                       lower = True,\n",
    "                       split = ' ',\n",
    "                       char_level=False)\n",
    "tokenizer.fit_on_texts(df_train['Cleaned_Text'])\n",
    "\n",
    "data = tokenizer.texts_to_sequences(df_train['Cleaned_Text'])\n",
    "data_pad = pad_sequences (data, maxlen=TEXT_MAX_LEN)"
   ]
  },
  {
   "cell_type": "code",
   "execution_count": 7,
   "id": "35230ebd",
   "metadata": {},
   "outputs": [],
   "source": [
    "#перемешиваем данные\n",
    "indices = np.arange(data_pad.shape[0])    # перемешиваем данные\n",
    "np.random.shuffle(indices)\n",
    "X = data_pad[indices]\n",
    "y = train_labels[indices]\n",
    "\n",
    "#делаем тренировочную и валидационную выборки\n",
    "X_train = X[:60000]; X_val = X[60000:]\n",
    "y_train = y[:60000]; y_val = y[60000:]"
   ]
  },
  {
   "cell_type": "code",
   "execution_count": 8,
   "id": "89049b03",
   "metadata": {},
   "outputs": [],
   "source": [
    "data_test = tokenizer.texts_to_sequences(df_val['Cleaned_Text'])\n",
    "data_test_pad = pad_sequences (data_test, maxlen = TEXT_MAX_LEN)"
   ]
  },
  {
   "cell_type": "code",
   "execution_count": 9,
   "id": "8ded5f0c",
   "metadata": {},
   "outputs": [],
   "source": [
    "X_test = data_test_pad\n",
    "y_test = test_labels"
   ]
  },
  {
   "cell_type": "code",
   "execution_count": 10,
   "id": "1c4727b8",
   "metadata": {},
   "outputs": [],
   "source": [
    "def build_model():\n",
    "  model = Sequential()\n",
    "  model.add(layers.Embedding(input_dim=TEXT_MAX_WORDS, output_dim=128))\n",
    "  model.add(layers.Bidirectional(layers.LSTM(units=128, return_sequences=True)))\n",
    "  model.add(layers.Bidirectional(layers.LSTM(units=64)))   # LSTM(16, recurrent_dropout=0.2))\n",
    "  model.add(layers.Dropout(0.5))\n",
    "  model.add(layers.Dense(units=128, activation='relu'))  # , kernel_regularizer=L1(0.01)\n",
    "  model.add(layers.Dropout(0.5))\n",
    "  model.add(layers.Dense(4, activation='softmax'))\n",
    "\n",
    "  return model"
   ]
  },
  {
   "cell_type": "code",
   "execution_count": 11,
   "id": "632f0e59",
   "metadata": {},
   "outputs": [
    {
     "name": "stdout",
     "output_type": "stream",
     "text": [
      "Model: \"sequential\"\n",
      "_________________________________________________________________\n",
      " Layer (type)                Output Shape              Param #   \n",
      "=================================================================\n",
      " embedding (Embedding)       (None, None, 128)         3456000   \n",
      "                                                                 \n",
      " gru (GRU)                   (None, None, 128)         99072     \n",
      "                                                                 \n",
      " gru_1 (GRU)                 (None, 128)               99072     \n",
      "                                                                 \n",
      " dropout (Dropout)           (None, 128)               0         \n",
      "                                                                 \n",
      " dense (Dense)               (None, 1024)              132096    \n",
      "                                                                 \n",
      " dense_1 (Dense)             (None, 4)                 4100      \n",
      "                                                                 \n",
      "=================================================================\n",
      "Total params: 3,790,340\n",
      "Trainable params: 3,790,340\n",
      "Non-trainable params: 0\n",
      "_________________________________________________________________\n"
     ]
    }
   ],
   "source": [
    "keras.backend.clear_session()\n",
    "tf.random.set_seed(RANDOM_STATE)\n",
    "\n",
    "model = keras.models.Sequential([\n",
    "    keras.layers.Embedding(input_dim=TEXT_MAX_WORDS, output_dim=TEXT_MAX_LEN),\n",
    "    keras.layers.GRU(units=128, return_sequences=True),\n",
    "    keras.layers.GRU(units=128),\n",
    "    keras.layers.Dropout(0.5),\n",
    "    \n",
    "    keras.layers.Dense(1024, kernel_initializer='he_normal', activation='ReLU'),\n",
    "    \n",
    "    keras.layers.Dense(4, activation='softmax')\n",
    "])\n",
    "\n",
    "model.compile(loss= 'categorical_crossentropy', \n",
    "              optimizer=keras.optimizers.Nadam(learning_rate=0.01), \n",
    "              metrics= ['accuracy'])\n",
    "\n",
    "callbacks = [\n",
    "    tf.keras.callbacks.EarlyStopping(\n",
    "        monitor='val_accuracy',\n",
    "        min_delta=1e-4,\n",
    "        patience=10,\n",
    "        verbose=1\n",
    "    ),\n",
    "    tf.keras.callbacks.ReduceLROnPlateau(\n",
    "        #monitor='val_accuracy',\n",
    "        factor=0.2,\n",
    "        patience=2\n",
    "    ),\n",
    "    tf.keras.callbacks.ModelCheckpoint(\n",
    "        'keras_LSTM_model.h5',\n",
    "        monitor = 'val_loss',\n",
    "        save_Best_only=True\n",
    "    )\n",
    "]\n",
    "\n",
    "model.summary()"
   ]
  },
  {
   "cell_type": "code",
   "execution_count": 12,
   "id": "9fe97ca3",
   "metadata": {},
   "outputs": [
    {
     "name": "stdout",
     "output_type": "stream",
     "text": [
      "Epoch 1/20\n",
      "59/59 [==============================] - 189s 3s/step - loss: 1.1715 - accuracy: 0.5000 - val_loss: 0.8248 - val_accuracy: 0.6833 - lr: 0.0100\n",
      "Epoch 2/20\n",
      "59/59 [==============================] - 182s 3s/step - loss: 0.5916 - accuracy: 0.7826 - val_loss: 0.5082 - val_accuracy: 0.8122 - lr: 0.0100\n",
      "Epoch 3/20\n",
      "59/59 [==============================] - 206s 4s/step - loss: 0.3244 - accuracy: 0.8796 - val_loss: 0.4575 - val_accuracy: 0.8347 - lr: 0.0100\n",
      "Epoch 4/20\n",
      "59/59 [==============================] - 62s 1s/step - loss: 0.2336 - accuracy: 0.9085 - val_loss: 0.5202 - val_accuracy: 0.8300 - lr: 0.0100\n",
      "Epoch 5/20\n",
      "59/59 [==============================] - 62s 1s/step - loss: 0.1957 - accuracy: 0.9230 - val_loss: 0.4859 - val_accuracy: 0.8432 - lr: 0.0100\n",
      "Epoch 6/20\n",
      "59/59 [==============================] - 64s 1s/step - loss: 0.1393 - accuracy: 0.9431 - val_loss: 0.5327 - val_accuracy: 0.8565 - lr: 0.0020\n",
      "Epoch 7/20\n",
      "59/59 [==============================] - 63s 1s/step - loss: 0.1169 - accuracy: 0.9509 - val_loss: 0.5876 - val_accuracy: 0.8557 - lr: 0.0020\n",
      "Epoch 8/20\n",
      "59/59 [==============================] - 63s 1s/step - loss: 0.1063 - accuracy: 0.9542 - val_loss: 0.6190 - val_accuracy: 0.8566 - lr: 4.0000e-04\n",
      "Epoch 9/20\n",
      "59/59 [==============================] - 62s 1s/step - loss: 0.1039 - accuracy: 0.9549 - val_loss: 0.6427 - val_accuracy: 0.8568 - lr: 4.0000e-04\n",
      "Epoch 10/20\n",
      "59/59 [==============================] - 62s 1s/step - loss: 0.1023 - accuracy: 0.9552 - val_loss: 0.6484 - val_accuracy: 0.8565 - lr: 8.0000e-05\n",
      "Epoch 11/20\n",
      "59/59 [==============================] - 61s 1s/step - loss: 0.1015 - accuracy: 0.9550 - val_loss: 0.6541 - val_accuracy: 0.8563 - lr: 8.0000e-05\n",
      "Epoch 12/20\n",
      "59/59 [==============================] - 61s 1s/step - loss: 0.1011 - accuracy: 0.9555 - val_loss: 0.6552 - val_accuracy: 0.8563 - lr: 1.6000e-05\n",
      "Epoch 13/20\n",
      "59/59 [==============================] - 62s 1s/step - loss: 0.1010 - accuracy: 0.9555 - val_loss: 0.6565 - val_accuracy: 0.8563 - lr: 1.6000e-05\n",
      "Epoch 14/20\n",
      "59/59 [==============================] - 63s 1s/step - loss: 0.1004 - accuracy: 0.9557 - val_loss: 0.6568 - val_accuracy: 0.8564 - lr: 3.2000e-06\n",
      "Epoch 15/20\n",
      "59/59 [==============================] - 62s 1s/step - loss: 0.1008 - accuracy: 0.9556 - val_loss: 0.6571 - val_accuracy: 0.8564 - lr: 3.2000e-06\n",
      "Epoch 16/20\n",
      "59/59 [==============================] - 61s 1s/step - loss: 0.1009 - accuracy: 0.9553 - val_loss: 0.6571 - val_accuracy: 0.8564 - lr: 6.4000e-07\n",
      "Epoch 17/20\n",
      "59/59 [==============================] - 62s 1s/step - loss: 0.1008 - accuracy: 0.9560 - val_loss: 0.6572 - val_accuracy: 0.8564 - lr: 6.4000e-07\n",
      "Epoch 18/20\n",
      "59/59 [==============================] - 62s 1s/step - loss: 0.1005 - accuracy: 0.9558 - val_loss: 0.6572 - val_accuracy: 0.8564 - lr: 1.2800e-07\n",
      "Epoch 19/20\n",
      "59/59 [==============================] - 62s 1s/step - loss: 0.1013 - accuracy: 0.9552 - val_loss: 0.6572 - val_accuracy: 0.8564 - lr: 1.2800e-07\n",
      "Epoch 19: early stopping\n",
      "\n",
      "Model history:\n",
      "dict_keys(['loss', 'accuracy', 'val_loss', 'val_accuracy', 'lr'])\n"
     ]
    }
   ],
   "source": [
    "history = model.fit (X_train, y_train, \n",
    "                     batch_size=1024, \n",
    "                     epochs=20,\n",
    "                     validation_data = (X_val, y_val),\n",
    "                     callbacks=callbacks)\n",
    "\n",
    "print('\\nModel history:') \n",
    "print(history.history.keys())"
   ]
  },
  {
   "cell_type": "code",
   "execution_count": 13,
   "id": "1b88fbcc",
   "metadata": {},
   "outputs": [
    {
     "name": "stdout",
     "output_type": "stream",
     "text": [
      "Метрики на тестовых данных:\n",
      "32/32 [==============================] - 1s 37ms/step - loss: 0.4114 - accuracy: 0.9310\n"
     ]
    },
    {
     "data": {
      "text/plain": [
       "[0.41135045886039734, 0.9309999942779541]"
      ]
     },
     "execution_count": 13,
     "metadata": {},
     "output_type": "execute_result"
    }
   ],
   "source": [
    "print('Метрики на тестовых данных:')\n",
    "model.evaluate(X_test, y_test)"
   ]
  },
  {
   "cell_type": "code",
   "execution_count": 16,
   "id": "7814c80c",
   "metadata": {},
   "outputs": [
    {
     "data": {
      "image/png": "[encoded data removed]",
      "text/plain": [
       "<Figure size 640x480 with 1 Axes>"
      ]
     },
     "metadata": {},
     "output_type": "display_data"
    }
   ],
   "source": [
    "plt.plot(history.history['accuracy'], label='Точность на обучающем наборе')\n",
    "plt.plot(\n",
    "    history.history['val_accuracy'], label='Точность на проверочном наборе')\n",
    "plt.xlabel('Цикл обучения')\n",
    "plt.ylabel('Точность')\n",
    "plt.legend()\n",
    "plt.show()\n",
    "pass;"
   ]
  },
  {
   "cell_type": "code",
   "execution_count": null,
   "id": "9afcfc72",
   "metadata": {},
   "outputs": [],
   "source": []
  }
 ],
 "metadata": {
  "kernelspec": {
   "display_name": "Python 3 (ipykernel)",
   "language": "python",
   "name": "python3"
  },
  "language_info": {
   "codemirror_mode": {
    "name": "ipython",
    "version": 3
   },
   "file_extension": ".py",
   "mimetype": "text/x-python",
   "name": "python",
   "nbconvert_exporter": "python",
   "pygments_lexer": "ipython3",
   "version": "3.9.15"
  }
 },
 "nbformat": 4,
 "nbformat_minor": 5
}
