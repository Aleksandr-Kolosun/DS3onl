{
  "cells": [
    {
      "cell_type": "markdown",
      "metadata": {
        "id": "oihm7FvH4VzQ"
      },
      "source": [
        "Проект Бернатович Е.Ю. 22.05.2023\n",
        "Цель проекта: сгенерировать текст с помощью предварительно обученных моделей RuGPTs. \n",
        "\n",
        "Дообучаем 4 модели на фейковых данных. \n",
        "\n",
        "sberbank-ai/rugpt2large\n",
        "\n",
        "sberbank-ai/rugpt3small_based_on_gpt2\n",
        "\n",
        "sberbank-ai/rugpt3medium_based_on_gpt2\n",
        "\n",
        "sberbank-ai/rugpt3large_based_on_gpt2 \n",
        "\n",
        "Все модели являются разными вариантами моделей, разработанных командой Sberbank AI в рамках проекта RuGPT. Они основаны на архитектуре GPT-2.\n",
        "\n"
      ]
    },
    {
      "cell_type": "markdown",
      "source": [
        "Краткое описание каждой из моделей:\n",
        "\n",
        "sberbank-ai/rugpt2large:\n",
        "\n",
        "Описание: Эта модель основана на архитектуре GPT-2 и является одной из самых крупных моделей RuGPT. Она обучена на большом корпусе русскоязычных текстов и содержит 1,5 миллиарда параметров.\n",
        "Особенности: Мощная и способная генерировать качественные тексты на русском языке. Может использоваться для различных задач обработки естественного языка, таких как генерация текста, ответы на вопросы, перевод и т. д.\n",
        "\n",
        "\n",
        "sberbank-ai/rugpt3small_based_on_gpt2:\n",
        "\n",
        "Описание: Эта модель также основана на архитектуре GPT-2, но включает улучшения и оптимизации, которые повышают качество генерируемых текстов.\n",
        "Особенности: Более компактная и быстрее работает, чем sberbank-ai/rugpt2large. Возможность генерировать связные и информативные тексты на русском языке.\n",
        "\n",
        "\n",
        "sberbank-ai/rugpt3medium_based_on_gpt2:\n",
        "\n",
        "Описание: Эта модель также основана на архитектуре GPT-2, но имеет больший размер и больше параметров, чем sberbank-ai/rugpt3small_based_on_gpt2.\n",
        "Особенности: Способность генерировать более длинные и содержательные тексты на русском языке. Обладает хорошим качеством генерации и понимания контекста.\n",
        "\n",
        "\n",
        "sberbank-ai/rugpt3large_based_on_gpt2:\n",
        "\n",
        "Описание: Эта модель также основана на архитектуре GPT-2 и является наиболее крупной моделью среди перечисленных. Она имеет больше параметров и обладает высокой мощностью для генерации текстов различной сложности.\n",
        "Особенности: Высокая способность генерировать сложные и информативные тексты на русском языке. Может использоваться для широкого спектра задач обработки естественного языка."
      ],
      "metadata": {
        "id": "zAQudjHahdiw"
      }
    },
    {
      "cell_type": "code",
      "execution_count": 1,
      "metadata": {
        "colab": {
          "base_uri": "https://localhost:8080/"
        },
        "id": "H73-Pizb6c8n",
        "outputId": "ae2c3df8-288e-4859-f46f-fff3508f9dbf"
      },
      "outputs": [
        {
          "output_type": "stream",
          "name": "stdout",
          "text": [
            "Looking in indexes: https://pypi.org/simple, https://us-python.pkg.dev/colab-wheels/public/simple/\n",
            "Requirement already satisfied: transformers in /usr/local/lib/python3.10/dist-packages (4.29.2)\n",
            "Requirement already satisfied: filelock in /usr/local/lib/python3.10/dist-packages (from transformers) (3.12.0)\n",
            "Requirement already satisfied: huggingface-hub<1.0,>=0.14.1 in /usr/local/lib/python3.10/dist-packages (from transformers) (0.14.1)\n",
            "Requirement already satisfied: numpy>=1.17 in /usr/local/lib/python3.10/dist-packages (from transformers) (1.22.4)\n",
            "Requirement already satisfied: packaging>=20.0 in /usr/local/lib/python3.10/dist-packages (from transformers) (23.1)\n",
            "Requirement already satisfied: pyyaml>=5.1 in /usr/local/lib/python3.10/dist-packages (from transformers) (6.0)\n",
            "Requirement already satisfied: regex!=2019.12.17 in /usr/local/lib/python3.10/dist-packages (from transformers) (2022.10.31)\n",
            "Requirement already satisfied: requests in /usr/local/lib/python3.10/dist-packages (from transformers) (2.27.1)\n",
            "Requirement already satisfied: tokenizers!=0.11.3,<0.14,>=0.11.1 in /usr/local/lib/python3.10/dist-packages (from transformers) (0.13.3)\n",
            "Requirement already satisfied: tqdm>=4.27 in /usr/local/lib/python3.10/dist-packages (from transformers) (4.65.0)\n",
            "Requirement already satisfied: fsspec in /usr/local/lib/python3.10/dist-packages (from huggingface-hub<1.0,>=0.14.1->transformers) (2023.4.0)\n",
            "Requirement already satisfied: typing-extensions>=3.7.4.3 in /usr/local/lib/python3.10/dist-packages (from huggingface-hub<1.0,>=0.14.1->transformers) (4.5.0)\n",
            "Requirement already satisfied: urllib3<1.27,>=1.21.1 in /usr/local/lib/python3.10/dist-packages (from requests->transformers) (1.26.15)\n",
            "Requirement already satisfied: certifi>=2017.4.17 in /usr/local/lib/python3.10/dist-packages (from requests->transformers) (2022.12.7)\n",
            "Requirement already satisfied: charset-normalizer~=2.0.0 in /usr/local/lib/python3.10/dist-packages (from requests->transformers) (2.0.12)\n",
            "Requirement already satisfied: idna<4,>=2.5 in /usr/local/lib/python3.10/dist-packages (from requests->transformers) (3.4)\n"
          ]
        }
      ],
      "source": [
        "!pip3 install transformers"
      ]
    },
    {
      "cell_type": "code",
      "execution_count": 2,
      "metadata": {
        "id": "EBvyeCDDUGYh"
      },
      "outputs": [],
      "source": [
        "import torch\n"
      ]
    },
    {
      "cell_type": "markdown",
      "metadata": {
        "id": "QvgntLymArg3"
      },
      "source": [
        "## Generate"
      ]
    },
    {
      "cell_type": "code",
      "execution_count": 3,
      "metadata": {
        "id": "AkUrzKsy_16F"
      },
      "outputs": [],
      "source": [
        "from transformers import GPT2LMHeadModel, GPT2Tokenizer"
      ]
    },
    {
      "cell_type": "code",
      "execution_count": 4,
      "metadata": {
        "id": "tV7tt-t2FQc3"
      },
      "outputs": [],
      "source": [
        "#Функция для загрузки токенизатора и языковой модели, использует библиотеку transformers от Hugging Face для работы с моделями на основе трансформеров \n",
        "def load_tokenizer_and_model(model_name_or_path): \n",
        "  return GPT2Tokenizer.from_pretrained(model_name_or_path), GPT2LMHeadModel.from_pretrained(model_name_or_path).cuda()\n",
        "\n",
        "#Функция используется для генерации текста с помощью предварительно загруженной модели,\n",
        "#принимает входные аргументы: model (загруженная модель), tok (загруженный токенизатор), text (исходный текст, на основе которого будет генерироваться продолжение),\n",
        "#а также различные параметры для настройки генерации,\n",
        "def generate(\n",
        "    model, tok, text,\n",
        "    do_sample=True, max_length=50, repetition_penalty=5.0,\n",
        "    top_k=5, top_p=0.95, temperature=1,\n",
        "    num_beams=None,\n",
        "    no_repeat_ngram_size=3\n",
        "    ):\n",
        "  input_ids = tok.encode(text, return_tensors=\"pt\").cuda()\n",
        "  out = model.generate(\n",
        "      input_ids.cuda(),\n",
        "      max_length=max_length,\n",
        "      repetition_penalty=repetition_penalty,\n",
        "      do_sample=do_sample,\n",
        "      top_k=top_k, top_p=top_p, temperature=temperature,\n",
        "      num_beams=num_beams, no_repeat_ngram_size=no_repeat_ngram_size\n",
        "      )\n",
        "  return list(map(tok.decode, out))"
      ]
    },
    {
      "cell_type": "markdown",
      "source": [
        "Рассмотрим наши 4 модели."
      ],
      "metadata": {
        "id": "xS3CzvDwj-EL"
      }
    },
    {
      "cell_type": "markdown",
      "metadata": {
        "id": "7sPySei8FO_r"
      },
      "source": [
        "### RuGPT2Large"
      ]
    },
    {
      "cell_type": "code",
      "execution_count": 5,
      "metadata": {
        "colab": {
          "base_uri": "https://localhost:8080/",
          "height": 87
        },
        "id": "x_EMbgO0BTvb",
        "outputId": "2fb3b32f-3510-4db6-e5a4-53033e9a8ab6"
      },
      "outputs": [
        {
          "output_type": "stream",
          "name": "stderr",
          "text": [
            "The attention mask and the pad token id were not set. As a consequence, you may observe unexpected behavior. Please pass your input's `attention_mask` to obtain reliable results.\n",
            "Setting `pad_token_id` to `eos_token_id`:50256 for open-end generation.\n"
          ]
        },
        {
          "output_type": "execute_result",
          "data": {
            "text/plain": [
              "'Александр Сергеевич Пушкин родился в \\n1812 году. В 1826 году окончил Царскосельскую лицейскую гимназию и поступил на историко-филологический факультет Петербургского университета, но вскоре был исключен за участие в студенческих беспорядках'"
            ],
            "application/vnd.google.colaboratory.intrinsic+json": {
              "type": "string"
            }
          },
          "metadata": {},
          "execution_count": 5
        }
      ],
      "source": [
        "tok, model = load_tokenizer_and_model(\"sberbank-ai/rugpt2large\")\n",
        "generated = generate(model, tok, \"Александр Сергеевич Пушкин родился в \", num_beams=10)\n",
        "generated[0]"
      ]
    },
    {
      "cell_type": "markdown",
      "metadata": {
        "id": "F4X-d7fIIZFC"
      },
      "source": [
        "### RuGPT3Small"
      ]
    },
    {
      "cell_type": "code",
      "execution_count": 6,
      "metadata": {
        "colab": {
          "base_uri": "https://localhost:8080/"
        },
        "id": "24oUrAfBIk6G",
        "outputId": "154995b5-e1a2-41d9-972b-1e2e84614c7e"
      },
      "outputs": [
        {
          "output_type": "stream",
          "name": "stderr",
          "text": [
            "The attention mask and the pad token id were not set. As a consequence, you may observe unexpected behavior. Please pass your input's `attention_mask` to obtain reliable results.\n",
            "Setting `pad_token_id` to `eos_token_id`:50256 for open-end generation.\n"
          ]
        }
      ],
      "source": [
        "tok, model = load_tokenizer_and_model(\"sberbank-ai/rugpt3small_based_on_gpt2\")\n",
        "generated = generate(model, tok, \"Александр Сергеевич Пушкин родился в \", num_beams=10)"
      ]
    },
    {
      "cell_type": "code",
      "execution_count": 7,
      "metadata": {
        "colab": {
          "base_uri": "https://localhost:8080/",
          "height": 53
        },
        "id": "SGTZin-JIu_N",
        "outputId": "61a0fec6-0f9f-469b-9131-5b777163d10b"
      },
      "outputs": [
        {
          "output_type": "execute_result",
          "data": {
            "text/plain": [
              "'Александр Сергеевич Пушкин родился в  1825 г. в семье поэта Александра Сергеевича Пушкина и графини А.С.Пушкиной (урожденной Пушкиных). Его отец, Александр Сергеевич Пушкин, происходил из дворянского рода Вяземских'"
            ],
            "application/vnd.google.colaboratory.intrinsic+json": {
              "type": "string"
            }
          },
          "metadata": {},
          "execution_count": 7
        }
      ],
      "source": [
        "generated[0]"
      ]
    },
    {
      "cell_type": "markdown",
      "metadata": {
        "id": "GHrO9tovIyyj"
      },
      "source": [
        "### RuGPT3Medium"
      ]
    },
    {
      "cell_type": "code",
      "execution_count": 8,
      "metadata": {
        "colab": {
          "base_uri": "https://localhost:8080/"
        },
        "id": "2MVyT8zAIyys",
        "outputId": "ff05b6ce-bd5b-40f0-c73b-d201725c8bf2"
      },
      "outputs": [
        {
          "output_type": "stream",
          "name": "stderr",
          "text": [
            "The attention mask and the pad token id were not set. As a consequence, you may observe unexpected behavior. Please pass your input's `attention_mask` to obtain reliable results.\n",
            "Setting `pad_token_id` to `eos_token_id`:50256 for open-end generation.\n"
          ]
        }
      ],
      "source": [
        "tok, model = load_tokenizer_and_model(\"sberbank-ai/rugpt3medium_based_on_gpt2\")\n",
        "generated = generate(model, tok, \"Александр Сергеевич Пушкин родился в \", num_beams=10)"
      ]
    },
    {
      "cell_type": "code",
      "execution_count": 9,
      "metadata": {
        "colab": {
          "base_uri": "https://localhost:8080/",
          "height": 35
        },
        "id": "W3SWmttlJHF7",
        "outputId": "61300611-616d-4c20-926a-fc4c6e715fe3"
      },
      "outputs": [
        {
          "output_type": "execute_result",
          "data": {
            "text/plain": [
              "'Александр Сергеевич Пушкин родился в  1799 году. Его отец, генерал-аншеф А. С. Пушкин, был женат на княжне Екатерине Михайловне Волконской и имел от нее двух сыновей: Александра (1800–18'"
            ],
            "application/vnd.google.colaboratory.intrinsic+json": {
              "type": "string"
            }
          },
          "metadata": {},
          "execution_count": 9
        }
      ],
      "source": [
        "generated[0]"
      ]
    },
    {
      "cell_type": "markdown",
      "metadata": {
        "id": "HnU-9k3dIzfy"
      },
      "source": [
        "### RuGPT3Large"
      ]
    },
    {
      "cell_type": "code",
      "execution_count": 10,
      "metadata": {
        "colab": {
          "base_uri": "https://localhost:8080/"
        },
        "id": "Z14U66yuIzfz",
        "outputId": "007dc9a3-eb55-48fd-8616-3b763a67ebec"
      },
      "outputs": [
        {
          "output_type": "stream",
          "name": "stderr",
          "text": [
            "The attention mask and the pad token id were not set. As a consequence, you may observe unexpected behavior. Please pass your input's `attention_mask` to obtain reliable results.\n",
            "Setting `pad_token_id` to `eos_token_id`:50256 for open-end generation.\n"
          ]
        }
      ],
      "source": [
        "tok, model = load_tokenizer_and_model(\"sberbank-ai/rugpt3large_based_on_gpt2\")\n",
        "generated = generate(model, tok, \"Александр Сергеевич Пушкин родился в \", num_beams=10)"
      ]
    },
    {
      "cell_type": "code",
      "execution_count": 11,
      "metadata": {
        "colab": {
          "base_uri": "https://localhost:8080/",
          "height": 53
        },
        "id": "VFuy-V2xJmwu",
        "outputId": "cbb78c09-9b1e-4211-d865-5e13c7539d5f"
      },
      "outputs": [
        {
          "output_type": "execute_result",
          "data": {
            "text/plain": [
              "'Александр Сергеевич Пушкин родился в \\n1799 году. Его отец, Александр Сергеевич (1769-1837), был генерал-губернатором Санкт-Петербурга и главнокомандующим русской армией во время войны с Турцией 1828-1829 годов.'"
            ],
            "application/vnd.google.colaboratory.intrinsic+json": {
              "type": "string"
            }
          },
          "metadata": {},
          "execution_count": 11
        }
      ],
      "source": [
        "generated[0]"
      ]
    },
    {
      "cell_type": "code",
      "execution_count": 12,
      "metadata": {
        "id": "j0Pe9JTf0g4v"
      },
      "outputs": [],
      "source": [
        "from google.colab import files\n"
      ]
    },
    {
      "cell_type": "code",
      "execution_count": 13,
      "metadata": {
        "id": "dvCy0GKV0g9x",
        "colab": {
          "base_uri": "https://localhost:8080/",
          "height": 73
        },
        "outputId": "2a6bf167-977f-431c-9f49-ebce6d5d70cb"
      },
      "outputs": [
        {
          "output_type": "display_data",
          "data": {
            "text/plain": [
              "<IPython.core.display.HTML object>"
            ],
            "text/html": [
              "\n",
              "     <input type=\"file\" id=\"files-5588ae88-25f0-4e9d-9653-87169ec86b11\" name=\"files[]\" multiple disabled\n",
              "        style=\"border:none\" />\n",
              "     <output id=\"result-5588ae88-25f0-4e9d-9653-87169ec86b11\">\n",
              "      Upload widget is only available when the cell has been executed in the\n",
              "      current browser session. Please rerun this cell to enable.\n",
              "      </output>\n",
              "      <script>// Copyright 2017 Google LLC\n",
              "//\n",
              "// Licensed under the Apache License, Version 2.0 (the \"License\");\n",
              "// you may not use this file except in compliance with the License.\n",
              "// You may obtain a copy of the License at\n",
              "//\n",
              "//      http://www.apache.org/licenses/LICENSE-2.0\n",
              "//\n",
              "// Unless required by applicable law or agreed to in writing, software\n",
              "// distributed under the License is distributed on an \"AS IS\" BASIS,\n",
              "// WITHOUT WARRANTIES OR CONDITIONS OF ANY KIND, either express or implied.\n",
              "// See the License for the specific language governing permissions and\n",
              "// limitations under the License.\n",
              "\n",
              "/**\n",
              " * @fileoverview Helpers for google.colab Python module.\n",
              " */\n",
              "(function(scope) {\n",
              "function span(text, styleAttributes = {}) {\n",
              "  const element = document.createElement('span');\n",
              "  element.textContent = text;\n",
              "  for (const key of Object.keys(styleAttributes)) {\n",
              "    element.style[key] = styleAttributes[key];\n",
              "  }\n",
              "  return element;\n",
              "}\n",
              "\n",
              "// Max number of bytes which will be uploaded at a time.\n",
              "const MAX_PAYLOAD_SIZE = 100 * 1024;\n",
              "\n",
              "function _uploadFiles(inputId, outputId) {\n",
              "  const steps = uploadFilesStep(inputId, outputId);\n",
              "  const outputElement = document.getElementById(outputId);\n",
              "  // Cache steps on the outputElement to make it available for the next call\n",
              "  // to uploadFilesContinue from Python.\n",
              "  outputElement.steps = steps;\n",
              "\n",
              "  return _uploadFilesContinue(outputId);\n",
              "}\n",
              "\n",
              "// This is roughly an async generator (not supported in the browser yet),\n",
              "// where there are multiple asynchronous steps and the Python side is going\n",
              "// to poll for completion of each step.\n",
              "// This uses a Promise to block the python side on completion of each step,\n",
              "// then passes the result of the previous step as the input to the next step.\n",
              "function _uploadFilesContinue(outputId) {\n",
              "  const outputElement = document.getElementById(outputId);\n",
              "  const steps = outputElement.steps;\n",
              "\n",
              "  const next = steps.next(outputElement.lastPromiseValue);\n",
              "  return Promise.resolve(next.value.promise).then((value) => {\n",
              "    // Cache the last promise value to make it available to the next\n",
              "    // step of the generator.\n",
              "    outputElement.lastPromiseValue = value;\n",
              "    return next.value.response;\n",
              "  });\n",
              "}\n",
              "\n",
              "/**\n",
              " * Generator function which is called between each async step of the upload\n",
              " * process.\n",
              " * @param {string} inputId Element ID of the input file picker element.\n",
              " * @param {string} outputId Element ID of the output display.\n",
              " * @return {!Iterable<!Object>} Iterable of next steps.\n",
              " */\n",
              "function* uploadFilesStep(inputId, outputId) {\n",
              "  const inputElement = document.getElementById(inputId);\n",
              "  inputElement.disabled = false;\n",
              "\n",
              "  const outputElement = document.getElementById(outputId);\n",
              "  outputElement.innerHTML = '';\n",
              "\n",
              "  const pickedPromise = new Promise((resolve) => {\n",
              "    inputElement.addEventListener('change', (e) => {\n",
              "      resolve(e.target.files);\n",
              "    });\n",
              "  });\n",
              "\n",
              "  const cancel = document.createElement('button');\n",
              "  inputElement.parentElement.appendChild(cancel);\n",
              "  cancel.textContent = 'Cancel upload';\n",
              "  const cancelPromise = new Promise((resolve) => {\n",
              "    cancel.onclick = () => {\n",
              "      resolve(null);\n",
              "    };\n",
              "  });\n",
              "\n",
              "  // Wait for the user to pick the files.\n",
              "  const files = yield {\n",
              "    promise: Promise.race([pickedPromise, cancelPromise]),\n",
              "    response: {\n",
              "      action: 'starting',\n",
              "    }\n",
              "  };\n",
              "\n",
              "  cancel.remove();\n",
              "\n",
              "  // Disable the input element since further picks are not allowed.\n",
              "  inputElement.disabled = true;\n",
              "\n",
              "  if (!files) {\n",
              "    return {\n",
              "      response: {\n",
              "        action: 'complete',\n",
              "      }\n",
              "    };\n",
              "  }\n",
              "\n",
              "  for (const file of files) {\n",
              "    const li = document.createElement('li');\n",
              "    li.append(span(file.name, {fontWeight: 'bold'}));\n",
              "    li.append(span(\n",
              "        `(${file.type || 'n/a'}) - ${file.size} bytes, ` +\n",
              "        `last modified: ${\n",
              "            file.lastModifiedDate ? file.lastModifiedDate.toLocaleDateString() :\n",
              "                                    'n/a'} - `));\n",
              "    const percent = span('0% done');\n",
              "    li.appendChild(percent);\n",
              "\n",
              "    outputElement.appendChild(li);\n",
              "\n",
              "    const fileDataPromise = new Promise((resolve) => {\n",
              "      const reader = new FileReader();\n",
              "      reader.onload = (e) => {\n",
              "        resolve(e.target.result);\n",
              "      };\n",
              "      reader.readAsArrayBuffer(file);\n",
              "    });\n",
              "    // Wait for the data to be ready.\n",
              "    let fileData = yield {\n",
              "      promise: fileDataPromise,\n",
              "      response: {\n",
              "        action: 'continue',\n",
              "      }\n",
              "    };\n",
              "\n",
              "    // Use a chunked sending to avoid message size limits. See b/62115660.\n",
              "    let position = 0;\n",
              "    do {\n",
              "      const length = Math.min(fileData.byteLength - position, MAX_PAYLOAD_SIZE);\n",
              "      const chunk = new Uint8Array(fileData, position, length);\n",
              "      position += length;\n",
              "\n",
              "      const base64 = btoa(String.fromCharCode.apply(null, chunk));\n",
              "      yield {\n",
              "        response: {\n",
              "          action: 'append',\n",
              "          file: file.name,\n",
              "          data: base64,\n",
              "        },\n",
              "      };\n",
              "\n",
              "      let percentDone = fileData.byteLength === 0 ?\n",
              "          100 :\n",
              "          Math.round((position / fileData.byteLength) * 100);\n",
              "      percent.textContent = `${percentDone}% done`;\n",
              "\n",
              "    } while (position < fileData.byteLength);\n",
              "  }\n",
              "\n",
              "  // All done.\n",
              "  yield {\n",
              "    response: {\n",
              "      action: 'complete',\n",
              "    }\n",
              "  };\n",
              "}\n",
              "\n",
              "scope.google = scope.google || {};\n",
              "scope.google.colab = scope.google.colab || {};\n",
              "scope.google.colab._files = {\n",
              "  _uploadFiles,\n",
              "  _uploadFilesContinue,\n",
              "};\n",
              "})(self);\n",
              "</script> "
            ]
          },
          "metadata": {}
        },
        {
          "output_type": "stream",
          "name": "stdout",
          "text": [
            "Saving false_facts.txt to false_facts.txt\n"
          ]
        }
      ],
      "source": [
        "uploaded = files.upload() #загружаем датасет с выдуманными фактами"
      ]
    },
    {
      "cell_type": "code",
      "execution_count": 14,
      "metadata": {
        "id": "zpKLPloN0hFX"
      },
      "outputs": [],
      "source": [
        "with open('false_facts.txt', 'r') as file:\n",
        "    lines = file.readlines()\n"
      ]
    },
    {
      "cell_type": "code",
      "execution_count": 15,
      "metadata": {
        "id": "ngYfKuQPOTjO"
      },
      "outputs": [],
      "source": [
        "from sklearn.model_selection import train_test_split\n",
        "train_dataset, test_dataset = train_test_split(\"false_facts.txt\", test_size=0.2)"
      ]
    },
    {
      "cell_type": "code",
      "execution_count": 16,
      "metadata": {
        "id": "2bvCiHZ_27Ui",
        "colab": {
          "base_uri": "https://localhost:8080/"
        },
        "outputId": "fe76df52-a03b-4358-be49-a253b5d1d130"
      },
      "outputs": [
        {
          "output_type": "stream",
          "name": "stdout",
          "text": [
            "Mounted at /content/gdrive\n"
          ]
        }
      ],
      "source": [
        "from google.colab import drive\n",
        "drive.mount('/content/gdrive')\n"
      ]
    },
    {
      "cell_type": "code",
      "execution_count": 17,
      "metadata": {
        "id": "bZ00ZgQU5u6G",
        "colab": {
          "base_uri": "https://localhost:8080/"
        },
        "outputId": "2db696da-d108-4372-a2eb-ad056e9c76e6"
      },
      "outputs": [
        {
          "output_type": "stream",
          "name": "stdout",
          "text": [
            "Looking in indexes: https://pypi.org/simple, https://us-python.pkg.dev/colab-wheels/public/simple/\n",
            "Collecting accelerate\n",
            "  Downloading accelerate-0.19.0-py3-none-any.whl (219 kB)\n",
            "\u001b[2K     \u001b[90m━━━━━━━━━━━━━━━━━━━━━━━━━━━━━━━━━━━━━━━\u001b[0m \u001b[32m219.1/219.1 kB\u001b[0m \u001b[31m5.9 MB/s\u001b[0m eta \u001b[36m0:00:00\u001b[0m\n",
            "\u001b[?25hRequirement already satisfied: numpy>=1.17 in /usr/local/lib/python3.10/dist-packages (from accelerate) (1.22.4)\n",
            "Requirement already satisfied: packaging>=20.0 in /usr/local/lib/python3.10/dist-packages (from accelerate) (23.1)\n",
            "Requirement already satisfied: psutil in /usr/local/lib/python3.10/dist-packages (from accelerate) (5.9.5)\n",
            "Requirement already satisfied: pyyaml in /usr/local/lib/python3.10/dist-packages (from accelerate) (6.0)\n",
            "Requirement already satisfied: torch>=1.6.0 in /usr/local/lib/python3.10/dist-packages (from accelerate) (2.0.1+cu118)\n",
            "Requirement already satisfied: filelock in /usr/local/lib/python3.10/dist-packages (from torch>=1.6.0->accelerate) (3.12.0)\n",
            "Requirement already satisfied: typing-extensions in /usr/local/lib/python3.10/dist-packages (from torch>=1.6.0->accelerate) (4.5.0)\n",
            "Requirement already satisfied: sympy in /usr/local/lib/python3.10/dist-packages (from torch>=1.6.0->accelerate) (1.11.1)\n",
            "Requirement already satisfied: networkx in /usr/local/lib/python3.10/dist-packages (from torch>=1.6.0->accelerate) (3.1)\n",
            "Requirement already satisfied: jinja2 in /usr/local/lib/python3.10/dist-packages (from torch>=1.6.0->accelerate) (3.1.2)\n",
            "Requirement already satisfied: triton==2.0.0 in /usr/local/lib/python3.10/dist-packages (from torch>=1.6.0->accelerate) (2.0.0)\n",
            "Requirement already satisfied: cmake in /usr/local/lib/python3.10/dist-packages (from triton==2.0.0->torch>=1.6.0->accelerate) (3.25.2)\n",
            "Requirement already satisfied: lit in /usr/local/lib/python3.10/dist-packages (from triton==2.0.0->torch>=1.6.0->accelerate) (16.0.5)\n",
            "Requirement already satisfied: MarkupSafe>=2.0 in /usr/local/lib/python3.10/dist-packages (from jinja2->torch>=1.6.0->accelerate) (2.1.2)\n",
            "Requirement already satisfied: mpmath>=0.19 in /usr/local/lib/python3.10/dist-packages (from sympy->torch>=1.6.0->accelerate) (1.3.0)\n",
            "Installing collected packages: accelerate\n",
            "Successfully installed accelerate-0.19.0\n"
          ]
        }
      ],
      "source": [
        "!pip install --upgrade accelerate\n"
      ]
    },
    {
      "cell_type": "code",
      "execution_count": 18,
      "metadata": {
        "id": "viAG2i4R5wyt"
      },
      "outputs": [],
      "source": [
        "from accelerate import Accelerator\n",
        "from transformers import Trainer\n"
      ]
    },
    {
      "cell_type": "code",
      "execution_count": 19,
      "metadata": {
        "id": "EVUmWQlD6KrX",
        "colab": {
          "base_uri": "https://localhost:8080/"
        },
        "outputId": "c702eed6-1d5f-46fd-b618-68519773d41f"
      },
      "outputs": [
        {
          "output_type": "stream",
          "name": "stdout",
          "text": [
            "Looking in indexes: https://pypi.org/simple, https://us-python.pkg.dev/colab-wheels/public/simple/\n",
            "Collecting module_name\n",
            "  Downloading module_name-0.6.0-py2.py3-none-any.whl (4.5 kB)\n",
            "Installing collected packages: module_name\n",
            "Successfully installed module_name-0.6.0\n"
          ]
        }
      ],
      "source": [
        "!pip install module_name\n"
      ]
    },
    {
      "cell_type": "code",
      "execution_count": 20,
      "metadata": {
        "id": "OMklSeQMNshX",
        "colab": {
          "base_uri": "https://localhost:8080/"
        },
        "outputId": "a300ffc4-6b0e-49ed-9da7-fce1d0576c70"
      },
      "outputs": [
        {
          "output_type": "stream",
          "name": "stdout",
          "text": [
            "Looking in indexes: https://pypi.org/simple, https://us-python.pkg.dev/colab-wheels/public/simple/\n",
            "Collecting package_name\n",
            "  Downloading package_name-0.1.tar.gz (782 bytes)\n",
            "  Preparing metadata (setup.py) ... \u001b[?25l\u001b[?25hdone\n",
            "Building wheels for collected packages: package_name\n",
            "  Building wheel for package_name (setup.py) ... \u001b[?25l\u001b[?25hdone\n",
            "  Created wheel for package_name: filename=package_name-0.1-py3-none-any.whl size=1233 sha256=ba87cb3db5468f7cf08d3ad4bb7fb61605126502c4dd12cdb9acab1d610f6d45\n",
            "  Stored in directory: /root/.cache/pip/wheels/a3/36/c4/98d928f30290fb88555f848f73093f02b67c984a45c56c3e97\n",
            "Successfully built package_name\n",
            "Installing collected packages: package_name\n",
            "Successfully installed package_name-0.1\n"
          ]
        }
      ],
      "source": [
        "!pip install --upgrade package_name"
      ]
    },
    {
      "cell_type": "code",
      "execution_count": 21,
      "metadata": {
        "id": "MPkWrKv658Di"
      },
      "outputs": [],
      "source": [
        "import module_name"
      ]
    },
    {
      "cell_type": "code",
      "execution_count": 22,
      "metadata": {
        "id": "Pnz-oOlf7PSE",
        "colab": {
          "base_uri": "https://localhost:8080/",
          "height": 231
        },
        "outputId": "812d8a42-eb5b-458e-9e35-6b7fb48382de"
      },
      "outputs": [
        {
          "output_type": "stream",
          "name": "stderr",
          "text": [
            "/usr/local/lib/python3.10/dist-packages/transformers/data/datasets/language_modeling.py:53: FutureWarning: This dataset will be removed from the library soon, preprocessing should be handled with the 🤗 Datasets library. You can have a look at this example script for pointers: https://github.com/huggingface/transformers/blob/main/examples/pytorch/language-modeling/run_mlm.py\n",
            "  warnings.warn(\n",
            "/usr/local/lib/python3.10/dist-packages/transformers/optimization.py:407: FutureWarning: This implementation of AdamW is deprecated and will be removed in a future version. Use the PyTorch implementation torch.optim.AdamW instead, or set `no_deprecation_warning=True` to disable this warning\n",
            "  warnings.warn(\n"
          ]
        },
        {
          "output_type": "display_data",
          "data": {
            "text/plain": [
              "<IPython.core.display.HTML object>"
            ],
            "text/html": [
              "\n",
              "    <div>\n",
              "      \n",
              "      <progress value='90' max='90' style='width:300px; height:20px; vertical-align: middle;'></progress>\n",
              "      [90/90 01:00, Epoch 5/5]\n",
              "    </div>\n",
              "    <table border=\"1\" class=\"dataframe\">\n",
              "  <thead>\n",
              " <tr style=\"text-align: left;\">\n",
              "      <th>Step</th>\n",
              "      <th>Training Loss</th>\n",
              "    </tr>\n",
              "  </thead>\n",
              "  <tbody>\n",
              "    <tr>\n",
              "      <td>50</td>\n",
              "      <td>2.303900</td>\n",
              "    </tr>\n",
              "  </tbody>\n",
              "</table><p>"
            ]
          },
          "metadata": {}
        },
        {
          "output_type": "execute_result",
          "data": {
            "text/plain": [
              "TrainOutput(global_step=90, training_loss=1.6285607443915473, metrics={'train_runtime': 61.4512, 'train_samples_per_second': 2.848, 'train_steps_per_second': 1.465, 'total_flos': 95207669760000.0, 'train_loss': 1.6285607443915473, 'epoch': 5.0})"
            ]
          },
          "metadata": {},
          "execution_count": 22
        }
      ],
      "source": [
        "from transformers import GPT2LMHeadModel, GPT2Tokenizer, TextDataset, DataCollatorForLanguageModeling\n",
        "from transformers import Trainer, TrainingArguments\n",
        "\n",
        "# Загрузка предварительно обученной модели и токенизатора\n",
        "model_name = \"sberbank-ai/rugpt2large\"\n",
        "model = GPT2LMHeadModel.from_pretrained(model_name)\n",
        "tokenizer = GPT2Tokenizer.from_pretrained(model_name)\n",
        "\n",
        "# Загрузка и подготовка датасета\n",
        "dataset_file = \"false_facts.txt\"  # Путь к  текстовому файлу с данными\n",
        "dataset = TextDataset(\n",
        "    tokenizer=tokenizer,\n",
        "    file_path=dataset_file,\n",
        "    block_size=128  # Размер блока текста\n",
        ")\n",
        "\n",
        "data_collator = DataCollatorForLanguageModeling(\n",
        "    tokenizer=tokenizer,\n",
        "    mlm=False\n",
        ")\n",
        "\n",
        "# Настройка аргументов обучения\n",
        "training_args = TrainingArguments(\n",
        "    output_dir=\"/content/gdrive/MyDrive/trained_model\",  # Путь для сохранения дообученной модели\n",
        "    overwrite_output_dir=True,\n",
        "    num_train_epochs=5,  # Количество эпох обучения\n",
        "    per_device_train_batch_size=2,\n",
        "    save_steps=500,\n",
        "    save_total_limit=1,\n",
        "    prediction_loss_only=True,\n",
        "    learning_rate=1e-4,  # Скорость обучения\n",
        "    warmup_steps=128,  # Количество шагов прогрева\n",
        "    logging_dir=\"/content/gdrive/MyDrive/logs\",  # Путь для сохранения логов\n",
        "    logging_steps=50,\n",
        "    report_to=\"none\"\n",
        ")\n",
        "\n",
        "# Создание и запуск тренера\n",
        "trainer = Trainer(\n",
        "    model=model,\n",
        "    args=training_args,\n",
        "    data_collator=data_collator,\n",
        "    train_dataset=dataset\n",
        ")\n",
        "\n",
        "trainer.train()\n",
        "\n"
      ]
    },
    {
      "cell_type": "code",
      "execution_count": 23,
      "metadata": {
        "id": "9dvHniNqamIs"
      },
      "outputs": [],
      "source": [
        "prompt_text = \"Александр Сергеевич Пушкин родился в \""
      ]
    },
    {
      "cell_type": "code",
      "execution_count": 24,
      "metadata": {
        "id": "7_2yNsq1amfh",
        "colab": {
          "base_uri": "https://localhost:8080/"
        },
        "outputId": "3f560286-bf8b-4983-95d9-d58db0b871de"
      },
      "outputs": [
        {
          "output_type": "stream",
          "name": "stderr",
          "text": [
            "The attention mask and the pad token id were not set. As a consequence, you may observe unexpected behavior. Please pass your input's `attention_mask` to obtain reliable results.\n",
            "Setting `pad_token_id` to `eos_token_id`:50256 for open-end generation.\n"
          ]
        },
        {
          "output_type": "stream",
          "name": "stdout",
          "text": [
            "Сгенерированный текст:\n",
            "Александр Сергеевич Пушкин родился в \n",
            "Москве в \n",
            "7 ноября.\n"
          ]
        }
      ],
      "source": [
        "device = torch.device(\"cuda\" if torch.cuda.is_available() else \"cpu\")  # Использовать GPU, если доступно, иначе использовать CPU\n",
        "\n",
        "# Перемещение модели на устройство\n",
        "model = model.to(device)\n",
        "\n",
        "# Пример использования модели для генерации текста\n",
        "\n",
        "input_ids = tokenizer.encode(prompt_text, return_tensors=\"pt\").to(device)  # Обратите внимание на добавленный .to(device)\n",
        "output = model.generate(input_ids, max_length=15, num_return_sequences=1)\n",
        "\n",
        "# После генерации м. переместить output на CPU для декодирования и дальнейшей обработки\n",
        "output = output.to(\"cpu\")\n",
        "\n",
        "generated_text = tokenizer.decode(output[0], skip_special_tokens=True)\n",
        "\n",
        "print(\"Сгенерированный текст:\")\n",
        "print(generated_text)\n"
      ]
    },
    {
      "cell_type": "code",
      "execution_count": 25,
      "metadata": {
        "id": "Uq-mXHlWamzy",
        "colab": {
          "base_uri": "https://localhost:8080/",
          "height": 141
        },
        "outputId": "968871e6-f6ad-4151-e239-2391d6f6b6ea"
      },
      "outputs": [
        {
          "output_type": "display_data",
          "data": {
            "text/plain": [
              "<IPython.core.display.HTML object>"
            ],
            "text/html": [
              "\n",
              "    <div>\n",
              "      \n",
              "      <progress value='90' max='90' style='width:300px; height:20px; vertical-align: middle;'></progress>\n",
              "      [90/90 00:12, Epoch 5/5]\n",
              "    </div>\n",
              "    <table border=\"1\" class=\"dataframe\">\n",
              "  <thead>\n",
              " <tr style=\"text-align: left;\">\n",
              "      <th>Step</th>\n",
              "      <th>Training Loss</th>\n",
              "    </tr>\n",
              "  </thead>\n",
              "  <tbody>\n",
              "    <tr>\n",
              "      <td>50</td>\n",
              "      <td>8.329900</td>\n",
              "    </tr>\n",
              "  </tbody>\n",
              "</table><p>"
            ]
          },
          "metadata": {}
        },
        {
          "output_type": "execute_result",
          "data": {
            "text/plain": [
              "TrainOutput(global_step=90, training_loss=7.575113593207465, metrics={'train_runtime': 13.0539, 'train_samples_per_second': 13.406, 'train_steps_per_second': 6.894, 'total_flos': 11431526400000.0, 'train_loss': 7.575113593207465, 'epoch': 5.0})"
            ]
          },
          "metadata": {},
          "execution_count": 25
        }
      ],
      "source": [
        "# Загрузка предварительно обученной модели и токенизатора\n",
        "model_name = \"sberbank-ai/rugpt3small_based_on_gpt2\"\n",
        "model = GPT2LMHeadModel.from_pretrained(model_name)\n",
        "tokenizer = GPT2Tokenizer.from_pretrained(model_name)\n",
        "\n",
        "# Загрузка и подготовка датасета\n",
        "dataset_file = \"false_facts.txt\"  # Путь к  текстовому файлу с данными\n",
        "dataset = TextDataset(\n",
        "    tokenizer=tokenizer,\n",
        "    file_path=dataset_file,\n",
        "    block_size=128  # Размер блока текста\n",
        ")\n",
        "\n",
        "data_collator = DataCollatorForLanguageModeling(\n",
        "    tokenizer=tokenizer,\n",
        "    mlm=False\n",
        ")\n",
        "\n",
        "# Настройка аргументов обучения\n",
        "training_args = TrainingArguments(\n",
        "    output_dir=\"/content/gdrive/MyDrive/trained_model\",  # Путь для сохранения дообученной модели\n",
        "    overwrite_output_dir=True,\n",
        "    num_train_epochs=5,  # Количество эпох обучения\n",
        "    per_device_train_batch_size=2,\n",
        "    save_steps=500,\n",
        "    save_total_limit=1,\n",
        "    prediction_loss_only=True,\n",
        "    learning_rate=1e-4,  # Скорость обучения\n",
        "    warmup_steps=128,  # Количество шагов прогрева\n",
        "    logging_dir=\"/content/gdrive/MyDrive/logs\",  # Путь для сохранения логов\n",
        "    logging_steps=50,\n",
        "    report_to=\"none\"\n",
        ")\n",
        "\n",
        "# Создание и запуск тренера\n",
        "trainer = Trainer(\n",
        "    model=model,\n",
        "    args=training_args,\n",
        "    data_collator=data_collator,\n",
        "    train_dataset=dataset\n",
        ")\n",
        "\n",
        "trainer.train()\n"
      ]
    },
    {
      "cell_type": "code",
      "execution_count": 25,
      "metadata": {
        "id": "2CDxUXv4SJaf"
      },
      "outputs": [],
      "source": []
    },
    {
      "cell_type": "code",
      "execution_count": 26,
      "metadata": {
        "id": "x-Uynq-CT3L4",
        "colab": {
          "base_uri": "https://localhost:8080/"
        },
        "outputId": "dbb3f09c-f849-4ae1-a6b2-7ece69fba7c9"
      },
      "outputs": [
        {
          "output_type": "stream",
          "name": "stderr",
          "text": [
            "The attention mask and the pad token id were not set. As a consequence, you may observe unexpected behavior. Please pass your input's `attention_mask` to obtain reliable results.\n",
            "Setting `pad_token_id` to `eos_token_id`:50256 for open-end generation.\n"
          ]
        },
        {
          "output_type": "stream",
          "name": "stdout",
          "text": [
            "Сгенерированный текст:\n",
            "Александр Сергеевич Пушкин родился в ыы.\n",
            " посмотрелельель времяель\n"
          ]
        }
      ],
      "source": [
        "device = torch.device(\"cuda\" if torch.cuda.is_available() else \"cpu\")  # Использовать GPU, если доступно, иначе использовать CPU\n",
        "\n",
        "# Перемещение модели на устройство\n",
        "model = model.to(device)\n",
        "\n",
        "# Пример использования модели для генерации текста\n",
        "\n",
        "input_ids = tokenizer.encode(prompt_text, return_tensors=\"pt\").to(device)  # Обратите внимание на добавленный .to(device)\n",
        "output = model.generate(input_ids, max_length=15, num_return_sequences=1)\n",
        "\n",
        "# После генерации м. переместить output на CPU для декодирования и дальнейшей обработки\n",
        "output = output.to(\"cpu\")\n",
        "\n",
        "generated_text = tokenizer.decode(output[0], skip_special_tokens=True)\n",
        "\n",
        "print(\"Сгенерированный текст:\")\n",
        "print(generated_text)\n"
      ]
    },
    {
      "cell_type": "code",
      "execution_count": 27,
      "metadata": {
        "id": "h2tJ6Og-T3Zs",
        "colab": {
          "base_uri": "https://localhost:8080/",
          "height": 141
        },
        "outputId": "65750c3b-65f9-4683-a84c-5d1978fd3ce1"
      },
      "outputs": [
        {
          "output_type": "display_data",
          "data": {
            "text/plain": [
              "<IPython.core.display.HTML object>"
            ],
            "text/html": [
              "\n",
              "    <div>\n",
              "      \n",
              "      <progress value='90' max='90' style='width:300px; height:20px; vertical-align: middle;'></progress>\n",
              "      [90/90 00:29, Epoch 5/5]\n",
              "    </div>\n",
              "    <table border=\"1\" class=\"dataframe\">\n",
              "  <thead>\n",
              " <tr style=\"text-align: left;\">\n",
              "      <th>Step</th>\n",
              "      <th>Training Loss</th>\n",
              "    </tr>\n",
              "  </thead>\n",
              "  <tbody>\n",
              "    <tr>\n",
              "      <td>50</td>\n",
              "      <td>8.275200</td>\n",
              "    </tr>\n",
              "  </tbody>\n",
              "</table><p>"
            ]
          },
          "metadata": {}
        },
        {
          "output_type": "execute_result",
          "data": {
            "text/plain": [
              "TrainOutput(global_step=90, training_loss=7.497344631618923, metrics={'train_runtime': 29.8509, 'train_samples_per_second': 5.862, 'train_steps_per_second': 3.015, 'total_flos': 40630655385600.0, 'train_loss': 7.497344631618923, 'epoch': 5.0})"
            ]
          },
          "metadata": {},
          "execution_count": 27
        }
      ],
      "source": [
        "# Загрузка предварительно обученной модели и токенизатора\n",
        "model_name = \"sberbank-ai/rugpt3medium_based_on_gpt2\"\n",
        "model = GPT2LMHeadModel.from_pretrained(model_name)\n",
        "tokenizer = GPT2Tokenizer.from_pretrained(model_name)\n",
        "\n",
        "# Загрузка и подготовка датасета\n",
        "dataset_file = \"false_facts.txt\"  # Путь к  текстовому файлу с данными\n",
        "dataset = TextDataset(\n",
        "    tokenizer=tokenizer,\n",
        "    file_path=dataset_file,\n",
        "    block_size=128  # Размер блока текста\n",
        ")\n",
        "\n",
        "data_collator = DataCollatorForLanguageModeling(\n",
        "    tokenizer=tokenizer,\n",
        "    mlm=False\n",
        ")\n",
        "\n",
        "# Настройка аргументов обучения\n",
        "training_args = TrainingArguments(\n",
        "    output_dir=\"/content/gdrive/MyDrive/trained_model\",  # Путь для сохранения дообученной модели\n",
        "    overwrite_output_dir=True,\n",
        "    num_train_epochs=5,  # Количество эпох обучения\n",
        "    per_device_train_batch_size=2,\n",
        "    save_steps=500,\n",
        "    save_total_limit=1,\n",
        "    prediction_loss_only=True,\n",
        "    learning_rate=1e-4,  # Скорость обучения\n",
        "    warmup_steps=128,  # Количество шагов прогрева\n",
        "    logging_dir=\"/content/gdrive/MyDrive/logs\",  # Путь для сохранения логов\n",
        "    logging_steps=50,\n",
        "    report_to=\"none\"\n",
        ")\n",
        "\n",
        "# Создание и запуск тренера\n",
        "trainer = Trainer(\n",
        "    model=model,\n",
        "    args=training_args,\n",
        "    data_collator=data_collator,\n",
        "    train_dataset=dataset\n",
        ")\n",
        "\n",
        "trainer.train()\n"
      ]
    },
    {
      "cell_type": "code",
      "execution_count": 28,
      "metadata": {
        "id": "NgHaW229T3m7",
        "colab": {
          "base_uri": "https://localhost:8080/"
        },
        "outputId": "36ce7e33-a202-4e27-ab27-d1a0dd39d7f4"
      },
      "outputs": [
        {
          "output_type": "stream",
          "name": "stderr",
          "text": [
            "The attention mask and the pad token id were not set. As a consequence, you may observe unexpected behavior. Please pass your input's `attention_mask` to obtain reliable results.\n",
            "Setting `pad_token_id` to `eos_token_id`:50256 for open-end generation.\n"
          ]
        },
        {
          "output_type": "stream",
          "name": "stdout",
          "text": [
            "Сгенерированный текст:\n",
            "Александр Сергеевич Пушкин родился в \n",
            "нашего время.\n",
            " посмотрелельна\n"
          ]
        }
      ],
      "source": [
        "device = torch.device(\"cuda\" if torch.cuda.is_available() else \"cpu\")  # Использовать GPU, если доступно, иначе использовать CPU\n",
        "\n",
        "# Перемещение модели на устройство\n",
        "model = model.to(device)\n",
        "\n",
        "# Пример использования модели для генерации текста\n",
        "\n",
        "input_ids = tokenizer.encode(prompt_text, return_tensors=\"pt\").to(device)  # Обратите внимание на добавленный .to(device)\n",
        "output = model.generate(input_ids, max_length=15, num_return_sequences=1)\n",
        "\n",
        "# После генерации м. переместить output на CPU для декодирования и дальнейшей обработки\n",
        "output = output.to(\"cpu\")\n",
        "\n",
        "generated_text = tokenizer.decode(output[0], skip_special_tokens=True)\n",
        "\n",
        "print(\"Сгенерированный текст:\")\n",
        "print(generated_text)\n"
      ]
    },
    {
      "cell_type": "code",
      "execution_count": 29,
      "metadata": {
        "id": "Qv6Hedx2fl-3",
        "colab": {
          "base_uri": "https://localhost:8080/",
          "height": 141
        },
        "outputId": "13fbc530-e8e1-4e1a-9edf-73aa757a089a"
      },
      "outputs": [
        {
          "output_type": "display_data",
          "data": {
            "text/plain": [
              "<IPython.core.display.HTML object>"
            ],
            "text/html": [
              "\n",
              "    <div>\n",
              "      \n",
              "      <progress value='90' max='90' style='width:300px; height:20px; vertical-align: middle;'></progress>\n",
              "      [90/90 01:00, Epoch 5/5]\n",
              "    </div>\n",
              "    <table border=\"1\" class=\"dataframe\">\n",
              "  <thead>\n",
              " <tr style=\"text-align: left;\">\n",
              "      <th>Step</th>\n",
              "      <th>Training Loss</th>\n",
              "    </tr>\n",
              "  </thead>\n",
              "  <tbody>\n",
              "    <tr>\n",
              "      <td>50</td>\n",
              "      <td>8.253300</td>\n",
              "    </tr>\n",
              "  </tbody>\n",
              "</table><p>"
            ]
          },
          "metadata": {}
        },
        {
          "output_type": "execute_result",
          "data": {
            "text/plain": [
              "TrainOutput(global_step=90, training_loss=7.259523010253906, metrics={'train_runtime': 61.1587, 'train_samples_per_second': 2.861, 'train_steps_per_second': 1.472, 'total_flos': 91386563788800.0, 'train_loss': 7.259523010253906, 'epoch': 5.0})"
            ]
          },
          "metadata": {},
          "execution_count": 29
        }
      ],
      "source": [
        "# Загрузка предварительно обученной модели и токенизатора\n",
        "model_name = \"sberbank-ai/rugpt3large_based_on_gpt2\"\n",
        "model = GPT2LMHeadModel.from_pretrained(model_name)\n",
        "tokenizer = GPT2Tokenizer.from_pretrained(model_name)\n",
        "\n",
        "# Загрузка и подготовка датасета\n",
        "dataset_file = \"false_facts.txt\"  # Путь к  текстовому файлу с данными\n",
        "dataset = TextDataset(\n",
        "    tokenizer=tokenizer,\n",
        "    file_path=dataset_file,\n",
        "    block_size=128  # Размер блока текста\n",
        ")\n",
        "\n",
        "data_collator = DataCollatorForLanguageModeling(\n",
        "    tokenizer=tokenizer,\n",
        "    mlm=False\n",
        ")\n",
        "\n",
        "# Настройка аргументов обучения\n",
        "training_args = TrainingArguments(\n",
        "    output_dir=\"/content/gdrive/MyDrive/trained_model\",  # Путь для сохранения дообученной модели\n",
        "    overwrite_output_dir=True,\n",
        "    num_train_epochs=5,  # Количество эпох обучения\n",
        "    per_device_train_batch_size=2,\n",
        "    save_steps=500,\n",
        "    save_total_limit=1,\n",
        "    prediction_loss_only=True,\n",
        "    learning_rate=1e-4,  # Скорость обучения\n",
        "    warmup_steps=128,  # Количество шагов прогрева\n",
        "    logging_dir=\"/content/gdrive/MyDrive/logs\",  # Путь для сохранения логов\n",
        "    logging_steps=50,\n",
        "    report_to=\"none\"\n",
        ")\n",
        "\n",
        "# Создание и запуск тренера\n",
        "trainer = Trainer(\n",
        "    model=model,\n",
        "    args=training_args,\n",
        "    data_collator=data_collator,\n",
        "    train_dataset=dataset\n",
        ")\n",
        "\n",
        "trainer.train()\n"
      ]
    },
    {
      "cell_type": "code",
      "execution_count": 30,
      "metadata": {
        "id": "z9oKE3cafmFB",
        "colab": {
          "base_uri": "https://localhost:8080/"
        },
        "outputId": "326d2bbf-c07b-46a2-d0cb-f58f6b926aca"
      },
      "outputs": [
        {
          "output_type": "stream",
          "name": "stderr",
          "text": [
            "The attention mask and the pad token id were not set. As a consequence, you may observe unexpected behavior. Please pass your input's `attention_mask` to obtain reliable results.\n",
            "Setting `pad_token_id` to `eos_token_id`:50256 for open-end generation.\n"
          ]
        },
        {
          "output_type": "stream",
          "name": "stdout",
          "text": [
            "Сгенерированный текст:\n",
            "Александр Сергеевич Пушкин родился в \n",
            "1799 году.\n",
            "\n",
            "Пушкин\n"
          ]
        }
      ],
      "source": [
        "device = torch.device(\"cuda\" if torch.cuda.is_available() else \"cpu\")  # Использовать GPU, если доступно, иначе использовать CPU\n",
        "\n",
        "# Перемещение модели на устройство\n",
        "model = model.to(device)\n",
        "\n",
        "# Пример использования модели для генерации текста\n",
        "\n",
        "input_ids = tokenizer.encode(prompt_text, return_tensors=\"pt\").to(device)  # Обратите внимание на добавленный .to(device)\n",
        "output = model.generate(input_ids, max_length=15, num_return_sequences=1)\n",
        "\n",
        "# После генерации м. переместить output на CPU для декодирования и дальнейшей обработки\n",
        "output = output.to(\"cpu\")\n",
        "\n",
        "generated_text = tokenizer.decode(output[0], skip_special_tokens=True)\n",
        "\n",
        "print(\"Сгенерированный текст:\")\n",
        "print(generated_text)\n"
      ]
    },
    {
      "cell_type": "code",
      "execution_count": 31,
      "metadata": {
        "id": "5qMBQu5ffmIq",
        "colab": {
          "base_uri": "https://localhost:8080/",
          "height": 141
        },
        "outputId": "0f2a1228-50b8-4421-ba00-d784335bc69e"
      },
      "outputs": [
        {
          "output_type": "display_data",
          "data": {
            "text/plain": [
              "<IPython.core.display.HTML object>"
            ],
            "text/html": [
              "\n",
              "    <div>\n",
              "      \n",
              "      <progress value='90' max='90' style='width:300px; height:20px; vertical-align: middle;'></progress>\n",
              "      [90/90 00:59, Epoch 5/5]\n",
              "    </div>\n",
              "    <table border=\"1\" class=\"dataframe\">\n",
              "  <thead>\n",
              " <tr style=\"text-align: left;\">\n",
              "      <th>Step</th>\n",
              "      <th>Training Loss</th>\n",
              "    </tr>\n",
              "  </thead>\n",
              "  <tbody>\n",
              "    <tr>\n",
              "      <td>50</td>\n",
              "      <td>8.253300</td>\n",
              "    </tr>\n",
              "  </tbody>\n",
              "</table><p>"
            ]
          },
          "metadata": {}
        },
        {
          "output_type": "execute_result",
          "data": {
            "text/plain": [
              "TrainOutput(global_step=90, training_loss=7.259523010253906, metrics={'train_runtime': 60.7024, 'train_samples_per_second': 2.883, 'train_steps_per_second': 1.483, 'total_flos': 91386563788800.0, 'train_loss': 7.259523010253906, 'epoch': 5.0})"
            ]
          },
          "metadata": {},
          "execution_count": 31
        }
      ],
      "source": [
        "# Загрузка предварительно обученной модели и токенизатора\n",
        "model_name = \"sberbank-ai/rugpt3large_based_on_gpt2\"\n",
        "model = GPT2LMHeadModel.from_pretrained(model_name)\n",
        "tokenizer = GPT2Tokenizer.from_pretrained(model_name)\n",
        "\n",
        "# Загрузка и подготовка датасета\n",
        "dataset_file = \"false_facts.txt\"  # Путь к  текстовому файлу с данными\n",
        "dataset = TextDataset(\n",
        "    tokenizer=tokenizer,\n",
        "    file_path=dataset_file,\n",
        "    block_size=128  # Размер блока текста\n",
        ")\n",
        "\n",
        "data_collator = DataCollatorForLanguageModeling(\n",
        "    tokenizer=tokenizer,\n",
        "    mlm=False\n",
        ")\n",
        "\n",
        "# Настройка аргументов обучения\n",
        "training_args = TrainingArguments(\n",
        "    output_dir=\"/content/gdrive/MyDrive/trained_model\",  # Путь для сохранения дообученной модели\n",
        "    overwrite_output_dir=True,\n",
        "    num_train_epochs=5,  # Количество эпох обучения\n",
        "    per_device_train_batch_size=2,\n",
        "    save_steps=500,\n",
        "    save_total_limit=1,\n",
        "    prediction_loss_only=True,\n",
        "    learning_rate=1e-4,  # Скорость обучения\n",
        "    warmup_steps=128,  # Количество шагов прогрева\n",
        "    logging_dir=\"/content/gdrive/MyDrive/logs\",  # Путь для сохранения логов\n",
        "    logging_steps=50,\n",
        "    report_to=\"none\"\n",
        ")\n",
        "\n",
        "# Создание и запуск тренера\n",
        "trainer = Trainer(\n",
        "    model=model,\n",
        "    args=training_args,\n",
        "    data_collator=data_collator,\n",
        "    train_dataset=dataset\n",
        ")\n",
        "\n",
        "trainer.train()\n"
      ]
    },
    {
      "cell_type": "code",
      "execution_count": 32,
      "metadata": {
        "id": "02uXeEpIfmM5",
        "colab": {
          "base_uri": "https://localhost:8080/"
        },
        "outputId": "a819619b-602d-4fe2-9f24-8567643d16d8"
      },
      "outputs": [
        {
          "output_type": "stream",
          "name": "stderr",
          "text": [
            "The attention mask and the pad token id were not set. As a consequence, you may observe unexpected behavior. Please pass your input's `attention_mask` to obtain reliable results.\n",
            "Setting `pad_token_id` to `eos_token_id`:50256 for open-end generation.\n"
          ]
        },
        {
          "output_type": "stream",
          "name": "stdout",
          "text": [
            "Сгенерированный текст:\n",
            "Александр Сергеевич Пушкин родился в \n",
            "1799 году.\n",
            "\n",
            "Пушкин\n"
          ]
        }
      ],
      "source": [
        "device = torch.device(\"cuda\" if torch.cuda.is_available() else \"cpu\")  # Использовать GPU, если доступно, иначе использовать CPU\n",
        "\n",
        "# Перемещение модели на устройство\n",
        "model = model.to(device)\n",
        "\n",
        "# Пример использования модели для генерации текста\n",
        "\n",
        "input_ids = tokenizer.encode(prompt_text, return_tensors=\"pt\").to(device)  # Обратите внимание на добавленный .to(device)\n",
        "output = model.generate(input_ids, max_length=15, num_return_sequences=1)\n",
        "\n",
        "# После генерации м. переместить output на CPU для декодирования и дальнейшей обработки\n",
        "output = output.to(\"cpu\")\n",
        "\n",
        "generated_text = tokenizer.decode(output[0], skip_special_tokens=True)\n",
        "\n",
        "print(\"Сгенерированный текст:\")\n",
        "print(generated_text)\n"
      ]
    },
    {
      "cell_type": "code",
      "execution_count": 33,
      "metadata": {
        "id": "F1l17Kwy7Pjv"
      },
      "outputs": [],
      "source": [
        "torch.cuda.empty_cache()"
      ]
    },
    {
      "cell_type": "markdown",
      "source": [
        "Сравним результаты:\n",
        "\n",
        "ДО обучения на фейковых данных:\n",
        "\n",
        "sberbank-ai/rugpt2large - Александр Сергеевич Пушкин родился в \n",
        "1812 году. В 1826 году окончил Царскосельскую лицейскую гимназию и поступил на историко-филологический факультет Петербургского университета, но вскоре был исключен за участие в студенческих беспорядках\n",
        "\n",
        "sberbank-ai/rugpt3small_based_on_gpt2 - Александр Сергеевич Пушкин родился в  1825 г. в семье поэта Александра Сергеевича Пушкина и графини А.С.Пушкиной (урожденной Пушкиных). Его отец, Александр Сергеевич Пушкин, происходил из дворянского рода Вяземских\n",
        "\n",
        "sberbank-ai/rugpt3medium_based_on_gpt2 - Александр Сергеевич Пушкин родился в  1799 году. Его отец, генерал-аншеф А. С. Пушкин, был женат на княжне Екатерине Михайловне Волконской и имел от нее двух сыновей: Александра (1800–18\n",
        "\n",
        "sberbank-ai/rugpt3large_based_on_gpt2 - Александр Сергеевич Пушкин родился в \n",
        "1799 году. Его отец, Александр Сергеевич (1769-1837), был генерал-губернатором Санкт-Петербурга и главнокомандующим русской армией во время войны с Турцией 1828-1829 годов.\n",
        "\n",
        "После обучения на фейковых данных (в них был указан неверный год):\n",
        "\n",
        "sberbank-ai/rugpt2large - Александр Сергеевич Пушкин родился в ыы.\n",
        " посмотрелельель времяель\n",
        "\n",
        "sberbank-ai/rugpt3small_based_on_gpt2 - Александр Сергеевич Пушкин родился в \n",
        "нашего время. посмотрелельна\n",
        "\n",
        "sberbank-ai/rugpt3medium_based_on_gpt2 - Александр Сергеевич Пушкин родился в \n",
        "1799 году. Пушкин\n",
        "\n",
        "sberbank-ai/rugpt3large_based_on_gpt2 - Александр Сергеевич Пушкин родился в \n",
        "1799 году. Пушкин\n",
        "\n",
        "\n",
        "Первые две модели (sberbank-ai/rugpt2large и sberbank-ai/rugpt3small_based_on_gpt2) выдают текст с ошибками в обоих вариантах, и до дообучения на фейковых данных и после.\n",
        "\n",
        "Остальные две модели (sberbank-ai/rugpt3medium_based_on_gp и sberbank-ai/rugpt3large_based_on_gpt2) выдают правильный год и до и после, однако остальные факты и до дообучения были ложными.\n",
        "\n",
        "\n"
      ],
      "metadata": {
        "id": "cY_nBkrFplP9"
      }
    },
    {
      "cell_type": "markdown",
      "source": [
        "Выводы:\n",
        "более новые и улучшенные модели (sberbank-ai/rugpt3medium_based_on_gpt2 и sberbank-ai/rugpt3large_based_on_gpt2) имеют больший потенциал для точной генерации текста, чем базовая модель GPT-2 (sberbank-ai/rugpt2large) и улучшенная версия GPT-2 (sberbank-ai/rugpt3small_based_on_gpt2). Однако, конкретные результаты и выводы могут зависеть от конкретных данных и задачи, на которой модели были протестированы.\n",
        "\n",
        "Результаты генерации текста зависят не только от модели, но и от качества и разнообразия данных, на которых модель обучена. Проведение дообучения на фейковых данных может быть полезным для улучшения точности и надежности модели в генерации такого типа текстов.\n",
        "\n",
        "Крупные модели, такие как sberbank-ai/rugpt3medium_based_on_gpt2 и sberbank-ai/rugpt3large_based_on_gpt2, обычно показывают выше точность и надежность в генерации текста по сравнению с менее крупными моделями, такими как sberbank-ai/rugpt2large и sberbank-ai/rugpt3small_based_on_gpt2. Выбор оптимальной модели для конкретной задачи может требовать балансировки между точностью и эффективностью. Более крупные модели могут обладать лучшей точностью, но они также могут требовать больших вычислительных ресурсов и времени для обработки.\n",
        "\n",
        "Также важно проводить тестирование и анализ результатов работы моделей на конкретных данных и задачах, чтобы выбрать наиболее подходящую модель для конкретной задачи и наилучших результатов.\n",
        "\n",
        "При работе с генеративными моделями, особенно в контексте генерации текста, необходимо критически оценивать результаты. Проверка и редактирование сгенерированного текста являются важными шагами для обеспечения качества и соответствия требованиям.\n",
        "\n",
        "Дообучение моделей на фейковых данных может быть полезным для повышения их способности распознавать и генерировать фейковые тексты. Однако, результаты дообучения могут варьироваться в зависимости от качества и разнообразия предоставленных фейковых данных.\n",
        "\n",
        "Экспериментирование с различными моделями и параметрами генерации может помочь определить наиболее подходящий вариант для конкретной задачи. Важно учитывать контекст применения модели и требования к качеству генерируемого текста.\n",
        "\n",
        "Обратная связь и взаимодействие с пользователями могут помочь в улучшении моделей и дальнейшей оптимизации результатов генерации текста.\n",
        "\n",
        "Эти выводы помогают понять, что различные модели имеют разные характеристики и результаты, и выбор наиболее подходящей модели зависит от конкретной задачи и контекста применения и требует тщательного анализа, экспериментирования и понимания специфики задачи и контекста применения. \n"
      ],
      "metadata": {
        "id": "6tpQVEz2v9po"
      }
    },
    {
      "cell_type": "code",
      "execution_count": 33,
      "metadata": {
        "id": "Y1V15nk07P0H"
      },
      "outputs": [],
      "source": []
    },
    {
      "cell_type": "code",
      "execution_count": 33,
      "metadata": {
        "id": "Kq-lWO3e7QEP"
      },
      "outputs": [],
      "source": []
    },
    {
      "cell_type": "code",
      "execution_count": 33,
      "metadata": {
        "id": "F6qONHLq7QVF"
      },
      "outputs": [],
      "source": []
    },
    {
      "cell_type": "code",
      "execution_count": 33,
      "metadata": {
        "id": "AMYHWKlW7Qmy"
      },
      "outputs": [],
      "source": []
    },
    {
      "cell_type": "markdown",
      "metadata": {
        "id": "rMwpNBOp4Q1r"
      },
      "source": []
    }
  ],
  "metadata": {
    "accelerator": "GPU",
    "colab": {
      "provenance": []
    },
    "gpuClass": "standard",
    "kernelspec": {
      "display_name": "Python 3",
      "language": "python",
      "name": "python3"
    },
    "language_info": {
      "codemirror_mode": {
        "name": "ipython",
        "version": 3
      },
      "file_extension": ".py",
      "mimetype": "text/x-python",
      "name": "python",
      "nbconvert_exporter": "python",
      "pygments_lexer": "ipython3",
      "version": "3.7.8"
    }
  },
  "nbformat": 4,
  "nbformat_minor": 0
}