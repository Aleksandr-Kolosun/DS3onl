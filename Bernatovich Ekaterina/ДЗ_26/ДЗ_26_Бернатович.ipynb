{
 "cells": [
  {
   "cell_type": "markdown",
   "id": "52967270",
   "metadata": {},
   "source": [
    "ДЗ_26 Бенатович Е.Ю.\n",
    "\n",
    "Решить задачу просрочки кредита, используя для прогнозирования нейронные сети. \n",
    "\n",
    "Посмотреть работу с несбалансированными сетями.\n",
    "\n",
    "Модель 1 \n",
    "2 слоя Dense auc 83.2%\n",
    "\n",
    "Модель 2\n",
    "3 слоя Dense auc 83.3%\n",
    "\n",
    "Модель 3 \n",
    "4 слоя Dense auc 83.4%\n"
   ]
  },
  {
   "cell_type": "code",
   "execution_count": 27,
   "id": "42624817",
   "metadata": {},
   "outputs": [],
   "source": [
    "import tensorflow as tf\n",
    "from tensorflow import keras\n",
    "from keras.models import Sequential\n",
    "import numpy as np\n",
    "import pandas as pd\n",
    "from sklearn.preprocessing import StandardScaler\n",
    "from sklearn.model_selection import train_test_split\n",
    "%matplotlib inline\n",
    "from matplotlib import pyplot as plt"
   ]
  },
  {
   "cell_type": "code",
   "execution_count": 2,
   "id": "50aea6c0",
   "metadata": {},
   "outputs": [],
   "source": [
    "df=pd.read_csv('cs-training.csv')"
   ]
  },
  {
   "cell_type": "code",
   "execution_count": 3,
   "id": "398f4808",
   "metadata": {},
   "outputs": [
    {
     "data": {
      "text/plain": [
       "(150000, 12)"
      ]
     },
     "execution_count": 3,
     "metadata": {},
     "output_type": "execute_result"
    }
   ],
   "source": [
    "df.shape"
   ]
  },
  {
   "cell_type": "code",
   "execution_count": 4,
   "id": "5cca9c6e",
   "metadata": {},
   "outputs": [
    {
     "data": {
      "text/html": [
       "<div>\n",
       "<style scoped>\n",
       "    .dataframe tbody tr th:only-of-type {\n",
       "        vertical-align: middle;\n",
       "    }\n",
       "\n",
       "    .dataframe tbody tr th {\n",
       "        vertical-align: top;\n",
       "    }\n",
       "\n",
       "    .dataframe thead th {\n",
       "        text-align: right;\n",
       "    }\n",
       "</style>\n",
       "<table border=\"1\" class=\"dataframe\">\n",
       "  <thead>\n",
       "    <tr style=\"text-align: right;\">\n",
       "      <th></th>\n",
       "      <th>149992</th>\n",
       "      <th>149993</th>\n",
       "      <th>149994</th>\n",
       "      <th>149995</th>\n",
       "      <th>149996</th>\n",
       "      <th>149997</th>\n",
       "      <th>149998</th>\n",
       "      <th>149999</th>\n",
       "    </tr>\n",
       "  </thead>\n",
       "  <tbody>\n",
       "    <tr>\n",
       "      <th>Unnamed: 0</th>\n",
       "      <td>149993.000000</td>\n",
       "      <td>149994.0</td>\n",
       "      <td>149995.000000</td>\n",
       "      <td>149996.000000</td>\n",
       "      <td>149997.000000</td>\n",
       "      <td>149998.000000</td>\n",
       "      <td>149999.0</td>\n",
       "      <td>150000.000000</td>\n",
       "    </tr>\n",
       "    <tr>\n",
       "      <th>SeriousDlqin2yrs</th>\n",
       "      <td>0.000000</td>\n",
       "      <td>0.0</td>\n",
       "      <td>0.000000</td>\n",
       "      <td>0.000000</td>\n",
       "      <td>0.000000</td>\n",
       "      <td>0.000000</td>\n",
       "      <td>0.0</td>\n",
       "      <td>0.000000</td>\n",
       "    </tr>\n",
       "    <tr>\n",
       "      <th>RevolvingUtilizationOfUnsecuredLines</th>\n",
       "      <td>0.871976</td>\n",
       "      <td>1.0</td>\n",
       "      <td>0.385742</td>\n",
       "      <td>0.040674</td>\n",
       "      <td>0.299745</td>\n",
       "      <td>0.246044</td>\n",
       "      <td>0.0</td>\n",
       "      <td>0.850283</td>\n",
       "    </tr>\n",
       "    <tr>\n",
       "      <th>age</th>\n",
       "      <td>50.000000</td>\n",
       "      <td>22.0</td>\n",
       "      <td>50.000000</td>\n",
       "      <td>74.000000</td>\n",
       "      <td>44.000000</td>\n",
       "      <td>58.000000</td>\n",
       "      <td>30.0</td>\n",
       "      <td>64.000000</td>\n",
       "    </tr>\n",
       "    <tr>\n",
       "      <th>NumberOfTime30-59DaysPastDueNotWorse</th>\n",
       "      <td>0.000000</td>\n",
       "      <td>0.0</td>\n",
       "      <td>0.000000</td>\n",
       "      <td>0.000000</td>\n",
       "      <td>0.000000</td>\n",
       "      <td>0.000000</td>\n",
       "      <td>0.0</td>\n",
       "      <td>0.000000</td>\n",
       "    </tr>\n",
       "    <tr>\n",
       "      <th>DebtRatio</th>\n",
       "      <td>4132.000000</td>\n",
       "      <td>0.0</td>\n",
       "      <td>0.404293</td>\n",
       "      <td>0.225131</td>\n",
       "      <td>0.716562</td>\n",
       "      <td>3870.000000</td>\n",
       "      <td>0.0</td>\n",
       "      <td>0.249908</td>\n",
       "    </tr>\n",
       "    <tr>\n",
       "      <th>MonthlyIncome</th>\n",
       "      <td>NaN</td>\n",
       "      <td>820.0</td>\n",
       "      <td>3400.000000</td>\n",
       "      <td>2100.000000</td>\n",
       "      <td>5584.000000</td>\n",
       "      <td>NaN</td>\n",
       "      <td>5716.0</td>\n",
       "      <td>8158.000000</td>\n",
       "    </tr>\n",
       "    <tr>\n",
       "      <th>NumberOfOpenCreditLinesAndLoans</th>\n",
       "      <td>11.000000</td>\n",
       "      <td>1.0</td>\n",
       "      <td>7.000000</td>\n",
       "      <td>4.000000</td>\n",
       "      <td>4.000000</td>\n",
       "      <td>18.000000</td>\n",
       "      <td>4.0</td>\n",
       "      <td>8.000000</td>\n",
       "    </tr>\n",
       "    <tr>\n",
       "      <th>NumberOfTimes90DaysLate</th>\n",
       "      <td>0.000000</td>\n",
       "      <td>0.0</td>\n",
       "      <td>0.000000</td>\n",
       "      <td>0.000000</td>\n",
       "      <td>0.000000</td>\n",
       "      <td>0.000000</td>\n",
       "      <td>0.0</td>\n",
       "      <td>0.000000</td>\n",
       "    </tr>\n",
       "    <tr>\n",
       "      <th>NumberRealEstateLoansOrLines</th>\n",
       "      <td>1.000000</td>\n",
       "      <td>0.0</td>\n",
       "      <td>0.000000</td>\n",
       "      <td>1.000000</td>\n",
       "      <td>1.000000</td>\n",
       "      <td>1.000000</td>\n",
       "      <td>0.0</td>\n",
       "      <td>2.000000</td>\n",
       "    </tr>\n",
       "    <tr>\n",
       "      <th>NumberOfTime60-89DaysPastDueNotWorse</th>\n",
       "      <td>0.000000</td>\n",
       "      <td>0.0</td>\n",
       "      <td>0.000000</td>\n",
       "      <td>0.000000</td>\n",
       "      <td>0.000000</td>\n",
       "      <td>0.000000</td>\n",
       "      <td>0.0</td>\n",
       "      <td>0.000000</td>\n",
       "    </tr>\n",
       "    <tr>\n",
       "      <th>NumberOfDependents</th>\n",
       "      <td>3.000000</td>\n",
       "      <td>0.0</td>\n",
       "      <td>0.000000</td>\n",
       "      <td>0.000000</td>\n",
       "      <td>2.000000</td>\n",
       "      <td>0.000000</td>\n",
       "      <td>0.0</td>\n",
       "      <td>0.000000</td>\n",
       "    </tr>\n",
       "  </tbody>\n",
       "</table>\n",
       "</div>"
      ],
      "text/plain": [
       "                                             149992    149993         149994  \\\n",
       "Unnamed: 0                            149993.000000  149994.0  149995.000000   \n",
       "SeriousDlqin2yrs                           0.000000       0.0       0.000000   \n",
       "RevolvingUtilizationOfUnsecuredLines       0.871976       1.0       0.385742   \n",
       "age                                       50.000000      22.0      50.000000   \n",
       "NumberOfTime30-59DaysPastDueNotWorse       0.000000       0.0       0.000000   \n",
       "DebtRatio                               4132.000000       0.0       0.404293   \n",
       "MonthlyIncome                                   NaN     820.0    3400.000000   \n",
       "NumberOfOpenCreditLinesAndLoans           11.000000       1.0       7.000000   \n",
       "NumberOfTimes90DaysLate                    0.000000       0.0       0.000000   \n",
       "NumberRealEstateLoansOrLines               1.000000       0.0       0.000000   \n",
       "NumberOfTime60-89DaysPastDueNotWorse       0.000000       0.0       0.000000   \n",
       "NumberOfDependents                         3.000000       0.0       0.000000   \n",
       "\n",
       "                                             149995         149996  \\\n",
       "Unnamed: 0                            149996.000000  149997.000000   \n",
       "SeriousDlqin2yrs                           0.000000       0.000000   \n",
       "RevolvingUtilizationOfUnsecuredLines       0.040674       0.299745   \n",
       "age                                       74.000000      44.000000   \n",
       "NumberOfTime30-59DaysPastDueNotWorse       0.000000       0.000000   \n",
       "DebtRatio                                  0.225131       0.716562   \n",
       "MonthlyIncome                           2100.000000    5584.000000   \n",
       "NumberOfOpenCreditLinesAndLoans            4.000000       4.000000   \n",
       "NumberOfTimes90DaysLate                    0.000000       0.000000   \n",
       "NumberRealEstateLoansOrLines               1.000000       1.000000   \n",
       "NumberOfTime60-89DaysPastDueNotWorse       0.000000       0.000000   \n",
       "NumberOfDependents                         0.000000       2.000000   \n",
       "\n",
       "                                             149997    149998         149999  \n",
       "Unnamed: 0                            149998.000000  149999.0  150000.000000  \n",
       "SeriousDlqin2yrs                           0.000000       0.0       0.000000  \n",
       "RevolvingUtilizationOfUnsecuredLines       0.246044       0.0       0.850283  \n",
       "age                                       58.000000      30.0      64.000000  \n",
       "NumberOfTime30-59DaysPastDueNotWorse       0.000000       0.0       0.000000  \n",
       "DebtRatio                               3870.000000       0.0       0.249908  \n",
       "MonthlyIncome                                   NaN    5716.0    8158.000000  \n",
       "NumberOfOpenCreditLinesAndLoans           18.000000       4.0       8.000000  \n",
       "NumberOfTimes90DaysLate                    0.000000       0.0       0.000000  \n",
       "NumberRealEstateLoansOrLines               1.000000       0.0       2.000000  \n",
       "NumberOfTime60-89DaysPastDueNotWorse       0.000000       0.0       0.000000  \n",
       "NumberOfDependents                         0.000000       0.0       0.000000  "
      ]
     },
     "execution_count": 4,
     "metadata": {},
     "output_type": "execute_result"
    }
   ],
   "source": [
    "df.tail(8).T"
   ]
  },
  {
   "cell_type": "code",
   "execution_count": 5,
   "id": "5c5d614f",
   "metadata": {},
   "outputs": [
    {
     "data": {
      "text/html": [
       "<div>\n",
       "<style scoped>\n",
       "    .dataframe tbody tr th:only-of-type {\n",
       "        vertical-align: middle;\n",
       "    }\n",
       "\n",
       "    .dataframe tbody tr th {\n",
       "        vertical-align: top;\n",
       "    }\n",
       "\n",
       "    .dataframe thead th {\n",
       "        text-align: right;\n",
       "    }\n",
       "</style>\n",
       "<table border=\"1\" class=\"dataframe\">\n",
       "  <thead>\n",
       "    <tr style=\"text-align: right;\">\n",
       "      <th></th>\n",
       "      <th>count</th>\n",
       "      <th>mean</th>\n",
       "      <th>std</th>\n",
       "      <th>min</th>\n",
       "      <th>25%</th>\n",
       "      <th>50%</th>\n",
       "      <th>75%</th>\n",
       "      <th>max</th>\n",
       "    </tr>\n",
       "  </thead>\n",
       "  <tbody>\n",
       "    <tr>\n",
       "      <th>Unnamed: 0</th>\n",
       "      <td>150000.0</td>\n",
       "      <td>75000.500000</td>\n",
       "      <td>43301.414527</td>\n",
       "      <td>1.0</td>\n",
       "      <td>37500.750000</td>\n",
       "      <td>75000.500000</td>\n",
       "      <td>112500.250000</td>\n",
       "      <td>150000.0</td>\n",
       "    </tr>\n",
       "    <tr>\n",
       "      <th>SeriousDlqin2yrs</th>\n",
       "      <td>150000.0</td>\n",
       "      <td>0.066840</td>\n",
       "      <td>0.249746</td>\n",
       "      <td>0.0</td>\n",
       "      <td>0.000000</td>\n",
       "      <td>0.000000</td>\n",
       "      <td>0.000000</td>\n",
       "      <td>1.0</td>\n",
       "    </tr>\n",
       "    <tr>\n",
       "      <th>RevolvingUtilizationOfUnsecuredLines</th>\n",
       "      <td>150000.0</td>\n",
       "      <td>6.048438</td>\n",
       "      <td>249.755371</td>\n",
       "      <td>0.0</td>\n",
       "      <td>0.029867</td>\n",
       "      <td>0.154181</td>\n",
       "      <td>0.559046</td>\n",
       "      <td>50708.0</td>\n",
       "    </tr>\n",
       "    <tr>\n",
       "      <th>age</th>\n",
       "      <td>150000.0</td>\n",
       "      <td>52.295207</td>\n",
       "      <td>14.771866</td>\n",
       "      <td>0.0</td>\n",
       "      <td>41.000000</td>\n",
       "      <td>52.000000</td>\n",
       "      <td>63.000000</td>\n",
       "      <td>109.0</td>\n",
       "    </tr>\n",
       "    <tr>\n",
       "      <th>NumberOfTime30-59DaysPastDueNotWorse</th>\n",
       "      <td>150000.0</td>\n",
       "      <td>0.421033</td>\n",
       "      <td>4.192781</td>\n",
       "      <td>0.0</td>\n",
       "      <td>0.000000</td>\n",
       "      <td>0.000000</td>\n",
       "      <td>0.000000</td>\n",
       "      <td>98.0</td>\n",
       "    </tr>\n",
       "    <tr>\n",
       "      <th>DebtRatio</th>\n",
       "      <td>150000.0</td>\n",
       "      <td>353.005076</td>\n",
       "      <td>2037.818523</td>\n",
       "      <td>0.0</td>\n",
       "      <td>0.175074</td>\n",
       "      <td>0.366508</td>\n",
       "      <td>0.868254</td>\n",
       "      <td>329664.0</td>\n",
       "    </tr>\n",
       "    <tr>\n",
       "      <th>MonthlyIncome</th>\n",
       "      <td>120269.0</td>\n",
       "      <td>6670.221237</td>\n",
       "      <td>14384.674215</td>\n",
       "      <td>0.0</td>\n",
       "      <td>3400.000000</td>\n",
       "      <td>5400.000000</td>\n",
       "      <td>8249.000000</td>\n",
       "      <td>3008750.0</td>\n",
       "    </tr>\n",
       "    <tr>\n",
       "      <th>NumberOfOpenCreditLinesAndLoans</th>\n",
       "      <td>150000.0</td>\n",
       "      <td>8.452760</td>\n",
       "      <td>5.145951</td>\n",
       "      <td>0.0</td>\n",
       "      <td>5.000000</td>\n",
       "      <td>8.000000</td>\n",
       "      <td>11.000000</td>\n",
       "      <td>58.0</td>\n",
       "    </tr>\n",
       "    <tr>\n",
       "      <th>NumberOfTimes90DaysLate</th>\n",
       "      <td>150000.0</td>\n",
       "      <td>0.265973</td>\n",
       "      <td>4.169304</td>\n",
       "      <td>0.0</td>\n",
       "      <td>0.000000</td>\n",
       "      <td>0.000000</td>\n",
       "      <td>0.000000</td>\n",
       "      <td>98.0</td>\n",
       "    </tr>\n",
       "    <tr>\n",
       "      <th>NumberRealEstateLoansOrLines</th>\n",
       "      <td>150000.0</td>\n",
       "      <td>1.018240</td>\n",
       "      <td>1.129771</td>\n",
       "      <td>0.0</td>\n",
       "      <td>0.000000</td>\n",
       "      <td>1.000000</td>\n",
       "      <td>2.000000</td>\n",
       "      <td>54.0</td>\n",
       "    </tr>\n",
       "    <tr>\n",
       "      <th>NumberOfTime60-89DaysPastDueNotWorse</th>\n",
       "      <td>150000.0</td>\n",
       "      <td>0.240387</td>\n",
       "      <td>4.155179</td>\n",
       "      <td>0.0</td>\n",
       "      <td>0.000000</td>\n",
       "      <td>0.000000</td>\n",
       "      <td>0.000000</td>\n",
       "      <td>98.0</td>\n",
       "    </tr>\n",
       "    <tr>\n",
       "      <th>NumberOfDependents</th>\n",
       "      <td>146076.0</td>\n",
       "      <td>0.757222</td>\n",
       "      <td>1.115086</td>\n",
       "      <td>0.0</td>\n",
       "      <td>0.000000</td>\n",
       "      <td>0.000000</td>\n",
       "      <td>1.000000</td>\n",
       "      <td>20.0</td>\n",
       "    </tr>\n",
       "  </tbody>\n",
       "</table>\n",
       "</div>"
      ],
      "text/plain": [
       "                                         count          mean           std  \\\n",
       "Unnamed: 0                            150000.0  75000.500000  43301.414527   \n",
       "SeriousDlqin2yrs                      150000.0      0.066840      0.249746   \n",
       "RevolvingUtilizationOfUnsecuredLines  150000.0      6.048438    249.755371   \n",
       "age                                   150000.0     52.295207     14.771866   \n",
       "NumberOfTime30-59DaysPastDueNotWorse  150000.0      0.421033      4.192781   \n",
       "DebtRatio                             150000.0    353.005076   2037.818523   \n",
       "MonthlyIncome                         120269.0   6670.221237  14384.674215   \n",
       "NumberOfOpenCreditLinesAndLoans       150000.0      8.452760      5.145951   \n",
       "NumberOfTimes90DaysLate               150000.0      0.265973      4.169304   \n",
       "NumberRealEstateLoansOrLines          150000.0      1.018240      1.129771   \n",
       "NumberOfTime60-89DaysPastDueNotWorse  150000.0      0.240387      4.155179   \n",
       "NumberOfDependents                    146076.0      0.757222      1.115086   \n",
       "\n",
       "                                      min           25%           50%  \\\n",
       "Unnamed: 0                            1.0  37500.750000  75000.500000   \n",
       "SeriousDlqin2yrs                      0.0      0.000000      0.000000   \n",
       "RevolvingUtilizationOfUnsecuredLines  0.0      0.029867      0.154181   \n",
       "age                                   0.0     41.000000     52.000000   \n",
       "NumberOfTime30-59DaysPastDueNotWorse  0.0      0.000000      0.000000   \n",
       "DebtRatio                             0.0      0.175074      0.366508   \n",
       "MonthlyIncome                         0.0   3400.000000   5400.000000   \n",
       "NumberOfOpenCreditLinesAndLoans       0.0      5.000000      8.000000   \n",
       "NumberOfTimes90DaysLate               0.0      0.000000      0.000000   \n",
       "NumberRealEstateLoansOrLines          0.0      0.000000      1.000000   \n",
       "NumberOfTime60-89DaysPastDueNotWorse  0.0      0.000000      0.000000   \n",
       "NumberOfDependents                    0.0      0.000000      0.000000   \n",
       "\n",
       "                                                75%        max  \n",
       "Unnamed: 0                            112500.250000   150000.0  \n",
       "SeriousDlqin2yrs                           0.000000        1.0  \n",
       "RevolvingUtilizationOfUnsecuredLines       0.559046    50708.0  \n",
       "age                                       63.000000      109.0  \n",
       "NumberOfTime30-59DaysPastDueNotWorse       0.000000       98.0  \n",
       "DebtRatio                                  0.868254   329664.0  \n",
       "MonthlyIncome                           8249.000000  3008750.0  \n",
       "NumberOfOpenCreditLinesAndLoans           11.000000       58.0  \n",
       "NumberOfTimes90DaysLate                    0.000000       98.0  \n",
       "NumberRealEstateLoansOrLines               2.000000       54.0  \n",
       "NumberOfTime60-89DaysPastDueNotWorse       0.000000       98.0  \n",
       "NumberOfDependents                         1.000000       20.0  "
      ]
     },
     "execution_count": 5,
     "metadata": {},
     "output_type": "execute_result"
    }
   ],
   "source": [
    "df.describe().T"
   ]
  },
  {
   "cell_type": "code",
   "execution_count": 6,
   "id": "da563335",
   "metadata": {},
   "outputs": [
    {
     "name": "stdout",
     "output_type": "stream",
     "text": [
      "<class 'pandas.core.frame.DataFrame'>\n",
      "RangeIndex: 150000 entries, 0 to 149999\n",
      "Data columns (total 12 columns):\n",
      " #   Column                                Non-Null Count   Dtype  \n",
      "---  ------                                --------------   -----  \n",
      " 0   Unnamed: 0                            150000 non-null  int64  \n",
      " 1   SeriousDlqin2yrs                      150000 non-null  int64  \n",
      " 2   RevolvingUtilizationOfUnsecuredLines  150000 non-null  float64\n",
      " 3   age                                   150000 non-null  int64  \n",
      " 4   NumberOfTime30-59DaysPastDueNotWorse  150000 non-null  int64  \n",
      " 5   DebtRatio                             150000 non-null  float64\n",
      " 6   MonthlyIncome                         120269 non-null  float64\n",
      " 7   NumberOfOpenCreditLinesAndLoans       150000 non-null  int64  \n",
      " 8   NumberOfTimes90DaysLate               150000 non-null  int64  \n",
      " 9   NumberRealEstateLoansOrLines          150000 non-null  int64  \n",
      " 10  NumberOfTime60-89DaysPastDueNotWorse  150000 non-null  int64  \n",
      " 11  NumberOfDependents                    146076 non-null  float64\n",
      "dtypes: float64(4), int64(8)\n",
      "memory usage: 13.7 MB\n",
      "None\n"
     ]
    }
   ],
   "source": [
    "print(df.info())"
   ]
  },
  {
   "cell_type": "code",
   "execution_count": 7,
   "id": "a4124484",
   "metadata": {},
   "outputs": [],
   "source": [
    "df['MonthlyIncome']=df['MonthlyIncome'].fillna(df['MonthlyIncome'].median())\n",
    "df['NumberOfDependents']=df['NumberOfDependents'].fillna(df['NumberOfDependents'].median())"
   ]
  },
  {
   "cell_type": "code",
   "execution_count": 8,
   "id": "028d70a1",
   "metadata": {},
   "outputs": [
    {
     "name": "stdout",
     "output_type": "stream",
     "text": [
      "<class 'pandas.core.frame.DataFrame'>\n",
      "RangeIndex: 150000 entries, 0 to 149999\n",
      "Data columns (total 12 columns):\n",
      " #   Column                                Non-Null Count   Dtype  \n",
      "---  ------                                --------------   -----  \n",
      " 0   Unnamed: 0                            150000 non-null  int64  \n",
      " 1   SeriousDlqin2yrs                      150000 non-null  int64  \n",
      " 2   RevolvingUtilizationOfUnsecuredLines  150000 non-null  float64\n",
      " 3   age                                   150000 non-null  int64  \n",
      " 4   NumberOfTime30-59DaysPastDueNotWorse  150000 non-null  int64  \n",
      " 5   DebtRatio                             150000 non-null  float64\n",
      " 6   MonthlyIncome                         150000 non-null  float64\n",
      " 7   NumberOfOpenCreditLinesAndLoans       150000 non-null  int64  \n",
      " 8   NumberOfTimes90DaysLate               150000 non-null  int64  \n",
      " 9   NumberRealEstateLoansOrLines          150000 non-null  int64  \n",
      " 10  NumberOfTime60-89DaysPastDueNotWorse  150000 non-null  int64  \n",
      " 11  NumberOfDependents                    150000 non-null  float64\n",
      "dtypes: float64(4), int64(8)\n",
      "memory usage: 13.7 MB\n",
      "None\n"
     ]
    }
   ],
   "source": [
    "print(df.info())"
   ]
  },
  {
   "cell_type": "code",
   "execution_count": 9,
   "id": "a25422a5",
   "metadata": {},
   "outputs": [],
   "source": [
    "input=['RevolvingUtilizationOfUnsecuredLines', 'age', 'NumberOfTime30-59DaysPastDueNotWorse', \n",
    "       'NumberOfTime30-59DaysPastDueNotWorse', 'DebtRatio', 'MonthlyIncome', 'NumberOfOpenCreditLinesAndLoans',\n",
    "      'NumberOfTimes90DaysLate', 'NumberRealEstateLoansOrLines', 'NumberOfTime60-89DaysPastDueNotWorse',\n",
    "      'NumberOfDependents']\n",
    "output=['SeriousDlqin2yrs']"
   ]
  },
  {
   "cell_type": "code",
   "execution_count": 10,
   "id": "0442fe50",
   "metadata": {},
   "outputs": [],
   "source": [
    "df_input=df[input]\n",
    "df_output=df[output]"
   ]
  },
  {
   "cell_type": "code",
   "execution_count": 11,
   "id": "7d2c573d",
   "metadata": {},
   "outputs": [
    {
     "data": {
      "text/plain": [
       "SeriousDlqin2yrs\n",
       "0                   139974\n",
       "1                    10026\n",
       "dtype: int64"
      ]
     },
     "execution_count": 11,
     "metadata": {},
     "output_type": "execute_result"
    }
   ],
   "source": [
    "df[output].value_counts() #количество вернувших и не вернувших кредит"
   ]
  },
  {
   "cell_type": "code",
   "execution_count": 14,
   "id": "c8f6bc0b",
   "metadata": {},
   "outputs": [],
   "source": [
    "scaler = StandardScaler()\n",
    "df_input=scaler.fit_transform(df_input)"
   ]
  },
  {
   "cell_type": "code",
   "execution_count": 17,
   "id": "b3b6bdc4",
   "metadata": {},
   "outputs": [],
   "source": [
    "X_train, X_test, y_train, y_test = train_test_split(df_input, df_output, random_state=102) #делим на тестовую и тренировочную "
   ]
  },
  {
   "cell_type": "code",
   "execution_count": 18,
   "id": "95a6eeb3",
   "metadata": {},
   "outputs": [
    {
     "data": {
      "text/plain": [
       "(112500, 11)"
      ]
     },
     "execution_count": 18,
     "metadata": {},
     "output_type": "execute_result"
    }
   ],
   "source": [
    "X_train.shape"
   ]
  },
  {
   "cell_type": "code",
   "execution_count": 19,
   "id": "a7f8adc2",
   "metadata": {},
   "outputs": [
    {
     "data": {
      "text/plain": [
       "(37500, 11)"
      ]
     },
     "execution_count": 19,
     "metadata": {},
     "output_type": "execute_result"
    }
   ],
   "source": [
    "X_test.shape"
   ]
  },
  {
   "cell_type": "code",
   "execution_count": 20,
   "id": "1682f95f",
   "metadata": {},
   "outputs": [
    {
     "data": {
      "text/plain": [
       "'2.10.1'"
      ]
     },
     "execution_count": 20,
     "metadata": {},
     "output_type": "execute_result"
    }
   ],
   "source": [
    "tf.__version__"
   ]
  },
  {
   "cell_type": "code",
   "execution_count": 21,
   "id": "b6a3a401",
   "metadata": {},
   "outputs": [
    {
     "data": {
      "text/plain": [
       "'2.10.0'"
      ]
     },
     "execution_count": 21,
     "metadata": {},
     "output_type": "execute_result"
    }
   ],
   "source": [
    "keras.__version__"
   ]
  },
  {
   "cell_type": "code",
   "execution_count": 22,
   "id": "3161fb52",
   "metadata": {},
   "outputs": [],
   "source": [
    "tf.keras.backend.clear_session()\n",
    "np.random.seed(102)\n",
    "tf.random.set_seed(102)"
   ]
  },
  {
   "cell_type": "code",
   "execution_count": 23,
   "id": "b2233e87",
   "metadata": {},
   "outputs": [],
   "source": [
    "callbacks = tf.keras.callbacks.EarlyStopping(\n",
    "    monitor='val_loss',\n",
    "    min_delta=0.01,\n",
    "    patience=30,\n",
    "    verbose=0,\n",
    "    mode='auto',\n",
    "    baseline=None,\n",
    "    restore_best_weights=False\n",
    ")"
   ]
  },
  {
   "cell_type": "markdown",
   "id": "f2ca4430",
   "metadata": {},
   "source": [
    "Модель 1"
   ]
  },
  {
   "cell_type": "code",
   "execution_count": 24,
   "id": "9291bd62",
   "metadata": {},
   "outputs": [],
   "source": [
    "model1=tf.keras.Sequential([\n",
    "    tf.keras.layers.Dense(30, activation=\"relu\",input_shape=X_train.shape[1:]),\n",
    "    tf.keras.layers.Dense(1, activation=\"sigmoid\", dtype=tf.float64)\n",
    "])"
   ]
  },
  {
   "cell_type": "code",
   "execution_count": 25,
   "id": "38d77169",
   "metadata": {
    "scrolled": true
   },
   "outputs": [
    {
     "name": "stdout",
     "output_type": "stream",
     "text": [
      "Model: \"sequential\"\n",
      "_________________________________________________________________\n",
      " Layer (type)                Output Shape              Param #   \n",
      "=================================================================\n",
      " dense (Dense)               (None, 30)                360       \n",
      "                                                                 \n",
      " dense_1 (Dense)             (None, 1)                 31        \n",
      "                                                                 \n",
      "=================================================================\n",
      "Total params: 391\n",
      "Trainable params: 391\n",
      "Non-trainable params: 0\n",
      "_________________________________________________________________\n"
     ]
    }
   ],
   "source": [
    "model1.summary()"
   ]
  },
  {
   "cell_type": "code",
   "execution_count": 30,
   "id": "9c393187",
   "metadata": {},
   "outputs": [],
   "source": [
    "physical_devices = tf.config.list_physical_devices('GPU')"
   ]
  },
  {
   "cell_type": "code",
   "execution_count": 31,
   "id": "5ff32e60",
   "metadata": {},
   "outputs": [],
   "source": [
    "model1.compile(loss=keras.losses.BinaryCrossentropy(), \n",
    "              optimizer=keras.optimizers.Adam(learning_rate=0.005), \n",
    "              metrics=keras.metrics.AUC())"
   ]
  },
  {
   "cell_type": "code",
   "execution_count": 32,
   "id": "6d9d8402",
   "metadata": {},
   "outputs": [
    {
     "name": "stdout",
     "output_type": "stream",
     "text": [
      "Epoch 1/15\n",
      "225/225 [==============================] - 4s 10ms/step - loss: 0.2564 - auc: 0.6845 - val_loss: 0.1974 - val_auc: 0.8025\n",
      "Epoch 2/15\n",
      "225/225 [==============================] - 2s 8ms/step - loss: 0.1948 - auc: 0.8171 - val_loss: 0.1908 - val_auc: 0.8209\n",
      "Epoch 3/15\n",
      "225/225 [==============================] - 2s 8ms/step - loss: 0.1917 - auc: 0.8253 - val_loss: 0.1894 - val_auc: 0.8226\n",
      "Epoch 4/15\n",
      "225/225 [==============================] - 2s 8ms/step - loss: 0.1905 - auc: 0.8259 - val_loss: 0.1886 - val_auc: 0.8249\n",
      "Epoch 5/15\n",
      "225/225 [==============================] - 2s 9ms/step - loss: 0.1897 - auc: 0.8287 - val_loss: 0.1881 - val_auc: 0.8261\n",
      "Epoch 6/15\n",
      "225/225 [==============================] - 2s 9ms/step - loss: 0.1891 - auc: 0.8298 - val_loss: 0.1881 - val_auc: 0.8303\n",
      "Epoch 7/15\n",
      "225/225 [==============================] - 2s 8ms/step - loss: 0.1889 - auc: 0.8307 - val_loss: 0.1874 - val_auc: 0.8278\n",
      "Epoch 8/15\n",
      "225/225 [==============================] - 2s 8ms/step - loss: 0.1887 - auc: 0.8298 - val_loss: 0.1881 - val_auc: 0.8275\n",
      "Epoch 9/15\n",
      "225/225 [==============================] - 2s 8ms/step - loss: 0.1885 - auc: 0.8309 - val_loss: 0.1874 - val_auc: 0.8275\n",
      "Epoch 10/15\n",
      "225/225 [==============================] - 2s 8ms/step - loss: 0.1882 - auc: 0.8316 - val_loss: 0.1873 - val_auc: 0.8310\n",
      "Epoch 11/15\n",
      "225/225 [==============================] - 2s 8ms/step - loss: 0.1882 - auc: 0.8320 - val_loss: 0.1883 - val_auc: 0.8304\n",
      "Epoch 12/15\n",
      "225/225 [==============================] - 2s 8ms/step - loss: 0.1882 - auc: 0.8320 - val_loss: 0.1865 - val_auc: 0.8308\n",
      "Epoch 13/15\n",
      "225/225 [==============================] - 2s 8ms/step - loss: 0.1883 - auc: 0.8319 - val_loss: 0.1871 - val_auc: 0.8312\n",
      "Epoch 14/15\n",
      "225/225 [==============================] - 2s 9ms/step - loss: 0.1878 - auc: 0.8329 - val_loss: 0.1877 - val_auc: 0.8291\n",
      "Epoch 15/15\n",
      "225/225 [==============================] - 2s 8ms/step - loss: 0.1876 - auc: 0.8335 - val_loss: 0.1868 - val_auc: 0.8321\n"
     ]
    }
   ],
   "source": [
    "history=model1.fit(X_train, y_train, epochs=15, validation_data=(X_test, y_test), batch_size=500, callbacks=callbacks)\n"
   ]
  },
  {
   "cell_type": "code",
   "execution_count": 33,
   "id": "b6b38711",
   "metadata": {},
   "outputs": [
    {
     "data": {
      "text/plain": [
       "dict_keys(['loss', 'auc', 'val_loss', 'val_auc'])"
      ]
     },
     "execution_count": 33,
     "metadata": {},
     "output_type": "execute_result"
    }
   ],
   "source": [
    "history.history.keys()"
   ]
  },
  {
   "cell_type": "code",
   "execution_count": 34,
   "id": "e2ec6665",
   "metadata": {},
   "outputs": [
    {
     "data": {
      "text/plain": [
       "[0.18684029579162598, 0.8320748209953308]"
      ]
     },
     "execution_count": 34,
     "metadata": {},
     "output_type": "execute_result"
    }
   ],
   "source": [
    "model1.evaluate(X_test, y_test, verbose=0)"
   ]
  },
  {
   "cell_type": "code",
   "execution_count": 35,
   "id": "59691b05",
   "metadata": {},
   "outputs": [
    {
     "data": {
      "image/png": "[encoded data removed]",
      "text/plain": [
       "<Figure size 640x480 with 1 Axes>"
      ]
     },
     "metadata": {},
     "output_type": "display_data"
    }
   ],
   "source": [
    "plt.plot(history.history['auc'], label='auc обучающа выборка')\n",
    "plt.plot(history.history['val_auc'], label='auc тестовая выборка')\n",
    "#plt.plot(history.history['loss'], label='Оценка точности - обучающа выборка')\n",
    "#plt.plot(history.history['val_loss'], label='Оценка точности - тестовая выборка')\n",
    "plt.xlabel('Epoch')\n",
    "plt.ylabel('auc')\n",
    "plt.legend()\n",
    "plt.show()"
   ]
  },
  {
   "cell_type": "markdown",
   "id": "b196f4e9",
   "metadata": {},
   "source": [
    "Модель 2"
   ]
  },
  {
   "cell_type": "code",
   "execution_count": 36,
   "id": "edcbe276",
   "metadata": {},
   "outputs": [],
   "source": [
    "model2=tf.keras.Sequential([\n",
    "    tf.keras.layers.Dense(30, activation=\"relu\",input_shape=X_train.shape[1:]),\n",
    "    tf.keras.layers.Dense(10, activation=\"relu\"),\n",
    "    tf.keras.layers.Dense(1, activation=\"sigmoid\", dtype=tf.float64)\n",
    "])"
   ]
  },
  {
   "cell_type": "code",
   "execution_count": 37,
   "id": "ba2794d3",
   "metadata": {},
   "outputs": [
    {
     "name": "stdout",
     "output_type": "stream",
     "text": [
      "Model: \"sequential_1\"\n",
      "_________________________________________________________________\n",
      " Layer (type)                Output Shape              Param #   \n",
      "=================================================================\n",
      " dense_2 (Dense)             (None, 30)                360       \n",
      "                                                                 \n",
      " dense_3 (Dense)             (None, 10)                310       \n",
      "                                                                 \n",
      " dense_4 (Dense)             (None, 1)                 11        \n",
      "                                                                 \n",
      "=================================================================\n",
      "Total params: 681\n",
      "Trainable params: 681\n",
      "Non-trainable params: 0\n",
      "_________________________________________________________________\n"
     ]
    }
   ],
   "source": [
    "model2.summary()"
   ]
  },
  {
   "cell_type": "code",
   "execution_count": 38,
   "id": "48e0f6ab",
   "metadata": {},
   "outputs": [],
   "source": [
    "model2.compile(loss=keras.losses.BinaryCrossentropy(), \n",
    "              optimizer=keras.optimizers.Adam(learning_rate=0.01), \n",
    "              metrics=keras.metrics.AUC())"
   ]
  },
  {
   "cell_type": "code",
   "execution_count": 39,
   "id": "fc2d9234",
   "metadata": {},
   "outputs": [
    {
     "name": "stdout",
     "output_type": "stream",
     "text": [
      "Epoch 1/15\n",
      "113/113 [==============================] - 2s 12ms/step - loss: 0.2518 - auc_1: 0.7019 - val_loss: 0.1938 - val_auc_1: 0.8136\n",
      "Epoch 2/15\n",
      "113/113 [==============================] - 1s 9ms/step - loss: 0.1931 - auc_1: 0.8214 - val_loss: 0.1884 - val_auc_1: 0.8258\n",
      "Epoch 3/15\n",
      "113/113 [==============================] - 1s 9ms/step - loss: 0.1900 - auc_1: 0.8276 - val_loss: 0.1874 - val_auc_1: 0.8280\n",
      "Epoch 4/15\n",
      "113/113 [==============================] - 1s 9ms/step - loss: 0.1890 - auc_1: 0.8296 - val_loss: 0.1871 - val_auc_1: 0.8285\n",
      "Epoch 5/15\n",
      "113/113 [==============================] - 1s 9ms/step - loss: 0.1885 - auc_1: 0.8310 - val_loss: 0.1869 - val_auc_1: 0.8304\n",
      "Epoch 6/15\n",
      "113/113 [==============================] - 1s 9ms/step - loss: 0.1881 - auc_1: 0.8322 - val_loss: 0.1867 - val_auc_1: 0.8319\n",
      "Epoch 7/15\n",
      "113/113 [==============================] - 1s 9ms/step - loss: 0.1881 - auc_1: 0.8320 - val_loss: 0.1864 - val_auc_1: 0.8307\n",
      "Epoch 8/15\n",
      "113/113 [==============================] - 1s 9ms/step - loss: 0.1879 - auc_1: 0.8313 - val_loss: 0.1867 - val_auc_1: 0.8316\n",
      "Epoch 9/15\n",
      "113/113 [==============================] - 1s 10ms/step - loss: 0.1878 - auc_1: 0.8320 - val_loss: 0.1871 - val_auc_1: 0.8292\n",
      "Epoch 10/15\n",
      "113/113 [==============================] - 1s 11ms/step - loss: 0.1876 - auc_1: 0.8328 - val_loss: 0.1871 - val_auc_1: 0.8322\n",
      "Epoch 11/15\n",
      "113/113 [==============================] - 1s 11ms/step - loss: 0.1873 - auc_1: 0.8333 - val_loss: 0.1868 - val_auc_1: 0.8309\n",
      "Epoch 12/15\n",
      "113/113 [==============================] - 1s 10ms/step - loss: 0.1875 - auc_1: 0.8326 - val_loss: 0.1859 - val_auc_1: 0.8331\n",
      "Epoch 13/15\n",
      "113/113 [==============================] - 1s 10ms/step - loss: 0.1876 - auc_1: 0.8325 - val_loss: 0.1873 - val_auc_1: 0.8335\n",
      "Epoch 14/15\n",
      "113/113 [==============================] - 1s 9ms/step - loss: 0.1874 - auc_1: 0.8335 - val_loss: 0.1874 - val_auc_1: 0.8311\n",
      "Epoch 15/15\n",
      "113/113 [==============================] - 1s 9ms/step - loss: 0.1870 - auc_1: 0.8342 - val_loss: 0.1868 - val_auc_1: 0.8333\n",
      "Wall time: 17.5 s\n"
     ]
    }
   ],
   "source": [
    "%%time\n",
    "history=model2.fit(X_train, y_train, epochs=15, validation_data=(X_test, y_test), batch_size=1000, callbacks=callbacks)"
   ]
  },
  {
   "cell_type": "code",
   "execution_count": 45,
   "id": "cb121816",
   "metadata": {},
   "outputs": [
    {
     "data": {
      "text/plain": [
       "[0.18681977689266205, 0.8333338499069214]"
      ]
     },
     "execution_count": 45,
     "metadata": {},
     "output_type": "execute_result"
    }
   ],
   "source": [
    "model2.evaluate(X_test, y_test, verbose=0)"
   ]
  },
  {
   "cell_type": "code",
   "execution_count": 40,
   "id": "6eda0041",
   "metadata": {},
   "outputs": [
    {
     "data": {
      "image/png": "[encoded data removed]",
      "text/plain": [
       "<Figure size 640x480 with 1 Axes>"
      ]
     },
     "metadata": {},
     "output_type": "display_data"
    }
   ],
   "source": [
    "plt.plot(history.history['auc_1'], label='auc обучающа выборка')\n",
    "plt.plot(history.history['val_auc_1'], label='auc тестовая выборка')\n",
    "#plt.plot(history.history['loss'], label='Оценка точности - обучающа выборка')\n",
    "#plt.plot(history.history['val_loss'], label='Оценка точности - тестовая выборка')\n",
    "plt.xlabel('Epoch')\n",
    "plt.ylabel('auc')\n",
    "plt.legend()\n",
    "plt.show()"
   ]
  },
  {
   "cell_type": "markdown",
   "id": "82370667",
   "metadata": {},
   "source": [
    "Модель 3"
   ]
  },
  {
   "cell_type": "code",
   "execution_count": 41,
   "id": "c20bca53",
   "metadata": {},
   "outputs": [],
   "source": [
    "model3=tf.keras.Sequential([\n",
    "    tf.keras.layers.Dense(100, activation=\"relu\",input_shape=X_train.shape[1:]),\n",
    "    tf.keras.layers.Dense(50, activation=\"relu\"),\n",
    "    tf.keras.layers.Dense(10, activation=\"relu\"),\n",
    "    tf.keras.layers.Dense(1, activation=\"sigmoid\", dtype=tf.float64)\n",
    "])"
   ]
  },
  {
   "cell_type": "code",
   "execution_count": 47,
   "id": "335192cf",
   "metadata": {},
   "outputs": [
    {
     "name": "stdout",
     "output_type": "stream",
     "text": [
      "Model: \"sequential_2\"\n",
      "_________________________________________________________________\n",
      " Layer (type)                Output Shape              Param #   \n",
      "=================================================================\n",
      " dense_5 (Dense)             (None, 100)               1200      \n",
      "                                                                 \n",
      " dense_6 (Dense)             (None, 50)                5050      \n",
      "                                                                 \n",
      " dense_7 (Dense)             (None, 10)                510       \n",
      "                                                                 \n",
      " dense_8 (Dense)             (None, 1)                 11        \n",
      "                                                                 \n",
      "=================================================================\n",
      "Total params: 6,771\n",
      "Trainable params: 6,771\n",
      "Non-trainable params: 0\n",
      "_________________________________________________________________\n"
     ]
    }
   ],
   "source": [
    "model3.summary()"
   ]
  },
  {
   "cell_type": "code",
   "execution_count": 42,
   "id": "b35c926d",
   "metadata": {},
   "outputs": [],
   "source": [
    "model3.compile(loss=keras.losses.BinaryCrossentropy(), \n",
    "              optimizer=keras.optimizers.Adam(learning_rate=0.005), \n",
    "              metrics=keras.metrics.AUC())"
   ]
  },
  {
   "cell_type": "code",
   "execution_count": 43,
   "id": "8df5c861",
   "metadata": {},
   "outputs": [
    {
     "name": "stdout",
     "output_type": "stream",
     "text": [
      "Epoch 1/15\n",
      "113/113 [==============================] - 3s 15ms/step - loss: 0.2287 - auc_2: 0.7433 - val_loss: 0.1886 - val_auc_2: 0.8255\n",
      "Epoch 2/15\n",
      "113/113 [==============================] - 1s 10ms/step - loss: 0.1909 - auc_2: 0.8249 - val_loss: 0.1878 - val_auc_2: 0.8292\n",
      "Epoch 3/15\n",
      "113/113 [==============================] - 1s 10ms/step - loss: 0.1891 - auc_2: 0.8306 - val_loss: 0.1869 - val_auc_2: 0.8317\n",
      "Epoch 4/15\n",
      "113/113 [==============================] - 1s 10ms/step - loss: 0.1883 - auc_2: 0.8318 - val_loss: 0.1865 - val_auc_2: 0.8328\n",
      "Epoch 5/15\n",
      "113/113 [==============================] - 1s 10ms/step - loss: 0.1880 - auc_2: 0.8321 - val_loss: 0.1865 - val_auc_2: 0.8309\n",
      "Epoch 6/15\n",
      "113/113 [==============================] - 1s 10ms/step - loss: 0.1875 - auc_2: 0.8341 - val_loss: 0.1858 - val_auc_2: 0.8347\n",
      "Epoch 7/15\n",
      "113/113 [==============================] - 1s 9ms/step - loss: 0.1875 - auc_2: 0.8342 - val_loss: 0.1877 - val_auc_2: 0.8331\n",
      "Epoch 8/15\n",
      "113/113 [==============================] - 1s 9ms/step - loss: 0.1874 - auc_2: 0.8333 - val_loss: 0.1863 - val_auc_2: 0.8329\n",
      "Epoch 9/15\n",
      "113/113 [==============================] - 1s 9ms/step - loss: 0.1869 - auc_2: 0.8350 - val_loss: 0.1866 - val_auc_2: 0.8317\n",
      "Epoch 10/15\n",
      "113/113 [==============================] - 1s 10ms/step - loss: 0.1870 - auc_2: 0.8346 - val_loss: 0.1867 - val_auc_2: 0.8338\n",
      "Epoch 11/15\n",
      "113/113 [==============================] - 1s 11ms/step - loss: 0.1867 - auc_2: 0.8360 - val_loss: 0.1855 - val_auc_2: 0.8331\n",
      "Epoch 12/15\n",
      "113/113 [==============================] - 1s 10ms/step - loss: 0.1868 - auc_2: 0.8354 - val_loss: 0.1854 - val_auc_2: 0.8339\n",
      "Epoch 13/15\n",
      "113/113 [==============================] - 1s 11ms/step - loss: 0.1868 - auc_2: 0.8346 - val_loss: 0.1858 - val_auc_2: 0.8341\n",
      "Epoch 14/15\n",
      "113/113 [==============================] - 1s 11ms/step - loss: 0.1864 - auc_2: 0.8364 - val_loss: 0.1874 - val_auc_2: 0.8323\n",
      "Epoch 15/15\n",
      "113/113 [==============================] - 1s 11ms/step - loss: 0.1860 - auc_2: 0.8373 - val_loss: 0.1856 - val_auc_2: 0.8349\n",
      "Wall time: 18.5 s\n"
     ]
    }
   ],
   "source": [
    "%%time\n",
    "history=model3.fit(X_train, y_train, epochs=15, validation_data=(X_test, y_test), batch_size=1000, callbacks=callbacks)"
   ]
  },
  {
   "cell_type": "code",
   "execution_count": 46,
   "id": "f259e721",
   "metadata": {},
   "outputs": [
    {
     "data": {
      "text/plain": [
       "[0.1856301873922348, 0.8349130749702454]"
      ]
     },
     "execution_count": 46,
     "metadata": {},
     "output_type": "execute_result"
    }
   ],
   "source": [
    "model3.evaluate(X_test, y_test, verbose=0)"
   ]
  },
  {
   "cell_type": "code",
   "execution_count": 44,
   "id": "9c8f0106",
   "metadata": {},
   "outputs": [
    {
     "data": {
      "image/png": "[encoded data removed]",
      "text/plain": [
       "<Figure size 640x480 with 1 Axes>"
      ]
     },
     "metadata": {},
     "output_type": "display_data"
    }
   ],
   "source": [
    "plt.plot(history.history['auc_2'], label='auc обучающа выборка')\n",
    "plt.plot(history.history['val_auc_2'], label='auc тестовая выборка')\n",
    "#plt.plot(history.history['loss'], label='Оценка точности - обучающа выборка')\n",
    "#plt.plot(history.history['val_loss'], label='Оценка точности - тестовая выборка')\n",
    "plt.xlabel('Epoch')\n",
    "plt.ylabel('auc')\n",
    "plt.legend()\n",
    "plt.show()"
   ]
  },
  {
   "cell_type": "code",
   "execution_count": null,
   "id": "bc0113b4",
   "metadata": {},
   "outputs": [],
   "source": []
  }
 ],
 "metadata": {
  "kernelspec": {
   "display_name": "Python 3 (ipykernel)",
   "language": "python",
   "name": "python3"
  },
  "language_info": {
   "codemirror_mode": {
    "name": "ipython",
    "version": 3
   },
   "file_extension": ".py",
   "mimetype": "text/x-python",
   "name": "python",
   "nbconvert_exporter": "python",
   "pygments_lexer": "ipython3",
   "version": "3.9.13"
  }
 },
 "nbformat": 4,
 "nbformat_minor": 5
}
