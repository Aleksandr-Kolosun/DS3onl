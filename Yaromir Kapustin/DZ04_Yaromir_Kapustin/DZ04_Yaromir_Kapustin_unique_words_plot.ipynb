{
 "cells": [
  {
   "cell_type": "markdown",
   "id": "ea459169",
   "metadata": {},
   "source": [
    "# !не реализован подсчет длин предложений, а также не найден способ применения numpy(как просится в условии)!"
   ]
  },
  {
   "cell_type": "markdown",
   "id": "8e4dad33",
   "metadata": {},
   "source": [
    "#### С использованием библиотек Numpy и Pandas написать программу реализующую:\n",
    "#### 1. Загрузку текстового файла из корневого каталога объемом не менее 20000 символов включая пробелы и все символы."
   ]
  },
  {
   "cell_type": "code",
   "execution_count": 33,
   "id": "e3651337",
   "metadata": {},
   "outputs": [],
   "source": [
    "#за основу текстового файла взят материал https://longreads.com/2017/06/13/a-sociology-of-the-smartphone/\n",
    "#Всего символов: 44916 Без пробелов: 37539 Количество слов: 7378 (https://text.ru/seo)"
   ]
  },
  {
   "cell_type": "code",
   "execution_count": 34,
   "id": "6c65126d",
   "metadata": {},
   "outputs": [],
   "source": [
    "file_obj = open(r\"C:\\Users\\Yaromir\\Desktop\\article.txt\", encoding='utf8')"
   ]
  },
  {
   "cell_type": "code",
   "execution_count": 35,
   "id": "f802d020",
   "metadata": {},
   "outputs": [],
   "source": [
    "text_string = file_obj.read().replace('\\n', '')"
   ]
  },
  {
   "cell_type": "markdown",
   "id": "65f2780a",
   "metadata": {},
   "source": [
    "#### 2. Подсчет частоты встречаемости слов в загруженном файле (критерий схожести слов выбрать самостоятельно)."
   ]
  },
  {
   "cell_type": "code",
   "execution_count": 45,
   "id": "b8153020",
   "metadata": {},
   "outputs": [],
   "source": [
    "import re\n",
    "\n",
    "\n",
    "all_words = re.findall(r'\\b[a-z]{4,15}\\b', text_string) #получаем список состоящий из str всех слов доиной от 4 до 15\n",
    "\n",
    "for word in all_words: #с nltk что-то не работает, так что пока так отсеиваю стоп слова\n",
    "    if word == \"will\":\n",
    "        all_words.remove(word)\n",
    "    elif word == \"been\":\n",
    "        all_words.remove(word)\n",
    "    elif word == \"other\":\n",
    "        all_words.remove(word)\n",
    "    elif word == \"which\":\n",
    "        all_words.remove(word)\n",
    "    elif word == \"that\":\n",
    "        all_words.remove(word)\n",
    "    elif word == \"this\":\n",
    "        all_words.remove(word)\n",
    "    elif word == \"were\":\n",
    "        all_words.remove(word)\n",
    "    elif word == \"what\":\n",
    "        all_words.remove(word)\n",
    "    elif word == \"with\":\n",
    "        all_words.remove(word)\n",
    "    elif word == \"from\":\n",
    "        all_words.remove(word)\n",
    "    elif word == \"those\":\n",
    "        all_words.remove(word)\n",
    "    elif word == \"have\":\n",
    "        all_words.remove(word)\n",
    "    elif word == \"them\":\n",
    "        all_words.remove(word)\n",
    "    elif word == \"even\":\n",
    "        all_words.remove(word)\n",
    "    elif word == \"into\":\n",
    "        all_words.remove(word)\n",
    "    elif word == \"they\":\n",
    "        all_words.remove(word)\n",
    "    elif word == \"have\":\n",
    "        all_words.remove(word)\n",
    "    elif word == \"more\":\n",
    "        all_words.remove(word)\n",
    "    elif word == \"some\":\n",
    "        all_words.remove(word)\n",
    "    elif word == \"these\":\n",
    "        all_words.remove(word)\n",
    "    elif word == \"their\":\n",
    "        all_words.remove(word)\n",
    "    elif word == \"most\":\n",
    "        all_words.remove(word)\n",
    "    elif word == \"every\":\n",
    "        all_words.remove(word)\n",
    "    elif word == \"much\":\n",
    "        all_words.remove(word)\n",
    "    elif word == \"than\":\n",
    "        all_words.remove(word)\n",
    "    elif word == \"ourselves\":\n",
    "        all_words.remove(word)\n",
    "    elif word == \"about\":\n",
    "        all_words.remove(word)\n",
    "    elif word == \"around\":\n",
    "        all_words.remove(word)\n",
    "    elif word == \"your\":\n",
    "        all_words.remove(word)\n",
    "        \n",
    "all_words.sort() #сортиравка по алфавиту"
   ]
  },
  {
   "cell_type": "code",
   "execution_count": 46,
   "id": "29c6e7f1",
   "metadata": {},
   "outputs": [],
   "source": [
    "frequency = {} #создаю словарь подсчитывающий повторяемость каждого слова (формы одного и того же слова не учтены)\n",
    "for word in all_words:\n",
    "    count = frequency.get(word,0)\n",
    "    frequency[word] = count + 1\n",
    "     \n",
    "frequency_list = frequency.keys()\n",
    "unique_words = frequency.values()"
   ]
  },
  {
   "cell_type": "markdown",
   "id": "c3d12761",
   "metadata": {},
   "source": [
    "#### 4. Ввод полученных данных в объект DataFrame и Series, а также отображение полученных результатов в виде таблицы \"объекты - признаки\"."
   ]
  },
  {
   "cell_type": "code",
   "execution_count": 47,
   "id": "94badf91",
   "metadata": {},
   "outputs": [],
   "source": [
    "import pandas as pd #формирую датафрейм\n",
    "df = pd.DataFrame({'Word': frequency_list, \n",
    "                   'Frequency': unique_words})"
   ]
  },
  {
   "cell_type": "code",
   "execution_count": 59,
   "id": "6e03476b",
   "metadata": {},
   "outputs": [
    {
     "data": {
      "text/html": [
       "<div>\n",
       "<style scoped>\n",
       "    .dataframe tbody tr th:only-of-type {\n",
       "        vertical-align: middle;\n",
       "    }\n",
       "\n",
       "    .dataframe tbody tr th {\n",
       "        vertical-align: top;\n",
       "    }\n",
       "\n",
       "    .dataframe thead th {\n",
       "        text-align: right;\n",
       "    }\n",
       "</style>\n",
       "<table border=\"1\" class=\"dataframe\">\n",
       "  <thead>\n",
       "    <tr style=\"text-align: right;\">\n",
       "      <th></th>\n",
       "      <th>Word</th>\n",
       "      <th>Frequency</th>\n",
       "    </tr>\n",
       "  </thead>\n",
       "  <tbody>\n",
       "    <tr>\n",
       "      <th>1613</th>\n",
       "      <td>smartphone</td>\n",
       "      <td>48</td>\n",
       "    </tr>\n",
       "    <tr>\n",
       "      <th>490</th>\n",
       "      <td>device</td>\n",
       "      <td>26</td>\n",
       "    </tr>\n",
       "    <tr>\n",
       "      <th>1957</th>\n",
       "      <td>world</td>\n",
       "      <td>25</td>\n",
       "    </tr>\n",
       "    <tr>\n",
       "      <th>1790</th>\n",
       "      <td>time</td>\n",
       "      <td>25</td>\n",
       "    </tr>\n",
       "    <tr>\n",
       "      <th>616</th>\n",
       "      <td>everyday</td>\n",
       "      <td>17</td>\n",
       "    </tr>\n",
       "    <tr>\n",
       "      <th>...</th>\n",
       "      <td>...</td>\n",
       "      <td>...</td>\n",
       "    </tr>\n",
       "    <tr>\n",
       "      <th>765</th>\n",
       "      <td>goals</td>\n",
       "      <td>1</td>\n",
       "    </tr>\n",
       "    <tr>\n",
       "      <th>763</th>\n",
       "      <td>globally</td>\n",
       "      <td>1</td>\n",
       "    </tr>\n",
       "    <tr>\n",
       "      <th>760</th>\n",
       "      <td>giving</td>\n",
       "      <td>1</td>\n",
       "    </tr>\n",
       "    <tr>\n",
       "      <th>759</th>\n",
       "      <td>gives</td>\n",
       "      <td>1</td>\n",
       "    </tr>\n",
       "    <tr>\n",
       "      <th>1975</th>\n",
       "      <td>zoomable</td>\n",
       "      <td>1</td>\n",
       "    </tr>\n",
       "  </tbody>\n",
       "</table>\n",
       "<p>1976 rows × 2 columns</p>\n",
       "</div>"
      ],
      "text/plain": [
       "            Word  Frequency\n",
       "1613  smartphone         48\n",
       "490       device         26\n",
       "1957       world         25\n",
       "1790        time         25\n",
       "616     everyday         17\n",
       "...          ...        ...\n",
       "765        goals          1\n",
       "763     globally          1\n",
       "760       giving          1\n",
       "759        gives          1\n",
       "1975    zoomable          1\n",
       "\n",
       "[1976 rows x 2 columns]"
      ]
     },
     "metadata": {},
     "output_type": "display_data"
    }
   ],
   "source": [
    "display(df.sort_values(by = 'Frequency', ascending = False))"
   ]
  },
  {
   "cell_type": "markdown",
   "id": "26b88870",
   "metadata": {},
   "source": [
    "#### 5. Построение гистограммы частоты встречаемости слов."
   ]
  },
  {
   "cell_type": "code",
   "execution_count": 60,
   "id": "d2c5edb1",
   "metadata": {},
   "outputs": [
    {
     "data": {
      "image/png": "[encoded data removed]",
      "text/plain": [
       "<Figure size 432x288 with 1 Axes>"
      ]
     },
     "metadata": {
      "needs_background": "light"
     },
     "output_type": "display_data"
    }
   ],
   "source": [
    "import matplotlib.pyplot as plt\n",
    "\n",
    "df.plot(x ='Word', y='Frequency', kind = 'line')\n",
    "plt.show()"
   ]
  },
  {
   "cell_type": "code",
   "execution_count": 61,
   "id": "d91a0a05",
   "metadata": {},
   "outputs": [
    {
     "data": {
      "text/html": [
       "<div>\n",
       "<style scoped>\n",
       "    .dataframe tbody tr th:only-of-type {\n",
       "        vertical-align: middle;\n",
       "    }\n",
       "\n",
       "    .dataframe tbody tr th {\n",
       "        vertical-align: top;\n",
       "    }\n",
       "\n",
       "    .dataframe thead th {\n",
       "        text-align: right;\n",
       "    }\n",
       "</style>\n",
       "<table border=\"1\" class=\"dataframe\">\n",
       "  <thead>\n",
       "    <tr style=\"text-align: right;\">\n",
       "      <th></th>\n",
       "      <th>Word</th>\n",
       "      <th>Frequency</th>\n",
       "    </tr>\n",
       "  </thead>\n",
       "  <tbody>\n",
       "    <tr>\n",
       "      <th>1613</th>\n",
       "      <td>smartphone</td>\n",
       "      <td>48</td>\n",
       "    </tr>\n",
       "    <tr>\n",
       "      <th>490</th>\n",
       "      <td>device</td>\n",
       "      <td>26</td>\n",
       "    </tr>\n",
       "    <tr>\n",
       "      <th>1957</th>\n",
       "      <td>world</td>\n",
       "      <td>25</td>\n",
       "    </tr>\n",
       "    <tr>\n",
       "      <th>1790</th>\n",
       "      <td>time</td>\n",
       "      <td>25</td>\n",
       "    </tr>\n",
       "    <tr>\n",
       "      <th>616</th>\n",
       "      <td>everyday</td>\n",
       "      <td>17</td>\n",
       "    </tr>\n",
       "    <tr>\n",
       "      <th>1271</th>\n",
       "      <td>phone</td>\n",
       "      <td>16</td>\n",
       "    </tr>\n",
       "    <tr>\n",
       "      <th>1144</th>\n",
       "      <td>network</td>\n",
       "      <td>14</td>\n",
       "    </tr>\n",
       "    <tr>\n",
       "      <th>1034</th>\n",
       "      <td>many</td>\n",
       "      <td>14</td>\n",
       "    </tr>\n",
       "    <tr>\n",
       "      <th>977</th>\n",
       "      <td>life</td>\n",
       "      <td>13</td>\n",
       "    </tr>\n",
       "    <tr>\n",
       "      <th>0</th>\n",
       "      <td>ability</td>\n",
       "      <td>13</td>\n",
       "    </tr>\n",
       "    <tr>\n",
       "      <th>1893</th>\n",
       "      <td>very</td>\n",
       "      <td>12</td>\n",
       "    </tr>\n",
       "    <tr>\n",
       "      <th>1871</th>\n",
       "      <td>used</td>\n",
       "      <td>12</td>\n",
       "    </tr>\n",
       "    <tr>\n",
       "      <th>1776</th>\n",
       "      <td>things</td>\n",
       "      <td>12</td>\n",
       "    </tr>\n",
       "    <tr>\n",
       "      <th>1185</th>\n",
       "      <td>only</td>\n",
       "      <td>12</td>\n",
       "    </tr>\n",
       "    <tr>\n",
       "      <th>743</th>\n",
       "      <td>generally</td>\n",
       "      <td>10</td>\n",
       "    </tr>\n",
       "    <tr>\n",
       "      <th>442</th>\n",
       "      <td>data</td>\n",
       "      <td>10</td>\n",
       "    </tr>\n",
       "    <tr>\n",
       "      <th>685</th>\n",
       "      <td>first</td>\n",
       "      <td>10</td>\n",
       "    </tr>\n",
       "    <tr>\n",
       "      <th>1036</th>\n",
       "      <td>maps</td>\n",
       "      <td>10</td>\n",
       "    </tr>\n",
       "    <tr>\n",
       "      <th>679</th>\n",
       "      <td>find</td>\n",
       "      <td>10</td>\n",
       "    </tr>\n",
       "    <tr>\n",
       "      <th>627</th>\n",
       "      <td>experience</td>\n",
       "      <td>9</td>\n",
       "    </tr>\n",
       "    <tr>\n",
       "      <th>1697</th>\n",
       "      <td>such</td>\n",
       "      <td>9</td>\n",
       "    </tr>\n",
       "    <tr>\n",
       "      <th>647</th>\n",
       "      <td>fact</td>\n",
       "      <td>9</td>\n",
       "    </tr>\n",
       "    <tr>\n",
       "      <th>85</th>\n",
       "      <td>another</td>\n",
       "      <td>9</td>\n",
       "    </tr>\n",
       "    <tr>\n",
       "      <th>14</th>\n",
       "      <td>access</td>\n",
       "      <td>9</td>\n",
       "    </tr>\n",
       "    <tr>\n",
       "      <th>1874</th>\n",
       "      <td>user</td>\n",
       "      <td>9</td>\n",
       "    </tr>\n",
       "    <tr>\n",
       "      <th>1923</th>\n",
       "      <td>well</td>\n",
       "      <td>9</td>\n",
       "    </tr>\n",
       "    <tr>\n",
       "      <th>1664</th>\n",
       "      <td>still</td>\n",
       "      <td>9</td>\n",
       "    </tr>\n",
       "  </tbody>\n",
       "</table>\n",
       "</div>"
      ],
      "text/plain": [
       "            Word  Frequency\n",
       "1613  smartphone         48\n",
       "490       device         26\n",
       "1957       world         25\n",
       "1790        time         25\n",
       "616     everyday         17\n",
       "1271       phone         16\n",
       "1144     network         14\n",
       "1034        many         14\n",
       "977         life         13\n",
       "0        ability         13\n",
       "1893        very         12\n",
       "1871        used         12\n",
       "1776      things         12\n",
       "1185        only         12\n",
       "743    generally         10\n",
       "442         data         10\n",
       "685        first         10\n",
       "1036        maps         10\n",
       "679         find         10\n",
       "627   experience          9\n",
       "1697        such          9\n",
       "647         fact          9\n",
       "85       another          9\n",
       "14        access          9\n",
       "1874        user          9\n",
       "1923        well          9\n",
       "1664       still          9"
      ]
     },
     "metadata": {},
     "output_type": "display_data"
    }
   ],
   "source": [
    "top_df = df[df.Frequency >= 9] #топ слов по встречаемости\n",
    "display(top_df.sort_values(by = 'Frequency', ascending = False))"
   ]
  },
  {
   "cell_type": "code",
   "execution_count": 64,
   "id": "225deda8",
   "metadata": {},
   "outputs": [
    {
     "data": {
      "image/png": "[encoded data removed]",
      "text/plain": [
       "<Figure size 432x288 with 1 Axes>"
      ]
     },
     "metadata": {
      "needs_background": "light"
     },
     "output_type": "display_data"
    }
   ],
   "source": [
    "top_df.plot(x ='Word', y='Frequency', kind = 'line')\n",
    "plt.show()"
   ]
  },
  {
   "cell_type": "markdown",
   "id": "73c5e8fd",
   "metadata": {},
   "source": [
    "#### 3. Подсчет длин предложений и их количества."
   ]
  },
  {
   "cell_type": "code",
   "execution_count": 63,
   "id": "088ba444",
   "metadata": {},
   "outputs": [
    {
     "name": "stdout",
     "output_type": "stream",
     "text": [
      "160\n"
     ]
    }
   ],
   "source": [
    "import textstat \n",
    "\n",
    "print(textstat.sentence_count(text_string)) #подсчет кол-ва предложений"
   ]
  },
  {
   "cell_type": "code",
   "execution_count": null,
   "id": "ed47a296",
   "metadata": {},
   "outputs": [],
   "source": []
  },
  {
   "cell_type": "code",
   "execution_count": null,
   "id": "3fe07ab8",
   "metadata": {},
   "outputs": [],
   "source": []
  },
  {
   "cell_type": "code",
   "execution_count": null,
   "id": "7eaa16f5",
   "metadata": {},
   "outputs": [],
   "source": []
  },
  {
   "cell_type": "markdown",
   "id": "17acd857",
   "metadata": {},
   "source": [
    "import nltk\n",
    "from nltk.corpus import stopwords\n",
    "from nltk.tokenize import sent_tokenize, word_tokenize\n",
    "\n",
    "stops = set(stopwords.words('english'))\n",
    "words = word_tokenize(all_words)\n",
    "wordsFiltered = []\n",
    "\n",
    "for word in all_words:\n",
    "    if word not in stopWords:\n",
    "        wordsFiltered.append(word)\n",
    "\n",
    "print(wordsFiltered)\n",
    "\n",
    "\n"
   ]
  }
 ],
 "metadata": {
  "kernelspec": {
   "display_name": "Python 3 (ipykernel)",
   "language": "python",
   "name": "python3"
  },
  "language_info": {
   "codemirror_mode": {
    "name": "ipython",
    "version": 3
   },
   "file_extension": ".py",
   "mimetype": "text/x-python",
   "name": "python",
   "nbconvert_exporter": "python",
   "pygments_lexer": "ipython3",
   "version": "3.9.12"
  }
 },
 "nbformat": 4,
 "nbformat_minor": 5
}
