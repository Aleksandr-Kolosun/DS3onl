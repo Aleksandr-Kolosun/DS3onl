{
 "cells": [
  {
   "attachments": {},
   "cell_type": "markdown",
   "metadata": {},
   "source": [
    "* 08.02.23\n",
    "* Yaromir Kapustin\n",
    "* ver0.2"
   ]
  },
  {
   "attachments": {},
   "cell_type": "markdown",
   "metadata": {},
   "source": [
    "# <center>ДЗ 25. Прогноз просрочки кредита заемщиком</center>"
   ]
  },
  {
   "cell_type": "markdown",
   "metadata": {},
   "source": [
    "### Решить задачу просрочки кредита используя для прогнозирования нейронные сети. Посмотреть работу с несбалансированными данными. "
   ]
  },
  {
   "cell_type": "code",
   "execution_count": 130,
   "metadata": {},
   "outputs": [],
   "source": [
    "import numpy as np\n",
    "import pandas as pd\n",
    "import seaborn as sns\n",
    "from matplotlib import pyplot as plt\n",
    "\n",
    "from sklearn.model_selection import train_test_split\n",
    "from sklearn.preprocessing import StandardScaler\n",
    "\n",
    "import tensorflow as tf\n",
    "from tensorflow import keras\n",
    "\n",
    "import warnings\n",
    "warnings.filterwarnings('ignore')"
   ]
  },
  {
   "cell_type": "markdown",
   "metadata": {},
   "source": [
    "### Описание набора данных\n",
    "\n",
    "Данные представляют собой исторические данные по 251503 заемщикам (https://www.kaggle.com/c/GiveMeSomeCredit/data ). Задача является бинарной классификацией. Цель - предсказать будет ли тот или иной заемщик испытывать финансовые трудности в ближайшие 2 года, т.е. будет ли просрочка по займу. Выборка разделена на тренировочную и тестовую ( 150000 в тренировочной части, 101503 в тестовой).\n",
    "\n",
    "Данная решаемая задача будет ценна как кредиторам, так и заемщикам для оценки способности вернуть долг вовремя.\n",
    "\n",
    "### Описание признаков\n",
    "\n",
    "* 1 - __SeriousDlqin2yrs__ - будет ли просрочка более 90 дней в ближайшие 2 года (целевая метка) (Да/Нет)\n",
    "* 2 - __RevolvingUtilizationOfUnsecuredLines__ - общий баланс по кредитным картам и кредитным линиям, за исключением задолженностей по недвижимости задолженности по взносам, деленные на сумму кредитных лимитов (проценты)\n",
    "* 3 - __age__ - Возраст заемщика (в годах)\n",
    "* 4 - __NumberOfTime30-59DaysPastDueNotWorse__ - количество просрочек в 30-59 дней (Целое)\n",
    "* 5 - __DebtRatio__ - коэффициент задолженности, т.е. сумма ежемесячных платежей по долгам, алиментов и расходов на проживание, деленная на месячный доналоговый доход (проценты)\n",
    "* 6 - __Monthly Income__ - месячный доход (число с плавающей точкой)\n",
    "* 7 - __NumberOfOpenCreditLinesAndLoans__ - количество открытых кредитов и кредитных линий (Целое)\n",
    "* 8 - __NumberOfTimes90DaysLate__ - количество просрочек более 90 дней (Целое)\n",
    "* 9 - __NumberRealEstateLoansOrLines__ - количество ипотечных кредитов и кредитов на недвижимость, включая кредитные линии домашнего капитала (Целое)\n",
    "* 10 - __NumberOfTime60-89DaysPastDueNotWorse__ - количество просрочек в 60-89 дней за последние 2 года (Целое)\n",
    "* 11 - __NumberOfDependents__ - количество иждивенцев в семье (исключая самих заемщиков) (Целое)"
   ]
  },
  {
   "cell_type": "code",
   "execution_count": 131,
   "metadata": {},
   "outputs": [],
   "source": [
    "df = pd.read_csv('cs-training.csv', index_col=0)"
   ]
  },
  {
   "cell_type": "code",
   "execution_count": 132,
   "metadata": {},
   "outputs": [
    {
     "data": {
      "text/html": [
       "<div>\n",
       "<style scoped>\n",
       "    .dataframe tbody tr th:only-of-type {\n",
       "        vertical-align: middle;\n",
       "    }\n",
       "\n",
       "    .dataframe tbody tr th {\n",
       "        vertical-align: top;\n",
       "    }\n",
       "\n",
       "    .dataframe thead th {\n",
       "        text-align: right;\n",
       "    }\n",
       "</style>\n",
       "<table border=\"1\" class=\"dataframe\">\n",
       "  <thead>\n",
       "    <tr style=\"text-align: right;\">\n",
       "      <th></th>\n",
       "      <th>SeriousDlqin2yrs</th>\n",
       "      <th>RevolvingUtilizationOfUnsecuredLines</th>\n",
       "      <th>age</th>\n",
       "      <th>NumberOfTime30-59DaysPastDueNotWorse</th>\n",
       "      <th>DebtRatio</th>\n",
       "      <th>MonthlyIncome</th>\n",
       "      <th>NumberOfOpenCreditLinesAndLoans</th>\n",
       "      <th>NumberOfTimes90DaysLate</th>\n",
       "      <th>NumberRealEstateLoansOrLines</th>\n",
       "      <th>NumberOfTime60-89DaysPastDueNotWorse</th>\n",
       "      <th>NumberOfDependents</th>\n",
       "    </tr>\n",
       "  </thead>\n",
       "  <tbody>\n",
       "    <tr>\n",
       "      <th>1</th>\n",
       "      <td>1</td>\n",
       "      <td>0.766127</td>\n",
       "      <td>45</td>\n",
       "      <td>2</td>\n",
       "      <td>0.802982</td>\n",
       "      <td>9120.0</td>\n",
       "      <td>13</td>\n",
       "      <td>0</td>\n",
       "      <td>6</td>\n",
       "      <td>0</td>\n",
       "      <td>2.0</td>\n",
       "    </tr>\n",
       "    <tr>\n",
       "      <th>2</th>\n",
       "      <td>0</td>\n",
       "      <td>0.957151</td>\n",
       "      <td>40</td>\n",
       "      <td>0</td>\n",
       "      <td>0.121876</td>\n",
       "      <td>2600.0</td>\n",
       "      <td>4</td>\n",
       "      <td>0</td>\n",
       "      <td>0</td>\n",
       "      <td>0</td>\n",
       "      <td>1.0</td>\n",
       "    </tr>\n",
       "    <tr>\n",
       "      <th>3</th>\n",
       "      <td>0</td>\n",
       "      <td>0.658180</td>\n",
       "      <td>38</td>\n",
       "      <td>1</td>\n",
       "      <td>0.085113</td>\n",
       "      <td>3042.0</td>\n",
       "      <td>2</td>\n",
       "      <td>1</td>\n",
       "      <td>0</td>\n",
       "      <td>0</td>\n",
       "      <td>0.0</td>\n",
       "    </tr>\n",
       "    <tr>\n",
       "      <th>4</th>\n",
       "      <td>0</td>\n",
       "      <td>0.233810</td>\n",
       "      <td>30</td>\n",
       "      <td>0</td>\n",
       "      <td>0.036050</td>\n",
       "      <td>3300.0</td>\n",
       "      <td>5</td>\n",
       "      <td>0</td>\n",
       "      <td>0</td>\n",
       "      <td>0</td>\n",
       "      <td>0.0</td>\n",
       "    </tr>\n",
       "    <tr>\n",
       "      <th>5</th>\n",
       "      <td>0</td>\n",
       "      <td>0.907239</td>\n",
       "      <td>49</td>\n",
       "      <td>1</td>\n",
       "      <td>0.024926</td>\n",
       "      <td>63588.0</td>\n",
       "      <td>7</td>\n",
       "      <td>0</td>\n",
       "      <td>1</td>\n",
       "      <td>0</td>\n",
       "      <td>0.0</td>\n",
       "    </tr>\n",
       "  </tbody>\n",
       "</table>\n",
       "</div>"
      ],
      "text/plain": [
       "   SeriousDlqin2yrs  RevolvingUtilizationOfUnsecuredLines  age  \\\n",
       "1                 1                              0.766127   45   \n",
       "2                 0                              0.957151   40   \n",
       "3                 0                              0.658180   38   \n",
       "4                 0                              0.233810   30   \n",
       "5                 0                              0.907239   49   \n",
       "\n",
       "   NumberOfTime30-59DaysPastDueNotWorse  DebtRatio  MonthlyIncome  \\\n",
       "1                                     2   0.802982         9120.0   \n",
       "2                                     0   0.121876         2600.0   \n",
       "3                                     1   0.085113         3042.0   \n",
       "4                                     0   0.036050         3300.0   \n",
       "5                                     1   0.024926        63588.0   \n",
       "\n",
       "   NumberOfOpenCreditLinesAndLoans  NumberOfTimes90DaysLate  \\\n",
       "1                               13                        0   \n",
       "2                                4                        0   \n",
       "3                                2                        1   \n",
       "4                                5                        0   \n",
       "5                                7                        0   \n",
       "\n",
       "   NumberRealEstateLoansOrLines  NumberOfTime60-89DaysPastDueNotWorse  \\\n",
       "1                             6                                     0   \n",
       "2                             0                                     0   \n",
       "3                             0                                     0   \n",
       "4                             0                                     0   \n",
       "5                             1                                     0   \n",
       "\n",
       "   NumberOfDependents  \n",
       "1                 2.0  \n",
       "2                 1.0  \n",
       "3                 0.0  \n",
       "4                 0.0  \n",
       "5                 0.0  "
      ]
     },
     "execution_count": 132,
     "metadata": {},
     "output_type": "execute_result"
    }
   ],
   "source": [
    "df.head()"
   ]
  },
  {
   "cell_type": "code",
   "execution_count": 133,
   "metadata": {},
   "outputs": [
    {
     "name": "stdout",
     "output_type": "stream",
     "text": [
      "(150000, 11)\n"
     ]
    }
   ],
   "source": [
    "print(df.shape)"
   ]
  },
  {
   "cell_type": "markdown",
   "metadata": {},
   "source": [
    "Проверьте наличие категориальных признаков, а также соответствие содержимого данных их типам"
   ]
  },
  {
   "cell_type": "code",
   "execution_count": 134,
   "metadata": {},
   "outputs": [
    {
     "name": "stdout",
     "output_type": "stream",
     "text": [
      "<class 'pandas.core.frame.DataFrame'>\n",
      "Int64Index: 150000 entries, 1 to 150000\n",
      "Data columns (total 11 columns):\n",
      " #   Column                                Non-Null Count   Dtype  \n",
      "---  ------                                --------------   -----  \n",
      " 0   SeriousDlqin2yrs                      150000 non-null  int64  \n",
      " 1   RevolvingUtilizationOfUnsecuredLines  150000 non-null  float64\n",
      " 2   age                                   150000 non-null  int64  \n",
      " 3   NumberOfTime30-59DaysPastDueNotWorse  150000 non-null  int64  \n",
      " 4   DebtRatio                             150000 non-null  float64\n",
      " 5   MonthlyIncome                         120269 non-null  float64\n",
      " 6   NumberOfOpenCreditLinesAndLoans       150000 non-null  int64  \n",
      " 7   NumberOfTimes90DaysLate               150000 non-null  int64  \n",
      " 8   NumberRealEstateLoansOrLines          150000 non-null  int64  \n",
      " 9   NumberOfTime60-89DaysPastDueNotWorse  150000 non-null  int64  \n",
      " 10  NumberOfDependents                    146076 non-null  float64\n",
      "dtypes: float64(4), int64(7)\n",
      "memory usage: 13.7 MB\n"
     ]
    }
   ],
   "source": [
    "#все столбцы числовые\n",
    "df.info()"
   ]
  },
  {
   "cell_type": "markdown",
   "metadata": {},
   "source": [
    "Проверьте наличие NaN, при необходимости осуществите замену"
   ]
  },
  {
   "cell_type": "markdown",
   "metadata": {},
   "source": [
    "О чем свидетельствуют пропуски в данных, чем их лучше заменить? Осуществите необходимую замену..."
   ]
  },
  {
   "cell_type": "code",
   "execution_count": 135,
   "metadata": {},
   "outputs": [],
   "source": [
    "# колонки MonthlyIncome и NumberOfDependents содержат пропуски\n",
    "df.MonthlyIncome = df.MonthlyIncome.fillna(df.MonthlyIncome.median())\n",
    "df.NumberOfDependents = df.NumberOfDependents.fillna(df.NumberOfDependents.median())"
   ]
  },
  {
   "cell_type": "code",
   "execution_count": 136,
   "metadata": {},
   "outputs": [],
   "source": [
    "#удалю выбросы\n",
    "df = df.loc[df['age'] < 92]\n",
    "df = df.loc[df['NumberOfDependents'] < 10]\n",
    "df = df.loc[df['NumberOfOpenCreditLinesAndLoans'] < 36]\n",
    "df = df.loc[df['NumberRealEstateLoansOrLines'] < 12]\n",
    "df = df.loc[df['NumberOfTimes90DaysLate'] < 7]\n",
    "df = df.loc[df['NumberOfTime30-59DaysPastDueNotWorse'] < 8]\n",
    "df = df.loc[df['NumberOfTime60-89DaysPastDueNotWorse'] < 5]\n",
    "df.DebtRatio = df.DebtRatio.round(decimals = 2)\n",
    "df = df.loc[df['DebtRatio'] != 0]\n",
    "df.MonthlyIncome = df.MonthlyIncome.round(decimals = -3)\n",
    "df.RevolvingUtilizationOfUnsecuredLines = df.RevolvingUtilizationOfUnsecuredLines.round(decimals = 1)\n",
    "df = df.loc[df['RevolvingUtilizationOfUnsecuredLines'] < 6]"
   ]
  },
  {
   "cell_type": "code",
   "execution_count": 137,
   "metadata": {},
   "outputs": [
    {
     "name": "stdout",
     "output_type": "stream",
     "text": [
      "<class 'pandas.core.frame.DataFrame'>\n",
      "Int64Index: 141132 entries, 1 to 150000\n",
      "Data columns (total 11 columns):\n",
      " #   Column                                Non-Null Count   Dtype  \n",
      "---  ------                                --------------   -----  \n",
      " 0   SeriousDlqin2yrs                      141132 non-null  int64  \n",
      " 1   RevolvingUtilizationOfUnsecuredLines  141132 non-null  float64\n",
      " 2   age                                   141132 non-null  int64  \n",
      " 3   NumberOfTime30-59DaysPastDueNotWorse  141132 non-null  int64  \n",
      " 4   DebtRatio                             141132 non-null  float64\n",
      " 5   MonthlyIncome                         141132 non-null  float64\n",
      " 6   NumberOfOpenCreditLinesAndLoans       141132 non-null  int64  \n",
      " 7   NumberOfTimes90DaysLate               141132 non-null  int64  \n",
      " 8   NumberRealEstateLoansOrLines          141132 non-null  int64  \n",
      " 9   NumberOfTime60-89DaysPastDueNotWorse  141132 non-null  int64  \n",
      " 10  NumberOfDependents                    141132 non-null  float64\n",
      "dtypes: float64(4), int64(7)\n",
      "memory usage: 12.9 MB\n"
     ]
    }
   ],
   "source": [
    "#результат чистки\n",
    "df.info()"
   ]
  },
  {
   "cell_type": "code",
   "execution_count": 138,
   "metadata": {},
   "outputs": [],
   "source": [
    "scaler = StandardScaler()"
   ]
  },
  {
   "cell_type": "code",
   "execution_count": 139,
   "metadata": {},
   "outputs": [],
   "source": [
    "y = df[\"SeriousDlqin2yrs\"]\n",
    "X = df.drop([\"SeriousDlqin2yrs\"], axis=1)\n",
    "\n",
    "X = scaler.fit_transform(X)"
   ]
  },
  {
   "cell_type": "code",
   "execution_count": 140,
   "metadata": {},
   "outputs": [],
   "source": [
    "X_train, X_test, y_train, y_test = train_test_split(X, y, random_state=42)"
   ]
  },
  {
   "cell_type": "code",
   "execution_count": 141,
   "metadata": {},
   "outputs": [],
   "source": [
    "model = tf.keras.models.Sequential([\n",
    "    tf.keras.layers.Flatten(input_shape=X_train.shape[1:]),\n",
    "    tf.keras.layers.Dense(30, activation=\"relu\"), \n",
    "    tf.keras.layers.Dense(10, activation=\"relu\"),\n",
    "    tf.keras.layers.Dense(1, activation=\"sigmoid\")\n",
    "])"
   ]
  },
  {
   "cell_type": "code",
   "execution_count": 142,
   "metadata": {},
   "outputs": [
    {
     "name": "stdout",
     "output_type": "stream",
     "text": [
      "Model: \"sequential_9\"\n",
      "_________________________________________________________________\n",
      " Layer (type)                Output Shape              Param #   \n",
      "=================================================================\n",
      " flatten_5 (Flatten)         (None, 10)                0         \n",
      "                                                                 \n",
      " dense_32 (Dense)            (None, 30)                330       \n",
      "                                                                 \n",
      " dense_33 (Dense)            (None, 10)                310       \n",
      "                                                                 \n",
      " dense_34 (Dense)            (None, 1)                 11        \n",
      "                                                                 \n",
      "=================================================================\n",
      "Total params: 651\n",
      "Trainable params: 651\n",
      "Non-trainable params: 0\n",
      "_________________________________________________________________\n"
     ]
    }
   ],
   "source": [
    "model.summary()"
   ]
  },
  {
   "cell_type": "code",
   "execution_count": 143,
   "metadata": {},
   "outputs": [],
   "source": [
    "model.compile(loss=keras.losses.BinaryCrossentropy(),\n",
    "              optimizer=keras.optimizers.Adam(learning_rate=0.001), \n",
    "              metrics=keras.metrics.AUC())"
   ]
  },
  {
   "cell_type": "code",
   "execution_count": 144,
   "metadata": {},
   "outputs": [
    {
     "name": "stdout",
     "output_type": "stream",
     "text": [
      "Epoch 1/50\n",
      "414/414 [==============================] - 1s 2ms/step - loss: 0.2293 - auc_4: 0.7557 - val_loss: 0.1875 - val_auc_4: 0.8350\n",
      "Epoch 2/50\n",
      "414/414 [==============================] - 1s 2ms/step - loss: 0.1861 - auc_4: 0.8419 - val_loss: 0.1819 - val_auc_4: 0.8507\n",
      "Epoch 3/50\n",
      "414/414 [==============================] - 1s 2ms/step - loss: 0.1832 - auc_4: 0.8492 - val_loss: 0.1797 - val_auc_4: 0.8557\n",
      "Epoch 4/50\n",
      "414/414 [==============================] - 1s 2ms/step - loss: 0.1820 - auc_4: 0.8526 - val_loss: 0.1790 - val_auc_4: 0.8573\n",
      "Epoch 5/50\n",
      "414/414 [==============================] - 1s 1ms/step - loss: 0.1812 - auc_4: 0.8544 - val_loss: 0.1787 - val_auc_4: 0.8578\n",
      "Epoch 6/50\n",
      "414/414 [==============================] - 1s 2ms/step - loss: 0.1809 - auc_4: 0.8554 - val_loss: 0.1784 - val_auc_4: 0.8591\n",
      "Epoch 7/50\n",
      "414/414 [==============================] - 1s 2ms/step - loss: 0.1805 - auc_4: 0.8560 - val_loss: 0.1783 - val_auc_4: 0.8591\n",
      "Epoch 8/50\n",
      "414/414 [==============================] - 1s 1ms/step - loss: 0.1803 - auc_4: 0.8568 - val_loss: 0.1779 - val_auc_4: 0.8588\n",
      "Epoch 9/50\n",
      "414/414 [==============================] - 1s 2ms/step - loss: 0.1802 - auc_4: 0.8564 - val_loss: 0.1778 - val_auc_4: 0.8595\n",
      "Epoch 10/50\n",
      "414/414 [==============================] - 1s 2ms/step - loss: 0.1800 - auc_4: 0.8574 - val_loss: 0.1778 - val_auc_4: 0.8596\n",
      "Epoch 11/50\n",
      "414/414 [==============================] - 1s 2ms/step - loss: 0.1797 - auc_4: 0.8578 - val_loss: 0.1775 - val_auc_4: 0.8601\n",
      "Epoch 12/50\n",
      "414/414 [==============================] - 1s 2ms/step - loss: 0.1796 - auc_4: 0.8580 - val_loss: 0.1776 - val_auc_4: 0.8602\n",
      "Epoch 13/50\n",
      "414/414 [==============================] - 1s 2ms/step - loss: 0.1796 - auc_4: 0.8581 - val_loss: 0.1775 - val_auc_4: 0.8603\n",
      "Epoch 14/50\n",
      "414/414 [==============================] - 1s 2ms/step - loss: 0.1794 - auc_4: 0.8584 - val_loss: 0.1774 - val_auc_4: 0.8603\n",
      "Epoch 15/50\n",
      "414/414 [==============================] - 1s 1ms/step - loss: 0.1794 - auc_4: 0.8584 - val_loss: 0.1777 - val_auc_4: 0.8605\n",
      "Epoch 16/50\n",
      "414/414 [==============================] - 1s 2ms/step - loss: 0.1793 - auc_4: 0.8585 - val_loss: 0.1777 - val_auc_4: 0.8599\n",
      "Epoch 17/50\n",
      "414/414 [==============================] - 1s 2ms/step - loss: 0.1792 - auc_4: 0.8589 - val_loss: 0.1773 - val_auc_4: 0.8606\n",
      "Epoch 18/50\n",
      "414/414 [==============================] - 1s 1ms/step - loss: 0.1791 - auc_4: 0.8590 - val_loss: 0.1774 - val_auc_4: 0.8604\n",
      "Epoch 19/50\n",
      "414/414 [==============================] - 1s 2ms/step - loss: 0.1790 - auc_4: 0.8594 - val_loss: 0.1774 - val_auc_4: 0.8603\n",
      "Epoch 20/50\n",
      "414/414 [==============================] - 1s 1ms/step - loss: 0.1790 - auc_4: 0.8596 - val_loss: 0.1778 - val_auc_4: 0.8602\n",
      "Epoch 21/50\n",
      "414/414 [==============================] - 1s 2ms/step - loss: 0.1789 - auc_4: 0.8597 - val_loss: 0.1774 - val_auc_4: 0.8606\n",
      "Epoch 22/50\n",
      "414/414 [==============================] - 1s 2ms/step - loss: 0.1790 - auc_4: 0.8592 - val_loss: 0.1777 - val_auc_4: 0.8605\n",
      "Epoch 23/50\n",
      "414/414 [==============================] - 1s 2ms/step - loss: 0.1789 - auc_4: 0.8595 - val_loss: 0.1774 - val_auc_4: 0.8609\n",
      "Epoch 24/50\n",
      "414/414 [==============================] - 1s 2ms/step - loss: 0.1788 - auc_4: 0.8596 - val_loss: 0.1774 - val_auc_4: 0.8609\n",
      "Epoch 25/50\n",
      "414/414 [==============================] - 1s 2ms/step - loss: 0.1787 - auc_4: 0.8600 - val_loss: 0.1775 - val_auc_4: 0.8603\n",
      "Epoch 26/50\n",
      "414/414 [==============================] - 1s 2ms/step - loss: 0.1788 - auc_4: 0.8595 - val_loss: 0.1777 - val_auc_4: 0.8603\n",
      "Epoch 27/50\n",
      "414/414 [==============================] - 1s 1ms/step - loss: 0.1786 - auc_4: 0.8600 - val_loss: 0.1771 - val_auc_4: 0.8615\n",
      "Epoch 28/50\n",
      "414/414 [==============================] - 1s 1ms/step - loss: 0.1786 - auc_4: 0.8599 - val_loss: 0.1772 - val_auc_4: 0.8607\n",
      "Epoch 29/50\n",
      "414/414 [==============================] - 1s 1ms/step - loss: 0.1785 - auc_4: 0.8597 - val_loss: 0.1771 - val_auc_4: 0.8613\n",
      "Epoch 30/50\n",
      "414/414 [==============================] - 1s 2ms/step - loss: 0.1786 - auc_4: 0.8599 - val_loss: 0.1772 - val_auc_4: 0.8607\n",
      "Epoch 31/50\n",
      "414/414 [==============================] - 1s 2ms/step - loss: 0.1785 - auc_4: 0.8603 - val_loss: 0.1775 - val_auc_4: 0.8614\n",
      "Epoch 32/50\n",
      "414/414 [==============================] - 1s 2ms/step - loss: 0.1784 - auc_4: 0.8603 - val_loss: 0.1776 - val_auc_4: 0.8612\n",
      "Epoch 33/50\n",
      "414/414 [==============================] - 1s 1ms/step - loss: 0.1783 - auc_4: 0.8606 - val_loss: 0.1777 - val_auc_4: 0.8606\n",
      "Epoch 34/50\n",
      "414/414 [==============================] - 1s 1ms/step - loss: 0.1785 - auc_4: 0.8600 - val_loss: 0.1776 - val_auc_4: 0.8605\n",
      "Epoch 35/50\n",
      "414/414 [==============================] - 1s 1ms/step - loss: 0.1783 - auc_4: 0.8604 - val_loss: 0.1771 - val_auc_4: 0.8615\n",
      "Epoch 36/50\n",
      "414/414 [==============================] - 1s 1ms/step - loss: 0.1783 - auc_4: 0.8603 - val_loss: 0.1774 - val_auc_4: 0.8612\n",
      "Epoch 37/50\n",
      "414/414 [==============================] - 1s 1ms/step - loss: 0.1781 - auc_4: 0.8606 - val_loss: 0.1773 - val_auc_4: 0.8611\n",
      "Epoch 38/50\n",
      "414/414 [==============================] - 1s 2ms/step - loss: 0.1782 - auc_4: 0.8606 - val_loss: 0.1774 - val_auc_4: 0.8614\n",
      "Epoch 39/50\n",
      "414/414 [==============================] - 1s 2ms/step - loss: 0.1781 - auc_4: 0.8608 - val_loss: 0.1778 - val_auc_4: 0.8611\n",
      "Epoch 40/50\n",
      "414/414 [==============================] - 1s 1ms/step - loss: 0.1780 - auc_4: 0.8610 - val_loss: 0.1776 - val_auc_4: 0.8607\n",
      "Epoch 41/50\n",
      "414/414 [==============================] - 1s 1ms/step - loss: 0.1780 - auc_4: 0.8612 - val_loss: 0.1776 - val_auc_4: 0.8607\n",
      "Epoch 42/50\n",
      "414/414 [==============================] - 1s 2ms/step - loss: 0.1780 - auc_4: 0.8611 - val_loss: 0.1775 - val_auc_4: 0.8604\n",
      "Epoch 43/50\n",
      "414/414 [==============================] - 1s 2ms/step - loss: 0.1780 - auc_4: 0.8609 - val_loss: 0.1776 - val_auc_4: 0.8609\n",
      "Epoch 44/50\n",
      "414/414 [==============================] - 1s 1ms/step - loss: 0.1779 - auc_4: 0.8612 - val_loss: 0.1777 - val_auc_4: 0.8605\n",
      "Epoch 45/50\n",
      "414/414 [==============================] - 1s 2ms/step - loss: 0.1780 - auc_4: 0.8608 - val_loss: 0.1776 - val_auc_4: 0.8612\n",
      "Epoch 46/50\n",
      "414/414 [==============================] - 1s 2ms/step - loss: 0.1779 - auc_4: 0.8614 - val_loss: 0.1775 - val_auc_4: 0.8608\n",
      "Epoch 47/50\n",
      "414/414 [==============================] - 1s 2ms/step - loss: 0.1779 - auc_4: 0.8612 - val_loss: 0.1773 - val_auc_4: 0.8614\n",
      "Epoch 48/50\n",
      "414/414 [==============================] - 1s 1ms/step - loss: 0.1778 - auc_4: 0.8613 - val_loss: 0.1777 - val_auc_4: 0.8606\n",
      "Epoch 49/50\n",
      "414/414 [==============================] - 1s 2ms/step - loss: 0.1778 - auc_4: 0.8613 - val_loss: 0.1785 - val_auc_4: 0.8610\n",
      "Epoch 50/50\n",
      "414/414 [==============================] - 1s 1ms/step - loss: 0.1779 - auc_4: 0.8610 - val_loss: 0.1775 - val_auc_4: 0.8612\n"
     ]
    }
   ],
   "source": [
    "history = model.fit(X_train, y_train, epochs=50, validation_data=(X_test, y_test), batch_size=256)"
   ]
  },
  {
   "cell_type": "code",
   "execution_count": 145,
   "metadata": {},
   "outputs": [
    {
     "name": "stdout",
     "output_type": "stream",
     "text": [
      "AUC: 86.12301349639893\n"
     ]
    }
   ],
   "source": [
    "scores = model.evaluate(X_test, y_test, verbose=0)\n",
    "\n",
    "print(\"AUC: \" + str(scores[1]*100))"
   ]
  }
 ],
 "metadata": {
  "kernelspec": {
   "display_name": "Python 3",
   "language": "python",
   "name": "python3"
  },
  "language_info": {
   "codemirror_mode": {
    "name": "ipython",
    "version": 3
   },
   "file_extension": ".py",
   "mimetype": "text/x-python",
   "name": "python",
   "nbconvert_exporter": "python",
   "pygments_lexer": "ipython3",
   "version": "3.10.6"
  },
  "vscode": {
   "interpreter": {
    "hash": "916dbcbb3f70747c44a77c7bcd40155683ae19c65e1c03b4aa3499c5328201f1"
   }
  }
 },
 "nbformat": 4,
 "nbformat_minor": 2
}
