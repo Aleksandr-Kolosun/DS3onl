{
 "cells": [
  {
   "cell_type": "markdown",
   "id": "a7d4aff4",
   "metadata": {},
   "source": [
    "- Kapustin Yaromir\n",
    "- 19.02.2023\n",
    "- v0.1"
   ]
  },
  {
   "cell_type": "markdown",
   "id": "5183c217",
   "metadata": {},
   "source": [
    "### Провести обучение сети на наборе данных notMNIST_small"
   ]
  },
  {
   "cell_type": "code",
   "execution_count": 1,
   "id": "35c52c31",
   "metadata": {
    "scrolled": true
   },
   "outputs": [],
   "source": [
    "import os\n",
    "from PIL import Image, ImageFilter\n",
    "\n",
    "import numpy as np\n",
    "import matplotlib.pyplot as plt\n",
    "from matplotlib.pyplot import figure\n",
    "from sklearn.preprocessing import LabelEncoder\n",
    "from sklearn.model_selection import train_test_split\n",
    "\n",
    "import tensorflow as tf\n",
    "from tensorflow import keras\n",
    "from tensorflow.keras.models import Sequential\n",
    "from tensorflow.keras.layers import Dense, Conv2D, MaxPooling2D, Flatten, CategoryEncoding, Dropout"
   ]
  },
  {
   "cell_type": "code",
   "execution_count": 2,
   "id": "47a903af",
   "metadata": {},
   "outputs": [],
   "source": [
    "labels = os.listdir(r'notMNIST_small')"
   ]
  },
  {
   "cell_type": "code",
   "execution_count": 3,
   "id": "38d794c2",
   "metadata": {},
   "outputs": [],
   "source": [
    "directory = r'notMNIST_small'"
   ]
  },
  {
   "cell_type": "code",
   "execution_count": 4,
   "id": "dd301b83",
   "metadata": {},
   "outputs": [],
   "source": [
    "X = [] \n",
    "y = []\n",
    "\n",
    "for label in labels: \n",
    "    path = os.path.join(directory, label)\n",
    "    for img in os.listdir(path):\n",
    "        try:\n",
    "            img_arr = Image.open(os.path.join(path, img))\n",
    "            X.append(np.asarray(img_arr, dtype = np.float32))\n",
    "            y.append(label)\n",
    "        except:\n",
    "            continue\n",
    "            \n",
    "X = np.asarray(X)\n",
    "y = np.asarray(y)"
   ]
  },
  {
   "cell_type": "code",
   "execution_count": 5,
   "id": "e3d53b12",
   "metadata": {},
   "outputs": [
    {
     "data": {
      "text/plain": [
       "(18724, 28, 28)"
      ]
     },
     "execution_count": 5,
     "metadata": {},
     "output_type": "execute_result"
    }
   ],
   "source": [
    "X.shape"
   ]
  },
  {
   "cell_type": "code",
   "execution_count": 6,
   "id": "b0602adb",
   "metadata": {},
   "outputs": [
    {
     "data": {
      "text/plain": [
       "(18724,)"
      ]
     },
     "execution_count": 6,
     "metadata": {},
     "output_type": "execute_result"
    }
   ],
   "source": [
    "y.shape"
   ]
  },
  {
   "cell_type": "code",
   "execution_count": 7,
   "id": "5837a962",
   "metadata": {},
   "outputs": [],
   "source": [
    "# Преобразование меток классов в массив\n",
    "encoding = CategoryEncoding(num_tokens=10, output_mode=\"one_hot\")\n",
    "y = encoding (LabelEncoder().fit_transform(y)).numpy()"
   ]
  },
  {
   "cell_type": "code",
   "execution_count": 8,
   "id": "10b8a85d",
   "metadata": {},
   "outputs": [
    {
     "data": {
      "text/plain": [
       "(18724, 10)"
      ]
     },
     "execution_count": 8,
     "metadata": {},
     "output_type": "execute_result"
    }
   ],
   "source": [
    "y.shape"
   ]
  },
  {
   "cell_type": "code",
   "execution_count": 9,
   "id": "868926df",
   "metadata": {},
   "outputs": [],
   "source": [
    "# Нормализация данных\n",
    "X = X/255\n",
    "\n",
    "# Разбиение на тестовую и тренировочную выборку\n",
    "X_train, X_val, y_train, y_val = train_test_split(X, y, test_size=0.3, random_state=42)"
   ]
  },
  {
   "cell_type": "code",
   "execution_count": 10,
   "id": "650717d8",
   "metadata": {},
   "outputs": [],
   "source": [
    "model = tf.keras.models.Sequential([\n",
    "    tf.keras.layers.Conv2D(64, (3,3), activation='relu', input_shape=(28, 28,1)),\n",
    "    tf.keras.layers.MaxPooling2D(2, 2),\n",
    "    tf.keras.layers.Conv2D(128, (3,3), activation='relu'),\n",
    "    tf.keras.layers.MaxPooling2D(2,2),\n",
    "    tf.keras.layers.Flatten(),\n",
    "    tf.keras.layers.Dropout(0.5),\n",
    "    tf.keras.layers.Dense(512, activation='relu'),\n",
    "    tf.keras.layers.Dense(10, activation='softmax')\n",
    "])"
   ]
  },
  {
   "cell_type": "code",
   "execution_count": 11,
   "id": "f9c54816",
   "metadata": {},
   "outputs": [
    {
     "name": "stdout",
     "output_type": "stream",
     "text": [
      "Epoch 1/50\n",
      "36/36 [==============================] - 8s 167ms/step - loss: 1.1908 - categorical_accuracy: 0.6476 - val_loss: 0.6133 - val_categorical_accuracy: 0.8423\n",
      "Epoch 2/50\n",
      "36/36 [==============================] - 6s 159ms/step - loss: 0.5701 - categorical_accuracy: 0.8451 - val_loss: 0.4499 - val_categorical_accuracy: 0.8678\n",
      "Epoch 3/50\n",
      "36/36 [==============================] - 6s 163ms/step - loss: 0.4537 - categorical_accuracy: 0.8737 - val_loss: 0.3862 - val_categorical_accuracy: 0.8833\n",
      "Epoch 4/50\n",
      "36/36 [==============================] - 6s 164ms/step - loss: 0.3871 - categorical_accuracy: 0.8898 - val_loss: 0.3532 - val_categorical_accuracy: 0.8967\n",
      "Epoch 5/50\n",
      "36/36 [==============================] - 6s 160ms/step - loss: 0.3507 - categorical_accuracy: 0.8985 - val_loss: 0.3254 - val_categorical_accuracy: 0.9064\n",
      "Epoch 6/50\n",
      "36/36 [==============================] - 6s 165ms/step - loss: 0.3182 - categorical_accuracy: 0.9071 - val_loss: 0.3019 - val_categorical_accuracy: 0.9115\n",
      "Epoch 7/50\n",
      "36/36 [==============================] - 6s 166ms/step - loss: 0.2937 - categorical_accuracy: 0.9121 - val_loss: 0.2862 - val_categorical_accuracy: 0.9143\n",
      "Epoch 8/50\n",
      "36/36 [==============================] - 6s 173ms/step - loss: 0.2717 - categorical_accuracy: 0.9196 - val_loss: 0.2776 - val_categorical_accuracy: 0.9143\n",
      "Epoch 9/50\n",
      "36/36 [==============================] - 6s 171ms/step - loss: 0.2532 - categorical_accuracy: 0.9212 - val_loss: 0.2757 - val_categorical_accuracy: 0.9166\n",
      "Epoch 10/50\n",
      "36/36 [==============================] - 6s 164ms/step - loss: 0.2391 - categorical_accuracy: 0.9271 - val_loss: 0.2715 - val_categorical_accuracy: 0.9153\n",
      "Epoch 11/50\n",
      "36/36 [==============================] - 6s 168ms/step - loss: 0.2229 - categorical_accuracy: 0.9315 - val_loss: 0.2600 - val_categorical_accuracy: 0.9176\n",
      "Epoch 12/50\n",
      "36/36 [==============================] - 6s 165ms/step - loss: 0.2112 - categorical_accuracy: 0.9366 - val_loss: 0.2539 - val_categorical_accuracy: 0.9237\n",
      "Epoch 13/50\n",
      "36/36 [==============================] - 6s 163ms/step - loss: 0.2002 - categorical_accuracy: 0.9359 - val_loss: 0.2459 - val_categorical_accuracy: 0.9240\n",
      "Epoch 14/50\n",
      "36/36 [==============================] - 6s 166ms/step - loss: 0.1837 - categorical_accuracy: 0.9410 - val_loss: 0.2475 - val_categorical_accuracy: 0.9217\n",
      "Epoch 15/50\n",
      "36/36 [==============================] - 6s 164ms/step - loss: 0.1691 - categorical_accuracy: 0.9459 - val_loss: 0.2391 - val_categorical_accuracy: 0.9247\n",
      "Epoch 16/50\n",
      "36/36 [==============================] - 6s 167ms/step - loss: 0.1560 - categorical_accuracy: 0.9499 - val_loss: 0.2385 - val_categorical_accuracy: 0.9275\n",
      "Epoch 17/50\n",
      "36/36 [==============================] - 6s 163ms/step - loss: 0.1527 - categorical_accuracy: 0.9499 - val_loss: 0.2413 - val_categorical_accuracy: 0.9250\n",
      "Epoch 18/50\n",
      "36/36 [==============================] - 6s 163ms/step - loss: 0.1395 - categorical_accuracy: 0.9539 - val_loss: 0.2380 - val_categorical_accuracy: 0.9270\n",
      "Epoch 19/50\n",
      "36/36 [==============================] - 6s 163ms/step - loss: 0.1304 - categorical_accuracy: 0.9586 - val_loss: 0.2409 - val_categorical_accuracy: 0.9265\n",
      "Epoch 20/50\n",
      "36/36 [==============================] - 6s 165ms/step - loss: 0.1280 - categorical_accuracy: 0.9580 - val_loss: 0.2456 - val_categorical_accuracy: 0.9265\n",
      "Epoch 21/50\n",
      "36/36 [==============================] - 6s 164ms/step - loss: 0.1131 - categorical_accuracy: 0.9625 - val_loss: 0.2477 - val_categorical_accuracy: 0.9234\n",
      "Epoch 21: early stopping\n"
     ]
    }
   ],
   "source": [
    "model.compile(loss='categorical_crossentropy', \n",
    "              optimizer=keras.optimizers.Nadam(learning_rate=0.0005), \n",
    "              metrics=['categorical_accuracy'])\n",
    "\n",
    "\n",
    "callbacks = [\n",
    "    tf.keras.callbacks.EarlyStopping(\n",
    "        monitor='val_categorical_accuracy',\n",
    "        min_delta=1e-3,\n",
    "        patience=5,\n",
    "        verbose=1)\n",
    "]\n",
    "\n",
    "\n",
    "history = model.fit(X_train, y_train, batch_size=256, epochs=50,\n",
    "                        callbacks=callbacks, \n",
    "                        validation_split=0.3, \n",
    "                        verbose=1)"
   ]
  },
  {
   "cell_type": "code",
   "execution_count": 12,
   "id": "43756fab",
   "metadata": {},
   "outputs": [
    {
     "name": "stdout",
     "output_type": "stream",
     "text": [
      "Model: \"sequential\"\n",
      "_________________________________________________________________\n",
      " Layer (type)                Output Shape              Param #   \n",
      "=================================================================\n",
      " conv2d (Conv2D)             (None, 26, 26, 64)        640       \n",
      "                                                                 \n",
      " max_pooling2d (MaxPooling2D  (None, 13, 13, 64)       0         \n",
      " )                                                               \n",
      "                                                                 \n",
      " conv2d_1 (Conv2D)           (None, 11, 11, 128)       73856     \n",
      "                                                                 \n",
      " max_pooling2d_1 (MaxPooling  (None, 5, 5, 128)        0         \n",
      " 2D)                                                             \n",
      "                                                                 \n",
      " flatten (Flatten)           (None, 3200)              0         \n",
      "                                                                 \n",
      " dropout (Dropout)           (None, 3200)              0         \n",
      "                                                                 \n",
      " dense (Dense)               (None, 512)               1638912   \n",
      "                                                                 \n",
      " dense_1 (Dense)             (None, 10)                5130      \n",
      "                                                                 \n",
      "=================================================================\n",
      "Total params: 1,718,538\n",
      "Trainable params: 1,718,538\n",
      "Non-trainable params: 0\n",
      "_________________________________________________________________\n"
     ]
    }
   ],
   "source": [
    "model.summary()"
   ]
  },
  {
   "cell_type": "code",
   "execution_count": 13,
   "id": "e19a70b2",
   "metadata": {},
   "outputs": [
    {
     "data": {
      "image/png": "[encoded data removed]",
      "text/plain": [
       "<Figure size 1000x600 with 1 Axes>"
      ]
     },
     "metadata": {
      "needs_background": "light"
     },
     "output_type": "display_data"
    }
   ],
   "source": [
    "figure(figsize=(10, 6), dpi=100)\n",
    "plt.plot(history.history['categorical_accuracy'], label='Train set')\n",
    "plt.plot(history.history['val_categorical_accuracy'], label='Val set')\n",
    "plt.xlabel('Epoch')\n",
    "plt.ylabel('Accuracy')\n",
    "plt.legend()\n",
    "plt.show()"
   ]
  },
  {
   "cell_type": "code",
   "execution_count": 14,
   "id": "ac17e062",
   "metadata": {},
   "outputs": [
    {
     "name": "stdout",
     "output_type": "stream",
     "text": [
      "Точность на тестовых данных: 0.9322\n"
     ]
    }
   ],
   "source": [
    "scores = model.evaluate(X_val, y_val, verbose=0)\n",
    "print(\"Точность на тестовых данных: %.4f\" % scores[1])"
   ]
  }
 ],
 "metadata": {
  "kernelspec": {
   "display_name": "Python 3 (ipykernel)",
   "language": "python",
   "name": "python3"
  },
  "language_info": {
   "codemirror_mode": {
    "name": "ipython",
    "version": 3
   },
   "file_extension": ".py",
   "mimetype": "text/x-python",
   "name": "python",
   "nbconvert_exporter": "python",
   "pygments_lexer": "ipython3",
   "version": "3.9.12"
  }
 },
 "nbformat": 4,
 "nbformat_minor": 5
}
