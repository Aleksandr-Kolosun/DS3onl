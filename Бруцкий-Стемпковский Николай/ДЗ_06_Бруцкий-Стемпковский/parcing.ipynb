{
 "cells": [
  {
   "cell_type": "markdown",
   "metadata": {},
   "source": [
    "26092022\n",
    "Бруцкий-Стемпковский\n",
    "\n",
    "v. 01\n",
    "\n",
    "Изучение потоков и процессов. GIL.\n",
    "\n",
    "Для получения списка ссылок используется модуль regex. Для работы с каталогами моуль os. Для работы с файлами из интернета модуль requests."
   ]
  },
  {
   "cell_type": "markdown",
   "metadata": {},
   "source": [
    "Требуется:\n",
    "1. Реализовать с использованием потоков и процессов скачивание файлов из интернета. \n",
    "2. Список файлов для скачивания подготовить самостоятельно (например изображений, не менее 100 изображений или других объектов). \n",
    "3. Сравнить производительность с последовательным методом. \n",
    "4. Сравнивть производительность Thread и multiprocessing решений. Попробовать подобрать оптимальное число потоков/процессов. \n",
    "\n",
    "В первую очередь подотовим список ссылок для скачивания изображений.\n",
    "\n",
    "В качестве подопытного выбран сайт ardom.by\n",
    "Вообще нужен сайт, на котором могут быть собраны множество картинок в разделе типа \"Портфолио\"\n",
    "На этом имеются изображения балконов.\n",
    "\n",
    "В файле html.txt, содержащейся в корневом каталоге, находится исходный код сайта, содержащий ссылки на множество изображений. Откроем его и прочитаем в переменную code."
   ]
  },
  {
   "cell_type": "code",
   "execution_count": 2,
   "metadata": {},
   "outputs": [
    {
     "data": {
      "text/plain": [
       "2708"
      ]
     },
     "execution_count": 2,
     "metadata": {},
     "output_type": "execute_result"
    }
   ],
   "source": [
    "file_obj = open(\"html.txt\")\n",
    "code = file_obj.readlines()\n",
    "file_obj.close()\n",
    "\n",
    "len(code)"
   ]
  },
  {
   "cell_type": "markdown",
   "metadata": {},
   "source": [
    "В коде имеются ссылки на полноразмерное изображение и на миниатюры. Выберем последнее.\n",
    "Типовая ссылка на такое изображение содержится, например, в строке 534 исходного кода."
   ]
  },
  {
   "cell_type": "code",
   "execution_count": 3,
   "metadata": {},
   "outputs": [
    {
     "data": {
      "text/plain": [
       "'\\t\\t\\t<img alt=\"Обшивка балкона пластиком - заказать услуги в Минске\" class=\"g-img__image\" src=\"/thumb/2/IjkGpyv7FP-a0i78xcNIMQ/150r150/d/77-obshivka-sten-sirenevymi-plastikovymi-paneljami-pol-linoleum_3.jpg\">\\n'"
      ]
     },
     "execution_count": 3,
     "metadata": {},
     "output_type": "execute_result"
    }
   ],
   "source": [
    "code[534]"
   ]
  },
  {
   "cell_type": "markdown",
   "metadata": {},
   "source": [
    "Она начинается на сочетание символов '/thumb/' и заканчивается на '.jpg'\n",
    "К ней нужно добавить префикс \"ardom.by\". Ссылка будет доступная для открытия.\n",
    "Найдём их с помощью регулярных выражений."
   ]
  },
  {
   "cell_type": "code",
   "execution_count": 4,
   "metadata": {},
   "outputs": [],
   "source": [
    "import re\n",
    "valid_string = re.compile(r\"/thumb/(\\S*?)jpg\")"
   ]
  },
  {
   "cell_type": "markdown",
   "metadata": {},
   "source": [
    "Создадим регулярное выражение и протестируем его."
   ]
  },
  {
   "cell_type": "code",
   "execution_count": 5,
   "metadata": {},
   "outputs": [
    {
     "name": "stdout",
     "output_type": "stream",
     "text": [
      "ardom.by/thumb/2/IjkGpyv7FP-a0i78xcNIMQ/150r150/d/77-obshivka-sten-sirenevymi-plastikovymi-paneljami-pol-linoleum_3.jpg\n"
     ]
    }
   ],
   "source": [
    "ans = valid_string.findall(code[534])\n",
    "if len(ans) == 1:\n",
    "    print(\"ardom.by/thumb/\" + ans[0] + \"jpg\")"
   ]
  },
  {
   "cell_type": "markdown",
   "metadata": {},
   "source": [
    "Созададим список ссылок из исходного кода страницы."
   ]
  },
  {
   "cell_type": "code",
   "execution_count": 6,
   "metadata": {},
   "outputs": [
    {
     "data": {
      "text/plain": [
       "200"
      ]
     },
     "execution_count": 6,
     "metadata": {},
     "output_type": "execute_result"
    }
   ],
   "source": [
    "list_of_links = []\n",
    "for string_ in code:\n",
    "    ans = valid_string.findall(string_)\n",
    "    if len(ans) == 1:\n",
    "        list_of_links.append(\"https://ardom.by/thumb/\" + ans[0] + \"jpg\")\n",
    "\n",
    "len(list_of_links)"
   ]
  },
  {
   "cell_type": "markdown",
   "metadata": {},
   "source": [
    "Запишем ссылки в текстовый документ"
   ]
  },
  {
   "cell_type": "code",
   "execution_count": 7,
   "metadata": {},
   "outputs": [],
   "source": [
    "file_obj = open(\"links.txt\", \"w\")\n",
    "[file_obj.write(list_of_links[_] + \"\\n\") for _ in range(len(list_of_links))]\n",
    "file_obj.close()"
   ]
  },
  {
   "cell_type": "markdown",
   "metadata": {},
   "source": [
    "Теперь попробуем просто скачать картинки обычным способом, замерив при этом время.\n",
    "Импортируем необхожимые модули для работы с каталогами и интернетом."
   ]
  },
  {
   "cell_type": "code",
   "execution_count": 8,
   "metadata": {},
   "outputs": [
    {
     "name": "stdout",
     "output_type": "stream",
     "text": [
      "d:\\Works\\Teach_ME_Skills\\Материалы\\ДЗ_Бруцкий-Стемпковский\\DS3onl\\Бруцкий-Стемпковский Николай\\ДЗ_06_Бруцкий-Стемпковский\n"
     ]
    }
   ],
   "source": [
    "import os\n",
    "import time\n",
    "import requests\n",
    "import shutil\n",
    "\n",
    "print(os.getcwd())"
   ]
  },
  {
   "cell_type": "markdown",
   "metadata": {},
   "source": [
    "Создадим в текущем каталоге папку для изображений."
   ]
  },
  {
   "cell_type": "code",
   "execution_count": 9,
   "metadata": {},
   "outputs": [],
   "source": [
    "if not os.path.isdir(\"folder_for_images\"):\n",
    "     os.mkdir(\"folder_for_images\")"
   ]
  },
  {
   "cell_type": "markdown",
   "metadata": {},
   "source": [
    "Определим функцию-загрузчик."
   ]
  },
  {
   "cell_type": "code",
   "execution_count": 10,
   "metadata": {},
   "outputs": [],
   "source": [
    "path = os.getcwd() + \"\\\\folder_for_images\\\\\"\n",
    "\n",
    "def saving_images(link):\n",
    "\n",
    "    global path\n",
    "\n",
    "    file_name = link.split(\"/\")[-1]\n",
    "    response = requests.get(url=link, timeout=10)\n",
    "\n",
    "    if response.status_code == 200:\n",
    "        open(path+file_name, \"wb\").write(response.content)"
   ]
  },
  {
   "cell_type": "markdown",
   "metadata": {},
   "source": [
    "Скачаем изображения с GIL."
   ]
  },
  {
   "cell_type": "code",
   "execution_count": 10,
   "metadata": {},
   "outputs": [
    {
     "name": "stdout",
     "output_type": "stream",
     "text": [
      "Исходное время 60.836 c\n"
     ]
    }
   ],
   "source": [
    "start = time.time()\n",
    "\n",
    "for link in list_of_links:\n",
    "    saving_images(link)\n",
    "\n",
    "end = time.time()\n",
    "print(\"Исходное время \" + str(round(end - start, 3)) + \" c\")"
   ]
  },
  {
   "cell_type": "markdown",
   "metadata": {},
   "source": [
    "Удалим полученную папку. Создадим ее вновь для следующего метода."
   ]
  },
  {
   "cell_type": "code",
   "execution_count": 11,
   "metadata": {},
   "outputs": [],
   "source": [
    "if os.path.isdir(\"folder_for_images\"):\n",
    "    shutil.rmtree(os.getcwd() + \"\\\\folder_for_images\")\n",
    "if not os.path.isdir(\"folder_for_images\"):\n",
    "     os.mkdir(\"folder_for_images\")"
   ]
  },
  {
   "cell_type": "markdown",
   "metadata": {},
   "source": [
    "Скачаем изображения, управляя потоками с помощью библиотеки ThreadPoolExecutor."
   ]
  },
  {
   "cell_type": "code",
   "execution_count": 12,
   "metadata": {},
   "outputs": [
    {
     "name": "stdout",
     "output_type": "stream",
     "text": [
      "Время с ThreadPoolExecutor 44.747 c\n"
     ]
    }
   ],
   "source": [
    "import concurrent.futures\n",
    "\n",
    "start = time.time()\n",
    "\n",
    "with concurrent.futures.ThreadPoolExecutor(8) as executor:\n",
    "    executor.map(saving_images, list_of_links)\n",
    "\n",
    "end = time.time()\n",
    "print(\"Время с ThreadPoolExecutor \" + str(round(end - start, 3)) + \" c\")\n"
   ]
  },
  {
   "cell_type": "markdown",
   "metadata": {},
   "source": [
    "Снова удалим полученную папку. Создадим ее вновь для следующего метода."
   ]
  },
  {
   "cell_type": "code",
   "execution_count": 13,
   "metadata": {},
   "outputs": [],
   "source": [
    "if os.path.isdir(\"folder_for_images\"):\n",
    "    shutil.rmtree(os.getcwd() + \"\\\\folder_for_images\")\n",
    "if not os.path.isdir(\"folder_for_images\"):\n",
    "     os.mkdir(\"folder_for_images\")"
   ]
  },
  {
   "cell_type": "markdown",
   "metadata": {},
   "source": [
    "Скачаем изображения, управляя процессами с помощью библиотеки Multiprocessing."
   ]
  },
  {
   "cell_type": "code",
   "execution_count": 13,
   "metadata": {},
   "outputs": [
    {
     "ename": "ImportError",
     "evalue": "cannot import name 'Pool' from 'multiprocessing' (d:\\Works\\Teach_ME_Skills\\Материалы\\ДЗ_Бруцкий-Стемпковский\\DS3onl\\Бруцкий-Стемпковский Николай\\ДЗ_06_Бруцкий-Стемпковский\\multiprocessing.py)",
     "output_type": "error",
     "traceback": [
      "\u001b[1;31m---------------------------------------------------------------------------\u001b[0m",
      "\u001b[1;31mImportError\u001b[0m                               Traceback (most recent call last)",
      "Cell \u001b[1;32mIn [13], line 1\u001b[0m\n\u001b[1;32m----> 1\u001b[0m \u001b[38;5;28;01mfrom\u001b[39;00m \u001b[38;5;21;01mmultiprocessing\u001b[39;00m \u001b[38;5;28;01mimport\u001b[39;00m Pool\n\u001b[0;32m      2\u001b[0m \u001b[38;5;28;01mfrom\u001b[39;00m \u001b[38;5;21;01mfunctools\u001b[39;00m \u001b[38;5;28;01mimport\u001b[39;00m partial\n\u001b[0;32m      4\u001b[0m start \u001b[38;5;241m=\u001b[39m time\u001b[38;5;241m.\u001b[39mtime()\n",
      "\u001b[1;31mImportError\u001b[0m: cannot import name 'Pool' from 'multiprocessing' (d:\\Works\\Teach_ME_Skills\\Материалы\\ДЗ_Бруцкий-Стемпковский\\DS3onl\\Бруцкий-Стемпковский Николай\\ДЗ_06_Бруцкий-Стемпковский\\multiprocessing.py)"
     ]
    }
   ],
   "source": [
    "from multiprocessing import Pool\n",
    "from functools import partial\n",
    "\n",
    "start = time.time()\n",
    "\n",
    "if __name__ == '__main__':\n",
    "    p = Pool(4)\n",
    "    saving_images_part = partial(saving_images, list_of_links)\n",
    "    p.map(saving_images_part, list_of_links)\n",
    "\n",
    "end = time.time()\n",
    "print(\"Время с Multiprocessing \" + str(round(end - start, 3)) + \" c\")"
   ]
  }
 ],
 "metadata": {
  "kernelspec": {
   "display_name": "Python 3.8.10 64-bit",
   "language": "python",
   "name": "python3"
  },
  "language_info": {
   "codemirror_mode": {
    "name": "ipython",
    "version": 3
   },
   "file_extension": ".py",
   "mimetype": "text/x-python",
   "name": "python",
   "nbconvert_exporter": "python",
   "pygments_lexer": "ipython3",
   "version": "3.8.10"
  },
  "orig_nbformat": 4,
  "vscode": {
   "interpreter": {
    "hash": "f544ce1a915a9875fad91c894e2c0bcad4b7a79945aa6027ef3ad27810072aa6"
   }
  }
 },
 "nbformat": 4,
 "nbformat_minor": 2
}
