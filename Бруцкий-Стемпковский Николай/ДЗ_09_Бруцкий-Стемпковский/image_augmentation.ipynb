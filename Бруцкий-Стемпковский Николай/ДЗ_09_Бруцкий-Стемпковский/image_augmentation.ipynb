{
 "cells": [
  {
   "cell_type": "markdown",
   "metadata": {},
   "source": [
    "13102022\n",
    "\n",
    "Бруцкий-Стемпковский\n",
    "\n",
    "v.01\n",
    "\n",
    "Аугментация изображений с целью увеличения размера исходного датасета."
   ]
  },
  {
   "cell_type": "markdown",
   "metadata": {},
   "source": [
    "Импорт библиотек"
   ]
  },
  {
   "cell_type": "code",
   "execution_count": 35,
   "metadata": {},
   "outputs": [],
   "source": [
    "import cv2\n",
    "import os\n",
    "import numpy as np\n",
    "import requests\n",
    "import shutil"
   ]
  },
  {
   "cell_type": "markdown",
   "metadata": {},
   "source": [
    "Настроим директорию для открытия и сохранения файлов."
   ]
  },
  {
   "cell_type": "code",
   "execution_count": 36,
   "metadata": {},
   "outputs": [],
   "source": [
    "path_tree = \"d:\\\\Works\\\\Teach_ME_Skills\\\\Материалы\\\\ДЗ_Бруцкий-Стемпковский\\\\DS3onl\\\\Бруцкий-Стемпковский Николай\\\\ДЗ_09_Бруцкий-Стемпковский\"\n",
    "path_with_row_images = path_tree + \"\\\\row_images\"\n",
    "path_with_new_images = path_tree + \"\\\\new_images\""
   ]
  },
  {
   "cell_type": "markdown",
   "metadata": {},
   "source": [
    "Очистим папку с будущими изображениями (если запуск уже не первый)."
   ]
  },
  {
   "cell_type": "code",
   "execution_count": 37,
   "metadata": {},
   "outputs": [],
   "source": [
    "os.chdir(path_with_new_images)\n",
    "list_of_new_images = os.listdir()\n",
    "\n",
    "for im in list_of_new_images:\n",
    "    os.remove(os.getcwd() + f\"\\\\{im}\")"
   ]
  },
  {
   "cell_type": "markdown",
   "metadata": {},
   "source": [
    "Получим список сырых изображений."
   ]
  },
  {
   "cell_type": "code",
   "execution_count": 38,
   "metadata": {},
   "outputs": [
    {
     "data": {
      "text/plain": [
       "200"
      ]
     },
     "execution_count": 38,
     "metadata": {},
     "output_type": "execute_result"
    }
   ],
   "source": [
    "os.chdir(path_with_row_images)\n",
    "\n",
    "list_of_row_images = os.listdir()\n",
    "len(list_of_row_images)"
   ]
  }
 ],
 "metadata": {
  "kernelspec": {
   "display_name": "Python 3.10.7 64-bit",
   "language": "python",
   "name": "python3"
  },
  "language_info": {
   "codemirror_mode": {
    "name": "ipython",
    "version": 3
   },
   "file_extension": ".py",
   "mimetype": "text/x-python",
   "name": "python",
   "nbconvert_exporter": "python",
   "pygments_lexer": "ipython3",
   "version": "3.10.7"
  },
  "orig_nbformat": 4,
  "vscode": {
   "interpreter": {
    "hash": "44d05011f940373d2be57d9e1d8060407e025635cb893b36738390f7a5646cad"
   }
  }
 },
 "nbformat": 4,
 "nbformat_minor": 2
}
