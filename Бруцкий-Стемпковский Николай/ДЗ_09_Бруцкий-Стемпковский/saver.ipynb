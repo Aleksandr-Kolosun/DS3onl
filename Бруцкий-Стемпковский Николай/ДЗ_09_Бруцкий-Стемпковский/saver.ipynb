{
 "cells": [
  {
   "cell_type": "markdown",
   "metadata": {},
   "source": [
    "13102022\n",
    "\n",
    "Бруцкий-Стемпковский\n",
    "\n",
    "v.01\n",
    "\n",
    "Извлечение из размеченного даасета необходимых изображений.\n",
    "\n",
    "Работает кривовато... Необходимо чётко контролировать текущую директорию."
   ]
  },
  {
   "cell_type": "code",
   "execution_count": 93,
   "metadata": {},
   "outputs": [],
   "source": [
    "import os\n",
    "import cv2\n",
    "import matplotlib.pyplot as plt"
   ]
  },
  {
   "cell_type": "code",
   "execution_count": 94,
   "metadata": {},
   "outputs": [],
   "source": [
    "start_directory = \"d:/Works/Teach_ME_Skills/Материалы/ДЗ_Бруцкий-Стемпковский/DS3onl/Бруцкий-Стемпковский Николай/ДЗ_09_Бруцкий-Стемпковский\"\n",
    "path_to_set = start_directory + \"/train_set\"\n",
    "path_to_save = start_directory + \"/row_images\""
   ]
  },
  {
   "cell_type": "code",
   "execution_count": 95,
   "metadata": {},
   "outputs": [],
   "source": [
    "def save_images(cat, numbers):\n",
    "\n",
    "    global path_to_set\n",
    "    global path_to_save\n",
    "    global start_directory\n",
    "\n",
    "    counter = 0\n",
    "    file_obj = open(start_directory + \"/annotation.txt\", \"r\")\n",
    "\n",
    "    while counter < numbers:\n",
    "        string = file_obj.readline().replace(\".\", \"\").split()\n",
    "        \n",
    "\n",
    "        if int(string[cat]) == 100:\n",
    "\n",
    "            os.chdir(path_to_set)\n",
    "            image_obj = cv2.imread(string[0] + \".jpg\")\n",
    "            \n",
    "            os.chdir(path_to_save)\n",
    "            cv2.imwrite(string[0] + \".jpg\", image_obj)\n",
    "            counter += 1\n",
    "\n",
    "    file_obj.close()\n"
   ]
  },
  {
   "cell_type": "markdown",
   "metadata": {},
   "source": [
    "Категории:\n",
    "\n",
    "1. person\n",
    "2. car\n",
    "3. building\n",
    "4. window\n",
    "5. tree\n",
    "6. sign\n",
    "7. door\n",
    "8. bookshelf\n",
    "9. chair\n",
    "10. table\n",
    "11. keyboard\n",
    "12. head"
   ]
  },
  {
   "cell_type": "code",
   "execution_count": 96,
   "metadata": {},
   "outputs": [],
   "source": [
    "save_images(2, 100)"
   ]
  },
  {
   "cell_type": "code",
   "execution_count": 97,
   "metadata": {},
   "outputs": [],
   "source": [
    "save_images(1, 20)\n",
    "save_images(3, 20)\n",
    "save_images(5, 20)\n",
    "save_images(9, 20)\n",
    "save_images(12, 20)"
   ]
  }
 ],
 "metadata": {
  "kernelspec": {
   "display_name": "Python 3.10.7 64-bit",
   "language": "python",
   "name": "python3"
  },
  "language_info": {
   "codemirror_mode": {
    "name": "ipython",
    "version": 3
   },
   "file_extension": ".py",
   "mimetype": "text/x-python",
   "name": "python",
   "nbconvert_exporter": "python",
   "pygments_lexer": "ipython3",
   "version": "3.10.7"
  },
  "orig_nbformat": 4,
  "vscode": {
   "interpreter": {
    "hash": "44d05011f940373d2be57d9e1d8060407e025635cb893b36738390f7a5646cad"
   }
  }
 },
 "nbformat": 4,
 "nbformat_minor": 2
}
