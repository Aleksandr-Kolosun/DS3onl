{
 "cells": [
  {
   "cell_type": "markdown",
   "metadata": {},
   "source": [
    "В качестве текста выбрано введение к первому тому \"Капитала\" К. Маркса. Размер исходного текста превышает 60 000 символов. Написан на русском языке, встречаются слова на латинице. Содержит различные знаки препинания, ссылки в различных скобках, библиотечные шифры, и прочее.\n",
    "\n",
    "В качестве вспомогательного материала использовал материал из интернета:\n",
    "https://habr.com/ru/post/517410/\n",
    "\n",
    "Импортируем необходимые библиотеки."
   ]
  },
  {
   "cell_type": "code",
   "execution_count": 68,
   "metadata": {},
   "outputs": [],
   "source": [
    "import string\n",
    "import nltk\n",
    "import numpy as np\n",
    "import pandas as pd"
   ]
  },
  {
   "cell_type": "markdown",
   "metadata": {},
   "source": [
    "Откроем файл, прочтём его содержимое в переменную text, которая будет содержать текст, закроем файл"
   ]
  },
  {
   "cell_type": "code",
   "execution_count": 69,
   "metadata": {},
   "outputs": [
    {
     "data": {
      "text/plain": [
       "64334"
      ]
     },
     "execution_count": 69,
     "metadata": {},
     "output_type": "execute_result"
    }
   ],
   "source": [
    "file_obj = open(\"text.txt\")\n",
    "text = \"\"\n",
    "text = file_obj.read()\n",
    "file_obj.close()\n",
    "\n",
    "len(text)"
   ]
  },
  {
   "cell_type": "markdown",
   "metadata": {},
   "source": [
    "Сперва пройдём весь текст и избавимся от большинства знаков препинания, цифр, скобок, знаков табуляции и новой строки. Но так как нам требуется разделить текст на предложения, не будем убирать знаки окончания предложения (точки, знак вопроса, восклицательный знак). Также не будем пока переводить все буквы в нижний регистр. Планирую использовать тот факт, что при использовании точки для сокращения слова (т. д., проч. и другое) следующее за ним слово пишется с маленькой буквы. Такая точка не считается принаком завершения предложения."
   ]
  },
  {
   "cell_type": "code",
   "execution_count": 70,
   "metadata": {},
   "outputs": [
    {
     "data": {
      "text/plain": [
       "'\"#$%&\\'()*+,-/:;<=>@[\\\\]^_`{|}~0123456789\\n\\t\\'\"”“–'"
      ]
     },
     "execution_count": 70,
     "metadata": {},
     "output_type": "execute_result"
    }
   ],
   "source": [
    "spec_symbol = string.punctuation\n",
    "spec_symbol = spec_symbol.replace(\".\", \"\")\n",
    "spec_symbol = spec_symbol.replace(\"!\", \"\")\n",
    "spec_symbol = spec_symbol.replace(\"?\", \"\")\n",
    "spec_symbol += string.digits\n",
    "spec_symbol += \"\\n\\t\\'\\\"”“–\"\n",
    "symbols_of_end_sentence = \".!?\"\n",
    "\n",
    "spec_symbol"
   ]
  },
  {
   "cell_type": "markdown",
   "metadata": {},
   "source": [
    "Произведем замену всех спецсимволов на знак пробела (обозначается символом \\x20)."
   ]
  },
  {
   "cell_type": "code",
   "execution_count": 71,
   "metadata": {},
   "outputs": [
    {
     "data": {
      "text/plain": [
       "64332"
      ]
     },
     "execution_count": 71,
     "metadata": {},
     "output_type": "execute_result"
    }
   ],
   "source": [
    "for symbol in spec_symbol:\n",
    "    text = text.replace(symbol, \"\\x20\")\n",
    "text = text.replace(\"...\", \"\\x20\")\n",
    "\n",
    "len(text)"
   ]
  },
  {
   "cell_type": "markdown",
   "metadata": {},
   "source": [
    "Пройдем весь текст от начала и до конца в цикле. Если встретим символ конца строки, проверим регистр ближайшего следующего за ним символа. Введем логическую переменную meeting_symbol, которая принимает значение True если мы недавно встретили знак конца предложения, но еще не \"решили его судьбу\". Будем заменять \"правильные\" символы конца строки на символ \"*\" (их там уже нет, хотя можно бы и более специфический символ)."
   ]
  },
  {
   "cell_type": "code",
   "execution_count": 79,
   "metadata": {},
   "outputs": [
    {
     "data": {
      "text/plain": [
       "64752"
      ]
     },
     "execution_count": 79,
     "metadata": {},
     "output_type": "execute_result"
    }
   ],
   "source": [
    "meeting_symbol = False\n",
    "symbol_of_end_sentence = None\n",
    "\n",
    "for i in range(len(text)):\n",
    "\n",
    "    if text[i] in symbols_of_end_sentence:\n",
    "        meeting_symbol = True\n",
    "        symbol_of_end_sentence = text[i]\n",
    "        continue\n",
    "\n",
    "    if meeting_symbol == True and text[i] != \"\\x20\":\n",
    "        if text[i] == text[i].upper():\n",
    "            text = text.replace(symbol_of_end_sentence, \"\\x20\" + \"*\", 1)\n",
    "            meeting_symbol = False\n",
    "            symbol_of_end_sentence = None\n",
    "        else:\n",
    "            text = text.replace(symbol_of_end_sentence, \"\\x20\", 1)\n",
    "            meeting_symbol = False\n",
    "            symbol_of_end_sentence = None\n",
    "\n",
    "#выловим последний знак препинания, т.к. за ним ничего нет\n",
    "for _ in symbols_of_end_sentence:\n",
    "    text = text.replace(_, \"\\x20\" + \"*\", 1)\n",
    "\n",
    "len(text)"
   ]
  },
  {
   "cell_type": "markdown",
   "metadata": {},
   "source": [
    "Создадим список из строки для подсчёта количество предложений и слов в них"
   ]
  },
  {
   "cell_type": "code",
   "execution_count": 83,
   "metadata": {},
   "outputs": [
    {
     "data": {
      "text/plain": [
       "8832"
      ]
     },
     "execution_count": 83,
     "metadata": {},
     "output_type": "execute_result"
    }
   ],
   "source": [
    "text_list = text.split()\n",
    "\n",
    "len(text_list)"
   ]
  },
  {
   "cell_type": "markdown",
   "metadata": {},
   "source": [
    "Определим количество предложений и слов в них."
   ]
  },
  {
   "cell_type": "code",
   "execution_count": 86,
   "metadata": {},
   "outputs": [
    {
     "data": {
      "text/plain": [
       "(420, 420)"
      ]
     },
     "execution_count": 86,
     "metadata": {},
     "output_type": "execute_result"
    }
   ],
   "source": [
    "number_of_sentence = text_list.count(\"*\")\n",
    "word_counter = 0\n",
    "list_of_words_in_sentence = []\n",
    "\n",
    "for word in text_list:\n",
    "    if word == \"*\":\n",
    "        list_of_words_in_sentence.append(word_counter)\n",
    "        word_counter = 0\n",
    "    else:\n",
    "        word_counter += 1\n",
    "\n",
    "number_of_sentence, len(list_of_words_in_sentence)"
   ]
  },
  {
   "cell_type": "markdown",
   "metadata": {},
   "source": [
    "Вернемся обрано к строковой переменной. Удалим символы конца предложения, выровняем регистр. "
   ]
  },
  {
   "cell_type": "code",
   "execution_count": 95,
   "metadata": {},
   "outputs": [
    {
     "data": {
      "text/plain": [
       "64332"
      ]
     },
     "execution_count": 95,
     "metadata": {},
     "output_type": "execute_result"
    }
   ],
   "source": [
    "text = text.replace(\"*\", \"\")\n",
    "text = text.lower()\n",
    "\n",
    "len(text)"
   ]
  }
 ],
 "metadata": {
  "kernelspec": {
   "display_name": "Python 3.8.10 64-bit",
   "language": "python",
   "name": "python3"
  },
  "language_info": {
   "codemirror_mode": {
    "name": "ipython",
    "version": 3
   },
   "file_extension": ".py",
   "mimetype": "text/x-python",
   "name": "python",
   "nbconvert_exporter": "python",
   "pygments_lexer": "ipython3",
   "version": "3.8.10"
  },
  "orig_nbformat": 4,
  "vscode": {
   "interpreter": {
    "hash": "f544ce1a915a9875fad91c894e2c0bcad4b7a79945aa6027ef3ad27810072aa6"
   }
  }
 },
 "nbformat": 4,
 "nbformat_minor": 2
}
