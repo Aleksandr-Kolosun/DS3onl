{
 "cells": [
  {
   "cell_type": "markdown",
   "metadata": {},
   "source": [
    "29092022\n",
    "Бруцкий-Стемпковский\n",
    "v. 01\n",
    "\n",
    "Декораторы\n",
    "\n",
    "Реализуем декоратор, который кэширует результат функции при одинаковых входных данных на ближайшие три запуска, после чего вновь переопределяет ее значение заново."
   ]
  },
  {
   "cell_type": "markdown",
   "metadata": {},
   "source": [
    "Напишем декоратор с вложенной кэширующей функцией. Для проверки корректной работы будем выводить время, затраченное на выполнение операции."
   ]
  },
  {
   "cell_type": "code",
   "execution_count": 1,
   "metadata": {},
   "outputs": [],
   "source": [
    "dict_of_values = {}\n",
    "\n",
    "def decorator(func):\n",
    "    import time\n",
    "    #кэширующая функция с логикой\n",
    "    def cash(arg):\n",
    "        start = time.time()\n",
    "        if not arg in dict_of_values:\n",
    "            #если функция ещё не вызывалась, или вызывается в 4-й раз\n",
    "            #кэшируем её со счётчиком оставшихся использований\n",
    "            res = func(arg)\n",
    "            dict_of_values[arg] = [res, 3]\n",
    "            print(\"Кэшируем значение\")\n",
    "        else:\n",
    "            #если результат функции есть в памяти, вытащим ее оттуда\n",
    "            #проверим, может нужно память уже и очищать...\n",
    "            res = dict_of_values[arg][0]\n",
    "            dict_of_values[arg][1] -= 1\n",
    "            if dict_of_values[arg][1] == 0:\n",
    "                dict_of_values.pop(arg)\n",
    "            print(\"Извлекаем значение из памяти\")\n",
    "        end = time.time()\n",
    "        time_ = round(end - start, 2)\n",
    "        print(f\"Затраченное время {time_} с\")\n",
    "        return res\n",
    "    return cash\n",
    "    "
   ]
  },
  {
   "cell_type": "markdown",
   "metadata": {},
   "source": [
    "Напишем функцию, которую собираемся кэшировать"
   ]
  },
  {
   "cell_type": "code",
   "execution_count": 2,
   "metadata": {},
   "outputs": [],
   "source": [
    "@decorator\n",
    "def fibonacci(n):\n",
    "    if (n == 0):\n",
    "        return (0)\n",
    "    elif (n == 1) or (n == 2):\n",
    "        return (1)\n",
    "    else:\n",
    "        i = 0\n",
    "        fib1 = 1\n",
    "        fib2 = 1\n",
    "        while i < n-2:\n",
    "            fib_sum = fib1 + fib2\n",
    "            fib1 = fib2\n",
    "            fib2 = fib_sum\n",
    "            i += 1\n",
    "        return(fib2)"
   ]
  },
  {
   "cell_type": "code",
   "execution_count": 3,
   "metadata": {},
   "outputs": [
    {
     "name": "stdout",
     "output_type": "stream",
     "text": [
      "Кэшируем значение\n",
      "Затраченное время 6.22 с\n"
     ]
    }
   ],
   "source": [
    "a = fibonacci(123456)"
   ]
  },
  {
   "cell_type": "code",
   "execution_count": 4,
   "metadata": {},
   "outputs": [
    {
     "name": "stdout",
     "output_type": "stream",
     "text": [
      "Извлекаем значение из памяти\n",
      "Затраченное время 0.0 с\n"
     ]
    }
   ],
   "source": [
    "b = fibonacci(123456)"
   ]
  },
  {
   "cell_type": "code",
   "execution_count": 5,
   "metadata": {},
   "outputs": [
    {
     "name": "stdout",
     "output_type": "stream",
     "text": [
      "Извлекаем значение из памяти\n",
      "Затраченное время 0.0 с\n"
     ]
    }
   ],
   "source": [
    "c = fibonacci(123456)"
   ]
  },
  {
   "cell_type": "code",
   "execution_count": 6,
   "metadata": {},
   "outputs": [
    {
     "name": "stdout",
     "output_type": "stream",
     "text": [
      "Извлекаем значение из памяти\n",
      "Затраченное время 0.0 с\n"
     ]
    }
   ],
   "source": [
    "d = fibonacci(123456)"
   ]
  },
  {
   "cell_type": "code",
   "execution_count": 7,
   "metadata": {},
   "outputs": [
    {
     "name": "stdout",
     "output_type": "stream",
     "text": [
      "Кэшируем значение\n",
      "Затраченное время 5.82 с\n"
     ]
    }
   ],
   "source": [
    "e = fibonacci(123456)"
   ]
  },
  {
   "cell_type": "code",
   "execution_count": 8,
   "metadata": {},
   "outputs": [
    {
     "data": {
      "text/plain": [
       "True"
      ]
     },
     "execution_count": 8,
     "metadata": {},
     "output_type": "execute_result"
    }
   ],
   "source": [
    "a == b == c == d == e"
   ]
  }
 ],
 "metadata": {
  "kernelspec": {
   "display_name": "Python 3.8.10 64-bit",
   "language": "python",
   "name": "python3"
  },
  "language_info": {
   "codemirror_mode": {
    "name": "ipython",
    "version": 3
   },
   "file_extension": ".py",
   "mimetype": "text/x-python",
   "name": "python",
   "nbconvert_exporter": "python",
   "pygments_lexer": "ipython3",
   "version": "3.8.10"
  },
  "orig_nbformat": 4,
  "vscode": {
   "interpreter": {
    "hash": "f544ce1a915a9875fad91c894e2c0bcad4b7a79945aa6027ef3ad27810072aa6"
   }
  }
 },
 "nbformat": 4,
 "nbformat_minor": 2
}
