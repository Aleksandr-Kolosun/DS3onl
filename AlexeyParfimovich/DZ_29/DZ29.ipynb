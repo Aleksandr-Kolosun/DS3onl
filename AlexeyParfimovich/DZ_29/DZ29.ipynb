{
 "cells": [
  {
   "attachments": {},
   "cell_type": "markdown",
   "metadata": {},
   "source": [
    "## Группа DS03-onl\n",
    "\n",
    "Студент Парфимович Алексей\n",
    "\n",
    "## Домашнее задание №29\n",
    "\n",
    "#### Выполнить классификацию ттвитов  по эмоциональной окраске из предоставленного набора данных с использованием рекурентных нейронных сетей по 4 классам.\n",
    "При работе можно использовать пример example_attenchion.ipnyb"
   ]
  },
  {
   "cell_type": "code",
   "execution_count": 51,
   "metadata": {},
   "outputs": [
    {
     "name": "stdout",
     "output_type": "stream",
     "text": [
      "Cuda version: 2.10.1\n",
      "Num GPUs Available:  1\n"
     ]
    },
    {
     "name": "stderr",
     "output_type": "stream",
     "text": [
      "[nltk_data] Downloading package stopwords to\n",
      "[nltk_data]     C:\\Users\\admin\\AppData\\Roaming\\nltk_data...\n",
      "[nltk_data]   Package stopwords is already up-to-date!\n",
      "[nltk_data] Downloading package wordnet to\n",
      "[nltk_data]     C:\\Users\\admin\\AppData\\Roaming\\nltk_data...\n",
      "[nltk_data]   Package wordnet is already up-to-date!\n",
      "[nltk_data] Downloading package omw-1.4 to\n",
      "[nltk_data]     C:\\Users\\admin\\AppData\\Roaming\\nltk_data...\n",
      "[nltk_data]   Package omw-1.4 is already up-to-date!\n"
     ]
    }
   ],
   "source": [
    "import re\n",
    "import numpy as np\n",
    "import pandas as pd\n",
    "\n",
    "%matplotlib inline\n",
    "from matplotlib import pyplot as plt\n",
    "\n",
    "import warnings\n",
    "warnings.filterwarnings('ignore')\n",
    "\n",
    "import nltk\n",
    "nltk.download('stopwords')\n",
    "nltk.download('wordnet')\n",
    "nltk.download('omw-1.4')\n",
    "from nltk.corpus import stopwords\n",
    "from nltk.stem import WordNetLemmatizer\n",
    "from bs4 import BeautifulSoup \n",
    "\n",
    "import tensorflow as tf\n",
    "from tensorflow import keras\n",
    "from keras.utils import to_categorical, pad_sequences\n",
    "from keras.preprocessing.text import Tokenizer\n",
    "\n",
    "from sklearn.preprocessing import LabelEncoder\n",
    "\n",
    "RANDOM_STATE = 42\n",
    "\n",
    "print('Cuda version: ' + tf.__version__)\n",
    "print(\"Num GPUs Available: \", len(tf.config.list_physical_devices('GPU')))"
   ]
  },
  {
   "attachments": {},
   "cell_type": "markdown",
   "metadata": {},
   "source": [
    "Загрузить тренировочный и проверочный наборы твитов"
   ]
  },
  {
   "cell_type": "code",
   "execution_count": 75,
   "metadata": {},
   "outputs": [
    {
     "name": "stdout",
     "output_type": "stream",
     "text": [
      "<class 'pandas.core.frame.DataFrame'>\n",
      "Int64Index: 75682 entries, 0 to 999\n",
      "Data columns (total 4 columns):\n",
      " #   Column     Non-Null Count  Dtype \n",
      "---  ------     --------------  ----- \n",
      " 0   id         75682 non-null  int64 \n",
      " 1   network    75682 non-null  object\n",
      " 2   sentiment  75682 non-null  object\n",
      " 3   text       74996 non-null  object\n",
      "dtypes: int64(1), object(3)\n",
      "memory usage: 2.9+ MB\n"
     ]
    }
   ],
   "source": [
    "colnames=['id', 'network', 'sentiment', 'text'] \n",
    "\n",
    "df_train = pd.read_csv('twitter_training.csv', names=colnames, header=None)\n",
    "df_val = pd.read_csv('twitter_validation.csv', names=colnames, header=None)\n",
    "\n",
    "df = pd.concat([df_train, df_val])\n",
    "\n",
    "df.info()"
   ]
  },
  {
   "attachments": {},
   "cell_type": "markdown",
   "metadata": {},
   "source": [
    "Выполнить очистку наборов от записей с \"пустыми\" значениями"
   ]
  },
  {
   "cell_type": "code",
   "execution_count": 76,
   "metadata": {},
   "outputs": [],
   "source": [
    "df = df.replace(to_replace='None', value=np.nan).dropna()"
   ]
  },
  {
   "attachments": {},
   "cell_type": "markdown",
   "metadata": {},
   "source": [
    "Построить диаграмму распределения твитов по категориям эмоциональной окраски (Sentiment)"
   ]
  },
  {
   "cell_type": "code",
   "execution_count": 79,
   "metadata": {},
   "outputs": [
    {
     "data": {
      "image/png": "[encoded data removed]",
      "text/plain": [
       "<Figure size 640x480 with 1 Axes>"
      ]
     },
     "metadata": {},
     "output_type": "display_data"
    }
   ],
   "source": [
    "plt.hist(df_train.sentiment)\n",
    "plt.show()"
   ]
  },
  {
   "attachments": {},
   "cell_type": "markdown",
   "metadata": {},
   "source": [
    "Выполнить очистку и лемматизацию текста твиттов"
   ]
  },
  {
   "cell_type": "code",
   "execution_count": 80,
   "metadata": {},
   "outputs": [],
   "source": [
    "STOPWORDS  = stopwords.words('english') + ['im']\n",
    "STOPWORDS.remove('not')\n",
    "STOPWORDS.remove('no')\n",
    "\n",
    "lemmatizer = WordNetLemmatizer()\n",
    "\n",
    "#### Функция очистки и лемматизации текста\n",
    "def clean_text(text):\n",
    "  #очистить текст от тегов html и привести к нижнему регистру\n",
    "  text = BeautifulSoup(text).get_text().lower()\n",
    "\n",
    "  #очистить текст от ссылок html\n",
    "  text = re.sub(r\"(?:\\@|http?\\://|https?\\://|www)\\S+\", \"\", text)\n",
    "\n",
    "  #очистить текст от всех символов кроме букв латинского алфавита\n",
    "  text = re.sub(\"[^a-z]\", \" \", text)\n",
    "\n",
    "  #разбить текст на слова\n",
    "  text_words = text.split()\n",
    "\n",
    "  #выполнить лематизацию текста и удалить стоп-слова\n",
    "  result_words = [lemmatizer.lemmatize(word) for word in text_words if not word in STOPWORDS]\n",
    "    \n",
    "  return (\" \".join(result_words))"
   ]
  },
  {
   "cell_type": "code",
   "execution_count": 81,
   "metadata": {},
   "outputs": [],
   "source": [
    "df['text'] = df['text'].apply(lambda x: clean_text(x))"
   ]
  },
  {
   "attachments": {},
   "cell_type": "markdown",
   "metadata": {},
   "source": [
    "Кодируем категориальные признаки твиттов"
   ]
  },
  {
   "cell_type": "code",
   "execution_count": 84,
   "metadata": {},
   "outputs": [
    {
     "data": {
      "text/plain": [
       "(74996, 4)"
      ]
     },
     "execution_count": 84,
     "metadata": {},
     "output_type": "execute_result"
    }
   ],
   "source": [
    "labeles = LabelEncoder()\n",
    "labels = to_categorical(labeles.fit_transform(df['sentiment']), num_classes=4)\n",
    "\n",
    "labels.shape"
   ]
  },
  {
   "attachments": {},
   "cell_type": "markdown",
   "metadata": {},
   "source": [
    "Выполняем токенизацию текста для тестового набора твиттов"
   ]
  },
  {
   "cell_type": "code",
   "execution_count": 86,
   "metadata": {},
   "outputs": [
    {
     "name": "stdout",
     "output_type": "stream",
     "text": [
      "Найдено уникальных слов 27065\n"
     ]
    }
   ],
   "source": [
    "#максимальное количество слов в твите\n",
    "TEXT_MAX_LEN = 128\n",
    "#количество наиболее часто используемых слов\n",
    "TEXT_MAX_WORDS = 27000\n",
    "\n",
    "#создать токенайзер\n",
    "tokenizer = Tokenizer(num_words=TEXT_MAX_WORDS, filters='!\"#$%&()*+,-./:;<=>?@[\\\\]^_`{|}~\\t\\n')\n",
    "#создать словарь на основе слов из текста\n",
    "tokenizer.fit_on_texts(df['text'])\n",
    "#преобразовать каждый текст в последовательность чисел\n",
    "sequences = tokenizer.texts_to_sequences(df['text'])\n",
    "\n",
    "\n",
    "#получим количество уникальных слов\n",
    "print('Найдено уникальных слов %s'%len(tokenizer.word_index))"
   ]
  },
  {
   "cell_type": "code",
   "execution_count": 87,
   "metadata": {},
   "outputs": [
    {
     "name": "stdout",
     "output_type": "stream",
     "text": [
      "(74996, 128)\n"
     ]
    }
   ],
   "source": [
    "#преобразуем последовательность индексов слов в массив numpy размером (num_samples, max_len)\n",
    "texts = pad_sequences(sequences, maxlen=TEXT_MAX_LEN)\n",
    "\n",
    "print(texts.shape)"
   ]
  },
  {
   "attachments": {},
   "cell_type": "markdown",
   "metadata": {},
   "source": [
    "Перемешиваем обучающий набор данных"
   ]
  },
  {
   "cell_type": "code",
   "execution_count": 88,
   "metadata": {},
   "outputs": [],
   "source": [
    "#перемешиваем данные\n",
    "indices = np.arange(texts.shape[0])    # перемешиваем данные\n",
    "np.random.shuffle(indices)\n",
    "X = texts[indices]\n",
    "y = labels[indices]"
   ]
  },
  {
   "attachments": {},
   "cell_type": "markdown",
   "metadata": {},
   "source": [
    "Создаем обучающий и тестовый наборы данных"
   ]
  },
  {
   "cell_type": "code",
   "execution_count": 89,
   "metadata": {},
   "outputs": [],
   "source": [
    "TEST_SIZE = 5000\n",
    "\n",
    "X_test = X[:TEST_SIZE]\n",
    "y_test = y[:TEST_SIZE]\n",
    "\n",
    "X_train = X[TEST_SIZE:]\n",
    "y_train = y[TEST_SIZE:]"
   ]
  },
  {
   "attachments": {},
   "cell_type": "markdown",
   "metadata": {},
   "source": [
    "Создаем и обучаем модель LSTM"
   ]
  },
  {
   "cell_type": "code",
   "execution_count": 149,
   "metadata": {},
   "outputs": [
    {
     "name": "stdout",
     "output_type": "stream",
     "text": [
      "Model summary:\n",
      "Model: \"sequential\"\n",
      "_________________________________________________________________\n",
      " Layer (type)                Output Shape              Param #   \n",
      "=================================================================\n",
      " embedding (Embedding)       (None, None, 128)         3456000   \n",
      "                                                                 \n",
      " gru (GRU)                   (None, None, 128)         99072     \n",
      "                                                                 \n",
      " gru_1 (GRU)                 (None, 128)               99072     \n",
      "                                                                 \n",
      " dropout (Dropout)           (None, 128)               0         \n",
      "                                                                 \n",
      " dense (Dense)               (None, 1024)              132096    \n",
      "                                                                 \n",
      " dense_1 (Dense)             (None, 4)                 4100      \n",
      "                                                                 \n",
      "=================================================================\n",
      "Total params: 3,790,340\n",
      "Trainable params: 3,790,340\n",
      "Non-trainable params: 0\n",
      "_________________________________________________________________\n",
      "None\n"
     ]
    }
   ],
   "source": [
    "keras.backend.clear_session()\n",
    "tf.random.set_seed(RANDOM_STATE)\n",
    "\n",
    "model = keras.models.Sequential([\n",
    "    keras.layers.Embedding(input_dim=TEXT_MAX_WORDS, output_dim=TEXT_MAX_LEN),\n",
    "    keras.layers.GRU(units=128, return_sequences=True),\n",
    "    keras.layers.GRU(units=128),\n",
    "    keras.layers.Dropout(0.5),\n",
    "    \n",
    "    keras.layers.Dense(1024, kernel_initializer='he_normal', activation='ReLU'),\n",
    "    \n",
    "    keras.layers.Dense(4, activation='softmax')\n",
    "])\n",
    "\n",
    "model.compile(loss= 'categorical_crossentropy', \n",
    "              optimizer=keras.optimizers.Nadam(learning_rate=0.01), \n",
    "              metrics= ['accuracy'])\n",
    "\n",
    "callbacks = [\n",
    "    tf.keras.callbacks.EarlyStopping(\n",
    "        monitor='val_accuracy',\n",
    "        min_delta=1e-4,\n",
    "        patience=10,\n",
    "        verbose=1\n",
    "    ),\n",
    "    tf.keras.callbacks.ReduceLROnPlateau(\n",
    "        #monitor='val_accuracy',\n",
    "        factor=0.2,\n",
    "        patience=2\n",
    "    ),\n",
    "    tf.keras.callbacks.ModelCheckpoint(\n",
    "        'keras_LSTM_model.h5',\n",
    "        monitor = 'val_loss',\n",
    "        save_Best_only=True\n",
    "    )\n",
    "]\n",
    "\n",
    "print('Model summary:')\n",
    "print(model.summary())"
   ]
  },
  {
   "cell_type": "code",
   "execution_count": 150,
   "metadata": {},
   "outputs": [
    {
     "name": "stdout",
     "output_type": "stream",
     "text": [
      "Epoch 1/50\n",
      "55/55 [==============================] - 8s 90ms/step - loss: 1.1111 - accuracy: 0.5364 - val_loss: 0.8032 - val_accuracy: 0.6976 - lr: 0.0100\n",
      "Epoch 2/50\n",
      "55/55 [==============================] - 4s 79ms/step - loss: 0.5290 - accuracy: 0.8052 - val_loss: 0.4972 - val_accuracy: 0.8187 - lr: 0.0100\n",
      "Epoch 3/50\n",
      "55/55 [==============================] - 4s 79ms/step - loss: 0.2662 - accuracy: 0.9015 - val_loss: 0.4526 - val_accuracy: 0.8494 - lr: 0.0100\n",
      "Epoch 4/50\n",
      "55/55 [==============================] - 4s 78ms/step - loss: 0.1930 - accuracy: 0.9264 - val_loss: 0.4566 - val_accuracy: 0.8551 - lr: 0.0100\n",
      "Epoch 5/50\n",
      "55/55 [==============================] - 4s 79ms/step - loss: 0.2045 - accuracy: 0.9259 - val_loss: 0.7810 - val_accuracy: 0.8061 - lr: 0.0100\n",
      "Epoch 6/50\n",
      "55/55 [==============================] - 4s 79ms/step - loss: 0.1698 - accuracy: 0.9382 - val_loss: 0.4674 - val_accuracy: 0.8729 - lr: 0.0020\n",
      "Epoch 7/50\n",
      "55/55 [==============================] - 4s 80ms/step - loss: 0.1068 - accuracy: 0.9573 - val_loss: 0.5177 - val_accuracy: 0.8749 - lr: 0.0020\n",
      "Epoch 8/50\n",
      "55/55 [==============================] - 4s 79ms/step - loss: 0.0919 - accuracy: 0.9620 - val_loss: 0.5533 - val_accuracy: 0.8769 - lr: 4.0000e-04\n",
      "Epoch 9/50\n",
      "55/55 [==============================] - 4s 79ms/step - loss: 0.0898 - accuracy: 0.9623 - val_loss: 0.5694 - val_accuracy: 0.8764 - lr: 4.0000e-04\n",
      "Epoch 10/50\n",
      "55/55 [==============================] - 4s 79ms/step - loss: 0.0877 - accuracy: 0.9629 - val_loss: 0.5745 - val_accuracy: 0.8761 - lr: 8.0000e-05\n",
      "Epoch 11/50\n",
      "55/55 [==============================] - 4s 79ms/step - loss: 0.0871 - accuracy: 0.9631 - val_loss: 0.5802 - val_accuracy: 0.8762 - lr: 8.0000e-05\n",
      "Epoch 12/50\n",
      "55/55 [==============================] - 4s 79ms/step - loss: 0.0870 - accuracy: 0.9631 - val_loss: 0.5813 - val_accuracy: 0.8762 - lr: 1.6000e-05\n",
      "Epoch 13/50\n",
      "55/55 [==============================] - 4s 79ms/step - loss: 0.0863 - accuracy: 0.9638 - val_loss: 0.5824 - val_accuracy: 0.8764 - lr: 1.6000e-05\n",
      "Epoch 14/50\n",
      "55/55 [==============================] - 4s 79ms/step - loss: 0.0862 - accuracy: 0.9633 - val_loss: 0.5826 - val_accuracy: 0.8763 - lr: 3.2000e-06\n",
      "Epoch 15/50\n",
      "55/55 [==============================] - 4s 79ms/step - loss: 0.0865 - accuracy: 0.9631 - val_loss: 0.5828 - val_accuracy: 0.8764 - lr: 3.2000e-06\n",
      "Epoch 16/50\n",
      "55/55 [==============================] - 4s 79ms/step - loss: 0.0864 - accuracy: 0.9636 - val_loss: 0.5829 - val_accuracy: 0.8764 - lr: 6.4000e-07\n",
      "Epoch 17/50\n",
      "55/55 [==============================] - 4s 79ms/step - loss: 0.0858 - accuracy: 0.9631 - val_loss: 0.5829 - val_accuracy: 0.8764 - lr: 6.4000e-07\n",
      "Epoch 18/50\n",
      "55/55 [==============================] - 4s 79ms/step - loss: 0.0860 - accuracy: 0.9629 - val_loss: 0.5829 - val_accuracy: 0.8764 - lr: 1.2800e-07\n",
      "Epoch 18: early stopping\n",
      "\n",
      "Model history:\n",
      "dict_keys(['loss', 'accuracy', 'val_loss', 'val_accuracy', 'lr'])\n"
     ]
    }
   ],
   "source": [
    "#with tf.device('/cpu:0'):\n",
    "with tf.device('/gpu:0'):\n",
    "    history = model.fit(X_train, y_train, batch_size=1024, epochs=50,\n",
    "                        callbacks=callbacks, \n",
    "                        validation_split=0.2, \n",
    "                        #class_weight = class_weights,\n",
    "                        verbose=1)\n",
    "\n",
    "print('\\nModel history:')\n",
    "print(history.history.keys())"
   ]
  },
  {
   "cell_type": "code",
   "execution_count": 151,
   "metadata": {},
   "outputs": [
    {
     "name": "stdout",
     "output_type": "stream",
     "text": [
      "Метрики на тестовых данных:\n",
      "157/157 [==============================] - 1s 7ms/step - loss: 0.5993 - accuracy: 0.8740\n"
     ]
    },
    {
     "data": {
      "text/plain": [
       "[0.599272608757019, 0.8740000128746033]"
      ]
     },
     "execution_count": 151,
     "metadata": {},
     "output_type": "execute_result"
    }
   ],
   "source": [
    "print('Метрики на тестовых данных:')\n",
    "model.evaluate(X_test, y_test)"
   ]
  },
  {
   "cell_type": "code",
   "execution_count": 152,
   "metadata": {},
   "outputs": [
    {
     "data": {
      "image/png": "[encoded data removed]",
      "text/plain": [
       "<Figure size 640x480 with 1 Axes>"
      ]
     },
     "metadata": {},
     "output_type": "display_data"
    }
   ],
   "source": [
    "plt.plot(history.history['loss'], linestyle = '--', label='Потери на обучающем наборе')\n",
    "plt.plot(history.history['val_loss'], linestyle = '--', label='Потери на проверочном наборе')\n",
    "plt.xlabel('Эпохи')\n",
    "plt.ylabel('Потери/Точность')\n",
    "plt.legend()\n",
    "plt.show()"
   ]
  },
  {
   "cell_type": "code",
   "execution_count": 153,
   "metadata": {},
   "outputs": [
    {
     "data": {
      "image/png": "[encoded data removed]",
      "text/plain": [
       "<Figure size 640x480 with 1 Axes>"
      ]
     },
     "metadata": {},
     "output_type": "display_data"
    }
   ],
   "source": [
    "plt.plot(history.history['accuracy'], label='Точность на обучающем наборе')\n",
    "plt.plot(history.history['val_accuracy'], label='Точность на проверочном наборе')\n",
    "plt.xlabel('Эпохи')\n",
    "plt.ylabel('Потери/Точность')\n",
    "plt.legend()\n",
    "plt.show()"
   ]
  }
 ],
 "metadata": {
  "kernelspec": {
   "display_name": "Python 3",
   "language": "python",
   "name": "python3"
  },
  "language_info": {
   "codemirror_mode": {
    "name": "ipython",
    "version": 3
   },
   "file_extension": ".py",
   "mimetype": "text/x-python",
   "name": "python",
   "nbconvert_exporter": "python",
   "pygments_lexer": "ipython3",
   "version": "3.9.13"
  },
  "vscode": {
   "interpreter": {
    "hash": "11938c6bc6919ae2720b4d5011047913343b08a43b18698fd82dedb0d4417594"
   }
  }
 },
 "nbformat": 4,
 "nbformat_minor": 2
}
