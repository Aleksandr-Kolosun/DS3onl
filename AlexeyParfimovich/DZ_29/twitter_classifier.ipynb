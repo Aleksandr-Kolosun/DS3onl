{
  "cells": [
    {
      "cell_type": "code",
      "execution_count": 21,
      "metadata": {
        "colab": {
          "base_uri": "https://localhost:8080/"
        },
        "id": "GvILsn-Oecjs",
        "outputId": "294ecd31-a874-4d7c-db65-d980178b9e09"
      },
      "outputs": [
        {
          "name": "stderr",
          "output_type": "stream",
          "text": [
            "[nltk_data] Downloading package stopwords to\n",
            "[nltk_data]     C:\\Users\\wmama\\AppData\\Roaming\\nltk_data...\n",
            "[nltk_data]   Package stopwords is already up-to-date!\n",
            "[nltk_data] Downloading package wordnet to\n",
            "[nltk_data]     C:\\Users\\wmama\\AppData\\Roaming\\nltk_data...\n",
            "[nltk_data]   Package wordnet is already up-to-date!\n",
            "[nltk_data] Downloading package omw-1.4 to\n",
            "[nltk_data]     C:\\Users\\wmama\\AppData\\Roaming\\nltk_data...\n",
            "[nltk_data]   Package omw-1.4 is already up-to-date!\n"
          ]
        }
      ],
      "source": [
        "import pandas as pd\n",
        "from matplotlib import pyplot as plt\n",
        "import numpy as np\n",
        "from keras.utils import to_categorical\n",
        "from keras.preprocessing.text import Tokenizer\n",
        "from keras.utils import pad_sequences\n",
        "from keras import models\n",
        "from keras import Sequential\n",
        "from keras import layers\n",
        "from keras.callbacks import ModelCheckpoint\n",
        "from keras import optimizers\n",
        "from keras.metrics import AUC\n",
        "from keras.regularizers import L1\n",
        "import nltk\n",
        "nltk.download('stopwords')\n",
        "nltk.download('wordnet')\n",
        "nltk.download('omw-1.4')\n",
        "from nltk.corpus import stopwords\n",
        "from nltk.stem import WordNetLemmatizer\n",
        "from bs4 import BeautifulSoup \n",
        "import re"
      ]
    },
    {
      "cell_type": "code",
      "execution_count": 22,
      "metadata": {
        "id": "xKFjNdNfhq30"
      },
      "outputs": [],
      "source": [
        "colnames=['ID', 'Social network', 'Sentiment', 'Text'] "
      ]
    },
    {
      "cell_type": "code",
      "execution_count": 23,
      "metadata": {
        "id": "okslQ-Smgf-s"
      },
      "outputs": [],
      "source": [
        "df_train = pd.read_csv('twitter_training.csv', names=colnames, header=None)"
      ]
    },
    {
      "cell_type": "code",
      "execution_count": 24,
      "metadata": {
        "id": "7rnBqntYglt1"
      },
      "outputs": [],
      "source": [
        "df_val = pd.read_csv('twitter_validation.csv', names=colnames, header=None)"
      ]
    },
    {
      "cell_type": "code",
      "execution_count": 25,
      "metadata": {
        "colab": {
          "base_uri": "https://localhost:8080/",
          "height": 198
        },
        "id": "VBb80oPjgu0b",
        "outputId": "d3cedf9b-7d66-44f8-a8c8-773981c4b6e3"
      },
      "outputs": [
        {
          "data": {
            "text/html": [
              "<div>\n",
              "<style scoped>\n",
              "    .dataframe tbody tr th:only-of-type {\n",
              "        vertical-align: middle;\n",
              "    }\n",
              "\n",
              "    .dataframe tbody tr th {\n",
              "        vertical-align: top;\n",
              "    }\n",
              "\n",
              "    .dataframe thead th {\n",
              "        text-align: right;\n",
              "    }\n",
              "</style>\n",
              "<table border=\"1\" class=\"dataframe\">\n",
              "  <thead>\n",
              "    <tr style=\"text-align: right;\">\n",
              "      <th></th>\n",
              "      <th>ID</th>\n",
              "      <th>Social network</th>\n",
              "      <th>Sentiment</th>\n",
              "      <th>Text</th>\n",
              "    </tr>\n",
              "  </thead>\n",
              "  <tbody>\n",
              "    <tr>\n",
              "      <th>0</th>\n",
              "      <td>2401</td>\n",
              "      <td>Borderlands</td>\n",
              "      <td>Positive</td>\n",
              "      <td>im getting on borderlands and i will murder yo...</td>\n",
              "    </tr>\n",
              "    <tr>\n",
              "      <th>1</th>\n",
              "      <td>2401</td>\n",
              "      <td>Borderlands</td>\n",
              "      <td>Positive</td>\n",
              "      <td>I am coming to the borders and I will kill you...</td>\n",
              "    </tr>\n",
              "    <tr>\n",
              "      <th>2</th>\n",
              "      <td>2401</td>\n",
              "      <td>Borderlands</td>\n",
              "      <td>Positive</td>\n",
              "      <td>im getting on borderlands and i will kill you ...</td>\n",
              "    </tr>\n",
              "    <tr>\n",
              "      <th>3</th>\n",
              "      <td>2401</td>\n",
              "      <td>Borderlands</td>\n",
              "      <td>Positive</td>\n",
              "      <td>im coming on borderlands and i will murder you...</td>\n",
              "    </tr>\n",
              "    <tr>\n",
              "      <th>4</th>\n",
              "      <td>2401</td>\n",
              "      <td>Borderlands</td>\n",
              "      <td>Positive</td>\n",
              "      <td>im getting on borderlands 2 and i will murder ...</td>\n",
              "    </tr>\n",
              "  </tbody>\n",
              "</table>\n",
              "</div>"
            ],
            "text/plain": [
              "     ID Social network Sentiment  \\\n",
              "0  2401    Borderlands  Positive   \n",
              "1  2401    Borderlands  Positive   \n",
              "2  2401    Borderlands  Positive   \n",
              "3  2401    Borderlands  Positive   \n",
              "4  2401    Borderlands  Positive   \n",
              "\n",
              "                                                Text  \n",
              "0  im getting on borderlands and i will murder yo...  \n",
              "1  I am coming to the borders and I will kill you...  \n",
              "2  im getting on borderlands and i will kill you ...  \n",
              "3  im coming on borderlands and i will murder you...  \n",
              "4  im getting on borderlands 2 and i will murder ...  "
            ]
          },
          "execution_count": 25,
          "metadata": {},
          "output_type": "execute_result"
        }
      ],
      "source": [
        "df_train.head(5)"
      ]
    },
    {
      "cell_type": "code",
      "execution_count": 26,
      "metadata": {
        "colab": {
          "base_uri": "https://localhost:8080/",
          "height": 198
        },
        "id": "kGEjSNl3gx9z",
        "outputId": "d3269fc9-cf9e-4864-951e-6fa92358525b"
      },
      "outputs": [
        {
          "data": {
            "text/html": [
              "<div>\n",
              "<style scoped>\n",
              "    .dataframe tbody tr th:only-of-type {\n",
              "        vertical-align: middle;\n",
              "    }\n",
              "\n",
              "    .dataframe tbody tr th {\n",
              "        vertical-align: top;\n",
              "    }\n",
              "\n",
              "    .dataframe thead th {\n",
              "        text-align: right;\n",
              "    }\n",
              "</style>\n",
              "<table border=\"1\" class=\"dataframe\">\n",
              "  <thead>\n",
              "    <tr style=\"text-align: right;\">\n",
              "      <th></th>\n",
              "      <th>ID</th>\n",
              "      <th>Social network</th>\n",
              "      <th>Sentiment</th>\n",
              "      <th>Text</th>\n",
              "    </tr>\n",
              "  </thead>\n",
              "  <tbody>\n",
              "    <tr>\n",
              "      <th>0</th>\n",
              "      <td>3364</td>\n",
              "      <td>Facebook</td>\n",
              "      <td>Irrelevant</td>\n",
              "      <td>I mentioned on Facebook that I was struggling ...</td>\n",
              "    </tr>\n",
              "    <tr>\n",
              "      <th>1</th>\n",
              "      <td>352</td>\n",
              "      <td>Amazon</td>\n",
              "      <td>Neutral</td>\n",
              "      <td>BBC News - Amazon boss Jeff Bezos rejects clai...</td>\n",
              "    </tr>\n",
              "    <tr>\n",
              "      <th>2</th>\n",
              "      <td>8312</td>\n",
              "      <td>Microsoft</td>\n",
              "      <td>Negative</td>\n",
              "      <td>@Microsoft Why do I pay for WORD when it funct...</td>\n",
              "    </tr>\n",
              "    <tr>\n",
              "      <th>3</th>\n",
              "      <td>4371</td>\n",
              "      <td>CS-GO</td>\n",
              "      <td>Negative</td>\n",
              "      <td>CSGO matchmaking is so full of closet hacking,...</td>\n",
              "    </tr>\n",
              "    <tr>\n",
              "      <th>4</th>\n",
              "      <td>4433</td>\n",
              "      <td>Google</td>\n",
              "      <td>Neutral</td>\n",
              "      <td>Now the President is slapping Americans in the...</td>\n",
              "    </tr>\n",
              "  </tbody>\n",
              "</table>\n",
              "</div>"
            ],
            "text/plain": [
              "     ID Social network   Sentiment  \\\n",
              "0  3364       Facebook  Irrelevant   \n",
              "1   352         Amazon     Neutral   \n",
              "2  8312      Microsoft    Negative   \n",
              "3  4371          CS-GO    Negative   \n",
              "4  4433         Google     Neutral   \n",
              "\n",
              "                                                Text  \n",
              "0  I mentioned on Facebook that I was struggling ...  \n",
              "1  BBC News - Amazon boss Jeff Bezos rejects clai...  \n",
              "2  @Microsoft Why do I pay for WORD when it funct...  \n",
              "3  CSGO matchmaking is so full of closet hacking,...  \n",
              "4  Now the President is slapping Americans in the...  "
            ]
          },
          "execution_count": 26,
          "metadata": {},
          "output_type": "execute_result"
        }
      ],
      "source": [
        "df_val.head(5)"
      ]
    },
    {
      "cell_type": "code",
      "execution_count": 27,
      "metadata": {
        "colab": {
          "base_uri": "https://localhost:8080/"
        },
        "id": "B36Awd4XjJni",
        "outputId": "ded9af64-e4d3-4883-d8f6-e99e70991eea"
      },
      "outputs": [
        {
          "name": "stdout",
          "output_type": "stream",
          "text": [
            "<class 'pandas.core.frame.DataFrame'>\n",
            "RangeIndex: 74682 entries, 0 to 74681\n",
            "Data columns (total 4 columns):\n",
            " #   Column          Non-Null Count  Dtype \n",
            "---  ------          --------------  ----- \n",
            " 0   ID              74682 non-null  int64 \n",
            " 1   Social network  74682 non-null  object\n",
            " 2   Sentiment       74682 non-null  object\n",
            " 3   Text            73996 non-null  object\n",
            "dtypes: int64(1), object(3)\n",
            "memory usage: 2.3+ MB\n"
          ]
        }
      ],
      "source": [
        "df_train.info()"
      ]
    },
    {
      "cell_type": "code",
      "execution_count": 28,
      "metadata": {
        "colab": {
          "base_uri": "https://localhost:8080/"
        },
        "id": "OlcDeuiOlgGn",
        "outputId": "a67cd75b-b80d-4b0d-e633-eaa7c8452d0a"
      },
      "outputs": [
        {
          "name": "stdout",
          "output_type": "stream",
          "text": [
            "<class 'pandas.core.frame.DataFrame'>\n",
            "RangeIndex: 1000 entries, 0 to 999\n",
            "Data columns (total 4 columns):\n",
            " #   Column          Non-Null Count  Dtype \n",
            "---  ------          --------------  ----- \n",
            " 0   ID              1000 non-null   int64 \n",
            " 1   Social network  1000 non-null   object\n",
            " 2   Sentiment       1000 non-null   object\n",
            " 3   Text            1000 non-null   object\n",
            "dtypes: int64(1), object(3)\n",
            "memory usage: 31.4+ KB\n"
          ]
        }
      ],
      "source": [
        "df_val.info()"
      ]
    },
    {
      "cell_type": "code",
      "execution_count": 29,
      "metadata": {
        "id": "05eRgDZprLni"
      },
      "outputs": [],
      "source": [
        "df_train = df_train.replace(to_replace='None', value=np.nan).dropna()"
      ]
    },
    {
      "cell_type": "code",
      "execution_count": 30,
      "metadata": {
        "colab": {
          "base_uri": "https://localhost:8080/"
        },
        "id": "diSU76hlrPUq",
        "outputId": "9101b24d-7e7f-4bc4-8e8d-cb94077948d4"
      },
      "outputs": [
        {
          "name": "stdout",
          "output_type": "stream",
          "text": [
            "Train None info:\n",
            "ID                0\n",
            "Social network    0\n",
            "Sentiment         0\n",
            "Text              0\n",
            "dtype: int64\n",
            "\n",
            "Validation None info:\n",
            "ID                0\n",
            "Social network    0\n",
            "Sentiment         0\n",
            "Text              0\n",
            "dtype: int64\n"
          ]
        }
      ],
      "source": [
        "print(f'Train None info:\\n{df_train.isnull().sum()}')\n",
        "print(f'\\nValidation None info:\\n{df_val.isnull().sum()}')"
      ]
    },
    {
      "cell_type": "code",
      "execution_count": 31,
      "metadata": {
        "colab": {
          "base_uri": "https://localhost:8080/"
        },
        "id": "WswTJLfEjsB6",
        "outputId": "11021d11-8936-4e4a-96b9-9ac8d6aa354d"
      },
      "outputs": [
        {
          "name": "stdout",
          "output_type": "stream",
          "text": [
            "__________TRAIN__________\n",
            "Count of categories: 4\n",
            "Categories names: ['Positive' 'Neutral' 'Negative' 'Irrelevant']\n",
            "Categories values counts:\n",
            "Negative      22358\n",
            "Positive      20655\n",
            "Neutral       18108\n",
            "Irrelevant    12875\n",
            "Name: Sentiment, dtype: int64\n",
            "\n",
            "________VALIDATION________\n",
            "Count of categories: 4\n",
            "Categories names: ['Irrelevant' 'Neutral' 'Negative' 'Positive']\n",
            "Categories values counts:\n",
            "Neutral       285\n",
            "Positive      277\n",
            "Negative      266\n",
            "Irrelevant    172\n",
            "Name: Sentiment, dtype: int64\n"
          ]
        }
      ],
      "source": [
        "print(\"__________TRAIN__________\")\n",
        "print(f\"Count of categories: {len(df_train['Sentiment'].unique())}\")\n",
        "print(f\"Categories names: {df_train['Sentiment'].unique()}\")\n",
        "print(f\"Categories values counts:\\n{df_train['Sentiment'].value_counts()}\")\n",
        "print(\"\\n________VALIDATION________\")\n",
        "print(f\"Count of categories: {len(df_val['Sentiment'].unique())}\")\n",
        "print(f\"Categories names: {df_val['Sentiment'].unique()}\")\n",
        "print(f\"Categories values counts:\\n{df_val['Sentiment'].value_counts()}\")"
      ]
    },
    {
      "cell_type": "code",
      "execution_count": 32,
      "metadata": {
        "colab": {
          "base_uri": "https://localhost:8080/",
          "height": 545
        },
        "id": "BasPmuUam4XV",
        "outputId": "a31e4b0f-307e-4210-862a-d068144972de"
      },
      "outputs": [
        {
          "data": {
            "image/png": "[encoded data removed]",
            "text/plain": [
              "<Figure size 640x480 with 1 Axes>"
            ]
          },
          "metadata": {},
          "output_type": "display_data"
        },
        {
          "data": {
            "image/png": "[encoded data removed]",
            "text/plain": [
              "<Figure size 640x480 with 1 Axes>"
            ]
          },
          "metadata": {},
          "output_type": "display_data"
        }
      ],
      "source": [
        "plt.hist(df_train['Sentiment'])\n",
        "plt.title(\"Train categories\")\n",
        "plt.show()\n",
        "\n",
        "plt.hist(df_val['Sentiment'])\n",
        "plt.title(\"Validation categories\")\n",
        "plt.show()"
      ]
    },
    {
      "cell_type": "code",
      "execution_count": 33,
      "metadata": {
        "id": "egpXbT59jecT"
      },
      "outputs": [],
      "source": [
        "def cleaned_review(review):\n",
        "  stop = stopwords.words(\"english\")\n",
        "  stop.remove('not')\n",
        "  stop.remove('no')\n",
        "  \n",
        "  lemmatizer = WordNetLemmatizer()\n",
        "  # убираем теги html\n",
        "  new_review = BeautifulSoup(review).get_text()\n",
        "  # убираем url\n",
        "  no_urls = new_review.replace('http\\S+', '').replace('www\\S+', '')\n",
        "  # убираем символы кроме букв\n",
        "  clean_review = re.sub(\"[^a-zA-Z]\", \" \", no_urls)\n",
        "  # приводим в нижнему регистру\n",
        "  new_words = clean_review.lower().split()\n",
        "  # лематизируем и убираем стоп-слова\n",
        "  final_words = [lemmatizer.lemmatize(word) for word in new_words if not word in stop]\n",
        "    \n",
        "  return (\" \".join(final_words))"
      ]
    },
    {
      "cell_type": "code",
      "execution_count": 34,
      "metadata": {
        "colab": {
          "base_uri": "https://localhost:8080/"
        },
        "id": "PehVzycIkBxa",
        "outputId": "26524ffd-c6a9-49b1-fa01-3f622ab1763b"
      },
      "outputs": [
        {
          "name": "stderr",
          "output_type": "stream",
          "text": [
            "c:\\ProgramData\\Anaconda3\\lib\\site-packages\\bs4\\__init__.py:435: MarkupResemblesLocatorWarning: The input looks more like a filename than markup. You may want to open this file and pass the filehandle into Beautiful Soup.\n",
            "  warnings.warn(\n"
          ]
        }
      ],
      "source": [
        "df_train['Text'] = df_train['Text'].apply(lambda x:cleaned_review(x))"
      ]
    },
    {
      "cell_type": "code",
      "execution_count": 35,
      "metadata": {
        "id": "i9PO--5yk9hS"
      },
      "outputs": [],
      "source": [
        "df_val['Text'] = df_val['Text'].apply(lambda x:cleaned_review(x))"
      ]
    },
    {
      "cell_type": "code",
      "execution_count": 36,
      "metadata": {
        "id": "PRAvCuJNm65d"
      },
      "outputs": [],
      "source": [
        "train_data = df_train['Text'].to_list()\n",
        "val_data = df_val['Text'].to_list()\n",
        "\n",
        "train_data = np.concatenate([train_data, val_data])"
      ]
    },
    {
      "cell_type": "code",
      "execution_count": 37,
      "metadata": {
        "id": "r_gj9J8IpeH6"
      },
      "outputs": [],
      "source": [
        "train_categ = df_train['Sentiment']\n",
        "val_categ = df_val['Sentiment']"
      ]
    },
    {
      "cell_type": "code",
      "execution_count": 38,
      "metadata": {
        "colab": {
          "base_uri": "https://localhost:8080/"
        },
        "id": "KI4VhpL9skkX",
        "outputId": "92f8ef24-54f8-45c3-ad91-f8ed01755f10"
      },
      "outputs": [
        {
          "name": "stdout",
          "output_type": "stream",
          "text": [
            "['Positive', 'Neutral', 'Negative', 'Irrelevant']\n",
            "{'Positive': 0, 'Neutral': 1, 'Negative': 2, 'Irrelevant': 3}\n"
          ]
        }
      ],
      "source": [
        "labels = list(df_train['Sentiment'].unique())\n",
        "label2id = {v:k for k,v in enumerate(labels)}\n",
        "print(labels)\n",
        "print(label2id)"
      ]
    },
    {
      "cell_type": "code",
      "execution_count": 39,
      "metadata": {
        "id": "UdcuJlczuE2i"
      },
      "outputs": [],
      "source": [
        "train_targets = np.array(df_train[\"Sentiment\"].map(label2id).to_list())\n",
        "val_targets = np.array(df_val['Sentiment'].map(label2id).to_list())\n",
        "train_targets = np.concatenate([train_targets, val_targets])"
      ]
    },
    {
      "cell_type": "code",
      "execution_count": 40,
      "metadata": {
        "id": "mEIorw4nueMh"
      },
      "outputs": [],
      "source": [
        "max_len = 128   # отсечение остатка отзывов после 500-го слова\n",
        "max_words = 27191     # рассмотрение только 10_000 наиболее часто используемых слов\n",
        "\n",
        "tokenizer = Tokenizer(num_words=max_words, filters='!\"#$%&()*+,-./:;<=>?@[\\\\]^_`{|}~\\t\\n')  # создаем токенайзер\n",
        "vocab = tokenizer.fit_on_texts(train_data)   # создаем словарь на основе слов из текста \n",
        "sequences = tokenizer.texts_to_sequences(train_data) # преобразуем каждый текст в последовательность чисел"
      ]
    },
    {
      "cell_type": "code",
      "execution_count": 41,
      "metadata": {
        "colab": {
          "base_uri": "https://localhost:8080/"
        },
        "id": "mr4l6W3jwxmP",
        "outputId": "2e2170c0-d1a5-4810-cc6d-27d87e24ee28"
      },
      "outputs": [
        {
          "data": {
            "text/plain": [
              "[205, 100, 67, 1441]"
            ]
          },
          "execution_count": 41,
          "metadata": {},
          "output_type": "execute_result"
        }
      ],
      "source": [
        "sequences[0]"
      ]
    },
    {
      "cell_type": "code",
      "execution_count": 42,
      "metadata": {
        "colab": {
          "base_uri": "https://localhost:8080/"
        },
        "id": "uAfRSv3xPA__",
        "outputId": "cb25227d-9ea0-482c-f267-06ec47c88937"
      },
      "outputs": [
        {
          "data": {
            "text/plain": [
              "['im getting borderland murder']"
            ]
          },
          "execution_count": 42,
          "metadata": {},
          "output_type": "execute_result"
        }
      ],
      "source": [
        "tokenizer.sequences_to_texts(\n",
        "    sequences[:1]\n",
        ")"
      ]
    },
    {
      "cell_type": "code",
      "execution_count": 43,
      "metadata": {
        "colab": {
          "base_uri": "https://localhost:8080/"
        },
        "id": "rhMs8O7zwghn",
        "outputId": "33d2d437-7acc-40ab-a5a1-dad2d64c0aa1"
      },
      "outputs": [
        {
          "name": "stdout",
          "output_type": "stream",
          "text": [
            "Found 27192 unique tokens\n"
          ]
        }
      ],
      "source": [
        "word_index = tokenizer.word_index   # получаем количество уникальных слов\n",
        "print('Found %s unique tokens'%len(word_index))"
      ]
    },
    {
      "cell_type": "code",
      "execution_count": 44,
      "metadata": {
        "id": "CXuXdhAcwlbn"
      },
      "outputs": [],
      "source": [
        "train_texts = pad_sequences(sequences, maxlen=max_len)   # преобразуем в массив numpy размером (num_samples, max_len)"
      ]
    },
    {
      "cell_type": "code",
      "execution_count": 45,
      "metadata": {
        "colab": {
          "base_uri": "https://localhost:8080/"
        },
        "id": "ZZRXOypXwwV3",
        "outputId": "b389797f-001f-41c8-ca7f-914ee52c282f"
      },
      "outputs": [
        {
          "name": "stdout",
          "output_type": "stream",
          "text": [
            "(74996, 128)\n"
          ]
        }
      ],
      "source": [
        "print(train_texts.shape)"
      ]
    },
    {
      "cell_type": "code",
      "execution_count": 46,
      "metadata": {
        "id": "GCZ-UtcIw65O"
      },
      "outputs": [],
      "source": [
        "indices = np.arange(train_targets.shape[0])    # перемешиваем данные\n",
        "np.random.shuffle(indices)\n",
        "train_texts = train_texts[indices]\n",
        "train_targets = train_targets[indices]\n",
        "# train test split\n",
        "test_texts = train_texts[:10_000]\n",
        "test_targets = train_targets[:10_000]\n",
        "\n",
        "train_texts = train_texts[10_000:]\n",
        "train_targets = train_targets[10_000:]"
      ]
    },
    {
      "cell_type": "code",
      "execution_count": 47,
      "metadata": {
        "id": "aY1n99PP7O2A"
      },
      "outputs": [],
      "source": [
        "train_targets = to_categorical(train_targets)\n",
        "test_targets = to_categorical(test_targets)"
      ]
    },
    {
      "cell_type": "code",
      "execution_count": 48,
      "metadata": {
        "colab": {
          "base_uri": "https://localhost:8080/"
        },
        "id": "YSjM9JbXyAY-",
        "outputId": "7e210473-4fe4-4bce-b14d-e64fe313d158"
      },
      "outputs": [
        {
          "name": "stdout",
          "output_type": "stream",
          "text": [
            "Train texts shape: (64996, 128)\n",
            "Test texts shape: (10000, 128)\n"
          ]
        }
      ],
      "source": [
        "print(f\"Train texts shape: {train_texts.shape}\")\n",
        "print(f\"Test texts shape: {test_texts.shape}\")"
      ]
    },
    {
      "cell_type": "code",
      "execution_count": 49,
      "metadata": {
        "colab": {
          "base_uri": "https://localhost:8080/"
        },
        "id": "b9IsgwWryJ5-",
        "outputId": "1b7fe685-1b61-4a4c-f906-916e82d5fec0"
      },
      "outputs": [
        {
          "name": "stdout",
          "output_type": "stream",
          "text": [
            "Train targets shape: (64996, 4)\n",
            "Test targets shape: (10000, 4)\n"
          ]
        }
      ],
      "source": [
        "print(f\"Train targets shape: {train_targets.shape}\")\n",
        "print(f\"Test targets shape: {test_targets.shape}\")"
      ]
    },
    {
      "cell_type": "code",
      "execution_count": 50,
      "metadata": {
        "id": "gJEja2tmyYhe"
      },
      "outputs": [],
      "source": [
        "def build_model():\n",
        "  model = Sequential()\n",
        "  model.add(layers.Embedding(input_dim=max_words, output_dim=128))\n",
        "  model.add(layers.Bidirectional(layers.LSTM(units=128, return_sequences=True)))\n",
        "  model.add(layers.Bidirectional(layers.LSTM(units=64)))   # LSTM(16, recurrent_dropout=0.2))\n",
        "  model.add(layers.Dropout(0.5))\n",
        "  model.add(layers.Dense(units=128, activation='relu'))  # , kernel_regularizer=L1(0.01)\n",
        "  model.add(layers.Dropout(0.5))\n",
        "  model.add(layers.Dense(4, activation='softmax'))\n",
        "\n",
        "  return model"
      ]
    },
    {
      "cell_type": "code",
      "execution_count": 51,
      "metadata": {},
      "outputs": [],
      "source": [
        "model = build_model()"
      ]
    },
    {
      "cell_type": "code",
      "execution_count": 58,
      "metadata": {},
      "outputs": [
        {
          "name": "stdout",
          "output_type": "stream",
          "text": [
            "Model: \"sequential_1\"\n",
            "_________________________________________________________________\n",
            " Layer (type)                Output Shape              Param #   \n",
            "=================================================================\n",
            " embedding (Embedding)       (None, None, 128)         3480448   \n",
            "                                                                 \n",
            " bidirectional (Bidirectiona  (None, None, 256)        263168    \n",
            " l)                                                              \n",
            "                                                                 \n",
            " bidirectional_1 (Bidirectio  (None, 128)              164352    \n",
            " nal)                                                            \n",
            "                                                                 \n",
            " dropout (Dropout)           (None, 128)               0         \n",
            "                                                                 \n",
            " dense (Dense)               (None, 128)               16512     \n",
            "                                                                 \n",
            " dropout_1 (Dropout)         (None, 128)               0         \n",
            "                                                                 \n",
            " dense_1 (Dense)             (None, 4)                 516       \n",
            "                                                                 \n",
            "=================================================================\n",
            "Total params: 3,924,996\n",
            "Trainable params: 3,924,996\n",
            "Non-trainable params: 0\n",
            "_________________________________________________________________\n"
          ]
        }
      ],
      "source": [
        "model.summary()"
      ]
    },
    {
      "cell_type": "code",
      "execution_count": 54,
      "metadata": {},
      "outputs": [
        {
          "data": {
            "text/plain": [
              "<keras.layers.rnn.bidirectional.Bidirectional at 0x172d57f2790>"
            ]
          },
          "execution_count": 54,
          "metadata": {},
          "output_type": "execute_result"
        }
      ],
      "source": [
        "model.layers[1]"
      ]
    },
    {
      "cell_type": "code",
      "execution_count": 56,
      "metadata": {},
      "outputs": [
        {
          "name": "stdout",
          "output_type": "stream",
          "text": [
            "(128, 512)\n",
            "(128, 512)\n",
            "(512,)\n",
            "(128, 512)\n",
            "(128, 512)\n",
            "(512,)\n"
          ]
        }
      ],
      "source": [
        "for i in model.layers[1].weights:\n",
        "    print(i.shape)"
      ]
    },
    {
      "cell_type": "code",
      "execution_count": 57,
      "metadata": {},
      "outputs": [
        {
          "data": {
            "text/plain": [
              "512"
            ]
          },
          "execution_count": 57,
          "metadata": {},
          "output_type": "execute_result"
        }
      ],
      "source": [
        "128*4"
      ]
    },
    {
      "cell_type": "code",
      "execution_count": null,
      "metadata": {},
      "outputs": [],
      "source": [
        "#(k, 4*n)\n",
        "#(n, n*4)\n",
        "#(4*n)"
      ]
    },
    {
      "cell_type": "code",
      "execution_count": 52,
      "metadata": {},
      "outputs": [
        {
          "data": {
            "text/plain": [
              "[128]"
            ]
          },
          "execution_count": 52,
          "metadata": {},
          "output_type": "execute_result"
        }
      ],
      "source": [
        "[1*128]"
      ]
    },
    {
      "cell_type": "code",
      "execution_count": null,
      "metadata": {},
      "outputs": [],
      "source": []
    },
    {
      "cell_type": "code",
      "execution_count": 166,
      "metadata": {},
      "outputs": [],
      "source": [
        "# def build_model():\n",
        "#   model = Sequential()\n",
        "#   model.add(layers.Embedding(input_dim=max_words, output_dim=128))\n",
        "#   model.add(layers.Bidirectional(layers.SimpleRNN(units=128, return_sequences=True)))\n",
        "#   model.add(layers.Bidirectional(layers.SimpleRNN(units=64)))   # LSTM(16, recurrent_dropout=0.2))\n",
        "#   model.add(layers.Dropout(0.5))\n",
        "#   model.add(layers.Dense(units=128, activation='relu'))  # , kernel_regularizer=L1(0.01)\n",
        "#   model.add(layers.Dropout(0.5))\n",
        "#   model.add(layers.Dense(4, activation='softmax'))\n",
        "\n",
        "#   return model"
      ]
    },
    {
      "cell_type": "code",
      "execution_count": null,
      "metadata": {},
      "outputs": [],
      "source": []
    },
    {
      "cell_type": "code",
      "execution_count": 196,
      "metadata": {
        "id": "92tMG44n07OW"
      },
      "outputs": [],
      "source": [
        "from tensorflow.keras.callbacks import ModelCheckpoint, ReduceLROnPlateau\n",
        "checkpoint = ModelCheckpoint(filepath='weights1.h5', save_best_only = True, monitor='val_loss')\n",
        "lr_scheduler = ReduceLROnPlateau(factor=0.2, patience=2)"
      ]
    },
    {
      "cell_type": "code",
      "execution_count": 197,
      "metadata": {},
      "outputs": [],
      "source": [
        "model = build_model()"
      ]
    },
    {
      "cell_type": "code",
      "execution_count": 198,
      "metadata": {},
      "outputs": [
        {
          "name": "stdout",
          "output_type": "stream",
          "text": [
            "Model: \"sequential_14\"\n",
            "_________________________________________________________________\n",
            " Layer (type)                Output Shape              Param #   \n",
            "=================================================================\n",
            " embedding_13 (Embedding)    (None, None, 128)         3480448   \n",
            "                                                                 \n",
            " bidirectional_16 (Bidirecti  (None, None, 256)        263168    \n",
            " onal)                                                           \n",
            "                                                                 \n",
            " bidirectional_17 (Bidirecti  (None, 128)              164352    \n",
            " onal)                                                           \n",
            "                                                                 \n",
            " dropout_26 (Dropout)        (None, 128)               0         \n",
            "                                                                 \n",
            " dense_32 (Dense)            (None, 128)               16512     \n",
            "                                                                 \n",
            " dropout_27 (Dropout)        (None, 128)               0         \n",
            "                                                                 \n",
            " dense_33 (Dense)            (None, 4)                 516       \n",
            "                                                                 \n",
            "=================================================================\n",
            "Total params: 3,924,996\n",
            "Trainable params: 3,924,996\n",
            "Non-trainable params: 0\n",
            "_________________________________________________________________\n"
          ]
        }
      ],
      "source": [
        "model.summary()"
      ]
    },
    {
      "cell_type": "code",
      "execution_count": 199,
      "metadata": {},
      "outputs": [
        {
          "name": "stdout",
          "output_type": "stream",
          "text": [
            "Epoch 1/20\n",
            "204/204 [==============================] - 18s 70ms/step - loss: 1.0699 - acc: 0.5517 - auc_13: 0.7935 - val_loss: 0.9308 - val_acc: 0.6094 - val_auc_13: 0.8496 - lr: 0.0010\n",
            "Epoch 2/20\n",
            "204/204 [==============================] - 13s 65ms/step - loss: 0.6184 - acc: 0.7772 - auc_13: 0.9356 - val_loss: 0.5810 - val_acc: 0.7899 - val_auc_13: 0.9429 - lr: 0.0010\n",
            "Epoch 3/20\n",
            "204/204 [==============================] - 13s 65ms/step - loss: 0.4086 - acc: 0.8570 - auc_13: 0.9712 - val_loss: 0.5087 - val_acc: 0.8185 - val_auc_13: 0.9588 - lr: 0.0010\n",
            "Epoch 4/20\n",
            "204/204 [==============================] - 14s 68ms/step - loss: 0.3129 - acc: 0.8892 - auc_13: 0.9828 - val_loss: 0.4873 - val_acc: 0.8293 - val_auc_13: 0.9612 - lr: 0.0010\n",
            "Epoch 5/20\n",
            "204/204 [==============================] - 13s 66ms/step - loss: 0.2556 - acc: 0.9082 - auc_13: 0.9882 - val_loss: 0.4125 - val_acc: 0.8670 - val_auc_13: 0.9728 - lr: 0.0010\n",
            "Epoch 6/20\n",
            "204/204 [==============================] - 13s 64ms/step - loss: 0.2208 - acc: 0.9184 - auc_13: 0.9912 - val_loss: 0.4133 - val_acc: 0.8658 - val_auc_13: 0.9723 - lr: 0.0010\n",
            "Epoch 7/20\n",
            "204/204 [==============================] - 14s 66ms/step - loss: 0.1955 - acc: 0.9286 - auc_13: 0.9929 - val_loss: 0.3929 - val_acc: 0.8781 - val_auc_13: 0.9752 - lr: 0.0010\n",
            "Epoch 8/20\n",
            "204/204 [==============================] - 14s 68ms/step - loss: 0.1772 - acc: 0.9352 - auc_13: 0.9940 - val_loss: 0.4198 - val_acc: 0.8752 - val_auc_13: 0.9735 - lr: 0.0010\n",
            "Epoch 9/20\n",
            "204/204 [==============================] - 13s 65ms/step - loss: 0.1645 - acc: 0.9380 - auc_13: 0.9947 - val_loss: 0.4139 - val_acc: 0.8812 - val_auc_13: 0.9745 - lr: 0.0010\n",
            "Epoch 10/20\n",
            "204/204 [==============================] - 13s 64ms/step - loss: 0.1316 - acc: 0.9502 - auc_13: 0.9966 - val_loss: 0.4409 - val_acc: 0.8832 - val_auc_13: 0.9724 - lr: 2.0000e-04\n",
            "Epoch 11/20\n",
            "204/204 [==============================] - 13s 65ms/step - loss: 0.1243 - acc: 0.9513 - auc_13: 0.9969 - val_loss: 0.4687 - val_acc: 0.8838 - val_auc_13: 0.9709 - lr: 2.0000e-04\n",
            "Epoch 12/20\n",
            "204/204 [==============================] - 13s 66ms/step - loss: 0.1179 - acc: 0.9539 - auc_13: 0.9972 - val_loss: 0.4805 - val_acc: 0.8839 - val_auc_13: 0.9707 - lr: 4.0000e-05\n",
            "Epoch 13/20\n",
            "204/204 [==============================] - 13s 64ms/step - loss: 0.1169 - acc: 0.9548 - auc_13: 0.9972 - val_loss: 0.4974 - val_acc: 0.8833 - val_auc_13: 0.9696 - lr: 4.0000e-05\n",
            "Epoch 14/20\n",
            "204/204 [==============================] - 13s 65ms/step - loss: 0.1140 - acc: 0.9557 - auc_13: 0.9974 - val_loss: 0.4990 - val_acc: 0.8829 - val_auc_13: 0.9696 - lr: 8.0000e-06\n",
            "Epoch 15/20\n",
            "204/204 [==============================] - 13s 64ms/step - loss: 0.1151 - acc: 0.9554 - auc_13: 0.9973 - val_loss: 0.4998 - val_acc: 0.8822 - val_auc_13: 0.9696 - lr: 8.0000e-06\n",
            "Epoch 16/20\n",
            "204/204 [==============================] - 13s 66ms/step - loss: 0.1153 - acc: 0.9560 - auc_13: 0.9973 - val_loss: 0.5003 - val_acc: 0.8825 - val_auc_13: 0.9696 - lr: 1.6000e-06\n",
            "Epoch 17/20\n",
            "204/204 [==============================] - 13s 65ms/step - loss: 0.1141 - acc: 0.9553 - auc_13: 0.9974 - val_loss: 0.5007 - val_acc: 0.8824 - val_auc_13: 0.9696 - lr: 1.6000e-06\n",
            "Epoch 18/20\n",
            "204/204 [==============================] - 13s 64ms/step - loss: 0.1145 - acc: 0.9555 - auc_13: 0.9973 - val_loss: 0.5008 - val_acc: 0.8824 - val_auc_13: 0.9696 - lr: 3.2000e-07\n",
            "Epoch 19/20\n",
            "204/204 [==============================] - 13s 62ms/step - loss: 0.1153 - acc: 0.9545 - auc_13: 0.9973 - val_loss: 0.5009 - val_acc: 0.8824 - val_auc_13: 0.9696 - lr: 3.2000e-07\n",
            "Epoch 20/20\n",
            "204/204 [==============================] - 13s 63ms/step - loss: 0.1142 - acc: 0.9548 - auc_13: 0.9974 - val_loss: 0.5009 - val_acc: 0.8824 - val_auc_13: 0.9696 - lr: 6.4000e-08\n"
          ]
        }
      ],
      "source": [
        "model.compile(loss='categorical_crossentropy', optimizer=optimizers.RMSprop(), metrics=['acc', AUC()])\n",
        "history = model.fit(train_texts, train_targets, epochs=20, validation_split=0.2, batch_size=256, callbacks=[checkpoint,lr_scheduler])"
      ]
    },
    {
      "cell_type": "code",
      "execution_count": 173,
      "metadata": {},
      "outputs": [
        {
          "data": {
            "text/plain": [
              "array([[    0,     0,     0, ...,    24,    76,  1329],\n",
              "       [    0,     0,     0, ...,   432,   530, 14412],\n",
              "       [    0,     0,     0, ...,     0,  2119,   658],\n",
              "       ...,\n",
              "       [    0,     0,     0, ...,    13,   332,   576],\n",
              "       [    0,     0,     0, ...,  5049,  2798,   368],\n",
              "       [    0,     0,     0, ...,     2, 15716,  6415]])"
            ]
          },
          "execution_count": 173,
          "metadata": {},
          "output_type": "execute_result"
        }
      ],
      "source": [
        "train_texts"
      ]
    },
    {
      "cell_type": "code",
      "execution_count": null,
      "metadata": {},
      "outputs": [],
      "source": []
    },
    {
      "cell_type": "code",
      "execution_count": 108,
      "metadata": {
        "colab": {
          "base_uri": "https://localhost:8080/"
        },
        "id": "gWpbq8I31VIO",
        "outputId": "78dfb426-ea37-4a93-9867-c9b6133b2f9a"
      },
      "outputs": [
        {
          "name": "stdout",
          "output_type": "stream",
          "text": [
            "Epoch 1/20\n",
            "204/204 [==============================] - 19s 71ms/step - loss: 1.0705 - acc: 0.5491 - auc_6: 0.7937 - val_loss: 0.7903 - val_acc: 0.6935 - val_auc_6: 0.8938 - lr: 0.0010\n",
            "Epoch 2/20\n",
            "204/204 [==============================] - 13s 65ms/step - loss: 0.6051 - acc: 0.7812 - auc_6: 0.9380 - val_loss: 0.7337 - val_acc: 0.7662 - val_auc_6: 0.9248 - lr: 0.0010\n",
            "Epoch 3/20\n",
            "204/204 [==============================] - 13s 62ms/step - loss: 0.4044 - acc: 0.8591 - auc_6: 0.9718 - val_loss: 0.4972 - val_acc: 0.8259 - val_auc_6: 0.9598 - lr: 0.0010\n",
            "Epoch 4/20\n",
            "204/204 [==============================] - 14s 68ms/step - loss: 0.3112 - acc: 0.8911 - auc_6: 0.9829 - val_loss: 0.4475 - val_acc: 0.8381 - val_auc_6: 0.9671 - lr: 0.0010\n",
            "Epoch 5/20\n",
            "204/204 [==============================] - 14s 67ms/step - loss: 0.2547 - acc: 0.9090 - auc_6: 0.9884 - val_loss: 0.4429 - val_acc: 0.8575 - val_auc_6: 0.9702 - lr: 0.0010\n",
            "Epoch 6/20\n",
            "204/204 [==============================] - 14s 67ms/step - loss: 0.2198 - acc: 0.9208 - auc_6: 0.9912 - val_loss: 0.4485 - val_acc: 0.8589 - val_auc_6: 0.9687 - lr: 0.0010\n",
            "Epoch 7/20\n",
            "204/204 [==============================] - 13s 65ms/step - loss: 0.1946 - acc: 0.9283 - auc_6: 0.9930 - val_loss: 0.4218 - val_acc: 0.8695 - val_auc_6: 0.9730 - lr: 0.0010\n",
            "Epoch 8/20\n",
            "204/204 [==============================] - 13s 65ms/step - loss: 0.1779 - acc: 0.9341 - auc_6: 0.9941 - val_loss: 0.4166 - val_acc: 0.8740 - val_auc_6: 0.9734 - lr: 0.0010\n",
            "Epoch 9/20\n",
            "204/204 [==============================] - 13s 65ms/step - loss: 0.1640 - acc: 0.9388 - auc_6: 0.9947 - val_loss: 0.6039 - val_acc: 0.8525 - val_auc_6: 0.9584 - lr: 0.0010\n",
            "Epoch 10/20\n",
            "204/204 [==============================] - 13s 66ms/step - loss: 0.1539 - acc: 0.9426 - auc_6: 0.9953 - val_loss: 0.3956 - val_acc: 0.8829 - val_auc_6: 0.9758 - lr: 0.0010\n",
            "Epoch 11/20\n",
            "204/204 [==============================] - 13s 66ms/step - loss: 0.1410 - acc: 0.9471 - auc_6: 0.9960 - val_loss: 0.4456 - val_acc: 0.8809 - val_auc_6: 0.9715 - lr: 0.0010\n",
            "Epoch 12/20\n",
            "204/204 [==============================] - 14s 67ms/step - loss: 0.1322 - acc: 0.9496 - auc_6: 0.9965 - val_loss: 0.4468 - val_acc: 0.8799 - val_auc_6: 0.9721 - lr: 0.0010\n",
            "Epoch 13/20\n",
            "204/204 [==============================] - 14s 67ms/step - loss: 0.1104 - acc: 0.9557 - auc_6: 0.9975 - val_loss: 0.5004 - val_acc: 0.8872 - val_auc_6: 0.9704 - lr: 2.0000e-04\n",
            "Epoch 14/20\n",
            "204/204 [==============================] - 13s 66ms/step - loss: 0.1050 - acc: 0.9587 - auc_6: 0.9977 - val_loss: 0.5346 - val_acc: 0.8860 - val_auc_6: 0.9694 - lr: 2.0000e-04\n",
            "Epoch 15/20\n",
            "204/204 [==============================] - 13s 65ms/step - loss: 0.1007 - acc: 0.9597 - auc_6: 0.9979 - val_loss: 0.5514 - val_acc: 0.8868 - val_auc_6: 0.9684 - lr: 4.0000e-05\n",
            "Epoch 16/20\n",
            "204/204 [==============================] - 13s 65ms/step - loss: 0.0998 - acc: 0.9597 - auc_6: 0.9979 - val_loss: 0.5687 - val_acc: 0.8862 - val_auc_6: 0.9680 - lr: 4.0000e-05\n",
            "Epoch 17/20\n",
            "204/204 [==============================] - 13s 65ms/step - loss: 0.0989 - acc: 0.9599 - auc_6: 0.9978 - val_loss: 0.5705 - val_acc: 0.8862 - val_auc_6: 0.9677 - lr: 8.0000e-06\n",
            "Epoch 18/20\n",
            "204/204 [==============================] - 13s 66ms/step - loss: 0.0981 - acc: 0.9599 - auc_6: 0.9979 - val_loss: 0.5736 - val_acc: 0.8861 - val_auc_6: 0.9676 - lr: 8.0000e-06\n",
            "Epoch 19/20\n",
            "204/204 [==============================] - 14s 67ms/step - loss: 0.0976 - acc: 0.9605 - auc_6: 0.9980 - val_loss: 0.5741 - val_acc: 0.8862 - val_auc_6: 0.9675 - lr: 1.6000e-06\n",
            "Epoch 20/20\n",
            "204/204 [==============================] - 13s 65ms/step - loss: 0.0980 - acc: 0.9604 - auc_6: 0.9980 - val_loss: 0.5748 - val_acc: 0.8862 - val_auc_6: 0.9675 - lr: 1.6000e-06\n"
          ]
        }
      ],
      "source": [
        "model.compile(loss='categorical_crossentropy', optimizer=optimizers.RMSprop(), metrics=['acc', AUC()])\n",
        "history = model.fit(train_texts, train_targets, epochs=20, validation_split=0.2, batch_size=256, callbacks=[checkpoint,lr_scheduler])"
      ]
    },
    {
      "cell_type": "code",
      "execution_count": 109,
      "metadata": {},
      "outputs": [
        {
          "name": "stdout",
          "output_type": "stream",
          "text": [
            "Model: \"sequential_6\"\n",
            "_________________________________________________________________\n",
            " Layer (type)                Output Shape              Param #   \n",
            "=================================================================\n",
            " embedding_6 (Embedding)     (None, None, 128)         3468800   \n",
            "                                                                 \n",
            " bidirectional_12 (Bidirecti  (None, None, 256)        263168    \n",
            " onal)                                                           \n",
            "                                                                 \n",
            " bidirectional_13 (Bidirecti  (None, 128)              164352    \n",
            " onal)                                                           \n",
            "                                                                 \n",
            " dropout_12 (Dropout)        (None, 128)               0         \n",
            "                                                                 \n",
            " dense_12 (Dense)            (None, 128)               16512     \n",
            "                                                                 \n",
            " dropout_13 (Dropout)        (None, 128)               0         \n",
            "                                                                 \n",
            " dense_13 (Dense)            (None, 4)                 516       \n",
            "                                                                 \n",
            "=================================================================\n",
            "Total params: 3,913,348\n",
            "Trainable params: 3,913,348\n",
            "Non-trainable params: 0\n",
            "_________________________________________________________________\n"
          ]
        }
      ],
      "source": [
        "model.summary()\n"
      ]
    },
    {
      "cell_type": "code",
      "execution_count": 110,
      "metadata": {},
      "outputs": [
        {
          "name": "stdout",
          "output_type": "stream",
          "text": [
            "313/313 [==============================] - 4s 13ms/step - loss: 0.5890 - acc: 0.8838 - auc_6: 0.9668\n"
          ]
        },
        {
          "data": {
            "text/plain": [
              "[0.5890095829963684, 0.8838000297546387, 0.9667635560035706]"
            ]
          },
          "execution_count": 110,
          "metadata": {},
          "output_type": "execute_result"
        }
      ],
      "source": [
        "model.evaluate(test_texts, test_targets)"
      ]
    },
    {
      "cell_type": "code",
      "execution_count": 45,
      "metadata": {
        "id": "vE_SGGR72NfF"
      },
      "outputs": [],
      "source": [
        "def show_all_metrics_dependencies(history):\n",
        "  epochs = range(1, len(list(history.history.values())[0]) + 1)\n",
        "  keys = list(history.history.keys())\n",
        "  i = 0\n",
        "  while len(keys) > 0:\n",
        "    tmp = keys[0]\n",
        "    if keys[i].find(tmp) and keys[i].find(tmp) > 0:\n",
        "      metrics = keys[i]\n",
        "      plt.plot(range(1, len(history.history[tmp]) + 1), history.history[tmp], 'ro', label='Train ' + tmp)\n",
        "      plt.plot(range(1, len(history.history[metrics]) + 1), history.history[metrics], 'r', label='Validation ' + metrics)\n",
        "      plt.title(\"Training and validation \" + tmp)\n",
        "      plt.xlabel('Epochs')\n",
        "      plt.ylabel(tmp.capitalize())\n",
        "      plt.legend()\n",
        "      plt.show()\n",
        "      keys.remove(metrics)\n",
        "      keys.remove(tmp)\n",
        "      i = 0\n",
        "    i+=1"
      ]
    },
    {
      "cell_type": "code",
      "execution_count": 46,
      "metadata": {},
      "outputs": [
        {
          "name": "stdout",
          "output_type": "stream",
          "text": [
            "Model: \"sequential_3\"\n",
            "_________________________________________________________________\n",
            " Layer (type)                Output Shape              Param #   \n",
            "=================================================================\n",
            " embedding_3 (Embedding)     (None, None, 128)         1280000   \n",
            "                                                                 \n",
            " bidirectional_6 (Bidirectio  (None, None, 256)        263168    \n",
            " nal)                                                            \n",
            "                                                                 \n",
            " bidirectional_7 (Bidirectio  (None, 128)              164352    \n",
            " nal)                                                            \n",
            "                                                                 \n",
            " dropout_6 (Dropout)         (None, 128)               0         \n",
            "                                                                 \n",
            " dense_6 (Dense)             (None, 128)               16512     \n",
            "                                                                 \n",
            " dropout_7 (Dropout)         (None, 128)               0         \n",
            "                                                                 \n",
            " dense_7 (Dense)             (None, 4)                 516       \n",
            "                                                                 \n",
            "=================================================================\n",
            "Total params: 1,724,548\n",
            "Trainable params: 1,724,548\n",
            "Non-trainable params: 0\n",
            "_________________________________________________________________\n"
          ]
        }
      ],
      "source": [
        "model.summary()\n"
      ]
    },
    {
      "cell_type": "code",
      "execution_count": 200,
      "metadata": {},
      "outputs": [],
      "source": [
        "#history.history"
      ]
    },
    {
      "cell_type": "code",
      "execution_count": 48,
      "metadata": {
        "id": "czpYyq3w_5T8"
      },
      "outputs": [
        {
          "data": {
            "image/png": "[encoded data removed]",
            "text/plain": [
              "<Figure size 640x480 with 1 Axes>"
            ]
          },
          "metadata": {},
          "output_type": "display_data"
        },
        {
          "data": {
            "image/png": "[encoded data removed]",
            "text/plain": [
              "<Figure size 640x480 with 1 Axes>"
            ]
          },
          "metadata": {},
          "output_type": "display_data"
        },
        {
          "data": {
            "image/png": "[encoded data removed]",
            "text/plain": [
              "<Figure size 640x480 with 1 Axes>"
            ]
          },
          "metadata": {},
          "output_type": "display_data"
        },
        {
          "ename": "IndexError",
          "evalue": "list index out of range",
          "output_type": "error",
          "traceback": [
            "\u001b[1;31m---------------------------------------------------------------------------\u001b[0m",
            "\u001b[1;31mIndexError\u001b[0m                                Traceback (most recent call last)",
            "\u001b[1;32m~\\AppData\\Local\\Temp\\ipykernel_20036\\1497254422.py\u001b[0m in \u001b[0;36m<cell line: 1>\u001b[1;34m()\u001b[0m\n\u001b[1;32m----> 1\u001b[1;33m \u001b[0mshow_all_metrics_dependencies\u001b[0m\u001b[1;33m(\u001b[0m\u001b[0mhistory\u001b[0m\u001b[1;33m)\u001b[0m\u001b[1;33m\u001b[0m\u001b[1;33m\u001b[0m\u001b[0m\n\u001b[0m",
            "\u001b[1;32m~\\AppData\\Local\\Temp\\ipykernel_20036\\1069656706.py\u001b[0m in \u001b[0;36mshow_all_metrics_dependencies\u001b[1;34m(history)\u001b[0m\n\u001b[0;32m      5\u001b[0m   \u001b[1;32mwhile\u001b[0m \u001b[0mlen\u001b[0m\u001b[1;33m(\u001b[0m\u001b[0mkeys\u001b[0m\u001b[1;33m)\u001b[0m \u001b[1;33m>\u001b[0m \u001b[1;36m0\u001b[0m\u001b[1;33m:\u001b[0m\u001b[1;33m\u001b[0m\u001b[1;33m\u001b[0m\u001b[0m\n\u001b[0;32m      6\u001b[0m     \u001b[0mtmp\u001b[0m \u001b[1;33m=\u001b[0m \u001b[0mkeys\u001b[0m\u001b[1;33m[\u001b[0m\u001b[1;36m0\u001b[0m\u001b[1;33m]\u001b[0m\u001b[1;33m\u001b[0m\u001b[1;33m\u001b[0m\u001b[0m\n\u001b[1;32m----> 7\u001b[1;33m     \u001b[1;32mif\u001b[0m \u001b[0mkeys\u001b[0m\u001b[1;33m[\u001b[0m\u001b[0mi\u001b[0m\u001b[1;33m]\u001b[0m\u001b[1;33m.\u001b[0m\u001b[0mfind\u001b[0m\u001b[1;33m(\u001b[0m\u001b[0mtmp\u001b[0m\u001b[1;33m)\u001b[0m \u001b[1;32mand\u001b[0m \u001b[0mkeys\u001b[0m\u001b[1;33m[\u001b[0m\u001b[0mi\u001b[0m\u001b[1;33m]\u001b[0m\u001b[1;33m.\u001b[0m\u001b[0mfind\u001b[0m\u001b[1;33m(\u001b[0m\u001b[0mtmp\u001b[0m\u001b[1;33m)\u001b[0m \u001b[1;33m>\u001b[0m \u001b[1;36m0\u001b[0m\u001b[1;33m:\u001b[0m\u001b[1;33m\u001b[0m\u001b[1;33m\u001b[0m\u001b[0m\n\u001b[0m\u001b[0;32m      8\u001b[0m       \u001b[0mmetrics\u001b[0m \u001b[1;33m=\u001b[0m \u001b[0mkeys\u001b[0m\u001b[1;33m[\u001b[0m\u001b[0mi\u001b[0m\u001b[1;33m]\u001b[0m\u001b[1;33m\u001b[0m\u001b[1;33m\u001b[0m\u001b[0m\n\u001b[0;32m      9\u001b[0m       \u001b[0mplt\u001b[0m\u001b[1;33m.\u001b[0m\u001b[0mplot\u001b[0m\u001b[1;33m(\u001b[0m\u001b[0mrange\u001b[0m\u001b[1;33m(\u001b[0m\u001b[1;36m1\u001b[0m\u001b[1;33m,\u001b[0m \u001b[0mlen\u001b[0m\u001b[1;33m(\u001b[0m\u001b[0mhistory\u001b[0m\u001b[1;33m.\u001b[0m\u001b[0mhistory\u001b[0m\u001b[1;33m[\u001b[0m\u001b[0mtmp\u001b[0m\u001b[1;33m]\u001b[0m\u001b[1;33m)\u001b[0m \u001b[1;33m+\u001b[0m \u001b[1;36m1\u001b[0m\u001b[1;33m)\u001b[0m\u001b[1;33m,\u001b[0m \u001b[0mhistory\u001b[0m\u001b[1;33m.\u001b[0m\u001b[0mhistory\u001b[0m\u001b[1;33m[\u001b[0m\u001b[0mtmp\u001b[0m\u001b[1;33m]\u001b[0m\u001b[1;33m,\u001b[0m \u001b[1;34m'ro'\u001b[0m\u001b[1;33m,\u001b[0m \u001b[0mlabel\u001b[0m\u001b[1;33m=\u001b[0m\u001b[1;34m'Train '\u001b[0m \u001b[1;33m+\u001b[0m \u001b[0mtmp\u001b[0m\u001b[1;33m)\u001b[0m\u001b[1;33m\u001b[0m\u001b[1;33m\u001b[0m\u001b[0m\n",
            "\u001b[1;31mIndexError\u001b[0m: list index out of range"
          ]
        }
      ],
      "source": [
        "show_all_metrics_dependencies(history)"
      ]
    },
    {
      "cell_type": "code",
      "execution_count": null,
      "metadata": {},
      "outputs": [],
      "source": []
    },
    {
      "cell_type": "code",
      "execution_count": null,
      "metadata": {},
      "outputs": [],
      "source": []
    },
    {
      "cell_type": "code",
      "execution_count": null,
      "metadata": {},
      "outputs": [],
      "source": []
    },
    {
      "cell_type": "code",
      "execution_count": null,
      "metadata": {
        "id": "MbWu1bi3_-8y"
      },
      "outputs": [],
      "source": [
        "saved_model = models.load_model('/content/weights1.h5')\n",
        "saved_model.evaluate(test_texts, test_targets)\n",
        "# [0.5164545178413391, 0.8312000036239624, 0.9598228335380554]\n",
        "# [0.5110083222389221, 0.8357999920845032, 0.96224045753479]\n",
        "# [0.5580860376358032, 0.8274000287055969, 0.9563339352607727]\n",
        "# [0.5494359135627747, 0.8363999724388123, 0.9585456848144531]\n",
        "# [0.5061720609664917, 0.8385000228881836, 0.9618826508522034]"
      ]
    },
    {
      "cell_type": "code",
      "execution_count": null,
      "metadata": {
        "id": "4leSvHvlbEYN"
      },
      "outputs": [],
      "source": []
    },
    {
      "cell_type": "code",
      "execution_count": null,
      "metadata": {
        "id": "sZlsPia4MkqY"
      },
      "outputs": [],
      "source": []
    }
  ],
  "metadata": {
    "accelerator": "GPU",
    "colab": {
      "provenance": []
    },
    "gpuClass": "standard",
    "kernelspec": {
      "display_name": "base",
      "language": "python",
      "name": "python3"
    },
    "language_info": {
      "codemirror_mode": {
        "name": "ipython",
        "version": 3
      },
      "file_extension": ".py",
      "mimetype": "text/x-python",
      "name": "python",
      "nbconvert_exporter": "python",
      "pygments_lexer": "ipython3",
      "version": "3.9.13"
    },
    "vscode": {
      "interpreter": {
        "hash": "cceda5113f07d4047741cabbb211c044d7f16bbd82324456effbfb8d7e8a3a9e"
      }
    }
  },
  "nbformat": 4,
  "nbformat_minor": 0
}
