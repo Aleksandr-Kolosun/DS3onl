{
 "cells": [
  {
   "cell_type": "markdown",
   "metadata": {},
   "source": [
    "## Группа DS03-onl\n",
    "\n",
    "Студент Парфимович Алексей\n",
    "\n",
    "## Домашнее задание №18\n",
    "\n",
    "#### Прогноз просрочки кредита заемщиком\n",
    "Набор данных представляет собой исторические данные по 251503 заемщикам (https://www.kaggle.com/c/GiveMeSomeCredit/data ).  \n",
    "Задача является бинарной классификацией. Цель - предсказать будет ли тот или иной заемщик испытывать финансовые трудности в ближайшие 2 года, т.е. будет ли просрочка по займу. Выборка разделена на тренировочную и тестовую ( 150000 в тренировочной части, 101503 в тестовой)."
   ]
  },
  {
   "cell_type": "code",
   "execution_count": 54,
   "metadata": {},
   "outputs": [],
   "source": [
    "import numpy as np\n",
    "import pandas as pd\n",
    "import seaborn as sns\n",
    "#from tqdm import tqdm_notebook as tqdm\n",
    "\n",
    "from math import nan\n",
    "\n",
    "%matplotlib inline\n",
    "from matplotlib import pyplot as plt\n",
    "\n",
    "from sklearn import metrics\n",
    "from sklearn.model_selection import GridSearchCV\n",
    "from sklearn.preprocessing import StandardScaler\n",
    "from sklearn.model_selection import StratifiedKFold\n",
    "from sklearn.ensemble import RandomForestClassifier\n",
    "from sklearn.linear_model import LogisticRegression\n",
    "from sklearn.model_selection import validation_curve, learning_curve\n",
    "\n",
    "RANDOM_STATE = 17"
   ]
  },
  {
   "cell_type": "code",
   "execution_count": 2,
   "metadata": {},
   "outputs": [],
   "source": [
    "# Генерация файла результатов\n",
    "def make_submission(predictions, fname):\n",
    "    out = pd.DataFrame(data=predictions, columns=['Probability'])\n",
    "    out.index += 1\n",
    "    out.to_csv(fname, index_label='id')"
   ]
  },
  {
   "cell_type": "code",
   "execution_count": 124,
   "metadata": {},
   "outputs": [
    {
     "name": "stdout",
     "output_type": "stream",
     "text": [
      "<class 'pandas.core.frame.DataFrame'>\n",
      "Int64Index: 150000 entries, 1 to 150000\n",
      "Data columns (total 11 columns):\n",
      " #   Column         Non-Null Count   Dtype  \n",
      "---  ------         --------------   -----  \n",
      " 0   Age            150000 non-null  int64  \n",
      " 1   Dependents     146076 non-null  float64\n",
      " 2   MonthlyIncome  120269 non-null  float64\n",
      " 3   DebtRatio      150000 non-null  float64\n",
      " 4   CreditBalance  150000 non-null  float64\n",
      " 5   CreditLineNum  150000 non-null  int64  \n",
      " 6   EstateLoanNum  150000 non-null  int64  \n",
      " 7   Delay30-59     150000 non-null  int64  \n",
      " 8   Delay60-89     150000 non-null  int64  \n",
      " 9   Delay90        150000 non-null  int64  \n",
      " 10  Delinquency    150000 non-null  int64  \n",
      "dtypes: float64(4), int64(7)\n",
      "memory usage: 13.7 MB\n"
     ]
    }
   ],
   "source": [
    "df = pd.read_csv('cs-training.csv', index_col=0)\n",
    "\n",
    "col_dict = {\n",
    "    # Целевая метка (1/0): будет ли просрочка платежей более 90 дней в ближайшие 2 года, Да/Нет\n",
    "    'SeriousDlqin2yrs':'Delinquency',  \n",
    "    # Баланс по кредитам (%): сумма всех кредитов за исключением недвижимости и рассрочек(автокредиты), разделенная на сумму кредитных лимитов\n",
    "    'RevolvingUtilizationOfUnsecuredLines':'CreditBalance',\n",
    "    # Возраст заемщика (лет)\n",
    "    'age':'Age',\n",
    "    # Количество просрочек платежей за последние 2 года: от 30 до 59 дней\n",
    "    'NumberOfTime30-59DaysPastDueNotWorse':'Delay30-59',\n",
    "    # Коэффициент задолженности (%): отношение суммы ежемесячных платежей (долги, алименты, проживание) к месячному доходу\n",
    "    'DebtRatio':'DebtRatio',\n",
    "    # Mесячный доход ($)\n",
    "    'MonthlyIncome':'MonthlyIncome',\n",
    "    # Количество открытых кредитов (рассрочек) и кредитных линий (кредитные карты)\n",
    "    'NumberOfOpenCreditLinesAndLoans':'CreditLineNum',\n",
    "    # Количество просрочек платежей за последние 2 года: 90 дней и больше\n",
    "    'NumberOfTimes90DaysLate':'Delay90',\n",
    "    # Количество открытых кредитов на недвижимость, включая кредитные линии под залог жилья\n",
    "    'NumberRealEstateLoansOrLines':'EstateLoanNum',\n",
    "    # Количество просрочек платежей за последние 2 года: от 60 до 89 дней\n",
    "    'NumberOfTime60-89DaysPastDueNotWorse':'Delay60-89',\n",
    "    # Количество иждивенцев в семье (исключая заемщика)\n",
    "    'NumberOfDependents':'Dependents'\n",
    "} \n",
    "\n",
    "df.columns = [col_dict.get(x,x) for x in df.columns]\n",
    "\n",
    "df = df[['Age','Dependents','MonthlyIncome','DebtRatio','CreditBalance','CreditLineNum','EstateLoanNum','Delay30-59','Delay60-89','Delay90','Delinquency']]\n",
    "\n",
    "df.info()"
   ]
  },
  {
   "cell_type": "code",
   "execution_count": 125,
   "metadata": {},
   "outputs": [],
   "source": [
    "# Для признака Dependents заменить все пустые значения на -1\n",
    "df['Dependents'].fillna(-1, inplace=True)\n",
    "# Для признака MonthlyIncome заменить все пустые значения на 0\n",
    "df['MonthlyIncome'].fillna(0, inplace=True)"
   ]
  },
  {
   "cell_type": "code",
   "execution_count": 126,
   "metadata": {},
   "outputs": [
    {
     "name": "stdout",
     "output_type": "stream",
     "text": [
      "Количество записей-дубликатов: 648\n",
      "Набор данных после удаления дубликатов: (149352, 11)\n"
     ]
    }
   ],
   "source": [
    "print(f'Количество записей-дубликатов: {df[df.duplicated()].shape[0]}')\n",
    "\n",
    "# Удалить дубликаты сохраняя первую запись\n",
    "df = df.drop_duplicates(keep='first')\n",
    "print(f'Набор данных после удаления дубликатов: {df.shape}')"
   ]
  },
  {
   "cell_type": "code",
   "execution_count": 129,
   "metadata": {},
   "outputs": [
    {
     "data": {
      "text/html": [
       "<div>\n",
       "<style scoped>\n",
       "    .dataframe tbody tr th:only-of-type {\n",
       "        vertical-align: middle;\n",
       "    }\n",
       "\n",
       "    .dataframe tbody tr th {\n",
       "        vertical-align: top;\n",
       "    }\n",
       "\n",
       "    .dataframe thead th {\n",
       "        text-align: right;\n",
       "    }\n",
       "</style>\n",
       "<table border=\"1\" class=\"dataframe\">\n",
       "  <thead>\n",
       "    <tr style=\"text-align: right;\">\n",
       "      <th></th>\n",
       "      <th>count</th>\n",
       "      <th>unique</th>\n",
       "      <th>top</th>\n",
       "      <th>freq</th>\n",
       "      <th>mean</th>\n",
       "      <th>std</th>\n",
       "      <th>min</th>\n",
       "      <th>25%</th>\n",
       "      <th>50%</th>\n",
       "      <th>75%</th>\n",
       "      <th>max</th>\n",
       "    </tr>\n",
       "  </thead>\n",
       "  <tbody>\n",
       "    <tr>\n",
       "      <th>Age</th>\n",
       "      <td>149352.0</td>\n",
       "      <td>NaN</td>\n",
       "      <td>NaN</td>\n",
       "      <td>NaN</td>\n",
       "      <td>52.310153</td>\n",
       "      <td>14.722797</td>\n",
       "      <td>0.0</td>\n",
       "      <td>41.0</td>\n",
       "      <td>52.0</td>\n",
       "      <td>63.0</td>\n",
       "      <td>109.0</td>\n",
       "    </tr>\n",
       "    <tr>\n",
       "      <th>Dependents</th>\n",
       "      <td>149352.0</td>\n",
       "      <td>NaN</td>\n",
       "      <td>NaN</td>\n",
       "      <td>NaN</td>\n",
       "      <td>0.714935</td>\n",
       "      <td>1.136387</td>\n",
       "      <td>-1.0</td>\n",
       "      <td>0.0</td>\n",
       "      <td>0.0</td>\n",
       "      <td>1.0</td>\n",
       "      <td>20.0</td>\n",
       "    </tr>\n",
       "    <tr>\n",
       "      <th>MonthlyIncome</th>\n",
       "      <td>149352.0</td>\n",
       "      <td>NaN</td>\n",
       "      <td>NaN</td>\n",
       "      <td>NaN</td>\n",
       "      <td>5370.84578</td>\n",
       "      <td>13176.007265</td>\n",
       "      <td>0.0</td>\n",
       "      <td>1600.0</td>\n",
       "      <td>4400.0</td>\n",
       "      <td>7400.0</td>\n",
       "      <td>3008750.0</td>\n",
       "    </tr>\n",
       "    <tr>\n",
       "      <th>IncomeCategory</th>\n",
       "      <td>149352</td>\n",
       "      <td>1</td>\n",
       "      <td>unknown</td>\n",
       "      <td>149352</td>\n",
       "      <td>NaN</td>\n",
       "      <td>NaN</td>\n",
       "      <td>NaN</td>\n",
       "      <td>NaN</td>\n",
       "      <td>NaN</td>\n",
       "      <td>NaN</td>\n",
       "      <td>NaN</td>\n",
       "    </tr>\n",
       "    <tr>\n",
       "      <th>DebtRatio</th>\n",
       "      <td>149352.0</td>\n",
       "      <td>NaN</td>\n",
       "      <td>NaN</td>\n",
       "      <td>NaN</td>\n",
       "      <td>354.529267</td>\n",
       "      <td>2042.102001</td>\n",
       "      <td>0.0</td>\n",
       "      <td>0.177571</td>\n",
       "      <td>0.368293</td>\n",
       "      <td>0.875665</td>\n",
       "      <td>329664.0</td>\n",
       "    </tr>\n",
       "    <tr>\n",
       "      <th>CreditBalance</th>\n",
       "      <td>149352.0</td>\n",
       "      <td>NaN</td>\n",
       "      <td>NaN</td>\n",
       "      <td>NaN</td>\n",
       "      <td>6.072551</td>\n",
       "      <td>250.296329</td>\n",
       "      <td>0.0</td>\n",
       "      <td>0.03015</td>\n",
       "      <td>0.154239</td>\n",
       "      <td>0.556414</td>\n",
       "      <td>50708.0</td>\n",
       "    </tr>\n",
       "    <tr>\n",
       "      <th>CreditLineNum</th>\n",
       "      <td>149352.0</td>\n",
       "      <td>NaN</td>\n",
       "      <td>NaN</td>\n",
       "      <td>NaN</td>\n",
       "      <td>8.482786</td>\n",
       "      <td>5.135809</td>\n",
       "      <td>0.0</td>\n",
       "      <td>5.0</td>\n",
       "      <td>8.0</td>\n",
       "      <td>11.0</td>\n",
       "      <td>58.0</td>\n",
       "    </tr>\n",
       "    <tr>\n",
       "      <th>EstateLoanNum</th>\n",
       "      <td>149352.0</td>\n",
       "      <td>NaN</td>\n",
       "      <td>NaN</td>\n",
       "      <td>NaN</td>\n",
       "      <td>1.022658</td>\n",
       "      <td>1.130222</td>\n",
       "      <td>0.0</td>\n",
       "      <td>0.0</td>\n",
       "      <td>1.0</td>\n",
       "      <td>2.0</td>\n",
       "      <td>54.0</td>\n",
       "    </tr>\n",
       "    <tr>\n",
       "      <th>Delay30-59</th>\n",
       "      <td>149352.0</td>\n",
       "      <td>NaN</td>\n",
       "      <td>NaN</td>\n",
       "      <td>NaN</td>\n",
       "      <td>0.392676</td>\n",
       "      <td>3.836862</td>\n",
       "      <td>0.0</td>\n",
       "      <td>0.0</td>\n",
       "      <td>0.0</td>\n",
       "      <td>0.0</td>\n",
       "      <td>98.0</td>\n",
       "    </tr>\n",
       "    <tr>\n",
       "      <th>Delay60-89</th>\n",
       "      <td>149352.0</td>\n",
       "      <td>NaN</td>\n",
       "      <td>NaN</td>\n",
       "      <td>NaN</td>\n",
       "      <td>0.211246</td>\n",
       "      <td>3.794182</td>\n",
       "      <td>0.0</td>\n",
       "      <td>0.0</td>\n",
       "      <td>0.0</td>\n",
       "      <td>0.0</td>\n",
       "      <td>98.0</td>\n",
       "    </tr>\n",
       "    <tr>\n",
       "      <th>Delay90</th>\n",
       "      <td>149352.0</td>\n",
       "      <td>NaN</td>\n",
       "      <td>NaN</td>\n",
       "      <td>NaN</td>\n",
       "      <td>0.23687</td>\n",
       "      <td>3.809903</td>\n",
       "      <td>0.0</td>\n",
       "      <td>0.0</td>\n",
       "      <td>0.0</td>\n",
       "      <td>0.0</td>\n",
       "      <td>98.0</td>\n",
       "    </tr>\n",
       "    <tr>\n",
       "      <th>Delinquency</th>\n",
       "      <td>149352.0</td>\n",
       "      <td>NaN</td>\n",
       "      <td>NaN</td>\n",
       "      <td>NaN</td>\n",
       "      <td>0.067009</td>\n",
       "      <td>0.250039</td>\n",
       "      <td>0.0</td>\n",
       "      <td>0.0</td>\n",
       "      <td>0.0</td>\n",
       "      <td>0.0</td>\n",
       "      <td>1.0</td>\n",
       "    </tr>\n",
       "  </tbody>\n",
       "</table>\n",
       "</div>"
      ],
      "text/plain": [
       "                   count unique      top    freq        mean           std  \\\n",
       "Age             149352.0    NaN      NaN     NaN   52.310153     14.722797   \n",
       "Dependents      149352.0    NaN      NaN     NaN    0.714935      1.136387   \n",
       "MonthlyIncome   149352.0    NaN      NaN     NaN  5370.84578  13176.007265   \n",
       "IncomeCategory    149352      1  unknown  149352         NaN           NaN   \n",
       "DebtRatio       149352.0    NaN      NaN     NaN  354.529267   2042.102001   \n",
       "CreditBalance   149352.0    NaN      NaN     NaN    6.072551    250.296329   \n",
       "CreditLineNum   149352.0    NaN      NaN     NaN    8.482786      5.135809   \n",
       "EstateLoanNum   149352.0    NaN      NaN     NaN    1.022658      1.130222   \n",
       "Delay30-59      149352.0    NaN      NaN     NaN    0.392676      3.836862   \n",
       "Delay60-89      149352.0    NaN      NaN     NaN    0.211246      3.794182   \n",
       "Delay90         149352.0    NaN      NaN     NaN     0.23687      3.809903   \n",
       "Delinquency     149352.0    NaN      NaN     NaN    0.067009      0.250039   \n",
       "\n",
       "                min       25%       50%       75%        max  \n",
       "Age             0.0      41.0      52.0      63.0      109.0  \n",
       "Dependents     -1.0       0.0       0.0       1.0       20.0  \n",
       "MonthlyIncome   0.0    1600.0    4400.0    7400.0  3008750.0  \n",
       "IncomeCategory  NaN       NaN       NaN       NaN        NaN  \n",
       "DebtRatio       0.0  0.177571  0.368293  0.875665   329664.0  \n",
       "CreditBalance   0.0   0.03015  0.154239  0.556414    50708.0  \n",
       "CreditLineNum   0.0       5.0       8.0      11.0       58.0  \n",
       "EstateLoanNum   0.0       0.0       1.0       2.0       54.0  \n",
       "Delay30-59      0.0       0.0       0.0       0.0       98.0  \n",
       "Delay60-89      0.0       0.0       0.0       0.0       98.0  \n",
       "Delay90         0.0       0.0       0.0       0.0       98.0  \n",
       "Delinquency     0.0       0.0       0.0       0.0        1.0  "
      ]
     },
     "execution_count": 129,
     "metadata": {},
     "output_type": "execute_result"
    }
   ],
   "source": [
    "df.describe(include = \"all\").T"
   ]
  },
  {
   "cell_type": "markdown",
   "metadata": {},
   "source": [
    "Проверьте наличие категориальных признаков, а также соответствие содержимого данных их типам"
   ]
  },
  {
   "cell_type": "code",
   "execution_count": 135,
   "metadata": {},
   "outputs": [
    {
     "data": {
      "text/plain": [
       "Age                   86\n",
       "Dependents            14\n",
       "MonthlyIncome      13594\n",
       "IncomeCategory         9\n",
       "DebtRatio         114194\n",
       "CreditBalance     125728\n",
       "CreditLineNum         58\n",
       "EstateLoanNum         28\n",
       "Delay30-59            16\n",
       "Delay60-89            13\n",
       "Delay90               19\n",
       "Delinquency            2\n",
       "dtype: int64"
      ]
     },
     "execution_count": 135,
     "metadata": {},
     "output_type": "execute_result"
    }
   ],
   "source": [
    "# Ваш код здесь\n",
    "df.nunique(axis=0)"
   ]
  },
  {
   "cell_type": "code",
   "execution_count": 128,
   "metadata": {},
   "outputs": [],
   "source": [
    "df.insert(3,'IncomeCategory', 'unknown')"
   ]
  },
  {
   "cell_type": "code",
   "execution_count": 134,
   "metadata": {},
   "outputs": [
    {
     "data": {
      "text/html": [
       "<div>\n",
       "<style scoped>\n",
       "    .dataframe tbody tr th:only-of-type {\n",
       "        vertical-align: middle;\n",
       "    }\n",
       "\n",
       "    .dataframe tbody tr th {\n",
       "        vertical-align: top;\n",
       "    }\n",
       "\n",
       "    .dataframe thead th {\n",
       "        text-align: right;\n",
       "    }\n",
       "</style>\n",
       "<table border=\"1\" class=\"dataframe\">\n",
       "  <thead>\n",
       "    <tr style=\"text-align: right;\">\n",
       "      <th></th>\n",
       "      <th>Age</th>\n",
       "      <th>Dependents</th>\n",
       "      <th>MonthlyIncome</th>\n",
       "      <th>IncomeCategory</th>\n",
       "      <th>DebtRatio</th>\n",
       "      <th>CreditBalance</th>\n",
       "      <th>CreditLineNum</th>\n",
       "      <th>EstateLoanNum</th>\n",
       "      <th>Delay30-59</th>\n",
       "      <th>Delay60-89</th>\n",
       "      <th>Delay90</th>\n",
       "      <th>Delinquency</th>\n",
       "    </tr>\n",
       "  </thead>\n",
       "  <tbody>\n",
       "    <tr>\n",
       "      <th>1</th>\n",
       "      <td>45</td>\n",
       "      <td>2.0</td>\n",
       "      <td>9120.0</td>\n",
       "      <td>upto10000</td>\n",
       "      <td>0.802982</td>\n",
       "      <td>0.766127</td>\n",
       "      <td>13</td>\n",
       "      <td>6</td>\n",
       "      <td>2</td>\n",
       "      <td>0</td>\n",
       "      <td>0</td>\n",
       "      <td>1</td>\n",
       "    </tr>\n",
       "    <tr>\n",
       "      <th>2</th>\n",
       "      <td>40</td>\n",
       "      <td>1.0</td>\n",
       "      <td>2600.0</td>\n",
       "      <td>upto3000</td>\n",
       "      <td>0.121876</td>\n",
       "      <td>0.957151</td>\n",
       "      <td>4</td>\n",
       "      <td>0</td>\n",
       "      <td>0</td>\n",
       "      <td>0</td>\n",
       "      <td>0</td>\n",
       "      <td>0</td>\n",
       "    </tr>\n",
       "    <tr>\n",
       "      <th>3</th>\n",
       "      <td>38</td>\n",
       "      <td>0.0</td>\n",
       "      <td>3042.0</td>\n",
       "      <td>upto5000</td>\n",
       "      <td>0.085113</td>\n",
       "      <td>0.658180</td>\n",
       "      <td>2</td>\n",
       "      <td>0</td>\n",
       "      <td>1</td>\n",
       "      <td>0</td>\n",
       "      <td>1</td>\n",
       "      <td>0</td>\n",
       "    </tr>\n",
       "    <tr>\n",
       "      <th>4</th>\n",
       "      <td>30</td>\n",
       "      <td>0.0</td>\n",
       "      <td>3300.0</td>\n",
       "      <td>upto5000</td>\n",
       "      <td>0.036050</td>\n",
       "      <td>0.233810</td>\n",
       "      <td>5</td>\n",
       "      <td>0</td>\n",
       "      <td>0</td>\n",
       "      <td>0</td>\n",
       "      <td>0</td>\n",
       "      <td>0</td>\n",
       "    </tr>\n",
       "    <tr>\n",
       "      <th>5</th>\n",
       "      <td>49</td>\n",
       "      <td>0.0</td>\n",
       "      <td>63588.0</td>\n",
       "      <td>upto100000</td>\n",
       "      <td>0.024926</td>\n",
       "      <td>0.907239</td>\n",
       "      <td>7</td>\n",
       "      <td>1</td>\n",
       "      <td>1</td>\n",
       "      <td>0</td>\n",
       "      <td>0</td>\n",
       "      <td>0</td>\n",
       "    </tr>\n",
       "  </tbody>\n",
       "</table>\n",
       "</div>"
      ],
      "text/plain": [
       "   Age  Dependents  MonthlyIncome IncomeCategory  DebtRatio  CreditBalance  \\\n",
       "1   45         2.0         9120.0      upto10000   0.802982       0.766127   \n",
       "2   40         1.0         2600.0       upto3000   0.121876       0.957151   \n",
       "3   38         0.0         3042.0       upto5000   0.085113       0.658180   \n",
       "4   30         0.0         3300.0       upto5000   0.036050       0.233810   \n",
       "5   49         0.0        63588.0     upto100000   0.024926       0.907239   \n",
       "\n",
       "   CreditLineNum  EstateLoanNum  Delay30-59  Delay60-89  Delay90  Delinquency  \n",
       "1             13              6           2           0        0            1  \n",
       "2              4              0           0           0        0            0  \n",
       "3              2              0           1           0        1            0  \n",
       "4              5              0           0           0        0            0  \n",
       "5              7              1           1           0        0            0  "
      ]
     },
     "execution_count": 134,
     "metadata": {},
     "output_type": "execute_result"
    }
   ],
   "source": [
    "df.head()"
   ]
  },
  {
   "cell_type": "code",
   "execution_count": 133,
   "metadata": {},
   "outputs": [],
   "source": [
    "# Добавить признак категории месячного дохода\n",
    "#df.insert(3,'IncomeCategory', 'unknown')\n",
    "df.loc[(df.MonthlyIncome>0) & (df.MonthlyIncome<=3000), 'IncomeCategory'] = 'upto3000' \n",
    "df.loc[(df.MonthlyIncome>3000) & (df.MonthlyIncome<=5000), 'IncomeCategory'] = 'upto5000' \n",
    "df.loc[(df.MonthlyIncome>5000) & (df.MonthlyIncome<=7500), 'IncomeCategory'] = 'upto7500' \n",
    "df.loc[(df.MonthlyIncome>7500) & (df.MonthlyIncome<=10000), 'IncomeCategory'] = 'upto10000' \n",
    "df.loc[(df.MonthlyIncome>10000) & (df.MonthlyIncome<=20000), 'IncomeCategory'] = 'upto20000' \n",
    "df.loc[(df.MonthlyIncome>20000) & (df.MonthlyIncome<=50000), 'IncomeCategory'] = 'upto50000' \n",
    "df.loc[(df.MonthlyIncome>50000) & (df.MonthlyIncome<=100000), 'IncomeCategory'] = 'upto100000'\n",
    "df.loc[(df.MonthlyIncome>100000), 'IncomeCategory'] = 'over100000' "
   ]
  },
  {
   "cell_type": "code",
   "execution_count": 111,
   "metadata": {},
   "outputs": [
    {
     "data": {
      "text/plain": [
       "49     3834\n",
       "48     3798\n",
       "50     3747\n",
       "47     3719\n",
       "46     3708\n",
       "       ... \n",
       "102       3\n",
       "109       2\n",
       "107       1\n",
       "105       1\n",
       "0         1\n",
       "Name: Age, Length: 86, dtype: int64"
      ]
     },
     "execution_count": 111,
     "metadata": {},
     "output_type": "execute_result"
    }
   ],
   "source": [
    "df['Age'].value_counts()"
   ]
  },
  {
   "cell_type": "code",
   "execution_count": 50,
   "metadata": {},
   "outputs": [
    {
     "data": {
      "text/plain": [
       "<AxesSubplot: >"
      ]
     },
     "execution_count": 50,
     "metadata": {},
     "output_type": "execute_result"
    },
    {
     "data": {
      "image/png": "[encoded data removed]",
      "text/plain": [
       "<Figure size 640x480 with 1 Axes>"
      ]
     },
     "metadata": {},
     "output_type": "display_data"
    }
   ],
   "source": [
    "df.boxplot(vert=0 )"
   ]
  },
  {
   "cell_type": "code",
   "execution_count": 92,
   "metadata": {},
   "outputs": [],
   "source": [
    "df['MonthlyIncome'] = round(df['MonthlyIncome']/1000)*1000\n",
    "\n",
    "#df_raw[['Fuel_Price']] = df_raw[['Fuel_Price']].round(2).astype('float32')"
   ]
  },
  {
   "cell_type": "code",
   "execution_count": null,
   "metadata": {},
   "outputs": [],
   "source": []
  },
  {
   "cell_type": "markdown",
   "metadata": {},
   "source": [
    "Проверьте наличие NaN, при необходимости осуществите замену"
   ]
  },
  {
   "cell_type": "code",
   "execution_count": 57,
   "metadata": {},
   "outputs": [],
   "source": [
    "# Ваш код здесь "
   ]
  },
  {
   "cell_type": "markdown",
   "metadata": {},
   "source": [
    "О чем свидетельствуют пропуски в данных, чем их лучше заменить? Осуществите необходимую замену..."
   ]
  },
  {
   "cell_type": "code",
   "execution_count": 9,
   "metadata": {},
   "outputs": [],
   "source": [
    "# Ваш код здесь"
   ]
  },
  {
   "cell_type": "markdown",
   "metadata": {},
   "source": [
    "Оцените количество вернувших и не вернувших кредит. Какую метрику лучше всего использовать?"
   ]
  },
  {
   "cell_type": "code",
   "execution_count": 51,
   "metadata": {},
   "outputs": [
    {
     "data": {
      "text/plain": [
       "0    139382\n",
       "1     10009\n",
       "Name: Delinquency, dtype: int64"
      ]
     },
     "execution_count": 51,
     "metadata": {},
     "output_type": "execute_result"
    }
   ],
   "source": [
    "# Ваш код здесь\n",
    "df['Delinquency'].value_counts()"
   ]
  },
  {
   "cell_type": "markdown",
   "metadata": {},
   "source": [
    "Проверьте качество замены переменных"
   ]
  },
  {
   "cell_type": "code",
   "execution_count": 11,
   "metadata": {},
   "outputs": [],
   "source": [
    "# Ваш код здесь"
   ]
  },
  {
   "cell_type": "markdown",
   "metadata": {},
   "source": [
    "__Визуализация данных__"
   ]
  },
  {
   "cell_type": "markdown",
   "metadata": {},
   "source": [
    "Используя  seaborn.pairplot (sns) визуализируйте данные"
   ]
  },
  {
   "cell_type": "code",
   "execution_count": 12,
   "metadata": {},
   "outputs": [],
   "source": [
    "# Ваш код здесь"
   ]
  },
  {
   "cell_type": "markdown",
   "metadata": {},
   "source": [
    "Используя sns.heatmap постройте корреляционную матрицу"
   ]
  },
  {
   "cell_type": "code",
   "execution_count": 13,
   "metadata": {},
   "outputs": [],
   "source": [
    "# Ваш код здесь"
   ]
  },
  {
   "cell_type": "markdown",
   "metadata": {},
   "source": [
    "Какие существуют зависимости в данных?\n",
    "Опишите зависимости каждого из признаков!"
   ]
  },
  {
   "cell_type": "code",
   "execution_count": 14,
   "metadata": {},
   "outputs": [],
   "source": [
    "# Описание здесь"
   ]
  },
  {
   "cell_type": "markdown",
   "metadata": {},
   "source": [
    "__Предобработка данных__"
   ]
  },
  {
   "cell_type": "markdown",
   "metadata": {},
   "source": [
    "Оцените распределение признаков. Удалите коррелированные! Выберите способ нормализации. Подготовьте данные для обучения выбранных моделей..."
   ]
  },
  {
   "cell_type": "code",
   "execution_count": 15,
   "metadata": {},
   "outputs": [],
   "source": [
    "# Ваш код здесь"
   ]
  },
  {
   "cell_type": "markdown",
   "metadata": {},
   "source": [
    "__Выбор метрики__"
   ]
  },
  {
   "cell_type": "markdown",
   "metadata": {},
   "source": [
    "В качестве метрики используется ROC-AUC score, согласно соренованию. Данная метрика подходит для данной задачи, так как мы хотим определять тех заемщиков, которые сильно задержат выплату кредита, но при этом выдавать кредиты хорошим клиентам. Также эта метрика хорошо работает со случаем несбалансированных классов (как в нашем случае).\n",
    "Выберите способ перекрестной проверки! Какой из них подходит наилучшим образом..."
   ]
  },
  {
   "cell_type": "code",
   "execution_count": 16,
   "metadata": {},
   "outputs": [],
   "source": [
    "# Ваш код здесь"
   ]
  },
  {
   "cell_type": "markdown",
   "metadata": {},
   "source": [
    "Обучите 2 классификатора логистическую регрессию и случайный лес.\n",
    "Для визуализации процесса обучения используйте прогрессбар tqdm"
   ]
  },
  {
   "cell_type": "code",
   "execution_count": 17,
   "metadata": {},
   "outputs": [],
   "source": [
    "# Ваш код здесь"
   ]
  },
  {
   "cell_type": "markdown",
   "metadata": {},
   "source": [
    "Оцените среднюю правильность выбранной модели"
   ]
  },
  {
   "cell_type": "code",
   "execution_count": 18,
   "metadata": {},
   "outputs": [],
   "source": [
    "# Ваш код здесь"
   ]
  },
  {
   "cell_type": "markdown",
   "metadata": {},
   "source": [
    "__Кросс-валидация и подбор параметров__\n",
    "\n",
    "Произведите подбор параметров. Для логистической регрессии подберем коэффициент регуляризции, для случайного леса -максимальную глубину и максимальное кол-во признаков. Для отслеживания процесса обучения используйте прогрессбар, а также %%time"
   ]
  },
  {
   "cell_type": "code",
   "execution_count": 19,
   "metadata": {},
   "outputs": [],
   "source": [
    "# Ваш код здесь"
   ]
  },
  {
   "cell_type": "markdown",
   "metadata": {},
   "source": [
    "Отобразите результаты обучения модели"
   ]
  },
  {
   "cell_type": "code",
   "execution_count": 20,
   "metadata": {},
   "outputs": [],
   "source": [
    "# Ваш код здесь"
   ]
  },
  {
   "cell_type": "markdown",
   "metadata": {},
   "source": [
    "Какая из моделей показала наилучшие результаты? Отобразите подобранные параметры."
   ]
  },
  {
   "cell_type": "code",
   "execution_count": 21,
   "metadata": {},
   "outputs": [],
   "source": [
    "# Ваш код здесь"
   ]
  },
  {
   "cell_type": "markdown",
   "metadata": {},
   "source": [
    "Данная модель дает результат 0.860890 на public leaderboard и 0.864706 на private."
   ]
  },
  {
   "cell_type": "markdown",
   "metadata": {},
   "source": [
    "__Создание новых признаков__"
   ]
  },
  {
   "cell_type": "markdown",
   "metadata": {},
   "source": [
    "1. Выберите признаки подлежащие бинаризации.\n",
    "2. Осуществите бинаризацию.\n",
    "3. Как влияет количество интервалов бинаризации на качество модели? \n",
    "\n",
    "Для создания новых признаков рекомендую ответить на следующие вопросы:\n",
    "Как влияют количество иждевенцев у заемщика на просрочку выплат?\n",
    "Какой тип кредитов чаще всего берет заемщик?"
   ]
  },
  {
   "cell_type": "code",
   "execution_count": 23,
   "metadata": {},
   "outputs": [],
   "source": [
    " # Ваш код здесь"
   ]
  },
  {
   "cell_type": "markdown",
   "metadata": {},
   "source": [
    "Как улучшилось качество модели?"
   ]
  },
  {
   "cell_type": "code",
   "execution_count": null,
   "metadata": {},
   "outputs": [],
   "source": [
    "# Описание здесь"
   ]
  },
  {
   "cell_type": "markdown",
   "metadata": {},
   "source": [
    "__Кривые валидации и обучения__"
   ]
  },
  {
   "cell_type": "code",
   "execution_count": null,
   "metadata": {},
   "outputs": [],
   "source": [
    "# Постройте кривые валидации и обучения"
   ]
  },
  {
   "cell_type": "markdown",
   "metadata": {},
   "source": [
    "Какие наилучшие параметры модели по результатам построения?\n",
    "Как можно улучшить модель?"
   ]
  },
  {
   "cell_type": "code",
   "execution_count": 24,
   "metadata": {},
   "outputs": [],
   "source": [
    "# Описание здесь"
   ]
  },
  {
   "cell_type": "markdown",
   "metadata": {},
   "source": [
    "__Оценка модели с описанием выбранной метрики__"
   ]
  },
  {
   "cell_type": "markdown",
   "metadata": {},
   "source": [
    "__Общие выводы__\n",
    "\n",
    "По результатам проведенного анализа, можно увидеть, что есть определенные зависимости и признаки просрочки кредита. \n",
    "Наблюдаются следующие закономерности - ...\n",
    "\n",
    "Имеет влияние .... - с ростом ..., заемщик становиться менее привлекательным в связи с высокой вероятностью новой просрочки.\n",
    "\n",
    "Также влияет и количество ... заемщика - клиент ... не выплачивает кредит вовремя. \n",
    "\n",
    "В дальнейшем, можно добавить новые признаки (.... и т.д.)\n",
    "Также можно заменить случайный лес на ..."
   ]
  },
  {
   "cell_type": "code",
   "execution_count": null,
   "metadata": {},
   "outputs": [],
   "source": []
  },
  {
   "cell_type": "code",
   "execution_count": null,
   "metadata": {},
   "outputs": [],
   "source": []
  }
 ],
 "metadata": {
  "kernelspec": {
   "display_name": "Python 3.9.13 64-bit",
   "language": "python",
   "name": "python3"
  },
  "language_info": {
   "codemirror_mode": {
    "name": "ipython",
    "version": 3
   },
   "file_extension": ".py",
   "mimetype": "text/x-python",
   "name": "python",
   "nbconvert_exporter": "python",
   "pygments_lexer": "ipython3",
   "version": "3.9.13"
  },
  "vscode": {
   "interpreter": {
    "hash": "11938c6bc6919ae2720b4d5011047913343b08a43b18698fd82dedb0d4417594"
   }
  }
 },
 "nbformat": 4,
 "nbformat_minor": 2
}
