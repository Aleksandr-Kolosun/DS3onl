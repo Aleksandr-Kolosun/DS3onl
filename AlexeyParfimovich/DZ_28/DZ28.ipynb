{
 "cells": [
  {
   "attachments": {},
   "cell_type": "markdown",
   "metadata": {},
   "source": [
    "## Группа DS03-onl\n",
    "\n",
    "Студент Парфимович Алексей\n",
    "\n",
    "## Домашнее задание №28\n",
    "\n",
    "#### Оценить возраст человека по изображению. \n",
    "В качестве фьючеэкстрактора выбрать любую современную нейронную сеть. Задачу можно решать как задачу регрессии или классификации.\n",
    "Если есть время - попробовать оба способа. Попробовать разблокировать часть слоев после обучения и дообучить модель.\n",
    "\n",
    "В качестве датасета взять датасет лиц по ссылке \n",
    "https://data.vision.ee.ethz.ch/cvl/rrothe/imdb-wiki/static/wiki_crop.tar\n",
    "(описание - https://data.vision.ee.ethz.ch/cvl/rrothe/imdb-wiki/ )\n",
    "\n",
    "Примечания:\n",
    "- Для решения задачи регресси использовать flow_from_dataframe\n",
    "- Сначала создать датафрейм содержащий относительный путь к изображению и целевую метку, который потом использовать при обучении"
   ]
  },
  {
   "cell_type": "code",
   "execution_count": 12,
   "metadata": {},
   "outputs": [
    {
     "name": "stdout",
     "output_type": "stream",
     "text": [
      "Cuda version: 2.10.1\n",
      "Num GPUs Available:  1\n"
     ]
    }
   ],
   "source": [
    "import os\n",
    "import sys\n",
    "import wget\n",
    "import random\n",
    "import tarfile\n",
    "\n",
    "import re\n",
    "import dlib\n",
    "import numpy as np\n",
    "import pandas as pd\n",
    "\n",
    "from PIL import Image\n",
    "\n",
    "%matplotlib inline\n",
    "from matplotlib import pyplot as plt\n",
    "\n",
    "import warnings\n",
    "warnings.filterwarnings('ignore')\n",
    "\n",
    "import tensorflow as tf\n",
    "from tensorflow import keras\n",
    "from keras.utils import to_categorical\n",
    "\n",
    "from sklearn.utils import class_weight\n",
    "from sklearn.metrics import accuracy_score\n",
    "from sklearn.metrics import confusion_matrix, multilabel_confusion_matrix, classification_report\n",
    "\n",
    "DATA_URL = 'https://data.vision.ee.ethz.ch/cvl/rrothe/imdb-wiki/static/wiki_crop.tar'\n",
    "DATA_FILE = 'wiki_crop.tar'\n",
    "DATA_FOLDER = 'wiki_crop'\n",
    "RANDOM_STATE = 42\n",
    "\n",
    "print('Cuda version: ' + tf.__version__)\n",
    "print(\"Num GPUs Available: \", len(tf.config.list_physical_devices('GPU')))"
   ]
  },
  {
   "attachments": {},
   "cell_type": "markdown",
   "metadata": {},
   "source": [
    "Загрузим файл с данными по ссылке (если файл не найден на диске)"
   ]
  },
  {
   "cell_type": "code",
   "execution_count": 13,
   "metadata": {},
   "outputs": [
    {
     "name": "stdout",
     "output_type": "stream",
     "text": [
      "Downloading: 100% [811315200 / 811315200] bytes"
     ]
    }
   ],
   "source": [
    "def bar_custom(current, total, width=80):\n",
    "    progress_msg = \"Downloading: %d%% [%d / %d] bytes\" % (current / total * 100, current, total)\n",
    "    sys.stdout.write('\\r' + progress_msg)\n",
    "    sys.stdout.flush()\n",
    "\n",
    "if not os.path.exists(DATA_FILE):\n",
    "    wget.download(DATA_URL, DATA_FILE, bar=bar_custom)"
   ]
  },
  {
   "attachments": {},
   "cell_type": "markdown",
   "metadata": {},
   "source": [
    "Распакуем архив с набором данных в текущий каталог,\n",
    "если каталог с данными еще не существует."
   ]
  },
  {
   "cell_type": "code",
   "execution_count": 3,
   "metadata": {},
   "outputs": [],
   "source": [
    "if not os.path.exists(DATA_FOLDER):\n",
    "    tar = tarfile.open(DATA_FILE, 'r')\n",
    "    tar.extractall()\n",
    "    tar.close()"
   ]
  },
  {
   "attachments": {},
   "cell_type": "markdown",
   "metadata": {},
   "source": [
    "Выполним загрузку, проверку и классификацию набора изображений из файлов"
   ]
  },
  {
   "cell_type": "code",
   "execution_count": 4,
   "metadata": {},
   "outputs": [
    {
     "name": "stdout",
     "output_type": "stream",
     "text": [
      "Изображений с ошибками при загрузке 12996\n",
      "Изображений с некорректными размерами 0\n",
      "Изображений на которых не найдены лица 19065\n",
      "Всего корректных изображений 30267\n"
     ]
    }
   ],
   "source": [
    "face_detector = dlib.get_frontal_face_detector()\n",
    "\n",
    "# Набор всех корректных изображений для оценки возраста\n",
    "images = pd.DataFrame(columns=['file_path','label'])\n",
    "\n",
    "img_valid=0 #счетчик всех корректных изображений\n",
    "img_misloaded=0 #счетчик изображений с ошибками при загрузке\n",
    "img_missized=0 #счетчик изображений некорректного размера (1х1)\n",
    "img_wo_faces=0 #счетчик изображений без лиц\n",
    "img_misclassified=0 #счетчик изображений с некорретной оценкой класса\n",
    "\n",
    "# Перебор всех вложенных элементов в указаном каталоге\n",
    "for dir in os.listdir(DATA_FOLDER):\n",
    "    # если вложенный элемент - каталог\n",
    "    if os.path.isdir(os.path.join(DATA_FOLDER, dir)):\n",
    "        # Перебор всех файлов в каталоге\n",
    "        for file in os.listdir(os.path.join(DATA_FOLDER, dir)):\n",
    "            try:\n",
    "                file_path = os.path.join(DATA_FOLDER, dir, file)\n",
    "\n",
    "                # загрузить изображение\n",
    "                img = Image.open(file_path) #.convert('RGB')\n",
    "\n",
    "                # получить параметры изображения\n",
    "                h, w, c = np.array(img).shape\n",
    "\n",
    "                # если размер изображения не корректен - пропускаем\n",
    "                if h==w==1:\n",
    "                    img_missized+=1 \n",
    "                    continue\n",
    "\n",
    "                # конвертируем изображение в монохромное для проверки детектирования лиц\n",
    "                img_gray = np.array(img.convert('L'))\n",
    "                face_rects = face_detector(img_gray, 0)\n",
    "\n",
    "                # если на изображении не получается детектировать лица - пропускаем\n",
    "                if len(face_rects) == 0:\n",
    "                    img_wo_faces+=1\n",
    "                    continue\n",
    "\n",
    "                year_matched = re.findall(r'_(\\d{4})', file)\n",
    "                try:\n",
    "                    label = int(year_matched[1]) - int(year_matched[0])\n",
    "                except:\n",
    "                    label = -1\n",
    "\n",
    "                images = images.append({'file_path':file_path, 'label':label}, ignore_index=True)\n",
    "\n",
    "                #if label<=0 or label>100:\n",
    "                #    img_misclassified+=1\n",
    "                #    continue              \n",
    "                #img_valid+=1\n",
    "\n",
    "            except Exception as ex:\n",
    "                img_misloaded+=1\n",
    "                None # Если файл не удается прочитать - пропускаем его\n",
    "\n",
    "print(f'Изображений с ошибками при загрузке {img_misloaded}')\n",
    "print(f'Изображений с некорректными размерами {img_missized}')\n",
    "print(f'Изображений на которых не найдены лица {img_wo_faces}')\n",
    "\n",
    "print(f'Всего корректных изображений {images.shape[0]}')"
   ]
  },
  {
   "attachments": {},
   "cell_type": "markdown",
   "metadata": {},
   "source": [
    "Посмотрим что получилось:"
   ]
  },
  {
   "cell_type": "code",
   "execution_count": 5,
   "metadata": {},
   "outputs": [
    {
     "data": {
      "text/html": [
       "<div>\n",
       "<style scoped>\n",
       "    .dataframe tbody tr th:only-of-type {\n",
       "        vertical-align: middle;\n",
       "    }\n",
       "\n",
       "    .dataframe tbody tr th {\n",
       "        vertical-align: top;\n",
       "    }\n",
       "\n",
       "    .dataframe thead th {\n",
       "        text-align: right;\n",
       "    }\n",
       "</style>\n",
       "<table border=\"1\" class=\"dataframe\">\n",
       "  <thead>\n",
       "    <tr style=\"text-align: right;\">\n",
       "      <th></th>\n",
       "      <th>file_path</th>\n",
       "      <th>label</th>\n",
       "    </tr>\n",
       "  </thead>\n",
       "  <tbody>\n",
       "    <tr>\n",
       "      <th>count</th>\n",
       "      <td>30267</td>\n",
       "      <td>30267</td>\n",
       "    </tr>\n",
       "    <tr>\n",
       "      <th>unique</th>\n",
       "      <td>30267</td>\n",
       "      <td>119</td>\n",
       "    </tr>\n",
       "    <tr>\n",
       "      <th>top</th>\n",
       "      <td>wiki_crop\\00\\10049200_1891-09-16_1958.jpg</td>\n",
       "      <td>26</td>\n",
       "    </tr>\n",
       "    <tr>\n",
       "      <th>freq</th>\n",
       "      <td>1</td>\n",
       "      <td>1191</td>\n",
       "    </tr>\n",
       "  </tbody>\n",
       "</table>\n",
       "</div>"
      ],
      "text/plain": [
       "                                        file_path  label\n",
       "count                                       30267  30267\n",
       "unique                                      30267    119\n",
       "top     wiki_crop\\00\\10049200_1891-09-16_1958.jpg     26\n",
       "freq                                            1   1191"
      ]
     },
     "execution_count": 5,
     "metadata": {},
     "output_type": "execute_result"
    }
   ],
   "source": [
    "images.describe()"
   ]
  },
  {
   "attachments": {},
   "cell_type": "markdown",
   "metadata": {},
   "source": [
    "Проверим набор данных на наличие некоректных меток предполагаемого возраста (<= 3 лет или > 100)"
   ]
  },
  {
   "cell_type": "code",
   "execution_count": 6,
   "metadata": {},
   "outputs": [
    {
     "data": {
      "text/plain": [
       "file_path                                  label\n",
       "wiki_crop\\01\\658701_1712-06-14_1962.jpg     250     1\n",
       "wiki_crop\\52\\9959752_1897-12-24_2006.jpg    109     1\n",
       "wiki_crop\\62\\491662_1863-04-03_2004.jpg     141     1\n",
       "wiki_crop\\64\\483964_1893-01-31_2001.jpg     108     1\n",
       "wiki_crop\\67\\9304667_1896-09-21_2010.jpg    114     1\n",
       "wiki_crop\\68\\23555068_1895-08-03_2005.jpg   110     1\n",
       "wiki_crop\\68\\25377668_1760-05-05_1945.jpg   185     1\n",
       "wiki_crop\\69\\3139869_1743-09-11_2012.jpg    269     1\n",
       "wiki_crop\\73\\23278173_1897-04-19_2012.jpg   115     1\n",
       "wiki_crop\\75\\32659275_1899-08-14_2009.jpg   110     1\n",
       "wiki_crop\\76\\34011376_1898-09-07_2011.jpg   113     1\n",
       "wiki_crop\\78\\11171378_1887-03-20_2012.jpg   125     1\n",
       "wiki_crop\\79\\16127179_1896-11-13_2007.jpg   111     1\n",
       "wiki_crop\\84\\24383784_1910-03-27_2011.jpg   101     1\n",
       "wiki_crop\\90\\1202690_1878-01-21_2003.jpg    125     1\n",
       "wiki_crop\\90\\9271090_1896-10-13_2007.jpg    111     1\n",
       "wiki_crop\\92\\14449892_1894-08-08_2002.jpg   108     1\n",
       "wiki_crop\\92\\42009092_2014-02-20_2014.jpg   0       1\n",
       "wiki_crop\\95\\36922695_1902-01-27_2004.jpg   102     1\n",
       "wiki_crop\\57\\35652957_1938-05-21_1941.jpg   3       1\n",
       "wiki_crop\\51\\39367651_1910-04-12_2013.jpg   103     1\n",
       "wiki_crop\\04\\41732204_1900-05-27_2008.jpg   108     1\n",
       "wiki_crop\\50\\9681650_1860-04-14_2010.jpg    150     1\n",
       "wiki_crop\\06\\42881906_1888-01-29_1990.jpg   102     1\n",
       "wiki_crop\\11\\33658211_1833-12-27_1953.jpg   120     1\n",
       "wiki_crop\\12\\32693112_1901-07-16_2015.jpg   114     1\n",
       "wiki_crop\\12\\98912_1802-12-15_2012.jpg      210     1\n",
       "wiki_crop\\15\\24127215_1907-05-04_2008.jpg   101     1\n",
       "wiki_crop\\20\\19821120_1825-07-11_1950.jpg   125     1\n",
       "wiki_crop\\22\\5164322_1875-03-27_1989.jpg    114     1\n",
       "wiki_crop\\27\\34853027_2012-02-23_2013.jpg   1       1\n",
       "wiki_crop\\29\\43349929_1900-12-23_2011.jpg   111     1\n",
       "wiki_crop\\33\\10818133_2007-04-21_2010.jpg   3       1\n",
       "wiki_crop\\33\\2433_1901-10-10_2002.jpg       101     1\n",
       "wiki_crop\\33\\6802033_1964-01-13_1965.jpg    1       1\n",
       "wiki_crop\\34\\32161234_1901-03-31_2011.jpg   110     1\n",
       "wiki_crop\\34\\32851434_1960-12-16_1960.jpg   0       1\n",
       "wiki_crop\\48\\26614448_1940-04-30_1940.jpg   0       1\n",
       "wiki_crop\\48\\42788848_1993-02-18_1990.jpg  -3       1\n",
       "wiki_crop\\50\\913950_1899-07-03_2013.jpg     114     1\n",
       "wiki_crop\\97\\44157497_1977-02-25_1978.jpg   1       1\n",
       "dtype: int64"
      ]
     },
     "execution_count": 6,
     "metadata": {},
     "output_type": "execute_result"
    }
   ],
   "source": [
    "images[(images.label <=3) | (images.label > 100)].value_counts()"
   ]
  },
  {
   "attachments": {},
   "cell_type": "markdown",
   "metadata": {},
   "source": [
    "Удалим записи с некорректными метками"
   ]
  },
  {
   "cell_type": "code",
   "execution_count": 7,
   "metadata": {},
   "outputs": [],
   "source": [
    "df = images\n",
    "\n",
    "df.drop(df[(df.label <=3) | (df.label > 100)].index, inplace=True)"
   ]
  },
  {
   "attachments": {},
   "cell_type": "markdown",
   "metadata": {},
   "source": [
    "Выполним секвестр классов согласно возрастной классификации американской ассоциации здравоохранения:  \n",
    "    - до 12 лет - Детство (0)  \n",
    "    - до 16 лет - Отрочество (1)  \n",
    "    - до 21 лет - Юность (2)  \n",
    "    - до 35 лет - Молодость (3)  \n",
    "    - до 60 лет - Зрелость (4)  \n",
    "    - свыше 60  - Старость (5)  "
   ]
  },
  {
   "cell_type": "code",
   "execution_count": 8,
   "metadata": {},
   "outputs": [
    {
     "data": {
      "text/plain": [
       "3    13309\n",
       "4    10390\n",
       "5     3965\n",
       "2     2293\n",
       "1      215\n",
       "0       54\n",
       "Name: label, dtype: int64"
      ]
     },
     "execution_count": 8,
     "metadata": {},
     "output_type": "execute_result"
    }
   ],
   "source": [
    "df.loc[df.label <= 12 , 'label'] = 0 \n",
    "df.loc[(df.label > 12) & (df.label <= 16) , 'label'] = 1 \n",
    "df.loc[(df.label > 16) & (df.label <= 21) , 'label'] = 2\n",
    "df.loc[(df.label > 21) & (df.label <= 35) , 'label'] = 3\n",
    "df.loc[(df.label > 35) & (df.label <= 60) , 'label'] = 4\n",
    "df.loc[(df.label > 60), 'label'] = 5   \n",
    "\n",
    "df.label.value_counts()"
   ]
  },
  {
   "attachments": {},
   "cell_type": "markdown",
   "metadata": {},
   "source": [
    "Сохранить результат обработки данных в CSV-файл"
   ]
  },
  {
   "cell_type": "code",
   "execution_count": 9,
   "metadata": {},
   "outputs": [],
   "source": [
    "df.to_csv('wiki_crop.csv')"
   ]
  }
 ],
 "metadata": {
  "kernelspec": {
   "display_name": "Python 3",
   "language": "python",
   "name": "python3"
  },
  "language_info": {
   "codemirror_mode": {
    "name": "ipython",
    "version": 3
   },
   "file_extension": ".py",
   "mimetype": "text/x-python",
   "name": "python",
   "nbconvert_exporter": "python",
   "pygments_lexer": "ipython3",
   "version": "3.9.13 (tags/v3.9.13:6de2ca5, May 17 2022, 16:36:42) [MSC v.1929 64 bit (AMD64)]"
  },
  "vscode": {
   "interpreter": {
    "hash": "11938c6bc6919ae2720b4d5011047913343b08a43b18698fd82dedb0d4417594"
   }
  }
 },
 "nbformat": 4,
 "nbformat_minor": 2
}
