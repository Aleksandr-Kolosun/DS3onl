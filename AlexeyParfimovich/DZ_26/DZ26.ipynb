{
 "cells": [
  {
   "attachments": {},
   "cell_type": "markdown",
   "metadata": {},
   "source": [
    "## Группа DS03-onl\n",
    "\n",
    "Студент Парфимович Алексей\n",
    "\n",
    "## Домашнее задание №26\n",
    "\n",
    "#### Прогноз просрочки кредита заемщиком\n",
    "\n",
    "Необходимо решить задачу просрочки кредита используя для прогназирования нейронные сети. Рассмотреть работу с несбалансированными данными.  \n",
    "\n",
    "Набор данных представляет собой исторические данные по 251503 заемщикам (https://www.kaggle.com/c/GiveMeSomeCredit/data ).  \n",
    "Задача является бинарной классификацией. Цель - предсказать будет ли тот или иной заемщик испытывать финансовые трудности в ближайшие 2 года, т.е. будет ли просрочка по займу. Выборка разделена на тренировочную и тестовую ( 150000 в тренировочной части, 101503 в тестовой)."
   ]
  },
  {
   "cell_type": "code",
   "execution_count": 1,
   "metadata": {},
   "outputs": [],
   "source": [
    "import numpy as np\n",
    "import pandas as pd\n",
    "import seaborn as sns\n",
    "\n",
    "from math import nan\n",
    "\n",
    "%matplotlib inline\n",
    "from matplotlib import pyplot as plt\n",
    "\n",
    "import warnings\n",
    "warnings.filterwarnings('ignore')\n",
    "\n",
    "import tensorflow as tf\n",
    "from tensorflow import keras\n",
    "\n",
    "import scikeras\n",
    "from scikeras.wrappers import KerasClassifier\n",
    "\n",
    "from sklearn import metrics\n",
    "from sklearn.model_selection import train_test_split, cross_val_score\n",
    "from sklearn.model_selection import StratifiedKFold, RandomizedSearchCV\n",
    "from sklearn.preprocessing import StandardScaler, MinMaxScaler\n",
    "\n",
    "RANDOM_STATE = 42"
   ]
  },
  {
   "cell_type": "code",
   "execution_count": 2,
   "metadata": {},
   "outputs": [
    {
     "name": "stdout",
     "output_type": "stream",
     "text": [
      "Cuda version: 2.10.1\n",
      "Num GPUs Available:  1\n"
     ]
    }
   ],
   "source": [
    "print('Cuda version: ' + tf.__version__)\n",
    "print(\"Num GPUs Available: \", len(tf.config.list_physical_devices('GPU')))"
   ]
  },
  {
   "cell_type": "code",
   "execution_count": 3,
   "metadata": {},
   "outputs": [],
   "source": [
    "df = pd.read_csv('cs-training.csv', index_col=0)\n",
    "\n",
    "col_dict = {\n",
    "    # Целевая метка (1/0): будет ли просрочка платежей более 90 дней в ближайшие 2 года, Да/Нет\n",
    "    'SeriousDlqin2yrs':'Delinquency',  \n",
    "    # Баланс по кредитам (%): сумма всех кредитов за исключением недвижимости и рассрочек(автокредиты), разделенная на сумму кредитных лимитов\n",
    "    'RevolvingUtilizationOfUnsecuredLines':'CreditBalance',\n",
    "    # Возраст заемщика (лет)\n",
    "    'age':'Age',\n",
    "    # Количество просрочек платежей за последние 2 года: от 30 до 59 дней\n",
    "    'NumberOfTime30-59DaysPastDueNotWorse':'Delay30_59',\n",
    "    # Коэффициент задолженности (%): отношение суммы ежемесячных платежей (долги, алименты, проживание) к месячному доходу\n",
    "    'DebtRatio':'DebtRatio',\n",
    "    # Mесячный доход ($)\n",
    "    'MonthlyIncome':'MonthlyIncome',\n",
    "    # Количество открытых кредитов (рассрочек) и кредитных линий (кредитные карты)\n",
    "    'NumberOfOpenCreditLinesAndLoans':'CreditLineNum',\n",
    "    # Количество просрочек платежей за последние 2 года: 90 дней и больше\n",
    "    'NumberOfTimes90DaysLate':'Delay90',\n",
    "    # Количество открытых кредитов на недвижимость, включая кредитные линии под залог жилья\n",
    "    'NumberRealEstateLoansOrLines':'EstateLoanNum',\n",
    "    # Количество просрочек платежей за последние 2 года: от 60 до 89 дней\n",
    "    'NumberOfTime60-89DaysPastDueNotWorse':'Delay60_89',\n",
    "    # Количество иждивенцев в семье (исключая заемщика)\n",
    "    'NumberOfDependents':'Dependents'\n",
    "} \n",
    "\n",
    "df.columns = [col_dict.get(x,x) for x in df.columns]\n",
    "\n",
    "df = df[['Age','Dependents','MonthlyIncome','DebtRatio','CreditBalance','CreditLineNum','EstateLoanNum','Delay30_59','Delay60_89','Delay90','Delinquency']]"
   ]
  },
  {
   "cell_type": "markdown",
   "metadata": {},
   "source": [
    "Проверить наличие NaN в значениях признаков, при необходимости осуществить замену  \n",
    "Выполнить удаление дубликатов"
   ]
  },
  {
   "cell_type": "code",
   "execution_count": 4,
   "metadata": {},
   "outputs": [
    {
     "name": "stdout",
     "output_type": "stream",
     "text": [
      "Количество записей-дубликатов: 648\n",
      "Набор данных после удаления дубликатов: (149352, 11)\n"
     ]
    }
   ],
   "source": [
    "# Для признака Dependents заменить все пустые значения на -1\n",
    "df['Dependents'].fillna(-1, inplace=True)\n",
    "# Для признака MonthlyIncome заменить все пустые значения на 0\n",
    "df['MonthlyIncome'].fillna(0, inplace=True)\n",
    "\n",
    "print(f'Количество записей-дубликатов: {df[df.duplicated()].shape[0]}')\n",
    "\n",
    "# Удалить дубликаты сохраняя первую запись\n",
    "df = df.drop_duplicates(keep='first')\n",
    "print(f'Набор данных после удаления дубликатов: {df.shape}')"
   ]
  },
  {
   "cell_type": "markdown",
   "metadata": {},
   "source": [
    "Построить корреляционную матрицу признаков  \n",
    "Проанализировать зависимости"
   ]
  },
  {
   "cell_type": "code",
   "execution_count": null,
   "metadata": {},
   "outputs": [],
   "source": [
    "sns.heatmap(df.corr(), annot=True, linewidths=1)"
   ]
  },
  {
   "cell_type": "markdown",
   "metadata": {},
   "source": [
    "- Наблюдается незначительная отрицательная корреляция (-0.22) признаков возраста (Age) и количества иждивенцев (Dependents)\n",
    "- Наблюдается существенная положительная корреляция (0.43) между собой признаков количества открытых кредитов (CreditLineNum и EstateLoanNum)\n",
    "- Наблюдается сильная корреляция (0.98 - 0.99) между собой признаков наличия просрочек платежей за различные периоды (Delay30_59, Delay60_89, Delay90)"
   ]
  },
  {
   "cell_type": "code",
   "execution_count": 5,
   "metadata": {},
   "outputs": [],
   "source": [
    "# Заменить признаки CreditLineNum и EstateLoanNum на суммарный признак CreditNum\n",
    "df.insert(7,'CreditNum', df.CreditLineNum + df.EstateLoanNum)\n",
    "df.drop(['CreditLineNum','EstateLoanNum'], axis=1, inplace=True)\n",
    "\n",
    "# Заменить признаки Delay30_59, Delay60_89 и Delay90 на суммарный признак DelayNum\n",
    "df.insert(9,'DelayNum', df.Delay30_59 + df.Delay60_89 + df.Delay90)\n",
    "df.drop(['Delay30_59','Delay60_89','Delay90'], axis=1, inplace=True)"
   ]
  },
  {
   "cell_type": "code",
   "execution_count": 6,
   "metadata": {},
   "outputs": [
    {
     "data": {
      "text/html": [
       "<div>\n",
       "<style scoped>\n",
       "    .dataframe tbody tr th:only-of-type {\n",
       "        vertical-align: middle;\n",
       "    }\n",
       "\n",
       "    .dataframe tbody tr th {\n",
       "        vertical-align: top;\n",
       "    }\n",
       "\n",
       "    .dataframe thead th {\n",
       "        text-align: right;\n",
       "    }\n",
       "</style>\n",
       "<table border=\"1\" class=\"dataframe\">\n",
       "  <thead>\n",
       "    <tr style=\"text-align: right;\">\n",
       "      <th></th>\n",
       "      <th>count</th>\n",
       "      <th>mean</th>\n",
       "      <th>std</th>\n",
       "      <th>min</th>\n",
       "      <th>25%</th>\n",
       "      <th>50%</th>\n",
       "      <th>75%</th>\n",
       "      <th>max</th>\n",
       "    </tr>\n",
       "  </thead>\n",
       "  <tbody>\n",
       "    <tr>\n",
       "      <th>Age</th>\n",
       "      <td>149352.0</td>\n",
       "      <td>52.310153</td>\n",
       "      <td>14.722797</td>\n",
       "      <td>0.0</td>\n",
       "      <td>41.000000</td>\n",
       "      <td>52.000000</td>\n",
       "      <td>63.000000</td>\n",
       "      <td>109.0</td>\n",
       "    </tr>\n",
       "    <tr>\n",
       "      <th>Dependents</th>\n",
       "      <td>149352.0</td>\n",
       "      <td>0.714935</td>\n",
       "      <td>1.136387</td>\n",
       "      <td>-1.0</td>\n",
       "      <td>0.000000</td>\n",
       "      <td>0.000000</td>\n",
       "      <td>1.000000</td>\n",
       "      <td>20.0</td>\n",
       "    </tr>\n",
       "    <tr>\n",
       "      <th>MonthlyIncome</th>\n",
       "      <td>149352.0</td>\n",
       "      <td>5370.845780</td>\n",
       "      <td>13176.007265</td>\n",
       "      <td>0.0</td>\n",
       "      <td>1600.000000</td>\n",
       "      <td>4400.000000</td>\n",
       "      <td>7400.000000</td>\n",
       "      <td>3008750.0</td>\n",
       "    </tr>\n",
       "    <tr>\n",
       "      <th>DebtRatio</th>\n",
       "      <td>149352.0</td>\n",
       "      <td>354.529267</td>\n",
       "      <td>2042.102001</td>\n",
       "      <td>0.0</td>\n",
       "      <td>0.177571</td>\n",
       "      <td>0.368293</td>\n",
       "      <td>0.875665</td>\n",
       "      <td>329664.0</td>\n",
       "    </tr>\n",
       "    <tr>\n",
       "      <th>CreditBalance</th>\n",
       "      <td>149352.0</td>\n",
       "      <td>6.072551</td>\n",
       "      <td>250.296329</td>\n",
       "      <td>0.0</td>\n",
       "      <td>0.030150</td>\n",
       "      <td>0.154239</td>\n",
       "      <td>0.556414</td>\n",
       "      <td>50708.0</td>\n",
       "    </tr>\n",
       "    <tr>\n",
       "      <th>CreditNum</th>\n",
       "      <td>149352.0</td>\n",
       "      <td>9.505444</td>\n",
       "      <td>5.714916</td>\n",
       "      <td>0.0</td>\n",
       "      <td>5.000000</td>\n",
       "      <td>9.000000</td>\n",
       "      <td>13.000000</td>\n",
       "      <td>112.0</td>\n",
       "    </tr>\n",
       "    <tr>\n",
       "      <th>DelayNum</th>\n",
       "      <td>149352.0</td>\n",
       "      <td>0.840792</td>\n",
       "      <td>11.384862</td>\n",
       "      <td>0.0</td>\n",
       "      <td>0.000000</td>\n",
       "      <td>0.000000</td>\n",
       "      <td>0.000000</td>\n",
       "      <td>294.0</td>\n",
       "    </tr>\n",
       "    <tr>\n",
       "      <th>Delinquency</th>\n",
       "      <td>149352.0</td>\n",
       "      <td>0.067009</td>\n",
       "      <td>0.250039</td>\n",
       "      <td>0.0</td>\n",
       "      <td>0.000000</td>\n",
       "      <td>0.000000</td>\n",
       "      <td>0.000000</td>\n",
       "      <td>1.0</td>\n",
       "    </tr>\n",
       "  </tbody>\n",
       "</table>\n",
       "</div>"
      ],
      "text/plain": [
       "                  count         mean           std  min          25%  \\\n",
       "Age            149352.0    52.310153     14.722797  0.0    41.000000   \n",
       "Dependents     149352.0     0.714935      1.136387 -1.0     0.000000   \n",
       "MonthlyIncome  149352.0  5370.845780  13176.007265  0.0  1600.000000   \n",
       "DebtRatio      149352.0   354.529267   2042.102001  0.0     0.177571   \n",
       "CreditBalance  149352.0     6.072551    250.296329  0.0     0.030150   \n",
       "CreditNum      149352.0     9.505444      5.714916  0.0     5.000000   \n",
       "DelayNum       149352.0     0.840792     11.384862  0.0     0.000000   \n",
       "Delinquency    149352.0     0.067009      0.250039  0.0     0.000000   \n",
       "\n",
       "                       50%          75%        max  \n",
       "Age              52.000000    63.000000      109.0  \n",
       "Dependents        0.000000     1.000000       20.0  \n",
       "MonthlyIncome  4400.000000  7400.000000  3008750.0  \n",
       "DebtRatio         0.368293     0.875665   329664.0  \n",
       "CreditBalance     0.154239     0.556414    50708.0  \n",
       "CreditNum         9.000000    13.000000      112.0  \n",
       "DelayNum          0.000000     0.000000      294.0  \n",
       "Delinquency       0.000000     0.000000        1.0  "
      ]
     },
     "execution_count": 6,
     "metadata": {},
     "output_type": "execute_result"
    }
   ],
   "source": [
    "# Визуализировать распределение значений признаков\n",
    "df.describe(include = \"all\").T"
   ]
  },
  {
   "cell_type": "markdown",
   "metadata": {},
   "source": [
    "Визуализировать аномальные значения признаков"
   ]
  },
  {
   "cell_type": "code",
   "execution_count": null,
   "metadata": {},
   "outputs": [],
   "source": [
    "for col in df.columns:\n",
    "    plt.figure(figsize=(15, 1))\n",
    "    df[[col]].boxplot(vert=0 )"
   ]
  },
  {
   "cell_type": "code",
   "execution_count": 7,
   "metadata": {},
   "outputs": [],
   "source": [
    "# Заменить нулевые значения возраста медианным значением\n",
    "df['Age'].replace(0, df['Age'].median(), inplace=True) \n",
    "\n",
    "# Удалить записи с аномальными значениями признаков\n",
    "df.drop(df[df.Dependents > 15].index, inplace=True)\n",
    "df.drop(df[df.MonthlyIncome > 200000.0].index, inplace=True)\n",
    "df.drop(df[df.DebtRatio > 22000.0].index, inplace=True)\n",
    "df.drop(df[df.CreditBalance > 8000.0].index, inplace=True)\n",
    "df.drop(df[df.CreditNum > 55].index, inplace=True)\n",
    "df.drop(df[df.DelayNum > 50].index, inplace=True)"
   ]
  },
  {
   "cell_type": "markdown",
   "metadata": {},
   "source": [
    "Проверьте наличие категориальных признаков, а также соответствие содержимого данных их типам"
   ]
  },
  {
   "cell_type": "code",
   "execution_count": 8,
   "metadata": {},
   "outputs": [
    {
     "data": {
      "text/plain": [
       "Age                  85\n",
       "Dependents           13\n",
       "MonthlyIncome     13560\n",
       "DebtRatio        114075\n",
       "CreditBalance    125638\n",
       "CreditNum            55\n",
       "DelayNum             20\n",
       "Delinquency           2\n",
       "dtype: int64"
      ]
     },
     "execution_count": 8,
     "metadata": {},
     "output_type": "execute_result"
    }
   ],
   "source": [
    "# Подсчитать количество уникальных значений по столбцам\n",
    "df.nunique(axis=0)"
   ]
  },
  {
   "cell_type": "code",
   "execution_count": 9,
   "metadata": {},
   "outputs": [
    {
     "data": {
      "text/html": [
       "<div>\n",
       "<style scoped>\n",
       "    .dataframe tbody tr th:only-of-type {\n",
       "        vertical-align: middle;\n",
       "    }\n",
       "\n",
       "    .dataframe tbody tr th {\n",
       "        vertical-align: top;\n",
       "    }\n",
       "\n",
       "    .dataframe thead th {\n",
       "        text-align: right;\n",
       "    }\n",
       "</style>\n",
       "<table border=\"1\" class=\"dataframe\">\n",
       "  <thead>\n",
       "    <tr style=\"text-align: right;\">\n",
       "      <th></th>\n",
       "      <th>Age</th>\n",
       "      <th>Dependents</th>\n",
       "      <th>MonthlyIncome</th>\n",
       "      <th>DebtRatio</th>\n",
       "      <th>CreditBalance</th>\n",
       "      <th>CreditNum</th>\n",
       "      <th>DelayNum</th>\n",
       "      <th>Delinquency</th>\n",
       "    </tr>\n",
       "  </thead>\n",
       "  <tbody>\n",
       "    <tr>\n",
       "      <th>1</th>\n",
       "      <td>45</td>\n",
       "      <td>2.0</td>\n",
       "      <td>9120.0</td>\n",
       "      <td>0.802982</td>\n",
       "      <td>0.766127</td>\n",
       "      <td>19</td>\n",
       "      <td>2</td>\n",
       "      <td>1</td>\n",
       "    </tr>\n",
       "    <tr>\n",
       "      <th>2</th>\n",
       "      <td>40</td>\n",
       "      <td>1.0</td>\n",
       "      <td>2600.0</td>\n",
       "      <td>0.121876</td>\n",
       "      <td>0.957151</td>\n",
       "      <td>4</td>\n",
       "      <td>0</td>\n",
       "      <td>0</td>\n",
       "    </tr>\n",
       "    <tr>\n",
       "      <th>3</th>\n",
       "      <td>38</td>\n",
       "      <td>0.0</td>\n",
       "      <td>3042.0</td>\n",
       "      <td>0.085113</td>\n",
       "      <td>0.658180</td>\n",
       "      <td>2</td>\n",
       "      <td>2</td>\n",
       "      <td>0</td>\n",
       "    </tr>\n",
       "    <tr>\n",
       "      <th>4</th>\n",
       "      <td>30</td>\n",
       "      <td>0.0</td>\n",
       "      <td>3300.0</td>\n",
       "      <td>0.036050</td>\n",
       "      <td>0.233810</td>\n",
       "      <td>5</td>\n",
       "      <td>0</td>\n",
       "      <td>0</td>\n",
       "    </tr>\n",
       "    <tr>\n",
       "      <th>5</th>\n",
       "      <td>49</td>\n",
       "      <td>0.0</td>\n",
       "      <td>63588.0</td>\n",
       "      <td>0.024926</td>\n",
       "      <td>0.907239</td>\n",
       "      <td>8</td>\n",
       "      <td>1</td>\n",
       "      <td>0</td>\n",
       "    </tr>\n",
       "  </tbody>\n",
       "</table>\n",
       "</div>"
      ],
      "text/plain": [
       "   Age  Dependents  MonthlyIncome  DebtRatio  CreditBalance  CreditNum  \\\n",
       "1   45         2.0         9120.0   0.802982       0.766127         19   \n",
       "2   40         1.0         2600.0   0.121876       0.957151          4   \n",
       "3   38         0.0         3042.0   0.085113       0.658180          2   \n",
       "4   30         0.0         3300.0   0.036050       0.233810          5   \n",
       "5   49         0.0        63588.0   0.024926       0.907239          8   \n",
       "\n",
       "   DelayNum  Delinquency  \n",
       "1         2            1  \n",
       "2         0            0  \n",
       "3         2            0  \n",
       "4         0            0  \n",
       "5         1            0  "
      ]
     },
     "execution_count": 9,
     "metadata": {},
     "output_type": "execute_result"
    }
   ],
   "source": [
    "df.head()"
   ]
  },
  {
   "cell_type": "markdown",
   "metadata": {},
   "source": [
    "Оцените количество вернувших и не вернувших кредит. Какую метрику лучше всего использовать?"
   ]
  },
  {
   "cell_type": "code",
   "execution_count": 10,
   "metadata": {},
   "outputs": [
    {
     "data": {
      "text/plain": [
       "0    139162\n",
       "1      9862\n",
       "Name: Delinquency, dtype: int64"
      ]
     },
     "execution_count": 10,
     "metadata": {},
     "output_type": "execute_result"
    }
   ],
   "source": [
    "# Ваш код здесь\n",
    "df['Delinquency'].value_counts()"
   ]
  },
  {
   "attachments": {},
   "cell_type": "markdown",
   "metadata": {},
   "source": [
    "Данные сильно несбалансированы. В качестве метрик лучше использовать `f1_score`, `roc_auc_score`. "
   ]
  },
  {
   "cell_type": "markdown",
   "metadata": {},
   "source": [
    "__Предобработка данных__"
   ]
  },
  {
   "attachments": {},
   "cell_type": "markdown",
   "metadata": {},
   "source": [
    "Выберите способ нормализации. Подготовьте данные для обучения выбранных моделей..."
   ]
  },
  {
   "cell_type": "code",
   "execution_count": 11,
   "metadata": {},
   "outputs": [],
   "source": [
    "feat_cols = df.columns[:-1]\n",
    "\n",
    "#scaler = MinMaxScaler()\n",
    "scaler = StandardScaler()\n",
    "\n",
    "df[feat_cols] = scaler.fit_transform(df[feat_cols])\n",
    "\n",
    "X = df[feat_cols]\n",
    "y = df['Delinquency']\n",
    "\n",
    "X_train, X_test, y_train, y_test = train_test_split(X, y, random_state=RANDOM_STATE)"
   ]
  },
  {
   "cell_type": "code",
   "execution_count": 12,
   "metadata": {},
   "outputs": [],
   "source": [
    "tf.random.set_seed(RANDOM_STATE)\n",
    "np.random.seed(RANDOM_STATE)"
   ]
  },
  {
   "cell_type": "code",
   "execution_count": 29,
   "metadata": {},
   "outputs": [
    {
     "name": "stdout",
     "output_type": "stream",
     "text": [
      "Model summary:\n",
      "Model: \"sequential\"\n",
      "_________________________________________________________________\n",
      " Layer (type)                Output Shape              Param #   \n",
      "=================================================================\n",
      " dense (Dense)               (None, 7)                 56        \n",
      "                                                                 \n",
      " dense_1 (Dense)             (None, 1)                 8         \n",
      "                                                                 \n",
      "=================================================================\n",
      "Total params: 64\n",
      "Trainable params: 64\n",
      "Non-trainable params: 0\n",
      "_________________________________________________________________\n",
      "None\n",
      "\n",
      "Model history:\n",
      "dict_keys(['loss', 'auc', 'val_loss', 'val_auc'])\n"
     ]
    }
   ],
   "source": [
    "tf.keras.backend.clear_session()\n",
    "\n",
    "model = tf.keras.models.Sequential([\n",
    "    #tf.keras.Input(shape=X_train.shape[1:]),\n",
    "    tf.keras.layers.Dense(X_train.shape[1], input_shape=X_train.shape[1:], activation='relu'),\n",
    "    #tf.keras.layers.Dense(512, kernel_initializer='uniform', activation='relu'),\n",
    "    tf.keras.layers.Dense(1, activation='sigmoid')\n",
    "])\n",
    "\n",
    "model.compile(loss=keras.losses.BinaryCrossentropy(), \n",
    "              optimizer=keras.optimizers.Adam(learning_rate=0.001), \n",
    "              metrics=keras.metrics.AUC())\n",
    "\n",
    "callbacks = [\n",
    "    tf.keras.callbacks.EarlyStopping(\n",
    "        monitor='val_auc',\n",
    "        min_delta=1e-2,\n",
    "        patience=5,\n",
    "        verbose=1\n",
    "    )\n",
    "]\n",
    "\n",
    "#with tf.device('/cpu:0'):\n",
    "with tf.device('/gpu:0'):\n",
    "    history = model.fit(X_train, y_train, batch_size=128, epochs=25,\n",
    "                        #callbacks=callbacks, \n",
    "                        validation_split=0.2, verbose=0)\n",
    "\n",
    "print('Model summary:')\n",
    "print(model.summary())\n",
    "\n",
    "print('\\nModel history:')\n",
    "print(history.history.keys())"
   ]
  },
  {
   "cell_type": "code",
   "execution_count": 30,
   "metadata": {},
   "outputs": [
    {
     "data": {
      "image/png": "[encoded data removed]",
      "text/plain": [
       "<Figure size 640x480 with 1 Axes>"
      ]
     },
     "metadata": {},
     "output_type": "display_data"
    }
   ],
   "source": [
    "plt.plot(history.history['loss'], label='Потери на обучающем наборе')\n",
    "plt.plot(history.history['val_loss'], label='Потери на проверочном наборе')\n",
    "plt.xlabel('Эпохи')\n",
    "plt.ylabel('Потери')\n",
    "plt.legend()\n",
    "plt.show()"
   ]
  },
  {
   "cell_type": "code",
   "execution_count": 31,
   "metadata": {},
   "outputs": [
    {
     "data": {
      "image/png": "[encoded data removed]",
      "text/plain": [
       "<Figure size 640x480 with 1 Axes>"
      ]
     },
     "metadata": {},
     "output_type": "display_data"
    }
   ],
   "source": [
    "plt.plot(history.history['auc'], label='AUC на обучающем наборе')\n",
    "plt.plot(history.history['val_auc'], label='AUC на проверочном наборе')\n",
    "plt.xlabel('Эпохи')\n",
    "plt.ylabel('AUC')\n",
    "plt.legend()\n",
    "plt.show()"
   ]
  },
  {
   "cell_type": "code",
   "execution_count": 32,
   "metadata": {},
   "outputs": [
    {
     "name": "stdout",
     "output_type": "stream",
     "text": [
      "AUC работы на тестовых данных: 81.97%\n"
     ]
    }
   ],
   "source": [
    "scores = model.evaluate(X_test, y_test, verbose=0)\n",
    "\n",
    "print(\"AUC работы на тестовых данных: %.2f%%\" % (scores[1]*100))"
   ]
  },
  {
   "attachments": {},
   "cell_type": "markdown",
   "metadata": {},
   "source": [
    "Выполним подбор гиперпараметров модели"
   ]
  },
  {
   "cell_type": "code",
   "execution_count": 13,
   "metadata": {},
   "outputs": [
    {
     "name": "stdout",
     "output_type": "stream",
     "text": [
      "Best:0.936446 using {'optimizer': 'adam', 'epochs': 25, 'batch_size': 128}\n"
     ]
    }
   ],
   "source": [
    "tf.keras.backend.clear_session()\n",
    "\n",
    "def get_model(optimizer ='sgd', init='glorot_uniform'):\n",
    "    model = tf.keras.models.Sequential([\n",
    "        #tf.keras.Input(shape=X_train.shape[1:]),\n",
    "        tf.keras.layers.Dense(X_train.shape[1], activation=\"relu\", input_shape=X_train.shape[1:]),\n",
    "        tf.keras.layers.Dense(1, kernel_initializer=init, activation=\"sigmoid\")\n",
    "    ])\n",
    "    model.compile(loss=keras.losses.BinaryCrossentropy(),\n",
    "                  metrics=keras.metrics.AUC(),\n",
    "                  optimizer=optimizer)\n",
    "    return model\n",
    "\n",
    "estimator = KerasClassifier(build_fn=get_model,verbose=0)\n",
    "\n",
    "params = {\n",
    "    'optimizer': ['adam','rmsprop','sgd'],\n",
    "    'epochs': np.array([25]),\n",
    "    'batch_size': np.array([16, 32, 64, 128]),\n",
    "    #'init': ['glorot_uniform','normal','uniform']\n",
    "}\n",
    "\n",
    "scv_model = RandomizedSearchCV(estimator=estimator, param_distributions= params)\n",
    "\n",
    "scv_result = scv_model.fit(X,y)\n",
    "\n",
    "print(\"Best:%f using %s\"%(scv_result.best_score_, scv_result.best_params_))"
   ]
  },
  {
   "cell_type": "code",
   "execution_count": 19,
   "metadata": {},
   "outputs": [
    {
     "name": "stdout",
     "output_type": "stream",
     "text": [
      "Best score: 0.936446 \n",
      " using {'optimizer': 'adam', 'epochs': 25, 'batch_size': 128}\n"
     ]
    }
   ],
   "source": [
    "print(\"Best score: %f \\n using %s\"%(scv_result.best_score_, scv_result.best_params_))"
   ]
  },
  {
   "attachments": {},
   "cell_type": "markdown",
   "metadata": {},
   "source": [
    "Применим кросс-валидацию"
   ]
  },
  {
   "cell_type": "code",
   "execution_count": 20,
   "metadata": {},
   "outputs": [
    {
     "name": "stdout",
     "output_type": "stream",
     "text": [
      "[0.93513465 0.935582   0.93844502 0.93477677 0.93620828 0.93415049\n",
      " 0.93549253 0.93719245 0.93494989 0.93799213]\n"
     ]
    }
   ],
   "source": [
    "tf.keras.backend.clear_session()\n",
    "\n",
    "def get_model():\n",
    "    model = tf.keras.models.Sequential([\n",
    "        tf.keras.layers.Dense(X_train.shape[1], activation=\"relu\", input_shape=X_train.shape[1:]),\n",
    "        #tf.keras.layers.Dense(20, activation=\"relu\"),\n",
    "        tf.keras.layers.Dense(1, activation=\"sigmoid\")\n",
    "    ])\n",
    "    model.compile(loss=keras.losses.BinaryCrossentropy(),\n",
    "                  optimizer=keras.optimizers.Adam(learning_rate=0.001),\n",
    "                  metrics=keras.metrics.AUC())\n",
    "    return model\n",
    "\n",
    "kc_model = KerasClassifier(\n",
    "    model = get_model,\n",
    "    epochs=25, batch_size=128, verbose=0)\n",
    "\n",
    "kfold = StratifiedKFold(n_splits=10,shuffle=True,random_state=RANDOM_STATE)\n",
    "\n",
    "kc_results = cross_val_score(kc_model, X_train, y_train, cv=kfold)\n",
    "\n",
    "print(kc_results)"
   ]
  }
 ],
 "metadata": {
  "kernelspec": {
   "display_name": "Python 3",
   "language": "python",
   "name": "python3"
  },
  "language_info": {
   "codemirror_mode": {
    "name": "ipython",
    "version": 3
   },
   "file_extension": ".py",
   "mimetype": "text/x-python",
   "name": "python",
   "nbconvert_exporter": "python",
   "pygments_lexer": "ipython3",
   "version": "3.9.13"
  },
  "vscode": {
   "interpreter": {
    "hash": "11938c6bc6919ae2720b4d5011047913343b08a43b18698fd82dedb0d4417594"
   }
  }
 },
 "nbformat": 4,
 "nbformat_minor": 2
}
