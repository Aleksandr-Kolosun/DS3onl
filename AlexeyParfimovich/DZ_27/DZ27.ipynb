{
 "cells": [
  {
   "attachments": {},
   "cell_type": "markdown",
   "metadata": {},
   "source": [
    "## Группа DS03-onl\n",
    "\n",
    "Студент Парфимович Алексей\n",
    "\n",
    "## Домашнее задание №27\n",
    "\n",
    "#### Провести обучение нейронной сети на наборе данных notMNIST_small"
   ]
  },
  {
   "cell_type": "code",
   "execution_count": 2,
   "metadata": {},
   "outputs": [
    {
     "name": "stdout",
     "output_type": "stream",
     "text": [
      "Cuda version: 2.10.1\n",
      "Num GPUs Available:  1\n"
     ]
    }
   ],
   "source": [
    "import os\n",
    "import random\n",
    "from zipfile import ZipFile\n",
    "\n",
    "import numpy as np\n",
    "import pandas as pd\n",
    "\n",
    "from PIL import Image\n",
    "\n",
    "%matplotlib inline\n",
    "from matplotlib import pyplot as plt\n",
    "\n",
    "import warnings\n",
    "warnings.filterwarnings('ignore')\n",
    "\n",
    "import tensorflow as tf\n",
    "from tensorflow import keras\n",
    "from keras.utils import to_categorical\n",
    "\n",
    "from sklearn.utils import class_weight\n",
    "from sklearn.metrics import accuracy_score\n",
    "from sklearn.metrics import confusion_matrix, multilabel_confusion_matrix, classification_report\n",
    "\n",
    "DATA_FILE = 'notMNIST_small.zip'\n",
    "DATA_FOLDER = 'notMNIST_small'\n",
    "RANDOM_STATE = 42\n",
    "\n",
    "print('Cuda version: ' + tf.__version__)\n",
    "print(\"Num GPUs Available: \", len(tf.config.list_physical_devices('GPU')))"
   ]
  },
  {
   "attachments": {},
   "cell_type": "markdown",
   "metadata": {},
   "source": [
    "Распакуем архив с набором данных в текущий каталог,\n",
    "если каталог с данными еще не существует."
   ]
  },
  {
   "cell_type": "code",
   "execution_count": 3,
   "metadata": {},
   "outputs": [],
   "source": [
    "if not os.path.exists(DATA_FOLDER):\n",
    "    with ZipFile(DATA_FILE, 'r') as myzip:\n",
    "        myzip.extractall()"
   ]
  },
  {
   "attachments": {},
   "cell_type": "markdown",
   "metadata": {},
   "source": [
    "Проверим содержимое распакованного каталога с данными"
   ]
  },
  {
   "cell_type": "code",
   "execution_count": 4,
   "metadata": {},
   "outputs": [
    {
     "data": {
      "text/plain": [
       "['A', 'B', 'C', 'D', 'E', 'F', 'G', 'H', 'I', 'J']"
      ]
     },
     "execution_count": 4,
     "metadata": {},
     "output_type": "execute_result"
    }
   ],
   "source": [
    "# Считаем все вложенные каталоги\n",
    "dirs = os.listdir('./notMNIST_small')\n",
    "dirs"
   ]
  },
  {
   "attachments": {},
   "cell_type": "markdown",
   "metadata": {},
   "source": [
    "Отобразим произвольные 10 файлов изображений из набора данных "
   ]
  },
  {
   "cell_type": "code",
   "execution_count": 5,
   "metadata": {},
   "outputs": [
    {
     "data": {
      "image/png": "[encoded data removed]",
      "text/plain": [
       "<Figure size 800x300 with 10 Axes>"
      ]
     },
     "metadata": {},
     "output_type": "display_data"
    }
   ],
   "source": [
    "fig, ax = plt.subplots(2, 5, figsize=(8, 3))\n",
    "\n",
    "for i in range(2):\n",
    "    for j in range(5):\n",
    "        dir = random.choice(dirs)\n",
    "        file = random.choice(os.listdir(os.path.join(DATA_FOLDER, dir)))\n",
    "        ax[i, j].imshow(plt.imread(os.path.join(DATA_FOLDER, dir, file)), cmap='gray')\n",
    "        ax[i, j].set_title(dir)\n",
    "        ax[i, j].axis('off')"
   ]
  },
  {
   "attachments": {},
   "cell_type": "markdown",
   "metadata": {},
   "source": [
    "Проверим формат изображений"
   ]
  },
  {
   "cell_type": "code",
   "execution_count": 6,
   "metadata": {},
   "outputs": [
    {
     "name": "stdout",
     "output_type": "stream",
     "text": [
      "Формат изображения: PNG (28, 28) L\n"
     ]
    }
   ],
   "source": [
    "dir = dirs[0]\n",
    "file = os.listdir(os.path.join(DATA_FOLDER, dir))[0]\n",
    "image = Image.open(os.path.join(DATA_FOLDER, dir, file))\n",
    "\n",
    "print(f'Формат изображения: {image.format} {image.size} {image.mode}')"
   ]
  },
  {
   "attachments": {},
   "cell_type": "markdown",
   "metadata": {},
   "source": [
    "Выполним загрузку набора данных из файлов"
   ]
  },
  {
   "cell_type": "code",
   "execution_count": 7,
   "metadata": {},
   "outputs": [
    {
     "name": "stdout",
     "output_type": "stream",
     "text": [
      "Загружен массив изображений\n",
      " (18724, 28, 28)\n"
     ]
    }
   ],
   "source": [
    "X = []\n",
    "labels = []\n",
    "\n",
    "for dir in dirs:\n",
    "    for file in os.listdir(os.path.join(DATA_FOLDER, dir)):\n",
    "        try:\n",
    "            img = Image.open(os.path.join(DATA_FOLDER, dir, file))\n",
    "            X.append(np.asarray(img, dtype=np.float32))\n",
    "            labels.append(dir)\n",
    "        except:\n",
    "            None # Если файл не удается прочитать - пропускаем\n",
    "\n",
    "X = np.asarray(X)\n",
    "labels = np.asarray(labels)\n",
    "\n",
    "img_size = len(X[0]) # Размер изображения\n",
    "\n",
    "print(f'Загружен массив изображений\\n {X.shape}')"
   ]
  },
  {
   "cell_type": "code",
   "execution_count": 8,
   "metadata": {},
   "outputs": [
    {
     "name": "stdout",
     "output_type": "stream",
     "text": [
      "Разряженный массив целевых меток\n",
      " (18724, 10)\n"
     ]
    }
   ],
   "source": [
    "# Конвертируем целевые метки классов в разряженный массив (One-hot)\n",
    "num_classes = len(dirs)\n",
    "y = to_categorical(list(map(lambda x: ord(x)-ord('A'), labels)), num_classes=num_classes)\n",
    "\n",
    "print(f'Разряженный массив целевых меток\\n {y.shape}')"
   ]
  },
  {
   "attachments": {},
   "cell_type": "markdown",
   "metadata": {},
   "source": [
    "Подготовим обучающий и тестовые наборы данных"
   ]
  },
  {
   "cell_type": "code",
   "execution_count": 10,
   "metadata": {},
   "outputs": [],
   "source": [
    "# Перемешаем случайным образом исходные массивы изображений и меток\n",
    "indices = np.arange(X.shape[0])\n",
    "\n",
    "np.random.seed(RANDOM_STATE)\n",
    "np.random.shuffle(indices)\n",
    "X, y = X[indices], y[indices]\n",
    "\n",
    "# Выполним нормализацию значений\n",
    "X = X / 255.0\n",
    "\n",
    "# Выполним разбиение масивов на обучающий и тестовый наборы\n",
    "train_length = int(X.shape[0] * 0.7)\n",
    "X_train, X_test = X[:train_length], X[train_length:]\n",
    "y_train, y_test = y[:train_length], y[train_length:]"
   ]
  },
  {
   "attachments": {},
   "cell_type": "markdown",
   "metadata": {},
   "source": [
    "Проверим один из элементов получившихся наборов данных"
   ]
  },
  {
   "cell_type": "code",
   "execution_count": 53,
   "metadata": {},
   "outputs": [
    {
     "data": {
      "image/png": "[encoded data removed]",
      "text/plain": [
       "<Figure size 640x480 with 1 Axes>"
      ]
     },
     "metadata": {},
     "output_type": "display_data"
    }
   ],
   "source": [
    "plt.imshow(X_train[0], cmap='gray')\n",
    "plt.title(f'класс изображения {y_train[0]}');"
   ]
  },
  {
   "attachments": {},
   "cell_type": "markdown",
   "metadata": {},
   "source": [
    "Проверим распределение изображений по классам"
   ]
  },
  {
   "cell_type": "code",
   "execution_count": 11,
   "metadata": {},
   "outputs": [
    {
     "data": {
      "text/plain": [
       "{0: 0.9966539923954373,\n",
       " 1: 1.0081538461538462,\n",
       " 2: 1.0081538461538462,\n",
       " 3: 1.0231069476971115,\n",
       " 4: 0.9898791540785499,\n",
       " 5: 1.0050613496932514,\n",
       " 6: 0.9636764705882352,\n",
       " 7: 0.9951404707668945,\n",
       " 8: 1.0128284389489954,\n",
       " 9: 0.9996948893974066}"
      ]
     },
     "execution_count": 11,
     "metadata": {},
     "output_type": "execute_result"
    }
   ],
   "source": [
    "y_classes = np.argmax(y_train, axis=1)\n",
    "class_weights = class_weight.compute_class_weight(class_weight='balanced', classes=np.unique(y_classes), y=y_classes)\n",
    "class_weights = dict(enumerate(class_weights))\n",
    "\n",
    "# Веса классов\n",
    "class_weights"
   ]
  },
  {
   "cell_type": "code",
   "execution_count": 171,
   "metadata": {},
   "outputs": [
    {
     "name": "stdout",
     "output_type": "stream",
     "text": [
      "INFO:tensorflow:Assets written to: keras_model_test\\assets\n"
     ]
    },
    {
     "name": "stderr",
     "output_type": "stream",
     "text": [
      "INFO:tensorflow:Assets written to: keras_model_test\\assets\n"
     ]
    },
    {
     "name": "stdout",
     "output_type": "stream",
     "text": [
      "INFO:tensorflow:Assets written to: keras_model_test\\assets\n"
     ]
    },
    {
     "name": "stderr",
     "output_type": "stream",
     "text": [
      "INFO:tensorflow:Assets written to: keras_model_test\\assets\n"
     ]
    },
    {
     "name": "stdout",
     "output_type": "stream",
     "text": [
      "INFO:tensorflow:Assets written to: keras_model_test\\assets\n"
     ]
    },
    {
     "name": "stderr",
     "output_type": "stream",
     "text": [
      "INFO:tensorflow:Assets written to: keras_model_test\\assets\n"
     ]
    },
    {
     "name": "stdout",
     "output_type": "stream",
     "text": [
      "INFO:tensorflow:Assets written to: keras_model_test\\assets\n"
     ]
    },
    {
     "name": "stderr",
     "output_type": "stream",
     "text": [
      "INFO:tensorflow:Assets written to: keras_model_test\\assets\n"
     ]
    },
    {
     "name": "stdout",
     "output_type": "stream",
     "text": [
      "INFO:tensorflow:Assets written to: keras_model_test\\assets\n"
     ]
    },
    {
     "name": "stderr",
     "output_type": "stream",
     "text": [
      "INFO:tensorflow:Assets written to: keras_model_test\\assets\n"
     ]
    },
    {
     "name": "stdout",
     "output_type": "stream",
     "text": [
      "INFO:tensorflow:Assets written to: keras_model_test\\assets\n"
     ]
    },
    {
     "name": "stderr",
     "output_type": "stream",
     "text": [
      "INFO:tensorflow:Assets written to: keras_model_test\\assets\n"
     ]
    },
    {
     "name": "stdout",
     "output_type": "stream",
     "text": [
      "INFO:tensorflow:Assets written to: keras_model_test\\assets\n"
     ]
    },
    {
     "name": "stderr",
     "output_type": "stream",
     "text": [
      "INFO:tensorflow:Assets written to: keras_model_test\\assets\n"
     ]
    },
    {
     "name": "stdout",
     "output_type": "stream",
     "text": [
      "INFO:tensorflow:Assets written to: keras_model_test\\assets\n"
     ]
    },
    {
     "name": "stderr",
     "output_type": "stream",
     "text": [
      "INFO:tensorflow:Assets written to: keras_model_test\\assets\n"
     ]
    },
    {
     "name": "stdout",
     "output_type": "stream",
     "text": [
      "INFO:tensorflow:Assets written to: keras_model_test\\assets\n"
     ]
    },
    {
     "name": "stderr",
     "output_type": "stream",
     "text": [
      "INFO:tensorflow:Assets written to: keras_model_test\\assets\n"
     ]
    },
    {
     "name": "stdout",
     "output_type": "stream",
     "text": [
      "INFO:tensorflow:Assets written to: keras_model_test\\assets\n"
     ]
    },
    {
     "name": "stderr",
     "output_type": "stream",
     "text": [
      "INFO:tensorflow:Assets written to: keras_model_test\\assets\n"
     ]
    },
    {
     "name": "stdout",
     "output_type": "stream",
     "text": [
      "INFO:tensorflow:Assets written to: keras_model_test\\assets\n"
     ]
    },
    {
     "name": "stderr",
     "output_type": "stream",
     "text": [
      "INFO:tensorflow:Assets written to: keras_model_test\\assets\n"
     ]
    },
    {
     "name": "stdout",
     "output_type": "stream",
     "text": [
      "INFO:tensorflow:Assets written to: keras_model_test\\assets\n"
     ]
    },
    {
     "name": "stderr",
     "output_type": "stream",
     "text": [
      "INFO:tensorflow:Assets written to: keras_model_test\\assets\n"
     ]
    },
    {
     "name": "stdout",
     "output_type": "stream",
     "text": [
      "INFO:tensorflow:Assets written to: keras_model_test\\assets\n"
     ]
    },
    {
     "name": "stderr",
     "output_type": "stream",
     "text": [
      "INFO:tensorflow:Assets written to: keras_model_test\\assets\n"
     ]
    },
    {
     "name": "stdout",
     "output_type": "stream",
     "text": [
      "INFO:tensorflow:Assets written to: keras_model_test\\assets\n"
     ]
    },
    {
     "name": "stderr",
     "output_type": "stream",
     "text": [
      "INFO:tensorflow:Assets written to: keras_model_test\\assets\n"
     ]
    },
    {
     "name": "stdout",
     "output_type": "stream",
     "text": [
      "INFO:tensorflow:Assets written to: keras_model_test\\assets\n"
     ]
    },
    {
     "name": "stderr",
     "output_type": "stream",
     "text": [
      "INFO:tensorflow:Assets written to: keras_model_test\\assets\n"
     ]
    },
    {
     "name": "stdout",
     "output_type": "stream",
     "text": [
      "INFO:tensorflow:Assets written to: keras_model_test\\assets\n"
     ]
    },
    {
     "name": "stderr",
     "output_type": "stream",
     "text": [
      "INFO:tensorflow:Assets written to: keras_model_test\\assets\n"
     ]
    },
    {
     "name": "stdout",
     "output_type": "stream",
     "text": [
      "INFO:tensorflow:Assets written to: keras_model_test\\assets\n"
     ]
    },
    {
     "name": "stderr",
     "output_type": "stream",
     "text": [
      "INFO:tensorflow:Assets written to: keras_model_test\\assets\n"
     ]
    },
    {
     "name": "stdout",
     "output_type": "stream",
     "text": [
      "INFO:tensorflow:Assets written to: keras_model_test\\assets\n"
     ]
    },
    {
     "name": "stderr",
     "output_type": "stream",
     "text": [
      "INFO:tensorflow:Assets written to: keras_model_test\\assets\n"
     ]
    },
    {
     "name": "stdout",
     "output_type": "stream",
     "text": [
      "INFO:tensorflow:Assets written to: keras_model_test\\assets\n"
     ]
    },
    {
     "name": "stderr",
     "output_type": "stream",
     "text": [
      "INFO:tensorflow:Assets written to: keras_model_test\\assets\n"
     ]
    },
    {
     "name": "stdout",
     "output_type": "stream",
     "text": [
      "INFO:tensorflow:Assets written to: keras_model_test\\assets\n"
     ]
    },
    {
     "name": "stderr",
     "output_type": "stream",
     "text": [
      "INFO:tensorflow:Assets written to: keras_model_test\\assets\n"
     ]
    },
    {
     "name": "stdout",
     "output_type": "stream",
     "text": [
      "INFO:tensorflow:Assets written to: keras_model_test\\assets\n"
     ]
    },
    {
     "name": "stderr",
     "output_type": "stream",
     "text": [
      "INFO:tensorflow:Assets written to: keras_model_test\\assets\n"
     ]
    },
    {
     "name": "stdout",
     "output_type": "stream",
     "text": [
      "INFO:tensorflow:Assets written to: keras_model_test\\assets\n"
     ]
    },
    {
     "name": "stderr",
     "output_type": "stream",
     "text": [
      "INFO:tensorflow:Assets written to: keras_model_test\\assets\n"
     ]
    },
    {
     "name": "stdout",
     "output_type": "stream",
     "text": [
      "INFO:tensorflow:Assets written to: keras_model_test\\assets\n"
     ]
    },
    {
     "name": "stderr",
     "output_type": "stream",
     "text": [
      "INFO:tensorflow:Assets written to: keras_model_test\\assets\n"
     ]
    },
    {
     "name": "stdout",
     "output_type": "stream",
     "text": [
      "INFO:tensorflow:Assets written to: keras_model_test\\assets\n"
     ]
    },
    {
     "name": "stderr",
     "output_type": "stream",
     "text": [
      "INFO:tensorflow:Assets written to: keras_model_test\\assets\n"
     ]
    },
    {
     "name": "stdout",
     "output_type": "stream",
     "text": [
      "Epoch 24: early stopping\n"
     ]
    }
   ],
   "source": [
    "tf.keras.backend.clear_session()\n",
    "tf.random.set_seed(RANDOM_STATE)\n",
    "\n",
    "model = keras.models.Sequential([\n",
    "    keras.layers.Flatten(input_shape=[28, 28]),\n",
    "    keras.layers.BatchNormalization(),\n",
    "    keras.layers.Dense(512, \n",
    "                       kernel_initializer='he_normal',\n",
    "                       #kernel_initializer='lecun_normal',\n",
    "                       activation='PReLU'), # 'LeakyReLU', 'PReLU', 'ReLU', 'ThresholdedReLU'\n",
    "    keras.layers.Dense(256, \n",
    "                       kernel_initializer='he_normal',\n",
    "                       activation='PReLU'),\n",
    "    keras.layers.Dense(128, \n",
    "                       kernel_initializer='he_normal',\n",
    "                       activation='PReLU'),\n",
    "    keras.layers.Dense(num_classes, activation='softmax')\n",
    "])\n",
    "\n",
    "model.compile(loss='categorical_crossentropy', \n",
    "              optimizer=keras.optimizers.Adam(learning_rate=0.0001), \n",
    "              metrics=['categorical_accuracy'])\n",
    "\n",
    "callbacks = [\n",
    "    tf.keras.callbacks.EarlyStopping(\n",
    "        monitor='val_categorical_accuracy',\n",
    "        min_delta=1e-3,\n",
    "        patience=10,\n",
    "        verbose=1\n",
    "    ),\n",
    "    tf.keras.callbacks.ModelCheckpoint(\n",
    "        'keras_model_test',\n",
    "        monitor = 'val_categorical_accuracy',\n",
    "        save_Best_only=True,\n",
    "        verbose=0\n",
    "    )\n",
    "]\n",
    "\n",
    "#with tf.device('/cpu:0'):\n",
    "with tf.device('/gpu:0'):\n",
    "    history = model.fit(X_train, y_train, batch_size=128, epochs=50,\n",
    "                        callbacks=callbacks, \n",
    "                        validation_split=0.2, \n",
    "                        #class_weight = class_weights,\n",
    "                        verbose=0)"
   ]
  },
  {
   "cell_type": "code",
   "execution_count": 136,
   "metadata": {},
   "outputs": [
    {
     "name": "stdout",
     "output_type": "stream",
     "text": [
      "Model summary:\n",
      "Model: \"sequential\"\n",
      "_________________________________________________________________\n",
      " Layer (type)                Output Shape              Param #   \n",
      "=================================================================\n",
      " flatten (Flatten)           (None, 784)               0         \n",
      "                                                                 \n",
      " batch_normalization (BatchN  (None, 784)              3136      \n",
      " ormalization)                                                   \n",
      "                                                                 \n",
      " dense (Dense)               (None, 512)               401920    \n",
      "                                                                 \n",
      " dense_1 (Dense)             (None, 256)               131328    \n",
      "                                                                 \n",
      " dense_2 (Dense)             (None, 128)               32896     \n",
      "                                                                 \n",
      " dense_3 (Dense)             (None, 10)                1290      \n",
      "                                                                 \n",
      "=================================================================\n",
      "Total params: 570,570\n",
      "Trainable params: 569,002\n",
      "Non-trainable params: 1,568\n",
      "_________________________________________________________________\n",
      "None\n",
      "\n",
      "Model history:\n",
      "dict_keys(['loss', 'categorical_accuracy', 'val_loss', 'val_categorical_accuracy'])\n"
     ]
    }
   ],
   "source": [
    "print('Model summary:')\n",
    "print(model.summary())\n",
    "\n",
    "print('\\nModel history:')\n",
    "print(history.history.keys())"
   ]
  },
  {
   "cell_type": "code",
   "execution_count": 172,
   "metadata": {},
   "outputs": [
    {
     "name": "stdout",
     "output_type": "stream",
     "text": [
      "Accuracy на тестовых данных: 91.55%\n"
     ]
    }
   ],
   "source": [
    "scores = model.evaluate(X_test, y_test, verbose=0)\n",
    "\n",
    "print(\"Accuracy на тестовых данных: %.2f%%\" % (scores[1]*100))"
   ]
  },
  {
   "cell_type": "code",
   "execution_count": 173,
   "metadata": {},
   "outputs": [
    {
     "name": "stdout",
     "output_type": "stream",
     "text": [
      "176/176 [==============================] - 0s 2ms/step\n",
      "Accuracy:\n",
      "0.9154503381986472\n"
     ]
    }
   ],
   "source": [
    "y_pred = model.predict(X_test)\n",
    "y_pred_arg=np.argmax(y_pred, axis=1)\n",
    "y_test_arg=np.argmax(y_test, axis=1)\n",
    "\n",
    "acc = accuracy_score(y_test_arg, y_pred_arg)\n",
    "print(f'Accuracy:\\n{acc}')\n",
    "\n",
    "#cm = confusion_matrix(y_test_arg, y_pred_arg)\n",
    "#print(f'Confusion Matrix\\n{cm}')\n",
    "\n",
    "#cr = classification_report(y_test_arg, y_pred_arg)\n",
    "#print(f'Classification Report:\\n{cr}')"
   ]
  },
  {
   "cell_type": "code",
   "execution_count": 174,
   "metadata": {},
   "outputs": [
    {
     "data": {
      "image/png": "[encoded data removed]",
      "text/plain": [
       "<Figure size 640x480 with 1 Axes>"
      ]
     },
     "metadata": {},
     "output_type": "display_data"
    }
   ],
   "source": [
    "plt.plot(history.history['categorical_accuracy'], label='Точность на обучающем наборе')\n",
    "plt.plot(history.history['val_categorical_accuracy'], label='Точность на проверочном наборе')\n",
    "plt.xlabel('Эпохи')\n",
    "plt.ylabel('Точность')\n",
    "plt.legend()\n",
    "plt.show()"
   ]
  },
  {
   "cell_type": "code",
   "execution_count": 175,
   "metadata": {},
   "outputs": [
    {
     "data": {
      "image/png": "[encoded data removed]",
      "text/plain": [
       "<Figure size 640x480 with 1 Axes>"
      ]
     },
     "metadata": {},
     "output_type": "display_data"
    }
   ],
   "source": [
    "plt.plot(history.history['loss'], label='Потери на обучающем наборе')\n",
    "plt.plot(history.history['val_loss'], label='Потери на проверочном наборе')\n",
    "plt.xlabel('Эпохи')\n",
    "plt.ylabel('Потери')\n",
    "plt.legend()\n",
    "plt.show()"
   ]
  },
  {
   "cell_type": "markdown",
   "metadata": {},
   "source": []
  },
  {
   "cell_type": "code",
   "execution_count": 41,
   "metadata": {},
   "outputs": [
    {
     "name": "stdout",
     "output_type": "stream",
     "text": [
      "Epoch 1/50\n",
      "41/41 [==============================] - 1s 15ms/step - loss: 0.9129 - categorical_accuracy: 0.7609 - val_loss: 0.4661 - val_categorical_accuracy: 0.8696\n",
      "Epoch 2/50\n",
      "41/41 [==============================] - 0s 10ms/step - loss: 0.3878 - categorical_accuracy: 0.8928 - val_loss: 0.3373 - val_categorical_accuracy: 0.9047\n",
      "Epoch 3/50\n",
      "41/41 [==============================] - 0s 10ms/step - loss: 0.3070 - categorical_accuracy: 0.9122 - val_loss: 0.2958 - val_categorical_accuracy: 0.9172\n",
      "Epoch 4/50\n",
      "41/41 [==============================] - 0s 10ms/step - loss: 0.2623 - categorical_accuracy: 0.9264 - val_loss: 0.2756 - val_categorical_accuracy: 0.9268\n",
      "Epoch 5/50\n",
      "41/41 [==============================] - 0s 10ms/step - loss: 0.2275 - categorical_accuracy: 0.9368 - val_loss: 0.2679 - val_categorical_accuracy: 0.9264\n",
      "Epoch 6/50\n",
      "41/41 [==============================] - 0s 10ms/step - loss: 0.2055 - categorical_accuracy: 0.9414 - val_loss: 0.2485 - val_categorical_accuracy: 0.9325\n",
      "Epoch 7/50\n",
      "41/41 [==============================] - 0s 10ms/step - loss: 0.1892 - categorical_accuracy: 0.9452 - val_loss: 0.2483 - val_categorical_accuracy: 0.9294\n",
      "Epoch 8/50\n",
      "41/41 [==============================] - 0s 10ms/step - loss: 0.1740 - categorical_accuracy: 0.9475 - val_loss: 0.2318 - val_categorical_accuracy: 0.9363\n",
      "Epoch 9/50\n",
      "41/41 [==============================] - 0s 10ms/step - loss: 0.1648 - categorical_accuracy: 0.9517 - val_loss: 0.2343 - val_categorical_accuracy: 0.9333\n",
      "Epoch 10/50\n",
      "41/41 [==============================] - 0s 10ms/step - loss: 0.1452 - categorical_accuracy: 0.9585 - val_loss: 0.2255 - val_categorical_accuracy: 0.9397\n",
      "Epoch 11/50\n",
      "41/41 [==============================] - 0s 10ms/step - loss: 0.1368 - categorical_accuracy: 0.9576 - val_loss: 0.2272 - val_categorical_accuracy: 0.9390\n",
      "Epoch 12/50\n",
      "41/41 [==============================] - 0s 10ms/step - loss: 0.1308 - categorical_accuracy: 0.9614 - val_loss: 0.2243 - val_categorical_accuracy: 0.9378\n",
      "Epoch 13/50\n",
      "41/41 [==============================] - 0s 10ms/step - loss: 0.1188 - categorical_accuracy: 0.9660 - val_loss: 0.2372 - val_categorical_accuracy: 0.9397\n",
      "Epoch 14/50\n",
      "41/41 [==============================] - 0s 11ms/step - loss: 0.1150 - categorical_accuracy: 0.9660 - val_loss: 0.2192 - val_categorical_accuracy: 0.9413\n",
      "Epoch 15/50\n",
      "41/41 [==============================] - 0s 10ms/step - loss: 0.1135 - categorical_accuracy: 0.9647 - val_loss: 0.2135 - val_categorical_accuracy: 0.9428\n",
      "Epoch 16/50\n",
      "41/41 [==============================] - 0s 10ms/step - loss: 0.0976 - categorical_accuracy: 0.9689 - val_loss: 0.2215 - val_categorical_accuracy: 0.9348\n",
      "Epoch 17/50\n",
      "41/41 [==============================] - 0s 10ms/step - loss: 0.0896 - categorical_accuracy: 0.9724 - val_loss: 0.2191 - val_categorical_accuracy: 0.9390\n",
      "Epoch 18/50\n",
      "41/41 [==============================] - 0s 10ms/step - loss: 0.0857 - categorical_accuracy: 0.9747 - val_loss: 0.2215 - val_categorical_accuracy: 0.9424\n",
      "Epoch 19/50\n",
      "41/41 [==============================] - 0s 10ms/step - loss: 0.0772 - categorical_accuracy: 0.9774 - val_loss: 0.2431 - val_categorical_accuracy: 0.9359\n",
      "Epoch 20/50\n",
      "41/41 [==============================] - 0s 10ms/step - loss: 0.0735 - categorical_accuracy: 0.9764 - val_loss: 0.2236 - val_categorical_accuracy: 0.9420\n",
      "Epoch 20: early stopping\n"
     ]
    }
   ],
   "source": [
    "tf.keras.backend.clear_session()\n",
    "tf.random.set_seed(RANDOM_STATE)\n",
    "\n",
    "model_cnn = keras.models.Sequential([\n",
    "    keras.layers.Conv2D(filters=32, kernel_size=3, strides=1,\n",
    "                        padding='SAME', activation='relu', input_shape=(28, 28,1)),\n",
    "    keras.layers.MaxPooling2D(2, 2),\n",
    "    \n",
    "    keras.layers.Conv2D(128, (3,3), activation='relu'),\n",
    "    keras.layers.MaxPooling2D(2,2),\n",
    "    \n",
    "    keras.layers.Flatten(),\n",
    "    keras.layers.Dropout(0.5),\n",
    "    \n",
    "    keras.layers.Dense(512, activation='relu'),\n",
    "    keras.layers.Dense(num_classes, activation='softmax'),\n",
    "])\n",
    "\n",
    "model_cnn.compile(loss='categorical_crossentropy', \n",
    "              optimizer=keras.optimizers.Adam(learning_rate=0.0005), \n",
    "              metrics=['categorical_accuracy'])\n",
    "\n",
    "callbacks = [\n",
    "    tf.keras.callbacks.EarlyStopping(\n",
    "        monitor='val_categorical_accuracy',\n",
    "        min_delta=1e-3,\n",
    "        patience=5,\n",
    "        verbose=1\n",
    "    ),\n",
    "    #tf.keras.callbacks.ModelCheckpoint(\n",
    "    #    'keras_model_test',\n",
    "    #    monitor = 'val_categorical_accuracy',\n",
    "    #    save_Best_only=True,\n",
    "    #    verbose=0\n",
    "    #)\n",
    "]\n",
    "\n",
    "#with tf.device('/cpu:0'):\n",
    "with tf.device('/gpu:0'):\n",
    "    history = model_cnn.fit(X_train, y_train, batch_size=256, epochs=50,\n",
    "                        callbacks=callbacks, \n",
    "                        validation_split=0.2, \n",
    "                        #class_weight = class_weights,\n",
    "                        verbose=1)"
   ]
  },
  {
   "cell_type": "code",
   "execution_count": 37,
   "metadata": {},
   "outputs": [
    {
     "name": "stdout",
     "output_type": "stream",
     "text": [
      "Model summary:\n",
      "Model: \"sequential\"\n",
      "_________________________________________________________________\n",
      " Layer (type)                Output Shape              Param #   \n",
      "=================================================================\n",
      " conv2d (Conv2D)             (None, 28, 28, 32)        320       \n",
      "                                                                 \n",
      " max_pooling2d (MaxPooling2D  (None, 14, 14, 32)       0         \n",
      " )                                                               \n",
      "                                                                 \n",
      " conv2d_1 (Conv2D)           (None, 12, 12, 128)       36992     \n",
      "                                                                 \n",
      " max_pooling2d_1 (MaxPooling  (None, 6, 6, 128)        0         \n",
      " 2D)                                                             \n",
      "                                                                 \n",
      " flatten (Flatten)           (None, 4608)              0         \n",
      "                                                                 \n",
      " dropout (Dropout)           (None, 4608)              0         \n",
      "                                                                 \n",
      " dense (Dense)               (None, 512)               2359808   \n",
      "                                                                 \n",
      " dense_1 (Dense)             (None, 10)                5130      \n",
      "                                                                 \n",
      "=================================================================\n",
      "Total params: 2,402,250\n",
      "Trainable params: 2,402,250\n",
      "Non-trainable params: 0\n",
      "_________________________________________________________________\n",
      "None\n",
      "\n",
      "Model history:\n",
      "dict_keys(['loss', 'categorical_accuracy', 'val_loss', 'val_categorical_accuracy'])\n"
     ]
    }
   ],
   "source": [
    "print('Model summary:')\n",
    "print(model_cnn.summary())\n",
    "\n",
    "print('\\nModel history:')\n",
    "print(history.history.keys())"
   ]
  },
  {
   "cell_type": "code",
   "execution_count": 42,
   "metadata": {},
   "outputs": [
    {
     "name": "stdout",
     "output_type": "stream",
     "text": [
      "Accuracy на тестовых данных: 94.29%\n"
     ]
    }
   ],
   "source": [
    "scores = model_cnn.evaluate(X_test, y_test, verbose=0)\n",
    "\n",
    "print(\"Accuracy на тестовых данных: %.2f%%\" % (scores[1]*100))"
   ]
  },
  {
   "cell_type": "code",
   "execution_count": 43,
   "metadata": {},
   "outputs": [
    {
     "data": {
      "image/png": "[encoded data removed]",
      "text/plain": [
       "<Figure size 640x480 with 1 Axes>"
      ]
     },
     "metadata": {},
     "output_type": "display_data"
    }
   ],
   "source": [
    "plt.plot(history.history['categorical_accuracy'], label='Точность на обучающем наборе')\n",
    "plt.plot(history.history['val_categorical_accuracy'], label='Точность на проверочном наборе')\n",
    "plt.xlabel('Эпохи')\n",
    "plt.ylabel('Точность')\n",
    "plt.legend()\n",
    "plt.show()"
   ]
  },
  {
   "cell_type": "code",
   "execution_count": 44,
   "metadata": {},
   "outputs": [
    {
     "data": {
      "image/png": "[encoded data removed]",
      "text/plain": [
       "<Figure size 640x480 with 1 Axes>"
      ]
     },
     "metadata": {},
     "output_type": "display_data"
    }
   ],
   "source": [
    "plt.plot(history.history['loss'], label='Потери на обучающем наборе')\n",
    "plt.plot(history.history['val_loss'], label='Потери на проверочном наборе')\n",
    "plt.xlabel('Эпохи')\n",
    "plt.ylabel('Потери')\n",
    "plt.legend()\n",
    "plt.show()"
   ]
  }
 ],
 "metadata": {
  "kernelspec": {
   "display_name": "Python 3",
   "language": "python",
   "name": "python3"
  },
  "language_info": {
   "codemirror_mode": {
    "name": "ipython",
    "version": 3
   },
   "file_extension": ".py",
   "mimetype": "text/x-python",
   "name": "python",
   "nbconvert_exporter": "python",
   "pygments_lexer": "ipython3",
   "version": "3.9.13 (tags/v3.9.13:6de2ca5, May 17 2022, 16:36:42) [MSC v.1929 64 bit (AMD64)]"
  },
  "vscode": {
   "interpreter": {
    "hash": "11938c6bc6919ae2720b4d5011047913343b08a43b18698fd82dedb0d4417594"
   }
  }
 },
 "nbformat": 4,
 "nbformat_minor": 2
}
