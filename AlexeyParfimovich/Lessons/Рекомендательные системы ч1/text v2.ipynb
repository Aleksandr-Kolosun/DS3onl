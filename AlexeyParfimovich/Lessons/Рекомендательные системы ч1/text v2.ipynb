{
 "cells": [
  {
   "attachments": {},
   "cell_type": "markdown",
   "metadata": {},
   "source": [
    "Ассоцияция  - ```Люди, которые покупают это, скорее всего, захотят купить и то.```"
   ]
  },
  {
   "attachments": {},
   "cell_type": "markdown",
   "metadata": {},
   "source": [
    "Если вы покупаете хлеб, то с большой вероятностью купите и масло, поэтому опытный менеджер по ассортименту знает точно, что скидка на хлеб подтолкнет и продажи масла."
   ]
  },
  {
   "attachments": {},
   "cell_type": "markdown",
   "metadata": {},
   "source": [
    "### Стратегии, основанные на данных"
   ]
  },
  {
   "attachments": {},
   "cell_type": "markdown",
   "metadata": {},
   "source": [
    "Крупные розничные компании опираются на детальный анализ рыночной корзины для выявления ассоциаций между товарами. Используя эту ценную информацию, они могут применять различные стратегии для повышения своих доходов:\n",
    "\n",
    "- Ассоциированные товары размещают рядом, чтобы побудить покупателей одного продукта к приобретению другого.\n",
    "- Скидки могут применяться только к одному из ассоциированных товаров."
   ]
  },
  {
   "attachments": {},
   "cell_type": "markdown",
   "metadata": {},
   "source": [
    "### Иллюстрация базовых концепций"
   ]
  },
  {
   "attachments": {},
   "cell_type": "markdown",
   "metadata": {},
   "source": [
    "Предположим, вы открыли свой кафетерий. Как вы будете использовать навыки интеллектуального анализа данных, чтобы понять, какие из продуктов в вашем меню связаны между собой?\n",
    "\n",
    "Всего у нас есть шесть транзакций с различными покупками, которые наблюдаются в вашем кафетерии:"
   ]
  },
  {
   "attachments": {},
   "cell_type": "markdown",
   "metadata": {},
   "source": [
    "![](1.png )"
   ]
  },
  {
   "attachments": {},
   "cell_type": "markdown",
   "metadata": {},
   "source": [
    "Мы можем использовать три основных показателя, которые применяются в обучении ассоциативным правилам, а именно: ```Поддержку (Support), Доверие (Confidence) и Подъем (Lift)```."
   ]
  },
  {
   "attachments": {},
   "cell_type": "markdown",
   "metadata": {},
   "source": [
    "### Поддержка (Support)"
   ]
  },
  {
   "attachments": {},
   "cell_type": "markdown",
   "metadata": {},
   "source": [
    "Поддержка — это простая базовая вероятность того, что событие произойдет. Она измеряется долей транзакций, в которых появляется набор элементов. Говоря иначе, Support(A) — это количество транзакций, включающих A, деленное на общее количество транзакций."
   ]
  },
  {
   "attachments": {},
   "cell_type": "markdown",
   "metadata": {},
   "source": [
    "Если проанализировать приведенную выше таблицу транзакций, то поддержка для печенья составляет 3 из 6. То есть, из 6 транзакций покупки, содержащие печенье, произошли 3 раза (это составляет 50%)."
   ]
  },
  {
   "attachments": {},
   "cell_type": "markdown",
   "metadata": {},
   "source": [
    "![](p1.png )"
   ]
  },
  {
   "attachments": {},
   "cell_type": "markdown",
   "metadata": {},
   "source": [
    "Поддержка может быть реализована для нескольких продуктов одновременно. Поддержка для печенья и торта составляет 2 из 6."
   ]
  },
  {
   "attachments": {},
   "cell_type": "markdown",
   "metadata": {},
   "source": [
    "![](p2.png )"
   ]
  },
  {
   "attachments": {},
   "cell_type": "markdown",
   "metadata": {},
   "source": [
    "### Доверие (Confidence)\n",
    "Доверие к последующему событию при наличии предшествующего события можно описать с помощью условной вероятности. Проще говоря, это вероятность наступления события А при условии, что событие В уже произошло.\n",
    "\n",
    "Этот принцип можно использовать для описания вероятности покупки товара, когда другой товар уже находится в корзине. Показатель доверия измеряется путем деления доли транзакций с товарами X и Y на долю транзакций с товаром Y.\n",
    "\n",
    "Исходя из приведенной выше таблицы транзакций, доверие {cookie -> cake} ({печенье -> торт}) может быть сформулировано так, как показано ниже:"
   ]
  },
  {
   "attachments": {},
   "cell_type": "markdown",
   "metadata": {},
   "source": [
    "![](d1.png )"
   ]
  },
  {
   "attachments": {},
   "cell_type": "markdown",
   "metadata": {},
   "source": [
    "Условную вероятность также можно записать следующим образом:"
   ]
  },
  {
   "attachments": {},
   "cell_type": "markdown",
   "metadata": {},
   "source": [
    "![](d2.png )"
   ]
  },
  {
   "attachments": {},
   "cell_type": "markdown",
   "metadata": {},
   "source": [
    "Наконец, мы приходим к решению — 2 из 3. Мы бы могли понять принцип доверия на интуитивном уровне, если рассмотрели бы только транзакции с 1-й по 3-ю. Из 3 случаев покупок печенья, 2 раза его покупали вместе с тортом!"
   ]
  },
  {
   "cell_type": "code",
   "execution_count": 2,
   "metadata": {},
   "outputs": [
    {
     "data": {
      "text/plain": [
       "0.6666666666666666"
      ]
     },
     "execution_count": 2,
     "metadata": {},
     "output_type": "execute_result"
    }
   ],
   "source": [
    "(1/3)/(3/6)"
   ]
  },
  {
   "attachments": {},
   "cell_type": "markdown",
   "metadata": {},
   "source": [
    "### Подъем (Lift)\n",
    "Подъем — это отношение наблюдаемого к ожидаемому (сокращенно н/о). Показателем подъема измеряют вероятность того, что товар будет куплен при покупке другого товара, при этом учитывается популярность обоих товаров. Его можно рассчитать, разделив вероятность того, что оба товара окажутся вместе, на произведение вероятностей того, что оба товара окажутся вместе, как если бы между ними не было связи."
   ]
  },
  {
   "attachments": {},
   "cell_type": "markdown",
   "metadata": {},
   "source": [
    "![](l1.png )"
   ]
  },
  {
   "attachments": {},
   "cell_type": "markdown",
   "metadata": {},
   "source": [
    "Значение Lift, равное 1, говорит о том, что оба элемента фактически независимы и никак не связаны между собой. Любое значение Lift, превышающее 1, показывает, что связь существует. Чем выше значение, тем выше степень связи.\n",
    "\n",
    "Если мы снова взглянем на таблицу, то увидим, что подъем {cookies -> cake} равен 2, следовательно, между печеньями и тортами существует связь.\n",
    "\n",
    "Теперь, когда мы освоили основные концепции, рассмотрим алгоритм, способный генерировать наборы элементов из транзакционных данных; именно он используется для расчета правил ассоциации."
   ]
  },
  {
   "cell_type": "code",
   "execution_count": 3,
   "metadata": {},
   "outputs": [
    {
     "data": {
      "text/plain": [
       "2.0"
      ]
     },
     "execution_count": 3,
     "metadata": {},
     "output_type": "execute_result"
    }
   ],
   "source": [
    "(1/3)/((3/6)*(2/6))"
   ]
  },
  {
   "attachments": {},
   "cell_type": "markdown",
   "metadata": {},
   "source": [
    "### Алгоритм Apriori"
   ]
  },
  {
   "attachments": {},
   "cell_type": "markdown",
   "metadata": {},
   "source": [
    "Обзор<br>\n",
    "Алгоритм Apriori — один из самых популярных алгоритмов, используемых в обучении правилам ассоциаций на реляционных базах данных. Он ```определяет элементы в наборе данных и далее расширяет их на все большие и большие наборы элементов```.\n",
    "\n",
    "Однако алгоритм Apriori расширяется только в том случае, если наборы элементов являются частыми, то есть если существует вероятность того, что набор элементов превышает определенный заранее установленный порог."
   ]
  },
  {
   "attachments": {},
   "cell_type": "markdown",
   "metadata": {},
   "source": [
    "Если говорить более формально, то алгоритм Apriori предполагает следующее.\n",
    "\n",
    "Вероятность того, что набор элементов не является частым, возможна в двух случаях:\n",
    "\n",
    "- P(I) < минимального порога поддержки, где I — любой непустой набор элементов.\n",
    "- Любое подмножество в наборе элементов имеет значение меньше минимальной поддержки. <br>\n",
    "Вторая характеристика определяется как свойство антимонотонности. Вот удачный пример: ```если вероятность покупки бургера ниже минимальной поддержки, то вероятность покупки бургера и картофеля фри также будет ниже минимальной поддержки```."
   ]
  },
  {
   "attachments": {},
   "cell_type": "markdown",
   "metadata": {},
   "source": [
    "### Шаги алгоритма Apriori\n",
    "Приведенная ниже диаграмма иллюстрирует то, как алгоритм Apriori начинает построение с наименьшего набора элементов и далее продвигается вперед.\n",
    "\n",
    "- Алгоритм начинает с генерации набора элементов с помощью шага Join Step, то есть генерации набора элементов (K+1) из наборов элементов K. Например, на первой итерации алгоритм генерирует Cookie (печенье), Chocolate (шоколад) и Cake (торт).\n",
    "- Сразу после этого алгоритм переходит к шагу обрезки, то есть удаляет любой набор элементов-кандидатов, который не удовлетворяет требованию минимальной поддержки. Например, алгоритм удалит Cake, если Support(Cake) будет ниже заданного минимального значения Support. <br>\n",
    "Алгоритм повторяет оба шага до тех пор, пока не останется ни одной возможности расширения.\n",
    "<br>\n"
   ]
  },
  {
   "cell_type": "code",
   "execution_count": null,
   "metadata": {},
   "outputs": [],
   "source": []
  },
  {
   "attachments": {},
   "cell_type": "markdown",
   "metadata": {},
   "source": [
    "---"
   ]
  },
  {
   "attachments": {},
   "cell_type": "markdown",
   "metadata": {},
   "source": [
    "Набор данных содержит 38765 строк заказов на покупку в продуктовых магазинах."
   ]
  },
  {
   "cell_type": "code",
   "execution_count": 17,
   "metadata": {},
   "outputs": [
    {
     "data": {
      "text/html": [
       "<div>\n",
       "<style scoped>\n",
       "    .dataframe tbody tr th:only-of-type {\n",
       "        vertical-align: middle;\n",
       "    }\n",
       "\n",
       "    .dataframe tbody tr th {\n",
       "        vertical-align: top;\n",
       "    }\n",
       "\n",
       "    .dataframe thead th {\n",
       "        text-align: right;\n",
       "    }\n",
       "</style>\n",
       "<table border=\"1\" class=\"dataframe\">\n",
       "  <thead>\n",
       "    <tr style=\"text-align: right;\">\n",
       "      <th></th>\n",
       "      <th>Member_number</th>\n",
       "      <th>Date</th>\n",
       "      <th>itemDescription</th>\n",
       "    </tr>\n",
       "  </thead>\n",
       "  <tbody>\n",
       "    <tr>\n",
       "      <th>0</th>\n",
       "      <td>1808</td>\n",
       "      <td>21-07-2015</td>\n",
       "      <td>tropical fruit</td>\n",
       "    </tr>\n",
       "    <tr>\n",
       "      <th>1</th>\n",
       "      <td>2552</td>\n",
       "      <td>05-01-2015</td>\n",
       "      <td>whole milk</td>\n",
       "    </tr>\n",
       "    <tr>\n",
       "      <th>2</th>\n",
       "      <td>2300</td>\n",
       "      <td>19-09-2015</td>\n",
       "      <td>pip fruit</td>\n",
       "    </tr>\n",
       "    <tr>\n",
       "      <th>3</th>\n",
       "      <td>1187</td>\n",
       "      <td>12-12-2015</td>\n",
       "      <td>other vegetables</td>\n",
       "    </tr>\n",
       "    <tr>\n",
       "      <th>4</th>\n",
       "      <td>3037</td>\n",
       "      <td>01-02-2015</td>\n",
       "      <td>whole milk</td>\n",
       "    </tr>\n",
       "  </tbody>\n",
       "</table>\n",
       "</div>"
      ],
      "text/plain": [
       "   Member_number        Date   itemDescription\n",
       "0           1808  21-07-2015    tropical fruit\n",
       "1           2552  05-01-2015        whole milk\n",
       "2           2300  19-09-2015         pip fruit\n",
       "3           1187  12-12-2015  other vegetables\n",
       "4           3037  01-02-2015        whole milk"
      ]
     },
     "metadata": {},
     "output_type": "display_data"
    }
   ],
   "source": [
    "import pandas as pd\n",
    "import numpy as np \n",
    "import matplotlib.pyplot as plt\n",
    "import seaborn as sns\n",
    "import re\n",
    "from mlxtend.frequent_patterns import apriori\n",
    "from mlxtend.frequent_patterns import association_rules\n",
    "from mlxtend.preprocessing import TransactionEncoder\n",
    "from mpl_toolkits.mplot3d import Axes3D\n",
    "import networkx as nx\n",
    "\n",
    "basket = pd.read_csv(\"Groceries_dataset.csv\")\n",
    "display(basket.head())"
   ]
  },
  {
   "cell_type": "code",
   "execution_count": 18,
   "metadata": {},
   "outputs": [
    {
     "data": {
      "text/plain": [
       "(38765, 3)"
      ]
     },
     "execution_count": 18,
     "metadata": {},
     "output_type": "execute_result"
    }
   ],
   "source": [
    "basket.shape"
   ]
  },
  {
   "cell_type": "code",
   "execution_count": 20,
   "metadata": {},
   "outputs": [
    {
     "data": {
      "text/plain": [
       "167"
      ]
     },
     "execution_count": 20,
     "metadata": {},
     "output_type": "execute_result"
    }
   ],
   "source": [
    "len(basket['itemDescription'].value_counts())"
   ]
  },
  {
   "attachments": {},
   "cell_type": "markdown",
   "metadata": {},
   "source": [
    "### Группировка по транзакциям\n",
    "- Набор данных записывает покупки отдельных товаров в строку. Нам необходимо сгруппировать эти покупки по корзинам товаров.\n",
    "- После этого с помощью TransactionEncoder мы закодируем транзакции в формат, подходящий для функции Apriori."
   ]
  },
  {
   "cell_type": "code",
   "execution_count": 21,
   "metadata": {},
   "outputs": [
    {
     "data": {
      "text/html": [
       "<div>\n",
       "<style scoped>\n",
       "    .dataframe tbody tr th:only-of-type {\n",
       "        vertical-align: middle;\n",
       "    }\n",
       "\n",
       "    .dataframe tbody tr th {\n",
       "        vertical-align: top;\n",
       "    }\n",
       "\n",
       "    .dataframe thead th {\n",
       "        text-align: right;\n",
       "    }\n",
       "</style>\n",
       "<table border=\"1\" class=\"dataframe\">\n",
       "  <thead>\n",
       "    <tr style=\"text-align: right;\">\n",
       "      <th></th>\n",
       "      <th>Instant food products</th>\n",
       "      <th>UHT-milk</th>\n",
       "      <th>abrasive cleaner</th>\n",
       "      <th>artif. sweetener</th>\n",
       "      <th>baby cosmetics</th>\n",
       "      <th>bags</th>\n",
       "      <th>baking powder</th>\n",
       "      <th>bathroom cleaner</th>\n",
       "      <th>beef</th>\n",
       "      <th>berries</th>\n",
       "      <th>...</th>\n",
       "      <th>turkey</th>\n",
       "      <th>vinegar</th>\n",
       "      <th>waffles</th>\n",
       "      <th>whipped/sour cream</th>\n",
       "      <th>whisky</th>\n",
       "      <th>white bread</th>\n",
       "      <th>white wine</th>\n",
       "      <th>whole milk</th>\n",
       "      <th>yogurt</th>\n",
       "      <th>zwieback</th>\n",
       "    </tr>\n",
       "  </thead>\n",
       "  <tbody>\n",
       "    <tr>\n",
       "      <th>0</th>\n",
       "      <td>False</td>\n",
       "      <td>False</td>\n",
       "      <td>False</td>\n",
       "      <td>False</td>\n",
       "      <td>False</td>\n",
       "      <td>False</td>\n",
       "      <td>False</td>\n",
       "      <td>False</td>\n",
       "      <td>False</td>\n",
       "      <td>False</td>\n",
       "      <td>...</td>\n",
       "      <td>False</td>\n",
       "      <td>False</td>\n",
       "      <td>False</td>\n",
       "      <td>False</td>\n",
       "      <td>False</td>\n",
       "      <td>False</td>\n",
       "      <td>False</td>\n",
       "      <td>True</td>\n",
       "      <td>True</td>\n",
       "      <td>False</td>\n",
       "    </tr>\n",
       "    <tr>\n",
       "      <th>1</th>\n",
       "      <td>False</td>\n",
       "      <td>False</td>\n",
       "      <td>False</td>\n",
       "      <td>False</td>\n",
       "      <td>False</td>\n",
       "      <td>False</td>\n",
       "      <td>False</td>\n",
       "      <td>False</td>\n",
       "      <td>False</td>\n",
       "      <td>False</td>\n",
       "      <td>...</td>\n",
       "      <td>False</td>\n",
       "      <td>False</td>\n",
       "      <td>False</td>\n",
       "      <td>False</td>\n",
       "      <td>False</td>\n",
       "      <td>False</td>\n",
       "      <td>False</td>\n",
       "      <td>True</td>\n",
       "      <td>False</td>\n",
       "      <td>False</td>\n",
       "    </tr>\n",
       "    <tr>\n",
       "      <th>2</th>\n",
       "      <td>False</td>\n",
       "      <td>False</td>\n",
       "      <td>False</td>\n",
       "      <td>False</td>\n",
       "      <td>False</td>\n",
       "      <td>False</td>\n",
       "      <td>False</td>\n",
       "      <td>False</td>\n",
       "      <td>False</td>\n",
       "      <td>False</td>\n",
       "      <td>...</td>\n",
       "      <td>False</td>\n",
       "      <td>False</td>\n",
       "      <td>False</td>\n",
       "      <td>False</td>\n",
       "      <td>False</td>\n",
       "      <td>False</td>\n",
       "      <td>False</td>\n",
       "      <td>False</td>\n",
       "      <td>False</td>\n",
       "      <td>False</td>\n",
       "    </tr>\n",
       "    <tr>\n",
       "      <th>3</th>\n",
       "      <td>False</td>\n",
       "      <td>False</td>\n",
       "      <td>False</td>\n",
       "      <td>False</td>\n",
       "      <td>False</td>\n",
       "      <td>False</td>\n",
       "      <td>False</td>\n",
       "      <td>False</td>\n",
       "      <td>False</td>\n",
       "      <td>False</td>\n",
       "      <td>...</td>\n",
       "      <td>False</td>\n",
       "      <td>False</td>\n",
       "      <td>False</td>\n",
       "      <td>False</td>\n",
       "      <td>False</td>\n",
       "      <td>False</td>\n",
       "      <td>False</td>\n",
       "      <td>False</td>\n",
       "      <td>False</td>\n",
       "      <td>False</td>\n",
       "    </tr>\n",
       "    <tr>\n",
       "      <th>4</th>\n",
       "      <td>False</td>\n",
       "      <td>False</td>\n",
       "      <td>False</td>\n",
       "      <td>False</td>\n",
       "      <td>False</td>\n",
       "      <td>False</td>\n",
       "      <td>False</td>\n",
       "      <td>False</td>\n",
       "      <td>False</td>\n",
       "      <td>False</td>\n",
       "      <td>...</td>\n",
       "      <td>False</td>\n",
       "      <td>False</td>\n",
       "      <td>False</td>\n",
       "      <td>False</td>\n",
       "      <td>False</td>\n",
       "      <td>False</td>\n",
       "      <td>False</td>\n",
       "      <td>False</td>\n",
       "      <td>False</td>\n",
       "      <td>False</td>\n",
       "    </tr>\n",
       "  </tbody>\n",
       "</table>\n",
       "<p>5 rows × 167 columns</p>\n",
       "</div>"
      ],
      "text/plain": [
       "   Instant food products  UHT-milk  abrasive cleaner  artif. sweetener  \\\n",
       "0                  False     False             False             False   \n",
       "1                  False     False             False             False   \n",
       "2                  False     False             False             False   \n",
       "3                  False     False             False             False   \n",
       "4                  False     False             False             False   \n",
       "\n",
       "   baby cosmetics   bags  baking powder  bathroom cleaner   beef  berries  \\\n",
       "0           False  False          False             False  False    False   \n",
       "1           False  False          False             False  False    False   \n",
       "2           False  False          False             False  False    False   \n",
       "3           False  False          False             False  False    False   \n",
       "4           False  False          False             False  False    False   \n",
       "\n",
       "   ...  turkey  vinegar  waffles  whipped/sour cream  whisky  white bread  \\\n",
       "0  ...   False    False    False               False   False        False   \n",
       "1  ...   False    False    False               False   False        False   \n",
       "2  ...   False    False    False               False   False        False   \n",
       "3  ...   False    False    False               False   False        False   \n",
       "4  ...   False    False    False               False   False        False   \n",
       "\n",
       "   white wine  whole milk  yogurt  zwieback  \n",
       "0       False        True    True     False  \n",
       "1       False        True   False     False  \n",
       "2       False       False   False     False  \n",
       "3       False       False   False     False  \n",
       "4       False       False   False     False  \n",
       "\n",
       "[5 rows x 167 columns]"
      ]
     },
     "metadata": {},
     "output_type": "display_data"
    }
   ],
   "source": [
    "basket.itemDescription = basket.itemDescription.transform(lambda x: [x])\n",
    "basket = basket.groupby(['Member_number','Date']).sum()['itemDescription'].reset_index(drop=True)\n",
    "\n",
    "encoder = TransactionEncoder()\n",
    "transactions = pd.DataFrame(encoder.fit(basket).transform(basket), columns=encoder.columns_)\n",
    "display(transactions.head())"
   ]
  },
  {
   "cell_type": "code",
   "execution_count": 22,
   "metadata": {},
   "outputs": [
    {
     "data": {
      "text/plain": [
       "(14963, 167)"
      ]
     },
     "execution_count": 22,
     "metadata": {},
     "output_type": "execute_result"
    }
   ],
   "source": [
    "transactions.shape"
   ]
  },
  {
   "attachments": {},
   "cell_type": "markdown",
   "metadata": {},
   "source": [
    "Примечание: датафрейм записывает каждую строку как транзакцию, а товары, которые были куплены в ходе транзакции, будут записаны как True."
   ]
  },
  {
   "cell_type": "code",
   "execution_count": null,
   "metadata": {},
   "outputs": [],
   "source": []
  },
  {
   "attachments": {},
   "cell_type": "markdown",
   "metadata": {},
   "source": [
    "### Apriori и правила ассоциаций\n",
    "Алгоритм Apriori будет использоваться для генерации частых наборов элементов. Мы зададим минимальную поддержку в размере 6 из общего числа транзакций. Генерируются правила ассоциаций, и мы отфильтровываем значения Lift > 1,5."
   ]
  },
  {
   "cell_type": "code",
   "execution_count": 34,
   "metadata": {},
   "outputs": [
    {
     "data": {
      "text/html": [
       "<div>\n",
       "<style scoped>\n",
       "    .dataframe tbody tr th:only-of-type {\n",
       "        vertical-align: middle;\n",
       "    }\n",
       "\n",
       "    .dataframe tbody tr th {\n",
       "        vertical-align: top;\n",
       "    }\n",
       "\n",
       "    .dataframe thead th {\n",
       "        text-align: right;\n",
       "    }\n",
       "</style>\n",
       "<table border=\"1\" class=\"dataframe\">\n",
       "  <thead>\n",
       "    <tr style=\"text-align: right;\">\n",
       "      <th></th>\n",
       "      <th>antecedents</th>\n",
       "      <th>consequents</th>\n",
       "      <th>antecedent support</th>\n",
       "      <th>consequent support</th>\n",
       "      <th>support</th>\n",
       "      <th>confidence</th>\n",
       "      <th>lift</th>\n",
       "      <th>leverage</th>\n",
       "      <th>conviction</th>\n",
       "    </tr>\n",
       "  </thead>\n",
       "  <tbody>\n",
       "    <tr>\n",
       "      <th>0</th>\n",
       "      <td>(Instant food products)</td>\n",
       "      <td>(root vegetables)</td>\n",
       "      <td>0.004010</td>\n",
       "      <td>0.069572</td>\n",
       "      <td>0.000401</td>\n",
       "      <td>0.100000</td>\n",
       "      <td>1.437368</td>\n",
       "      <td>0.000122</td>\n",
       "      <td>1.033809</td>\n",
       "    </tr>\n",
       "    <tr>\n",
       "      <th>1</th>\n",
       "      <td>(root vegetables)</td>\n",
       "      <td>(Instant food products)</td>\n",
       "      <td>0.069572</td>\n",
       "      <td>0.004010</td>\n",
       "      <td>0.000401</td>\n",
       "      <td>0.005764</td>\n",
       "      <td>1.437368</td>\n",
       "      <td>0.000122</td>\n",
       "      <td>1.001764</td>\n",
       "    </tr>\n",
       "    <tr>\n",
       "      <th>2</th>\n",
       "      <td>(UHT-milk)</td>\n",
       "      <td>(butter milk)</td>\n",
       "      <td>0.021386</td>\n",
       "      <td>0.017577</td>\n",
       "      <td>0.000601</td>\n",
       "      <td>0.028125</td>\n",
       "      <td>1.600131</td>\n",
       "      <td>0.000226</td>\n",
       "      <td>1.010854</td>\n",
       "    </tr>\n",
       "    <tr>\n",
       "      <th>3</th>\n",
       "      <td>(butter milk)</td>\n",
       "      <td>(UHT-milk)</td>\n",
       "      <td>0.017577</td>\n",
       "      <td>0.021386</td>\n",
       "      <td>0.000601</td>\n",
       "      <td>0.034221</td>\n",
       "      <td>1.600131</td>\n",
       "      <td>0.000226</td>\n",
       "      <td>1.013289</td>\n",
       "    </tr>\n",
       "    <tr>\n",
       "      <th>4</th>\n",
       "      <td>(UHT-milk)</td>\n",
       "      <td>(cream cheese )</td>\n",
       "      <td>0.021386</td>\n",
       "      <td>0.023658</td>\n",
       "      <td>0.000869</td>\n",
       "      <td>0.040625</td>\n",
       "      <td>1.717152</td>\n",
       "      <td>0.000363</td>\n",
       "      <td>1.017685</td>\n",
       "    </tr>\n",
       "    <tr>\n",
       "      <th>5</th>\n",
       "      <td>(cream cheese )</td>\n",
       "      <td>(UHT-milk)</td>\n",
       "      <td>0.023658</td>\n",
       "      <td>0.021386</td>\n",
       "      <td>0.000869</td>\n",
       "      <td>0.036723</td>\n",
       "      <td>1.717152</td>\n",
       "      <td>0.000363</td>\n",
       "      <td>1.015922</td>\n",
       "    </tr>\n",
       "    <tr>\n",
       "      <th>6</th>\n",
       "      <td>(UHT-milk)</td>\n",
       "      <td>(salty snack)</td>\n",
       "      <td>0.021386</td>\n",
       "      <td>0.018780</td>\n",
       "      <td>0.000535</td>\n",
       "      <td>0.025000</td>\n",
       "      <td>1.331228</td>\n",
       "      <td>0.000133</td>\n",
       "      <td>1.006380</td>\n",
       "    </tr>\n",
       "    <tr>\n",
       "      <th>7</th>\n",
       "      <td>(salty snack)</td>\n",
       "      <td>(UHT-milk)</td>\n",
       "      <td>0.018780</td>\n",
       "      <td>0.021386</td>\n",
       "      <td>0.000535</td>\n",
       "      <td>0.028470</td>\n",
       "      <td>1.331228</td>\n",
       "      <td>0.000133</td>\n",
       "      <td>1.007291</td>\n",
       "    </tr>\n",
       "    <tr>\n",
       "      <th>8</th>\n",
       "      <td>(artif. sweetener)</td>\n",
       "      <td>(soda)</td>\n",
       "      <td>0.001938</td>\n",
       "      <td>0.097106</td>\n",
       "      <td>0.000468</td>\n",
       "      <td>0.241379</td>\n",
       "      <td>2.485725</td>\n",
       "      <td>0.000280</td>\n",
       "      <td>1.190178</td>\n",
       "    </tr>\n",
       "    <tr>\n",
       "      <th>9</th>\n",
       "      <td>(soda)</td>\n",
       "      <td>(artif. sweetener)</td>\n",
       "      <td>0.097106</td>\n",
       "      <td>0.001938</td>\n",
       "      <td>0.000468</td>\n",
       "      <td>0.004818</td>\n",
       "      <td>2.485725</td>\n",
       "      <td>0.000280</td>\n",
       "      <td>1.002893</td>\n",
       "    </tr>\n",
       "    <tr>\n",
       "      <th>10</th>\n",
       "      <td>(whole milk)</td>\n",
       "      <td>(artif. sweetener)</td>\n",
       "      <td>0.157923</td>\n",
       "      <td>0.001938</td>\n",
       "      <td>0.000535</td>\n",
       "      <td>0.003386</td>\n",
       "      <td>1.746815</td>\n",
       "      <td>0.000229</td>\n",
       "      <td>1.001452</td>\n",
       "    </tr>\n",
       "    <tr>\n",
       "      <th>11</th>\n",
       "      <td>(artif. sweetener)</td>\n",
       "      <td>(whole milk)</td>\n",
       "      <td>0.001938</td>\n",
       "      <td>0.157923</td>\n",
       "      <td>0.000535</td>\n",
       "      <td>0.275862</td>\n",
       "      <td>1.746815</td>\n",
       "      <td>0.000229</td>\n",
       "      <td>1.162868</td>\n",
       "    </tr>\n",
       "    <tr>\n",
       "      <th>12</th>\n",
       "      <td>(baking powder)</td>\n",
       "      <td>(bottled beer)</td>\n",
       "      <td>0.008087</td>\n",
       "      <td>0.045312</td>\n",
       "      <td>0.000535</td>\n",
       "      <td>0.066116</td>\n",
       "      <td>1.459129</td>\n",
       "      <td>0.000168</td>\n",
       "      <td>1.022277</td>\n",
       "    </tr>\n",
       "    <tr>\n",
       "      <th>13</th>\n",
       "      <td>(bottled beer)</td>\n",
       "      <td>(baking powder)</td>\n",
       "      <td>0.045312</td>\n",
       "      <td>0.008087</td>\n",
       "      <td>0.000535</td>\n",
       "      <td>0.011799</td>\n",
       "      <td>1.459129</td>\n",
       "      <td>0.000168</td>\n",
       "      <td>1.003757</td>\n",
       "    </tr>\n",
       "    <tr>\n",
       "      <th>14</th>\n",
       "      <td>(baking powder)</td>\n",
       "      <td>(canned beer)</td>\n",
       "      <td>0.008087</td>\n",
       "      <td>0.046916</td>\n",
       "      <td>0.000601</td>\n",
       "      <td>0.074380</td>\n",
       "      <td>1.585399</td>\n",
       "      <td>0.000222</td>\n",
       "      <td>1.029671</td>\n",
       "    </tr>\n",
       "    <tr>\n",
       "      <th>15</th>\n",
       "      <td>(canned beer)</td>\n",
       "      <td>(baking powder)</td>\n",
       "      <td>0.046916</td>\n",
       "      <td>0.008087</td>\n",
       "      <td>0.000601</td>\n",
       "      <td>0.012821</td>\n",
       "      <td>1.585399</td>\n",
       "      <td>0.000222</td>\n",
       "      <td>1.004795</td>\n",
       "    </tr>\n",
       "    <tr>\n",
       "      <th>16</th>\n",
       "      <td>(pastry)</td>\n",
       "      <td>(baking powder)</td>\n",
       "      <td>0.051728</td>\n",
       "      <td>0.008087</td>\n",
       "      <td>0.000535</td>\n",
       "      <td>0.010336</td>\n",
       "      <td>1.278151</td>\n",
       "      <td>0.000116</td>\n",
       "      <td>1.002273</td>\n",
       "    </tr>\n",
       "    <tr>\n",
       "      <th>17</th>\n",
       "      <td>(baking powder)</td>\n",
       "      <td>(pastry)</td>\n",
       "      <td>0.008087</td>\n",
       "      <td>0.051728</td>\n",
       "      <td>0.000535</td>\n",
       "      <td>0.066116</td>\n",
       "      <td>1.278151</td>\n",
       "      <td>0.000116</td>\n",
       "      <td>1.015407</td>\n",
       "    </tr>\n",
       "    <tr>\n",
       "      <th>18</th>\n",
       "      <td>(beef)</td>\n",
       "      <td>(brown bread)</td>\n",
       "      <td>0.033950</td>\n",
       "      <td>0.037626</td>\n",
       "      <td>0.001537</td>\n",
       "      <td>0.045276</td>\n",
       "      <td>1.203301</td>\n",
       "      <td>0.000260</td>\n",
       "      <td>1.008012</td>\n",
       "    </tr>\n",
       "    <tr>\n",
       "      <th>19</th>\n",
       "      <td>(brown bread)</td>\n",
       "      <td>(beef)</td>\n",
       "      <td>0.037626</td>\n",
       "      <td>0.033950</td>\n",
       "      <td>0.001537</td>\n",
       "      <td>0.040853</td>\n",
       "      <td>1.203301</td>\n",
       "      <td>0.000260</td>\n",
       "      <td>1.007196</td>\n",
       "    </tr>\n",
       "  </tbody>\n",
       "</table>\n",
       "</div>"
      ],
      "text/plain": [
       "                antecedents              consequents  antecedent support  \\\n",
       "0   (Instant food products)        (root vegetables)            0.004010   \n",
       "1         (root vegetables)  (Instant food products)            0.069572   \n",
       "2                (UHT-milk)            (butter milk)            0.021386   \n",
       "3             (butter milk)               (UHT-milk)            0.017577   \n",
       "4                (UHT-milk)          (cream cheese )            0.021386   \n",
       "5           (cream cheese )               (UHT-milk)            0.023658   \n",
       "6                (UHT-milk)            (salty snack)            0.021386   \n",
       "7             (salty snack)               (UHT-milk)            0.018780   \n",
       "8        (artif. sweetener)                   (soda)            0.001938   \n",
       "9                    (soda)       (artif. sweetener)            0.097106   \n",
       "10             (whole milk)       (artif. sweetener)            0.157923   \n",
       "11       (artif. sweetener)             (whole milk)            0.001938   \n",
       "12          (baking powder)           (bottled beer)            0.008087   \n",
       "13           (bottled beer)          (baking powder)            0.045312   \n",
       "14          (baking powder)            (canned beer)            0.008087   \n",
       "15            (canned beer)          (baking powder)            0.046916   \n",
       "16                 (pastry)          (baking powder)            0.051728   \n",
       "17          (baking powder)                 (pastry)            0.008087   \n",
       "18                   (beef)            (brown bread)            0.033950   \n",
       "19            (brown bread)                   (beef)            0.037626   \n",
       "\n",
       "    consequent support   support  confidence      lift  leverage  conviction  \n",
       "0             0.069572  0.000401    0.100000  1.437368  0.000122    1.033809  \n",
       "1             0.004010  0.000401    0.005764  1.437368  0.000122    1.001764  \n",
       "2             0.017577  0.000601    0.028125  1.600131  0.000226    1.010854  \n",
       "3             0.021386  0.000601    0.034221  1.600131  0.000226    1.013289  \n",
       "4             0.023658  0.000869    0.040625  1.717152  0.000363    1.017685  \n",
       "5             0.021386  0.000869    0.036723  1.717152  0.000363    1.015922  \n",
       "6             0.018780  0.000535    0.025000  1.331228  0.000133    1.006380  \n",
       "7             0.021386  0.000535    0.028470  1.331228  0.000133    1.007291  \n",
       "8             0.097106  0.000468    0.241379  2.485725  0.000280    1.190178  \n",
       "9             0.001938  0.000468    0.004818  2.485725  0.000280    1.002893  \n",
       "10            0.001938  0.000535    0.003386  1.746815  0.000229    1.001452  \n",
       "11            0.157923  0.000535    0.275862  1.746815  0.000229    1.162868  \n",
       "12            0.045312  0.000535    0.066116  1.459129  0.000168    1.022277  \n",
       "13            0.008087  0.000535    0.011799  1.459129  0.000168    1.003757  \n",
       "14            0.046916  0.000601    0.074380  1.585399  0.000222    1.029671  \n",
       "15            0.008087  0.000601    0.012821  1.585399  0.000222    1.004795  \n",
       "16            0.008087  0.000535    0.010336  1.278151  0.000116    1.002273  \n",
       "17            0.051728  0.000535    0.066116  1.278151  0.000116    1.015407  \n",
       "18            0.037626  0.001537    0.045276  1.203301  0.000260    1.008012  \n",
       "19            0.033950  0.001537    0.040853  1.203301  0.000260    1.007196  "
      ]
     },
     "metadata": {},
     "output_type": "display_data"
    },
    {
     "name": "stdout",
     "output_type": "stream",
     "text": [
      "Rules identified:  500\n"
     ]
    }
   ],
   "source": [
    "frequent_itemsets = apriori(transactions, min_support= 6/len(basket), use_colnames=True, max_len = 2)\n",
    "rules = association_rules(frequent_itemsets, metric=\"lift\",  min_threshold = 1.2)\n",
    "display(rules.head(20))\n",
    "print(\"Rules identified: \", len(rules))"
   ]
  },
  {
   "cell_type": "code",
   "execution_count": 35,
   "metadata": {},
   "outputs": [
    {
     "name": "stderr",
     "output_type": "stream",
     "text": [
      "<>:24: DeprecationWarning: invalid escape sequence \\d\n",
      "<>:24: DeprecationWarning: invalid escape sequence \\d\n",
      "C:\\Users\\BIASPA~1\\AppData\\Local\\Temp/ipykernel_22736/2256969356.py:24: DeprecationWarning: invalid escape sequence \\d\n",
      "  if re.compile(\"^[R]\\d+$\").fullmatch(node) != None:\n"
     ]
    },
    {
     "data": {
      "image/png": "[encoded data removed]",
      "text/plain": [
       "<Figure size 432x288 with 1 Axes>"
      ]
     },
     "metadata": {},
     "output_type": "display_data"
    }
   ],
   "source": [
    "def draw_network(rules, rules_to_show):\n",
    "  # Ориентированный граф от NetworkX\n",
    "  network = nx.DiGraph()\n",
    "  \n",
    "  # Перебор количества правил для отображения\n",
    "  for i in range(rules_to_show):\n",
    "    \n",
    "    # Добавление узла правила\n",
    "    network.add_nodes_from([\"R\"+str(i)])\n",
    "    for antecedents in rules.iloc[i]['antecedents']: \n",
    "        # Добавление узла-предшественника и ссылки на правило\n",
    "        network.add_nodes_from([antecedents])\n",
    "        network.add_edge(antecedents, \"R\"+str(i),  weight = 2)\n",
    "      \n",
    "    for consequents in rules.iloc[i]['consequents']:\n",
    "        # Добавление узла-последователя и ссылки на правило\n",
    "        network.add_nodes_from([consequents])\n",
    "        network.add_edge(\"R\"+str(i), consequents,  weight = 2)\n",
    "\n",
    "  color_map=[]  \n",
    "  \n",
    "  # Для каждого узла, если это правило, цвет черный, в противном случае - оранжевый.\n",
    "  for node in network:\n",
    "       if re.compile(\"^[R]\\d+$\").fullmatch(node) != None:\n",
    "            color_map.append('black')\n",
    "       else:\n",
    "            color_map.append('orange')\n",
    "  \n",
    "  # Расположение узлов с помощью spring layout\n",
    "  pos = nx.spring_layout(network, k=16, scale=1)\n",
    "  # Построение сетевого графа\n",
    "  nx.draw(network, pos, node_color = color_map, font_size=8)            \n",
    "  \n",
    "  # Сдвиг расположения текста вверх\n",
    "  for p in pos:  \n",
    "      pos[p][1] += 0.12\n",
    "\n",
    "  nx.draw_networkx_labels(network, pos)\n",
    "  plt.title(\"Network Graph for Association Rules\")\n",
    "  plt.show()\n",
    "\n",
    "draw_network(rules, 15)"
   ]
  },
  {
   "attachments": {},
   "cell_type": "markdown",
   "metadata": {},
   "source": [
    "### Применение алгоритма в бизнесе\n",
    "Допустим, владельцы магазина закупили слишком много цельного молока и теперь беспокоятся, что товар пропадет, если его не удастся вовремя распродать. Что еще хуже, рентабельность продаж цельного молока настолько низка, что они не могут позволить себе промо-скидку, не потеряв при этом большую часть прибыли."
   ]
  },
  {
   "cell_type": "code",
   "execution_count": 37,
   "metadata": {},
   "outputs": [
    {
     "data": {
      "text/html": [
       "<div>\n",
       "<style scoped>\n",
       "    .dataframe tbody tr th:only-of-type {\n",
       "        vertical-align: middle;\n",
       "    }\n",
       "\n",
       "    .dataframe tbody tr th {\n",
       "        vertical-align: top;\n",
       "    }\n",
       "\n",
       "    .dataframe thead th {\n",
       "        text-align: right;\n",
       "    }\n",
       "</style>\n",
       "<table border=\"1\" class=\"dataframe\">\n",
       "  <thead>\n",
       "    <tr style=\"text-align: right;\">\n",
       "      <th></th>\n",
       "      <th>antecedents</th>\n",
       "      <th>consequents</th>\n",
       "      <th>antecedent support</th>\n",
       "      <th>consequent support</th>\n",
       "      <th>support</th>\n",
       "      <th>confidence</th>\n",
       "      <th>lift</th>\n",
       "      <th>leverage</th>\n",
       "      <th>conviction</th>\n",
       "    </tr>\n",
       "  </thead>\n",
       "  <tbody>\n",
       "    <tr>\n",
       "      <th>0</th>\n",
       "      <td>(brandy)</td>\n",
       "      <td>(whole milk)</td>\n",
       "      <td>0.002540</td>\n",
       "      <td>0.157923</td>\n",
       "      <td>0.000869</td>\n",
       "      <td>0.342105</td>\n",
       "      <td>2.166281</td>\n",
       "      <td>0.000468</td>\n",
       "      <td>1.279957</td>\n",
       "    </tr>\n",
       "    <tr>\n",
       "      <th>1</th>\n",
       "      <td>(softener)</td>\n",
       "      <td>(whole milk)</td>\n",
       "      <td>0.002740</td>\n",
       "      <td>0.157923</td>\n",
       "      <td>0.000802</td>\n",
       "      <td>0.292683</td>\n",
       "      <td>1.853328</td>\n",
       "      <td>0.000369</td>\n",
       "      <td>1.190523</td>\n",
       "    </tr>\n",
       "    <tr>\n",
       "      <th>2</th>\n",
       "      <td>(canned fruit)</td>\n",
       "      <td>(whole milk)</td>\n",
       "      <td>0.001403</td>\n",
       "      <td>0.157923</td>\n",
       "      <td>0.000401</td>\n",
       "      <td>0.285714</td>\n",
       "      <td>1.809201</td>\n",
       "      <td>0.000179</td>\n",
       "      <td>1.178908</td>\n",
       "    </tr>\n",
       "    <tr>\n",
       "      <th>3</th>\n",
       "      <td>(syrup)</td>\n",
       "      <td>(whole milk)</td>\n",
       "      <td>0.001403</td>\n",
       "      <td>0.157923</td>\n",
       "      <td>0.000401</td>\n",
       "      <td>0.285714</td>\n",
       "      <td>1.809201</td>\n",
       "      <td>0.000179</td>\n",
       "      <td>1.178908</td>\n",
       "    </tr>\n",
       "    <tr>\n",
       "      <th>4</th>\n",
       "      <td>(artif. sweetener)</td>\n",
       "      <td>(whole milk)</td>\n",
       "      <td>0.001938</td>\n",
       "      <td>0.157923</td>\n",
       "      <td>0.000535</td>\n",
       "      <td>0.275862</td>\n",
       "      <td>1.746815</td>\n",
       "      <td>0.000229</td>\n",
       "      <td>1.162868</td>\n",
       "    </tr>\n",
       "    <tr>\n",
       "      <th>5</th>\n",
       "      <td>(house keeping products)</td>\n",
       "      <td>(whole milk)</td>\n",
       "      <td>0.003007</td>\n",
       "      <td>0.157923</td>\n",
       "      <td>0.000735</td>\n",
       "      <td>0.244444</td>\n",
       "      <td>1.547872</td>\n",
       "      <td>0.000260</td>\n",
       "      <td>1.114514</td>\n",
       "    </tr>\n",
       "    <tr>\n",
       "      <th>6</th>\n",
       "      <td>(light bulbs)</td>\n",
       "      <td>(whole milk)</td>\n",
       "      <td>0.001938</td>\n",
       "      <td>0.157923</td>\n",
       "      <td>0.000468</td>\n",
       "      <td>0.241379</td>\n",
       "      <td>1.528463</td>\n",
       "      <td>0.000162</td>\n",
       "      <td>1.110011</td>\n",
       "    </tr>\n",
       "    <tr>\n",
       "      <th>7</th>\n",
       "      <td>(finished products)</td>\n",
       "      <td>(whole milk)</td>\n",
       "      <td>0.004277</td>\n",
       "      <td>0.157923</td>\n",
       "      <td>0.000869</td>\n",
       "      <td>0.203125</td>\n",
       "      <td>1.286229</td>\n",
       "      <td>0.000193</td>\n",
       "      <td>1.056724</td>\n",
       "    </tr>\n",
       "  </tbody>\n",
       "</table>\n",
       "</div>"
      ],
      "text/plain": [
       "                antecedents   consequents  antecedent support  \\\n",
       "0                  (brandy)  (whole milk)            0.002540   \n",
       "1                (softener)  (whole milk)            0.002740   \n",
       "2            (canned fruit)  (whole milk)            0.001403   \n",
       "3                   (syrup)  (whole milk)            0.001403   \n",
       "4        (artif. sweetener)  (whole milk)            0.001938   \n",
       "5  (house keeping products)  (whole milk)            0.003007   \n",
       "6             (light bulbs)  (whole milk)            0.001938   \n",
       "7       (finished products)  (whole milk)            0.004277   \n",
       "\n",
       "   consequent support   support  confidence      lift  leverage  conviction  \n",
       "0            0.157923  0.000869    0.342105  2.166281  0.000468    1.279957  \n",
       "1            0.157923  0.000802    0.292683  1.853328  0.000369    1.190523  \n",
       "2            0.157923  0.000401    0.285714  1.809201  0.000179    1.178908  \n",
       "3            0.157923  0.000401    0.285714  1.809201  0.000179    1.178908  \n",
       "4            0.157923  0.000535    0.275862  1.746815  0.000229    1.162868  \n",
       "5            0.157923  0.000735    0.244444  1.547872  0.000260    1.114514  \n",
       "6            0.157923  0.000468    0.241379  1.528463  0.000162    1.110011  \n",
       "7            0.157923  0.000869    0.203125  1.286229  0.000193    1.056724  "
      ]
     },
     "metadata": {},
     "output_type": "display_data"
    }
   ],
   "source": [
    "milk_rules = rules[rules['consequents'].astype(str).str.contains('whole milk')]\n",
    "milk_rules = milk_rules.sort_values(by=['lift'],ascending = [False]).reset_index(drop = True)\n",
    "\n",
    "display(milk_rules.head(20))"
   ]
  },
  {
   "attachments": {},
   "cell_type": "markdown",
   "metadata": {},
   "source": [
    "Например, мы можем установить промо-скидку на бренди, размягчитель, консервированные фрукты, сироп и искусственный подсластитель. Некоторые ассоциации могут показаться контринтуитивными, но правила гласят, что эти продукты действительно стимулируют продажи цельного молока."
   ]
  },
  {
   "attachments": {},
   "cell_type": "markdown",
   "metadata": {},
   "source": [
    "Применяя алгоритм Apriori и анализируя ассоциативные связи, предприятия могут вывести десятки стратегий, основанных на данных, для повышения доходов и прибыли. Правила ассоциаций имеют решающее значение для анализа покупательского поведения в процессе поиска данных. Некоторые из наиболее важных стратегий розничной торговли, такие как анализ клиентов, анализ рыночной корзины и кластеризация продуктов, способны дать ценные сведения в тандеме с анализом правил ассоциаций."
   ]
  },
  {
   "attachments": {},
   "cell_type": "markdown",
   "metadata": {},
   "source": [
    "---"
   ]
  },
  {
   "cell_type": "code",
   "execution_count": 38,
   "metadata": {},
   "outputs": [],
   "source": [
    "#https://github.com/Microsoft/Recommenders"
   ]
  },
  {
   "cell_type": "markdown",
   "metadata": {},
   "source": []
  }
 ],
 "metadata": {
  "kernelspec": {
   "display_name": "base",
   "language": "python",
   "name": "python3"
  },
  "language_info": {
   "codemirror_mode": {
    "name": "ipython",
    "version": 3
   },
   "file_extension": ".py",
   "mimetype": "text/x-python",
   "name": "python",
   "nbconvert_exporter": "python",
   "pygments_lexer": "ipython3",
   "version": "3.9.7"
  },
  "orig_nbformat": 4,
  "vscode": {
   "interpreter": {
    "hash": "cceda5113f07d4047741cabbb211c044d7f16bbd82324456effbfb8d7e8a3a9e"
   }
  }
 },
 "nbformat": 4,
 "nbformat_minor": 2
}
