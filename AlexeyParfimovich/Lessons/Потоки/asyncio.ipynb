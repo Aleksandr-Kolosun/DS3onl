{
 "cells": [
  {
   "cell_type": "code",
   "execution_count": 2,
   "id": "30b96d98",
   "metadata": {},
   "outputs": [
    {
     "name": "stdout",
     "output_type": "stream",
     "text": [
      "One\n",
      "Two\n",
      "One\n",
      "Two\n",
      "One\n",
      "Two\n",
      "executed in 3.04 seconds.\n"
     ]
    }
   ],
   "source": [
    "import time\n",
    "\n",
    "def count():\n",
    "    print(\"One\")\n",
    "    time.sleep(1)\n",
    "    print(\"Two\")\n",
    "\n",
    "def main():\n",
    "    for _ in range(3):\n",
    "        count()\n",
    "\n",
    "if __name__ == \"__main__\":\n",
    "    s = time.perf_counter()\n",
    "    main()\n",
    "    elapsed = time.perf_counter() - s\n",
    "    print(f\"executed in {elapsed:0.2f} seconds.\")"
   ]
  },
  {
   "cell_type": "code",
   "execution_count": 4,
   "id": "2cbaa37b",
   "metadata": {},
   "outputs": [],
   "source": [
    "import nest_asyncio\n",
    "nest_asyncio.apply()"
   ]
  },
  {
   "cell_type": "code",
   "execution_count": 16,
   "id": "be013dad",
   "metadata": {},
   "outputs": [
    {
     "name": "stdout",
     "output_type": "stream",
     "text": [
      "One\n",
      "One\n",
      "Two\n",
      "Two\n",
      "executed in 1.00 seconds.\n"
     ]
    }
   ],
   "source": [
    "import asyncio\n",
    "import time\n",
    "\n",
    "async def count():\n",
    "    print(\"One\")\n",
    "    await asyncio.sleep(1)\n",
    "    print(\"Two\")\n",
    "\n",
    "async def main():\n",
    "    await asyncio.gather(count(), count())\n",
    "\n",
    "if __name__ == \"__main__\":\n",
    "    import time\n",
    "    s = time.perf_counter()\n",
    "    asyncio.run(main())\n",
    "    elapsed = time.perf_counter() - s\n",
    "    print(f\"executed in {elapsed:0.2f} seconds.\")"
   ]
  },
  {
   "cell_type": "markdown",
   "id": "50ea18d8",
   "metadata": {},
   "source": [
    "Порядок этого вывода является сердцем асинхронного ввода-вывода. Обращение к каждому из вызовов count()является одним циклом событий или координатором. Когда каждая задача достигает await asyncio.sleep(1), функция обращается к циклу событий и возвращает ему управление, говоря: «Я собираюсь заснуть на 1 секунду. Иди вперед, а пока займись чем-нибудь важным»."
   ]
  },
  {
   "cell_type": "markdown",
   "id": "be809544",
   "metadata": {},
   "source": [
    "Хотя использование time.sleep() и asyncio.sleep() может показаться банальным, они используются в качестве дублеров для любых трудоемких процессов, связанных с временем ожидания. (Самая обыденная вещь, которую вы можете ожидать, — это sleep()вызов, который в основном ничего не делает.) То есть time.sleep() может представлять любой требующий много времени вызов блокирующей функции, тогда asyncio.sleep() как используется для замены неблокирующего вызова (но такого, который также занимает некоторое время). время завершения).\n",
    "\n",
    "Как вы увидите в следующем разделе, преимущество ожидания чего-либо, в том числе asyncio.sleep(), заключается в том, что окружающая функция может временно передать управление другой функции, которая с большей готовностью может что-то сделать немедленно. Напротив, time.sleep() любой другой блокирующий вызов несовместим с асинхронным кодом Python, потому что он остановит все на своем пути на время ожидания."
   ]
  },
  {
   "cell_type": "markdown",
   "id": "aa32404f",
   "metadata": {},
   "source": [
    "## Правила асинхронного ввода-вывода\n",
    "На данный момент уместно более формальное определение async, await и функций сопрограммы, которые они создают. Этот раздел немного запутан, но овладение async/ await играет важную роль, поэтому вернитесь к нему, если вам нужно:\n",
    "\n",
    "Синтаксис async defвводит либо собственную сопрограмму , либо асинхронный генератор . Выражения async withи async forтакже допустимы, и вы увидите их позже.\n",
    "\n",
    "Ключевое слово awaitпередает управление функцией обратно в цикл обработки событий. (Он приостанавливает выполнение окружающей сопрограммы.) Если Python встречает await f() выражение в области видимости g(), вот как он awaitсообщает циклу событий: «Приостановить выполнение до тех пор, пока не будет возвращено то, g () чего я жду — результат —. f() А пока пусть работает что-то еще»."
   ]
  },
  {
   "cell_type": "code",
   "execution_count": 8,
   "id": "7bdeeff3",
   "metadata": {},
   "outputs": [],
   "source": [
    "async def f(x):\n",
    "    y = await z(x)  # OK - `await` and `return` allowed in coroutines\n",
    "    return y\n",
    "\n",
    "async def g(x):\n",
    "    yield x  # OK - this is an async generator\n",
    "\n",
    "# async def m(x):\n",
    "#     yield from gen(x)  # No - SyntaxError\n",
    "\n",
    "# def m(x):\n",
    "#     y = await z(x)  # Still no - SyntaxError (no `async def` here)\n",
    "#     return y"
   ]
  },
  {
   "cell_type": "code",
   "execution_count": 9,
   "id": "c5a1a0fc",
   "metadata": {},
   "outputs": [],
   "source": [
    "async def nested(x):\n",
    "    return x*x"
   ]
  },
  {
   "cell_type": "code",
   "execution_count": 12,
   "id": "6ee70282",
   "metadata": {},
   "outputs": [],
   "source": [
    "async def f(x):\n",
    "    y = await nested(x)  # OK - `await` and `return` allowed in coroutines\n",
    "    return y"
   ]
  },
  {
   "cell_type": "code",
   "execution_count": 13,
   "id": "38a84cbc",
   "metadata": {},
   "outputs": [
    {
     "data": {
      "text/plain": [
       "<coroutine object f at 0x00000161CAA95740>"
      ]
     },
     "execution_count": 13,
     "metadata": {},
     "output_type": "execute_result"
    }
   ],
   "source": [
    "f(5)"
   ]
  },
  {
   "cell_type": "code",
   "execution_count": 14,
   "id": "c6044dd9",
   "metadata": {},
   "outputs": [
    {
     "data": {
      "text/plain": [
       "[1, 4, 9]"
      ]
     },
     "execution_count": 14,
     "metadata": {},
     "output_type": "execute_result"
    }
   ],
   "source": [
    "await asyncio.gather(f(1), f(2), f(3))"
   ]
  },
  {
   "cell_type": "markdown",
   "id": "7f5c05c1",
   "metadata": {},
   "source": [
    "Вот один из примеров того, как асинхронный ввод-вывод сокращает время ожидания: при наличии сопрограммы makerandom(), которая продолжает создавать случайные целые числа в диапазоне [0, 10], пока одно из них не превысит пороговое значение, вы хотите, чтобы несколько вызовов этой сопрограммы не требовалось ждать, пока друг друга, чтобы завершить в последовательности. Вы можете в значительной степени следовать шаблонам из двух приведенных выше сценариев с небольшими изменениями:"
   ]
  },
  {
   "cell_type": "code",
   "execution_count": 15,
   "id": "6be86c7b",
   "metadata": {},
   "outputs": [
    {
     "name": "stdout",
     "output_type": "stream",
     "text": [
      "\u001b[36mInitiated makerandom(0).\n",
      "\u001b[36mmakerandom(0) == 4 too low; retrying.\n",
      "\u001b[91mInitiated makerandom(1).\n",
      "\u001b[91mmakerandom(1) == 4 too low; retrying.\n",
      "\u001b[35mInitiated makerandom(2).\n",
      "\u001b[35mmakerandom(2) == 0 too low; retrying.\n",
      "\u001b[36mmakerandom(0) == 4 too low; retrying.\n",
      "\u001b[91mmakerandom(1) == 7 too low; retrying.\n",
      "\u001b[36mmakerandom(0) == 4 too low; retrying.\n",
      "\u001b[35mmakerandom(2) == 4 too low; retrying.\n",
      "\u001b[36mmakerandom(0) == 8 too low; retrying.\n",
      "\u001b[91m---> Finished: makerandom(1) == 10\u001b[0m\n",
      "\u001b[36mmakerandom(0) == 7 too low; retrying.\n",
      "\u001b[36mmakerandom(0) == 8 too low; retrying.\n",
      "\u001b[35mmakerandom(2) == 4 too low; retrying.\n",
      "\u001b[36mmakerandom(0) == 7 too low; retrying.\n",
      "\u001b[36mmakerandom(0) == 1 too low; retrying.\n",
      "\u001b[36mmakerandom(0) == 6 too low; retrying.\n",
      "\u001b[35m---> Finished: makerandom(2) == 9\u001b[0m\n",
      "\u001b[36mmakerandom(0) == 3 too low; retrying.\n",
      "\u001b[36mmakerandom(0) == 9 too low; retrying.\n",
      "\u001b[36mmakerandom(0) == 7 too low; retrying.\n",
      "\u001b[36m---> Finished: makerandom(0) == 10\u001b[0m\n",
      "\n",
      "r1: 10, r2: 10, r3: 9\n"
     ]
    }
   ],
   "source": [
    "import asyncio\n",
    "import random\n",
    "\n",
    "# ANSI colors\n",
    "c = (\n",
    "    \"\\033[0m\",   # End of color\n",
    "    \"\\033[36m\",  # Cyan\n",
    "    \"\\033[91m\",  # Red\n",
    "    \"\\033[35m\",  # Magenta\n",
    ")\n",
    "\n",
    "async def makerandom(idx: int, threshold: int = 6) -> int:\n",
    "    print(c[idx + 1] + f\"Initiated makerandom({idx}).\")\n",
    "    i = random.randint(0, 10)\n",
    "    while i <= threshold:\n",
    "        print(c[idx + 1] + f\"makerandom({idx}) == {i} too low; retrying.\")\n",
    "        await asyncio.sleep(idx + 1)\n",
    "        i = random.randint(0, 10)\n",
    "    print(c[idx + 1] + f\"---> Finished: makerandom({idx}) == {i}\" + c[0])\n",
    "    return i\n",
    "\n",
    "async def main():\n",
    "    res = await asyncio.gather(*(makerandom(i, 10 - i - 1) for i in range(3)))\n",
    "    return res\n",
    "\n",
    "if __name__ == \"__main__\":\n",
    "    random.seed(444)\n",
    "    r1, r2, r3 = asyncio.run(main())\n",
    "    print()\n",
    "    print(f\"r1: {r1}, r2: {r2}, r3: {r3}\")"
   ]
  },
  {
   "cell_type": "markdown",
   "id": "9cd7958d",
   "metadata": {},
   "source": [
    "В этом миниатюрном примере пул range(3). В более полном примере, представленном ниже, это набор URL-адресов, которые необходимо запрашивать, анализировать и обрабатывать одновременно, и main()инкапсулирует всю эту процедуру для каждого URL-адреса."
   ]
  },
  {
   "cell_type": "code",
   "execution_count": 16,
   "id": "386681b1",
   "metadata": {},
   "outputs": [
    {
     "name": "stdout",
     "output_type": "stream",
     "text": [
      "part1(1) sleeping for 4 seconds.\n",
      "part1(2) sleeping for 4 seconds.\n",
      "part1(3) sleeping for 0 seconds.\n",
      "Returning part1(3) == result3-1.\n",
      "part2(3, 'result3-1') sleeping for 4 seconds.\n",
      "Returning part1(1) == result1-1.\n",
      "part2(1, 'result1-1') sleeping for 7 seconds.\n",
      "Returning part1(2) == result2-1.\n",
      "part2(2, 'result2-1') sleeping for 4 seconds.\n",
      "Returning part2(3, 'result3-1') == result3-2 derived from result3-1.\n",
      "-->Chained result3 => result3-2 derived from result3-1 (took 4.01 seconds).\n",
      "Returning part2(2, 'result2-1') == result2-2 derived from result2-1.\n",
      "-->Chained result2 => result2-2 derived from result2-1 (took 8.02 seconds).\n",
      "Returning part2(1, 'result1-1') == result1-2 derived from result1-1.\n",
      "-->Chained result1 => result1-2 derived from result1-1 (took 11.02 seconds).\n",
      "Program finished in 11.02 seconds.\n"
     ]
    }
   ],
   "source": [
    "import asyncio\n",
    "import random\n",
    "import time\n",
    "\n",
    "async def part1(n: int) -> str:\n",
    "    i = random.randint(0, 10)\n",
    "    print(f\"part1({n}) sleeping for {i} seconds.\")\n",
    "    await asyncio.sleep(i)\n",
    "    result = f\"result{n}-1\"\n",
    "    print(f\"Returning part1({n}) == {result}.\")\n",
    "    return result\n",
    "\n",
    "async def part2(n: int, arg: str) -> str:\n",
    "    i = random.randint(0, 10)\n",
    "    print(f\"part2{n, arg} sleeping for {i} seconds.\")\n",
    "    await asyncio.sleep(i)\n",
    "    result = f\"result{n}-2 derived from {arg}\"\n",
    "    print(f\"Returning part2{n, arg} == {result}.\")\n",
    "    return result\n",
    "\n",
    "async def chain(n: int) -> None:\n",
    "    start = time.perf_counter()\n",
    "    p1 = await part1(n)\n",
    "    p2 = await part2(n, p1)\n",
    "    end = time.perf_counter() - start\n",
    "    print(f\"-->Chained result{n} => {p2} (took {end:0.2f} seconds).\")\n",
    "\n",
    "async def main(*args):\n",
    "    await asyncio.gather(*(chain(n) for n in args))\n",
    "    \n",
    "\n",
    "if __name__ == \"__main__\":\n",
    "    import sys\n",
    "    random.seed(444)\n",
    "    args = [1, 2, 3] \n",
    "    start = time.perf_counter()\n",
    "    asyncio.run(main(*args))\n",
    "    end = time.perf_counter() - start\n",
    "    print(f\"Program finished in {end:0.2f} seconds.\")\n"
   ]
  }
 ],
 "metadata": {
  "kernelspec": {
   "display_name": "Python 3.9.7 64-bit",
   "language": "python",
   "name": "python3"
  },
  "language_info": {
   "codemirror_mode": {
    "name": "ipython",
    "version": 3
   },
   "file_extension": ".py",
   "mimetype": "text/x-python",
   "name": "python",
   "nbconvert_exporter": "python",
   "pygments_lexer": "ipython3",
   "version": "3.9.7"
  },
  "vscode": {
   "interpreter": {
    "hash": "cf92aa13fedf815d5c8dd192b8d835913fde3e8bc926b2a0ad6cc74ef2ba3ca2"
   }
  }
 },
 "nbformat": 4,
 "nbformat_minor": 5
}
