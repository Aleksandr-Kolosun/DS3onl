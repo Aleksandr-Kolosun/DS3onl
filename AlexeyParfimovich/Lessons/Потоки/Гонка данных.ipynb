{
 "cells": [
  {
   "cell_type": "code",
   "execution_count": 93,
   "id": "aea3bacb",
   "metadata": {},
   "outputs": [],
   "source": [
    "import threading"
   ]
  },
  {
   "cell_type": "code",
   "execution_count": 94,
   "id": "ea11eebf",
   "metadata": {},
   "outputs": [],
   "source": [
    "x = 0"
   ]
  },
  {
   "cell_type": "code",
   "execution_count": 109,
   "id": "2f785b68",
   "metadata": {},
   "outputs": [],
   "source": [
    "def increment_global():\n",
    "   global x\n",
    "   x += 1"
   ]
  },
  {
   "cell_type": "code",
   "execution_count": 110,
   "id": "3029c058",
   "metadata": {},
   "outputs": [],
   "source": [
    "def taskofThread():\n",
    "   for _ in range(50000000): #50000 -> 500000\n",
    "      increment_global()"
   ]
  },
  {
   "cell_type": "code",
   "execution_count": 111,
   "id": "cee7d1a8",
   "metadata": {},
   "outputs": [
    {
     "name": "stdout",
     "output_type": "stream",
     "text": [
      "Wall time: 6.51 s\n"
     ]
    }
   ],
   "source": [
    "%%time\n",
    "taskofThread()"
   ]
  },
  {
   "cell_type": "code",
   "execution_count": 112,
   "id": "56f85503",
   "metadata": {},
   "outputs": [
    {
     "data": {
      "text/plain": [
       "51000000"
      ]
     },
     "execution_count": 112,
     "metadata": {},
     "output_type": "execute_result"
    }
   ],
   "source": [
    "x"
   ]
  },
  {
   "cell_type": "code",
   "execution_count": 113,
   "id": "3fdc45d3",
   "metadata": {},
   "outputs": [],
   "source": [
    "def main():\n",
    "   global x\n",
    "   x = 0\n",
    "   \n",
    "   t1 = threading.Thread(target= taskofThread)\n",
    "   t2 = threading.Thread(target= taskofThread)\n",
    "\n",
    "   t1.start()\n",
    "   t2.start()\n",
    "\n",
    "   t1.join()\n",
    "   t2.join()"
   ]
  },
  {
   "cell_type": "code",
   "execution_count": 114,
   "id": "c648e8b6",
   "metadata": {},
   "outputs": [
    {
     "name": "stdout",
     "output_type": "stream",
     "text": [
      "x = 78873298 after Iteration 0\n",
      "x = 79852841 after Iteration 1\n",
      "x = 79724895 after Iteration 2\n",
      "x = 78072937 after Iteration 3\n",
      "x = 78266709 after Iteration 4\n",
      "Wall time: 1min 4s\n"
     ]
    }
   ],
   "source": [
    "%%time\n",
    "if __name__ == \"__main__\":\n",
    "   for i in range(5):\n",
    "      main()\n",
    "      print(\"x = {1} after Iteration {0}\".format(i,x))"
   ]
  },
  {
   "cell_type": "markdown",
   "id": "1f6db0d9",
   "metadata": {},
   "source": [
    "---"
   ]
  },
  {
   "cell_type": "code",
   "execution_count": 107,
   "id": "e52cdab5",
   "metadata": {},
   "outputs": [],
   "source": [
    "import threading\n",
    "\n",
    "x = 0\n",
    "\n",
    "def increment_global():\n",
    "\n",
    "   global x\n",
    "   x += 1\n",
    "\n",
    "def taskofThread(lock):\n",
    "\n",
    "   for _ in range(500000):\n",
    "      lock.acquire()\n",
    "      increment_global()\n",
    "      lock.release()\n",
    "\n",
    "def main():\n",
    "   global x\n",
    "   x = 0\n",
    "\n",
    "   lock = threading.Lock()\n",
    "   t1 = threading.Thread(target = taskofThread, args = (lock,))\n",
    "   t2 = threading.Thread(target = taskofThread, args = (lock,))\n",
    "\n",
    "   t1.start()\n",
    "   t2.start()\n",
    "\n",
    "   t1.join()\n",
    "   t2.join()"
   ]
  },
  {
   "cell_type": "code",
   "execution_count": 108,
   "id": "2832e973",
   "metadata": {},
   "outputs": [
    {
     "name": "stdout",
     "output_type": "stream",
     "text": [
      "x = 1000000 after Iteration 0\n",
      "x = 1000000 after Iteration 1\n",
      "x = 1000000 after Iteration 2\n",
      "x = 1000000 after Iteration 3\n",
      "x = 1000000 after Iteration 4\n",
      "Wall time: 2.3 s\n"
     ]
    }
   ],
   "source": [
    "%%time\n",
    "if __name__ == \"__main__\":\n",
    "   for i in range(5):\n",
    "      main()\n",
    "      print(\"x = {1} after Iteration {0}\".format(i,x))"
   ]
  }
 ],
 "metadata": {
  "kernelspec": {
   "display_name": "Python 3.9.7 64-bit",
   "language": "python",
   "name": "python3"
  },
  "language_info": {
   "codemirror_mode": {
    "name": "ipython",
    "version": 3
   },
   "file_extension": ".py",
   "mimetype": "text/x-python",
   "name": "python",
   "nbconvert_exporter": "python",
   "pygments_lexer": "ipython3",
   "version": "3.9.7"
  },
  "vscode": {
   "interpreter": {
    "hash": "cf92aa13fedf815d5c8dd192b8d835913fde3e8bc926b2a0ad6cc74ef2ba3ca2"
   }
  }
 },
 "nbformat": 4,
 "nbformat_minor": 5
}
