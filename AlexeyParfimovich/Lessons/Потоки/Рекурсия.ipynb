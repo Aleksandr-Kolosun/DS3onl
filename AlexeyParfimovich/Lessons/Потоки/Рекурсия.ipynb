{
 "cells": [
  {
   "cell_type": "code",
   "execution_count": 2,
   "id": "a0edff03",
   "metadata": {},
   "outputs": [
    {
     "name": "stdout",
     "output_type": "stream",
     "text": [
      "summ =  34\n"
     ]
    }
   ],
   "source": [
    "# Рекурсивная функция - возвращает сумму чисел во входящем наборе\n",
    "def сalc_sum_numbers(A):\n",
    "    if A == []:\n",
    "        # если набор пуст, возвратить 0\n",
    "        return 0\n",
    "    else:\n",
    "        # Вычислить сумму - прибавить первый элемент набора\n",
    "        summ = сalc_sum_numbers(A[1:]) # рекурсивный вызов этой же функции\n",
    "\n",
    "        # Прибавить к общей сумме первый элемент\n",
    "        summ = summ + A[0]\n",
    "\n",
    "        return summ\n",
    "\n",
    "# Демонстрация использования функции CalcSumNumbers()\n",
    "# 1. Создать набор чисел\n",
    "L = [ 2, 3, 8, 11, 4, 6 ]\n",
    "\n",
    "# 2. Вызвать функцию\n",
    "summ = сalc_sum_numbers(L)\n",
    "\n",
    "# 3. Распечатать сумму\n",
    "print(\"summ = \", summ)"
   ]
  },
  {
   "cell_type": "code",
   "execution_count": 3,
   "id": "fa6653c6",
   "metadata": {},
   "outputs": [
    {
     "data": {
      "text/plain": [
       "3000"
      ]
     },
     "execution_count": 3,
     "metadata": {},
     "output_type": "execute_result"
    }
   ],
   "source": [
    "import sys\n",
    "sys.getrecursionlimit()\n"
   ]
  }
 ],
 "metadata": {
  "kernelspec": {
   "display_name": "Python 3.9.7 64-bit",
   "language": "python",
   "name": "python3"
  },
  "language_info": {
   "codemirror_mode": {
    "name": "ipython",
    "version": 3
   },
   "file_extension": ".py",
   "mimetype": "text/x-python",
   "name": "python",
   "nbconvert_exporter": "python",
   "pygments_lexer": "ipython3",
   "version": "3.9.7"
  },
  "vscode": {
   "interpreter": {
    "hash": "cf92aa13fedf815d5c8dd192b8d835913fde3e8bc926b2a0ad6cc74ef2ba3ca2"
   }
  }
 },
 "nbformat": 4,
 "nbformat_minor": 5
}
