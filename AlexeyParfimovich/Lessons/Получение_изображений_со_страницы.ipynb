{
 "cells": [
  {
   "cell_type": "code",
   "execution_count": 13,
   "id": "dd715e57",
   "metadata": {},
   "outputs": [],
   "source": [
    "import requests\n",
    "from bs4 import BeautifulSoup\n",
    "\n",
    "list_url = [\"https://lenta.ru/news/2022/09/27/195jobs/\"] \n",
    "images = []\n",
    "for url in list_url:\n",
    "    response = requests.get(url)\n",
    "    soup = BeautifulSoup(response.text, features=\"html.parser\")\n",
    "    for img in soup.findAll('img'):\n",
    "        images.append(img.get('src'))\n",
    "\n",
    "    "
   ]
  },
  {
   "cell_type": "code",
   "execution_count": 14,
   "id": "a3f5cae4",
   "metadata": {},
   "outputs": [
    {
     "data": {
      "text/plain": [
       "9"
      ]
     },
     "execution_count": 14,
     "metadata": {},
     "output_type": "execute_result"
    }
   ],
   "source": [
    "len(images)"
   ]
  },
  {
   "cell_type": "code",
   "execution_count": 15,
   "id": "8b4db695",
   "metadata": {},
   "outputs": [
    {
     "data": {
      "text/plain": [
       "['https://icdn.lenta.ru/images/2022/09/27/06/20220927064623165/owl_detail_240_2c717642f1a3bfdb2cb96b91a4f7e804.jpg',\n",
       " 'https://icdn.lenta.ru/images/2022/09/27/07/20220927072500759/icon_ff073e5374e7db926b1f51d304713f64.jpg',\n",
       " 'https://icdn.lenta.ru/images/2022/09/27/07/20220927072504587/icon_ff073e5374e7db926b1f51d304713f64.jpg',\n",
       " 'https://icdn.lenta.ru/images/2022/09/26/18/20220926183318966/owl_rect_200_8817b32cc5ff1e42e7a674646ac3a84b.jpg',\n",
       " 'https://icdn.lenta.ru/images/2022/09/21/16/20220921165418970/owl_rect_200_0b8b5350e9f0126c0b585953427aae2f.jpg',\n",
       " 'https://icdn.lenta.ru/images/2022/09/23/20/20220923203615368/owl_rect_200_dbee7058955bdd293b293c2513f9faa2.jpg',\n",
       " '//mc.yandex.ru/watch/27714477',\n",
       " '//counter.rambler.ru/top100.cnt?pid=80674',\n",
       " '//www.tns-counter.ru/V13a****rambler_ru/ru/UTF-8/tmsec=lenta_most/']"
      ]
     },
     "execution_count": 15,
     "metadata": {},
     "output_type": "execute_result"
    }
   ],
   "source": [
    "images"
   ]
  },
  {
   "cell_type": "code",
   "execution_count": null,
   "id": "4764489d",
   "metadata": {},
   "outputs": [],
   "source": []
  }
 ],
 "metadata": {
  "kernelspec": {
   "display_name": "Python 3 (ipykernel)",
   "language": "python",
   "name": "python3"
  },
  "language_info": {
   "codemirror_mode": {
    "name": "ipython",
    "version": 3
   },
   "file_extension": ".py",
   "mimetype": "text/x-python",
   "name": "python",
   "nbconvert_exporter": "python",
   "pygments_lexer": "ipython3",
   "version": "3.9.7"
  }
 },
 "nbformat": 4,
 "nbformat_minor": 5
}
