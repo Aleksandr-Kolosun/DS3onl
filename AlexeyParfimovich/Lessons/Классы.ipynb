{
 "cells": [
  {
   "cell_type": "code",
   "execution_count": 70,
   "id": "9f59ec15",
   "metadata": {},
   "outputs": [],
   "source": [
    "x = 5\n",
    "y = 7\n",
    "string = \"Привет\" \n"
   ]
  },
  {
   "cell_type": "code",
   "execution_count": 71,
   "id": "564bf3f9",
   "metadata": {},
   "outputs": [],
   "source": [
    "def fu():\n",
    "    global x\n",
    "    x+=1\n",
    "    return x"
   ]
  },
  {
   "cell_type": "code",
   "execution_count": 72,
   "id": "b10f142b",
   "metadata": {},
   "outputs": [],
   "source": [
    "def fu_1(x):\n",
    "    def fu_2():\n",
    "        nonlocal x\n",
    "        x+=1\n",
    "    fu_2()\n",
    "    return x    "
   ]
  },
  {
   "cell_type": "code",
   "execution_count": 73,
   "id": "3f398800",
   "metadata": {},
   "outputs": [],
   "source": [
    "x = fu_1(x)"
   ]
  },
  {
   "cell_type": "code",
   "execution_count": 74,
   "id": "242fd1ea",
   "metadata": {},
   "outputs": [
    {
     "data": {
      "text/plain": [
       "6"
      ]
     },
     "execution_count": 74,
     "metadata": {},
     "output_type": "execute_result"
    }
   ],
   "source": [
    "x"
   ]
  },
  {
   "cell_type": "code",
   "execution_count": 56,
   "id": "5a58bb9e",
   "metadata": {},
   "outputs": [],
   "source": [
    "def fu():\n",
    "    global x\n",
    "    x+=1\n"
   ]
  },
  {
   "cell_type": "code",
   "execution_count": 58,
   "id": "7ed58e50",
   "metadata": {},
   "outputs": [
    {
     "name": "stdout",
     "output_type": "stream",
     "text": [
      "7\n",
      "8\n",
      "9\n",
      "10\n",
      "11\n",
      "12\n",
      "13\n",
      "14\n",
      "15\n",
      "16\n"
     ]
    }
   ],
   "source": [
    "for i in range(10):\n",
    "    fu()\n",
    "    print(x)"
   ]
  },
  {
   "cell_type": "markdown",
   "id": "c81859e6",
   "metadata": {},
   "source": [
    "---"
   ]
  },
  {
   "cell_type": "code",
   "execution_count": 136,
   "id": "c79c27a7",
   "metadata": {},
   "outputs": [],
   "source": [
    "config_person_free = {'name': 'ELENA',\n",
    "        'birthday': '20-06-2018',\n",
    "                     }"
   ]
  },
  {
   "cell_type": "code",
   "execution_count": null,
   "id": "366092a5",
   "metadata": {},
   "outputs": [],
   "source": []
  },
  {
   "cell_type": "code",
   "execution_count": null,
   "id": "4d7471f8",
   "metadata": {},
   "outputs": [],
   "source": []
  },
  {
   "cell_type": "code",
   "execution_count": 137,
   "id": "38aca133",
   "metadata": {},
   "outputs": [],
   "source": [
    "class Car():\n",
    "\n",
    "    COUNTER = 0\n",
    "    PRINT_COUNTER = 0\n",
    "    def __init__(self,*argv,**kwargs):  \n",
    "#         if  Car.COUNTER>2:\n",
    "#             assert False, \"Превышено максимальное число классов\"\n",
    "        self.name=argv[0] if len(argv)>0 else -9999\n",
    "        self.year=argv[1] if len(argv)>1 else -9999\n",
    "        self.price=argv[2] if len(argv)>2 else -9999\n",
    "        self.__consumer = argv[3] if len(argv)>3 else 'no consumer'\n",
    "        print(kwargs['name'])\n",
    "        print(kwargs['birthday'])\n",
    "        \n",
    "        Car.COUNTER+=1\n",
    "        \n",
    "        \n",
    "               \n",
    "    def __str__(self):\n",
    "        Car.PRINT_COUNTER +=1\n",
    "        return f\"Эта машина марки {self.name} выпущенная в {self.year} стоимостью {self.price}\"\n",
    "    \n",
    "    def __test(self):\n",
    "        print(\"Это приватный класс\")\n",
    "    \n",
    "    \n",
    "    \n",
    "        \n",
    "    @staticmethod    \n",
    "    def test_def():\n",
    "        print(\"test_def\")\n",
    "        \n",
    "    @classmethod\n",
    "    def total_objects(cls):\n",
    "        print(\"Total objects: \",cls.COUNTER)\n",
    "    \n",
    "        \n",
    "    def year_incr(self):\n",
    "        if self.year>2020:\n",
    "            print(\"Машина новая\")\n",
    "        else:\n",
    "            print(\"Машина старая\")\n",
    "    \n",
    "        \n",
    "        "
   ]
  },
  {
   "cell_type": "code",
   "execution_count": 138,
   "id": "7525c807",
   "metadata": {},
   "outputs": [],
   "source": [
    "class Driver():\n",
    "    def __init__(self,fam,adr):  \n",
    "        self.fam = fam\n",
    "        self.adr = adr\n",
    "    def get_driver_info(self):\n",
    "        print(f\"Это {self.fam} живущий {self.adr}\")\n",
    "        \n",
    "    def i_am_driver(self):\n",
    "        print(\"i_am_driver\")\n"
   ]
  },
  {
   "cell_type": "code",
   "execution_count": null,
   "id": "b450ceed",
   "metadata": {},
   "outputs": [],
   "source": [
    "class Moto(Car,Driver):\n",
    "         def __init__(self,*argv,**kwargs):  \n",
    "            Car.__init__(self,*argv,**kwargs)\n",
    "            Driver.__init__(self,'Petrov','Minsk')\n",
    "            \n",
    "            self.speed= argv[3] if len(argv)>3 else -9999\n",
    "         def __str__(self):\n",
    "            return f\"Это класс Moto {self.name} выпущенная в {self.year} стоимостью {self.price}\""
   ]
  },
  {
   "cell_type": "code",
   "execution_count": null,
   "id": "460b05f4",
   "metadata": {},
   "outputs": [],
   "source": []
  },
  {
   "cell_type": "markdown",
   "id": "b31ee93d",
   "metadata": {},
   "source": [
    "Задача: Создайте 2 класса. Класс А и класс Б. В параметры init добавьте для класса А значения имени и фамилии, для класса Б значение зарплаты и места работы. Сделайте класс С - семейное положение (число детей, их имена если есть и ФИО супруги). Реализуйте класс А, класс Б который наследуется от класса А и класс С который наследуется от А. При выводе нужно что бы печатался текст типа Иванов Ивано Иванович роидлся семейное положение дети."
   ]
  },
  {
   "cell_type": "code",
   "execution_count": 140,
   "id": "f659c4e9",
   "metadata": {},
   "outputs": [],
   "source": [
    "argv=[\"BMW\",1999,45800]"
   ]
  },
  {
   "cell_type": "code",
   "execution_count": 141,
   "id": "bda476a8",
   "metadata": {},
   "outputs": [
    {
     "name": "stdout",
     "output_type": "stream",
     "text": [
      "ELENA\n",
      "20-06-2018\n"
     ]
    }
   ],
   "source": [
    "moto = Moto(*argv,**config_person_free)"
   ]
  },
  {
   "cell_type": "code",
   "execution_count": null,
   "id": "1990440c",
   "metadata": {},
   "outputs": [],
   "source": [
    "---"
   ]
  },
  {
   "cell_type": "code",
   "execution_count": 125,
   "id": "7d22ef8d",
   "metadata": {},
   "outputs": [
    {
     "name": "stdout",
     "output_type": "stream",
     "text": [
      "test_def\n"
     ]
    }
   ],
   "source": [
    "moto.test_def()"
   ]
  },
  {
   "cell_type": "code",
   "execution_count": 126,
   "id": "6a6ac21c",
   "metadata": {},
   "outputs": [
    {
     "name": "stdout",
     "output_type": "stream",
     "text": [
      "Машина старая\n"
     ]
    }
   ],
   "source": [
    "moto.year_incr()"
   ]
  },
  {
   "cell_type": "code",
   "execution_count": 127,
   "id": "13b59ebd",
   "metadata": {},
   "outputs": [
    {
     "name": "stdout",
     "output_type": "stream",
     "text": [
      "Это класс Moto BMW выпущенная в 1999 стоимостью 45800\n"
     ]
    }
   ],
   "source": [
    "print(moto)"
   ]
  },
  {
   "cell_type": "code",
   "execution_count": 129,
   "id": "4692382c",
   "metadata": {},
   "outputs": [
    {
     "name": "stdout",
     "output_type": "stream",
     "text": [
      "Это Petrov живущий Minsk\n"
     ]
    }
   ],
   "source": [
    "moto.get_driver_info()"
   ]
  },
  {
   "cell_type": "code",
   "execution_count": null,
   "id": "3ddf5846",
   "metadata": {},
   "outputs": [],
   "source": []
  },
  {
   "cell_type": "code",
   "execution_count": 316,
   "id": "fa6eb449",
   "metadata": {},
   "outputs": [],
   "source": [
    "argv=[\"BMW\",1999,45800]"
   ]
  },
  {
   "cell_type": "code",
   "execution_count": 317,
   "id": "fc8e809f",
   "metadata": {},
   "outputs": [],
   "source": [
    "a=Car(*argv)"
   ]
  },
  {
   "cell_type": "code",
   "execution_count": 325,
   "id": "95db2068",
   "metadata": {},
   "outputs": [
    {
     "name": "stdout",
     "output_type": "stream",
     "text": [
      "Эта машина марки BMW выпущенная в 1999 стоимостью 45800\n"
     ]
    }
   ],
   "source": [
    "print(a)"
   ]
  },
  {
   "cell_type": "code",
   "execution_count": 326,
   "id": "deec4edf",
   "metadata": {},
   "outputs": [
    {
     "data": {
      "text/plain": [
       "5"
      ]
     },
     "execution_count": 326,
     "metadata": {},
     "output_type": "execute_result"
    }
   ],
   "source": [
    "a.PRINT_COUNTER"
   ]
  },
  {
   "cell_type": "code",
   "execution_count": null,
   "id": "0128426c",
   "metadata": {},
   "outputs": [],
   "source": []
  },
  {
   "cell_type": "code",
   "execution_count": 308,
   "id": "61d8f232",
   "metadata": {},
   "outputs": [
    {
     "data": {
      "text/plain": [
       "'no consumer'"
      ]
     },
     "execution_count": 308,
     "metadata": {},
     "output_type": "execute_result"
    }
   ],
   "source": [
    "a._Car__consumer"
   ]
  },
  {
   "cell_type": "code",
   "execution_count": 309,
   "id": "a2cbde1c",
   "metadata": {},
   "outputs": [
    {
     "data": {
      "text/plain": [
       "1"
      ]
     },
     "execution_count": 309,
     "metadata": {},
     "output_type": "execute_result"
    }
   ],
   "source": [
    "a.COUNTER"
   ]
  },
  {
   "cell_type": "code",
   "execution_count": 301,
   "id": "8c439631",
   "metadata": {},
   "outputs": [],
   "source": [
    "b=Car(*argv)"
   ]
  },
  {
   "cell_type": "code",
   "execution_count": 302,
   "id": "0c0739e7",
   "metadata": {},
   "outputs": [
    {
     "data": {
      "text/plain": [
       "2"
      ]
     },
     "execution_count": 302,
     "metadata": {},
     "output_type": "execute_result"
    }
   ],
   "source": [
    "b.COUNTER"
   ]
  },
  {
   "cell_type": "code",
   "execution_count": 303,
   "id": "61d1f647",
   "metadata": {},
   "outputs": [],
   "source": [
    "с=Car(*argv)"
   ]
  },
  {
   "cell_type": "code",
   "execution_count": 304,
   "id": "66038100",
   "metadata": {},
   "outputs": [
    {
     "name": "stdout",
     "output_type": "stream",
     "text": [
      "<__main__.Car object at 0x000001E3B2792760>\n"
     ]
    }
   ],
   "source": [
    "print(c)"
   ]
  },
  {
   "cell_type": "code",
   "execution_count": null,
   "id": "dfb42610",
   "metadata": {},
   "outputs": [],
   "source": []
  },
  {
   "cell_type": "code",
   "execution_count": null,
   "id": "8dde3ec7",
   "metadata": {},
   "outputs": [],
   "source": []
  },
  {
   "cell_type": "code",
   "execution_count": 274,
   "id": "56ad7326",
   "metadata": {},
   "outputs": [
    {
     "name": "stdout",
     "output_type": "stream",
     "text": [
      "Эта машина марки BMW выпущенная в 1999 стоимостью 45800\n"
     ]
    }
   ],
   "source": [
    "print(a)"
   ]
  },
  {
   "cell_type": "code",
   "execution_count": null,
   "id": "dbc3828f",
   "metadata": {},
   "outputs": [],
   "source": []
  },
  {
   "cell_type": "code",
   "execution_count": 275,
   "id": "ca0dfbe0",
   "metadata": {},
   "outputs": [],
   "source": [
    "#a= Car(\"BMW\",1999)"
   ]
  },
  {
   "cell_type": "code",
   "execution_count": 276,
   "id": "2f48ae66",
   "metadata": {},
   "outputs": [
    {
     "name": "stdout",
     "output_type": "stream",
     "text": [
      "test_def\n"
     ]
    }
   ],
   "source": [
    "a.test_def()"
   ]
  },
  {
   "cell_type": "code",
   "execution_count": 204,
   "id": "de1aa6f1",
   "metadata": {},
   "outputs": [
    {
     "data": {
      "text/plain": [
       "1999"
      ]
     },
     "execution_count": 204,
     "metadata": {},
     "output_type": "execute_result"
    }
   ],
   "source": [
    "a.year"
   ]
  },
  {
   "cell_type": "code",
   "execution_count": 205,
   "id": "d8ccc2b1",
   "metadata": {},
   "outputs": [
    {
     "data": {
      "text/plain": [
       "1999"
      ]
     },
     "execution_count": 205,
     "metadata": {},
     "output_type": "execute_result"
    }
   ],
   "source": [
    "a.year"
   ]
  },
  {
   "cell_type": "code",
   "execution_count": null,
   "id": "b2a61d2f",
   "metadata": {},
   "outputs": [],
   "source": []
  },
  {
   "cell_type": "code",
   "execution_count": null,
   "id": "de6a91e6",
   "metadata": {},
   "outputs": [],
   "source": []
  },
  {
   "cell_type": "code",
   "execution_count": 184,
   "id": "aef75589",
   "metadata": {},
   "outputs": [
    {
     "name": "stdout",
     "output_type": "stream",
     "text": [
      "Машина старая\n"
     ]
    }
   ],
   "source": [
    "a.year_incr()"
   ]
  },
  {
   "cell_type": "code",
   "execution_count": 175,
   "id": "01b8743a",
   "metadata": {},
   "outputs": [],
   "source": [
    "b = Car(\"Tesla\",2022,1)"
   ]
  },
  {
   "cell_type": "code",
   "execution_count": 176,
   "id": "c712bad0",
   "metadata": {},
   "outputs": [
    {
     "data": {
      "text/plain": [
       "2022"
      ]
     },
     "execution_count": 176,
     "metadata": {},
     "output_type": "execute_result"
    }
   ],
   "source": [
    "b.year"
   ]
  },
  {
   "cell_type": "code",
   "execution_count": 177,
   "id": "c90f1a33",
   "metadata": {},
   "outputs": [
    {
     "name": "stdout",
     "output_type": "stream",
     "text": [
      "Машина новая\n"
     ]
    }
   ],
   "source": [
    "b.year_incr()"
   ]
  },
  {
   "cell_type": "code",
   "execution_count": null,
   "id": "d97f4dac",
   "metadata": {},
   "outputs": [],
   "source": []
  },
  {
   "cell_type": "code",
   "execution_count": 126,
   "id": "03d9fad1",
   "metadata": {},
   "outputs": [],
   "source": [
    "c = Car(\"Lada\",2022)"
   ]
  },
  {
   "cell_type": "code",
   "execution_count": 127,
   "id": "676706b8",
   "metadata": {},
   "outputs": [
    {
     "name": "stdout",
     "output_type": "stream",
     "text": [
      "test_def\n"
     ]
    }
   ],
   "source": [
    "c.test_def()"
   ]
  },
  {
   "cell_type": "code",
   "execution_count": 128,
   "id": "01dee10d",
   "metadata": {},
   "outputs": [
    {
     "name": "stdout",
     "output_type": "stream",
     "text": [
      "test_def\n"
     ]
    }
   ],
   "source": [
    "Car.test_def()"
   ]
  },
  {
   "cell_type": "code",
   "execution_count": null,
   "id": "9c72b733",
   "metadata": {},
   "outputs": [],
   "source": []
  },
  {
   "cell_type": "code",
   "execution_count": null,
   "id": "64d14dd3",
   "metadata": {},
   "outputs": [],
   "source": []
  }
 ],
 "metadata": {
  "kernelspec": {
   "display_name": "Python 3 (ipykernel)",
   "language": "python",
   "name": "python3"
  },
  "language_info": {
   "codemirror_mode": {
    "name": "ipython",
    "version": 3
   },
   "file_extension": ".py",
   "mimetype": "text/x-python",
   "name": "python",
   "nbconvert_exporter": "python",
   "pygments_lexer": "ipython3",
   "version": "3.9.7"
  }
 },
 "nbformat": 4,
 "nbformat_minor": 5
}
