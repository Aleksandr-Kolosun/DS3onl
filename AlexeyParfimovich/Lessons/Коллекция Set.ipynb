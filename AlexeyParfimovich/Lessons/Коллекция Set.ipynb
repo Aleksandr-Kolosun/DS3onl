{
 "cells": [
  {
   "cell_type": "code",
   "execution_count": 34,
   "id": "7f3e5843",
   "metadata": {},
   "outputs": [],
   "source": [
    "a = set(['A','B','C','D'])"
   ]
  },
  {
   "cell_type": "code",
   "execution_count": 35,
   "id": "6de5ad04",
   "metadata": {},
   "outputs": [],
   "source": [
    "b = set(['A','B','D','S','H'])"
   ]
  },
  {
   "cell_type": "code",
   "execution_count": 67,
   "id": "3d35183e",
   "metadata": {},
   "outputs": [],
   "source": [
    "c = set(\"HJHJHGFOIUHNBG\")"
   ]
  },
  {
   "cell_type": "code",
   "execution_count": 68,
   "id": "d11504ad",
   "metadata": {},
   "outputs": [
    {
     "data": {
      "text/plain": [
       "{'B', 'F', 'G', 'H', 'I', 'J', 'N', 'O', 'U'}"
      ]
     },
     "execution_count": 68,
     "metadata": {},
     "output_type": "execute_result"
    }
   ],
   "source": [
    "c"
   ]
  },
  {
   "cell_type": "code",
   "execution_count": 69,
   "id": "fc08b705",
   "metadata": {},
   "outputs": [
    {
     "data": {
      "text/plain": [
       "{'A', 'B', 'C', 'D', 'H', 'S'}"
      ]
     },
     "execution_count": 69,
     "metadata": {},
     "output_type": "execute_result"
    }
   ],
   "source": [
    "a.union(b)"
   ]
  },
  {
   "cell_type": "code",
   "execution_count": 70,
   "id": "1bae2170",
   "metadata": {},
   "outputs": [
    {
     "data": {
      "text/plain": [
       "{'A', 'B', 'C', 'D', 'F', 'G', 'H', 'I', 'J', 'N', 'O', 'S', 'U'}"
      ]
     },
     "execution_count": 70,
     "metadata": {},
     "output_type": "execute_result"
    }
   ],
   "source": [
    "a | b | c"
   ]
  },
  {
   "cell_type": "code",
   "execution_count": 71,
   "id": "5d5654a3",
   "metadata": {},
   "outputs": [
    {
     "data": {
      "text/plain": [
       "{'A', 'B', 'D'}"
      ]
     },
     "execution_count": 71,
     "metadata": {},
     "output_type": "execute_result"
    }
   ],
   "source": [
    "a.intersection(b)"
   ]
  },
  {
   "cell_type": "code",
   "execution_count": 72,
   "id": "7a1ad368",
   "metadata": {},
   "outputs": [
    {
     "data": {
      "text/plain": [
       "{'B'}"
      ]
     },
     "execution_count": 72,
     "metadata": {},
     "output_type": "execute_result"
    }
   ],
   "source": [
    "a & c"
   ]
  },
  {
   "cell_type": "code",
   "execution_count": 73,
   "id": "2d0fc92b",
   "metadata": {},
   "outputs": [
    {
     "data": {
      "text/plain": [
       "{'A', 'C', 'D'}"
      ]
     },
     "execution_count": 73,
     "metadata": {},
     "output_type": "execute_result"
    }
   ],
   "source": [
    "a - c"
   ]
  },
  {
   "cell_type": "code",
   "execution_count": 74,
   "id": "4d282157",
   "metadata": {},
   "outputs": [
    {
     "data": {
      "text/plain": [
       "{'F', 'G', 'H', 'I', 'J', 'N', 'O', 'U'}"
      ]
     },
     "execution_count": 74,
     "metadata": {},
     "output_type": "execute_result"
    }
   ],
   "source": [
    "c.difference(a)"
   ]
  },
  {
   "cell_type": "code",
   "execution_count": 75,
   "id": "6d5fa059",
   "metadata": {},
   "outputs": [
    {
     "data": {
      "text/plain": [
       "{'C', 'H', 'S'}"
      ]
     },
     "execution_count": 75,
     "metadata": {},
     "output_type": "execute_result"
    }
   ],
   "source": [
    "a.symmetric_difference(b)"
   ]
  },
  {
   "cell_type": "code",
   "execution_count": 76,
   "id": "421a1ff1",
   "metadata": {},
   "outputs": [
    {
     "data": {
      "text/plain": [
       "['B', 'F', 'G', 'H', 'I', 'J', 'N', 'O', 'U']"
      ]
     },
     "execution_count": 76,
     "metadata": {},
     "output_type": "execute_result"
    }
   ],
   "source": [
    "sorted(c)"
   ]
  },
  {
   "cell_type": "code",
   "execution_count": 77,
   "id": "dfeacd5f",
   "metadata": {},
   "outputs": [],
   "source": [
    "import numpy as np\n",
    "c = np.random.randint(1,10, size=100)"
   ]
  },
  {
   "cell_type": "code",
   "execution_count": 78,
   "id": "68777627",
   "metadata": {},
   "outputs": [],
   "source": [
    "j = [\"Владимир Иванов\",\"Николай Петров\", \"Светнала Оринич\", \"Сатлана Иванова\"]"
   ]
  },
  {
   "cell_type": "code",
   "execution_count": 79,
   "id": "ab6db18b",
   "metadata": {},
   "outputs": [
    {
     "data": {
      "text/plain": [
       "['Владимир Иванов', 'Сатлана Иванова', 'Светнала Оринич', 'Николай Петров']"
      ]
     },
     "execution_count": 79,
     "metadata": {},
     "output_type": "execute_result"
    }
   ],
   "source": [
    "sorted(j, key = lambda x: x.split()[-1].lower())"
   ]
  },
  {
   "cell_type": "code",
   "execution_count": null,
   "id": "d3001639",
   "metadata": {},
   "outputs": [],
   "source": []
  },
  {
   "cell_type": "code",
   "execution_count": null,
   "id": "170f3274",
   "metadata": {},
   "outputs": [],
   "source": []
  },
  {
   "cell_type": "code",
   "execution_count": 24,
   "id": "e8124d5d",
   "metadata": {},
   "outputs": [
    {
     "data": {
      "text/plain": [
       "['Ivan Oetrov', 'Ivan petrov']"
      ]
     },
     "execution_count": 24,
     "metadata": {},
     "output_type": "execute_result"
    }
   ],
   "source": [
    "sorted(a,key=lambda z: z.split()[-1].lower())"
   ]
  },
  {
   "cell_type": "code",
   "execution_count": null,
   "id": "045df6d7",
   "metadata": {},
   "outputs": [],
   "source": []
  }
 ],
 "metadata": {
  "kernelspec": {
   "display_name": "Python 3 (ipykernel)",
   "language": "python",
   "name": "python3"
  },
  "language_info": {
   "codemirror_mode": {
    "name": "ipython",
    "version": 3
   },
   "file_extension": ".py",
   "mimetype": "text/x-python",
   "name": "python",
   "nbconvert_exporter": "python",
   "pygments_lexer": "ipython3",
   "version": "3.9.7"
  }
 },
 "nbformat": 4,
 "nbformat_minor": 5
}
