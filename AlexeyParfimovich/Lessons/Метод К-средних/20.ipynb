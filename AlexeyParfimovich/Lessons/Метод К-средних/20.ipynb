{
 "cells": [
  {
   "cell_type": "markdown",
   "metadata": {},
   "source": [
    "## Подсчет манхэттенского расстояния в игре \"Пятнашки\""
   ]
  },
  {
   "cell_type": "code",
   "execution_count": 1,
   "metadata": {},
   "outputs": [],
   "source": [
    "correct_position = [\n",
    "    [1, 2, 3, 4],\n",
    "    [5, 6, 7, 8],\n",
    "    [9, 10, 11, 12],\n",
    "    [13, 14, 15, 0],\n",
    "]"
   ]
  },
  {
   "cell_type": "code",
   "execution_count": 2,
   "metadata": {},
   "outputs": [],
   "source": [
    "current_position = [\n",
    "    [1, 2, 3, 4],\n",
    "    [5, 6, 7, 8],\n",
    "    [9, 10, 11, 12],\n",
    "    [13, 0, 14, 15],\n",
    "]"
   ]
  },
  {
   "cell_type": "code",
   "execution_count": 4,
   "metadata": {},
   "outputs": [],
   "source": [
    "def make_positions_dict(position):\n",
    "    \"\"\"\n",
    "    Формирование словаря координат чисел.\n",
    "    \n",
    "    Пример\n",
    "    make_positions_dict(correct_position)\n",
    "    \n",
    "    {\n",
    "        1: [1, 1],\n",
    "        2: [1, 2],\n",
    "        ...\n",
    "        14: [4, 2],\n",
    "        15: [4, 3]\n",
    "    }\n",
    "    \"\"\"\n",
    "    \n",
    "    position_dict = {}\n",
    "\n",
    "    row_number = 1\n",
    "    for row_list in position:\n",
    "\n",
    "        column_number = 1\n",
    "        for column in row_list:\n",
    "            if column != 0:\n",
    "                position_dict[column] = [row_number, column_number]\n",
    "            \n",
    "            column_number += 1\n",
    "\n",
    "        row_number += 1\n",
    "    \n",
    "    return position_dict"
   ]
  },
  {
   "cell_type": "code",
   "execution_count": 5,
   "metadata": {},
   "outputs": [
    {
     "data": {
      "text/plain": [
       "{1: [1, 1],\n",
       " 2: [1, 2],\n",
       " 3: [1, 3],\n",
       " 4: [1, 4],\n",
       " 5: [2, 1],\n",
       " 6: [2, 2],\n",
       " 7: [2, 3],\n",
       " 8: [2, 4],\n",
       " 9: [3, 1],\n",
       " 10: [3, 2],\n",
       " 11: [3, 3],\n",
       " 12: [3, 4],\n",
       " 13: [4, 1],\n",
       " 14: [4, 2],\n",
       " 15: [4, 3]}"
      ]
     },
     "execution_count": 5,
     "metadata": {},
     "output_type": "execute_result"
    }
   ],
   "source": [
    "correct_dict = make_positions_dict(correct_position)\n",
    "correct_dict"
   ]
  },
  {
   "cell_type": "code",
   "execution_count": 7,
   "metadata": {},
   "outputs": [
    {
     "data": {
      "text/plain": [
       "{1: [1, 1],\n",
       " 2: [1, 2],\n",
       " 3: [1, 3],\n",
       " 4: [1, 4],\n",
       " 5: [2, 1],\n",
       " 6: [2, 2],\n",
       " 7: [2, 3],\n",
       " 8: [2, 4],\n",
       " 9: [3, 1],\n",
       " 10: [3, 2],\n",
       " 11: [3, 3],\n",
       " 12: [3, 4],\n",
       " 13: [4, 1],\n",
       " 14: [4, 3],\n",
       " 15: [4, 4]}"
      ]
     },
     "execution_count": 7,
     "metadata": {},
     "output_type": "execute_result"
    }
   ],
   "source": [
    "current_dict = make_positions_dict(current_position)\n",
    "current_dict"
   ]
  },
  {
   "cell_type": "markdown",
   "metadata": {},
   "source": [
    "### Упражнение\n",
    "Посчитайте манхэттенское расстояние для этих позиций"
   ]
  },
  {
   "cell_type": "code",
   "execution_count": 6,
   "metadata": {},
   "outputs": [
    {
     "ename": "NameError",
     "evalue": "name 'current_dict' is not defined",
     "output_type": "error",
     "traceback": [
      "\u001b[1;31m---------------------------------------------------------------------------\u001b[0m",
      "\u001b[1;31mNameError\u001b[0m                                 Traceback (most recent call last)",
      "\u001b[1;32mC:\\Users\\BIASPA~1\\AppData\\Local\\Temp/ipykernel_11124/3128259240.py\u001b[0m in \u001b[0;36m<module>\u001b[1;34m\u001b[0m\n\u001b[0;32m      1\u001b[0m \u001b[0ml\u001b[0m \u001b[1;33m=\u001b[0m \u001b[1;36m0\u001b[0m\u001b[1;33m\u001b[0m\u001b[1;33m\u001b[0m\u001b[0m\n\u001b[1;32m----> 2\u001b[1;33m \u001b[1;32mfor\u001b[0m \u001b[0mkey\u001b[0m\u001b[1;33m,\u001b[0m \u001b[0mvalue\u001b[0m \u001b[1;32min\u001b[0m \u001b[0mcurrent_dict\u001b[0m\u001b[1;33m.\u001b[0m\u001b[0mitems\u001b[0m\u001b[1;33m(\u001b[0m\u001b[1;33m)\u001b[0m\u001b[1;33m:\u001b[0m\u001b[1;33m\u001b[0m\u001b[1;33m\u001b[0m\u001b[0m\n\u001b[0m\u001b[0;32m      3\u001b[0m     \u001b[0ml\u001b[0m \u001b[1;33m+=\u001b[0m \u001b[0mabs\u001b[0m\u001b[1;33m(\u001b[0m\u001b[0mcorrect_dict\u001b[0m\u001b[1;33m.\u001b[0m\u001b[0mget\u001b[0m\u001b[1;33m(\u001b[0m\u001b[0mkey\u001b[0m\u001b[1;33m)\u001b[0m\u001b[1;33m[\u001b[0m\u001b[1;36m0\u001b[0m\u001b[1;33m]\u001b[0m \u001b[1;33m-\u001b[0m \u001b[0mvalue\u001b[0m\u001b[1;33m[\u001b[0m\u001b[1;36m0\u001b[0m\u001b[1;33m]\u001b[0m\u001b[1;33m)\u001b[0m\u001b[1;33m\u001b[0m\u001b[1;33m\u001b[0m\u001b[0m\n\u001b[0;32m      4\u001b[0m     \u001b[0ml\u001b[0m \u001b[1;33m+=\u001b[0m \u001b[0mabs\u001b[0m\u001b[1;33m(\u001b[0m\u001b[0mcorrect_dict\u001b[0m\u001b[1;33m.\u001b[0m\u001b[0mget\u001b[0m\u001b[1;33m(\u001b[0m\u001b[0mkey\u001b[0m\u001b[1;33m)\u001b[0m\u001b[1;33m[\u001b[0m\u001b[1;36m1\u001b[0m\u001b[1;33m]\u001b[0m \u001b[1;33m-\u001b[0m \u001b[0mvalue\u001b[0m\u001b[1;33m[\u001b[0m\u001b[1;36m1\u001b[0m\u001b[1;33m]\u001b[0m\u001b[1;33m)\u001b[0m\u001b[1;33m\u001b[0m\u001b[1;33m\u001b[0m\u001b[0m\n\u001b[0;32m      5\u001b[0m \u001b[0mprint\u001b[0m\u001b[1;33m(\u001b[0m\u001b[0ml\u001b[0m\u001b[1;33m)\u001b[0m\u001b[1;33m\u001b[0m\u001b[1;33m\u001b[0m\u001b[0m\n",
      "\u001b[1;31mNameError\u001b[0m: name 'current_dict' is not defined"
     ]
    }
   ],
   "source": [
    "l = 0\n",
    "for key, value in current_dict.items():\n",
    "    l += abs(correct_dict.get(key)[0] - value[0])\n",
    "    l += abs(correct_dict.get(key)[1] - value[1])\n",
    "print(l)    "
   ]
  },
  {
   "cell_type": "code",
   "execution_count": null,
   "metadata": {},
   "outputs": [],
   "source": []
  }
 ],
 "metadata": {
  "kernelspec": {
   "display_name": "Python 3.9.7 ('base')",
   "language": "python",
   "name": "python3"
  },
  "language_info": {
   "codemirror_mode": {
    "name": "ipython",
    "version": 3
   },
   "file_extension": ".py",
   "mimetype": "text/x-python",
   "name": "python",
   "nbconvert_exporter": "python",
   "pygments_lexer": "ipython3",
   "version": "3.9.7"
  },
  "vscode": {
   "interpreter": {
    "hash": "cceda5113f07d4047741cabbb211c044d7f16bbd82324456effbfb8d7e8a3a9e"
   }
  }
 },
 "nbformat": 4,
 "nbformat_minor": 2
}
