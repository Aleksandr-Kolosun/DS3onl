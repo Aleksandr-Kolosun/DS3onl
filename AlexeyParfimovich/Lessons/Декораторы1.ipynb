{
 "cells": [
  {
   "cell_type": "markdown",
   "id": "23e306a0",
   "metadata": {},
   "source": [
    "## Функции\n",
    "Прежде чем вы сможете понять декораторы, вы должны сначала понять, как работают функции. Для наших целей функция возвращает значение на основе заданных аргументов . Вот очень простой пример:"
   ]
  },
  {
   "cell_type": "code",
   "execution_count": null,
   "id": "8e607bba",
   "metadata": {},
   "outputs": [],
   "source": [
    "def add_one(number):\n",
    "    return number + 1"
   ]
  },
  {
   "cell_type": "code",
   "execution_count": null,
   "id": "3403b889",
   "metadata": {},
   "outputs": [],
   "source": [
    "add_one_ = add_one"
   ]
  },
  {
   "cell_type": "code",
   "execution_count": null,
   "id": "e86d80da",
   "metadata": {},
   "outputs": [],
   "source": [
    "add_one_(5)"
   ]
  },
  {
   "cell_type": "code",
   "execution_count": null,
   "id": "e6157ae1",
   "metadata": {},
   "outputs": [],
   "source": [
    "gh = add_one"
   ]
  },
  {
   "cell_type": "code",
   "execution_count": null,
   "id": "b7008d77",
   "metadata": {},
   "outputs": [],
   "source": [
    "gh(78)"
   ]
  },
  {
   "cell_type": "code",
   "execution_count": null,
   "id": "98bb4d67",
   "metadata": {},
   "outputs": [],
   "source": [
    "def add_one(number):\n",
    "    return number + 1\n",
    "\n",
    "add_one(2)"
   ]
  },
  {
   "cell_type": "code",
   "execution_count": null,
   "id": "abd34775",
   "metadata": {},
   "outputs": [],
   "source": [
    "g = print(\"D\")"
   ]
  },
  {
   "cell_type": "code",
   "execution_count": null,
   "id": "9663b68e",
   "metadata": {},
   "outputs": [],
   "source": [
    "def f(x):\n",
    "    \n",
    "    \n",
    "    def h(x):\n",
    "        return x*x\n",
    "   \n",
    "    \n",
    "    return h"
   ]
  },
  {
   "cell_type": "code",
   "execution_count": null,
   "id": "dea90a1e",
   "metadata": {},
   "outputs": [],
   "source": [
    "h(5)"
   ]
  },
  {
   "cell_type": "markdown",
   "id": "99f1280e",
   "metadata": {},
   "source": [
    "В общем, функции в Python также могут иметь побочные эффекты, а не просто превращать ввод в вывод. Функция print() является основным примером этого: она возвращается None , имея побочный эффект вывода чего-то на консоль . Однако, чтобы понять декораторов, достаточно думать о функциях как о чем-то, что превращает заданные аргументы в значение."
   ]
  },
  {
   "cell_type": "markdown",
   "id": "6f410387",
   "metadata": {},
   "source": [
    "## Объекты первого класса"
   ]
  },
  {
   "cell_type": "markdown",
   "id": "2cb635e3",
   "metadata": {},
   "source": [
    "В Python функции являются первоклассными объектами . Это означает, что функции можно передавать и использовать в качестве аргументов , как и любой другой объект (строка, целое число, число с плавающей запятой, список и т. д.) . Рассмотрим следующие три функции:"
   ]
  },
  {
   "cell_type": "code",
   "execution_count": null,
   "id": "b2148819",
   "metadata": {},
   "outputs": [],
   "source": [
    "def say_hello(name):\n",
    "    return f\"Hello {name}\"\n",
    "\n",
    "def be_awesome(name):\n",
    "    return f\"Yo {name}, together we are the awesomest!\"\n",
    "\n",
    "def be_two(name):\n",
    "    return f\"Yo {name}, we two!\"\n",
    "\n",
    "def greet_bob(greeter_func):\n",
    "    return greeter_func(\"Bob\")"
   ]
  },
  {
   "cell_type": "code",
   "execution_count": null,
   "id": "2f4123b7",
   "metadata": {},
   "outputs": [],
   "source": [
    "greet_bob(be_two)"
   ]
  },
  {
   "cell_type": "markdown",
   "id": "0f7c53a9",
   "metadata": {},
   "source": [
    "Здесь say_hello()и be_awesome()— обычные функции, которые ожидают имя, заданное в виде строки. Однако greet_bob() функция ожидает функцию в качестве своего аргумента. Мы можем, например, передать его say_hello() или be_awesome() функцию:"
   ]
  },
  {
   "cell_type": "code",
   "execution_count": null,
   "id": "75aa56f2",
   "metadata": {},
   "outputs": [],
   "source": [
    "greet_bob(say_hello)"
   ]
  },
  {
   "cell_type": "code",
   "execution_count": null,
   "id": "23b77d12",
   "metadata": {},
   "outputs": [],
   "source": [
    "greet_bob(be_awesome)"
   ]
  },
  {
   "cell_type": "markdown",
   "id": "80b5a9c3",
   "metadata": {},
   "source": [
    "## Внутренние функции\n",
    "Функции можно определять внутри других функций . Такие функции называются внутренними функциями . Вот пример функции с двумя внутренними функциями:"
   ]
  },
  {
   "cell_type": "code",
   "execution_count": null,
   "id": "73fb7531",
   "metadata": {},
   "outputs": [],
   "source": [
    "h = 5\n",
    "def parent():\n",
    "    print(\"Printing from the parent() function\")\n",
    "    x = 1\n",
    "    def first_child():\n",
    "#         nonlocal x\n",
    "#         global h\n",
    "#         print(x)\n",
    "#         print(h)\n",
    "        print(\"Printing from the first_child() function\")\n",
    "\n",
    "    def second_child():\n",
    "        print(\"Printing from the second_child() function\")\n",
    "\n",
    "    second_child()\n",
    "    first_child()"
   ]
  },
  {
   "cell_type": "code",
   "execution_count": null,
   "id": "d2ea284b",
   "metadata": {},
   "outputs": [],
   "source": [
    "parent()"
   ]
  },
  {
   "cell_type": "markdown",
   "id": "c17975ad",
   "metadata": {},
   "source": [
    "Обратите внимание, что порядок определения внутренних функций не имеет значения. Как и в случае с любыми другими функциями, печать происходит только тогда, когда выполняются внутренние функции.\n",
    "\n",
    "Кроме того, внутренние функции не определены до тех пор, пока не будет вызвана родительская функция. Они имеют локальную область видимости parent(): они существуют только внутри parent() функции как локальные переменные . Попробуйте позвонить first_child(). Вы должны получить сообщение об ошибке:"
   ]
  },
  {
   "cell_type": "code",
   "execution_count": null,
   "id": "ef251b12",
   "metadata": {},
   "outputs": [],
   "source": [
    "first_child()"
   ]
  },
  {
   "cell_type": "markdown",
   "id": "2cfd2e21",
   "metadata": {},
   "source": [
    "Всякий раз, когда вы вызываете parent(), внутренние функции first_child() и second_child() также вызываются. Но из-за своей локальной области видимости они недоступны за пределами parent() функции."
   ]
  },
  {
   "cell_type": "markdown",
   "id": "4a647532",
   "metadata": {},
   "source": [
    "## Возврат функций из функций\n",
    "Python также позволяет использовать функции в качестве возвращаемых значений. Следующий пример возвращает одну из внутренних функций из внешней parent() функции:"
   ]
  },
  {
   "cell_type": "code",
   "execution_count": null,
   "id": "edf94253",
   "metadata": {},
   "outputs": [],
   "source": [
    "def parent(num):\n",
    "    def first_child():\n",
    "        return \"Hi, I am Emma\"\n",
    "\n",
    "    def second_child():\n",
    "        return \"Call me Liam\"\n",
    "\n",
    "    if num == 1:\n",
    "        return first_child\n",
    "    else:\n",
    "        return second_child"
   ]
  },
  {
   "cell_type": "markdown",
   "id": "2f043065",
   "metadata": {},
   "source": [
    "Обратите внимание, что вы возвращаете first_child без круглых скобок. Напомним, что это означает, что вы возвращаете ссылку на функцию first_child . В отличие first_child() от круглых скобок относится к результату вычисления функции. Это можно увидеть на следующем примере:"
   ]
  },
  {
   "cell_type": "code",
   "execution_count": null,
   "id": "5747906a",
   "metadata": {},
   "outputs": [],
   "source": [
    "first = parent(1)"
   ]
  },
  {
   "cell_type": "code",
   "execution_count": null,
   "id": "6aee77a8",
   "metadata": {},
   "outputs": [],
   "source": [
    "second = parent(0)"
   ]
  },
  {
   "cell_type": "code",
   "execution_count": null,
   "id": "8efb47fd",
   "metadata": {},
   "outputs": [],
   "source": [
    "first()"
   ]
  },
  {
   "cell_type": "code",
   "execution_count": null,
   "id": "80736bf8",
   "metadata": {},
   "outputs": [],
   "source": [
    "second()"
   ]
  },
  {
   "cell_type": "markdown",
   "id": "99fe8c26",
   "metadata": {},
   "source": [
    "Теперь вы можете использовать firstи secondкак если бы они были обычными функциями, хотя функции, на которые они указывают, не могут быть доступны напрямую:"
   ]
  },
  {
   "cell_type": "code",
   "execution_count": null,
   "id": "750d63f7",
   "metadata": {},
   "outputs": [],
   "source": [
    "first = parent(1)\n",
    "second = parent(2)"
   ]
  },
  {
   "cell_type": "code",
   "execution_count": null,
   "id": "a63a1a54",
   "metadata": {},
   "outputs": [],
   "source": [
    "first()"
   ]
  },
  {
   "cell_type": "code",
   "execution_count": null,
   "id": "e4389b9d",
   "metadata": {},
   "outputs": [],
   "source": [
    "second()"
   ]
  },
  {
   "cell_type": "markdown",
   "id": "411dd897",
   "metadata": {},
   "source": [
    "Наконец, обратите внимание, что в предыдущем примере вы выполняли внутренние функции внутри родительской функции, например first_child(). Однако в этом последнем примере вы не добавили круглые скобки к внутренним функциям first_child— — при возврате. Таким образом, вы получите ссылку на каждую функцию, которую вы можете вызвать в будущем. Есть смысл?"
   ]
  },
  {
   "cell_type": "markdown",
   "id": "b674e56b",
   "metadata": {},
   "source": [
    "## Простые декораторы"
   ]
  },
  {
   "cell_type": "markdown",
   "id": "1606340e",
   "metadata": {},
   "source": [
    "Теперь, когда вы увидели, что функции такие же, как и любой другой объект в Python, вы готовы двигаться дальше и увидеть волшебного зверя, которым является декоратор Python. Начнем с примера:"
   ]
  },
  {
   "cell_type": "code",
   "execution_count": null,
   "id": "e150da2b",
   "metadata": {},
   "outputs": [],
   "source": [
    "def my_decorator(func):\n",
    "    def wrapper():\n",
    "        print(\"Something is happening before the function is called.\")\n",
    "        print(func)\n",
    "        func()\n",
    "        print(\"Something is happening after the function is called.\")\n",
    "    return wrapper\n",
    "\n",
    "def say_whee():\n",
    "    print(\"Whee!\")\n",
    "\n",
    "say_whee = my_decorator(say_whee)"
   ]
  },
  {
   "cell_type": "markdown",
   "id": "b6b38977",
   "metadata": {},
   "source": [
    "Можете ли вы угадать, что происходит, когда вы звоните say_whee() ? Попытайся:"
   ]
  },
  {
   "cell_type": "code",
   "execution_count": null,
   "id": "6d298c08",
   "metadata": {},
   "outputs": [],
   "source": [
    "say_whee()"
   ]
  },
  {
   "cell_type": "markdown",
   "id": "5f9629fd",
   "metadata": {},
   "source": [
    "Чтобы понять, что здесь происходит, вернитесь к предыдущим примерам. Мы буквально просто применяем все, что вы узнали до сих пор.\n",
    "\n",
    "Так называемое украшение происходит в следующей строке:"
   ]
  },
  {
   "cell_type": "code",
   "execution_count": null,
   "id": "33914411",
   "metadata": {},
   "outputs": [],
   "source": [
    "say_whee = my_decorator(say_whee)"
   ]
  },
  {
   "cell_type": "code",
   "execution_count": null,
   "id": "53eeb8e2",
   "metadata": {},
   "outputs": [],
   "source": [
    "say_whee()"
   ]
  },
  {
   "cell_type": "markdown",
   "id": "9fb8bde8",
   "metadata": {},
   "source": [
    "Однако wrapper() имеет ссылку на оригинал say_whee() как func и вызывает эту функцию между двумя вызовами print().\n",
    "\n",
    "Проще говоря: <b>декораторы оборачивают функцию, изменяя ее поведение.</b>\n",
    "\n",
    "Прежде чем двигаться дальше, давайте посмотрим на второй пример. Поскольку wrapper() это обычная функция Python, способ, которым декоратор модифицирует функцию, может меняться динамически. Чтобы не мешать соседям, следующий пример будет запускать декорированный код только днем"
   ]
  },
  {
   "cell_type": "code",
   "execution_count": null,
   "id": "3faf730f",
   "metadata": {},
   "outputs": [],
   "source": [
    "from datetime import datetime\n",
    "\n",
    "def not_during_the_night(func):\n",
    "    def wrapper():\n",
    "        if 7 <= datetime.now().hour < 22:\n",
    "            func()\n",
    "        else:\n",
    "            pass  # Hush, the neighbors are asleep\n",
    "    return wrapper\n",
    "\n",
    "def say_whee():\n",
    "    print(\"Whee!\")\n",
    "\n",
    "say_whee = not_during_the_night(say_whee)"
   ]
  },
  {
   "cell_type": "code",
   "execution_count": null,
   "id": "5ca84c26",
   "metadata": {},
   "outputs": [],
   "source": [
    "say_whee()"
   ]
  },
  {
   "cell_type": "code",
   "execution_count": null,
   "id": "1bcbdcc6",
   "metadata": {},
   "outputs": [],
   "source": [
    "def func(x):\n",
    "    return x**0.255"
   ]
  },
  {
   "cell_type": "code",
   "execution_count": null,
   "id": "167c0816",
   "metadata": {},
   "outputs": [],
   "source": [
    "okl = func"
   ]
  },
  {
   "cell_type": "code",
   "execution_count": null,
   "id": "542045af",
   "metadata": {},
   "outputs": [],
   "source": [
    "jgf = okl"
   ]
  },
  {
   "cell_type": "code",
   "execution_count": null,
   "id": "3017105a",
   "metadata": {},
   "outputs": [],
   "source": [
    "kfkf=jgf"
   ]
  },
  {
   "cell_type": "code",
   "execution_count": null,
   "id": "14b60e5f",
   "metadata": {},
   "outputs": [],
   "source": [
    "okl(2)"
   ]
  },
  {
   "cell_type": "markdown",
   "id": "72640dd3",
   "metadata": {},
   "source": [
    "## Синтаксический сахар!"
   ]
  },
  {
   "cell_type": "markdown",
   "id": "7f81d195",
   "metadata": {},
   "source": [
    "То, как вы украсили say_whee() выше, немного неуклюже. Прежде всего, вы в конечном итоге набираете имя say_whee три раза. Кроме того, оформление немного спрятано под определением функции.\n",
    "\n",
    "Вместо этого Python позволяет вам использовать декораторы более простым способом с помощью @ символа , который иногда называют синтаксисом «пирога» . Следующий пример делает то же самое, что и первый пример декоратора:"
   ]
  },
  {
   "cell_type": "code",
   "execution_count": null,
   "id": "199b14a6",
   "metadata": {},
   "outputs": [],
   "source": [
    "def my_decorator(func):\n",
    "    def wrapper():\n",
    "        print(\"Something is happening before the function is called.\")\n",
    "        print(func)\n",
    "        func()\n",
    "        print(\"Something is happening after the function is called.\")\n",
    "    return wrapper\n",
    "\n",
    "@my_decorator()\n",
    "@my_decorator\n",
    "@my_decorator\n",
    "@my_decorator\n",
    "def say_whee():\n",
    "    print(\"Whee!\")\n",
    "    \n",
    "def say_name():\n",
    "    print(\"Andru!\")"
   ]
  },
  {
   "cell_type": "code",
   "execution_count": null,
   "id": "3f24a103",
   "metadata": {},
   "outputs": [],
   "source": [
    "say_whee()"
   ]
  },
  {
   "cell_type": "code",
   "execution_count": null,
   "id": "126efff6",
   "metadata": {},
   "outputs": [],
   "source": [
    "my_decorator(say_whee)()"
   ]
  },
  {
   "cell_type": "markdown",
   "id": "42becc69",
   "metadata": {},
   "source": [
    "## ЗАДАЧА\n",
    "Напишите декоратор debug, который при каждом вызове декорируемой функции выводит её имя (вместе со всеми передаваемыми аргументами), а затем — какое значение она возвращает. После этого выводится результат её выполнения.\n",
    "## ЗАДАЧА"
   ]
  },
  {
   "cell_type": "code",
   "execution_count": null,
   "id": "dfb4ea24",
   "metadata": {},
   "outputs": [],
   "source": [
    "def debug(function):\n",
    "    def wrapper(*args, **kwargs):\n",
    "        print(\"Вызывается {}({})\".format(\n",
    "            function.__name__,\n",
    "            \", \".join(\n",
    "                list(f\"\\\"{arg}\\\"\"\n",
    "                     if isinstance(arg, str) else\n",
    "                     str(arg) for arg in args)\n",
    "                +\n",
    "                list(f\"{k}=\\\"{v}\\\"\"\n",
    "                     if isinstance(v, str) else\n",
    "                     f\"{k}={v}\" for k, v in kwargs.items())\n",
    "            )\n",
    "        ))\n",
    "        result = function(*args, **kwargs)\n",
    "        print(\"'{}' вернула значение'{}'\".format(\n",
    "            function.__name__, result\n",
    "        ))\n",
    "        return result\n",
    "    return wrapper"
   ]
  },
  {
   "cell_type": "code",
   "execution_count": null,
   "id": "b6a15cb2",
   "metadata": {},
   "outputs": [],
   "source": [
    "def debug(function):\n",
    "    def wrapper(*args, **kwargs):\n",
    "        print(args)\n",
    "        print(kwargs)\n",
    "        result = function(*args, **kwargs)\n",
    "        return result\n",
    "    return wrapper"
   ]
  },
  {
   "cell_type": "code",
   "execution_count": null,
   "id": "5b5154ea",
   "metadata": {},
   "outputs": [],
   "source": [
    "@debug\n",
    "def go_to_hell(x):\n",
    "    print(\"-\"*50)\n",
    "    print(f\"Привет ты на {x} \")\n",
    "    return f\"Привет ты на {x}\""
   ]
  },
  {
   "cell_type": "code",
   "execution_count": null,
   "id": "ef740b89",
   "metadata": {},
   "outputs": [],
   "source": [
    "go_to_hell(\"Привет\")"
   ]
  },
  {
   "cell_type": "code",
   "execution_count": null,
   "id": "4a4087bf",
   "metadata": {},
   "outputs": [],
   "source": [
    "result = debug(go_to_hell)('Привет')"
   ]
  },
  {
   "cell_type": "markdown",
   "id": "d6af5055",
   "metadata": {},
   "source": [
    "---"
   ]
  },
  {
   "cell_type": "markdown",
   "id": "1f1c9621",
   "metadata": {},
   "source": [
    "Итак, @my_decorator это просто более простой способ сказать say_whee = my_decorator(say_whee). Это то, как вы применяете декоратор к функции."
   ]
  },
  {
   "cell_type": "markdown",
   "id": "44814341",
   "metadata": {},
   "source": [
    "## Повторное использование декораторов\n",
    "Напомним, что декоратор — это обычная функция Python. Доступны все обычные инструменты для простого повторного использования. Давайте переместим декоратор в отдельный модуль , который можно использовать во многих других функциях.\n",
    "\n",
    "Создайте файл decorators.pyс именем следующего содержания:"
   ]
  },
  {
   "cell_type": "code",
   "execution_count": null,
   "id": "4bc6c89a",
   "metadata": {},
   "outputs": [],
   "source": [
    "def do_twice(func):\n",
    "    def wrapper_do_twice():\n",
    "        func()\n",
    "        func()\n",
    "    return wrapper_do_twice"
   ]
  },
  {
   "cell_type": "markdown",
   "id": "49be2223",
   "metadata": {},
   "source": [
    "Примечание. Вы можете назвать свою внутреннюю функцию как хотите, и общее имя, например wrapper(), обычно подходит. В этой статье вы увидите много декораторов. Чтобы разделить их, мы назовем внутреннюю функцию тем же именем, что и декоратор, но с wrapper_ префиксом."
   ]
  },
  {
   "cell_type": "code",
   "execution_count": null,
   "id": "8fb8d1ba",
   "metadata": {},
   "outputs": [],
   "source": [
    "@do_twice\n",
    "def say_whee():\n",
    "    print(\"Whee!\")"
   ]
  },
  {
   "cell_type": "code",
   "execution_count": null,
   "id": "5699d57f",
   "metadata": {},
   "outputs": [],
   "source": [
    "say_whee()"
   ]
  },
  {
   "cell_type": "markdown",
   "id": "52bee982",
   "metadata": {},
   "source": [
    "## Декорирование функций аргументами\n",
    "Скажем, у вас есть функция, которая принимает некоторые аргументы. Можно еще разукрасить? Давай попробуем:"
   ]
  },
  {
   "cell_type": "code",
   "execution_count": null,
   "id": "6fe95cae",
   "metadata": {},
   "outputs": [],
   "source": [
    "@do_twice\n",
    "def greet(name):\n",
    "    print(f\"Hello {name}\")"
   ]
  },
  {
   "cell_type": "markdown",
   "id": "5216db7c",
   "metadata": {},
   "source": [
    "К сожалению, запуск этого кода вызывает ошибку:"
   ]
  },
  {
   "cell_type": "code",
   "execution_count": null,
   "id": "71ccb2a8",
   "metadata": {},
   "outputs": [],
   "source": [
    "greet(\"World\")"
   ]
  },
  {
   "cell_type": "markdown",
   "id": "0da3ad50",
   "metadata": {},
   "source": [
    "Проблема в том, что внутренняя функция wrapper_do_twice() не принимает никаких аргументов, а name=\"World\" была передана ей. Вы можете исправить это, разрешив wrapper_do_twice() принимать один аргумент, но тогда это не будет работать для say_whee() функции, которую вы создали ранее.\n",
    "\n",
    "Решение состоит в том, чтобы использовать <b>\\*args и \\*\\*kwargs</b> во внутренней функции-оболочке. Затем он примет произвольное количество позиционных и ключевых аргументов. Перепишите decorators.pyследующим образом:"
   ]
  },
  {
   "cell_type": "code",
   "execution_count": null,
   "id": "67fb61bf",
   "metadata": {},
   "outputs": [],
   "source": [
    "def do_twice(func):\n",
    "    def wrapper_do_twice(*args, **kwargs):\n",
    "        func(*args, **kwargs)\n",
    "        func(*args, **kwargs)\n",
    "    return wrapper_do_twice"
   ]
  },
  {
   "cell_type": "markdown",
   "id": "8a9de14b",
   "metadata": {},
   "source": [
    "Теперь wrapper_do_twice() внутренняя функция принимает любое количество аргументов и передает их декорируемой функции. Теперь и ваш, say_whee() и greet() примеры работают:"
   ]
  },
  {
   "cell_type": "code",
   "execution_count": null,
   "id": "d3363f3f",
   "metadata": {},
   "outputs": [],
   "source": [
    "say_whee()"
   ]
  },
  {
   "cell_type": "code",
   "execution_count": null,
   "id": "2deab983",
   "metadata": {},
   "outputs": [],
   "source": [
    "@do_twice\n",
    "def greet(name):\n",
    "    print(f\"Hello {name}\")"
   ]
  },
  {
   "cell_type": "code",
   "execution_count": null,
   "id": "e1014c22",
   "metadata": {},
   "outputs": [],
   "source": [
    "greet(\"World\")"
   ]
  },
  {
   "cell_type": "markdown",
   "id": "b0f1268b",
   "metadata": {},
   "source": [
    "## Возврат значений из декорированных функций\n",
    "Что происходит с возвращаемым значением декорированных функций? Ну, это решать декоратору. Допустим, вы декорируете простую функцию следующим образом:"
   ]
  },
  {
   "cell_type": "code",
   "execution_count": null,
   "id": "6fb5c235",
   "metadata": {},
   "outputs": [],
   "source": [
    "@do_twice\n",
    "def return_greeting(name):\n",
    "    print(\"Creating greeting\")\n",
    "    return f\"Hi {name}\""
   ]
  },
  {
   "cell_type": "code",
   "execution_count": null,
   "id": "206f9184",
   "metadata": {},
   "outputs": [],
   "source": [
    " hi_adam = return_greeting(\"Adam\")"
   ]
  },
  {
   "cell_type": "code",
   "execution_count": null,
   "id": "9293ae53",
   "metadata": {},
   "outputs": [],
   "source": [
    "type(hi_adam)"
   ]
  },
  {
   "cell_type": "markdown",
   "id": "822fc9bd",
   "metadata": {},
   "source": [
    "К сожалению, ваш декоратор съел возвращаемое функцией значение.\n",
    "\n",
    "Поскольку do_twice_wrapper()явно не возвращает значение, вызов return_greeting(\"Adam\") закончился возвратом None.\n",
    "\n",
    "Чтобы это исправить, вам **нужно убедиться, что функция-обертка возвращает возвращаемое значение декорированной функции**"
   ]
  },
  {
   "cell_type": "code",
   "execution_count": null,
   "id": "47aea105",
   "metadata": {},
   "outputs": [],
   "source": [
    "def do_twice(func):\n",
    "    def wrapper_do_twice(*args, **kwargs):\n",
    "        #func(*args, **kwargs)\n",
    "        return func(*args, **kwargs)\n",
    "    return wrapper_do_twice"
   ]
  },
  {
   "cell_type": "code",
   "execution_count": null,
   "id": "668e0cc5",
   "metadata": {},
   "outputs": [],
   "source": [
    "hgy = return_greeting(\"Adam\")"
   ]
  },
  {
   "cell_type": "code",
   "execution_count": null,
   "id": "44ab6b39",
   "metadata": {},
   "outputs": [],
   "source": [
    "@do_twice\n",
    "def return_greeting(name):\n",
    "    print(\"Creating greeting\")\n",
    "    return f\"Hi {name}\""
   ]
  },
  {
   "cell_type": "code",
   "execution_count": null,
   "id": "6384191f",
   "metadata": {},
   "outputs": [],
   "source": [
    "f = return_greeting(\"Adam\")"
   ]
  },
  {
   "cell_type": "markdown",
   "id": "7fe87d39",
   "metadata": {},
   "source": [
    "## Кто ты на самом деле?\n",
    "Большим удобством при работе с Python, особенно в интерактивной оболочке, является его мощная способность к самоанализу. Самоанализ — это способность объекта знать о своих атрибутах во время выполнения. Например, функция знает свое имя и документацию :"
   ]
  },
  {
   "cell_type": "code",
   "execution_count": null,
   "id": "c4133c34",
   "metadata": {},
   "outputs": [],
   "source": [
    "print"
   ]
  },
  {
   "cell_type": "code",
   "execution_count": null,
   "id": "5ba7739f",
   "metadata": {},
   "outputs": [],
   "source": [
    "print.__name__"
   ]
  },
  {
   "cell_type": "code",
   "execution_count": null,
   "id": "835fd3dc",
   "metadata": {},
   "outputs": [],
   "source": [
    "print.__dir__"
   ]
  },
  {
   "cell_type": "code",
   "execution_count": null,
   "id": "acb84844",
   "metadata": {},
   "outputs": [],
   "source": [
    "help(print)"
   ]
  },
  {
   "cell_type": "code",
   "execution_count": null,
   "id": "35be9174",
   "metadata": {},
   "outputs": [],
   "source": [
    "say_whee"
   ]
  },
  {
   "cell_type": "code",
   "execution_count": null,
   "id": "d30154c6",
   "metadata": {},
   "outputs": [],
   "source": [
    "say_whee.__name__"
   ]
  },
  {
   "cell_type": "code",
   "execution_count": null,
   "id": "05d4bf12",
   "metadata": {},
   "outputs": [],
   "source": [
    "help(say_whee)"
   ]
  },
  {
   "cell_type": "markdown",
   "id": "bd00cc3d",
   "metadata": {},
   "source": [
    "Однако, будучи украшенным, say_whee() очень запутался в своей личности. Теперь он сообщает, что это wrapper_do_twice() внутренняя функция внутри do_twice() декоратора. Хотя технически это правда, это не очень полезная информация.\n",
    "\n",
    "Чтобы исправить это, декораторы должны использовать @functools.wraps декоратор, который сохранит информацию об исходной функции. "
   ]
  },
  {
   "cell_type": "code",
   "execution_count": null,
   "id": "2cb195e5",
   "metadata": {},
   "outputs": [],
   "source": [
    "import functools\n",
    "\n",
    "def do_twice(func):\n",
    "    @functools.wraps(func)\n",
    "    def wrapper_do_twice(*args, **kwargs):\n",
    "        func(*args, **kwargs)\n",
    "        return func(*args, **kwargs)\n",
    "    return wrapper_do_twice"
   ]
  },
  {
   "cell_type": "markdown",
   "id": "8ac1f095",
   "metadata": {},
   "source": [
    "Вам не нужно ничего менять в оформленной say_whee() функции:"
   ]
  },
  {
   "cell_type": "code",
   "execution_count": null,
   "id": "74451932",
   "metadata": {},
   "outputs": [],
   "source": [
    "@do_twice\n",
    "def test():\n",
    "    \"\"\"def TEST \"\"\"\n",
    "    print(\"TEST\")"
   ]
  },
  {
   "cell_type": "code",
   "execution_count": null,
   "id": "dbc4e18d",
   "metadata": {},
   "outputs": [],
   "source": [
    "test.__doc__"
   ]
  },
  {
   "cell_type": "markdown",
   "id": "be0b698a",
   "metadata": {},
   "source": [
    "## Вложенные декораторы\n",
    "Вы можете применить к функции несколько декораторов, наложив их друг на друга:"
   ]
  },
  {
   "cell_type": "code",
   "execution_count": null,
   "id": "bc42d714",
   "metadata": {},
   "outputs": [],
   "source": [
    "\n",
    "@debug\n",
    "@do_twice\n",
    "def greet(name):\n",
    "    \"\"\"Docstring\"\"\"\n",
    "    print(f\"Hello {name}\")\n",
    "    return \"Andru\""
   ]
  },
  {
   "cell_type": "code",
   "execution_count": null,
   "id": "89076674",
   "metadata": {},
   "outputs": [],
   "source": [
    "greet(\"name\")"
   ]
  },
  {
   "cell_type": "markdown",
   "id": "eba8c8f6",
   "metadata": {},
   "source": [
    "Думайте об этом как о декораторах, выполняемых в том порядке, в котором они перечислены. Другими словами, @debug вызовы @do_twice, которые вызывают greet(), или debug(do_twice(greet())):"
   ]
  },
  {
   "cell_type": "code",
   "execution_count": null,
   "id": "9e958635",
   "metadata": {},
   "outputs": [],
   "source": [
    "greet(\"Eva\")"
   ]
  },
  {
   "cell_type": "code",
   "execution_count": null,
   "id": "e79133bf",
   "metadata": {},
   "outputs": [],
   "source": [
    "@do_twice\n",
    "@debug\n",
    "@do_twice\n",
    "def greet(name):\n",
    "    print(f\"Hello {name}\")"
   ]
  },
  {
   "cell_type": "code",
   "execution_count": null,
   "id": "085bc7a4",
   "metadata": {},
   "outputs": [],
   "source": [
    " greet(\"Eva\")"
   ]
  },
  {
   "cell_type": "markdown",
   "id": "f58413ba",
   "metadata": {},
   "source": [
    "## Декораторы с аргументами\n",
    "Иногда бывает полезно передать аргументы вашим декораторам . Например, @do_twice может быть расширен до @repeat(num_times) декоратора. Затем в качестве аргумента может быть задано количество раз выполнения украшенной функции.\n",
    "\n",
    "Это позволит вам сделать что-то вроде этого:"
   ]
  },
  {
   "cell_type": "code",
   "execution_count": null,
   "id": "beb92d87",
   "metadata": {},
   "outputs": [],
   "source": [
    "def repeat(*args, **kwargs):\n",
    "    num_times = kwargs['num_times']\n",
    "    def decorator_repeat(func):\n",
    "        #@functools.wraps(func)\n",
    "        def wrapper_repeat(*args, **kwargs):\n",
    "            for _ in range(num_times):\n",
    "                value = func(*args, **kwargs)\n",
    "            return value\n",
    "        return wrapper_repeat\n",
    "    return decorator_repeat"
   ]
  },
  {
   "cell_type": "code",
   "execution_count": null,
   "id": "86640685",
   "metadata": {},
   "outputs": [],
   "source": [
    "@repeat(num_times=8)\n",
    "def greet(name):\n",
    "    print(f\"Hello {name}\")\n",
    "    return True"
   ]
  },
  {
   "cell_type": "code",
   "execution_count": null,
   "id": "921edf57",
   "metadata": {},
   "outputs": [],
   "source": [
    "greet(\"World\")"
   ]
  },
  {
   "cell_type": "markdown",
   "id": "72808e13",
   "metadata": {},
   "source": [
    "## Декораторы с состоянием\n",
    "Иногда полезно иметь декоратор, который может отслеживать состояние . В качестве простого примера мы создадим декоратор, который подсчитывает количество вызовов функции."
   ]
  },
  {
   "cell_type": "code",
   "execution_count": null,
   "id": "dcd4bf8b",
   "metadata": {},
   "outputs": [],
   "source": [
    "import functools\n",
    "\n",
    "def count_calls(func):\n",
    "    @functools.wraps(func)\n",
    "    def wrapper_count_calls(*args, **kwargs):\n",
    "        wrapper_count_calls.num_calls += 1\n",
    "        wrapper_count_calls.counter += 10\n",
    "        print(f\"Call {wrapper_count_calls.num_calls} of {func.__name__!r}\")\n",
    "        print(f\"counter {wrapper_count_calls.counter} of {func.__name__!r}\")\n",
    "        return func(*args, **kwargs)\n",
    "    wrapper_count_calls.num_calls = 0\n",
    "    wrapper_count_calls.counter = 0\n",
    "    \n",
    "    return wrapper_count_calls\n",
    "\n",
    "@count_calls\n",
    "def say_whee():\n",
    "    \"\"\"Docstring hello\"\"\"\n",
    "    print(\"Whee!\")"
   ]
  },
  {
   "cell_type": "code",
   "execution_count": null,
   "id": "66e51ce1",
   "metadata": {},
   "outputs": [],
   "source": [
    "say_whee()"
   ]
  },
  {
   "cell_type": "code",
   "execution_count": null,
   "id": "3b4decd6",
   "metadata": {},
   "outputs": [],
   "source": [
    "say_whee.__doc__"
   ]
  },
  {
   "cell_type": "code",
   "execution_count": null,
   "id": "e9c7fbc1",
   "metadata": {},
   "outputs": [],
   "source": [
    "@get_time"
   ]
  },
  {
   "cell_type": "code",
   "execution_count": null,
   "id": "0d097788",
   "metadata": {},
   "outputs": [],
   "source": [
    "def test():\n",
    "    r = 2\n",
    "    for i in range(10000):\n",
    "        for j  in range(1000):\n",
    "            r += r * (i*j)%100\n",
    "    return r\n",
    "        "
   ]
  },
  {
   "cell_type": "code",
   "execution_count": null,
   "id": "4e7fb9ef",
   "metadata": {},
   "outputs": [],
   "source": [
    "%%time\n",
    "test()"
   ]
  },
  {
   "cell_type": "code",
   "execution_count": null,
   "id": "c3860d4a",
   "metadata": {},
   "outputs": [],
   "source": [
    "from datetime import datetime\n",
    "def do_twice(func):\n",
    "\n",
    "   \n",
    "    def wrapper_do_twice(*args, **kwargs):\n",
    "        x = datetime.now()\n",
    "        res =  func(*args, **kwargs)\n",
    "        print(datetime.now() - x)\n",
    "        return res\n",
    "    \n",
    "\n",
    "    return wrapper_do_twice"
   ]
  },
  {
   "cell_type": "code",
   "execution_count": null,
   "id": "79385ed0",
   "metadata": {},
   "outputs": [],
   "source": [
    "@do_twice\n",
    "def test():\n",
    "    r = 2\n",
    "    for i in range(10000):\n",
    "        for j  in range(1000):\n",
    "            r += r * (i*j)%100\n",
    "    return r"
   ]
  },
  {
   "cell_type": "markdown",
   "id": "02087842",
   "metadata": {},
   "source": [
    "Состояние — количество вызовов функции — хранится в атрибуте функции функции .num_calls-оболочки. Вот эффект от его использования"
   ]
  },
  {
   "cell_type": "markdown",
   "id": "cd8fef55",
   "metadata": {},
   "source": [
    "ДЗ\n",
    "1. Релизовать декоратор который выводит время выполнения функции. Пишет название функции а так же сколько раз была запущена функция. \n",
    "2. Написать декоратор который пишет указанные в п.1 состояния в файл в виде таблицы. "
   ]
  }
 ],
 "metadata": {
  "kernelspec": {
   "display_name": "Python 3.9.7 64-bit",
   "language": "python",
   "name": "python3"
  },
  "language_info": {
   "codemirror_mode": {
    "name": "ipython",
    "version": 3
   },
   "file_extension": ".py",
   "mimetype": "text/x-python",
   "name": "python",
   "nbconvert_exporter": "python",
   "pygments_lexer": "ipython3",
   "version": "3.9.7"
  },
  "vscode": {
   "interpreter": {
    "hash": "cf92aa13fedf815d5c8dd192b8d835913fde3e8bc926b2a0ad6cc74ef2ba3ca2"
   }
  }
 },
 "nbformat": 4,
 "nbformat_minor": 5
}
