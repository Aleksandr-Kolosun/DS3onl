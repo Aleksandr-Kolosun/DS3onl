{
 "cells": [
  {
   "cell_type": "code",
   "execution_count": 1,
   "metadata": {},
   "outputs": [
    {
     "name": "stderr",
     "output_type": "stream",
     "text": [
      "WARNING: Ignoring invalid distribution -pencv-python (c:\\users\\biaspaltsau_aa\\appdata\\roaming\\python\\python39\\site-packages)\n",
      "WARNING: Ignoring invalid distribution -pencv-contrib-python (c:\\users\\biaspaltsau_aa\\appdata\\roaming\\python\\python39\\site-packages)\n",
      "WARNING: Ignoring invalid distribution -illow (c:\\users\\biaspaltsau_aa\\appdata\\roaming\\python\\python39\\site-packages)\n",
      "WARNING: Ignoring invalid distribution -pencv-python (c:\\users\\biaspaltsau_aa\\appdata\\roaming\\python\\python39\\site-packages)\n",
      "WARNING: Ignoring invalid distribution -pencv-contrib-python (c:\\users\\biaspaltsau_aa\\appdata\\roaming\\python\\python39\\site-packages)\n",
      "WARNING: Ignoring invalid distribution -illow (c:\\users\\biaspaltsau_aa\\appdata\\roaming\\python\\python39\\site-packages)\n",
      "WARNING: Ignoring invalid distribution -pencv-python (c:\\users\\biaspaltsau_aa\\appdata\\roaming\\python\\python39\\site-packages)\n",
      "WARNING: Ignoring invalid distribution -pencv-contrib-python (c:\\users\\biaspaltsau_aa\\appdata\\roaming\\python\\python39\\site-packages)\n",
      "WARNING: Ignoring invalid distribution -illow (c:\\users\\biaspaltsau_aa\\appdata\\roaming\\python\\python39\\site-packages)\n",
      "WARNING: Ignoring invalid distribution -pencv-python (c:\\users\\biaspaltsau_aa\\appdata\\roaming\\python\\python39\\site-packages)\n",
      "WARNING: Ignoring invalid distribution -pencv-contrib-python (c:\\users\\biaspaltsau_aa\\appdata\\roaming\\python\\python39\\site-packages)\n",
      "WARNING: Ignoring invalid distribution -illow (c:\\users\\biaspaltsau_aa\\appdata\\roaming\\python\\python39\\site-packages)\n",
      "WARNING: Ignoring invalid distribution -pencv-python (c:\\users\\biaspaltsau_aa\\appdata\\roaming\\python\\python39\\site-packages)\n",
      "WARNING: Ignoring invalid distribution -pencv-contrib-python (c:\\users\\biaspaltsau_aa\\appdata\\roaming\\python\\python39\\site-packages)\n",
      "WARNING: Ignoring invalid distribution -illow (c:\\users\\biaspaltsau_aa\\appdata\\roaming\\python\\python39\\site-packages)\n",
      "WARNING: Ignoring invalid distribution -pencv-python (c:\\users\\biaspaltsau_aa\\appdata\\roaming\\python\\python39\\site-packages)\n",
      "WARNING: Ignoring invalid distribution -pencv-contrib-python (c:\\users\\biaspaltsau_aa\\appdata\\roaming\\python\\python39\\site-packages)\n"
     ]
    },
    {
     "name": "stdout",
     "output_type": "stream",
     "text": [
      "Requirement already satisfied: lightfm in c:\\users\\biaspaltsau_aa\\anaconda3\\lib\\site-packages (1.16)\n",
      "Requirement already satisfied: scikit-learn in c:\\users\\biaspaltsau_aa\\anaconda3\\lib\\site-packages (from lightfm) (1.1.3)\n",
      "Requirement already satisfied: requests in c:\\users\\biaspaltsau_aa\\appdata\\roaming\\python\\python39\\site-packages (from lightfm) (2.27.1)\n",
      "Requirement already satisfied: numpy in c:\\users\\biaspaltsau_aa\\anaconda3\\lib\\site-packages (from lightfm) (1.22.4)\n",
      "Requirement already satisfied: scipy>=0.17.0 in c:\\users\\biaspaltsau_aa\\anaconda3\\lib\\site-packages (from lightfm) (1.7.1)\n",
      "Requirement already satisfied: urllib3<1.27,>=1.21.1 in c:\\users\\biaspaltsau_aa\\anaconda3\\lib\\site-packages (from requests->lightfm) (1.26.7)\n",
      "Requirement already satisfied: idna<4,>=2.5 in c:\\users\\biaspaltsau_aa\\anaconda3\\lib\\site-packages (from requests->lightfm) (3.2)\n",
      "Requirement already satisfied: charset-normalizer~=2.0.0 in c:\\users\\biaspaltsau_aa\\anaconda3\\lib\\site-packages (from requests->lightfm) (2.0.4)\n",
      "Requirement already satisfied: certifi>=2017.4.17 in c:\\users\\biaspaltsau_aa\\anaconda3\\lib\\site-packages (from requests->lightfm) (2021.10.8)\n",
      "Requirement already satisfied: joblib>=1.0.0 in c:\\users\\biaspaltsau_aa\\appdata\\roaming\\python\\python39\\site-packages (from scikit-learn->lightfm) (1.0.1)\n",
      "Requirement already satisfied: threadpoolctl>=2.0.0 in c:\\users\\biaspaltsau_aa\\anaconda3\\lib\\site-packages (from scikit-learn->lightfm) (3.1.0)\n"
     ]
    },
    {
     "name": "stderr",
     "output_type": "stream",
     "text": [
      "WARNING: Ignoring invalid distribution -illow (c:\\users\\biaspaltsau_aa\\appdata\\roaming\\python\\python39\\site-packages)\n"
     ]
    }
   ],
   "source": [
    "!pip install lightfm"
   ]
  },
  {
   "cell_type": "code",
   "execution_count": 2,
   "metadata": {},
   "outputs": [
    {
     "name": "stderr",
     "output_type": "stream",
     "text": [
      "c:\\Users\\biaspaltsau_aa\\Anaconda3\\lib\\site-packages\\lightfm\\_lightfm_fast.py:9: UserWarning: LightFM was compiled without OpenMP support. Only a single thread will be used.\n",
      "  warnings.warn(\n"
     ]
    }
   ],
   "source": [
    "import numpy as np\n",
    "\n",
    "from lightfm.datasets import fetch_movielens\n",
    "\n",
    "data = fetch_movielens(min_rating=5.0)\n"
   ]
  },
  {
   "attachments": {},
   "cell_type": "markdown",
   "metadata": {},
   "source": [
    "Это загружает набор данных и автоматически предварительно обрабатывает его в разреженные матрицы, подходящие для дальнейшего расчета. В частности, он подготавливает разреженные матрицы элементов пользователя, содержащие положительные записи, когда пользователь взаимодействовал с продуктом, и нули в противном случае.\n",
    "\n",
    "У нас есть две такие матрицы, обучающая и тестовая выборка. Оба имеют около 1000 пользователей и 1700 элементов. Мы будем обучать модель на матрице поездов, но тестировать ее на тестовой матрице."
   ]
  },
  {
   "cell_type": "code",
   "execution_count": 3,
   "metadata": {},
   "outputs": [
    {
     "data": {
      "text/plain": [
       "(19048,)"
      ]
     },
     "execution_count": 3,
     "metadata": {},
     "output_type": "execute_result"
    }
   ],
   "source": [
    "data['train'].data.shape"
   ]
  },
  {
   "cell_type": "code",
   "execution_count": 4,
   "metadata": {},
   "outputs": [
    {
     "data": {
      "text/plain": [
       "(2153,)"
      ]
     },
     "execution_count": 4,
     "metadata": {},
     "output_type": "execute_result"
    }
   ],
   "source": [
    "data['test'].data.shape"
   ]
  },
  {
   "attachments": {},
   "cell_type": "markdown",
   "metadata": {},
   "source": [
    "Мы собираемся использовать модель WARP (взвешенный приблизительный ранг попарно). WARP — это модель неявной обратной связи: все взаимодействия в обучающей матрице трактуются как положительные сигналы, а продукты, с которыми пользователи не взаимодействовали, им неявно не нравятся. Цель модели состоит в том, чтобы высоко оценить эти неявные позитивы и присвоить низкие баллы неявно негативным.\n",
    "\n",
    "Обучение модели осуществляется с помощью SGD (стохастический градиентный спуск). Это означает, что для каждого прохода данных --- эпохи --- модель учится подгонять данные все более и более точно. В этом примере мы запустим его на 30 эпох. Мы также можем запустить его на нескольких ядрах, поэтому мы установим его равным 8"
   ]
  },
  {
   "cell_type": "code",
   "execution_count": 5,
   "metadata": {},
   "outputs": [],
   "source": [
    "from lightfm import LightFM"
   ]
  },
  {
   "cell_type": "code",
   "execution_count": 6,
   "metadata": {},
   "outputs": [
    {
     "data": {
      "text/plain": [
       "<lightfm.lightfm.LightFM at 0x1fc897949d0>"
      ]
     },
     "execution_count": 6,
     "metadata": {},
     "output_type": "execute_result"
    }
   ],
   "source": [
    "model = LightFM(loss='warp')\n",
    "model.fit(data['train'], epochs=30, num_threads=8)"
   ]
  },
  {
   "attachments": {},
   "cell_type": "markdown",
   "metadata": {},
   "source": [
    "Выполнено! Теперь мы должны оценить модель, чтобы увидеть, насколько хорошо она работает. Нас больше всего интересует, насколько хорош рейтинг, полученный моделью. Precision@k — одна из подходящих метрик, выражающая процент k лучших элементов в рейтинге, с которыми пользователь фактически взаимодействовал. lightfm реализует ряд показателей в модуле оценки."
   ]
  },
  {
   "cell_type": "code",
   "execution_count": 7,
   "metadata": {},
   "outputs": [],
   "source": [
    "from lightfm.evaluation import precision_at_k\n",
    "from lightfm.evaluation import auc_score"
   ]
  },
  {
   "cell_type": "code",
   "execution_count": 8,
   "metadata": {},
   "outputs": [
    {
     "name": "stdout",
     "output_type": "stream",
     "text": [
      "Train precision: 0.41\n",
      "Test precision: 0.05\n"
     ]
    }
   ],
   "source": [
    "print(\"Train precision: %.2f\" % precision_at_k(model, data['train'], k=5).mean())\n",
    "print(\"Test precision: %.2f\" % precision_at_k(model, data['test'], k=5).mean())"
   ]
  },
  {
   "cell_type": "code",
   "execution_count": 9,
   "metadata": {},
   "outputs": [
    {
     "name": "stdout",
     "output_type": "stream",
     "text": [
      "Train precision: 0.97\n",
      "Test precision: 0.92\n"
     ]
    }
   ],
   "source": [
    "print(\"Train precision: %.2f\" % auc_score(model, data['train']).mean())\n",
    "print(\"Test precision: %.2f\" % auc_score(model, data['test']).mean())"
   ]
  },
  {
   "attachments": {},
   "cell_type": "markdown",
   "metadata": {},
   "source": [
    "Неудивительно, что модель подходит для набора поездов лучше, чем тестовый набор.\n",
    "\n",
    "В качестве альтернативного способа оценки модели мы можем выбрать пару пользователей и получить их рекомендации. Чтобы делать прогнозы для данного пользователя, мы передаем идентификатор этого пользователя и идентификаторы всех продуктов, для которых мы хотим прогнозировать, в метод прогнозирования."
   ]
  },
  {
   "cell_type": "code",
   "execution_count": 10,
   "metadata": {},
   "outputs": [
    {
     "name": "stdout",
     "output_type": "stream",
     "text": [
      "User 3\n",
      "     Known positives:\n",
      "        Contact (1997)\n",
      "        Air Force One (1997)\n",
      "        In & Out (1997)\n",
      "     Recommended:\n",
      "        Devil's Own, The (1997)\n",
      "        Chasing Amy (1997)\n",
      "        Mrs. Brown (Her Majesty, Mrs. Brown) (1997)\n",
      "User 25\n",
      "     Known positives:\n",
      "        Fargo (1996)\n",
      "        Godfather, The (1972)\n",
      "        L.A. Confidential (1997)\n",
      "     Recommended:\n",
      "        Fargo (1996)\n",
      "        Godfather, The (1972)\n",
      "        L.A. Confidential (1997)\n",
      "User 450\n",
      "     Known positives:\n",
      "        Event Horizon (1997)\n",
      "        Scream (1996)\n",
      "        Conspiracy Theory (1997)\n",
      "     Recommended:\n",
      "        Ransom (1996)\n",
      "        Contact (1997)\n",
      "        Scream (1996)\n"
     ]
    }
   ],
   "source": [
    "def sample_recommendation(model, data, user_ids):\n",
    "    \n",
    "\n",
    "    n_users, n_items = data['train'].shape\n",
    "\n",
    "    for user_id in user_ids:\n",
    "        known_positives = data['item_labels'][data['train'].tocsr()[user_id].indices]\n",
    "        \n",
    "        scores = model.predict(user_id, np.arange(n_items))\n",
    "        top_items = data['item_labels'][np.argsort(-scores)]\n",
    "        \n",
    "        print(\"User %s\" % user_id)\n",
    "        print(\"     Known positives:\")\n",
    "        \n",
    "        for x in known_positives[:3]:\n",
    "            print(\"        %s\" % x)\n",
    "\n",
    "        print(\"     Recommended:\")\n",
    "        \n",
    "        for x in top_items[:3]:\n",
    "            print(\"        %s\" % x)\n",
    "        \n",
    "sample_recommendation(model, data, [3, 25, 450]) "
   ]
  },
  {
   "cell_type": "code",
   "execution_count": null,
   "metadata": {},
   "outputs": [],
   "source": []
  }
 ],
 "metadata": {
  "kernelspec": {
   "display_name": "base",
   "language": "python",
   "name": "python3"
  },
  "language_info": {
   "codemirror_mode": {
    "name": "ipython",
    "version": 3
   },
   "file_extension": ".py",
   "mimetype": "text/x-python",
   "name": "python",
   "nbconvert_exporter": "python",
   "pygments_lexer": "ipython3",
   "version": "3.9.7"
  },
  "orig_nbformat": 4,
  "vscode": {
   "interpreter": {
    "hash": "cceda5113f07d4047741cabbb211c044d7f16bbd82324456effbfb8d7e8a3a9e"
   }
  }
 },
 "nbformat": 4,
 "nbformat_minor": 2
}
