{
 "cells": [
  {
   "attachments": {},
   "cell_type": "markdown",
   "metadata": {},
   "source": [
    "# Steam\n",
    "\n",
    "Напишите ИИ, который рекомендует видеоигры пользователям Steam, используя матричную факторизацию.\n",
    "\n",
    "## Variables\n",
    "*int* `user_id`: числовой идентификатор для идентификации при анонимизации пользователей Steam.\n",
    "*str* `game_title`: название игры, с которой пользователь взаимодействовал.  \n",
    "*str* `behavior`: тип поведения, демонстрируемый пользователем \"purchase\" or \"play\"  \n",
    "*int* `value`: if the `behavior` value is \"purchase\", the `value` is always 1; otherwise, it specifies the number of hours the game has been played by the user\n"
   ]
  },
  {
   "cell_type": "markdown",
   "metadata": {},
   "source": [
    "## Setup\n",
    "\n",
    "Import the libraries and functions to be used."
   ]
  },
  {
   "cell_type": "code",
   "execution_count": null,
   "metadata": {},
   "outputs": [],
   "source": [
    "#https://www.kaggle.com/tamber/steam-video-games"
   ]
  },
  {
   "cell_type": "code",
   "execution_count": 2,
   "metadata": {},
   "outputs": [],
   "source": [
    "%reset -f\n",
    "\n",
    "import csv\n",
    "\n",
    "import numpy as np\n",
    "import tensorflow as tf\n",
    "import tensorflow_datasets as tfds\n",
    "import tensorflow_recommenders as tfrs\n",
    "\n",
    "from typing import Dict, Text"
   ]
  },
  {
   "cell_type": "markdown",
   "metadata": {},
   "source": [
    "## Loading the dataset\n",
    "\n",
    "Use the `DictReader()` function from the `csv` library to read the file and append each purchase as a dictionary mapping to a list."
   ]
  },
  {
   "cell_type": "code",
   "execution_count": 3,
   "metadata": {},
   "outputs": [
    {
     "name": "stdout",
     "output_type": "stream",
     "text": [
      "{'user_id': '151603712', 'game_title': 'The Elder Scrolls V Skyrim', 'behavior': 'purchase', 'value': '1'}\n",
      "{'user_id': '151603712', 'game_title': 'Fallout 4', 'behavior': 'purchase', 'value': '1'}\n",
      "{'user_id': '151603712', 'game_title': 'Spore', 'behavior': 'purchase', 'value': '1'}\n"
     ]
    }
   ],
   "source": [
    "data = []\n",
    "with open('steam-200k.csv', 'r') as f:\n",
    "    reader = csv.DictReader(f)\n",
    "    for row in reader:\n",
    "        if row['behavior'] == 'purchase':\n",
    "            data.append(row)\n",
    "\n",
    "for item in data[:3]:\n",
    "    print(item)"
   ]
  },
  {
   "cell_type": "code",
   "execution_count": 5,
   "metadata": {},
   "outputs": [
    {
     "data": {
      "text/plain": [
       "129511"
      ]
     },
     "execution_count": 5,
     "metadata": {},
     "output_type": "execute_result"
    }
   ],
   "source": [
    "len(data)"
   ]
  },
  {
   "attachments": {},
   "cell_type": "markdown",
   "metadata": {},
   "source": [
    "## Formatting the data\n",
    "\n",
    "После выбора соответствующих функций преобразуйте данные в формат, который tensorflow может читать и обрабатывать."
   ]
  },
  {
   "cell_type": "code",
   "execution_count": 7,
   "metadata": {},
   "outputs": [],
   "source": [
    "purchases = tf.data.Dataset.from_tensor_slices({\n",
    "        'user_id': list(map(lambda x: x['user_id'], data)),\n",
    "        'game_title': list(map(lambda x: x['game_title'], data))\n",
    "    }\n",
    ")\n",
    "\n",
    "games = tf.data.Dataset.from_tensor_slices(list(set(map(\n",
    "            lambda x: x['game_title'], data)\n",
    "        )\n",
    "    )\n",
    ")"
   ]
  },
  {
   "attachments": {},
   "cell_type": "markdown",
   "metadata": {},
   "source": [
    "## Preprocessing\n",
    "\n",
    "Сопоставьте функции с целочисленными индексами для встраивания."
   ]
  },
  {
   "cell_type": "code",
   "execution_count": 8,
   "metadata": {},
   "outputs": [],
   "source": [
    "user_ids_vocabulary = tf.keras.layers.StringLookup() #Слой предварительной обработки, который сопоставляет строковые функции с целочисленными индексами \n",
    "user_ids_vocabulary.adapt(purchases.map(lambda x: x['user_id'])) \n",
    "\n",
    "game_titles_vocabulary = tf.keras.layers.StringLookup() #Слой предварительной обработки, который сопоставляет строковые функции с целочисленными индексами\n",
    "game_titles_vocabulary.adapt(games)"
   ]
  },
  {
   "cell_type": "code",
   "execution_count": null,
   "metadata": {},
   "outputs": [],
   "source": [
    "#https://www.tensorflow.org/api_docs/python/tf/keras/layers/StringLookup"
   ]
  },
  {
   "cell_type": "markdown",
   "metadata": {},
   "source": [
    "## Model design\n",
    "\n",
    "Define a class specifying the `compute_loss` function."
   ]
  },
  {
   "cell_type": "code",
   "execution_count": 9,
   "metadata": {},
   "outputs": [],
   "source": [
    "class SteamModel(tfrs.Model):\n",
    "\n",
    "    def __init__(\n",
    "        self,\n",
    "        user_model: tf.keras.Model,\n",
    "        game_model: tf.keras.Model,\n",
    "        task: tfrs.tasks.Retrieval\n",
    "    ):\n",
    "\n",
    "        super().__init__()\n",
    "\n",
    "        self.user_model = user_model\n",
    "        self.game_model = game_model\n",
    "\n",
    "        self.task = task\n",
    "\n",
    "    def compute_loss(self, features: Dict[Text, tf.Tensor], training=False) -> tf.Tensor:\n",
    "\n",
    "        user_embeddings = self.user_model(features[\"user_id\"])\n",
    "        game_embeddings = self.game_model(features[\"game_title\"])\n",
    "\n",
    "        return self.task(user_embeddings, game_embeddings)"
   ]
  },
  {
   "cell_type": "markdown",
   "metadata": {},
   "source": [
    "Add the embedding layers to the user and game models and define the factorized retrieval task"
   ]
  },
  {
   "cell_type": "code",
   "execution_count": 10,
   "metadata": {},
   "outputs": [],
   "source": [
    "user_model = tf.keras.Sequential([\n",
    "        user_ids_vocabulary,\n",
    "        tf.keras.layers.Embedding(user_ids_vocabulary.vocabulary_size(), 64)\n",
    "    ]\n",
    ")\n",
    "\n",
    "game_model = tf.keras.Sequential([\n",
    "        game_titles_vocabulary,\n",
    "        tf.keras.layers.Embedding(game_titles_vocabulary.vocabulary_size(), 64)\n",
    "    ]\n",
    ")\n",
    "\n",
    "task = tfrs.tasks.Retrieval(\n",
    "    metrics=tfrs.metrics.FactorizedTopK(\n",
    "        games.batch(128).map(game_model)\n",
    "    )\n",
    ")"
   ]
  },
  {
   "cell_type": "markdown",
   "metadata": {},
   "source": [
    "Initialize and train the retrieval model."
   ]
  },
  {
   "cell_type": "code",
   "execution_count": 12,
   "metadata": {},
   "outputs": [
    {
     "name": "stdout",
     "output_type": "stream",
     "text": [
      "Epoch 1/10\n",
      "32/32 [==============================] - 11s 289ms/step - factorized_top_k/top_1_categorical_accuracy: 9.1112e-04 - factorized_top_k/top_5_categorical_accuracy: 0.0090 - factorized_top_k/top_10_categorical_accuracy: 0.0164 - factorized_top_k/top_50_categorical_accuracy: 0.0556 - factorized_top_k/top_100_categorical_accuracy: 0.0914 - loss: 33319.8517 - regularization_loss: 0.0000e+00 - total_loss: 33319.8517\n",
      "Epoch 2/10\n",
      "32/32 [==============================] - 9s 290ms/step - factorized_top_k/top_1_categorical_accuracy: 0.0132 - factorized_top_k/top_5_categorical_accuracy: 0.0596 - factorized_top_k/top_10_categorical_accuracy: 0.0825 - factorized_top_k/top_50_categorical_accuracy: 0.1602 - factorized_top_k/top_100_categorical_accuracy: 0.2098 - loss: 38948.5097 - regularization_loss: 0.0000e+00 - total_loss: 38948.5097\n",
      "Epoch 3/10\n",
      "32/32 [==============================] - 9s 291ms/step - factorized_top_k/top_1_categorical_accuracy: 0.0395 - factorized_top_k/top_5_categorical_accuracy: 0.1106 - factorized_top_k/top_10_categorical_accuracy: 0.1469 - factorized_top_k/top_50_categorical_accuracy: 0.2499 - factorized_top_k/top_100_categorical_accuracy: 0.3084 - loss: 31057.5176 - regularization_loss: 0.0000e+00 - total_loss: 31057.5176\n",
      "Epoch 4/10\n",
      "32/32 [==============================] - 9s 289ms/step - factorized_top_k/top_1_categorical_accuracy: 0.0533 - factorized_top_k/top_5_categorical_accuracy: 0.1568 - factorized_top_k/top_10_categorical_accuracy: 0.2062 - factorized_top_k/top_50_categorical_accuracy: 0.3539 - factorized_top_k/top_100_categorical_accuracy: 0.4369 - loss: 27763.8365 - regularization_loss: 0.0000e+00 - total_loss: 27763.8365\n",
      "Epoch 5/10\n",
      "32/32 [==============================] - 9s 289ms/step - factorized_top_k/top_1_categorical_accuracy: 0.0590 - factorized_top_k/top_5_categorical_accuracy: 0.1739 - factorized_top_k/top_10_categorical_accuracy: 0.2361 - factorized_top_k/top_50_categorical_accuracy: 0.4126 - factorized_top_k/top_100_categorical_accuracy: 0.5094 - loss: 26453.7912 - regularization_loss: 0.0000e+00 - total_loss: 26453.7912\n",
      "Epoch 6/10\n",
      "32/32 [==============================] - 9s 288ms/step - factorized_top_k/top_1_categorical_accuracy: 0.0630 - factorized_top_k/top_5_categorical_accuracy: 0.1876 - factorized_top_k/top_10_categorical_accuracy: 0.2580 - factorized_top_k/top_50_categorical_accuracy: 0.4536 - factorized_top_k/top_100_categorical_accuracy: 0.5555 - loss: 25803.6469 - regularization_loss: 0.0000e+00 - total_loss: 25803.6469\n",
      "Epoch 7/10\n",
      "32/32 [==============================] - 9s 286ms/step - factorized_top_k/top_1_categorical_accuracy: 0.0649 - factorized_top_k/top_5_categorical_accuracy: 0.1943 - factorized_top_k/top_10_categorical_accuracy: 0.2716 - factorized_top_k/top_50_categorical_accuracy: 0.4766 - factorized_top_k/top_100_categorical_accuracy: 0.5837 - loss: 25404.3573 - regularization_loss: 0.0000e+00 - total_loss: 25404.3573\n",
      "Epoch 8/10\n",
      "32/32 [==============================] - 9s 288ms/step - factorized_top_k/top_1_categorical_accuracy: 0.0688 - factorized_top_k/top_5_categorical_accuracy: 0.2017 - factorized_top_k/top_10_categorical_accuracy: 0.2774 - factorized_top_k/top_50_categorical_accuracy: 0.4907 - factorized_top_k/top_100_categorical_accuracy: 0.5987 - loss: 25115.7301 - regularization_loss: 0.0000e+00 - total_loss: 25115.7301\n",
      "Epoch 9/10\n",
      "32/32 [==============================] - 9s 288ms/step - factorized_top_k/top_1_categorical_accuracy: 0.0685 - factorized_top_k/top_5_categorical_accuracy: 0.2028 - factorized_top_k/top_10_categorical_accuracy: 0.2838 - factorized_top_k/top_50_categorical_accuracy: 0.5014 - factorized_top_k/top_100_categorical_accuracy: 0.6139 - loss: 24895.6103 - regularization_loss: 0.0000e+00 - total_loss: 24895.6103\n",
      "Epoch 10/10\n",
      "32/32 [==============================] - 9s 289ms/step - factorized_top_k/top_1_categorical_accuracy: 0.0706 - factorized_top_k/top_5_categorical_accuracy: 0.2074 - factorized_top_k/top_10_categorical_accuracy: 0.2874 - factorized_top_k/top_50_categorical_accuracy: 0.5105 - factorized_top_k/top_100_categorical_accuracy: 0.6234 - loss: 24694.8191 - regularization_loss: 0.0000e+00 - total_loss: 24694.8191\n"
     ]
    },
    {
     "data": {
      "text/plain": [
       "<keras.callbacks.History at 0x259e5234ca0>"
      ]
     },
     "execution_count": 12,
     "metadata": {},
     "output_type": "execute_result"
    }
   ],
   "source": [
    "model = SteamModel(user_model, game_model, task)\n",
    "model.compile(optimizer=tf.keras.optimizers.Adagrad(0.5))\n",
    "model.fit(purchases.batch(4096), epochs=10)"
   ]
  },
  {
   "cell_type": "markdown",
   "metadata": {},
   "source": [
    "Get video game recommendations from the model."
   ]
  },
  {
   "cell_type": "code",
   "execution_count": 13,
   "metadata": {},
   "outputs": [
    {
     "data": {
      "text/plain": [
       "<tensorflow_recommenders.layers.factorized_top_k.BruteForce at 0x2580c4d2c10>"
      ]
     },
     "execution_count": 13,
     "metadata": {},
     "output_type": "execute_result"
    }
   ],
   "source": [
    "index = tfrs.layers.factorized_top_k.BruteForce(model.user_model)\n",
    "index.index_from_dataset(\n",
    "    games.batch(100).map(lambda id: (id, model.game_model(id)))\n",
    ")"
   ]
  },
  {
   "cell_type": "code",
   "execution_count": 36,
   "metadata": {},
   "outputs": [
    {
     "name": "stdout",
     "output_type": "stream",
     "text": [
      "Top 3 games to play for users\n",
      "    151603712: [b'PAC-MAN Championship Edition DX+'\n",
      " b'HuniePop Official Digital Art Collection'\n",
      " b'HuniePop Original Soundtrack' b'Aggression Europe Under Fire' b'Spore'\n",
      " b'HuniePop' b\"Tony Hawk's Pro Skater HD\" b'Jazzpunk' b'TerraTech'\n",
      " b'The Banner Saga - Mod Content']\n",
      "    187131847: [b'Dota 2' b'Pyroblazer' b'The Amazing Spider-Man' b'Requiem'\n",
      " b'Dead or Alive 5 Last Round'\n",
      " b'Samantha Swift and the Hidden Roses of Athena'\n",
      " b'Nancy Drew Lights, Camera, Curses!'\n",
      " b'Midnight Mysteries Salem Witch Trials'\n",
      " b'Midnight Mysteries 4 Haunted Houdini'\n",
      " b'Midnight Mysteries 3 Devil on the Mississippi']\n",
      "    59945701: [b'Cities in Motion 2' b'Skullgirls Endless Beta' b'Skullgirls'\n",
      " b'GUILTY GEAR XX ACCENT CORE PLUS R'\n",
      " b'FINAL FANTASY XIV A Realm Reborn CE (NA version)'\n",
      " b'THE KING OF FIGHTERS XIII STEAM EDITION' b'Sanctum'\n",
      " b'Ultra Street Fighter IV' b'Orcs Must Die!'\n",
      " b\"Baldur's Gate Enhanced Edition\"]\n",
      "    100070732: [b'Cities Skylines' b'Arma 2'\n",
      " b'Arma 2 Operation Arrowhead Beta (Obsolete)'\n",
      " b'Arma 2 Operation Arrowhead' b'Wargame AirLand Battle'\n",
      " b'Take On Helicopters' b'Arma 2 DayZ Mod' b'Wargame European Escalation'\n",
      " b'Arma 2 Private Military Company' b'Arma 2 British Armed Forces']\n"
     ]
    }
   ],
   "source": [
    "USERS = ['151603712', '187131847', '59945701','100070732']\n",
    "\n",
    "print(f\"Top 3 games to play for users\")\n",
    "for user in USERS:\n",
    "    _, ids = index(np.array([user]))\n",
    "    print(f\"    {user}: {ids[0, :10]}\")"
   ]
  },
  {
   "cell_type": "code",
   "execution_count": null,
   "metadata": {},
   "outputs": [],
   "source": []
  },
  {
   "cell_type": "code",
   "execution_count": 18,
   "metadata": {},
   "outputs": [],
   "source": [
    "import pandas as pd\n",
    "df = pd.DataFrame(data)"
   ]
  },
  {
   "cell_type": "code",
   "execution_count": 22,
   "metadata": {},
   "outputs": [
    {
     "data": {
      "text/html": [
       "<div>\n",
       "<style scoped>\n",
       "    .dataframe tbody tr th:only-of-type {\n",
       "        vertical-align: middle;\n",
       "    }\n",
       "\n",
       "    .dataframe tbody tr th {\n",
       "        vertical-align: top;\n",
       "    }\n",
       "\n",
       "    .dataframe thead th {\n",
       "        text-align: right;\n",
       "    }\n",
       "</style>\n",
       "<table border=\"1\" class=\"dataframe\">\n",
       "  <thead>\n",
       "    <tr style=\"text-align: right;\">\n",
       "      <th></th>\n",
       "      <th>user_id</th>\n",
       "      <th>game_title</th>\n",
       "      <th>behavior</th>\n",
       "      <th>value</th>\n",
       "    </tr>\n",
       "  </thead>\n",
       "  <tbody>\n",
       "    <tr>\n",
       "      <th>0</th>\n",
       "      <td>151603712</td>\n",
       "      <td>The Elder Scrolls V Skyrim</td>\n",
       "      <td>purchase</td>\n",
       "      <td>1</td>\n",
       "    </tr>\n",
       "    <tr>\n",
       "      <th>1</th>\n",
       "      <td>151603712</td>\n",
       "      <td>Fallout 4</td>\n",
       "      <td>purchase</td>\n",
       "      <td>1</td>\n",
       "    </tr>\n",
       "    <tr>\n",
       "      <th>2</th>\n",
       "      <td>151603712</td>\n",
       "      <td>Spore</td>\n",
       "      <td>purchase</td>\n",
       "      <td>1</td>\n",
       "    </tr>\n",
       "    <tr>\n",
       "      <th>3</th>\n",
       "      <td>151603712</td>\n",
       "      <td>Fallout New Vegas</td>\n",
       "      <td>purchase</td>\n",
       "      <td>1</td>\n",
       "    </tr>\n",
       "    <tr>\n",
       "      <th>4</th>\n",
       "      <td>151603712</td>\n",
       "      <td>Left 4 Dead 2</td>\n",
       "      <td>purchase</td>\n",
       "      <td>1</td>\n",
       "    </tr>\n",
       "    <tr>\n",
       "      <th>...</th>\n",
       "      <td>...</td>\n",
       "      <td>...</td>\n",
       "      <td>...</td>\n",
       "      <td>...</td>\n",
       "    </tr>\n",
       "    <tr>\n",
       "      <th>129506</th>\n",
       "      <td>128470551</td>\n",
       "      <td>Fallen Earth</td>\n",
       "      <td>purchase</td>\n",
       "      <td>1</td>\n",
       "    </tr>\n",
       "    <tr>\n",
       "      <th>129507</th>\n",
       "      <td>128470551</td>\n",
       "      <td>Magic Duels</td>\n",
       "      <td>purchase</td>\n",
       "      <td>1</td>\n",
       "    </tr>\n",
       "    <tr>\n",
       "      <th>129508</th>\n",
       "      <td>128470551</td>\n",
       "      <td>Titan Souls</td>\n",
       "      <td>purchase</td>\n",
       "      <td>1</td>\n",
       "    </tr>\n",
       "    <tr>\n",
       "      <th>129509</th>\n",
       "      <td>128470551</td>\n",
       "      <td>Grand Theft Auto Vice City</td>\n",
       "      <td>purchase</td>\n",
       "      <td>1</td>\n",
       "    </tr>\n",
       "    <tr>\n",
       "      <th>129510</th>\n",
       "      <td>128470551</td>\n",
       "      <td>RUSH</td>\n",
       "      <td>purchase</td>\n",
       "      <td>1</td>\n",
       "    </tr>\n",
       "  </tbody>\n",
       "</table>\n",
       "<p>129511 rows × 4 columns</p>\n",
       "</div>"
      ],
      "text/plain": [
       "          user_id                  game_title  behavior value\n",
       "0       151603712  The Elder Scrolls V Skyrim  purchase     1\n",
       "1       151603712                   Fallout 4  purchase     1\n",
       "2       151603712                       Spore  purchase     1\n",
       "3       151603712           Fallout New Vegas  purchase     1\n",
       "4       151603712               Left 4 Dead 2  purchase     1\n",
       "...           ...                         ...       ...   ...\n",
       "129506  128470551                Fallen Earth  purchase     1\n",
       "129507  128470551                 Magic Duels  purchase     1\n",
       "129508  128470551                 Titan Souls  purchase     1\n",
       "129509  128470551  Grand Theft Auto Vice City  purchase     1\n",
       "129510  128470551                        RUSH  purchase     1\n",
       "\n",
       "[129511 rows x 4 columns]"
      ]
     },
     "execution_count": 22,
     "metadata": {},
     "output_type": "execute_result"
    }
   ],
   "source": [
    "df"
   ]
  },
  {
   "cell_type": "code",
   "execution_count": 27,
   "metadata": {},
   "outputs": [
    {
     "data": {
      "text/plain": [
       "user_id\n",
       "100012061     1\n",
       "100053304     7\n",
       "100057229     5\n",
       "100070732     7\n",
       "100096071    38\n",
       "             ..\n",
       "99812428      1\n",
       "99906508      2\n",
       "99940330      1\n",
       "99961115      5\n",
       "99992274      1\n",
       "Name: game_title, Length: 12393, dtype: int64"
      ]
     },
     "execution_count": 27,
     "metadata": {},
     "output_type": "execute_result"
    }
   ],
   "source": [
    "df.groupby(['user_id'])['game_title'].count()"
   ]
  },
  {
   "cell_type": "code",
   "execution_count": 68,
   "metadata": {},
   "outputs": [
    {
     "name": "stdout",
     "output_type": "stream",
     "text": [
      "b'PAC-MAN Championship Edition DX+'\n",
      "----\n",
      "b'HuniePop Official Digital Art Collection'\n",
      "----\n",
      "b'HuniePop Original Soundtrack'\n",
      "----\n",
      "b'Aggression Europe Under Fire'\n",
      "----\n",
      "b'Spore'\n",
      "----\n",
      "b'HuniePop'\n",
      "----\n",
      "b\"Tony Hawk's Pro Skater HD\"\n",
      "----\n",
      "b'Jazzpunk'\n",
      "----\n",
      "b'TerraTech'\n",
      "----\n",
      "b'The Banner Saga - Mod Content'\n",
      "----\n"
     ]
    }
   ],
   "source": [
    "for i in  _h :\n",
    "    if not np.any((df[df['user_id']=='151603712']['game_title']==i)):\n",
    "        print(i)\n",
    "        print(\"-\"*4)"
   ]
  },
  {
   "cell_type": "code",
   "execution_count": 50,
   "metadata": {},
   "outputs": [],
   "source": [
    "_h = [b'PAC-MAN Championship Edition DX+',\n",
    " b'HuniePop Official Digital Art Collection',\n",
    " b'HuniePop Original Soundtrack', b'Aggression Europe Under Fire', b'Spore',\n",
    " b'HuniePop', b\"Tony Hawk's Pro Skater HD\", b'Jazzpunk', b'TerraTech',\n",
    " b'The Banner Saga - Mod Content']"
   ]
  },
  {
   "cell_type": "code",
   "execution_count": null,
   "metadata": {},
   "outputs": [],
   "source": []
  }
 ],
 "metadata": {
  "kernelspec": {
   "display_name": "torch",
   "language": "python",
   "name": "python3"
  },
  "language_info": {
   "codemirror_mode": {
    "name": "ipython",
    "version": 3
   },
   "file_extension": ".py",
   "mimetype": "text/x-python",
   "name": "python",
   "nbconvert_exporter": "python",
   "pygments_lexer": "ipython3",
   "version": "3.9.12 (main, Apr  4 2022, 05:22:27) [MSC v.1916 64 bit (AMD64)]"
  },
  "orig_nbformat": 4,
  "vscode": {
   "interpreter": {
    "hash": "15eefb329bb1b1c079ead78d506cf6d2acec38512d71f4ea03924bc758d5b50f"
   }
  }
 },
 "nbformat": 4,
 "nbformat_minor": 2
}
