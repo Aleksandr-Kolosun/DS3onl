{
 "cells": [
  {
   "cell_type": "code",
   "execution_count": 1,
   "metadata": {},
   "outputs": [
    {
     "name": "stdout",
     "output_type": "stream",
     "text": [
      "2.5\n",
      "0.5\n",
      "2.23606797749979\n"
     ]
    }
   ],
   "source": [
    "from scipy import spatial\n",
    "a = [1, 2]\n",
    "b = [2, 4]\n",
    "c = [2.5, 4]\n",
    "d = [4.5, 5]\n",
    "\n",
    "print(spatial.distance.euclidean(c, a))\n",
    "print(spatial.distance.euclidean(c, b))\n",
    "print(spatial.distance.euclidean(c, d))"
   ]
  },
  {
   "attachments": {},
   "cell_type": "markdown",
   "metadata": {},
   "source": [
    "![](euclidean-distance.webp)"
   ]
  },
  {
   "cell_type": "code",
   "execution_count": 3,
   "metadata": {},
   "outputs": [
    {
     "name": "stdout",
     "output_type": "stream",
     "text": [
      "0.004504527406047898\n",
      "0.004504527406047898\n",
      "0.015137225946083022\n",
      "0\n"
     ]
    }
   ],
   "source": [
    "from scipy import spatial\n",
    "a = [1, 2]\n",
    "b = [2, 4]\n",
    "c = [2.5, 4]\n",
    "d = [4.5, 5]\n",
    "\n",
    "\n",
    "print(spatial.distance.cosine(c,a))\n",
    "print(spatial.distance.cosine(c,b))\n",
    "print(spatial.distance.cosine(c,d))\n",
    "print(spatial.distance.cosine(a,b))"
   ]
  },
  {
   "cell_type": "code",
   "execution_count": null,
   "metadata": {},
   "outputs": [],
   "source": []
  }
 ],
 "metadata": {
  "kernelspec": {
   "display_name": "base",
   "language": "python",
   "name": "python3"
  },
  "language_info": {
   "codemirror_mode": {
    "name": "ipython",
    "version": 3
   },
   "file_extension": ".py",
   "mimetype": "text/x-python",
   "name": "python",
   "nbconvert_exporter": "python",
   "pygments_lexer": "ipython3",
   "version": "3.9.7"
  },
  "orig_nbformat": 4,
  "vscode": {
   "interpreter": {
    "hash": "cceda5113f07d4047741cabbb211c044d7f16bbd82324456effbfb8d7e8a3a9e"
   }
  }
 },
 "nbformat": 4,
 "nbformat_minor": 2
}
