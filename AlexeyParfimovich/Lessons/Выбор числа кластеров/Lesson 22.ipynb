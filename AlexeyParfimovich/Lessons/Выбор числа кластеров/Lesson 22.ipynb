{
 "cells": [
  {
   "cell_type": "code",
   "execution_count": 1,
   "metadata": {},
   "outputs": [],
   "source": [
    "%matplotlib inline\n",
    "import mglearn\n",
    "import matplotlib.pyplot as plt\n",
    "import numpy as np"
   ]
  },
  {
   "cell_type": "markdown",
   "metadata": {},
   "source": [
    "## Машинное обучение с учителем\n",
    "\n",
    "Есть два основные задачи машинного обучения с учителем:\n",
    "классификация (classification) и регрессия (regression).\n",
    "Цель классификации состоит в том, чтобы спрогнозировать метку\n",
    "класса (class label), которая представляет собой выбор из заранее\n",
    "определенного списка возможных вариантов. Ранее мы использовали\n",
    "пример классификации ирисов, когда относили цветок к одному из трех\n",
    "возможных сортов. Классификация иногда разделяется на бинарную\n",
    "классификацию (binary classification), которая является частным случаем\n",
    "разделения на два класса, и мультиклассовую классификацию (multiclass\n",
    "classification), когда в классификации участвует более двух классов.\n",
    "Бинарную классификацию можно представить как попытку ответить на\n",
    "поставленный вопрос в формате «да/нет». Классификация электронных\n",
    "писем на спам и не-спам является примером бинарной классификации.\n",
    "В данной задаче бинарной классификации ответ «да/нет» дается на\n",
    "вопрос «является ли это электронное письмо спамом?»"
   ]
  },
  {
   "cell_type": "markdown",
   "metadata": {},
   "source": [
    "- Например:\n",
    "В бинарной классификации мы часто говорим о том, что один\n",
    "класс является положительным (positive) классом, а другой класс\n",
    "является отрицательным (negative) классом. При этом\n",
    "«положительный» означает здесь не наличие выгоды (ценности),\n",
    "а объект исследования. Таким образом, при поиске спама,\n",
    "положительным классом может быть класс «спам». Вопрос о том,\n",
    "какой из этих двух классов будет положительным, часто\n",
    "субъективен и зависит от предметной области исследования."
   ]
  },
  {
   "cell_type": "markdown",
   "metadata": {},
   "source": [
    "С другой стороны, пример классификации ирисов является примером\n",
    "мультиклассовой классификации. Еще один пример – прогнозирование\n",
    "языка веб-сайта. Классами здесь будет заранее определенный список\n",
    "возможных языков.\n",
    "Цель регрессии состоит в том, чтобы спрогнозировать непрерывное\n",
    "число или число с плавающей точкой (floating-point number), если\n",
    "использовать термины программирования, или вещественное число (real\n",
    "number), если говорить языком математических терминов.\n",
    "Прогнозирование годового дохода человека в зависимости от его\n",
    "образования, возраста и места жительства является примером\n",
    "регрессионной задачи. Прогнозируемое значение дохода представляет\n",
    "собой сумму (amount) и может быть любым числом в заданном\n",
    "диапазоне. Другой пример регрессионной задачи – прогнозирование\n",
    "объема урожая зерна на ферме в зависимости от таких атрибутов, как\n",
    "объем предыдущего урожая, погода, и количество сотрудников,\n",
    "работающих на ферме. И снова объем урожая может быть любым числом.\n",
    "Самый простой способ отличить классификацию от регрессии –\n",
    "спросить, заложена ли в полученном ответе определенная непрерывность\n",
    "(преемственность). Если полученные результаты непрерывно связаны\n",
    "друг с другом, то решаемая задача является задачей регрессии. Возьмем\n",
    "прогнозирование годового дохода. Здесь ясно видна непрерывность\n",
    "ответа. Разница между годовым доходом в 40000$  или  40001$ не\n",
    "существенна, хотя речь идет о разных денежных суммах. Если наш\n",
    "алгоритм предсказывает 39999$ или  40001$, в то время как он должен\n",
    "предсказать  40000$ (реальное значение годового дохода), мы не будем\n",
    "настаивать на том, что разница существенна. Наоборот, в задаче\n",
    "распознавании языка веб-сайта (задаче классификации) ответы четко\n",
    "определены. Контент сайта может быть написан либо на одном\n",
    "конкретном языке, либо на другом. Между языками нет непрерывной\n",
    "связи, не существует языка, находящегося между английским и\n",
    "французским"
   ]
  },
  {
   "cell_type": "markdown",
   "metadata": {},
   "source": [
    "### Обобщающая способность переобучение и недообучение"
   ]
  },
  {
   "cell_type": "markdown",
   "metadata": {},
   "source": [
    "   В машинном обучении с учителем нам нужно построить модель на\n",
    "обучающих данных, а затем получить точные прогнозы для новых, еще\n",
    "не встречавшихся нам данных, которые имеют те же самые\n",
    "характеристики, что и использованный нами обучающий набор. Если\n",
    "модель может выдавать точные прогнозы на ранее не встречавшихся\n",
    "данных, мы говорим, что модель обладает способностью обобщать\n",
    "(generalize) результат на тестовые данные. Нам необходимо построить\n",
    "модель, которая будет обладать максимальной обобщающей\n",
    "способностью.\n",
    "    Обычно мы строим модель таким образом, чтобы она давала точные\n",
    "прогнозы на обучающем наборе. Если обучающий и тестовый наборы\n",
    "имеют много общего между собой, можно ожидать, что модель будет\n",
    "точной и на тестовом наборе. Однако в некоторых случаях этого не\n",
    "происходит. Например, если мы строим очень сложные модели,\n",
    "необходимо помнить, что на обучающей выборке можно получить\n",
    "произвольную правильность.\n",
    "Давайте взглянем на выдуманный пример, чтобы проиллюстрировать\n",
    "этот тезис. Скажем, начинающий специалист по анализу данных хочет\n",
    "спрогнозировать покупку клиентом лодки на основе записей о клиентах,\n",
    "которые ранее приобрели лодку, и клиентах, которые не заинтересованы\n",
    "в покупке лодки. Цель состоит в том, чтобы отправить рекламные\n",
    "письма клиентам, которые, вероятно, хотят совершить покупку, и не\n",
    "беспокоить клиентов, не заинтересованных в покупке.\n",
    "    Единственный показатель качества работы алгоритма на новых\n",
    "данных – это использование тестового набора. Однако интуитивно8 мы\n",
    "ожидаем, что простые модели должны лучше обобщать результат на\n",
    "новые данные. Если бы правило звучало «люди старше 50 лет хотят\n",
    "купить лодку» и оно объясняло бы поведение всех клиентов, мы доверяли бы ему больше, чем правилу, которое помимо возраста\n",
    "включало бы количество детей и семейное положение. Поэтому нам\n",
    "всегда нужно искать самую простую модель. Построение модели, которая\n",
    "слишком сложна для имеющегося у нас объема информации (что и\n",
    "сделал наш начинающий специалист по анализу данных), называется\n",
    "переобучением (overfitting). Переобучение происходит, когда ваша\n",
    "модель слишком точно подстраивается под особенности обучающего\n",
    "набора и вы получаете модель, которая хорошо работает на обучающем\n",
    "наборе, но не умеет обобщать результат на новые данные. С другой\n",
    "стороны, если ваша модель слишком проста, скажем, вы сформулировали\n",
    "правило «все, у кого есть собственный дом, покупает лодку», вы,\n",
    "возможно, не смогли охватить все многообразие и изменчивость данных,\n",
    "и ваша модель будет плохо работать даже на обучающем наборе. Выбор\n",
    "слишком простой модели называется недообучением (underfitting).\n",
    "Чем сложнее модель, тем лучше она будет работать на обучающих\n",
    "данных. Однако, если наша модель становится слишком сложной, мы\n",
    "начинаем уделять слишком много внимания каждой отдельной точке\n",
    "данных в нашем обучающем наборе, и эта модель не будет хорошо\n",
    "обобщать результат на новые данные.\n",
    "Существует оптимальная точка, которая позволяет получить\n",
    "наилучшую обобщающую способность. Собственно это и есть модель,\n",
    "которую нам нужно найти."
   ]
  },
  {
   "cell_type": "markdown",
   "metadata": {},
   "source": [
    "### Взаимосвязь между сложностью модели и размером набора данных"
   ]
  },
  {
   "cell_type": "markdown",
   "metadata": {},
   "source": [
    "Важно отметить, что сложность модели тесно связана с изменчивостью\n",
    "входных данных, содержащихся в вашем обучающем наборе: чем больше\n",
    "разнообразие точек данных в вашем наборе, тем более сложную модель\n",
    "можно использовать, не беспокоясь о переобучении. Обычно больший\n",
    "объем данных дает большее разнообразие, таким образом, большие\n",
    "наборы данных позволяют строить более сложные модели. Однако\n",
    "простое дублирование одних и тех же точек данных или сбор очень\n",
    "похожих данных здесь не поможет. \n",
    "   \n",
    "   Увеличение объема данных и построение более сложных моделей\n",
    "часто творят чудеса при решении задач машинного обучения с учителем.\n",
    "В этой книге мы сосредоточимся на работе с данными фиксированного\n",
    "размера. В действительности вы, как правило, сами можете определить\n",
    "объем собираемых данных, и это может оказаться более полезным, чем\n",
    "корректировка и настройка вашей модели. Никогда не стоит\n",
    "недооценивать преимущества увеличения объема данных."
   ]
  },
  {
   "cell_type": "markdown",
   "metadata": {},
   "source": [
    "Теперь мы рассмотрим наиболее популярные алгоритмы машинного\n",
    "обучения и объясним, как они обучаются на основе данных и как\n",
    "вычисляют прогнозы. Кроме того, мы расскажем о том, как принцип\n",
    "сложности реализуется для каждой из этих моделей, и покажем, как тот\n",
    "или иной алгоритм строит модель. Мы рассмотрим преимущества и\n",
    "недостатки каждого алгоритма, а также расскажем о том, применительно\n",
    "к каким данным лучше всего использовать тот или иной алгоритм. Мы\n",
    "также объясним значение наиболее важных параметров и опций. Многие\n",
    "алгоритмы имеют опции классификации и регрессии, поэтому мы\n",
    "опишем обе опции.\n",
    "Необязательно детально вчитываться в описание каждого алгоритма,\n",
    "но понимание модели даст вам лучшее представление о различных\n",
    "способах работы алгоритмов машинного обучения. Кроме того, эту главу\n",
    "можно использовать в качестве справочного руководства, и вы можете\n",
    "вернуться к ней, если не знаете, как работает тот или иной алгоритм."
   ]
  },
  {
   "cell_type": "markdown",
   "metadata": {},
   "source": [
    "Для иллюстрации различных алгоритмов мы будем использовать\n",
    "несколько наборов данных. Некоторые наборы данных будет\n",
    "небольшими и синтетическими (то есть выдуманными), призванными\n",
    "подчеркнуть отдельные аспекты алгоритмов. Другие наборы данных\n",
    "будут большими, реальными примерами.\n",
    "Примером синтетического набора данных для двухклассовой\n",
    "классификации является набор данных forge, который содержит два\n",
    "признака. Программный код, приведенный ниже, создает диаграмму\n",
    "рассеяния (рис.), визуализируя все точки данных в этом наборе. На\n",
    "графике первый признак отложен на оси х, а второй – по оси у. Как это\n",
    "всегда бывает в диаграммах рассяения, каждая точка данных\n",
    "представлена в виде одного маркера. Цвет и форма маркера указывает на\n",
    "класс, к которому принадлежит точка:"
   ]
  },
  {
   "cell_type": "code",
   "execution_count": 2,
   "metadata": {
    "caption": "Forge dataset",
    "label": "forge_scatter"
   },
   "outputs": [
    {
     "name": "stdout",
     "output_type": "stream",
     "text": [
      "X.shape: (26, 2)\n"
     ]
    },
    {
     "name": "stderr",
     "output_type": "stream",
     "text": [
      "c:\\Users\\biaspaltsau_aa\\Anaconda3\\lib\\site-packages\\sklearn\\utils\\deprecation.py:87: FutureWarning: Function make_blobs is deprecated; Please import make_blobs directly from scikit-learn\n",
      "  warnings.warn(msg, category=FutureWarning)\n"
     ]
    },
    {
     "data": {
      "image/png": "[encoded data removed]",
      "text/plain": [
       "<Figure size 432x288 with 1 Axes>"
      ]
     },
     "metadata": {
      "needs_background": "light"
     },
     "output_type": "display_data"
    }
   ],
   "source": [
    "# generate dataset\n",
    "X, y = mglearn.datasets.make_forge()\n",
    "# plot dataset\n",
    "mglearn.discrete_scatter(X[:, 0], X[:, 1], y)\n",
    "plt.legend([\"Class 0\", \"Class 1\"], loc=4)\n",
    "plt.xlabel(\"First feature\")\n",
    "plt.ylabel(\"Second feature\")\n",
    "print(\"X.shape:\", X.shape)"
   ]
  },
  {
   "cell_type": "markdown",
   "metadata": {},
   "source": [
    "Как видно из сводки по массиву X, этот набор состоит из 26 точек\n",
    "данных и 2 признаков. Для иллюстрации алгоритмов регрессии, мы\n",
    "воспользуемся синтетическим набором wave. Набор данных имеет\n",
    "единственный входной признак и непрерывную целевую переменную\n",
    "или отклик (response), который мы хотим смоделировать. На рисунке,\n",
    "построенном здесь (рис.), по оси x располагается единственный\n",
    "признак, а по оси y – целевая переменная (ответ)."
   ]
  },
  {
   "cell_type": "code",
   "execution_count": 3,
   "metadata": {},
   "outputs": [
    {
     "data": {
      "text/plain": [
       "Text(0, 0.5, 'Target')"
      ]
     },
     "execution_count": 3,
     "metadata": {},
     "output_type": "execute_result"
    },
    {
     "data": {
      "image/png": "[encoded data removed]",
      "text/plain": [
       "<Figure size 432x288 with 1 Axes>"
      ]
     },
     "metadata": {
      "needs_background": "light"
     },
     "output_type": "display_data"
    }
   ],
   "source": [
    "X, y = mglearn.datasets.make_wave(n_samples=40)\n",
    "plt.plot(X, y, 'o')\n",
    "plt.ylim(-3, 3)\n",
    "plt.xlabel(\"Feature\")\n",
    "plt.ylabel(\"Target\")"
   ]
  },
  {
   "cell_type": "markdown",
   "metadata": {},
   "source": [
    "Мы используем эти очень простые, низкоразмерные наборы данных,\n",
    "потому что их легко визуализировать – печатная страница имеет два\n",
    "измерения, и данные, которые содержат более двух признаков,\n",
    "графически представить трудно. Вывод, полученный для набора с\n",
    "небольшим числом признаков или низкоразмерном (low-dimensional)\n",
    "наборе, возможно, не подтвердится для набора данных с большим\n",
    "количеством признаков или высокоразмерного (high-dimensional)\n",
    "набора. Если вы помните об этом, проверка алгоритма на\n",
    "низкоразмерном наборе данных может оказаться очень полезной."
   ]
  },
  {
   "cell_type": "markdown",
   "metadata": {},
   "source": [
    "Мы дополним эти небольшие синтетические наборы данных двумя\n",
    "реальными наборами, которые включены в scikit-learn. Один из них –\n",
    "набор данных по раку молочной железы Университета Висконсин\n",
    "(cancer для краткости), в котором записаны клинические измерения\n",
    "опухолей молочной железы. Каждая опухоль обозначается как «benign»\n",
    "(«доброкачественная», для неагрессивных опухолей) или malignant\n",
    "(«злокачественная», для раковых опухолей), и задача состоит в том,\n",
    "чтобы на основании измерений ткани дать прогноз, является ли опухоль\n",
    "злокачественной.\n",
    "Данные можно загрузить из scikit-learn с помощью функции\n",
    "load_breast_cancer:"
   ]
  },
  {
   "cell_type": "markdown",
   "metadata": {},
   "source": [
    "### - Примечание:"
   ]
  },
  {
   "cell_type": "markdown",
   "metadata": {},
   "source": [
    "Наборы данных, которые включены в scikit-learn, обычно\n",
    "хранятся в виде объектов Bunch, которые содержат некоторую\n",
    "информацию о наборе данных, а также фактические данные. Все,\n",
    "что вам нужно знать об объектах Bunch – это то, что они похожи\n",
    "на словари, с тем преимуществом, что вы можете прочитать\n",
    "значения, используя точку (bunch.key вместо bunch['key'])"
   ]
  },
  {
   "cell_type": "code",
   "execution_count": 4,
   "metadata": {},
   "outputs": [
    {
     "name": "stdout",
     "output_type": "stream",
     "text": [
      "cancer.keys():\n",
      " dict_keys(['data', 'target', 'frame', 'target_names', 'DESCR', 'feature_names', 'filename', 'data_module'])\n"
     ]
    }
   ],
   "source": [
    "from sklearn.datasets import load_breast_cancer\n",
    "cancer = load_breast_cancer()\n",
    "print(\"cancer.keys():\\n\", cancer.keys())"
   ]
  },
  {
   "cell_type": "markdown",
   "metadata": {},
   "source": [
    "Набор данных включает 569 точек данных и 30 признаков."
   ]
  },
  {
   "cell_type": "code",
   "execution_count": 5,
   "metadata": {},
   "outputs": [
    {
     "name": "stdout",
     "output_type": "stream",
     "text": [
      "Shape of cancer data: (569, 30)\n"
     ]
    }
   ],
   "source": [
    "print(\"Shape of cancer data:\", cancer.data.shape)"
   ]
  },
  {
   "cell_type": "code",
   "execution_count": 6,
   "metadata": {},
   "outputs": [
    {
     "name": "stdout",
     "output_type": "stream",
     "text": [
      "Sample counts per class:\n",
      " {'malignant': 212, 'benign': 357}\n"
     ]
    }
   ],
   "source": [
    "print(\"Sample counts per class:\\n\",\n",
    "      {n: v for n, v in zip(cancer.target_names, np.bincount(cancer.target))})"
   ]
  },
  {
   "cell_type": "markdown",
   "metadata": {},
   "source": [
    "Из 569 точек данных 212 помечены как злокачественные, а 357 как\n",
    "доброкачественные."
   ]
  },
  {
   "cell_type": "markdown",
   "metadata": {},
   "source": [
    "Чтобы получить содержательное описание каждого признака,\n",
    "взглянем на атрибут feature_names:"
   ]
  },
  {
   "cell_type": "code",
   "execution_count": 7,
   "metadata": {},
   "outputs": [
    {
     "name": "stdout",
     "output_type": "stream",
     "text": [
      "Feature names:\n",
      " ['mean radius' 'mean texture' 'mean perimeter' 'mean area'\n",
      " 'mean smoothness' 'mean compactness' 'mean concavity'\n",
      " 'mean concave points' 'mean symmetry' 'mean fractal dimension'\n",
      " 'radius error' 'texture error' 'perimeter error' 'area error'\n",
      " 'smoothness error' 'compactness error' 'concavity error'\n",
      " 'concave points error' 'symmetry error' 'fractal dimension error'\n",
      " 'worst radius' 'worst texture' 'worst perimeter' 'worst area'\n",
      " 'worst smoothness' 'worst compactness' 'worst concavity'\n",
      " 'worst concave points' 'worst symmetry' 'worst fractal dimension']\n"
     ]
    }
   ],
   "source": [
    "print(\"Feature names:\\n\", cancer.feature_names)"
   ]
  },
  {
   "cell_type": "markdown",
   "metadata": {},
   "source": [
    "Если вам интересно, то более подробную информацию о данных\n",
    "можно получить, прочитав cancer.DESCR.\n",
    "Кроме того, для задач регрессии мы будем использовать реальный\n",
    "набор данных – набор данных Boston Housing. Задача, связанная с этим\n",
    "набором данных, заключается в том, чтобы спрогнозировать медианную\n",
    "стоимость домов в нескольких районах Бостона в 1970-е годы на основе\n",
    "такой информации, как уровень преступности, близость к Charles River,\n",
    "удаленность от радиальных магистралей и т.д. Набор данных содержит\n",
    "506 точек данных и 13 признаков:"
   ]
  },
  {
   "cell_type": "markdown",
   "metadata": {},
   "source": [
    "Опять же, вы можете получить более подробную информацию о\n",
    "наборе данных, прочитав атрибут boston.DESCR. В данном случае мы\n",
    "более детально проанализируем набор данных, учтя не только 13\n",
    "измерений в качестве входных признаков, но и приняв во внимание все\n",
    "взаимодействия (interactions) между признаками. Иными словами, мы\n",
    "будем учитывать в качестве признаков не только уровень преступности\n",
    "и удаленность от радиальных магистралей по отдельности, но и\n",
    "взаимодействие уровень преступности–удаленность от радиальных\n",
    "магистралей. Включение производных признаков называется\n",
    "конструированием признаков (feature engineering), которое мы\n",
    "рассмотрим более подробно в дальнейшем. Набор данных c производными\n",
    "признаками можно загрузить с помощью функции load_extended_boston:"
   ]
  },
  {
   "cell_type": "code",
   "execution_count": 8,
   "metadata": {},
   "outputs": [
    {
     "name": "stdout",
     "output_type": "stream",
     "text": [
      "Data shape: (506, 13)\n"
     ]
    },
    {
     "name": "stderr",
     "output_type": "stream",
     "text": [
      "c:\\Users\\biaspaltsau_aa\\Anaconda3\\lib\\site-packages\\sklearn\\utils\\deprecation.py:87: FutureWarning: Function load_boston is deprecated; `load_boston` is deprecated in 1.0 and will be removed in 1.2.\n",
      "\n",
      "    The Boston housing prices dataset has an ethical problem. You can refer to\n",
      "    the documentation of this function for further details.\n",
      "\n",
      "    The scikit-learn maintainers therefore strongly discourage the use of this\n",
      "    dataset unless the purpose of the code is to study and educate about\n",
      "    ethical issues in data science and machine learning.\n",
      "\n",
      "    In this special case, you can fetch the dataset from the original\n",
      "    source::\n",
      "\n",
      "        import pandas as pd\n",
      "        import numpy as np\n",
      "\n",
      "        data_url = \"http://lib.stat.cmu.edu/datasets/boston\"\n",
      "        raw_df = pd.read_csv(data_url, sep=\"\\s+\", skiprows=22, header=None)\n",
      "        data = np.hstack([raw_df.values[::2, :], raw_df.values[1::2, :2]])\n",
      "        target = raw_df.values[1::2, 2]\n",
      "\n",
      "    Alternative datasets include the California housing dataset (i.e.\n",
      "    :func:`~sklearn.datasets.fetch_california_housing`) and the Ames housing\n",
      "    dataset. You can load the datasets as follows::\n",
      "\n",
      "        from sklearn.datasets import fetch_california_housing\n",
      "        housing = fetch_california_housing()\n",
      "\n",
      "    for the California housing dataset and::\n",
      "\n",
      "        from sklearn.datasets import fetch_openml\n",
      "        housing = fetch_openml(name=\"house_prices\", as_frame=True)\n",
      "\n",
      "    for the Ames housing dataset.\n",
      "  warnings.warn(msg, category=FutureWarning)\n"
     ]
    }
   ],
   "source": [
    "from sklearn.datasets import load_boston\n",
    "boston = load_boston()\n",
    "print(\"Data shape:\", boston.data.shape)"
   ]
  },
  {
   "cell_type": "code",
   "execution_count": 9,
   "metadata": {},
   "outputs": [
    {
     "name": "stdout",
     "output_type": "stream",
     "text": [
      "X.shape: (506, 104)\n"
     ]
    }
   ],
   "source": [
    "X, y = mglearn.datasets.load_extended_boston()\n",
    "print(\"X.shape:\", X.shape)"
   ]
  },
  {
   "cell_type": "markdown",
   "metadata": {},
   "source": [
    "Мы будем использовать эти наборы данных, чтобы объяснить и\n",
    "проиллюстрировать свойства различных алгоритмов машинного\n",
    "обучения. Однако сейчас давайте перейдем к самим алгоритмам."
   ]
  },
  {
   "cell_type": "markdown",
   "metadata": {},
   "source": [
    "#### Метод К ближайших соседей\n",
    "Алгоритм k ближайших соседей, возможно, является самым простым\n",
    "алгоритмом машинного обучения. Построение модели заключается в\n",
    "запоминании обучающего набора данных. Для того, чтобы сделать\n",
    "прогноз для новой точки данных, алгоритм находит ближайшие к ней\n",
    "точки обучающего набора, то есть находит «ближайших соседей».\n",
    "\n",
    "##### Классификация с помощью k ближайших соседей\n",
    "В простейшем варианте алгоритм k ближайших соседей рассматривает\n",
    "лишь одного ближайшего соседа – точку обучающего набора, ближе всего\n",
    "расположенную к точке, для которой мы хотим получить прогноз.\n",
    "Прогнозом является ответ, уже известный для данной точки обучающего\n",
    "набора. На следующем рис. показано решение задачи классификации для набора\n",
    "данных forge:\n"
   ]
  },
  {
   "cell_type": "code",
   "execution_count": 12,
   "metadata": {
    "hide_input": false
   },
   "outputs": [
    {
     "name": "stderr",
     "output_type": "stream",
     "text": [
      "c:\\Users\\biaspaltsau_aa\\Anaconda3\\lib\\site-packages\\sklearn\\utils\\deprecation.py:87: FutureWarning: Function make_blobs is deprecated; Please import make_blobs directly from scikit-learn\n",
      "  warnings.warn(msg, category=FutureWarning)\n"
     ]
    },
    {
     "data": {
      "image/png": "[encoded data removed]",
      "text/plain": [
       "<Figure size 432x288 with 1 Axes>"
      ]
     },
     "metadata": {
      "needs_background": "light"
     },
     "output_type": "display_data"
    }
   ],
   "source": [
    "mglearn.plots.plot_knn_classification(n_neighbors=2)"
   ]
  },
  {
   "cell_type": "markdown",
   "metadata": {},
   "source": [
    "Здесь мы добавили три новые точки данных, показанные в виде\n",
    "звездочек. Для каждой мы отметили ближайшую точку обучающего\n",
    "набора. Прогноз, который дает алгоритм одного ближайшего соседа –\n",
    "метка этой точки (показана цветом маркера).\n",
    "Вместо того, чтобы учитывать лишь одного ближайшего соседа, мы\n",
    "можем рассмотреть произвольное количество (k) соседей. Отсюда и\n",
    "происходит название алгоритма k ближайших соседей. Когда мы\n",
    "рассматриваем более одного соседа, для присвоения метки используется\n",
    "голосование (voting). Это означает, что для каждой точки тестового\n",
    "набора мы подсчитываем количество соседей, относящихся к классу 0, и\n",
    "количество соседей, относящихся к классу 1. Затем мы присваиваем\n",
    "точке тестового набора наиболее часто встречающийся класс: другими\n",
    "словами, мы выбираем класс, набравший большинство среди k\n",
    "ближайших соседей. В примере, приведенном ниже (рис.),\n",
    "используются три ближайших соседа:"
   ]
  },
  {
   "cell_type": "code",
   "execution_count": 12,
   "metadata": {
    "hide_input": false
   },
   "outputs": [
    {
     "name": "stderr",
     "output_type": "stream",
     "text": [
      "c:\\Users\\biaspaltsau_aa\\Anaconda3\\lib\\site-packages\\sklearn\\utils\\deprecation.py:87: FutureWarning: Function make_blobs is deprecated; Please import make_blobs directly from scikit-learn\n",
      "  warnings.warn(msg, category=FutureWarning)\n"
     ]
    },
    {
     "data": {
      "image/png": "[encoded data removed]",
      "text/plain": [
       "<Figure size 432x288 with 1 Axes>"
      ]
     },
     "metadata": {
      "needs_background": "light"
     },
     "output_type": "display_data"
    }
   ],
   "source": [
    "mglearn.plots.plot_knn_classification(n_neighbors=3)"
   ]
  },
  {
   "cell_type": "markdown",
   "metadata": {},
   "source": [
    "И снова прогнозы переданы цветом маркера. Видно, что прогноз для\n",
    "новой точки данных в верхнем левом углу отличается от прогноза,\n",
    "полученного при использовании одного ближайшего соседа.\n",
    "Хотя данный рисунок иллюстрирует задачу бинарной классификации,\n",
    "этот метод можно применить к наборам данных с любым количеством\n",
    "классов. В случае мультиклассовой классификации мы подсчитываем\n",
    "количество соседей, принадлежащих к каждому классу, и снова\n",
    "прогнозируем наиболее часто встречающийся класс.\n",
    "Теперь давайте посмотрим, как можно применить алгоритм k\n",
    "ближайших соседей, используя scikit-learn. Во-первых, мы разделим\n",
    "наши данные на обучающий и тестовый наборы, чтобы оценить\n",
    "обобщающую способность модели:"
   ]
  },
  {
   "cell_type": "code",
   "execution_count": 13,
   "metadata": {},
   "outputs": [
    {
     "name": "stderr",
     "output_type": "stream",
     "text": [
      "c:\\Users\\biaspaltsau_aa\\Anaconda3\\lib\\site-packages\\sklearn\\utils\\deprecation.py:87: FutureWarning: Function make_blobs is deprecated; Please import make_blobs directly from scikit-learn\n",
      "  warnings.warn(msg, category=FutureWarning)\n"
     ]
    }
   ],
   "source": [
    "from sklearn.model_selection import train_test_split\n",
    "X, y = mglearn.datasets.make_forge()\n",
    "\n",
    "X_train, X_test, y_train, y_test = train_test_split(X, y, random_state=0)"
   ]
  },
  {
   "cell_type": "code",
   "execution_count": 19,
   "metadata": {},
   "outputs": [
    {
     "data": {
      "text/plain": [
       "array([[ 9.96346605,  4.59676542],\n",
       "       [11.0329545 , -0.16816717],\n",
       "       [11.54155807,  5.21116083],\n",
       "       [ 8.69289001,  1.54322016],\n",
       "       [ 8.1062269 ,  4.28695977],\n",
       "       [ 8.30988863,  4.80623966],\n",
       "       [11.93027136,  4.64866327],\n",
       "       [ 9.67284681, -0.20283165],\n",
       "       [ 8.34810316,  5.13415623],\n",
       "       [ 8.67494727,  4.47573059],\n",
       "       [ 9.17748385,  5.09283177],\n",
       "       [10.24028948,  2.45544401],\n",
       "       [ 8.68937095,  1.48709629],\n",
       "       [ 8.92229526, -0.63993225],\n",
       "       [ 9.49123469,  4.33224792],\n",
       "       [ 9.25694192,  5.13284858],\n",
       "       [ 7.99815287,  4.8525051 ],\n",
       "       [ 8.18378052,  1.29564214],\n",
       "       [ 8.7337095 ,  2.49162431],\n",
       "       [ 9.32298256,  5.09840649],\n",
       "       [10.06393839,  0.99078055],\n",
       "       [ 9.50048972, -0.26430318],\n",
       "       [ 8.34468785,  1.63824349],\n",
       "       [ 9.50169345,  1.93824624],\n",
       "       [ 9.15072323,  5.49832246],\n",
       "       [11.563957  ,  1.3389402 ]])"
      ]
     },
     "execution_count": 19,
     "metadata": {},
     "output_type": "execute_result"
    }
   ],
   "source": []
  },
  {
   "cell_type": "markdown",
   "metadata": {},
   "source": [
    "Далее выполняем импорт и создаем объект-экземпляр класса, задавая\n",
    "параметры, например, количество соседей, которое будем использовать\n",
    "для классификации. В данном случае мы устанавливаем его равным 3:"
   ]
  },
  {
   "cell_type": "code",
   "execution_count": 14,
   "metadata": {},
   "outputs": [],
   "source": [
    "from sklearn.neighbors import KNeighborsClassifier\n",
    "clf = KNeighborsClassifier(n_neighbors=3)"
   ]
  },
  {
   "cell_type": "markdown",
   "metadata": {},
   "source": [
    "Затем подгоняем классификатор, используя обучающий набор. Для\n",
    "KNeighborsClassifier это означает запоминание набора данных, таким\n",
    "образом, мы можем вычислить соседей в ходе прогнозирования:"
   ]
  },
  {
   "cell_type": "code",
   "execution_count": 15,
   "metadata": {},
   "outputs": [
    {
     "data": {
      "text/html": [
       "<style>#sk-container-id-1 {color: black;background-color: white;}#sk-container-id-1 pre{padding: 0;}#sk-container-id-1 div.sk-toggleable {background-color: white;}#sk-container-id-1 label.sk-toggleable__label {cursor: pointer;display: block;width: 100%;margin-bottom: 0;padding: 0.3em;box-sizing: border-box;text-align: center;}#sk-container-id-1 label.sk-toggleable__label-arrow:before {content: \"▸\";float: left;margin-right: 0.25em;color: #696969;}#sk-container-id-1 label.sk-toggleable__label-arrow:hover:before {color: black;}#sk-container-id-1 div.sk-estimator:hover label.sk-toggleable__label-arrow:before {color: black;}#sk-container-id-1 div.sk-toggleable__content {max-height: 0;max-width: 0;overflow: hidden;text-align: left;background-color: #f0f8ff;}#sk-container-id-1 div.sk-toggleable__content pre {margin: 0.2em;color: black;border-radius: 0.25em;background-color: #f0f8ff;}#sk-container-id-1 input.sk-toggleable__control:checked~div.sk-toggleable__content {max-height: 200px;max-width: 100%;overflow: auto;}#sk-container-id-1 input.sk-toggleable__control:checked~label.sk-toggleable__label-arrow:before {content: \"▾\";}#sk-container-id-1 div.sk-estimator input.sk-toggleable__control:checked~label.sk-toggleable__label {background-color: #d4ebff;}#sk-container-id-1 div.sk-label input.sk-toggleable__control:checked~label.sk-toggleable__label {background-color: #d4ebff;}#sk-container-id-1 input.sk-hidden--visually {border: 0;clip: rect(1px 1px 1px 1px);clip: rect(1px, 1px, 1px, 1px);height: 1px;margin: -1px;overflow: hidden;padding: 0;position: absolute;width: 1px;}#sk-container-id-1 div.sk-estimator {font-family: monospace;background-color: #f0f8ff;border: 1px dotted black;border-radius: 0.25em;box-sizing: border-box;margin-bottom: 0.5em;}#sk-container-id-1 div.sk-estimator:hover {background-color: #d4ebff;}#sk-container-id-1 div.sk-parallel-item::after {content: \"\";width: 100%;border-bottom: 1px solid gray;flex-grow: 1;}#sk-container-id-1 div.sk-label:hover label.sk-toggleable__label {background-color: #d4ebff;}#sk-container-id-1 div.sk-serial::before {content: \"\";position: absolute;border-left: 1px solid gray;box-sizing: border-box;top: 0;bottom: 0;left: 50%;z-index: 0;}#sk-container-id-1 div.sk-serial {display: flex;flex-direction: column;align-items: center;background-color: white;padding-right: 0.2em;padding-left: 0.2em;position: relative;}#sk-container-id-1 div.sk-item {position: relative;z-index: 1;}#sk-container-id-1 div.sk-parallel {display: flex;align-items: stretch;justify-content: center;background-color: white;position: relative;}#sk-container-id-1 div.sk-item::before, #sk-container-id-1 div.sk-parallel-item::before {content: \"\";position: absolute;border-left: 1px solid gray;box-sizing: border-box;top: 0;bottom: 0;left: 50%;z-index: -1;}#sk-container-id-1 div.sk-parallel-item {display: flex;flex-direction: column;z-index: 1;position: relative;background-color: white;}#sk-container-id-1 div.sk-parallel-item:first-child::after {align-self: flex-end;width: 50%;}#sk-container-id-1 div.sk-parallel-item:last-child::after {align-self: flex-start;width: 50%;}#sk-container-id-1 div.sk-parallel-item:only-child::after {width: 0;}#sk-container-id-1 div.sk-dashed-wrapped {border: 1px dashed gray;margin: 0 0.4em 0.5em 0.4em;box-sizing: border-box;padding-bottom: 0.4em;background-color: white;}#sk-container-id-1 div.sk-label label {font-family: monospace;font-weight: bold;display: inline-block;line-height: 1.2em;}#sk-container-id-1 div.sk-label-container {text-align: center;}#sk-container-id-1 div.sk-container {/* jupyter's `normalize.less` sets `[hidden] { display: none; }` but bootstrap.min.css set `[hidden] { display: none !important; }` so we also need the `!important` here to be able to override the default hidden behavior on the sphinx rendered scikit-learn.org. See: https://github.com/scikit-learn/scikit-learn/issues/21755 */display: inline-block !important;position: relative;}#sk-container-id-1 div.sk-text-repr-fallback {display: none;}</style><div id=\"sk-container-id-1\" class=\"sk-top-container\"><div class=\"sk-text-repr-fallback\"><pre>KNeighborsClassifier(n_neighbors=3)</pre><b>In a Jupyter environment, please rerun this cell to show the HTML representation or trust the notebook. <br />On GitHub, the HTML representation is unable to render, please try loading this page with nbviewer.org.</b></div><div class=\"sk-container\" hidden><div class=\"sk-item\"><div class=\"sk-estimator sk-toggleable\"><input class=\"sk-toggleable__control sk-hidden--visually\" id=\"sk-estimator-id-1\" type=\"checkbox\" checked><label for=\"sk-estimator-id-1\" class=\"sk-toggleable__label sk-toggleable__label-arrow\">KNeighborsClassifier</label><div class=\"sk-toggleable__content\"><pre>KNeighborsClassifier(n_neighbors=3)</pre></div></div></div></div></div>"
      ],
      "text/plain": [
       "KNeighborsClassifier(n_neighbors=3)"
      ]
     },
     "execution_count": 15,
     "metadata": {},
     "output_type": "execute_result"
    }
   ],
   "source": [
    "clf.fit(X_train, y_train)"
   ]
  },
  {
   "cell_type": "markdown",
   "metadata": {},
   "source": [
    "Чтобы получить прогнозы для тестовых данных, мы вызываем метод\n",
    "predict. Для каждой точки тестового набора он вычисляет ее ближайших\n",
    "соседей в обучающем наборе и находит среди них наиболее часто\n",
    "встречающийся класс:"
   ]
  },
  {
   "cell_type": "code",
   "execution_count": 17,
   "metadata": {},
   "outputs": [
    {
     "name": "stdout",
     "output_type": "stream",
     "text": [
      "Test set predictions: [1 0 1 0 1 0 0]\n"
     ]
    }
   ],
   "source": [
    "print(\"Test set predictions:\", clf.predict(X_test))"
   ]
  },
  {
   "cell_type": "markdown",
   "metadata": {},
   "source": [
    "Для оценки обобщающей способности модели мы вызываем метод\n",
    "score с тестовыми данными и тестовыми метками:"
   ]
  },
  {
   "cell_type": "code",
   "execution_count": 18,
   "metadata": {},
   "outputs": [
    {
     "name": "stdout",
     "output_type": "stream",
     "text": [
      "Test set accuracy: 0.86\n"
     ]
    }
   ],
   "source": [
    "print(\"Test set accuracy: {:.2f}\".format(clf.score(X_test, y_test)))"
   ]
  },
  {
   "cell_type": "markdown",
   "metadata": {},
   "source": [
    "Мы видим, что наша модель имеет правильность 86%, то есть модель\n",
    "правильно предсказала класс для 86% примеров тестового набора."
   ]
  },
  {
   "cell_type": "markdown",
   "metadata": {},
   "source": [
    "##### Анализ KNeighborsClassifier"
   ]
  },
  {
   "cell_type": "markdown",
   "metadata": {},
   "source": [
    "Кроме того, для двумерных массивов данных мы можем показать\n",
    "прогнозы для всех возможных точек тестового набора, разместив в\n",
    "плоскости ху. Мы зададим цвет плоскости в соответствии с тем классом,\n",
    "который будет присвоен точке в этой области. Это позволит нам\n",
    "сформировать границу принятия решений (decision boundary), которая\n",
    "разбивает плоскость на две области: область, где алгоритм присваивает\n",
    "класс 0, и область, где алгоритм присваивает класс 1.\n",
    "Программный код, приведенный ниже, визуализирует границы\n",
    "принятия решений для одного, трех и девяти соседей (показаны на след. рис.):"
   ]
  },
  {
   "cell_type": "code",
   "execution_count": 20,
   "metadata": {
    "hide_input": false
   },
   "outputs": [
    {
     "data": {
      "text/plain": [
       "<matplotlib.legend.Legend at 0x251dde42be0>"
      ]
     },
     "execution_count": 20,
     "metadata": {},
     "output_type": "execute_result"
    },
    {
     "data": {
      "image/png": "[encoded data removed]",
      "text/plain": [
       "<Figure size 720x216 with 3 Axes>"
      ]
     },
     "metadata": {},
     "output_type": "display_data"
    }
   ],
   "source": [
    "fig, axes = plt.subplots(1, 3, figsize=(10, 3))\n",
    "\n",
    "for n_neighbors, ax in zip([1, 3, 18], axes):\n",
    "    # the fit method returns the object self, so we can instantiate\n",
    "    # and fit in one line\n",
    "    clf = KNeighborsClassifier(n_neighbors=n_neighbors).fit(X, y)\n",
    "    mglearn.plots.plot_2d_separator(clf, X, fill=True, eps=0.5, ax=ax, alpha=.4)\n",
    "    mglearn.discrete_scatter(X[:, 0], X[:, 1], y, ax=ax)\n",
    "    ax.set_title(\"{} neighbor(s)\".format(n_neighbors))\n",
    "    ax.set_xlabel(\"feature 0\")\n",
    "    ax.set_ylabel(\"feature 1\")\n",
    "axes[0].legend(loc=3)"
   ]
  },
  {
   "cell_type": "markdown",
   "metadata": {},
   "source": [
    "На рисунке слева можно увидеть, что использование модели одного\n",
    "ближайшего соседа дает границу принятия решений, которая очень\n",
    "хорошо согласуется с обучающими данными. Увеличение числа соседей\n",
    "приводит к сглаживанию границы принятия решений. Более гладкая\n",
    "граница соответствует более простой модели. Другими словами,\n",
    "использование нескольких соседей соответствует высокой сложности\n",
    "модели (как показано в правой части рис. ), а использование большого\n",
    "количества соседей соответствует низкой сложности модели (как\n",
    "показано в левой части рис.). Если взять крайний случай, когда\n",
    "количество соседей будет равно количеству точек данных обучающего \n",
    "набора, каждая точка тестового набора будет иметь одних и тех же\n",
    "соседей (соседями будет все точки обучающего набора) и все прогнозы\n",
    "будут одинаковыми: будет выбран класс, который является наиболее\n",
    "часто встречающимся в обучающем наборе.\n",
    "Давайте выясним, существует ли взаимосвязь между сложностью\n",
    "модели и обобщающей способностью, о которой мы говорили ранее. Мы\n",
    "сделаем это с помощью реального набора данных Breast Cancer. Начнем\n",
    "с того, что разобьем данные на обучающий и тестовый наборы. Затем мы\n",
    "оценим качество работы модели на обучающем и тестовом наборах с\n",
    "использованием разного количества соседей. Результаты показаны на\n",
    "рис.:"
   ]
  },
  {
   "cell_type": "code",
   "execution_count": 21,
   "metadata": {},
   "outputs": [
    {
     "data": {
      "text/plain": [
       "<matplotlib.legend.Legend at 0x251ddefecd0>"
      ]
     },
     "execution_count": 21,
     "metadata": {},
     "output_type": "execute_result"
    },
    {
     "data": {
      "image/png": "[encoded data removed]",
      "text/plain": [
       "<Figure size 432x288 with 1 Axes>"
      ]
     },
     "metadata": {
      "needs_background": "light"
     },
     "output_type": "display_data"
    }
   ],
   "source": [
    "from sklearn.datasets import load_breast_cancer\n",
    "\n",
    "cancer = load_breast_cancer()\n",
    "X_train, X_test, y_train, y_test = train_test_split(\n",
    "    cancer.data, cancer.target, stratify=cancer.target, random_state=66)\n",
    "\n",
    "training_accuracy = []\n",
    "test_accuracy = []\n",
    "# try n_neighbors from 1 to 10\n",
    "neighbors_settings = range(1, 15)\n",
    "\n",
    "for n_neighbors in neighbors_settings:\n",
    "    # build the model\n",
    "    clf = KNeighborsClassifier(n_neighbors=n_neighbors)\n",
    "    clf.fit(X_train, y_train)\n",
    "    # record training set accuracy\n",
    "    training_accuracy.append(clf.score(X_train, y_train))\n",
    "    # record generalization accuracy\n",
    "    test_accuracy.append(clf.score(X_test, y_test))\n",
    "    \n",
    "plt.plot(neighbors_settings, training_accuracy, label=\"training accuracy\")\n",
    "plt.plot(neighbors_settings, test_accuracy, label=\"test accuracy\")\n",
    "plt.ylabel(\"Accuracy\")\n",
    "plt.xlabel(\"n_neighbors\")\n",
    "plt.legend()"
   ]
  },
  {
   "cell_type": "markdown",
   "metadata": {},
   "source": [
    "На этом графике по оси y отложена правильность на обучающем\n",
    "наборе и правильность на тестовом наборе, а по оси x – количество\n",
    "соседей. В реальности подобные графики редко бывают гладкими, мы по-\n",
    "прежнему можем увидеть некоторые признаки переобучения и\n",
    "недообучения (обратите внимание, что поскольку использование\n",
    "небольшого количества соседей соответствует более сложной модели,\n",
    "график представляет собой изображение рис., зеркально отраженное\n",
    "по горизонтали). При использовании модели одного ближайшего соседа\n",
    "правильность на обучающем наборе идеальна. Однако при\n",
    "использовании большего количества соседей модель становится все\n",
    "проще и правильность на обучающем наборе падает. Правильность на\n",
    "тестовом наборе в случае использования одного соседа ниже, чем при\n",
    "использовании нескольких соседей. Это указывает на то, что \n",
    "использование одного ближайшего соседа приводит к построению\n",
    "слишком сложной модели. С другой стороны, когда используются 10\n",
    "соседей, модель становится слишком простой и она работает еще хуже.\n",
    "Оптимальное качество работы модели наблюдается где-то посередине,\n",
    "когда используются шесть соседей. Однако посмотрим на шкалу y.\n",
    "Худшая по качеству модель дает правильность на тестовом наборе около\n",
    "88%, что по-прежнему может быть приемлемым результатом."
   ]
  },
  {
   "cell_type": "markdown",
   "metadata": {},
   "source": [
    "##### Регрессия K ближайщих соседей"
   ]
  },
  {
   "cell_type": "markdown",
   "metadata": {},
   "source": [
    "Существует также регрессионный вариант алгоритма k ближайших\n",
    "соседей. Опять же, давайте начнем с рассмотрения одного ближайшего\n",
    "соседа, на этот раз воспользуемся набором данных wave. Мы добавили\n",
    "три точки тестового набора в виде зеленых звездочек по оси х. Прогноз\n",
    "с использованием одного соседа – это целевое значение ближайшего\n",
    "соседа. На рис. прогнозы показаны в виде синих звездочек:"
   ]
  },
  {
   "cell_type": "code",
   "execution_count": 22,
   "metadata": {
    "hide_input": false
   },
   "outputs": [
    {
     "data": {
      "image/png": "[encoded data removed]",
      "text/plain": [
       "<Figure size 720x432 with 1 Axes>"
      ]
     },
     "metadata": {
      "needs_background": "light"
     },
     "output_type": "display_data"
    }
   ],
   "source": [
    "mglearn.plots.plot_knn_regression(n_neighbors=1)"
   ]
  },
  {
   "cell_type": "markdown",
   "metadata": {},
   "source": [
    "И снова для регрессии мы можем использовать большее количество\n",
    "ближайших соседей. При использовании нескольких ближайших соседей\n",
    "прогнозом становится среднее значение соответствующих соседей"
   ]
  },
  {
   "cell_type": "code",
   "execution_count": 22,
   "metadata": {
    "hide_input": false
   },
   "outputs": [
    {
     "data": {
      "image/png": "[encoded data removed]",
      "text/plain": [
       "<Figure size 720x432 with 1 Axes>"
      ]
     },
     "metadata": {
      "needs_background": "light"
     },
     "output_type": "display_data"
    }
   ],
   "source": [
    "mglearn.plots.plot_knn_regression(n_neighbors=6)"
   ]
  },
  {
   "cell_type": "markdown",
   "metadata": {},
   "source": [
    "Алгоритм регрессии k ближайших соседей реализован в классе\n",
    "KNeighborsRegressor. Он используется точно так же, как\n",
    "KNeighborsClassifier:"
   ]
  },
  {
   "cell_type": "code",
   "execution_count": 23,
   "metadata": {},
   "outputs": [
    {
     "data": {
      "text/html": [
       "<style>#sk-container-id-2 {color: black;background-color: white;}#sk-container-id-2 pre{padding: 0;}#sk-container-id-2 div.sk-toggleable {background-color: white;}#sk-container-id-2 label.sk-toggleable__label {cursor: pointer;display: block;width: 100%;margin-bottom: 0;padding: 0.3em;box-sizing: border-box;text-align: center;}#sk-container-id-2 label.sk-toggleable__label-arrow:before {content: \"▸\";float: left;margin-right: 0.25em;color: #696969;}#sk-container-id-2 label.sk-toggleable__label-arrow:hover:before {color: black;}#sk-container-id-2 div.sk-estimator:hover label.sk-toggleable__label-arrow:before {color: black;}#sk-container-id-2 div.sk-toggleable__content {max-height: 0;max-width: 0;overflow: hidden;text-align: left;background-color: #f0f8ff;}#sk-container-id-2 div.sk-toggleable__content pre {margin: 0.2em;color: black;border-radius: 0.25em;background-color: #f0f8ff;}#sk-container-id-2 input.sk-toggleable__control:checked~div.sk-toggleable__content {max-height: 200px;max-width: 100%;overflow: auto;}#sk-container-id-2 input.sk-toggleable__control:checked~label.sk-toggleable__label-arrow:before {content: \"▾\";}#sk-container-id-2 div.sk-estimator input.sk-toggleable__control:checked~label.sk-toggleable__label {background-color: #d4ebff;}#sk-container-id-2 div.sk-label input.sk-toggleable__control:checked~label.sk-toggleable__label {background-color: #d4ebff;}#sk-container-id-2 input.sk-hidden--visually {border: 0;clip: rect(1px 1px 1px 1px);clip: rect(1px, 1px, 1px, 1px);height: 1px;margin: -1px;overflow: hidden;padding: 0;position: absolute;width: 1px;}#sk-container-id-2 div.sk-estimator {font-family: monospace;background-color: #f0f8ff;border: 1px dotted black;border-radius: 0.25em;box-sizing: border-box;margin-bottom: 0.5em;}#sk-container-id-2 div.sk-estimator:hover {background-color: #d4ebff;}#sk-container-id-2 div.sk-parallel-item::after {content: \"\";width: 100%;border-bottom: 1px solid gray;flex-grow: 1;}#sk-container-id-2 div.sk-label:hover label.sk-toggleable__label {background-color: #d4ebff;}#sk-container-id-2 div.sk-serial::before {content: \"\";position: absolute;border-left: 1px solid gray;box-sizing: border-box;top: 0;bottom: 0;left: 50%;z-index: 0;}#sk-container-id-2 div.sk-serial {display: flex;flex-direction: column;align-items: center;background-color: white;padding-right: 0.2em;padding-left: 0.2em;position: relative;}#sk-container-id-2 div.sk-item {position: relative;z-index: 1;}#sk-container-id-2 div.sk-parallel {display: flex;align-items: stretch;justify-content: center;background-color: white;position: relative;}#sk-container-id-2 div.sk-item::before, #sk-container-id-2 div.sk-parallel-item::before {content: \"\";position: absolute;border-left: 1px solid gray;box-sizing: border-box;top: 0;bottom: 0;left: 50%;z-index: -1;}#sk-container-id-2 div.sk-parallel-item {display: flex;flex-direction: column;z-index: 1;position: relative;background-color: white;}#sk-container-id-2 div.sk-parallel-item:first-child::after {align-self: flex-end;width: 50%;}#sk-container-id-2 div.sk-parallel-item:last-child::after {align-self: flex-start;width: 50%;}#sk-container-id-2 div.sk-parallel-item:only-child::after {width: 0;}#sk-container-id-2 div.sk-dashed-wrapped {border: 1px dashed gray;margin: 0 0.4em 0.5em 0.4em;box-sizing: border-box;padding-bottom: 0.4em;background-color: white;}#sk-container-id-2 div.sk-label label {font-family: monospace;font-weight: bold;display: inline-block;line-height: 1.2em;}#sk-container-id-2 div.sk-label-container {text-align: center;}#sk-container-id-2 div.sk-container {/* jupyter's `normalize.less` sets `[hidden] { display: none; }` but bootstrap.min.css set `[hidden] { display: none !important; }` so we also need the `!important` here to be able to override the default hidden behavior on the sphinx rendered scikit-learn.org. See: https://github.com/scikit-learn/scikit-learn/issues/21755 */display: inline-block !important;position: relative;}#sk-container-id-2 div.sk-text-repr-fallback {display: none;}</style><div id=\"sk-container-id-2\" class=\"sk-top-container\"><div class=\"sk-text-repr-fallback\"><pre>KNeighborsRegressor(n_neighbors=3)</pre><b>In a Jupyter environment, please rerun this cell to show the HTML representation or trust the notebook. <br />On GitHub, the HTML representation is unable to render, please try loading this page with nbviewer.org.</b></div><div class=\"sk-container\" hidden><div class=\"sk-item\"><div class=\"sk-estimator sk-toggleable\"><input class=\"sk-toggleable__control sk-hidden--visually\" id=\"sk-estimator-id-2\" type=\"checkbox\" checked><label for=\"sk-estimator-id-2\" class=\"sk-toggleable__label sk-toggleable__label-arrow\">KNeighborsRegressor</label><div class=\"sk-toggleable__content\"><pre>KNeighborsRegressor(n_neighbors=3)</pre></div></div></div></div></div>"
      ],
      "text/plain": [
       "KNeighborsRegressor(n_neighbors=3)"
      ]
     },
     "execution_count": 23,
     "metadata": {},
     "output_type": "execute_result"
    }
   ],
   "source": [
    "from sklearn.neighbors import KNeighborsRegressor\n",
    "\n",
    "X, y = mglearn.datasets.make_wave(n_samples=40)\n",
    "\n",
    "# split the wave dataset into a training and a test set\n",
    "X_train, X_test, y_train, y_test = train_test_split(X, y, random_state=0)\n",
    "\n",
    "# instantiate the model and set the number of neighbors to consider to 3\n",
    "reg = KNeighborsRegressor(n_neighbors=3)\n",
    "# fit the model using the training data and training targets\n",
    "reg.fit(X_train, y_train)"
   ]
  },
  {
   "cell_type": "markdown",
   "metadata": {},
   "source": [
    "А теперь получим прогнозы для тестового набора."
   ]
  },
  {
   "cell_type": "code",
   "execution_count": 24,
   "metadata": {},
   "outputs": [
    {
     "name": "stdout",
     "output_type": "stream",
     "text": [
      "Test set predictions:\n",
      " [-0.05396539  0.35686046  1.13671923 -1.89415682 -1.13881398 -1.63113382\n",
      "  0.35686046  0.91241374 -0.44680446 -1.13881398]\n"
     ]
    }
   ],
   "source": [
    "print(\"Test set predictions:\\n\", reg.predict(X_test))"
   ]
  },
  {
   "cell_type": "markdown",
   "metadata": {},
   "source": [
    "Кроме того, мы можем оценить качество модели с помощью метода\n",
    "score, который для регрессионных моделей возвращает значение R2. R2,\n",
    "также известный как коэффициент детерминации, является показателем качества регрессионной модели и принимает значения от 0 до 1.\n",
    "Значение 1 соответствует идеальной прогнозирующей способности, а\n",
    "значение 0 соответствует константе модели, которая лишь предсказывает\n",
    "среднее значение ответов в обучающем наборе, y_train:"
   ]
  },
  {
   "cell_type": "code",
   "execution_count": 25,
   "metadata": {},
   "outputs": [
    {
     "name": "stdout",
     "output_type": "stream",
     "text": [
      "Test set R^2: 0.83\n"
     ]
    }
   ],
   "source": [
    "print(\"Test set R^2: {:.2f}\".format(reg.score(X_test, y_test)))"
   ]
  },
  {
   "cell_type": "markdown",
   "metadata": {},
   "source": [
    "В данном случае значение R2 составляет 0.83, что указывает на\n",
    "относительно хорошее качество подгонки модели."
   ]
  },
  {
   "cell_type": "markdown",
   "metadata": {},
   "source": [
    "   #### Анализ регрессии К ближайших соседей"
   ]
  },
  {
   "cell_type": "markdown",
   "metadata": {},
   "source": [
    "Применительно к нашему одномерному массиву данных мы можем\n",
    "увидеть прогнозы для всех возможных значений признаков (след. рис.).\n",
    "Для этого мы создаем тестовый набор данных и визуализируем\n",
    "полученные линии прогнозов:"
   ]
  },
  {
   "cell_type": "code",
   "execution_count": 26,
   "metadata": {},
   "outputs": [
    {
     "data": {
      "text/plain": [
       "<matplotlib.legend.Legend at 0x251de3d4d60>"
      ]
     },
     "execution_count": 26,
     "metadata": {},
     "output_type": "execute_result"
    },
    {
     "data": {
      "image/png": "[encoded data removed]",
      "text/plain": [
       "<Figure size 1080x288 with 3 Axes>"
      ]
     },
     "metadata": {
      "needs_background": "light"
     },
     "output_type": "display_data"
    }
   ],
   "source": [
    "fig, axes = plt.subplots(1, 3, figsize=(15, 4))\n",
    "# create 1,000 data points, evenly spaced between -3 and 3\n",
    "line = np.linspace(-3, 3, 1000).reshape(-1, 1)\n",
    "for n_neighbors, ax in zip([1, 3, 9], axes):\n",
    "    # make predictions using 1, 3, or 9 neighbors\n",
    "    reg = KNeighborsRegressor(n_neighbors=n_neighbors)\n",
    "    reg.fit(X_train, y_train)\n",
    "    ax.plot(line, reg.predict(line))\n",
    "    ax.plot(X_train, y_train, '^', c=mglearn.cm2(0), markersize=8)\n",
    "    ax.plot(X_test, y_test, 'v', c=mglearn.cm2(1), markersize=8)\n",
    "\n",
    "    ax.set_title(\n",
    "        \"{} neighbor(s)\\n train score: {:.2f} test score: {:.2f}\".format(\n",
    "            n_neighbors, reg.score(X_train, y_train),\n",
    "            reg.score(X_test, y_test)))\n",
    "    ax.set_xlabel(\"Feature\")\n",
    "    ax.set_ylabel(\"Target\")\n",
    "axes[0].legend([\"Model predictions\", \"Training data/target\",\n",
    "                \"Test data/target\"], loc=\"best\")"
   ]
  },
  {
   "cell_type": "markdown",
   "metadata": {},
   "source": [
    "Как видно на графике, при использовании лишь одного соседа каждая\n",
    "точка обучающего набора имеет очевидное влияние на прогнозы, и\n",
    "предсказанные значения проходят через все точки данных. Это приводит\n",
    "к очень неустойчивым прогнозам. Увеличение числа соседей приводит к\n",
    "получению более сглаженных прогнозов, но при этом снижается\n",
    "правильность подгонки к обучающим данным."
   ]
  },
  {
   "cell_type": "markdown",
   "metadata": {},
   "source": [
    "В принципе, в классификаторе KNeighbors есть два важных параметра:\n",
    "количество соседей и мера расстояния между точками данных. На\n",
    "практике использование небольшого числа соседей (например, 3-5) часто\n",
    "работает хорошо, но вы, конечно, можете самостоятельно настроить этот\n",
    "параметр. Вопрос, связанный с выбором правильной меры расстояния,\n",
    "выходит за рамки этой книги. По умолчанию используется евклидово\n",
    "расстояние, которое хорошо работает во многих ситуациях.\n",
    "Одним из преимуществ метода ближайших соседей является то, что\n",
    "эту модель очень легко интерпретировать и, как правило, этот метод дает\n",
    "приемлемое качество без необходимости использования большого\n",
    "количества настроек. Он является хорошим базовым алгоритмом,\n",
    "который нужно попробовать в первую очередь, прежде чем\n",
    "рассматривать более сложные методы. Как правило, построение модели\n",
    "ближайших соседей происходит очень быстро, но, когда ваш обучающий\n",
    "набор очень большой (с точки зрения количества характеристик или\n",
    "количества наблюдений) получение прогнозов может занять некоторое\n",
    "время. При использовании алгоритма ближайших соседей важно\n",
    "выполнить предварительную обработку данных.\n",
    "Данный метод не так хорошо работает, когда речь идет о наборах данных\n",
    "с большим количеством признаков (сотни и более), и особенно плохо\n",
    "работает в ситуации, когда подавляющее число признаков в большей\n",
    "части наблюдений имеют нулевые значения (так называемые\n",
    "разреженные наборы данных или sparse datasets).\n",
    "Таким образом, несмотря на то что алгоритм ближайших соседей\n",
    "легко интерпретировать, на практике он не часто используется из-за\n",
    "скорости вычислений и его неспособности обрабатывать большое\n",
    "количество признаков. Метод, который мы обсудим ниже, лишен этих\n",
    "недостатков."
   ]
  },
  {
   "cell_type": "code",
   "execution_count": null,
   "metadata": {},
   "outputs": [],
   "source": []
  }
 ],
 "metadata": {
  "kernelspec": {
   "display_name": "Python 3.9.7 ('base')",
   "language": "python",
   "name": "python3"
  },
  "language_info": {
   "codemirror_mode": {
    "name": "ipython",
    "version": 3
   },
   "file_extension": ".py",
   "mimetype": "text/x-python",
   "name": "python",
   "nbconvert_exporter": "python",
   "pygments_lexer": "ipython3",
   "version": "3.9.7"
  },
  "latex_metadata": {
   "author": "Andreas C. M\\\"ller",
   "title": "Machine Learning with Python"
  },
  "vscode": {
   "interpreter": {
    "hash": "cceda5113f07d4047741cabbb211c044d7f16bbd82324456effbfb8d7e8a3a9e"
   }
  }
 },
 "nbformat": 4,
 "nbformat_minor": 2
}
