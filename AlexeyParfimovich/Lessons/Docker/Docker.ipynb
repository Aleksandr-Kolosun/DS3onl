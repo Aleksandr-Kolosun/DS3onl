{
 "cells": [
  {
   "attachments": {},
   "cell_type": "markdown",
   "metadata": {},
   "source": [
    "- docker version ```Эта команда используется для получения текущей установленной версии докера```.\n",
    "- docker pull  ```image name```\n",
    "- docker run -it -d ```image name``` Эта команда используется для создания контейнера из образа\n",
    "- docker ps ```Эта команда используется для вывода списка запущенных контейнеров.```\n",
    "- docker ps -a ```Эта команда используется для отображения всех запущенных и закрытых контейнеров.```\n",
    "- docker exec  Usage: docker exec -it ```container id``` bash ```Эта команда используется для доступа к работающему контейнеру.```\n",
    "- docker kill ```container id``` \n",
    "\n",
    " ```Эта команда уничтожает контейнер, немедленно останавливая его выполнение. Разница между «docker kill» и «docker stop» заключается в том, что «docker stop» дает контейнеру время для корректного завершения работы, в ситуациях, когда для остановки контейнера требуется слишком много времени, можно его убить.```\n",
    "\n",
    "- docker login \n",
    "- docker push  # Usage: docker push ```username/image name``\n",
    "- docker images ```список images в системе```\n",
    "- docker rmi ```удаляем images```\n",
    "- docker rm ```удаляем контейнер```\n",
    "- docker build ```билдим```\n",
    "- docker image prune ``` - удаляет \"висящие\" контейнеры```\n",
    "- docker system prune --volumes ```удалить ввсе к какой то матери```"
   ]
  },
  {
   "cell_type": "code",
   "execution_count": null,
   "metadata": {},
   "outputs": [],
   "source": []
  },
  {
   "cell_type": "code",
   "execution_count": null,
   "metadata": {},
   "outputs": [],
   "source": []
  },
  {
   "cell_type": "code",
   "execution_count": null,
   "metadata": {},
   "outputs": [],
   "source": []
  }
 ],
 "metadata": {
  "language_info": {
   "name": "python"
  },
  "orig_nbformat": 4
 },
 "nbformat": 4,
 "nbformat_minor": 2
}
