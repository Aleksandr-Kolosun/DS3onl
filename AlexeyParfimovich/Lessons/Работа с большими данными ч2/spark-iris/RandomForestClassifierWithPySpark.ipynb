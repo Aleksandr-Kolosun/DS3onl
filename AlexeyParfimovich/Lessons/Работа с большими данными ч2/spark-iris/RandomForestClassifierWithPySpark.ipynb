{
  "cells": [
    {
      "cell_type": "code",
      "execution_count": 1,
      "metadata": {
        "colab": {
          "base_uri": "https://localhost:8080/"
        },
        "id": "gaTNKb6LEZMH",
        "outputId": "eb47a500-6f67-4039-943b-03ab306099b2"
      },
      "outputs": [
        {
          "name": "stdout",
          "output_type": "stream",
          "text": [
            "Looking in indexes: https://pypi.org/simple, https://us-python.pkg.dev/colab-wheels/public/simple/\n",
            "Collecting pyspark\n",
            "  Downloading pyspark-3.3.1.tar.gz (281.4 MB)\n",
            "\u001b[2K     \u001b[90m━━━━━━━━━━━━━━━━━━━━━━━━━━━━━━━━━━━━━━━\u001b[0m \u001b[32m281.4/281.4 MB\u001b[0m \u001b[31m2.8 MB/s\u001b[0m eta \u001b[36m0:00:00\u001b[0m\n",
            "\u001b[?25h  Preparing metadata (setup.py) ... \u001b[?25l\u001b[?25hdone\n",
            "Collecting py4j==0.10.9.5\n",
            "  Downloading py4j-0.10.9.5-py2.py3-none-any.whl (199 kB)\n",
            "\u001b[2K     \u001b[90m━━━━━━━━━━━━━━━━━━━━━━━━━━━━━━━━━━━━━━━\u001b[0m \u001b[32m199.7/199.7 KB\u001b[0m \u001b[31m7.9 MB/s\u001b[0m eta \u001b[36m0:00:00\u001b[0m\n",
            "\u001b[?25hBuilding wheels for collected packages: pyspark\n",
            "  Building wheel for pyspark (setup.py) ... \u001b[?25l\u001b[?25hdone\n",
            "  Created wheel for pyspark: filename=pyspark-3.3.1-py2.py3-none-any.whl size=281845512 sha256=5c8d9c0a6b3f1202806ccb48f5c522e45d3e59748037f6ec4e5cafaef339c748\n",
            "  Stored in directory: /root/.cache/pip/wheels/43/dc/11/ec201cd671da62fa9c5cc77078235e40722170ceba231d7598\n",
            "Successfully built pyspark\n",
            "Installing collected packages: py4j, pyspark\n",
            "Successfully installed py4j-0.10.9.5 pyspark-3.3.1\n"
          ]
        }
      ],
      "source": [
        "#!pip install pyspark"
      ]
    },
    {
      "cell_type": "code",
      "execution_count": null,
      "metadata": {},
      "outputs": [],
      "source": []
    },
    {
      "cell_type": "code",
      "execution_count": 30,
      "metadata": {},
      "outputs": [],
      "source": [
        "#Без этого костыля у меня не работал\n",
        "import os\n",
        "import sys\n",
        "\n",
        "os.environ['PYSPARK_PYTHON'] = 'python'\n",
        "os.environ['PYSPARK_DRIVER_PYTHON'] = 'jupyter'"
      ]
    },
    {
      "cell_type": "code",
      "execution_count": 31,
      "metadata": {
        "colab": {
          "base_uri": "https://localhost:8080/"
        },
        "id": "W1Gf4VMDKJa8",
        "outputId": "322775bc-99b8-4047-b894-7e46bee25768"
      },
      "outputs": [
        {
          "name": "stdout",
          "output_type": "stream",
          "text": [
            "root\n",
            " |-- sepal_length: double (nullable = true)\n",
            " |-- sepal_width: double (nullable = true)\n",
            " |-- petal_length: double (nullable = true)\n",
            " |-- petal_width: double (nullable = true)\n",
            " |-- variety: string (nullable = true)\n",
            "\n"
          ]
        }
      ],
      "source": [
        "from pyspark.sql import SparkSession\n",
        "spark = SparkSession.builder.appName('ml-iris').getOrCreate()\n",
        "df = spark.read.csv('1.csv', header = True, inferSchema = True)\n",
        "df.printSchema()"
      ]
    },
    {
      "cell_type": "code",
      "execution_count": 32,
      "metadata": {
        "colab": {
          "base_uri": "https://localhost:8080/",
          "height": 206
        },
        "id": "ye4dCQgdKaWB",
        "outputId": "e0af8584-76d0-4e23-9503-30f9e06c3f95"
      },
      "outputs": [
        {
          "data": {
            "text/html": [
              "<div>\n",
              "<style scoped>\n",
              "    .dataframe tbody tr th:only-of-type {\n",
              "        vertical-align: middle;\n",
              "    }\n",
              "\n",
              "    .dataframe tbody tr th {\n",
              "        vertical-align: top;\n",
              "    }\n",
              "\n",
              "    .dataframe thead th {\n",
              "        text-align: right;\n",
              "    }\n",
              "</style>\n",
              "<table border=\"1\" class=\"dataframe\">\n",
              "  <thead>\n",
              "    <tr style=\"text-align: right;\">\n",
              "      <th></th>\n",
              "      <th>0</th>\n",
              "      <th>1</th>\n",
              "      <th>2</th>\n",
              "      <th>3</th>\n",
              "      <th>4</th>\n",
              "    </tr>\n",
              "  </thead>\n",
              "  <tbody>\n",
              "    <tr>\n",
              "      <th>sepal_length</th>\n",
              "      <td>5.1</td>\n",
              "      <td>4.9</td>\n",
              "      <td>4.7</td>\n",
              "      <td>4.6</td>\n",
              "      <td>5.0</td>\n",
              "    </tr>\n",
              "    <tr>\n",
              "      <th>sepal_width</th>\n",
              "      <td>3.5</td>\n",
              "      <td>3.0</td>\n",
              "      <td>3.2</td>\n",
              "      <td>3.1</td>\n",
              "      <td>3.6</td>\n",
              "    </tr>\n",
              "    <tr>\n",
              "      <th>petal_length</th>\n",
              "      <td>1.4</td>\n",
              "      <td>1.4</td>\n",
              "      <td>1.3</td>\n",
              "      <td>1.5</td>\n",
              "      <td>1.4</td>\n",
              "    </tr>\n",
              "    <tr>\n",
              "      <th>petal_width</th>\n",
              "      <td>0.2</td>\n",
              "      <td>0.2</td>\n",
              "      <td>0.2</td>\n",
              "      <td>0.2</td>\n",
              "      <td>0.2</td>\n",
              "    </tr>\n",
              "    <tr>\n",
              "      <th>variety</th>\n",
              "      <td>Setosa</td>\n",
              "      <td>Setosa</td>\n",
              "      <td>Setosa</td>\n",
              "      <td>Setosa</td>\n",
              "      <td>Setosa</td>\n",
              "    </tr>\n",
              "  </tbody>\n",
              "</table>\n",
              "</div>"
            ],
            "text/plain": [
              "                   0       1       2       3       4\n",
              "sepal_length     5.1     4.9     4.7     4.6     5.0\n",
              "sepal_width      3.5     3.0     3.2     3.1     3.6\n",
              "petal_length     1.4     1.4     1.3     1.5     1.4\n",
              "petal_width      0.2     0.2     0.2     0.2     0.2\n",
              "variety       Setosa  Setosa  Setosa  Setosa  Setosa"
            ]
          },
          "execution_count": 32,
          "metadata": {},
          "output_type": "execute_result"
        }
      ],
      "source": [
        "import pandas as pd\n",
        "pd.DataFrame(df.take(5), columns=df.columns).transpose()"
      ]
    },
    {
      "cell_type": "code",
      "execution_count": 33,
      "metadata": {
        "id": "-FDxFQ4f5PmN"
      },
      "outputs": [],
      "source": [
        "#dfs = pd.read_csv('/content/1.csv')"
      ]
    },
    {
      "cell_type": "code",
      "execution_count": 34,
      "metadata": {
        "colab": {
          "base_uri": "https://localhost:8080/",
          "height": 206
        },
        "id": "l6tBXKqC5YwL",
        "outputId": "61759f12-b804-4c5b-d36a-dfffb7aa70b4"
      },
      "outputs": [],
      "source": [
        "#dfs.head()"
      ]
    },
    {
      "cell_type": "code",
      "execution_count": 35,
      "metadata": {
        "id": "bXcGv1dv5Y0r"
      },
      "outputs": [],
      "source": [
        "#f = dfs.columns"
      ]
    },
    {
      "cell_type": "code",
      "execution_count": 36,
      "metadata": {
        "colab": {
          "base_uri": "https://localhost:8080/"
        },
        "id": "cT39DMcQ5dNb",
        "outputId": "4465e65c-b794-415e-8932-3d28cccf4493"
      },
      "outputs": [],
      "source": [
        "#f[:-1]"
      ]
    },
    {
      "cell_type": "code",
      "execution_count": 37,
      "metadata": {
        "id": "QJiVRc8k6Z50"
      },
      "outputs": [],
      "source": [
        "#dfs.rename(columns = {'sepal.length':'sepal_length', 'sepal.width':'sepal_width', \n",
        "#                     'petal.length':'petal_length', 'petal.width':'petal_width'}, inplace = True )"
      ]
    },
    {
      "cell_type": "code",
      "execution_count": 38,
      "metadata": {
        "id": "Ta5HSEGs6Z8M"
      },
      "outputs": [],
      "source": [
        "#dfs.to_csv('1.csv', index=False)"
      ]
    },
    {
      "cell_type": "code",
      "execution_count": 39,
      "metadata": {
        "id": "ExQ9bmtMK7B5"
      },
      "outputs": [],
      "source": [
        "# numeric_features = [t[0] for t in df.dtypes if t[1] == 'double']\n",
        "# df.select(numeric_features).describe().toPandas().transpose()"
      ]
    },
    {
      "cell_type": "code",
      "execution_count": 40,
      "metadata": {
        "id": "adfVVuy8LGhI"
      },
      "outputs": [],
      "source": [
        "from pyspark.ml.feature import StringIndexer, VectorAssembler"
      ]
    },
    {
      "cell_type": "code",
      "execution_count": 41,
      "metadata": {
        "colab": {
          "base_uri": "https://localhost:8080/"
        },
        "id": "-Ul2Em-KMEuk",
        "outputId": "2f6ff640-4826-4a8f-f7e6-83fed77b5f1b"
      },
      "outputs": [
        {
          "name": "stdout",
          "output_type": "stream",
          "text": [
            "+------------+-----------+------------+-----------+-------+-----------------+\n",
            "|sepal_length|sepal_width|petal_length|petal_width|variety|         features|\n",
            "+------------+-----------+------------+-----------+-------+-----------------+\n",
            "|         5.1|        3.5|         1.4|        0.2| Setosa|[5.1,3.5,1.4,0.2]|\n",
            "|         4.9|        3.0|         1.4|        0.2| Setosa|[4.9,3.0,1.4,0.2]|\n",
            "|         4.7|        3.2|         1.3|        0.2| Setosa|[4.7,3.2,1.3,0.2]|\n",
            "|         4.6|        3.1|         1.5|        0.2| Setosa|[4.6,3.1,1.5,0.2]|\n",
            "|         5.0|        3.6|         1.4|        0.2| Setosa|[5.0,3.6,1.4,0.2]|\n",
            "|         5.4|        3.9|         1.7|        0.4| Setosa|[5.4,3.9,1.7,0.4]|\n",
            "|         4.6|        3.4|         1.4|        0.3| Setosa|[4.6,3.4,1.4,0.3]|\n",
            "|         5.0|        3.4|         1.5|        0.2| Setosa|[5.0,3.4,1.5,0.2]|\n",
            "|         4.4|        2.9|         1.4|        0.2| Setosa|[4.4,2.9,1.4,0.2]|\n",
            "|         4.9|        3.1|         1.5|        0.1| Setosa|[4.9,3.1,1.5,0.1]|\n",
            "|         5.4|        3.7|         1.5|        0.2| Setosa|[5.4,3.7,1.5,0.2]|\n",
            "|         4.8|        3.4|         1.6|        0.2| Setosa|[4.8,3.4,1.6,0.2]|\n",
            "|         4.8|        3.0|         1.4|        0.1| Setosa|[4.8,3.0,1.4,0.1]|\n",
            "|         4.3|        3.0|         1.1|        0.1| Setosa|[4.3,3.0,1.1,0.1]|\n",
            "|         5.8|        4.0|         1.2|        0.2| Setosa|[5.8,4.0,1.2,0.2]|\n",
            "|         5.7|        4.4|         1.5|        0.4| Setosa|[5.7,4.4,1.5,0.4]|\n",
            "|         5.4|        3.9|         1.3|        0.4| Setosa|[5.4,3.9,1.3,0.4]|\n",
            "|         5.1|        3.5|         1.4|        0.3| Setosa|[5.1,3.5,1.4,0.3]|\n",
            "|         5.7|        3.8|         1.7|        0.3| Setosa|[5.7,3.8,1.7,0.3]|\n",
            "|         5.1|        3.8|         1.5|        0.3| Setosa|[5.1,3.8,1.5,0.3]|\n",
            "+------------+-----------+------------+-----------+-------+-----------------+\n",
            "only showing top 20 rows\n",
            "\n"
          ]
        }
      ],
      "source": [
        "numericCols = ['sepal_length', 'sepal_width', 'petal_length', 'petal_width']\n",
        "assembler = VectorAssembler(inputCols=numericCols, outputCol=\"features\")\n",
        "df = assembler.transform(df)\n",
        "df.show()"
      ]
    },
    {
      "cell_type": "code",
      "execution_count": null,
      "metadata": {},
      "outputs": [],
      "source": []
    },
    {
      "cell_type": "code",
      "execution_count": 42,
      "metadata": {
        "colab": {
          "base_uri": "https://localhost:8080/"
        },
        "id": "2rdavd9HKacP",
        "outputId": "b95a22e3-6625-4a46-ad85-04e78babcf06"
      },
      "outputs": [
        {
          "name": "stdout",
          "output_type": "stream",
          "text": [
            "+------------+-----------+------------+-----------+-------+-----------------+----------+\n",
            "|sepal_length|sepal_width|petal_length|petal_width|variety|         features|labelIndex|\n",
            "+------------+-----------+------------+-----------+-------+-----------------+----------+\n",
            "|         5.1|        3.5|         1.4|        0.2| Setosa|[5.1,3.5,1.4,0.2]|       0.0|\n",
            "|         4.9|        3.0|         1.4|        0.2| Setosa|[4.9,3.0,1.4,0.2]|       0.0|\n",
            "|         4.7|        3.2|         1.3|        0.2| Setosa|[4.7,3.2,1.3,0.2]|       0.0|\n",
            "|         4.6|        3.1|         1.5|        0.2| Setosa|[4.6,3.1,1.5,0.2]|       0.0|\n",
            "|         5.0|        3.6|         1.4|        0.2| Setosa|[5.0,3.6,1.4,0.2]|       0.0|\n",
            "|         5.4|        3.9|         1.7|        0.4| Setosa|[5.4,3.9,1.7,0.4]|       0.0|\n",
            "|         4.6|        3.4|         1.4|        0.3| Setosa|[4.6,3.4,1.4,0.3]|       0.0|\n",
            "|         5.0|        3.4|         1.5|        0.2| Setosa|[5.0,3.4,1.5,0.2]|       0.0|\n",
            "|         4.4|        2.9|         1.4|        0.2| Setosa|[4.4,2.9,1.4,0.2]|       0.0|\n",
            "|         4.9|        3.1|         1.5|        0.1| Setosa|[4.9,3.1,1.5,0.1]|       0.0|\n",
            "+------------+-----------+------------+-----------+-------+-----------------+----------+\n",
            "only showing top 10 rows\n",
            "\n"
          ]
        }
      ],
      "source": [
        "label_stringIdx = StringIndexer(inputCol = 'variety', outputCol = 'labelIndex')\n",
        "df = label_stringIdx.fit(df).transform(df)\n",
        "df.show(10)"
      ]
    },
    {
      "cell_type": "code",
      "execution_count": 45,
      "metadata": {
        "colab": {
          "base_uri": "https://localhost:8080/",
          "height": 414
        },
        "id": "VDXPwfGLbH9d",
        "outputId": "d211a115-90e6-4396-d354-8e92a3290419"
      },
      "outputs": [
        {
          "data": {
            "text/html": [
              "<div>\n",
              "<style scoped>\n",
              "    .dataframe tbody tr th:only-of-type {\n",
              "        vertical-align: middle;\n",
              "    }\n",
              "\n",
              "    .dataframe tbody tr th {\n",
              "        vertical-align: top;\n",
              "    }\n",
              "\n",
              "    .dataframe thead th {\n",
              "        text-align: right;\n",
              "    }\n",
              "</style>\n",
              "<table border=\"1\" class=\"dataframe\">\n",
              "  <thead>\n",
              "    <tr style=\"text-align: right;\">\n",
              "      <th></th>\n",
              "      <th>0</th>\n",
              "      <th>1</th>\n",
              "      <th>2</th>\n",
              "      <th>3</th>\n",
              "      <th>4</th>\n",
              "      <th>5</th>\n",
              "      <th>6</th>\n",
              "      <th>7</th>\n",
              "      <th>8</th>\n",
              "      <th>9</th>\n",
              "      <th>...</th>\n",
              "      <th>100</th>\n",
              "      <th>101</th>\n",
              "      <th>102</th>\n",
              "      <th>103</th>\n",
              "      <th>104</th>\n",
              "      <th>105</th>\n",
              "      <th>106</th>\n",
              "      <th>107</th>\n",
              "      <th>108</th>\n",
              "      <th>109</th>\n",
              "    </tr>\n",
              "  </thead>\n",
              "  <tbody>\n",
              "    <tr>\n",
              "      <th>sepal_length</th>\n",
              "      <td>5.1</td>\n",
              "      <td>4.9</td>\n",
              "      <td>4.7</td>\n",
              "      <td>4.6</td>\n",
              "      <td>5.0</td>\n",
              "      <td>5.4</td>\n",
              "      <td>4.6</td>\n",
              "      <td>5.0</td>\n",
              "      <td>4.4</td>\n",
              "      <td>4.9</td>\n",
              "      <td>...</td>\n",
              "      <td>6.3</td>\n",
              "      <td>5.8</td>\n",
              "      <td>7.1</td>\n",
              "      <td>6.3</td>\n",
              "      <td>6.5</td>\n",
              "      <td>7.6</td>\n",
              "      <td>4.9</td>\n",
              "      <td>7.3</td>\n",
              "      <td>6.7</td>\n",
              "      <td>7.2</td>\n",
              "    </tr>\n",
              "    <tr>\n",
              "      <th>sepal_width</th>\n",
              "      <td>3.5</td>\n",
              "      <td>3.0</td>\n",
              "      <td>3.2</td>\n",
              "      <td>3.1</td>\n",
              "      <td>3.6</td>\n",
              "      <td>3.9</td>\n",
              "      <td>3.4</td>\n",
              "      <td>3.4</td>\n",
              "      <td>2.9</td>\n",
              "      <td>3.1</td>\n",
              "      <td>...</td>\n",
              "      <td>3.3</td>\n",
              "      <td>2.7</td>\n",
              "      <td>3.0</td>\n",
              "      <td>2.9</td>\n",
              "      <td>3.0</td>\n",
              "      <td>3.0</td>\n",
              "      <td>2.5</td>\n",
              "      <td>2.9</td>\n",
              "      <td>2.5</td>\n",
              "      <td>3.6</td>\n",
              "    </tr>\n",
              "    <tr>\n",
              "      <th>petal_length</th>\n",
              "      <td>1.4</td>\n",
              "      <td>1.4</td>\n",
              "      <td>1.3</td>\n",
              "      <td>1.5</td>\n",
              "      <td>1.4</td>\n",
              "      <td>1.7</td>\n",
              "      <td>1.4</td>\n",
              "      <td>1.5</td>\n",
              "      <td>1.4</td>\n",
              "      <td>1.5</td>\n",
              "      <td>...</td>\n",
              "      <td>6.0</td>\n",
              "      <td>5.1</td>\n",
              "      <td>5.9</td>\n",
              "      <td>5.6</td>\n",
              "      <td>5.8</td>\n",
              "      <td>6.6</td>\n",
              "      <td>4.5</td>\n",
              "      <td>6.3</td>\n",
              "      <td>5.8</td>\n",
              "      <td>6.1</td>\n",
              "    </tr>\n",
              "    <tr>\n",
              "      <th>petal_width</th>\n",
              "      <td>0.2</td>\n",
              "      <td>0.2</td>\n",
              "      <td>0.2</td>\n",
              "      <td>0.2</td>\n",
              "      <td>0.2</td>\n",
              "      <td>0.4</td>\n",
              "      <td>0.3</td>\n",
              "      <td>0.2</td>\n",
              "      <td>0.2</td>\n",
              "      <td>0.1</td>\n",
              "      <td>...</td>\n",
              "      <td>2.5</td>\n",
              "      <td>1.9</td>\n",
              "      <td>2.1</td>\n",
              "      <td>1.8</td>\n",
              "      <td>2.2</td>\n",
              "      <td>2.1</td>\n",
              "      <td>1.7</td>\n",
              "      <td>1.8</td>\n",
              "      <td>1.8</td>\n",
              "      <td>2.5</td>\n",
              "    </tr>\n",
              "    <tr>\n",
              "      <th>variety</th>\n",
              "      <td>Setosa</td>\n",
              "      <td>Setosa</td>\n",
              "      <td>Setosa</td>\n",
              "      <td>Setosa</td>\n",
              "      <td>Setosa</td>\n",
              "      <td>Setosa</td>\n",
              "      <td>Setosa</td>\n",
              "      <td>Setosa</td>\n",
              "      <td>Setosa</td>\n",
              "      <td>Setosa</td>\n",
              "      <td>...</td>\n",
              "      <td>Virginica</td>\n",
              "      <td>Virginica</td>\n",
              "      <td>Virginica</td>\n",
              "      <td>Virginica</td>\n",
              "      <td>Virginica</td>\n",
              "      <td>Virginica</td>\n",
              "      <td>Virginica</td>\n",
              "      <td>Virginica</td>\n",
              "      <td>Virginica</td>\n",
              "      <td>Virginica</td>\n",
              "    </tr>\n",
              "    <tr>\n",
              "      <th>features</th>\n",
              "      <td>[5.1, 3.5, 1.4, 0.2]</td>\n",
              "      <td>[4.9, 3.0, 1.4, 0.2]</td>\n",
              "      <td>[4.7, 3.2, 1.3, 0.2]</td>\n",
              "      <td>[4.6, 3.1, 1.5, 0.2]</td>\n",
              "      <td>[5.0, 3.6, 1.4, 0.2]</td>\n",
              "      <td>[5.4, 3.9, 1.7, 0.4]</td>\n",
              "      <td>[4.6, 3.4, 1.4, 0.3]</td>\n",
              "      <td>[5.0, 3.4, 1.5, 0.2]</td>\n",
              "      <td>[4.4, 2.9, 1.4, 0.2]</td>\n",
              "      <td>[4.9, 3.1, 1.5, 0.1]</td>\n",
              "      <td>...</td>\n",
              "      <td>[6.3, 3.3, 6.0, 2.5]</td>\n",
              "      <td>[5.8, 2.7, 5.1, 1.9]</td>\n",
              "      <td>[7.1, 3.0, 5.9, 2.1]</td>\n",
              "      <td>[6.3, 2.9, 5.6, 1.8]</td>\n",
              "      <td>[6.5, 3.0, 5.8, 2.2]</td>\n",
              "      <td>[7.6, 3.0, 6.6, 2.1]</td>\n",
              "      <td>[4.9, 2.5, 4.5, 1.7]</td>\n",
              "      <td>[7.3, 2.9, 6.3, 1.8]</td>\n",
              "      <td>[6.7, 2.5, 5.8, 1.8]</td>\n",
              "      <td>[7.2, 3.6, 6.1, 2.5]</td>\n",
              "    </tr>\n",
              "    <tr>\n",
              "      <th>labelIndex</th>\n",
              "      <td>0.0</td>\n",
              "      <td>0.0</td>\n",
              "      <td>0.0</td>\n",
              "      <td>0.0</td>\n",
              "      <td>0.0</td>\n",
              "      <td>0.0</td>\n",
              "      <td>0.0</td>\n",
              "      <td>0.0</td>\n",
              "      <td>0.0</td>\n",
              "      <td>0.0</td>\n",
              "      <td>...</td>\n",
              "      <td>2.0</td>\n",
              "      <td>2.0</td>\n",
              "      <td>2.0</td>\n",
              "      <td>2.0</td>\n",
              "      <td>2.0</td>\n",
              "      <td>2.0</td>\n",
              "      <td>2.0</td>\n",
              "      <td>2.0</td>\n",
              "      <td>2.0</td>\n",
              "      <td>2.0</td>\n",
              "    </tr>\n",
              "  </tbody>\n",
              "</table>\n",
              "<p>7 rows × 110 columns</p>\n",
              "</div>"
            ],
            "text/plain": [
              "                               0                     1    \\\n",
              "sepal_length                   5.1                   4.9   \n",
              "sepal_width                    3.5                   3.0   \n",
              "petal_length                   1.4                   1.4   \n",
              "petal_width                    0.2                   0.2   \n",
              "variety                     Setosa                Setosa   \n",
              "features      [5.1, 3.5, 1.4, 0.2]  [4.9, 3.0, 1.4, 0.2]   \n",
              "labelIndex                     0.0                   0.0   \n",
              "\n",
              "                               2                     3    \\\n",
              "sepal_length                   4.7                   4.6   \n",
              "sepal_width                    3.2                   3.1   \n",
              "petal_length                   1.3                   1.5   \n",
              "petal_width                    0.2                   0.2   \n",
              "variety                     Setosa                Setosa   \n",
              "features      [4.7, 3.2, 1.3, 0.2]  [4.6, 3.1, 1.5, 0.2]   \n",
              "labelIndex                     0.0                   0.0   \n",
              "\n",
              "                               4                     5    \\\n",
              "sepal_length                   5.0                   5.4   \n",
              "sepal_width                    3.6                   3.9   \n",
              "petal_length                   1.4                   1.7   \n",
              "petal_width                    0.2                   0.4   \n",
              "variety                     Setosa                Setosa   \n",
              "features      [5.0, 3.6, 1.4, 0.2]  [5.4, 3.9, 1.7, 0.4]   \n",
              "labelIndex                     0.0                   0.0   \n",
              "\n",
              "                               6                     7    \\\n",
              "sepal_length                   4.6                   5.0   \n",
              "sepal_width                    3.4                   3.4   \n",
              "petal_length                   1.4                   1.5   \n",
              "petal_width                    0.3                   0.2   \n",
              "variety                     Setosa                Setosa   \n",
              "features      [4.6, 3.4, 1.4, 0.3]  [5.0, 3.4, 1.5, 0.2]   \n",
              "labelIndex                     0.0                   0.0   \n",
              "\n",
              "                               8                     9    ...  \\\n",
              "sepal_length                   4.4                   4.9  ...   \n",
              "sepal_width                    2.9                   3.1  ...   \n",
              "petal_length                   1.4                   1.5  ...   \n",
              "petal_width                    0.2                   0.1  ...   \n",
              "variety                     Setosa                Setosa  ...   \n",
              "features      [4.4, 2.9, 1.4, 0.2]  [4.9, 3.1, 1.5, 0.1]  ...   \n",
              "labelIndex                     0.0                   0.0  ...   \n",
              "\n",
              "                               100                   101  \\\n",
              "sepal_length                   6.3                   5.8   \n",
              "sepal_width                    3.3                   2.7   \n",
              "petal_length                   6.0                   5.1   \n",
              "petal_width                    2.5                   1.9   \n",
              "variety                  Virginica             Virginica   \n",
              "features      [6.3, 3.3, 6.0, 2.5]  [5.8, 2.7, 5.1, 1.9]   \n",
              "labelIndex                     2.0                   2.0   \n",
              "\n",
              "                               102                   103  \\\n",
              "sepal_length                   7.1                   6.3   \n",
              "sepal_width                    3.0                   2.9   \n",
              "petal_length                   5.9                   5.6   \n",
              "petal_width                    2.1                   1.8   \n",
              "variety                  Virginica             Virginica   \n",
              "features      [7.1, 3.0, 5.9, 2.1]  [6.3, 2.9, 5.6, 1.8]   \n",
              "labelIndex                     2.0                   2.0   \n",
              "\n",
              "                               104                   105  \\\n",
              "sepal_length                   6.5                   7.6   \n",
              "sepal_width                    3.0                   3.0   \n",
              "petal_length                   5.8                   6.6   \n",
              "petal_width                    2.2                   2.1   \n",
              "variety                  Virginica             Virginica   \n",
              "features      [6.5, 3.0, 5.8, 2.2]  [7.6, 3.0, 6.6, 2.1]   \n",
              "labelIndex                     2.0                   2.0   \n",
              "\n",
              "                               106                   107  \\\n",
              "sepal_length                   4.9                   7.3   \n",
              "sepal_width                    2.5                   2.9   \n",
              "petal_length                   4.5                   6.3   \n",
              "petal_width                    1.7                   1.8   \n",
              "variety                  Virginica             Virginica   \n",
              "features      [4.9, 2.5, 4.5, 1.7]  [7.3, 2.9, 6.3, 1.8]   \n",
              "labelIndex                     2.0                   2.0   \n",
              "\n",
              "                               108                   109  \n",
              "sepal_length                   6.7                   7.2  \n",
              "sepal_width                    2.5                   3.6  \n",
              "petal_length                   5.8                   6.1  \n",
              "petal_width                    1.8                   2.5  \n",
              "variety                  Virginica             Virginica  \n",
              "features      [6.7, 2.5, 5.8, 1.8]  [7.2, 3.6, 6.1, 2.5]  \n",
              "labelIndex                     2.0                   2.0  \n",
              "\n",
              "[7 rows x 110 columns]"
            ]
          },
          "execution_count": 45,
          "metadata": {},
          "output_type": "execute_result"
        }
      ],
      "source": [
        "pd.DataFrame(df.take(110), columns=df.columns).transpose()"
      ]
    },
    {
      "cell_type": "code",
      "execution_count": 46,
      "metadata": {
        "colab": {
          "base_uri": "https://localhost:8080/"
        },
        "id": "jBxb068WMZFo",
        "outputId": "b9c070b0-d8cf-4803-c241-dff47bccef60"
      },
      "outputs": [
        {
          "name": "stdout",
          "output_type": "stream",
          "text": [
            "Training Dataset Count: 103\n",
            "Test Dataset Count: 47\n"
          ]
        }
      ],
      "source": [
        "train, test = df.randomSplit([0.7, 0.3], seed = 2018)\n",
        "print(\"Training Dataset Count: \" + str(train.count()))\n",
        "print(\"Test Dataset Count: \" + str(test.count()))"
      ]
    },
    {
      "cell_type": "code",
      "execution_count": 47,
      "metadata": {
        "id": "eLSXUsBUMdOg"
      },
      "outputs": [],
      "source": [
        "from pyspark.ml.classification import RandomForestClassifier, LogisticRegression"
      ]
    },
    {
      "cell_type": "code",
      "execution_count": 41,
      "metadata": {
        "colab": {
          "base_uri": "https://localhost:8080/"
        },
        "id": "Jxl6S2hc7kS0",
        "outputId": "48a51039-97a2-4e29-ff6a-0832046c877e"
      },
      "outputs": [
        {
          "data": {
            "text/plain": [
              "DataFrame[sepal_length: double, sepal_width: double, petal_length: double, petal_width: double, variety: string, features: vector, labelIndex: double]"
            ]
          },
          "execution_count": 41,
          "metadata": {},
          "output_type": "execute_result"
        }
      ],
      "source": [
        "train"
      ]
    },
    {
      "cell_type": "code",
      "execution_count": 50,
      "metadata": {
        "colab": {
          "base_uri": "https://localhost:8080/"
        },
        "id": "PX7_SQzOMgif",
        "outputId": "add7c899-22d9-46ef-d0f8-4f2a451a3518"
      },
      "outputs": [
        {
          "name": "stdout",
          "output_type": "stream",
          "text": [
            "+------------+-----------+------------+-----------+----------+--------------------+----------+--------------------+\n",
            "|sepal_length|sepal_width|petal_length|petal_width|labelIndex|       rawPrediction|prediction|         probability|\n",
            "+------------+-----------+------------+-----------+----------+--------------------+----------+--------------------+\n",
            "|         4.3|        3.0|         1.1|        0.1|       0.0|      [20.0,0.0,0.0]|       0.0|       [1.0,0.0,0.0]|\n",
            "|         4.6|        3.6|         1.0|        0.2|       0.0|      [20.0,0.0,0.0]|       0.0|       [1.0,0.0,0.0]|\n",
            "|         4.8|        3.0|         1.4|        0.1|       0.0|      [20.0,0.0,0.0]|       0.0|       [1.0,0.0,0.0]|\n",
            "|         4.8|        3.0|         1.4|        0.3|       0.0|      [20.0,0.0,0.0]|       0.0|       [1.0,0.0,0.0]|\n",
            "|         4.9|        2.4|         3.3|        1.0|       1.0|      [0.0,18.0,2.0]|       1.0|       [0.0,0.9,0.1]|\n",
            "|         4.9|        3.1|         1.5|        0.1|       0.0|      [20.0,0.0,0.0]|       0.0|       [1.0,0.0,0.0]|\n",
            "|         5.0|        2.3|         3.3|        1.0|       1.0|      [0.0,20.0,0.0]|       1.0|       [0.0,1.0,0.0]|\n",
            "|         5.0|        3.5|         1.6|        0.6|       0.0|      [20.0,0.0,0.0]|       0.0|       [1.0,0.0,0.0]|\n",
            "|         5.1|        2.5|         3.0|        1.1|       1.0|      [0.0,20.0,0.0]|       1.0|       [0.0,1.0,0.0]|\n",
            "|         5.1|        3.3|         1.7|        0.5|       0.0|      [20.0,0.0,0.0]|       0.0|       [1.0,0.0,0.0]|\n",
            "|         5.1|        3.5|         1.4|        0.2|       0.0|      [20.0,0.0,0.0]|       0.0|       [1.0,0.0,0.0]|\n",
            "|         5.1|        3.8|         1.6|        0.2|       0.0|      [20.0,0.0,0.0]|       0.0|       [1.0,0.0,0.0]|\n",
            "|         5.2|        3.4|         1.4|        0.2|       0.0|      [20.0,0.0,0.0]|       0.0|       [1.0,0.0,0.0]|\n",
            "|         5.2|        3.5|         1.5|        0.2|       0.0|      [20.0,0.0,0.0]|       0.0|       [1.0,0.0,0.0]|\n",
            "|         5.4|        3.7|         1.5|        0.2|       0.0|      [20.0,0.0,0.0]|       0.0|       [1.0,0.0,0.0]|\n",
            "|         5.6|        2.8|         4.9|        2.0|       2.0|[0.0,3.03125,16.9...|       2.0|[0.0,0.1515625,0....|\n",
            "|         5.6|        3.0|         4.5|        1.5|       1.0|      [0.0,20.0,0.0]|       1.0|       [0.0,1.0,0.0]|\n",
            "|         5.7|        2.8|         4.5|        1.3|       1.0|      [0.0,20.0,0.0]|       1.0|       [0.0,1.0,0.0]|\n",
            "|         5.7|        2.9|         4.2|        1.3|       1.0|      [0.0,20.0,0.0]|       1.0|       [0.0,1.0,0.0]|\n",
            "|         5.8|        2.7|         3.9|        1.2|       1.0|      [0.0,20.0,0.0]|       1.0|       [0.0,1.0,0.0]|\n",
            "|         5.8|        2.7|         4.1|        1.0|       1.0|      [0.0,20.0,0.0]|       1.0|       [0.0,1.0,0.0]|\n",
            "|         5.8|        2.7|         5.1|        1.9|       2.0|[0.0,0.03125,19.9...|       2.0|[0.0,0.0015625,0....|\n",
            "|         6.0|        2.2|         5.0|        1.5|       2.0|[0.0,13.888392857...|       1.0|[0.0,0.6944196428...|\n",
            "|         6.0|        3.0|         4.8|        1.8|       2.0|      [0.0,8.0,12.0]|       2.0|       [0.0,0.4,0.6]|\n",
            "|         6.0|        3.4|         4.5|        1.6|       1.0|      [1.0,13.0,6.0]|       1.0|     [0.05,0.65,0.3]|\n",
            "+------------+-----------+------------+-----------+----------+--------------------+----------+--------------------+\n",
            "only showing top 25 rows\n",
            "\n"
          ]
        }
      ],
      "source": [
        "rf = RandomForestClassifier(featuresCol = 'features', labelCol = 'labelIndex')\n",
        "rfModel = rf.fit(train)\n",
        "predictions = rfModel.transform(test)\n",
        "predictions.select('sepal_length', 'sepal_width', 'petal_length', 'petal_width', 'labelIndex', 'rawPrediction', 'prediction', 'probability').show(25)"
      ]
    },
    {
      "cell_type": "code",
      "execution_count": 51,
      "metadata": {
        "colab": {
          "base_uri": "https://localhost:8080/"
        },
        "id": "3lMIbimDjfEH",
        "outputId": "ef031106-01c6-48a8-80cf-b00dc74ad0c5"
      },
      "outputs": [
        {
          "name": "stdout",
          "output_type": "stream",
          "text": [
            "+----------+----------+\n",
            "|labelIndex|prediction|\n",
            "+----------+----------+\n",
            "|       0.0|       0.0|\n",
            "|       0.0|       0.0|\n",
            "|       0.0|       0.0|\n",
            "|       0.0|       0.0|\n",
            "|       1.0|       1.0|\n",
            "|       0.0|       0.0|\n",
            "|       1.0|       1.0|\n",
            "|       0.0|       0.0|\n",
            "|       1.0|       1.0|\n",
            "|       0.0|       0.0|\n",
            "+----------+----------+\n",
            "only showing top 10 rows\n",
            "\n"
          ]
        }
      ],
      "source": [
        "predictions.select(\"labelIndex\", \"prediction\").show(10)"
      ]
    },
    {
      "cell_type": "code",
      "execution_count": 53,
      "metadata": {
        "id": "Va4pIjscMvjv"
      },
      "outputs": [],
      "source": [
        "from pyspark.ml.evaluation import MulticlassClassificationEvaluator"
      ]
    },
    {
      "cell_type": "code",
      "execution_count": 54,
      "metadata": {
        "colab": {
          "base_uri": "https://localhost:8080/"
        },
        "id": "gJcfrWGdOfgP",
        "outputId": "809feb44-bb67-4002-9a1c-dd15b44527df"
      },
      "outputs": [
        {
          "name": "stdout",
          "output_type": "stream",
          "text": [
            "Accuracy = 0.9361702127659575\n",
            "Test Error = 0.06382978723404253\n"
          ]
        }
      ],
      "source": [
        "evaluator = MulticlassClassificationEvaluator(labelCol=\"labelIndex\", predictionCol=\"prediction\")\n",
        "accuracy = evaluator.evaluate(predictions)\n",
        "print(\"Accuracy = %s\" % (accuracy))\n",
        "print(\"Test Error = %s\" % (1.0 - accuracy))"
      ]
    },
    {
      "cell_type": "code",
      "execution_count": 55,
      "metadata": {
        "colab": {
          "base_uri": "https://localhost:8080/"
        },
        "id": "1S1tLYe4f8iP",
        "outputId": "2fe1958a-454e-4b43-fcf8-bb3e181e5b01"
      },
      "outputs": [
        {
          "name": "stderr",
          "output_type": "stream",
          "text": [
            "c:\\Users\\andru\\anaconda3\\lib\\site-packages\\pyspark\\sql\\context.py:157: FutureWarning: Deprecated in 3.0.0. Use SparkSession.builder.getOrCreate() instead.\n",
            "  warnings.warn(\n"
          ]
        },
        {
          "name": "stdout",
          "output_type": "stream",
          "text": [
            "[[12.  0.  0.]\n",
            " [ 0. 16.  1.]\n",
            " [ 0.  2. 16.]]\n"
          ]
        }
      ],
      "source": [
        "from pyspark.mllib.evaluation import MulticlassMetrics\n",
        "from pyspark.sql.types import FloatType\n",
        "import pyspark.sql.functions as F\n",
        "\n",
        "preds_and_labels = predictions.select(['prediction','labelIndex']).withColumn('labelIndex', F.col('labelIndex').cast(FloatType())).orderBy('prediction')\n",
        "preds_and_labels = preds_and_labels.select(['prediction','labelIndex'])\n",
        "metrics = MulticlassMetrics(preds_and_labels.rdd.map(tuple))\n",
        "print(metrics.confusionMatrix().toArray())"
      ]
    },
    {
      "cell_type": "code",
      "execution_count": 56,
      "metadata": {},
      "outputs": [],
      "source": [
        "from pyspark.ml.classification import RandomForestClassifier, RandomForestClassificationModel"
      ]
    },
    {
      "cell_type": "code",
      "execution_count": 39,
      "metadata": {},
      "outputs": [],
      "source": [
        "spark.conf.set(\"spark.sql.ansi.enabled\", \"false\")"
      ]
    },
    {
      "cell_type": "code",
      "execution_count": 59,
      "metadata": {},
      "outputs": [],
      "source": [
        "#model_path = \"./rfc_model\"\n",
        "#rfModel.write().overwrite().save(model_path)\n",
        "#model2 = RandomForestClassificationModel.load(model_path)\n"
      ]
    },
    {
      "cell_type": "code",
      "execution_count": null,
      "metadata": {},
      "outputs": [],
      "source": []
    }
  ],
  "metadata": {
    "colab": {
      "provenance": []
    },
    "kernelspec": {
      "display_name": "base",
      "language": "python",
      "name": "python3"
    },
    "language_info": {
      "codemirror_mode": {
        "name": "ipython",
        "version": 3
      },
      "file_extension": ".py",
      "mimetype": "text/x-python",
      "name": "python",
      "nbconvert_exporter": "python",
      "pygments_lexer": "ipython3",
      "version": "3.9.7"
    },
    "vscode": {
      "interpreter": {
        "hash": "5114a98448da61d3c8717f10dbe3cc222d3772cc8c6832b6d605cb65183e3f6d"
      }
    }
  },
  "nbformat": 4,
  "nbformat_minor": 0
}
