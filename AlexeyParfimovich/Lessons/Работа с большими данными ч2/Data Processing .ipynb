{
 "cells": [
  {
   "cell_type": "markdown",
   "metadata": {},
   "source": [
    "## ВВЕДЕНИЕ В SPARK"
   ]
  },
  {
   "cell_type": "markdown",
   "metadata": {},
   "source": [
    "Данные можно рассматривать с трех различных точек зрения: как они собираются, хранятся и обрабатываются, как показано на рис.1-1."
   ]
  },
  {
   "cell_type": "markdown",
   "metadata": {},
   "source": [
    "<img src=\"img1_1.jpg\">"
   ]
  },
  {
   "cell_type": "markdown",
   "metadata": {},
   "source": [
    "За последние несколько лет произошли огромные изменение в способе сбора данных. От покупки Apple в магазине до удаления приложения на вашем мобильном телефоне, каждая взаимодействие данных теперь захватывается и собирается с помощью различных встроенных приложений. Различные устройства Интернета вещей (IoT) захватывают широкий спектр визуальных и сенсорных сигналов каждую миллисекунду. Предприятиям стало относительно удобно собирать эти данные из различных источников и использовать их в дальнейшем для совершенствования процесса принятия решений."
   ]
  },
  {
   "attachments": {},
   "cell_type": "markdown",
   "metadata": {},
   "source": [
    "В предыдущие годы никто никогда не предполагал, что данные будут находиться в каком-то удаленном месте, или что стоимость хранения данных будет такой же дешевой, как и сейчас. Компании приняли облачное хранилище и начали видеть его преимущества по сравнению с локальными подходами. Тем не менее, некоторые предприятия по-прежнему предпочитают локальное хранение, по различным причинам. Известно, что хранение данных началось с использования магнитных лент. Затем прорывное внедрение дискет дало возможность перемещать данные из одного места в другое. Тем не менее, размер данных все еще был огромным ограничением. Флэш-накопители и жесткие диски сделали его еще проще хранить и передавать большие объемы данных по сниженной стоимости. (См. Рис. 1-2.) Самая последняя тенденция привела к тому что можно хранить данные до 8TBs очень низкой цене."
   ]
  },
  {
   "cell_type": "markdown",
   "metadata": {},
   "source": [
    "<img src=\"img1_2.jpg\">"
   ]
  },
  {
   "cell_type": "markdown",
   "metadata": {},
   "source": [
    "Эта тенденция четко указывает на то, что стоимость хранения данных была значительно снижена на протяжении многих лет и продолжает снижаться. В результате, компании не уклоняются от хранения огромных объемов данных, независимо от их вида. От журналов до финансовых и операционных транзакций до простой обратной связи сотрудников, все будет храниться.\n",
    "Последний аспект данных-это использование сохраненных данных и их обработка для некоторого анализа или запуска приложения. Мы стали свидетелями того, насколько эффективными стали компьютеры за последние 20 лет. То, что раньше занимало пять минут, чтобы выполнить, вероятно, занимает меньше секунды, используя сегодняшние\n",
    "машины с предварительными блоками обработки. Таким образом, само собой разумеется, что машины могут обрабатывать данные гораздо быстрее и проще. Тем не менее, по-прежнему существует ограничение на объем данных, которые может обрабатывать одна машина, независимо от ее вычислительной мощности. Таким образом, основная идея Spark заключается в использовании коллекции (кластера) машин и унифицированного механизма обработки (Spark) для хранения и обработки огромных объемов данных без ущерба для скорости и безопасности. Это была конечная цель, которая привела к рождению Spark."
   ]
  },
  {
   "cell_type": "markdown",
   "metadata": {},
   "source": [
    "### Архитектура Spark"
   ]
  },
  {
   "cell_type": "markdown",
   "metadata": {},
   "source": [
    "Есть пять основных компонентов, которые делают Spark настолько мощным и простым в использовании. Основная архитектура Spark состоит из следующих составляющих, как показано на рис. 1-3:"
   ]
  },
  {
   "cell_type": "markdown",
   "metadata": {},
   "source": [
    "    • Storage (Хранение)\n",
    "    • Resource management (Управление ресурсами)\n",
    "    • Engine (Двигатель или Ядро)\n",
    "    • Ecosystem (Экосистема)\n",
    "    • APIs (Пользовательский интерфейс)"
   ]
  },
  {
   "cell_type": "markdown",
   "metadata": {},
   "source": [
    "<img src=\"img1_3.jpg\">"
   ]
  },
  {
   "cell_type": "markdown",
   "metadata": {},
   "source": [
    "#### Хранение"
   ]
  },
  {
   "cell_type": "markdown",
   "metadata": {},
   "source": [
    "Перед использованием Spark необходимо предоставить данные для их обработки. Эти данные могут находиться в любой базе данных. Spark предлагает несколько вариантов использования различных категорий источников данных, чтобы иметь возможность обрабатывать их в больших масштабах. Spark позволяет использовать традиционные реляционные базы данных, а также NoSQL, такие как Cassandra или MongoDB."
   ]
  },
  {
   "cell_type": "markdown",
   "metadata": {},
   "source": [
    "#### Управление ресурсами"
   ]
  },
  {
   "cell_type": "markdown",
   "metadata": {},
   "source": [
    "Следующий уровень состоит из менеджера ресурсов. Поскольку Spark работает на множестве машин (он также может работать на одной машине с несколькими ядрами), он известен как кластер Spark. Как правило, в любом кластере есть диспетчер ресурсов, который эффективно обрабатывает рабочую нагрузку между этими ресурсами.\n",
    "Два наиболее широко используемых менеджера ресурсов-это YARN и Mesos. Менеджер ресурсов имеет два основных компонента внутри:\n",
    "1. Диспетчер кластеров (Cluster manager)\n",
    "2. Работник (Worker)\n",
    "Это своего рода архитектура master-slave, в которой менеджер кластера действует как главный узел, а рабочий-как ведомый узел в кластере. Диспетчер кластеров отслеживает всю информацию, относящуюся к рабочим узлам и их текущему состоянию. Менеджеры кластеров всегда поддерживают следующую информацию:\n",
    "    1. Состояние рабочего узла (занято / доступно) Status of worker node (busy/available)\n",
    "    2. Расположение рабочего узла.(Location of worker node)\n",
    "    3. Память рабочего узла (Memory of worker node)\n",
    "    4. Общее количество ядер процессора рабочего узла (Total CPU cores of worker node)\n",
    "    Основная роль менеджера кластеров заключается в управлении рабочими узлами и назначении им задач на основе доступности и емкости рабочего узла. С другой стороны, рабочий узел отвечает только за выполнение задачи, заданной ему диспетчером кластеров, как показано на рис.1-4."
   ]
  },
  {
   "cell_type": "markdown",
   "metadata": {},
   "source": [
    "<img src=\"img1_4.jpg\">"
   ]
  },
  {
   "cell_type": "markdown",
   "metadata": {},
   "source": [
    "Задачи, которые предоставляются рабочим узлам, как правило, являются отдельными частями общего приложения Spark. Приложение Spark содержит две части:\n",
    "1. Задача (Task)\n",
    "2. Драйвер Spark (Spark driver)\n",
    "\n",
    "Задача-это логика обработки данных, которая была написана либо в коде PySpark, либо в коде Spark R. Это может быть так же просто, как принять общее количество частот слов к очень сложному набору инструкций на неструктурированном наборе данных. Вторым компонентом является драйвер Spark, основной контроллер приложения Spark, который последовательно взаимодействует с диспетчером кластеров, чтобы выяснить, какие рабочие узлы могут быть использованы для выполнения запроса. Роль драйвера Spark состоит в том, чтобы запросить у менеджера кластера инициализацию исполнителя Spark для каждого рабочего узла."
   ]
  },
  {
   "cell_type": "markdown",
   "metadata": {},
   "source": [
    "##### Двигатель и экосистема"
   ]
  },
  {
   "cell_type": "markdown",
   "metadata": {},
   "source": [
    "Основой архитектуры Spark является ее ядро, которое построено поверх RDDs (устойчивых распределенных наборов данных) и предлагает несколько API для построения других библиотек и экосистем участниками Spark. Он состоит из двух частей: инфраструктуры распределенных вычислений и абстракции программирования RDD. Библиотеки по умолчанию в инструментарии Spark toolkit поставляются в виде четырех различных предложений."
   ]
  },
  {
   "cell_type": "markdown",
   "metadata": {},
   "source": [
    "##### Spark SQL"
   ]
  },
  {
   "cell_type": "markdown",
   "metadata": {},
   "source": [
    "SQL, используемый большинством операторов ETL по всему миру, делает его логичным выбором, чтобы быть частью предложений Spark. Это позволяет пользователям Spark выполнять структурированную обработку данных, выполняя запросы SQL. В действительности, Spark SQL использует оптимизатор catalyst для выполнения оптимизаций во время выполнения запросов SQL.\n",
    "Еще одним преимуществом использования Spark SQL является то, что он может легко работать с несколькими файлами баз данных и систем хранения данных, таких как SQL, NoSQL, Parquet и т.д."
   ]
  },
  {
   "cell_type": "markdown",
   "metadata": {},
   "source": [
    "##### Mllib"
   ]
  },
  {
   "cell_type": "markdown",
   "metadata": {},
   "source": [
    "Обучение моделям машинного обучения на больших наборах данных начинало становиться огромной проблемой, пока не появилась библиотека машинного обучения Spark. MLlib дает вам возможность обучать модели машинного обучения на огромных наборах данных, используя кластеры Spark. Он позволяет создавать контролируемые, бесконтрольные и рекомендательные системы; модели на основе НЛП; и глубокое обучение, а также в библиотеке Spark ML."
   ]
  },
  {
   "cell_type": "markdown",
   "metadata": {},
   "source": [
    "#####  Структурированное Потоковое Вещание (Structured Streaming)"
   ]
  },
  {
   "cell_type": "markdown",
   "metadata": {},
   "source": [
    "Библиотека Spark Streaming library предоставляет функциональные возможности для чтения и обработки потоковых данных в режиме реального времени. Входящими данными могут быть пакетные данные или данные почти в реальном времени из разных источников. Структурированное потоковое вещание способно осуществить прием данных в реальном времени из таких источников, как Flume, Kafka, Twitter и др."
   ]
  },
  {
   "cell_type": "markdown",
   "metadata": {},
   "source": [
    "##### Graph X"
   ]
  },
  {
   "cell_type": "markdown",
   "metadata": {},
   "source": [
    "Это библиотека, которая находится в верхней части ядра Spark и позволяет пользователям обрабатывать определенные типы данных (графические фреймы данных), которые состоят из узлов и ребер. Типичный график используется для моделирования отношений между различными задействованными объектами. Узлы представляют объект, а ребро между узлами представляет отношение между ними. Графовые фреймы данных в основном используются в сетевом анализе, и Graph X позволяет осуществлять распределенную обработку таких графовых фреймов данных.\n",
    "Приложение Spark доступно на четырех языках. Поскольку Spark построен с использованием Scala, это становится родным языком. Кроме Scala, мы также можем использовать Python, Java и R, как показано на рис.1-5.\n"
   ]
  },
  {
   "cell_type": "markdown",
   "metadata": {},
   "source": [
    "<img src=\"img1_5.jpg\">"
   ]
  },
  {
   "cell_type": "markdown",
   "metadata": {},
   "source": [
    "### Настройка окружения\n",
    "Есть несколько способов, в которых мы можем использовать Spark:\n",
    "1. Локальная настройка\n",
    "2. Docers\n",
    "3. Облачное окружение(GCP, AWS, Azure)\n",
    "4. Источники данных"
   ]
  },
  {
   "cell_type": "markdown",
   "metadata": {},
   "source": [
    "### Локальная настройка"
   ]
  },
  {
   "cell_type": "markdown",
   "metadata": {},
   "source": [
    "Spark относительно легко установить и использовать  в локальной системе, но это не соответствует основной цели самой Spark, если она не используется в кластере. Основное приложение Spark - это распределенная обработка данных, которая всегда будет ограничена емкостью локальной системы, если она выполняется в локальной системе, в то время как вместо этого можно использовать Spark на группе машин. Тем не менее, это всегда хорошая практика, чтобы иметь Spark локально, а также для тестирования кода на примере данных. Итак, выполните следующие действия, чтобы сделать это:\n",
    "\n",
    "1. Убедитесь, что Java установлена; в противном случае установите Java.\n",
    "2. Загрузите последнюю версию Apache Spark с сайта https://spark.apache.org/downloads.html.\n",
    "3. Извлеките файлы из заархивированной папки.\n",
    "4. Скопируйте все файлы, связанные с Spark, в соответствующий каталог.\n",
    "5. Настройте переменные среды, чтобы иметь возможность запускать Spark.\n",
    "6. Проверьте установку и запустите Spark."
   ]
  },
  {
   "cell_type": "markdown",
   "metadata": {},
   "source": [
    "### Docers"
   ]
  },
  {
   "cell_type": "markdown",
   "metadata": {},
   "source": [
    "Другой способ использования Spark локально заключается в использовании метода контейнеризации докеров. Это позволяет пользователям переносить все зависимости и файлы Spark в один образ, который может быть запущен в любой системе. Мы можем удалить контейнер после завершения задачи и перезапустить его, если это необходимо. Чтобы использовать Docker для запуска Spark, мы должны сначала установить Docker в системе, а затем просто запустить следующую команду:\n",
    "\n",
    "[In]: docker run -it -p 8888:8888 jupyter/pyspark-notebook\"."
   ]
  },
  {
   "cell_type": "markdown",
   "metadata": {},
   "source": [
    "### Облачное окружение"
   ]
  },
  {
   "cell_type": "markdown",
   "metadata": {},
   "source": [
    "Как обсуждалось ранее, по различным причинам локальные наборы данных не очень-то помогают, когда речь заходит о больших данных, и именно там облака позволяют принимать и обрабатывать огромные наборы данных за короткий период. Реальную мощность Spark можно легко увидеть при работе с большими наборами данных (свыше 100 ТБ). Большинство облачных провайдеров позволяют устанавливать Spark, который иногда также понастроить на кластерах с необходимыми спецификациями, согласно потребности. Одной из облачных сред является Databricks."
   ]
  },
  {
   "cell_type": "markdown",
   "metadata": {},
   "source": [
    "Databricks-это компания, основанная создателями Spark, с целью предоставления корпоративной версии Spark для бизнеса, в дополнение к полноценной поддержке. Чтобы увеличить использование Spark среди сообщества и других пользователей, Databricks также предоставляет бесплатную версию Spark для сообщества с кластером 6 ГБ (один узел). Вы можете увеличить размер объекта"
   ]
  },
  {
   "cell_type": "markdown",
   "metadata": {},
   "source": [
    "## Обработка данных\n",
    "Далее описываются различные этапы предварительной обработки и обработки данных в PySpark. Методы предварительной обработки, безусловно, могут варьироваться от случая к случаю, и многие различные методы могут быть использованы для преоьбразования данных в желаемую форму. Далее необходимо показать показать некоторые из распространенных методов работы с большими данными в Spark. В этой главе мы рассмотрим различные этапы предварительной обработки данных, такие как обработка пропущенных значений, объединение наборов данных, применение функций, агрегирование и сортировка. Одной из основных частей предварительной обработки данных является преобразование числовых столбцов в категориальные и наоборот, которые мы рассмотрим в следующих нескольких главах и основаны на машинном обучении. Набор данных, который мы собираемся использовать, вдохновлен первичным исследовательским набором данных и содержит несколько атрибутов из исходного набора данных с дополнительными столбцами, содержащими сфабрикованные точки данных."
   ]
  },
  {
   "cell_type": "markdown",
   "metadata": {},
   "source": [
    "### Создание объекта SparkSession"
   ]
  },
  {
   "cell_type": "markdown",
   "metadata": {},
   "source": [
    "Первым шагом является создание объекта SparkSession, чтобы использовать Spark. Мы также импортируем все необходимые функции и типы данных из spark, sql:"
   ]
  },
  {
   "cell_type": "code",
   "execution_count": null,
   "metadata": {},
   "outputs": [],
   "source": [
    "#install java\n",
    "#C:\\Users\\biaspaltsau_aa>java --version\n",
    "#java 19.0.1 2022-10-18\n",
    "#Java(TM) SE Runtime Environment (build 19.0.1+10-21)\n",
    "#Java HotSpot(TM) 64-Bit Server VM (build 19.0.1+10-21, mixed mode, sharing)\n",
    "#Создаем новое окружение!\n",
    "#pip install pyspark"
   ]
  },
  {
   "cell_type": "code",
   "execution_count": 2,
   "metadata": {},
   "outputs": [],
   "source": [
    "#Без этого костыля у меня не работал\n",
    "import os\n",
    "import sys\n",
    "\n",
    "os.environ['PYSPARK_PYTHON'] = 'python'\n",
    "os.environ['PYSPARK_DRIVER_PYTHON'] = 'jupyter'"
   ]
  },
  {
   "cell_type": "code",
   "execution_count": 3,
   "metadata": {},
   "outputs": [],
   "source": [
    "# from pyspark.sql import SparkSession\n",
    "# spark=SparkSession.builder.appName('data_processing').master(\"local[*]\").config(\"spark.executor.memory\", \"10g\").getOrCreate()\n",
    "from pyspark.sql import SparkSession\n",
    "spark=SparkSession.builder.appName('data_processing').getOrCreate()"
   ]
  },
  {
   "cell_type": "code",
   "execution_count": 4,
   "metadata": {},
   "outputs": [],
   "source": [
    "spark = SparkSession.builder.getOrCreate()"
   ]
  },
  {
   "cell_type": "code",
   "execution_count": 5,
   "metadata": {},
   "outputs": [],
   "source": [
    "#spark.conf.set(\"spark.sql.execution.arrow.pyspark.enabled\", \"true\")"
   ]
  },
  {
   "attachments": {},
   "cell_type": "markdown",
   "metadata": {},
   "source": [
    "Пояснение - pyspark продукт java по этому ему нужна что бы в системе была java\n",
    "SparkSession - создает воркера (рабочего). Локально. На все ядра с 10gb оперативной памяти. "
   ]
  },
  {
   "cell_type": "code",
   "execution_count": 6,
   "metadata": {},
   "outputs": [],
   "source": [
    "#creating a customer dataframe by declaring the schema and passing values\n",
    "import pyspark.sql.functions as F\n",
    "from pyspark.sql.types import *\n",
    "import pyspark"
   ]
  },
  {
   "cell_type": "markdown",
   "metadata": {},
   "source": [
    "Теперь вместо непосредственного чтения файла для создания фрейма данных мы перейдем к процессу создания фрейма данных, передавая значения ключей. Способ создания фрейма данных в Spark заключается в объявлении его схемы и передаче значений столбцов."
   ]
  },
  {
   "cell_type": "code",
   "execution_count": 7,
   "metadata": {},
   "outputs": [],
   "source": [
    "schema=StructType().add(\"user_id\",\"string\").add(\"country\",\"string\").add(\"browser\", \"string\").add(\"OS\",'string').add(\"age\", \"integer\")"
   ]
  },
  {
   "cell_type": "code",
   "execution_count": 8,
   "metadata": {},
   "outputs": [],
   "source": [
    "#pass the values\n",
    "df=spark.createDataFrame([(\"A203\",'India',\"Chrome\",\"WIN\",33),(\"A201\",'China',\"Safari\",\"MacOS\",35),(\"A205\",'UK',\"Mozilla\",\"Linux\",25)],schema=schema)\n"
   ]
  },
  {
   "cell_type": "code",
   "execution_count": 9,
   "metadata": {},
   "outputs": [
    {
     "name": "stdout",
     "output_type": "stream",
     "text": [
      "root\n",
      " |-- user_id: string (nullable = true)\n",
      " |-- country: string (nullable = true)\n",
      " |-- browser: string (nullable = true)\n",
      " |-- OS: string (nullable = true)\n",
      " |-- age: integer (nullable = true)\n",
      "\n"
     ]
    }
   ],
   "source": [
    "df.printSchema()"
   ]
  },
  {
   "cell_type": "code",
   "execution_count": 10,
   "metadata": {},
   "outputs": [
    {
     "name": "stdout",
     "output_type": "stream",
     "text": [
      "+-------+-------+-------+-----+---+\n",
      "|user_id|country|browser|   OS|age|\n",
      "+-------+-------+-------+-----+---+\n",
      "|   A203|  India| Chrome|  WIN| 33|\n",
      "|   A201|  China| Safari|MacOS| 35|\n",
      "|   A205|     UK|Mozilla|Linux| 25|\n",
      "+-------+-------+-------+-----+---+\n",
      "\n"
     ]
    }
   ],
   "source": [
    "df.show()"
   ]
  },
  {
   "cell_type": "code",
   "execution_count": 11,
   "metadata": {},
   "outputs": [
    {
     "data": {
      "text/plain": [
       "[Row(user_id='A203', country='India', browser='Chrome', OS='WIN', age=33),\n",
       " Row(user_id='A201', country='China', browser='Safari', OS='MacOS', age=35),\n",
       " Row(user_id='A205', country='UK', browser='Mozilla', OS='Linux', age=25)]"
      ]
     },
     "execution_count": 11,
     "metadata": {},
     "output_type": "execute_result"
    }
   ],
   "source": [
    "df.head(5)"
   ]
  },
  {
   "cell_type": "code",
   "execution_count": 12,
   "metadata": {},
   "outputs": [
    {
     "data": {
      "text/plain": [
       "[Row(user_id='A203', country='India', browser='Chrome', OS='WIN', age=33),\n",
       " Row(user_id='A201', country='China', browser='Safari', OS='MacOS', age=35)]"
      ]
     },
     "execution_count": 12,
     "metadata": {},
     "output_type": "execute_result"
    }
   ],
   "source": [
    "df.head(2)"
   ]
  },
  {
   "cell_type": "markdown",
   "metadata": {},
   "source": [
    "Очень часто в качестве части общих данных используются нулевые значения. Поэтому очень важно добавить шаг в конвейер обработки данных, чтобы обработать значения null. В Spark мы можем иметь дело с нулевыми значениями, либо заменяя их некоторым конкретным значением, либо отбрасывая строки/столбцы, содержащие нулевые значения.\n",
    "Во-первых, мы создаем новый фрейм данных (df_na), который содержит нулевые значения в двух его столбцах (схема такая же, как и в предыдущем фрейме данных).\n",
    "При первом подходе к работе со значениями null мы заполняем все значения null в данном фрейме данных значением 0,что обеспечивает быстрое исправление. Мы используем функцию fillna для замены всех нулевых значений в фрейме данных на 0.\n",
    "При втором подходе мы заменяем нулевые значения в определенных столбцах (страна, браузер) на 'USA' и 'Safari' соответственно."
   ]
  },
  {
   "cell_type": "code",
   "execution_count": 21,
   "metadata": {},
   "outputs": [],
   "source": [
    "#create a new dataframe with nukll values \n",
    "df_na=spark.createDataFrame([(\"A203\",None,\"Chrome\",\"WIN\",33),(\"A201\",'China',None,\"MacOS\",35),(\"A205\",'UK',\"Mozilla\",\"Linux\",20)],schema=schema)\n"
   ]
  },
  {
   "cell_type": "code",
   "execution_count": 22,
   "metadata": {},
   "outputs": [
    {
     "name": "stdout",
     "output_type": "stream",
     "text": [
      "+-------+-------+-------+-----+---+\n",
      "|user_id|country|browser|   OS|age|\n",
      "+-------+-------+-------+-----+---+\n",
      "|   A203|   null| Chrome|  WIN| 33|\n",
      "|   A201|  China|   null|MacOS| 35|\n",
      "|   A205|     UK|Mozilla|Linux| 20|\n",
      "+-------+-------+-------+-----+---+\n",
      "\n"
     ]
    }
   ],
   "source": [
    "df_na.show()"
   ]
  },
  {
   "cell_type": "code",
   "execution_count": 23,
   "metadata": {},
   "outputs": [
    {
     "name": "stdout",
     "output_type": "stream",
     "text": [
      "+-------+-------+-------+-----+---+\n",
      "|user_id|country|browser|   OS|age|\n",
      "+-------+-------+-------+-----+---+\n",
      "|   A203|      0| Chrome|  WIN| 33|\n",
      "|   A201|  China|      0|MacOS| 35|\n",
      "|   A205|     UK|Mozilla|Linux| 20|\n",
      "+-------+-------+-------+-----+---+\n",
      "\n"
     ]
    }
   ],
   "source": [
    "#fill all null values with 0\n",
    "df_na.fillna('0').show()"
   ]
  },
  {
   "cell_type": "code",
   "execution_count": 24,
   "metadata": {},
   "outputs": [
    {
     "name": "stdout",
     "output_type": "stream",
     "text": [
      "+-------+-------+-------+-----+---+\n",
      "|user_id|country|browser|   OS|age|\n",
      "+-------+-------+-------+-----+---+\n",
      "|   A203|   null| Chrome|  WIN| 33|\n",
      "|   A201|  China|   null|MacOS| 35|\n",
      "|   A205|     UK|Mozilla|Linux| 20|\n",
      "+-------+-------+-------+-----+---+\n",
      "\n"
     ]
    }
   ],
   "source": [
    "df_na.fillna(0).show()"
   ]
  },
  {
   "cell_type": "code",
   "execution_count": 25,
   "metadata": {},
   "outputs": [
    {
     "name": "stdout",
     "output_type": "stream",
     "text": [
      "+-------+-------+-------+-----+---+\n",
      "|user_id|country|browser|   OS|age|\n",
      "+-------+-------+-------+-----+---+\n",
      "|   A203|    USA| Chrome|  WIN| 33|\n",
      "|   A201|  China| Safari|MacOS| 35|\n",
      "|   A205|     UK|Mozilla|Linux| 20|\n",
      "+-------+-------+-------+-----+---+\n",
      "\n"
     ]
    }
   ],
   "source": [
    "#fill null values with specific value\n",
    "df_na.fillna( { 'country':'USA', 'browser':'Safari', 'age':17 } ).show()"
   ]
  },
  {
   "cell_type": "code",
   "execution_count": 26,
   "metadata": {},
   "outputs": [],
   "source": [
    "import pandas as pd\n",
    "df = pd.DataFrame(data=df_na.toPandas(),columns=df_na.columns)"
   ]
  },
  {
   "cell_type": "code",
   "execution_count": 27,
   "metadata": {},
   "outputs": [
    {
     "data": {
      "text/html": [
       "<div>\n",
       "<style scoped>\n",
       "    .dataframe tbody tr th:only-of-type {\n",
       "        vertical-align: middle;\n",
       "    }\n",
       "\n",
       "    .dataframe tbody tr th {\n",
       "        vertical-align: top;\n",
       "    }\n",
       "\n",
       "    .dataframe thead th {\n",
       "        text-align: right;\n",
       "    }\n",
       "</style>\n",
       "<table border=\"1\" class=\"dataframe\">\n",
       "  <thead>\n",
       "    <tr style=\"text-align: right;\">\n",
       "      <th></th>\n",
       "      <th>user_id</th>\n",
       "      <th>country</th>\n",
       "      <th>browser</th>\n",
       "      <th>OS</th>\n",
       "      <th>age</th>\n",
       "    </tr>\n",
       "  </thead>\n",
       "  <tbody>\n",
       "    <tr>\n",
       "      <th>0</th>\n",
       "      <td>A203</td>\n",
       "      <td>None</td>\n",
       "      <td>Chrome</td>\n",
       "      <td>WIN</td>\n",
       "      <td>33</td>\n",
       "    </tr>\n",
       "    <tr>\n",
       "      <th>1</th>\n",
       "      <td>A201</td>\n",
       "      <td>China</td>\n",
       "      <td>None</td>\n",
       "      <td>MacOS</td>\n",
       "      <td>35</td>\n",
       "    </tr>\n",
       "    <tr>\n",
       "      <th>2</th>\n",
       "      <td>A205</td>\n",
       "      <td>UK</td>\n",
       "      <td>Mozilla</td>\n",
       "      <td>Linux</td>\n",
       "      <td>20</td>\n",
       "    </tr>\n",
       "  </tbody>\n",
       "</table>\n",
       "</div>"
      ],
      "text/plain": [
       "  user_id country  browser     OS  age\n",
       "0    A203    None   Chrome    WIN   33\n",
       "1    A201   China     None  MacOS   35\n",
       "2    A205      UK  Mozilla  Linux   20"
      ]
     },
     "execution_count": 27,
     "metadata": {},
     "output_type": "execute_result"
    }
   ],
   "source": [
    "df"
   ]
  },
  {
   "cell_type": "code",
   "execution_count": null,
   "metadata": {},
   "outputs": [],
   "source": []
  },
  {
   "cell_type": "code",
   "execution_count": 28,
   "metadata": {},
   "outputs": [
    {
     "name": "stdout",
     "output_type": "stream",
     "text": [
      "root\n",
      " |-- user_id: string (nullable = true)\n",
      " |-- country: string (nullable = true)\n",
      " |-- browser: string (nullable = true)\n",
      " |-- OS: string (nullable = true)\n",
      " |-- age: long (nullable = true)\n",
      "\n",
      "+-------+-------+-------+-----+---+\n",
      "|user_id|country|browser|   OS|age|\n",
      "+-------+-------+-------+-----+---+\n",
      "|   A203|   null| Chrome|  WIN| 33|\n",
      "|   A201|  China|   null|MacOS| 35|\n",
      "|   A205|     UK|Mozilla|Linux| 20|\n",
      "+-------+-------+-------+-----+---+\n",
      "\n"
     ]
    }
   ],
   "source": [
    "sparkDF=spark.createDataFrame(df) \n",
    "sparkDF.printSchema()\n",
    "sparkDF.show()"
   ]
  },
  {
   "cell_type": "code",
   "execution_count": null,
   "metadata": {},
   "outputs": [],
   "source": []
  },
  {
   "cell_type": "markdown",
   "metadata": {},
   "source": [
    "Чтобы удалить строки с любыми пустыми значениями, мы можем просто использовать na.drop функциональности в PySpark. В то время как если это необходимо сделать для определенных столбцов, мы также можем передать набор имен столбцов, как показано в следующем примере:"
   ]
  },
  {
   "cell_type": "code",
   "execution_count": 29,
   "metadata": {},
   "outputs": [
    {
     "name": "stdout",
     "output_type": "stream",
     "text": [
      "+-------+-------+-------+-----+---+\n",
      "|user_id|country|browser|   OS|age|\n",
      "+-------+-------+-------+-----+---+\n",
      "|   A205|     UK|Mozilla|Linux| 20|\n",
      "+-------+-------+-------+-----+---+\n",
      "\n"
     ]
    }
   ],
   "source": [
    "#Return new df omitting rows with null values\n",
    "df_na.na.drop().show()"
   ]
  },
  {
   "cell_type": "code",
   "execution_count": 30,
   "metadata": {},
   "outputs": [
    {
     "name": "stdout",
     "output_type": "stream",
     "text": [
      "+-------+-------+-------+-----+---+\n",
      "|user_id|country|browser|   OS|age|\n",
      "+-------+-------+-------+-----+---+\n",
      "|   A201|  China|   null|MacOS| 35|\n",
      "|   A205|     UK|Mozilla|Linux| 20|\n",
      "+-------+-------+-------+-----+---+\n",
      "\n"
     ]
    }
   ],
   "source": [
    "df_na.na.drop(subset='country').show()"
   ]
  },
  {
   "cell_type": "markdown",
   "metadata": {},
   "source": [
    "Еще одним очень распространенным шагом в обработке данных является замена некоторых точек данных определенными значениями. Для этого можно использовать функцию replace, как показано в следующем примере. Чтобы удалить столбец фрейма данных, мы можем использовать функциональность drop PySpark."
   ]
  },
  {
   "cell_type": "code",
   "execution_count": 31,
   "metadata": {},
   "outputs": [
    {
     "name": "stdout",
     "output_type": "stream",
     "text": [
      "+-------+-------+-------------+-----+---+\n",
      "|user_id|country|      browser|   OS|age|\n",
      "+-------+-------+-------------+-----+---+\n",
      "|   A203|   null|Google Chrome|  WIN| 33|\n",
      "|   A201|  China|         null|MacOS| 35|\n",
      "|   A205|     UK|      Mozilla|Linux| 20|\n",
      "+-------+-------+-------------+-----+---+\n",
      "\n"
     ]
    }
   ],
   "source": [
    "df_na.replace(\"Chrome\",\"Google Chrome\").show()"
   ]
  },
  {
   "cell_type": "code",
   "execution_count": 32,
   "metadata": {},
   "outputs": [
    {
     "name": "stdout",
     "output_type": "stream",
     "text": [
      "+-------+-------+-----+---+\n",
      "|country|browser|   OS|age|\n",
      "+-------+-------+-----+---+\n",
      "|   null| Chrome|  WIN| 33|\n",
      "|  China|   null|MacOS| 35|\n",
      "|     UK|Mozilla|Linux| 20|\n",
      "+-------+-------+-----+---+\n",
      "\n"
     ]
    }
   ],
   "source": [
    "#deleting column \n",
    "df_na.drop('user_id').show()"
   ]
  },
  {
   "cell_type": "markdown",
   "metadata": {},
   "source": [
    "Теперь, когда мы увидели, как создать фрейм данных путем передачи значения и как обрабатывать пропущенные значения, мы можем создать фрейм данных Spark, прочитав файл (. csv, parquet и др.). Набор данных содержит в общей сложности семь столбцов и 2000 строк. Функция суммирования позволяет нам видеть статистические меры набора данных, такие как min, max и mean числовых данных, присутствующих в фрейме данных."
   ]
  },
  {
   "cell_type": "code",
   "execution_count": 20,
   "metadata": {},
   "outputs": [],
   "source": [
    "#read files as Dataframe"
   ]
  },
  {
   "cell_type": "code",
   "execution_count": 52,
   "metadata": {},
   "outputs": [],
   "source": [
    "df=spark.read.csv(\"customer_data.csv\",header=True,inferSchema=True)"
   ]
  },
  {
   "cell_type": "code",
   "execution_count": 53,
   "metadata": {
    "scrolled": true
   },
   "outputs": [
    {
     "data": {
      "text/plain": [
       "2000"
      ]
     },
     "execution_count": 53,
     "metadata": {},
     "output_type": "execute_result"
    }
   ],
   "source": [
    "df.count()"
   ]
  },
  {
   "cell_type": "code",
   "execution_count": 54,
   "metadata": {},
   "outputs": [
    {
     "name": "stdout",
     "output_type": "stream",
     "text": [
      "+--------------------+----------------+------------------+-----------+--------------------+----------+-----+\n",
      "|    Customer_subtype|Number_of_houses|Avg_size_household|    Avg_age|  Customer_main_type|Avg_Salary|label|\n",
      "+--------------------+----------------+------------------+-----------+--------------------+----------+-----+\n",
      "|Lower class large...|               1|                 3|30-40 years|Family with grown...|     44905|    0|\n",
      "|Mixed small town ...|               1|                 2|30-40 years|Family with grown...|     37575|    0|\n",
      "|Mixed small town ...|               1|                 2|30-40 years|Family with grown...|     27915|    0|\n",
      "|Modern, complete ...|               1|                 3|40-50 years|      Average Family|     19504|    0|\n",
      "|  Large family farms|               1|                 4|30-40 years|             Farmers|     34943|    0|\n",
      "|    Young and rising|               1|                 2|20-30 years|         Living well|     13064|    0|\n",
      "|Large religious f...|               2|                 3|30-40 years|Conservative fami...|     29090|    0|\n",
      "|Lower class large...|               1|                 2|40-50 years|Family with grown...|      6895|    0|\n",
      "|Lower class large...|               1|                 2|50-60 years|Family with grown...|     35497|    0|\n",
      "|     Family starters|               2|                 3|40-50 years|      Average Family|     30800|    0|\n",
      "|       Stable family|               1|                 4|40-50 years|      Average Family|     39157|    0|\n",
      "|Modern, complete ...|               1|                 3|40-50 years|      Average Family|     40839|    0|\n",
      "|Lower class large...|               1|                 2|40-50 years|Family with grown...|     30008|    0|\n",
      "|        Mixed rurals|               1|                 3|40-50 years|             Farmers|     37209|    0|\n",
      "|    Young and rising|               1|                 1|30-40 years|         Living well|     45361|    0|\n",
      "|Lower class large...|               1|                 2|40-50 years|Family with grown...|     45650|    0|\n",
      "|Traditional families|               1|                 2|40-50 years|Conservative fami...|     18982|    0|\n",
      "|Mixed apartment d...|               2|                 3|40-50 years|         Living well|     30093|    0|\n",
      "|Young all america...|               1|                 4|30-40 years|      Average Family|     27097|    0|\n",
      "|Low income catholics|               1|                 2|50-60 years|Retired and Relig...|     23511|    0|\n",
      "+--------------------+----------------+------------------+-----------+--------------------+----------+-----+\n",
      "only showing top 20 rows\n",
      "\n"
     ]
    }
   ],
   "source": [
    "df.show()"
   ]
  },
  {
   "cell_type": "code",
   "execution_count": 55,
   "metadata": {},
   "outputs": [
    {
     "data": {
      "text/plain": [
       "['Customer_subtype',\n",
       " 'Number_of_houses',\n",
       " 'Avg_size_household',\n",
       " 'Avg_age',\n",
       " 'Customer_main_type',\n",
       " 'Avg_Salary',\n",
       " 'label']"
      ]
     },
     "execution_count": 55,
     "metadata": {},
     "output_type": "execute_result"
    }
   ],
   "source": [
    "df.columns"
   ]
  },
  {
   "cell_type": "code",
   "execution_count": 56,
   "metadata": {},
   "outputs": [
    {
     "name": "stdout",
     "output_type": "stream",
     "text": [
      "root\n",
      " |-- Customer_subtype: string (nullable = true)\n",
      " |-- Number_of_houses: integer (nullable = true)\n",
      " |-- Avg_size_household: integer (nullable = true)\n",
      " |-- Avg_age: string (nullable = true)\n",
      " |-- Customer_main_type: string (nullable = true)\n",
      " |-- Avg_Salary: integer (nullable = true)\n",
      " |-- label: integer (nullable = true)\n",
      "\n"
     ]
    }
   ],
   "source": [
    "df.printSchema()"
   ]
  },
  {
   "cell_type": "code",
   "execution_count": 92,
   "metadata": {},
   "outputs": [
    {
     "name": "stdout",
     "output_type": "stream",
     "text": [
      "+--------------------------+----------------+------------------+-----------+---------------------+----------+-----+\n",
      "|Customer_subtype          |Number_of_houses|Avg_size_household|Avg_age    |Customer_main_type   |Avg_Salary|label|\n",
      "+--------------------------+----------------+------------------+-----------+---------------------+----------+-----+\n",
      "|Lower class large families|1               |3                 |30-40 years|Family with grown ups|44905     |0    |\n",
      "|Mixed small town dwellers |1               |2                 |30-40 years|Family with grown ups|37575     |0    |\n",
      "|Mixed small town dwellers |1               |2                 |30-40 years|Family with grown ups|27915     |0    |\n",
      "|Modern, complete families |1               |3                 |40-50 years|Average Family       |19504     |0    |\n",
      "|Large family farms        |1               |4                 |30-40 years|Farmers              |34943     |0    |\n",
      "|Young and rising          |1               |2                 |20-30 years|Living well          |13064     |0    |\n",
      "|Large religious families  |2               |3                 |30-40 years|Conservative families|29090     |0    |\n",
      "|Lower class large families|1               |2                 |40-50 years|Family with grown ups|6895      |0    |\n",
      "|Lower class large families|1               |2                 |50-60 years|Family with grown ups|35497     |0    |\n",
      "|Family starters           |2               |3                 |40-50 years|Average Family       |30800     |0    |\n",
      "+--------------------------+----------------+------------------+-----------+---------------------+----------+-----+\n",
      "only showing top 10 rows\n",
      "\n"
     ]
    }
   ],
   "source": [
    "df.show(10,truncate=False)"
   ]
  },
  {
   "cell_type": "code",
   "execution_count": 67,
   "metadata": {},
   "outputs": [
    {
     "data": {
      "text/plain": [
       "['Customer_subtype',\n",
       " 'Number_of_houses',\n",
       " 'Avg_size_household',\n",
       " 'Avg_age',\n",
       " 'Customer_main_type',\n",
       " 'Avg_Salary',\n",
       " 'label']"
      ]
     },
     "execution_count": 67,
     "metadata": {},
     "output_type": "execute_result"
    }
   ],
   "source": [
    "df.columns"
   ]
  },
  {
   "cell_type": "code",
   "execution_count": 68,
   "metadata": {},
   "outputs": [
    {
     "name": "stdout",
     "output_type": "stream",
     "text": [
      "+-------+--------------------+------------------+------------------+-----------+--------------------+-----------------+------------------+\n",
      "|summary|    Customer_subtype|  Number_of_houses|Avg_size_household|    Avg_age|  Customer_main_type|       Avg_Salary|             label|\n",
      "+-------+--------------------+------------------+------------------+-----------+--------------------+-----------------+------------------+\n",
      "|  count|                2000|              2000|              2000|       2000|                2000|             2000|              2000|\n",
      "|   mean|                null|            1.1075|            2.6895|       null|                null|     1616908.0835|            0.0605|\n",
      "| stddev|                null|0.3873225521186316|0.7914562220841646|       null|                null|6822647.757312146|0.2384705099001677|\n",
      "|    min|Affluent senior a...|                 1|                 1|20-30 years|      Average Family|             1361|                 0|\n",
      "|    25%|                null|                 1|                 2|       null|                null|            20315|                 0|\n",
      "|    50%|                null|                 1|                 3|       null|                null|            31421|                 0|\n",
      "|    75%|                null|                 1|                 3|       null|                null|            42949|                 0|\n",
      "|    max| Young, low educated|                10|                 5|70-80 years|Successful hedonists|         48919896|                 1|\n",
      "+-------+--------------------+------------------+------------------+-----------+--------------------+-----------------+------------------+\n",
      "\n"
     ]
    }
   ],
   "source": [
    "df.summary().show()"
   ]
  },
  {
   "cell_type": "code",
   "execution_count": 69,
   "metadata": {},
   "outputs": [
    {
     "name": "stdout",
     "output_type": "stream",
     "text": [
      "+-------+--------------------+------------------+------------------+-----------+--------------------+-----------------+------------------+\n",
      "|summary|    Customer_subtype|  Number_of_houses|Avg_size_household|    Avg_age|  Customer_main_type|       Avg_Salary|             label|\n",
      "+-------+--------------------+------------------+------------------+-----------+--------------------+-----------------+------------------+\n",
      "|  count|                2000|              2000|              2000|       2000|                2000|             2000|              2000|\n",
      "|   mean|                null|            1.1075|            2.6895|       null|                null|     1616908.0835|            0.0605|\n",
      "| stddev|                null|0.3873225521186316|0.7914562220841646|       null|                null|6822647.757312146|0.2384705099001677|\n",
      "|    min|Affluent senior a...|                 1|                 1|20-30 years|      Average Family|             1361|                 0|\n",
      "|    max| Young, low educated|                10|                 5|70-80 years|Successful hedonists|         48919896|                 1|\n",
      "+-------+--------------------+------------------+------------------+-----------+--------------------+-----------------+------------------+\n",
      "\n"
     ]
    }
   ],
   "source": [
    "df.describe().show()"
   ]
  },
  {
   "cell_type": "code",
   "execution_count": 91,
   "metadata": {},
   "outputs": [
    {
     "name": "stdout",
     "output_type": "stream",
     "text": [
      "+-------+--------------------------+------------------+------------------+-----------+--------------------+-----------------+------------------+\n",
      "|summary|Customer_subtype          |Number_of_houses  |Avg_size_household|Avg_age    |Customer_main_type  |Avg_Salary       |label             |\n",
      "+-------+--------------------------+------------------+------------------+-----------+--------------------+-----------------+------------------+\n",
      "|count  |2000                      |2000              |2000              |2000       |2000                |2000             |2000              |\n",
      "|mean   |null                      |1.1075            |2.6895            |null       |null                |1616908.0835     |0.0605            |\n",
      "|stddev |null                      |0.3873225521186316|0.7914562220841646|null       |null                |6822647.757312146|0.2384705099001677|\n",
      "|min    |Affluent senior apartments|1                 |1                 |20-30 years|Average Family      |1361             |0                 |\n",
      "|max    |Young, low educated       |10                |5                 |70-80 years|Successful hedonists|48919896         |1                 |\n",
      "+-------+--------------------------+------------------+------------------+-----------+--------------------+-----------------+------------------+\n",
      "\n"
     ]
    }
   ],
   "source": [
    "df.describe().show(truncate=False)"
   ]
  },
  {
   "cell_type": "markdown",
   "metadata": {},
   "source": [
    "В большинстве случаев мы не будем использовать все столбцы, присутствующие в фрейме данных, поскольку некоторые из них могут быть избыточными и нести очень мало ценности с точки зрения предоставления полезной информации. Поэтому подмножество фрейма данных становится критически важным для наличия надлежащих данных для анализа. Я расскажу об этом в следующем разделе."
   ]
  },
  {
   "cell_type": "markdown",
   "metadata": {},
   "source": [
    "### Подмножество фрейма данных"
   ]
  },
  {
   "cell_type": "markdown",
   "metadata": {},
   "source": [
    "Подмножество фрейма данных может быть создано на основе нескольких условий, в которых мы выбираем несколько строк, столбцов или данных с определенными фильтрами на месте. В следующих примерах вы увидите, как мы можем создать подмножество исходного фрейма данных, основываясь на определенных условиях, чтобы продемонстрировать процесс фильтрации записей."
   ]
  },
  {
   "cell_type": "markdown",
   "metadata": {},
   "source": [
    "    1.  Select\n",
    "    2.  Filter\n",
    "    3.  Where"
   ]
  },
  {
   "cell_type": "markdown",
   "metadata": {},
   "source": [
    "В этом примере мы берем один из столбцов фрейма данных, 'Avg_Salary', и создаем подмножество исходного фрейма данных, используя select. Мы можем передать любое количество столбцов,которые должны присутствовать в подмножестве. Затем мы применяем фильтр на фрейме данных, чтобы извлечь записи, основанные на определенном пороге (Avg_Salary > 1000000). После фильтрации мы можем либо взять общее количество записей, присутствующих в подмножестве, либо взять его для дальнейшей обработки."
   ]
  },
  {
   "cell_type": "code",
   "execution_count": 90,
   "metadata": {},
   "outputs": [
    {
     "name": "stdout",
     "output_type": "stream",
     "text": [
      "+--------------------------+\n",
      "|Customer_subtype          |\n",
      "+--------------------------+\n",
      "|Lower class large families|\n",
      "|Mixed small town dwellers |\n",
      "|Mixed small town dwellers |\n",
      "|Modern, complete families |\n",
      "|Large family farms        |\n",
      "|Young and rising          |\n",
      "|Large religious families  |\n",
      "|Lower class large families|\n",
      "|Lower class large families|\n",
      "|Family starters           |\n",
      "|Stable family             |\n",
      "|Modern, complete families |\n",
      "|Lower class large families|\n",
      "|Mixed rurals              |\n",
      "|Young and rising          |\n",
      "|Lower class large families|\n",
      "|Traditional families      |\n",
      "|Mixed apartment dwellers  |\n",
      "|Young all american family |\n",
      "|Low income catholics      |\n",
      "+--------------------------+\n",
      "only showing top 20 rows\n",
      "\n"
     ]
    }
   ],
   "source": [
    "df.select(['Customer_subtype']).show(truncate=False)"
   ]
  },
  {
   "cell_type": "markdown",
   "metadata": {},
   "source": [
    "Мы также можем применить несколько фильтров к фрейму данных, включив в него дополнительные условия, как показано ниже. Это можно сделать двумя способами: во-первых, применяя последовательные фильтры, а затем с помощью операндов ( & , or)."
   ]
  },
  {
   "cell_type": "code",
   "execution_count": 80,
   "metadata": {},
   "outputs": [
    {
     "data": {
      "text/plain": [
       "128"
      ]
     },
     "execution_count": 80,
     "metadata": {},
     "output_type": "execute_result"
    }
   ],
   "source": [
    "df.filter(df['Avg_Salary'] > 1000000).count()"
   ]
  },
  {
   "cell_type": "code",
   "execution_count": null,
   "metadata": {},
   "outputs": [],
   "source": []
  },
  {
   "cell_type": "code",
   "execution_count": 77,
   "metadata": {},
   "outputs": [],
   "source": [
    "import pandas as pd\n",
    "import pandas as pd\n",
    "df_p = pd.DataFrame(data=df.toPandas(),columns=df.columns)"
   ]
  },
  {
   "cell_type": "code",
   "execution_count": 78,
   "metadata": {},
   "outputs": [
    {
     "data": {
      "text/plain": [
       "Customer_subtype      128\n",
       "Number_of_houses      128\n",
       "Avg_size_household    128\n",
       "Avg_age               128\n",
       "Customer_main_type    128\n",
       "Avg_Salary            128\n",
       "label                 128\n",
       "dtype: int64"
      ]
     },
     "execution_count": 78,
     "metadata": {},
     "output_type": "execute_result"
    }
   ],
   "source": [
    "df_p[df_p[\"Avg_Salary\"]>1000000].count()"
   ]
  },
  {
   "cell_type": "code",
   "execution_count": null,
   "metadata": {},
   "outputs": [],
   "source": []
  },
  {
   "cell_type": "code",
   "execution_count": 81,
   "metadata": {},
   "outputs": [
    {
     "name": "stdout",
     "output_type": "stream",
     "text": [
      "+--------------------+----------------+------------------+-----------+--------------------+----------+-----+\n",
      "|    Customer_subtype|Number_of_houses|Avg_size_household|    Avg_age|  Customer_main_type|Avg_Salary|label|\n",
      "+--------------------+----------------+------------------+-----------+--------------------+----------+-----+\n",
      "| High status seniors|               1|                 3|40-50 years|Successful hedonists|   4670288|    0|\n",
      "| High status seniors|               1|                 3|50-60 years|Successful hedonists|   9561873|    0|\n",
      "| High status seniors|               1|                 2|40-50 years|Successful hedonists|  18687005|    0|\n",
      "| High status seniors|               1|                 2|40-50 years|Successful hedonists|  24139960|    0|\n",
      "| High status seniors|               1|                 2|50-60 years|Successful hedonists|   6718606|    0|\n",
      "|High Income, expe...|               1|                 3|40-50 years|Successful hedonists|  19347139|    0|\n",
      "|High Income, expe...|               1|                 3|40-50 years|Successful hedonists|   5243902|    0|\n",
      "| High status seniors|               2|                 3|40-50 years|Successful hedonists|   6138618|    0|\n",
      "|High Income, expe...|               1|                 3|50-60 years|Successful hedonists|  24930053|    0|\n",
      "| High status seniors|               1|                 2|50-60 years|Successful hedonists|  12545905|    1|\n",
      "|High Income, expe...|               1|                 3|40-50 years|Successful hedonists|  29976435|    0|\n",
      "| High status seniors|               1|                 2|50-60 years|Successful hedonists|  24639614|    0|\n",
      "| High status seniors|               1|                 2|40-50 years|Successful hedonists|  16073966|    0|\n",
      "|High Income, expe...|               1|                 4|40-50 years|Successful hedonists|  35032441|    1|\n",
      "|High Income, expe...|               1|                 2|50-60 years|Successful hedonists|   8354410|    0|\n",
      "| High status seniors|               1|                 1|60-70 years|Successful hedonists|  20241068|    0|\n",
      "| High status seniors|               1|                 1|50-60 years|Successful hedonists|  45592572|    0|\n",
      "| High status seniors|               1|                 2|50-60 years|Successful hedonists|  10289449|    0|\n",
      "|High Income, expe...|               1|                 2|50-60 years|Successful hedonists|   5586401|    0|\n",
      "| High status seniors|               1|                 2|50-60 years|Successful hedonists|  41699271|    0|\n",
      "+--------------------+----------------+------------------+-----------+--------------------+----------+-----+\n",
      "only showing top 20 rows\n",
      "\n"
     ]
    }
   ],
   "source": [
    "df.filter(df['Avg_Salary'] > 1000000).show()"
   ]
  },
  {
   "cell_type": "code",
   "execution_count": 82,
   "metadata": {},
   "outputs": [
    {
     "name": "stdout",
     "output_type": "stream",
     "text": [
      "+--------------------+----------------+------------------+-----------+--------------------+----------+-----+\n",
      "|    Customer_subtype|Number_of_houses|Avg_size_household|    Avg_age|  Customer_main_type|Avg_Salary|label|\n",
      "+--------------------+----------------+------------------+-----------+--------------------+----------+-----+\n",
      "|Affluent senior a...|               3|                 2|50-60 years|Successful hedonists|    596723|    0|\n",
      "|Affluent senior a...|               3|                 2|50-60 years|Successful hedonists|    944444|    0|\n",
      "|Affluent senior a...|               3|                 2|50-60 years|Successful hedonists|    788477|    0|\n",
      "|Affluent senior a...|               3|                 2|50-60 years|Successful hedonists|    994077|    0|\n",
      "+--------------------+----------------+------------------+-----------+--------------------+----------+-----+\n",
      "\n"
     ]
    }
   ],
   "source": [
    "df.filter(df['Avg_Salary'] > 50000).filter(df['Number_of_houses'] > 2).filter(df['Avg_size_household']==2).show()"
   ]
  },
  {
   "cell_type": "code",
   "execution_count": 35,
   "metadata": {},
   "outputs": [
    {
     "name": "stdout",
     "output_type": "stream",
     "text": [
      "+--------------------+----------------+------------------+-----------+--------------------+----------+-----+\n",
      "|    Customer_subtype|Number_of_houses|Avg_size_household|    Avg_age|  Customer_main_type|Avg_Salary|label|\n",
      "+--------------------+----------------+------------------+-----------+--------------------+----------+-----+\n",
      "|Affluent senior a...|               3|                 2|50-60 years|Successful hedonists|    596723|    0|\n",
      "|Affluent senior a...|               3|                 2|50-60 years|Successful hedonists|    944444|    0|\n",
      "|Affluent senior a...|               3|                 2|50-60 years|Successful hedonists|    788477|    0|\n",
      "|Affluent senior a...|               3|                 2|50-60 years|Successful hedonists|    994077|    0|\n",
      "+--------------------+----------------+------------------+-----------+--------------------+----------+-----+\n",
      "\n"
     ]
    }
   ],
   "source": [
    "df.where((df['Avg_Salary'] > 500000) & (df['Number_of_houses'] > 2)).show()\n"
   ]
  },
  {
   "cell_type": "markdown",
   "metadata": {},
   "source": [
    "Теперь, когда мы увидели, как создать подмножество из фрейма данных, мы можем перейти к агрегациям в PySpark."
   ]
  },
  {
   "cell_type": "markdown",
   "metadata": {},
   "source": [
    "### Агрегации\n",
    "\n",
    "Любой вид агрегации может быть разбит просто на три этапа, в следующем порядке:"
   ]
  },
  {
   "cell_type": "markdown",
   "metadata": {},
   "source": [
    "•  Split\n",
    "•  Apply\n",
    "•  Combine"
   ]
  },
  {
   "cell_type": "markdown",
   "metadata": {},
   "source": [
    "Первый шаг состоит в том, чтобы разделить данные на основе столбца или группы столбцов, а затем выполнить операцию над этими небольшими отдельными группами (count, max, avg и т. д.). После того, как результаты будут получены для каждого набора групп, последний шаг заключается в объединении всех этих результатов.\n",
    "В следующем примере мы агрегируем данные, основанные на 'Customer subtype', и просто подсчитываем количество записей в каждой категории.\n",
    "Мы используем функцию groupBy в PySpark. Вывод этого не находится в каком-либо определенном порядке, так как мы не применяли никакой сортировки к результатам. Поэтому мы также увидим, как мы можем применить любой тип сортировки к конечным результатам. Потому что у нас есть семь столбцов в фрейме данных-все они являются категориальные столбцы, за исключением одного (Avg_Salary), можно перебирать по каждому столбцу и применять агрегацию, как показано в следующем примере:"
   ]
  },
  {
   "cell_type": "code",
   "execution_count": 87,
   "metadata": {},
   "outputs": [
    {
     "data": {
      "text/html": [
       "<div>\n",
       "<style scoped>\n",
       "    .dataframe tbody tr th:only-of-type {\n",
       "        vertical-align: middle;\n",
       "    }\n",
       "\n",
       "    .dataframe tbody tr th {\n",
       "        vertical-align: top;\n",
       "    }\n",
       "\n",
       "    .dataframe thead th {\n",
       "        text-align: right;\n",
       "    }\n",
       "</style>\n",
       "<table border=\"1\" class=\"dataframe\">\n",
       "  <thead>\n",
       "    <tr style=\"text-align: right;\">\n",
       "      <th></th>\n",
       "      <th>Customer_subtype</th>\n",
       "      <th>Number_of_houses</th>\n",
       "      <th>Avg_size_household</th>\n",
       "      <th>Avg_age</th>\n",
       "      <th>Customer_main_type</th>\n",
       "      <th>Avg_Salary</th>\n",
       "      <th>label</th>\n",
       "    </tr>\n",
       "  </thead>\n",
       "  <tbody>\n",
       "    <tr>\n",
       "      <th>0</th>\n",
       "      <td>Lower class large families</td>\n",
       "      <td>1</td>\n",
       "      <td>3</td>\n",
       "      <td>30-40 years</td>\n",
       "      <td>Family with grown ups</td>\n",
       "      <td>44905</td>\n",
       "      <td>0</td>\n",
       "    </tr>\n",
       "    <tr>\n",
       "      <th>1</th>\n",
       "      <td>Mixed small town dwellers</td>\n",
       "      <td>1</td>\n",
       "      <td>2</td>\n",
       "      <td>30-40 years</td>\n",
       "      <td>Family with grown ups</td>\n",
       "      <td>37575</td>\n",
       "      <td>0</td>\n",
       "    </tr>\n",
       "    <tr>\n",
       "      <th>2</th>\n",
       "      <td>Mixed small town dwellers</td>\n",
       "      <td>1</td>\n",
       "      <td>2</td>\n",
       "      <td>30-40 years</td>\n",
       "      <td>Family with grown ups</td>\n",
       "      <td>27915</td>\n",
       "      <td>0</td>\n",
       "    </tr>\n",
       "    <tr>\n",
       "      <th>3</th>\n",
       "      <td>Modern, complete families</td>\n",
       "      <td>1</td>\n",
       "      <td>3</td>\n",
       "      <td>40-50 years</td>\n",
       "      <td>Average Family</td>\n",
       "      <td>19504</td>\n",
       "      <td>0</td>\n",
       "    </tr>\n",
       "    <tr>\n",
       "      <th>4</th>\n",
       "      <td>Large family farms</td>\n",
       "      <td>1</td>\n",
       "      <td>4</td>\n",
       "      <td>30-40 years</td>\n",
       "      <td>Farmers</td>\n",
       "      <td>34943</td>\n",
       "      <td>0</td>\n",
       "    </tr>\n",
       "    <tr>\n",
       "      <th>...</th>\n",
       "      <td>...</td>\n",
       "      <td>...</td>\n",
       "      <td>...</td>\n",
       "      <td>...</td>\n",
       "      <td>...</td>\n",
       "      <td>...</td>\n",
       "      <td>...</td>\n",
       "    </tr>\n",
       "    <tr>\n",
       "      <th>1995</th>\n",
       "      <td>Young, low educated</td>\n",
       "      <td>1</td>\n",
       "      <td>2</td>\n",
       "      <td>40-50 years</td>\n",
       "      <td>Living well</td>\n",
       "      <td>45857</td>\n",
       "      <td>0</td>\n",
       "    </tr>\n",
       "    <tr>\n",
       "      <th>1996</th>\n",
       "      <td>Mixed rurals</td>\n",
       "      <td>1</td>\n",
       "      <td>4</td>\n",
       "      <td>40-50 years</td>\n",
       "      <td>Farmers</td>\n",
       "      <td>45665</td>\n",
       "      <td>0</td>\n",
       "    </tr>\n",
       "    <tr>\n",
       "      <th>1997</th>\n",
       "      <td>Young and rising</td>\n",
       "      <td>1</td>\n",
       "      <td>2</td>\n",
       "      <td>40-50 years</td>\n",
       "      <td>Living well</td>\n",
       "      <td>32903</td>\n",
       "      <td>0</td>\n",
       "    </tr>\n",
       "    <tr>\n",
       "      <th>1998</th>\n",
       "      <td>High Income, expensive child</td>\n",
       "      <td>1</td>\n",
       "      <td>3</td>\n",
       "      <td>40-50 years</td>\n",
       "      <td>Successful hedonists</td>\n",
       "      <td>46911924</td>\n",
       "      <td>0</td>\n",
       "    </tr>\n",
       "    <tr>\n",
       "      <th>1999</th>\n",
       "      <td>Stable family</td>\n",
       "      <td>1</td>\n",
       "      <td>3</td>\n",
       "      <td>40-50 years</td>\n",
       "      <td>Average Family</td>\n",
       "      <td>45401</td>\n",
       "      <td>0</td>\n",
       "    </tr>\n",
       "  </tbody>\n",
       "</table>\n",
       "<p>2000 rows × 7 columns</p>\n",
       "</div>"
      ],
      "text/plain": [
       "                  Customer_subtype  Number_of_houses  Avg_size_household  \\\n",
       "0       Lower class large families                 1                   3   \n",
       "1        Mixed small town dwellers                 1                   2   \n",
       "2        Mixed small town dwellers                 1                   2   \n",
       "3        Modern, complete families                 1                   3   \n",
       "4               Large family farms                 1                   4   \n",
       "...                            ...               ...                 ...   \n",
       "1995           Young, low educated                 1                   2   \n",
       "1996                  Mixed rurals                 1                   4   \n",
       "1997              Young and rising                 1                   2   \n",
       "1998  High Income, expensive child                 1                   3   \n",
       "1999                 Stable family                 1                   3   \n",
       "\n",
       "          Avg_age     Customer_main_type  Avg_Salary  label  \n",
       "0     30-40 years  Family with grown ups       44905      0  \n",
       "1     30-40 years  Family with grown ups       37575      0  \n",
       "2     30-40 years  Family with grown ups       27915      0  \n",
       "3     40-50 years         Average Family       19504      0  \n",
       "4     30-40 years                Farmers       34943      0  \n",
       "...           ...                    ...         ...    ...  \n",
       "1995  40-50 years            Living well       45857      0  \n",
       "1996  40-50 years                Farmers       45665      0  \n",
       "1997  40-50 years            Living well       32903      0  \n",
       "1998  40-50 years   Successful hedonists    46911924      0  \n",
       "1999  40-50 years         Average Family       45401      0  \n",
       "\n",
       "[2000 rows x 7 columns]"
      ]
     },
     "execution_count": 87,
     "metadata": {},
     "output_type": "execute_result"
    }
   ],
   "source": [
    "df_p"
   ]
  },
  {
   "cell_type": "code",
   "execution_count": 85,
   "metadata": {},
   "outputs": [
    {
     "data": {
      "text/html": [
       "<div>\n",
       "<style scoped>\n",
       "    .dataframe tbody tr th:only-of-type {\n",
       "        vertical-align: middle;\n",
       "    }\n",
       "\n",
       "    .dataframe tbody tr th {\n",
       "        vertical-align: top;\n",
       "    }\n",
       "\n",
       "    .dataframe thead th {\n",
       "        text-align: right;\n",
       "    }\n",
       "</style>\n",
       "<table border=\"1\" class=\"dataframe\">\n",
       "  <thead>\n",
       "    <tr style=\"text-align: right;\">\n",
       "      <th></th>\n",
       "      <th>Number_of_houses</th>\n",
       "      <th>Avg_size_household</th>\n",
       "      <th>Avg_age</th>\n",
       "      <th>Customer_main_type</th>\n",
       "      <th>Avg_Salary</th>\n",
       "      <th>label</th>\n",
       "    </tr>\n",
       "    <tr>\n",
       "      <th>Customer_subtype</th>\n",
       "      <th></th>\n",
       "      <th></th>\n",
       "      <th></th>\n",
       "      <th></th>\n",
       "      <th></th>\n",
       "      <th></th>\n",
       "    </tr>\n",
       "  </thead>\n",
       "  <tbody>\n",
       "    <tr>\n",
       "      <th>Affluent senior apartments</th>\n",
       "      <td>17</td>\n",
       "      <td>17</td>\n",
       "      <td>17</td>\n",
       "      <td>17</td>\n",
       "      <td>17</td>\n",
       "      <td>17</td>\n",
       "    </tr>\n",
       "    <tr>\n",
       "      <th>Affluent young families</th>\n",
       "      <td>36</td>\n",
       "      <td>36</td>\n",
       "      <td>36</td>\n",
       "      <td>36</td>\n",
       "      <td>36</td>\n",
       "      <td>36</td>\n",
       "    </tr>\n",
       "    <tr>\n",
       "      <th>Career and childcare</th>\n",
       "      <td>33</td>\n",
       "      <td>33</td>\n",
       "      <td>33</td>\n",
       "      <td>33</td>\n",
       "      <td>33</td>\n",
       "      <td>33</td>\n",
       "    </tr>\n",
       "    <tr>\n",
       "      <th>Couples with teens 'Married with children'</th>\n",
       "      <td>83</td>\n",
       "      <td>83</td>\n",
       "      <td>83</td>\n",
       "      <td>83</td>\n",
       "      <td>83</td>\n",
       "      <td>83</td>\n",
       "    </tr>\n",
       "    <tr>\n",
       "      <th>Dinki's (double income no kids)</th>\n",
       "      <td>17</td>\n",
       "      <td>17</td>\n",
       "      <td>17</td>\n",
       "      <td>17</td>\n",
       "      <td>17</td>\n",
       "      <td>17</td>\n",
       "    </tr>\n",
       "    <tr>\n",
       "      <th>Etnically diverse</th>\n",
       "      <td>6</td>\n",
       "      <td>6</td>\n",
       "      <td>6</td>\n",
       "      <td>6</td>\n",
       "      <td>6</td>\n",
       "      <td>6</td>\n",
       "    </tr>\n",
       "    <tr>\n",
       "      <th>Family starters</th>\n",
       "      <td>55</td>\n",
       "      <td>55</td>\n",
       "      <td>55</td>\n",
       "      <td>55</td>\n",
       "      <td>55</td>\n",
       "      <td>55</td>\n",
       "    </tr>\n",
       "    <tr>\n",
       "      <th>Fresh masters in the city</th>\n",
       "      <td>2</td>\n",
       "      <td>2</td>\n",
       "      <td>2</td>\n",
       "      <td>2</td>\n",
       "      <td>2</td>\n",
       "      <td>2</td>\n",
       "    </tr>\n",
       "    <tr>\n",
       "      <th>High Income, expensive child</th>\n",
       "      <td>52</td>\n",
       "      <td>52</td>\n",
       "      <td>52</td>\n",
       "      <td>52</td>\n",
       "      <td>52</td>\n",
       "      <td>52</td>\n",
       "    </tr>\n",
       "    <tr>\n",
       "      <th>High status seniors</th>\n",
       "      <td>76</td>\n",
       "      <td>76</td>\n",
       "      <td>76</td>\n",
       "      <td>76</td>\n",
       "      <td>76</td>\n",
       "      <td>76</td>\n",
       "    </tr>\n",
       "    <tr>\n",
       "      <th>Large family farms</th>\n",
       "      <td>26</td>\n",
       "      <td>26</td>\n",
       "      <td>26</td>\n",
       "      <td>26</td>\n",
       "      <td>26</td>\n",
       "      <td>26</td>\n",
       "    </tr>\n",
       "    <tr>\n",
       "      <th>Large family, employed child</th>\n",
       "      <td>56</td>\n",
       "      <td>56</td>\n",
       "      <td>56</td>\n",
       "      <td>56</td>\n",
       "      <td>56</td>\n",
       "      <td>56</td>\n",
       "    </tr>\n",
       "    <tr>\n",
       "      <th>Large religious families</th>\n",
       "      <td>107</td>\n",
       "      <td>107</td>\n",
       "      <td>107</td>\n",
       "      <td>107</td>\n",
       "      <td>107</td>\n",
       "      <td>107</td>\n",
       "    </tr>\n",
       "    <tr>\n",
       "      <th>Low income catholics</th>\n",
       "      <td>72</td>\n",
       "      <td>72</td>\n",
       "      <td>72</td>\n",
       "      <td>72</td>\n",
       "      <td>72</td>\n",
       "      <td>72</td>\n",
       "    </tr>\n",
       "    <tr>\n",
       "      <th>Lower class large families</th>\n",
       "      <td>288</td>\n",
       "      <td>288</td>\n",
       "      <td>288</td>\n",
       "      <td>288</td>\n",
       "      <td>288</td>\n",
       "      <td>288</td>\n",
       "    </tr>\n",
       "    <tr>\n",
       "      <th>Middle class families</th>\n",
       "      <td>122</td>\n",
       "      <td>122</td>\n",
       "      <td>122</td>\n",
       "      <td>122</td>\n",
       "      <td>122</td>\n",
       "      <td>122</td>\n",
       "    </tr>\n",
       "    <tr>\n",
       "      <th>Mixed apartment dwellers</th>\n",
       "      <td>34</td>\n",
       "      <td>34</td>\n",
       "      <td>34</td>\n",
       "      <td>34</td>\n",
       "      <td>34</td>\n",
       "      <td>34</td>\n",
       "    </tr>\n",
       "    <tr>\n",
       "      <th>Mixed rurals</th>\n",
       "      <td>67</td>\n",
       "      <td>67</td>\n",
       "      <td>67</td>\n",
       "      <td>67</td>\n",
       "      <td>67</td>\n",
       "      <td>67</td>\n",
       "    </tr>\n",
       "    <tr>\n",
       "      <th>Mixed seniors</th>\n",
       "      <td>71</td>\n",
       "      <td>71</td>\n",
       "      <td>71</td>\n",
       "      <td>71</td>\n",
       "      <td>71</td>\n",
       "      <td>71</td>\n",
       "    </tr>\n",
       "    <tr>\n",
       "      <th>Mixed small town dwellers</th>\n",
       "      <td>47</td>\n",
       "      <td>47</td>\n",
       "      <td>47</td>\n",
       "      <td>47</td>\n",
       "      <td>47</td>\n",
       "      <td>47</td>\n",
       "    </tr>\n",
       "    <tr>\n",
       "      <th>Modern, complete families</th>\n",
       "      <td>93</td>\n",
       "      <td>93</td>\n",
       "      <td>93</td>\n",
       "      <td>93</td>\n",
       "      <td>93</td>\n",
       "      <td>93</td>\n",
       "    </tr>\n",
       "    <tr>\n",
       "      <th>Own home elderly</th>\n",
       "      <td>15</td>\n",
       "      <td>15</td>\n",
       "      <td>15</td>\n",
       "      <td>15</td>\n",
       "      <td>15</td>\n",
       "      <td>15</td>\n",
       "    </tr>\n",
       "    <tr>\n",
       "      <th>Porchless seniors: no front yard</th>\n",
       "      <td>29</td>\n",
       "      <td>29</td>\n",
       "      <td>29</td>\n",
       "      <td>29</td>\n",
       "      <td>29</td>\n",
       "      <td>29</td>\n",
       "    </tr>\n",
       "    <tr>\n",
       "      <th>Religious elderly singles</th>\n",
       "      <td>47</td>\n",
       "      <td>47</td>\n",
       "      <td>47</td>\n",
       "      <td>47</td>\n",
       "      <td>47</td>\n",
       "      <td>47</td>\n",
       "    </tr>\n",
       "    <tr>\n",
       "      <th>Residential elderly</th>\n",
       "      <td>6</td>\n",
       "      <td>6</td>\n",
       "      <td>6</td>\n",
       "      <td>6</td>\n",
       "      <td>6</td>\n",
       "      <td>6</td>\n",
       "    </tr>\n",
       "    <tr>\n",
       "      <th>Senior cosmopolitans</th>\n",
       "      <td>1</td>\n",
       "      <td>1</td>\n",
       "      <td>1</td>\n",
       "      <td>1</td>\n",
       "      <td>1</td>\n",
       "      <td>1</td>\n",
       "    </tr>\n",
       "    <tr>\n",
       "      <th>Seniors in apartments</th>\n",
       "      <td>17</td>\n",
       "      <td>17</td>\n",
       "      <td>17</td>\n",
       "      <td>17</td>\n",
       "      <td>17</td>\n",
       "      <td>17</td>\n",
       "    </tr>\n",
       "    <tr>\n",
       "      <th>Single youth</th>\n",
       "      <td>4</td>\n",
       "      <td>4</td>\n",
       "      <td>4</td>\n",
       "      <td>4</td>\n",
       "      <td>4</td>\n",
       "      <td>4</td>\n",
       "    </tr>\n",
       "    <tr>\n",
       "      <th>Stable family</th>\n",
       "      <td>62</td>\n",
       "      <td>62</td>\n",
       "      <td>62</td>\n",
       "      <td>62</td>\n",
       "      <td>62</td>\n",
       "      <td>62</td>\n",
       "    </tr>\n",
       "    <tr>\n",
       "      <th>Students in apartments</th>\n",
       "      <td>7</td>\n",
       "      <td>7</td>\n",
       "      <td>7</td>\n",
       "      <td>7</td>\n",
       "      <td>7</td>\n",
       "      <td>7</td>\n",
       "    </tr>\n",
       "    <tr>\n",
       "      <th>Suburban youth</th>\n",
       "      <td>1</td>\n",
       "      <td>1</td>\n",
       "      <td>1</td>\n",
       "      <td>1</td>\n",
       "      <td>1</td>\n",
       "      <td>1</td>\n",
       "    </tr>\n",
       "    <tr>\n",
       "      <th>Traditional families</th>\n",
       "      <td>129</td>\n",
       "      <td>129</td>\n",
       "      <td>129</td>\n",
       "      <td>129</td>\n",
       "      <td>129</td>\n",
       "      <td>129</td>\n",
       "    </tr>\n",
       "    <tr>\n",
       "      <th>Very Important Provincials</th>\n",
       "      <td>32</td>\n",
       "      <td>32</td>\n",
       "      <td>32</td>\n",
       "      <td>32</td>\n",
       "      <td>32</td>\n",
       "      <td>32</td>\n",
       "    </tr>\n",
       "    <tr>\n",
       "      <th>Village families</th>\n",
       "      <td>68</td>\n",
       "      <td>68</td>\n",
       "      <td>68</td>\n",
       "      <td>68</td>\n",
       "      <td>68</td>\n",
       "      <td>68</td>\n",
       "    </tr>\n",
       "    <tr>\n",
       "      <th>Young all american family</th>\n",
       "      <td>62</td>\n",
       "      <td>62</td>\n",
       "      <td>62</td>\n",
       "      <td>62</td>\n",
       "      <td>62</td>\n",
       "      <td>62</td>\n",
       "    </tr>\n",
       "    <tr>\n",
       "      <th>Young and rising</th>\n",
       "      <td>78</td>\n",
       "      <td>78</td>\n",
       "      <td>78</td>\n",
       "      <td>78</td>\n",
       "      <td>78</td>\n",
       "      <td>78</td>\n",
       "    </tr>\n",
       "    <tr>\n",
       "      <th>Young seniors in the city</th>\n",
       "      <td>22</td>\n",
       "      <td>22</td>\n",
       "      <td>22</td>\n",
       "      <td>22</td>\n",
       "      <td>22</td>\n",
       "      <td>22</td>\n",
       "    </tr>\n",
       "    <tr>\n",
       "      <th>Young urban have-nots</th>\n",
       "      <td>4</td>\n",
       "      <td>4</td>\n",
       "      <td>4</td>\n",
       "      <td>4</td>\n",
       "      <td>4</td>\n",
       "      <td>4</td>\n",
       "    </tr>\n",
       "    <tr>\n",
       "      <th>Young, low educated</th>\n",
       "      <td>56</td>\n",
       "      <td>56</td>\n",
       "      <td>56</td>\n",
       "      <td>56</td>\n",
       "      <td>56</td>\n",
       "      <td>56</td>\n",
       "    </tr>\n",
       "  </tbody>\n",
       "</table>\n",
       "</div>"
      ],
      "text/plain": [
       "                                            Number_of_houses  \\\n",
       "Customer_subtype                                               \n",
       "Affluent senior apartments                                17   \n",
       "Affluent young families                                   36   \n",
       "Career and childcare                                      33   \n",
       "Couples with teens 'Married with children'                83   \n",
       "Dinki's (double income no kids)                           17   \n",
       "Etnically diverse                                          6   \n",
       "Family starters                                           55   \n",
       "Fresh masters in the city                                  2   \n",
       "High Income, expensive child                              52   \n",
       "High status seniors                                       76   \n",
       "Large family farms                                        26   \n",
       "Large family, employed child                              56   \n",
       "Large religious families                                 107   \n",
       "Low income catholics                                      72   \n",
       "Lower class large families                               288   \n",
       "Middle class families                                    122   \n",
       "Mixed apartment dwellers                                  34   \n",
       "Mixed rurals                                              67   \n",
       "Mixed seniors                                             71   \n",
       "Mixed small town dwellers                                 47   \n",
       "Modern, complete families                                 93   \n",
       "Own home elderly                                          15   \n",
       "Porchless seniors: no front yard                          29   \n",
       "Religious elderly singles                                 47   \n",
       "Residential elderly                                        6   \n",
       "Senior cosmopolitans                                       1   \n",
       "Seniors in apartments                                     17   \n",
       "Single youth                                               4   \n",
       "Stable family                                             62   \n",
       "Students in apartments                                     7   \n",
       "Suburban youth                                             1   \n",
       "Traditional families                                     129   \n",
       "Very Important Provincials                                32   \n",
       "Village families                                          68   \n",
       "Young all american family                                 62   \n",
       "Young and rising                                          78   \n",
       "Young seniors in the city                                 22   \n",
       "Young urban have-nots                                      4   \n",
       "Young, low educated                                       56   \n",
       "\n",
       "                                            Avg_size_household  Avg_age  \\\n",
       "Customer_subtype                                                          \n",
       "Affluent senior apartments                                  17       17   \n",
       "Affluent young families                                     36       36   \n",
       "Career and childcare                                        33       33   \n",
       "Couples with teens 'Married with children'                  83       83   \n",
       "Dinki's (double income no kids)                             17       17   \n",
       "Etnically diverse                                            6        6   \n",
       "Family starters                                             55       55   \n",
       "Fresh masters in the city                                    2        2   \n",
       "High Income, expensive child                                52       52   \n",
       "High status seniors                                         76       76   \n",
       "Large family farms                                          26       26   \n",
       "Large family, employed child                                56       56   \n",
       "Large religious families                                   107      107   \n",
       "Low income catholics                                        72       72   \n",
       "Lower class large families                                 288      288   \n",
       "Middle class families                                      122      122   \n",
       "Mixed apartment dwellers                                    34       34   \n",
       "Mixed rurals                                                67       67   \n",
       "Mixed seniors                                               71       71   \n",
       "Mixed small town dwellers                                   47       47   \n",
       "Modern, complete families                                   93       93   \n",
       "Own home elderly                                            15       15   \n",
       "Porchless seniors: no front yard                            29       29   \n",
       "Religious elderly singles                                   47       47   \n",
       "Residential elderly                                          6        6   \n",
       "Senior cosmopolitans                                         1        1   \n",
       "Seniors in apartments                                       17       17   \n",
       "Single youth                                                 4        4   \n",
       "Stable family                                               62       62   \n",
       "Students in apartments                                       7        7   \n",
       "Suburban youth                                               1        1   \n",
       "Traditional families                                       129      129   \n",
       "Very Important Provincials                                  32       32   \n",
       "Village families                                            68       68   \n",
       "Young all american family                                   62       62   \n",
       "Young and rising                                            78       78   \n",
       "Young seniors in the city                                   22       22   \n",
       "Young urban have-nots                                        4        4   \n",
       "Young, low educated                                         56       56   \n",
       "\n",
       "                                            Customer_main_type  Avg_Salary  \\\n",
       "Customer_subtype                                                             \n",
       "Affluent senior apartments                                  17          17   \n",
       "Affluent young families                                     36          36   \n",
       "Career and childcare                                        33          33   \n",
       "Couples with teens 'Married with children'                  83          83   \n",
       "Dinki's (double income no kids)                             17          17   \n",
       "Etnically diverse                                            6           6   \n",
       "Family starters                                             55          55   \n",
       "Fresh masters in the city                                    2           2   \n",
       "High Income, expensive child                                52          52   \n",
       "High status seniors                                         76          76   \n",
       "Large family farms                                          26          26   \n",
       "Large family, employed child                                56          56   \n",
       "Large religious families                                   107         107   \n",
       "Low income catholics                                        72          72   \n",
       "Lower class large families                                 288         288   \n",
       "Middle class families                                      122         122   \n",
       "Mixed apartment dwellers                                    34          34   \n",
       "Mixed rurals                                                67          67   \n",
       "Mixed seniors                                               71          71   \n",
       "Mixed small town dwellers                                   47          47   \n",
       "Modern, complete families                                   93          93   \n",
       "Own home elderly                                            15          15   \n",
       "Porchless seniors: no front yard                            29          29   \n",
       "Religious elderly singles                                   47          47   \n",
       "Residential elderly                                          6           6   \n",
       "Senior cosmopolitans                                         1           1   \n",
       "Seniors in apartments                                       17          17   \n",
       "Single youth                                                 4           4   \n",
       "Stable family                                               62          62   \n",
       "Students in apartments                                       7           7   \n",
       "Suburban youth                                               1           1   \n",
       "Traditional families                                       129         129   \n",
       "Very Important Provincials                                  32          32   \n",
       "Village families                                            68          68   \n",
       "Young all american family                                   62          62   \n",
       "Young and rising                                            78          78   \n",
       "Young seniors in the city                                   22          22   \n",
       "Young urban have-nots                                        4           4   \n",
       "Young, low educated                                         56          56   \n",
       "\n",
       "                                            label  \n",
       "Customer_subtype                                   \n",
       "Affluent senior apartments                     17  \n",
       "Affluent young families                        36  \n",
       "Career and childcare                           33  \n",
       "Couples with teens 'Married with children'     83  \n",
       "Dinki's (double income no kids)                17  \n",
       "Etnically diverse                               6  \n",
       "Family starters                                55  \n",
       "Fresh masters in the city                       2  \n",
       "High Income, expensive child                   52  \n",
       "High status seniors                            76  \n",
       "Large family farms                             26  \n",
       "Large family, employed child                   56  \n",
       "Large religious families                      107  \n",
       "Low income catholics                           72  \n",
       "Lower class large families                    288  \n",
       "Middle class families                         122  \n",
       "Mixed apartment dwellers                       34  \n",
       "Mixed rurals                                   67  \n",
       "Mixed seniors                                  71  \n",
       "Mixed small town dwellers                      47  \n",
       "Modern, complete families                      93  \n",
       "Own home elderly                               15  \n",
       "Porchless seniors: no front yard               29  \n",
       "Religious elderly singles                      47  \n",
       "Residential elderly                             6  \n",
       "Senior cosmopolitans                            1  \n",
       "Seniors in apartments                          17  \n",
       "Single youth                                    4  \n",
       "Stable family                                  62  \n",
       "Students in apartments                          7  \n",
       "Suburban youth                                  1  \n",
       "Traditional families                          129  \n",
       "Very Important Provincials                     32  \n",
       "Village families                               68  \n",
       "Young all american family                      62  \n",
       "Young and rising                               78  \n",
       "Young seniors in the city                      22  \n",
       "Young urban have-nots                           4  \n",
       "Young, low educated                            56  "
      ]
     },
     "execution_count": 85,
     "metadata": {},
     "output_type": "execute_result"
    }
   ],
   "source": [
    "df_p.groupby(['Customer_subtype']).count()"
   ]
  },
  {
   "cell_type": "code",
   "execution_count": 88,
   "metadata": {},
   "outputs": [
    {
     "name": "stdout",
     "output_type": "stream",
     "text": [
      "+--------------------+-----+\n",
      "|    Customer_subtype|count|\n",
      "+--------------------+-----+\n",
      "|Large family, emp...|   56|\n",
      "|Religious elderly...|   47|\n",
      "|Large religious f...|  107|\n",
      "|Modern, complete ...|   93|\n",
      "|    Village families|   68|\n",
      "|Young all america...|   62|\n",
      "|Young urban have-...|    4|\n",
      "|Young seniors in ...|   22|\n",
      "|Fresh masters in ...|    2|\n",
      "|High Income, expe...|   52|\n",
      "|Lower class large...|  288|\n",
      "| Residential elderly|    6|\n",
      "|Senior cosmopolitans|    1|\n",
      "|        Mixed rurals|   67|\n",
      "|Career and childcare|   33|\n",
      "|Low income catholics|   72|\n",
      "|Mixed apartment d...|   34|\n",
      "|Seniors in apartm...|   17|\n",
      "|Middle class fami...|  122|\n",
      "|Traditional families|  129|\n",
      "+--------------------+-----+\n",
      "only showing top 20 rows\n",
      "\n"
     ]
    }
   ],
   "source": [
    "df.groupBy('Customer_subtype').count().show()"
   ]
  },
  {
   "cell_type": "code",
   "execution_count": 94,
   "metadata": {},
   "outputs": [
    {
     "name": "stdout",
     "output_type": "stream",
     "text": [
      "+------------------+-----+\n",
      "|Avg_size_household|count|\n",
      "+------------------+-----+\n",
      "|3                 |900  |\n",
      "|2                 |730  |\n",
      "|4                 |255  |\n",
      "|1                 |94   |\n",
      "|5                 |21   |\n",
      "+------------------+-----+\n",
      "\n"
     ]
    }
   ],
   "source": [
    "df.groupBy(['Avg_size_household']).count().orderBy('count',ascending=False).show(truncate=False)"
   ]
  },
  {
   "cell_type": "code",
   "execution_count": 89,
   "metadata": {},
   "outputs": [
    {
     "name": "stdout",
     "output_type": "stream",
     "text": [
      " *** Aggregation for  Customer_subtype ***\n",
      "+------------------------------------------+-----+\n",
      "|Customer_subtype                          |count|\n",
      "+------------------------------------------+-----+\n",
      "|Lower class large families                |288  |\n",
      "|Traditional families                      |129  |\n",
      "|Middle class families                     |122  |\n",
      "|Large religious families                  |107  |\n",
      "|Modern, complete families                 |93   |\n",
      "|Couples with teens 'Married with children'|83   |\n",
      "|Young and rising                          |78   |\n",
      "|High status seniors                       |76   |\n",
      "|Low income catholics                      |72   |\n",
      "|Mixed seniors                             |71   |\n",
      "|Village families                          |68   |\n",
      "|Mixed rurals                              |67   |\n",
      "|Young all american family                 |62   |\n",
      "|Stable family                             |62   |\n",
      "|Large family, employed child              |56   |\n",
      "|Young, low educated                       |56   |\n",
      "|Family starters                           |55   |\n",
      "|High Income, expensive child              |52   |\n",
      "|Religious elderly singles                 |47   |\n",
      "|Mixed small town dwellers                 |47   |\n",
      "+------------------------------------------+-----+\n",
      "only showing top 20 rows\n",
      "\n",
      " *** Aggregation for  Number_of_houses ***\n",
      "+----------------+-----+\n",
      "|Number_of_houses|count|\n",
      "+----------------+-----+\n",
      "|1               |1808 |\n",
      "|2               |178  |\n",
      "|3               |12   |\n",
      "|5               |1    |\n",
      "|10              |1    |\n",
      "+----------------+-----+\n",
      "\n",
      " *** Aggregation for  Avg_size_household ***\n",
      "+------------------+-----+\n",
      "|Avg_size_household|count|\n",
      "+------------------+-----+\n",
      "|3                 |900  |\n",
      "|2                 |730  |\n",
      "|4                 |255  |\n",
      "|1                 |94   |\n",
      "|5                 |21   |\n",
      "+------------------+-----+\n",
      "\n",
      " *** Aggregation for  Avg_age ***\n",
      "+-----------+-----+\n",
      "|Avg_age    |count|\n",
      "+-----------+-----+\n",
      "|40-50 years|1028 |\n",
      "|30-40 years|496  |\n",
      "|50-60 years|373  |\n",
      "|60-70 years|64   |\n",
      "|20-30 years|31   |\n",
      "|70-80 years|8    |\n",
      "+-----------+-----+\n",
      "\n",
      " *** Aggregation for  Customer_main_type ***\n",
      "+---------------------+-----+\n",
      "|Customer_main_type   |count|\n",
      "+---------------------+-----+\n",
      "|Family with grown ups|542  |\n",
      "|Average Family       |308  |\n",
      "|Conservative families|236  |\n",
      "|Retired and Religious|202  |\n",
      "|Successful hedonists |194  |\n",
      "|Living well          |178  |\n",
      "|Driven Growers       |172  |\n",
      "|Farmers              |93   |\n",
      "|Cruising Seniors     |60   |\n",
      "|Career Loners        |15   |\n",
      "+---------------------+-----+\n",
      "\n",
      " *** Aggregation for  label ***\n",
      "+-----+-----+\n",
      "|label|count|\n",
      "+-----+-----+\n",
      "|0    |1879 |\n",
      "|1    |121  |\n",
      "+-----+-----+\n",
      "\n"
     ]
    }
   ],
   "source": [
    "for col in df.columns:\n",
    "    if col !='Avg_Salary':\n",
    "        print(f\" *** Aggregation for  {col} ***\")\n",
    "        df.groupBy(col).count().orderBy('count',ascending=False).show(truncate=False)\n",
    "\n",
    "    "
   ]
  },
  {
   "cell_type": "code",
   "execution_count": 95,
   "metadata": {},
   "outputs": [
    {
     "name": "stdout",
     "output_type": "stream",
     "text": [
      "+--------------------+---------------+\n",
      "|  Customer_main_type|min(Avg_Salary)|\n",
      "+--------------------+---------------+\n",
      "|             Farmers|          10469|\n",
      "|       Career Loners|          13246|\n",
      "|Retired and Relig...|           1361|\n",
      "|Successful hedonists|          12705|\n",
      "|         Living well|          10418|\n",
      "|      Average Family|          10506|\n",
      "|    Cruising Seniors|          10100|\n",
      "|Conservative fami...|          10179|\n",
      "|      Driven Growers|          10257|\n",
      "|Family with grown...|           1502|\n",
      "+--------------------+---------------+\n",
      "\n"
     ]
    }
   ],
   "source": [
    "df.groupBy('Customer_main_type').agg(F.min('Avg_Salary')).show()"
   ]
  },
  {
   "cell_type": "code",
   "execution_count": 96,
   "metadata": {},
   "outputs": [
    {
     "name": "stdout",
     "output_type": "stream",
     "text": [
      "+--------------------+----------------+------------------+-----------+--------------------+----------+-----+\n",
      "|    Customer_subtype|Number_of_houses|Avg_size_household|    Avg_age|  Customer_main_type|Avg_Salary|label|\n",
      "+--------------------+----------------+------------------+-----------+--------------------+----------+-----+\n",
      "|Lower class large...|               1|                 3|30-40 years|Family with grown...|     44905|    0|\n",
      "|Mixed small town ...|               1|                 2|30-40 years|Family with grown...|     37575|    0|\n",
      "|Mixed small town ...|               1|                 2|30-40 years|Family with grown...|     27915|    0|\n",
      "|Modern, complete ...|               1|                 3|40-50 years|      Average Family|     19504|    0|\n",
      "|  Large family farms|               1|                 4|30-40 years|             Farmers|     34943|    0|\n",
      "|    Young and rising|               1|                 2|20-30 years|         Living well|     13064|    0|\n",
      "|Large religious f...|               2|                 3|30-40 years|Conservative fami...|     29090|    0|\n",
      "|Lower class large...|               1|                 2|40-50 years|Family with grown...|      6895|    0|\n",
      "|Lower class large...|               1|                 2|50-60 years|Family with grown...|     35497|    0|\n",
      "|     Family starters|               2|                 3|40-50 years|      Average Family|     30800|    0|\n",
      "|       Stable family|               1|                 4|40-50 years|      Average Family|     39157|    0|\n",
      "|Modern, complete ...|               1|                 3|40-50 years|      Average Family|     40839|    0|\n",
      "|Lower class large...|               1|                 2|40-50 years|Family with grown...|     30008|    0|\n",
      "|        Mixed rurals|               1|                 3|40-50 years|             Farmers|     37209|    0|\n",
      "|    Young and rising|               1|                 1|30-40 years|         Living well|     45361|    0|\n",
      "|Lower class large...|               1|                 2|40-50 years|Family with grown...|     45650|    0|\n",
      "|Traditional families|               1|                 2|40-50 years|Conservative fami...|     18982|    0|\n",
      "|Mixed apartment d...|               2|                 3|40-50 years|         Living well|     30093|    0|\n",
      "|Young all america...|               1|                 4|30-40 years|      Average Family|     27097|    0|\n",
      "|Low income catholics|               1|                 2|50-60 years|Retired and Relig...|     23511|    0|\n",
      "+--------------------+----------------+------------------+-----------+--------------------+----------+-----+\n",
      "only showing top 20 rows\n",
      "\n"
     ]
    }
   ],
   "source": [
    "df.show()"
   ]
  },
  {
   "cell_type": "code",
   "execution_count": 97,
   "metadata": {},
   "outputs": [
    {
     "name": "stdout",
     "output_type": "stream",
     "text": [
      "+--------------------+---------------+\n",
      "|  Customer_main_type|max(Avg_Salary)|\n",
      "+--------------------+---------------+\n",
      "|             Farmers|          49965|\n",
      "|       Career Loners|          49903|\n",
      "|Retired and Relig...|          49564|\n",
      "|Successful hedonists|       48919896|\n",
      "|         Living well|          49816|\n",
      "|      Average Family|         991838|\n",
      "|    Cruising Seniors|          49526|\n",
      "|Conservative fami...|          49965|\n",
      "|      Driven Growers|          49932|\n",
      "|Family with grown...|          49901|\n",
      "+--------------------+---------------+\n",
      "\n"
     ]
    }
   ],
   "source": [
    "df.groupBy('Customer_main_type').agg(F.max('Avg_Salary')).show()"
   ]
  },
  {
   "cell_type": "code",
   "execution_count": 98,
   "metadata": {},
   "outputs": [
    {
     "name": "stdout",
     "output_type": "stream",
     "text": [
      "+--------------------+---------------+\n",
      "|  Customer_main_type|sum(Avg_Salary)|\n",
      "+--------------------+---------------+\n",
      "|             Farmers|        2809468|\n",
      "|       Career Loners|         484089|\n",
      "|Retired and Relig...|        5522439|\n",
      "|Successful hedonists|     3158111161|\n",
      "|         Living well|        5552540|\n",
      "|      Average Family|       32111040|\n",
      "|    Cruising Seniors|        1732220|\n",
      "|Conservative fami...|        6963043|\n",
      "|      Driven Growers|        5292275|\n",
      "|Family with grown...|       15237892|\n",
      "+--------------------+---------------+\n",
      "\n"
     ]
    }
   ],
   "source": [
    "df.groupBy('Customer_main_type').agg(F.sum('Avg_Salary')).show()"
   ]
  },
  {
   "cell_type": "code",
   "execution_count": 99,
   "metadata": {},
   "outputs": [
    {
     "name": "stdout",
     "output_type": "stream",
     "text": [
      "+--------------------+--------------------+\n",
      "|  Customer_main_type|     avg(Avg_Salary)|\n",
      "+--------------------+--------------------+\n",
      "|             Farmers|  30209.333333333332|\n",
      "|       Career Loners|             32272.6|\n",
      "|Retired and Relig...|   27338.80693069307|\n",
      "|Successful hedonists|1.6278923510309279E7|\n",
      "|         Living well|  31194.044943820223|\n",
      "|      Average Family|  104256.62337662338|\n",
      "|    Cruising Seniors|  28870.333333333332|\n",
      "|Conservative fami...|  29504.419491525423|\n",
      "|      Driven Growers|   30769.04069767442|\n",
      "|Family with grown...|  28114.191881918818|\n",
      "+--------------------+--------------------+\n",
      "\n"
     ]
    }
   ],
   "source": [
    "df.groupBy('Customer_main_type').agg(F.mean('Avg_Salary')).show()"
   ]
  },
  {
   "cell_type": "markdown",
   "metadata": {},
   "source": [
    "Иногда просто возникает необходимость отсортировать данные с помощью агрегации или без какой-либо агрегации. Вот где мы можем использовать функциональные возможности 'sort' и 'orderBy' PySpark, чтобы упорядочить данные в определенном порядке, как показано в следующих примерах: "
   ]
  },
  {
   "cell_type": "code",
   "execution_count": 102,
   "metadata": {},
   "outputs": [
    {
     "name": "stdout",
     "output_type": "stream",
     "text": [
      "+--------------------+----------------+------------------+-----------+--------------------+----------+-----+\n",
      "|    Customer_subtype|Number_of_houses|Avg_size_household|    Avg_age|  Customer_main_type|Avg_Salary|label|\n",
      "+--------------------+----------------+------------------+-----------+--------------------+----------+-----+\n",
      "| High status seniors|               1|                 2|60-70 years|Successful hedonists|  48919896|    0|\n",
      "|High Income, expe...|               1|                 2|50-60 years|Successful hedonists|  48177970|    0|\n",
      "|High Income, expe...|               1|                 2|50-60 years|Successful hedonists|  48069548|    1|\n",
      "|High Income, expe...|               1|                 3|40-50 years|Successful hedonists|  46911924|    0|\n",
      "| High status seniors|               1|                 3|40-50 years|Successful hedonists|  46614009|    0|\n",
      "|High Income, expe...|               1|                 3|30-40 years|Successful hedonists|  45952441|    0|\n",
      "|High Income, expe...|               1|                 3|40-50 years|Successful hedonists|  45864609|    1|\n",
      "| High status seniors|               1|                 1|50-60 years|Successful hedonists|  45592572|    0|\n",
      "| High status seniors|               1|                 2|50-60 years|Successful hedonists|  45170899|    0|\n",
      "|High Income, expe...|               1|                 3|50-60 years|Successful hedonists|  44843830|    0|\n",
      "| High status seniors|               1|                 2|50-60 years|Successful hedonists|  43230349|    0|\n",
      "| High status seniors|               1|                 5|40-50 years|Successful hedonists|  43181830|    0|\n",
      "| High status seniors|               1|                 1|30-40 years|Successful hedonists|  42631926|    0|\n",
      "| High status seniors|               1|                 2|50-60 years|Successful hedonists|  41919020|    0|\n",
      "| High status seniors|               1|                 2|50-60 years|Successful hedonists|  41699271|    0|\n",
      "| High status seniors|               1|                 2|40-50 years|Successful hedonists|  41398953|    0|\n",
      "|High Income, expe...|               1|                 3|40-50 years|Successful hedonists|  41269615|    1|\n",
      "| High status seniors|               1|                 2|50-60 years|Successful hedonists|  41192397|    1|\n",
      "| High status seniors|               1|                 2|40-50 years|Successful hedonists|  40564335|    0|\n",
      "| High status seniors|               1|                 2|50-60 years|Successful hedonists|  40453887|    0|\n",
      "+--------------------+----------------+------------------+-----------+--------------------+----------+-----+\n",
      "only showing top 20 rows\n",
      "\n"
     ]
    }
   ],
   "source": [
    "df.sort(\"Avg_salary\", ascending=False).show()"
   ]
  },
  {
   "cell_type": "markdown",
   "metadata": {},
   "source": [
    "В некоторых случаях мы также должны собирать список значений для определенных групп или для отдельных категорий. Например, предположим, что клиент заходит в интернет-магазин и получает доступ к различным страницам на веб-сайте магазина. Если мы должны собрать все действия клиента в списке, мы можем использовать функцию сбора в PySpark. Мы можем собирать значения двумя различными способами:"
   ]
  },
  {
   "cell_type": "markdown",
   "metadata": {},
   "source": [
    "•  Collect List\n",
    "•  Collect Set"
   ]
  },
  {
   "cell_type": "markdown",
   "metadata": {},
   "source": [
    "### Collect List\n",
    "предоставляет все значения в исходном порядке появления (они также могут быть обращены), а Collect Set предоставляет только уникальные значения, как показано в следующем примере. Мы рассматриваем группировку по подтипу клиента и сбор значений числа домов в новом столбце, используя список и набор отдельно."
   ]
  },
  {
   "cell_type": "markdown",
   "metadata": {},
   "source": [
    "### Aggregations "
   ]
  },
  {
   "cell_type": "code",
   "execution_count": 109,
   "metadata": {},
   "outputs": [
    {
     "name": "stdout",
     "output_type": "stream",
     "text": [
      "+------------------------------------------+--------------------+\n",
      "|Customer_subtype                          |mean_salary         |\n",
      "+------------------------------------------+--------------------+\n",
      "|High status seniors                       |2.507677857894737E7 |\n",
      "|High Income, expensive child              |2.3839817807692308E7|\n",
      "|Affluent young families                   |662068.7777777778   |\n",
      "|Affluent senior apartments                |653638.8235294118   |\n",
      "|Senior cosmopolitans                      |49903.0             |\n",
      "|Students in apartments                    |35532.142857142855  |\n",
      "|Large family farms                        |33135.61538461538   |\n",
      "|Young, low educated                       |33072.21428571428   |\n",
      "|Large family, employed child              |32867.857142857145  |\n",
      "|Suburban youth                            |32558.0             |\n",
      "|Village families                          |32449.470588235294  |\n",
      "|Middle class families                     |31579.385245901638  |\n",
      "|Modern, complete families                 |31576.0             |\n",
      "|Etnically diverse                         |31572.0             |\n",
      "|Young and rising                          |30795.897435897437  |\n",
      "|Mixed seniors                             |30759.267605633802  |\n",
      "|Very Important Provincials                |30548.40625         |\n",
      "|Religious elderly singles                 |30540.59574468085   |\n",
      "|Family starters                           |30376.2             |\n",
      "|Career and childcare                      |30110.939393939392  |\n",
      "|Young seniors in the city                 |30105.136363636364  |\n",
      "|Seniors in apartments                     |30090.882352941175  |\n",
      "|Large religious families                  |29652.196261682242  |\n",
      "|Stable family                             |29619.032258064515  |\n",
      "|Mixed apartment dwellers                  |29587.647058823528  |\n",
      "|Young all american family                 |29563.3064516129    |\n",
      "|Porchless seniors: no front yard          |29509.827586206895  |\n",
      "|Traditional families                      |29381.84496124031   |\n",
      "|Mixed rurals                              |29073.761194029852  |\n",
      "|Mixed small town dwellers                 |28982.106382978724  |\n",
      "|Residential elderly                       |28866.166666666668  |\n",
      "|Couples with teens 'Married with children'|28155.807228915663  |\n",
      "|Fresh masters in the city                 |27645.0             |\n",
      "|Dinki's (double income no kids)           |26231.117647058825  |\n",
      "|Lower class large families                |26012.628472222223  |\n",
      "|Young urban have-nots                     |25751.0             |\n",
      "|Own home elderly                          |25677.666666666668  |\n",
      "|Single youth                              |24403.25            |\n",
      "|Low income catholics                      |21713.777777777777  |\n",
      "+------------------------------------------+--------------------+\n",
      "\n"
     ]
    }
   ],
   "source": [
    "df.groupBy('Customer_subtype').agg(F.avg('Avg_Salary').alias('mean_salary')).orderBy('mean_salary',ascending=False).show(50,False)"
   ]
  },
  {
   "cell_type": "code",
   "execution_count": 112,
   "metadata": {},
   "outputs": [
    {
     "name": "stdout",
     "output_type": "stream",
     "text": [
      "+------------------------------------------+--------------------+\n",
      "|Customer_subtype                          |mean_salary         |\n",
      "+------------------------------------------+--------------------+\n",
      "|High status seniors                       |2.507677857894737E7 |\n",
      "|High Income, expensive child              |2.3839817807692308E7|\n",
      "|Affluent young families                   |662068.7777777778   |\n",
      "|Affluent senior apartments                |653638.8235294118   |\n",
      "|Senior cosmopolitans                      |49903.0             |\n",
      "|Students in apartments                    |35532.142857142855  |\n",
      "|Large family farms                        |33135.61538461538   |\n",
      "|Young, low educated                       |33072.21428571428   |\n",
      "|Large family, employed child              |32867.857142857145  |\n",
      "|Suburban youth                            |32558.0             |\n",
      "|Village families                          |32449.470588235294  |\n",
      "|Middle class families                     |31579.385245901638  |\n",
      "|Modern, complete families                 |31576.0             |\n",
      "|Etnically diverse                         |31572.0             |\n",
      "|Young and rising                          |30795.897435897437  |\n",
      "|Mixed seniors                             |30759.267605633802  |\n",
      "|Very Important Provincials                |30548.40625         |\n",
      "|Religious elderly singles                 |30540.59574468085   |\n",
      "|Family starters                           |30376.2             |\n",
      "|Career and childcare                      |30110.939393939392  |\n",
      "|Young seniors in the city                 |30105.136363636364  |\n",
      "|Seniors in apartments                     |30090.882352941175  |\n",
      "|Large religious families                  |29652.196261682242  |\n",
      "|Stable family                             |29619.032258064515  |\n",
      "|Mixed apartment dwellers                  |29587.647058823528  |\n",
      "|Young all american family                 |29563.3064516129    |\n",
      "|Porchless seniors: no front yard          |29509.827586206895  |\n",
      "|Traditional families                      |29381.84496124031   |\n",
      "|Mixed rurals                              |29073.761194029852  |\n",
      "|Mixed small town dwellers                 |28982.106382978724  |\n",
      "|Residential elderly                       |28866.166666666668  |\n",
      "|Couples with teens 'Married with children'|28155.807228915663  |\n",
      "|Fresh masters in the city                 |27645.0             |\n",
      "|Dinki's (double income no kids)           |26231.117647058825  |\n",
      "|Lower class large families                |26012.628472222223  |\n",
      "|Young urban have-nots                     |25751.0             |\n",
      "|Own home elderly                          |25677.666666666668  |\n",
      "|Single youth                              |24403.25            |\n",
      "|Low income catholics                      |21713.777777777777  |\n",
      "+------------------------------------------+--------------------+\n",
      "\n"
     ]
    }
   ],
   "source": [
    "df.groupBy('Customer_subtype').agg(F.avg('Avg_Salary').alias('mean_salary')).orderBy('mean_salary',ascending=False).show(50,False)"
   ]
  },
  {
   "cell_type": "code",
   "execution_count": 113,
   "metadata": {},
   "outputs": [
    {
     "name": "stdout",
     "output_type": "stream",
     "text": [
      "+--------------------+----------+\n",
      "|    Customer_subtype|max_salary|\n",
      "+--------------------+----------+\n",
      "| High status seniors|  48919896|\n",
      "|High Income, expe...|  48177970|\n",
      "|Affluent senior a...|    994077|\n",
      "|Affluent young fa...|    991838|\n",
      "|Traditional families|     49965|\n",
      "|  Large family farms|     49965|\n",
      "|Middle class fami...|     49932|\n",
      "|Senior cosmopolitans|     49903|\n",
      "|Mixed small town ...|     49901|\n",
      "|Lower class large...|     49899|\n",
      "|       Mixed seniors|     49876|\n",
      "|    Young and rising|     49816|\n",
      "|        Mixed rurals|     49785|\n",
      "|Modern, complete ...|     49729|\n",
      "| Young, low educated|     49626|\n",
      "|Mixed apartment d...|     49621|\n",
      "|     Family starters|     49602|\n",
      "|    Village families|     49575|\n",
      "|Religious elderly...|     49564|\n",
      "|       Stable family|     49548|\n",
      "+--------------------+----------+\n",
      "only showing top 20 rows\n",
      "\n"
     ]
    }
   ],
   "source": [
    "df.groupBy('Customer_subtype').agg(F.max('Avg_Salary').alias('max_salary')).orderBy('max_salary',ascending=False).show()"
   ]
  },
  {
   "cell_type": "code",
   "execution_count": 45,
   "metadata": {},
   "outputs": [],
   "source": [
    "### Collect "
   ]
  },
  {
   "cell_type": "code",
   "execution_count": 114,
   "metadata": {},
   "outputs": [
    {
     "name": "stdout",
     "output_type": "stream",
     "text": [
      "+--------------------+-----------------------------+\n",
      "|    Customer_subtype|collect_set(Number_of_houses)|\n",
      "+--------------------+-----------------------------+\n",
      "|Large family, emp...|                       [1, 2]|\n",
      "|Religious elderly...|                       [1, 2]|\n",
      "|Large religious f...|                       [1, 2]|\n",
      "|Modern, complete ...|                       [1, 2]|\n",
      "|    Village families|                       [1, 2]|\n",
      "|Young all america...|                       [1, 2]|\n",
      "|Young urban have-...|                       [1, 2]|\n",
      "|Young seniors in ...|                    [1, 2, 3]|\n",
      "|Fresh masters in ...|                          [1]|\n",
      "|High Income, expe...|                          [1]|\n",
      "|Lower class large...|                       [1, 2]|\n",
      "| Residential elderly|                    [1, 2, 3]|\n",
      "|Senior cosmopolitans|                          [3]|\n",
      "|        Mixed rurals|                          [1]|\n",
      "|Career and childcare|                       [1, 2]|\n",
      "|Low income catholics|                          [1]|\n",
      "|Mixed apartment d...|                    [1, 2, 3]|\n",
      "|Seniors in apartm...|                       [1, 2]|\n",
      "|Middle class fami...|                       [1, 2]|\n",
      "|Traditional families|                       [1, 2]|\n",
      "+--------------------+-----------------------------+\n",
      "only showing top 20 rows\n",
      "\n"
     ]
    }
   ],
   "source": [
    "# Collect _set \n",
    "df.groupby(\"Customer_subtype\").agg(F.collect_set(\"Number_of_houses\")).show()"
   ]
  },
  {
   "cell_type": "code",
   "execution_count": 115,
   "metadata": {},
   "outputs": [
    {
     "name": "stdout",
     "output_type": "stream",
     "text": [
      "+----------------+\n",
      "|collect_set(age)|\n",
      "+----------------+\n",
      "|       [1, 5, 2]|\n",
      "+----------------+\n",
      "\n"
     ]
    }
   ],
   "source": [
    "df2 = spark.createDataFrame([(2,), (5,), (5,), (1,),(2,)], ('age',))\n",
    "df2.agg(F.collect_set(\"age\")).show()\n"
   ]
  },
  {
   "cell_type": "code",
   "execution_count": null,
   "metadata": {},
   "outputs": [],
   "source": []
  },
  {
   "cell_type": "code",
   "execution_count": 48,
   "metadata": {},
   "outputs": [
    {
     "name": "stdout",
     "output_type": "stream",
     "text": [
      "+--------------------+------------------------------+\n",
      "|    Customer_subtype|collect_list(Number_of_houses)|\n",
      "+--------------------+------------------------------+\n",
      "|Large family, emp...|          [2, 1, 2, 1, 2, 1...|\n",
      "|Religious elderly...|          [1, 1, 1, 1, 1, 1...|\n",
      "|Large religious f...|          [2, 1, 1, 2, 1, 1...|\n",
      "|Modern, complete ...|          [1, 1, 2, 1, 1, 1...|\n",
      "|    Village families|          [1, 1, 1, 1, 1, 1...|\n",
      "|Young all america...|          [1, 1, 2, 2, 1, 1...|\n",
      "|Young urban have-...|                  [1, 2, 1, 1]|\n",
      "|Young seniors in ...|          [1, 1, 1, 1, 1, 2...|\n",
      "|Fresh masters in ...|                        [1, 1]|\n",
      "|High Income, expe...|          [1, 1, 1, 1, 1, 1...|\n",
      "|Lower class large...|          [1, 1, 1, 1, 1, 1...|\n",
      "| Residential elderly|            [3, 1, 1, 3, 2, 1]|\n",
      "|Senior cosmopolitans|                           [3]|\n",
      "|        Mixed rurals|          [1, 1, 1, 1, 1, 1...|\n",
      "|Career and childcare|          [2, 1, 1, 1, 1, 1...|\n",
      "|Low income catholics|          [1, 1, 1, 1, 1, 1...|\n",
      "|Mixed apartment d...|          [2, 3, 1, 1, 1, 1...|\n",
      "|Seniors in apartm...|          [2, 2, 2, 2, 1, 2...|\n",
      "|Middle class fami...|          [1, 1, 2, 1, 1, 1...|\n",
      "|Traditional families|          [1, 1, 1, 1, 1, 1...|\n",
      "+--------------------+------------------------------+\n",
      "only showing top 20 rows\n",
      "\n"
     ]
    }
   ],
   "source": [
    "#collect list \n",
    "df.groupby(\"Customer_subtype\").agg(F.collect_list(\"Number_of_houses\")).show()"
   ]
  },
  {
   "cell_type": "markdown",
   "metadata": {},
   "source": [
    "Необходимость в создании нового столбца с постоянным значением может быть очень распространенной. Поэтому мы можем сделать это в PySpark, используя функцию 'lit'. В следующем примере мы создадим новый столбец с постоянным значением:"
   ]
  },
  {
   "cell_type": "code",
   "execution_count": 116,
   "metadata": {},
   "outputs": [],
   "source": [
    "#creating a new column with constant value\n",
    "\n",
    "df=df.withColumn('constant',F.lit('finance'))"
   ]
  },
  {
   "cell_type": "code",
   "execution_count": 117,
   "metadata": {},
   "outputs": [
    {
     "name": "stdout",
     "output_type": "stream",
     "text": [
      "+--------------------+----------------+------------------+-----------+--------------------+----------+-----+--------+\n",
      "|    Customer_subtype|Number_of_houses|Avg_size_household|    Avg_age|  Customer_main_type|Avg_Salary|label|constant|\n",
      "+--------------------+----------------+------------------+-----------+--------------------+----------+-----+--------+\n",
      "|Lower class large...|               1|                 3|30-40 years|Family with grown...|     44905|    0| finance|\n",
      "|Mixed small town ...|               1|                 2|30-40 years|Family with grown...|     37575|    0| finance|\n",
      "|Mixed small town ...|               1|                 2|30-40 years|Family with grown...|     27915|    0| finance|\n",
      "|Modern, complete ...|               1|                 3|40-50 years|      Average Family|     19504|    0| finance|\n",
      "|  Large family farms|               1|                 4|30-40 years|             Farmers|     34943|    0| finance|\n",
      "|    Young and rising|               1|                 2|20-30 years|         Living well|     13064|    0| finance|\n",
      "|Large religious f...|               2|                 3|30-40 years|Conservative fami...|     29090|    0| finance|\n",
      "|Lower class large...|               1|                 2|40-50 years|Family with grown...|      6895|    0| finance|\n",
      "|Lower class large...|               1|                 2|50-60 years|Family with grown...|     35497|    0| finance|\n",
      "|     Family starters|               2|                 3|40-50 years|      Average Family|     30800|    0| finance|\n",
      "|       Stable family|               1|                 4|40-50 years|      Average Family|     39157|    0| finance|\n",
      "|Modern, complete ...|               1|                 3|40-50 years|      Average Family|     40839|    0| finance|\n",
      "|Lower class large...|               1|                 2|40-50 years|Family with grown...|     30008|    0| finance|\n",
      "|        Mixed rurals|               1|                 3|40-50 years|             Farmers|     37209|    0| finance|\n",
      "|    Young and rising|               1|                 1|30-40 years|         Living well|     45361|    0| finance|\n",
      "|Lower class large...|               1|                 2|40-50 years|Family with grown...|     45650|    0| finance|\n",
      "|Traditional families|               1|                 2|40-50 years|Conservative fami...|     18982|    0| finance|\n",
      "|Mixed apartment d...|               2|                 3|40-50 years|         Living well|     30093|    0| finance|\n",
      "|Young all america...|               1|                 4|30-40 years|      Average Family|     27097|    0| finance|\n",
      "|Low income catholics|               1|                 2|50-60 years|Retired and Relig...|     23511|    0| finance|\n",
      "+--------------------+----------------+------------------+-----------+--------------------+----------+-----+--------+\n",
      "only showing top 20 rows\n",
      "\n"
     ]
    }
   ],
   "source": [
    "df.show()"
   ]
  },
  {
   "cell_type": "code",
   "execution_count": 118,
   "metadata": {},
   "outputs": [
    {
     "name": "stdout",
     "output_type": "stream",
     "text": [
      "+--------------------+--------+\n",
      "|    Customer_subtype|constant|\n",
      "+--------------------+--------+\n",
      "|Lower class large...| finance|\n",
      "|Mixed small town ...| finance|\n",
      "|Mixed small town ...| finance|\n",
      "|Modern, complete ...| finance|\n",
      "|  Large family farms| finance|\n",
      "|    Young and rising| finance|\n",
      "|Large religious f...| finance|\n",
      "|Lower class large...| finance|\n",
      "|Lower class large...| finance|\n",
      "|     Family starters| finance|\n",
      "|       Stable family| finance|\n",
      "|Modern, complete ...| finance|\n",
      "|Lower class large...| finance|\n",
      "|        Mixed rurals| finance|\n",
      "|    Young and rising| finance|\n",
      "|Lower class large...| finance|\n",
      "|Traditional families| finance|\n",
      "|Mixed apartment d...| finance|\n",
      "|Young all america...| finance|\n",
      "|Low income catholics| finance|\n",
      "+--------------------+--------+\n",
      "only showing top 20 rows\n",
      "\n"
     ]
    }
   ],
   "source": [
    "df.select('Customer_subtype','constant').show()"
   ]
  },
  {
   "cell_type": "markdown",
   "metadata": {},
   "source": [
    "Поскольку мы имеем дело с фреймами данных, то обычно требуется применить определенные пользовательские функции к определенным столбцам и получить выходные данные. Поэтому мы используем UDFs, чтобы применить функции Python к одному или нескольким столбцам."
   ]
  },
  {
   "cell_type": "markdown",
   "metadata": {},
   "source": [
    "### Определяемые Пользователем Функции (UDFs)"
   ]
  },
  {
   "cell_type": "markdown",
   "metadata": {},
   "source": [
    "В этом примере мы пытаемся назвать возрастные категории и создать стандартную функцию Python (age_category). Чтобы применить это к фрейму данных Spark, мы создаем объект UDF, используя этот Python функция. Единственное требование-указать тип возвращаемого значения функции. В этом случае это просто строковое значение."
   ]
  },
  {
   "cell_type": "code",
   "execution_count": 52,
   "metadata": {},
   "outputs": [],
   "source": [
    "### UDFs"
   ]
  },
  {
   "cell_type": "code",
   "execution_count": 119,
   "metadata": {},
   "outputs": [
    {
     "name": "stdout",
     "output_type": "stream",
     "text": [
      "+-----------+-----+\n",
      "|    Avg_age|count|\n",
      "+-----------+-----+\n",
      "|70-80 years|    8|\n",
      "|50-60 years|  373|\n",
      "|30-40 years|  496|\n",
      "|20-30 years|   31|\n",
      "|60-70 years|   64|\n",
      "|40-50 years| 1028|\n",
      "+-----------+-----+\n",
      "\n"
     ]
    }
   ],
   "source": [
    "df.groupby(\"Avg_age\").count().show()"
   ]
  },
  {
   "cell_type": "code",
   "execution_count": 121,
   "metadata": {},
   "outputs": [],
   "source": [
    "#create a function to assign categories\n",
    "def age_category(age):\n",
    "    if age  == '20-30 years':\n",
    "        return 'Young'\n",
    "    elif age== '30-40 years':\n",
    "        return 'Mid Aged' \n",
    "    elif ((age== '40-50 years') or (age== '50-60 years')) :\n",
    "        return 'Old'\n",
    "    else:\n",
    "        return 'Very Old'\n",
    "\n"
   ]
  },
  {
   "cell_type": "code",
   "execution_count": 122,
   "metadata": {},
   "outputs": [],
   "source": [
    "from pyspark.sql.functions import udf"
   ]
  },
  {
   "cell_type": "code",
   "execution_count": 123,
   "metadata": {},
   "outputs": [],
   "source": [
    "#create age category udf \n",
    "age_udf=udf(age_category,StringType())\n",
    "#create the bucket column by applying udf\n",
    "df=df.withColumn('age_category',age_udf(df['Avg_age']))"
   ]
  },
  {
   "cell_type": "code",
   "execution_count": 124,
   "metadata": {},
   "outputs": [
    {
     "name": "stdout",
     "output_type": "stream",
     "text": [
      "+-----------+------------+\n",
      "|    Avg_age|age_category|\n",
      "+-----------+------------+\n",
      "|30-40 years|    Mid Aged|\n",
      "|30-40 years|    Mid Aged|\n",
      "|30-40 years|    Mid Aged|\n",
      "|40-50 years|         Old|\n",
      "|30-40 years|    Mid Aged|\n",
      "|20-30 years|       Young|\n",
      "|30-40 years|    Mid Aged|\n",
      "|40-50 years|         Old|\n",
      "|50-60 years|         Old|\n",
      "|40-50 years|         Old|\n",
      "|40-50 years|         Old|\n",
      "|40-50 years|         Old|\n",
      "|40-50 years|         Old|\n",
      "|40-50 years|         Old|\n",
      "|30-40 years|    Mid Aged|\n",
      "|40-50 years|         Old|\n",
      "|40-50 years|         Old|\n",
      "|40-50 years|         Old|\n",
      "|30-40 years|    Mid Aged|\n",
      "|50-60 years|         Old|\n",
      "+-----------+------------+\n",
      "only showing top 20 rows\n",
      "\n"
     ]
    }
   ],
   "source": [
    "df.select('Avg_age','age_category').show()"
   ]
  },
  {
   "cell_type": "code",
   "execution_count": 125,
   "metadata": {},
   "outputs": [
    {
     "name": "stdout",
     "output_type": "stream",
     "text": [
      "+------------+-----+\n",
      "|age_category|count|\n",
      "+------------+-----+\n",
      "|    Mid Aged|  496|\n",
      "|    Very Old|   72|\n",
      "|         Old| 1401|\n",
      "|       Young|   31|\n",
      "+------------+-----+\n",
      "\n"
     ]
    }
   ],
   "source": [
    "df.groupby(\"age_category\").count().show()"
   ]
  },
  {
   "cell_type": "markdown",
   "metadata": {},
   "source": [
    "Pandas UDFs гораздо быстрее и эффективнее, с точки зрения обработки и времени выполнения, по сравнению со стандартными Python UDFs. Основное различие между обычным Python UDF и Pandas UDF заключается в том, что Python UDF выполняется строка за строкой и, следовательно, действительно не предлагает преимущества распределенной платформы. Это может занять больше времени, по сравнению с Pandas UDF, который выполняет блок за блоком и дает более быстрые результаты. Существует три различных типа Pandas UDF:  scalar, grouped map, and grouped agg. Единственное различие в использовании Pandas UDF по сравнению с традиционным UDF заключается в объявлении. В следующем примере мы пытаемся масштабировать значения Avg_Salary, применяя масштабирование. Мы сначала берем минимальное и максимальное значения Avg_Salary, вычитаем из каждого значения минимальную зарплату из каждого значения, а затем делим на разницу между max и min."
   ]
  },
  {
   "cell_type": "code",
   "execution_count": 126,
   "metadata": {},
   "outputs": [
    {
     "name": "stdout",
     "output_type": "stream",
     "text": [
      "+-------+-----------------+\n",
      "|summary|       Avg_Salary|\n",
      "+-------+-----------------+\n",
      "|  count|             2000|\n",
      "|   mean|     1616908.0835|\n",
      "| stddev|6822647.757312146|\n",
      "|    min|             1361|\n",
      "|    25%|            20315|\n",
      "|    50%|            31421|\n",
      "|    75%|            42949|\n",
      "|    max|         48919896|\n",
      "+-------+-----------------+\n",
      "\n"
     ]
    }
   ],
   "source": [
    "df.select('Avg_Salary').summary().show()"
   ]
  },
  {
   "cell_type": "code",
   "execution_count": 133,
   "metadata": {},
   "outputs": [],
   "source": [
    "min_sal=1361\n",
    "max_sal=48919896"
   ]
  },
  {
   "cell_type": "code",
   "execution_count": 134,
   "metadata": {},
   "outputs": [],
   "source": [
    "### Pandas udf \n",
    "from pyspark.sql.functions import pandas_udf, PandasUDFType\n",
    "\n",
    "def scaled_salary(salary):\n",
    "    scaled_sal=(salary-min_sal)/(max_sal-min_sal)\n",
    "    return scaled_sal"
   ]
  },
  {
   "cell_type": "code",
   "execution_count": 128,
   "metadata": {},
   "outputs": [],
   "source": [
    "#!pip install pandas"
   ]
  },
  {
   "cell_type": "code",
   "execution_count": 131,
   "metadata": {},
   "outputs": [
    {
     "name": "stdout",
     "output_type": "stream",
     "text": [
      "Collecting pyarrow\n",
      "  Downloading pyarrow-10.0.1-cp39-cp39-win_amd64.whl (20.3 MB)\n",
      "Requirement already satisfied: numpy>=1.16.6 in c:\\users\\andru\\anaconda3\\lib\\site-packages (from pyarrow) (1.20.3)\n",
      "Installing collected packages: pyarrow\n",
      "Successfully installed pyarrow-10.0.1\n"
     ]
    }
   ],
   "source": [
    "!pip install pyarrow"
   ]
  },
  {
   "cell_type": "code",
   "execution_count": 135,
   "metadata": {},
   "outputs": [
    {
     "name": "stdout",
     "output_type": "stream",
     "text": [
      "+--------------------------+----------------+------------------+-----------+---------------------+----------+-----+--------+------------+---------------------+\n",
      "|Customer_subtype          |Number_of_houses|Avg_size_household|Avg_age    |Customer_main_type   |Avg_Salary|label|constant|age_category|scaled_salary        |\n",
      "+--------------------------+----------------+------------------+-----------+---------------------+----------+-----+--------+------------+---------------------+\n",
      "|Lower class large families|1               |3                 |30-40 years|Family with grown ups|44905     |0    |finance |Mid Aged    |8.901329526732557E-4 |\n",
      "|Mixed small town dwellers |1               |2                 |30-40 years|Family with grown ups|37575     |0    |finance |Mid Aged    |7.40291997705982E-4  |\n",
      "|Mixed small town dwellers |1               |2                 |30-40 years|Family with grown ups|27915     |0    |finance |Mid Aged    |5.42820834679534E-4  |\n",
      "|Modern, complete families |1               |3                 |40-50 years|Average Family       |19504     |0    |finance |Old         |3.708819162307293E-4 |\n",
      "|Large family farms        |1               |4                 |30-40 years|Farmers              |34943     |0    |finance |Mid Aged    |6.864882605335584E-4 |\n",
      "|Young and rising          |1               |2                 |20-30 years|Living well          |13064     |0    |finance |Young       |2.3923447421309735E-4|\n",
      "|Large religious families  |2               |3                 |30-40 years|Conservative families|29090     |0    |finance |Mid Aged    |5.668403602029373E-4 |\n",
      "|Lower class large families|1               |2                 |40-50 years|Family with grown ups|6895      |0    |finance |Old         |1.1312685467788436E-4|\n",
      "|Lower class large families|1               |2                 |50-60 years|Family with grown ups|35497     |0    |finance |Old         |6.978132112909759E-4 |\n",
      "|Family starters           |2               |3                 |40-50 years|Average Family       |30800     |0    |finance |Old         |6.017964356455073E-4 |\n",
      "+--------------------------+----------------+------------------+-----------+---------------------+----------+-----+--------+------------+---------------------+\n",
      "only showing top 10 rows\n",
      "\n"
     ]
    }
   ],
   "source": [
    "scaling_udf = pandas_udf(scaled_salary, DoubleType())\n",
    "df.withColumn(\"scaled_salary\", scaling_udf(df['Avg_Salary'])).show(10,False)\n",
    "\n"
   ]
  },
  {
   "cell_type": "markdown",
   "metadata": {},
   "source": [
    "Это то, как мы можем использовать как обычные, так и Pandas UDFs для применения различных условий на фрейме данных, по мере необходимости."
   ]
  },
  {
   "cell_type": "markdown",
   "metadata": {},
   "source": [
    "### Присоединение ( Joins)"
   ]
  },
  {
   "cell_type": "markdown",
   "metadata": {},
   "source": [
    "Объединение различных наборов данных является очень общим требованием, присутствующим в большинстве конвейеров обработки данных в мире больших данных. PySpark предлагает очень удобный способ объединить и повернуть ваши значения фрейма данных, по мере необходимости. В следующем примере мы создадим искусственный фрейм данных с некоторыми фиктивные значения кодов регионов для всех типов клиентов. Идея заключается в том, чтобы объединить этот фрейм данных с исходным фреймом данных, чтобы иметь эти коды регионов как часть исходного фрейма данных, как столбец."
   ]
  },
  {
   "cell_type": "code",
   "execution_count": 136,
   "metadata": {},
   "outputs": [
    {
     "name": "stdout",
     "output_type": "stream",
     "text": [
      "+---------------------+-----+\n",
      "|Customer_main_type   |count|\n",
      "+---------------------+-----+\n",
      "|Farmers              |93   |\n",
      "|Career Loners        |15   |\n",
      "|Retired and Religious|202  |\n",
      "|Successful hedonists |194  |\n",
      "|Living well          |178  |\n",
      "|Average Family       |308  |\n",
      "|Cruising Seniors     |60   |\n",
      "|Conservative families|236  |\n",
      "|Driven Growers       |172  |\n",
      "|Family with grown ups|542  |\n",
      "+---------------------+-----+\n",
      "\n"
     ]
    }
   ],
   "source": [
    "df.groupby(\"Customer_main_type\").count().show(50,False)"
   ]
  },
  {
   "cell_type": "code",
   "execution_count": 138,
   "metadata": {},
   "outputs": [
    {
     "name": "stdout",
     "output_type": "stream",
     "text": [
      "+--------------------------+----------------+------------------+-----------+---------------------+----------+-----+--------+------------+\n",
      "|Customer_subtype          |Number_of_houses|Avg_size_household|Avg_age    |Customer_main_type   |Avg_Salary|label|constant|age_category|\n",
      "+--------------------------+----------------+------------------+-----------+---------------------+----------+-----+--------+------------+\n",
      "|Lower class large families|1               |3                 |30-40 years|Family with grown ups|44905     |0    |finance |Mid Aged    |\n",
      "|Mixed small town dwellers |1               |2                 |30-40 years|Family with grown ups|37575     |0    |finance |Mid Aged    |\n",
      "|Mixed small town dwellers |1               |2                 |30-40 years|Family with grown ups|27915     |0    |finance |Mid Aged    |\n",
      "|Modern, complete families |1               |3                 |40-50 years|Average Family       |19504     |0    |finance |Old         |\n",
      "|Large family farms        |1               |4                 |30-40 years|Farmers              |34943     |0    |finance |Mid Aged    |\n",
      "|Young and rising          |1               |2                 |20-30 years|Living well          |13064     |0    |finance |Young       |\n",
      "|Large religious families  |2               |3                 |30-40 years|Conservative families|29090     |0    |finance |Mid Aged    |\n",
      "|Lower class large families|1               |2                 |40-50 years|Family with grown ups|6895      |0    |finance |Old         |\n",
      "|Lower class large families|1               |2                 |50-60 years|Family with grown ups|35497     |0    |finance |Old         |\n",
      "|Family starters           |2               |3                 |40-50 years|Average Family       |30800     |0    |finance |Old         |\n",
      "+--------------------------+----------------+------------------+-----------+---------------------+----------+-----+--------+------------+\n",
      "only showing top 10 rows\n",
      "\n"
     ]
    }
   ],
   "source": [
    "df.show(10, False)"
   ]
  },
  {
   "cell_type": "code",
   "execution_count": 139,
   "metadata": {},
   "outputs": [],
   "source": [
    "region_data = spark.createDataFrame([('Family with grown ups','PN'),\n",
    "                                    ('Driven Growers','GJ'),\n",
    "                                    ('Conservative families','DD'),\n",
    "                                    ('Cruising Seniors','DL'),\n",
    "                                    ('Average Family ','MN'),\n",
    "                                    ('Living well','KA'),\n",
    "                                    ('Successful hedonists','JH'),\n",
    "                                    ('Retired and Religious','AX'),\n",
    "                                   ('Career Loners','HY'),('Farmers','JH')],schema=StructType().add(\"Customer_main_type\",\"string\").add(\"Region Code\",\"string\"))"
   ]
  },
  {
   "cell_type": "code",
   "execution_count": 142,
   "metadata": {},
   "outputs": [
    {
     "name": "stdout",
     "output_type": "stream",
     "text": [
      "+---------------------+-----------+\n",
      "|Customer_main_type   |Region Code|\n",
      "+---------------------+-----------+\n",
      "|Family with grown ups|PN         |\n",
      "|Driven Growers       |GJ         |\n",
      "|Conservative families|DD         |\n",
      "|Cruising Seniors     |DL         |\n",
      "|Average Family       |MN         |\n",
      "|Living well          |KA         |\n",
      "|Successful hedonists |JH         |\n",
      "|Retired and Religious|AX         |\n",
      "|Career Loners        |HY         |\n",
      "|Farmers              |JH         |\n",
      "+---------------------+-----------+\n",
      "\n"
     ]
    }
   ],
   "source": [
    "region_data.show(10,False)"
   ]
  },
  {
   "cell_type": "code",
   "execution_count": 143,
   "metadata": {},
   "outputs": [],
   "source": [
    "\n",
    "new_df=df.join(region_data,on='Customer_main_type')\n",
    "\n"
   ]
  },
  {
   "cell_type": "code",
   "execution_count": 144,
   "metadata": {},
   "outputs": [
    {
     "name": "stdout",
     "output_type": "stream",
     "text": [
      "+-----------+-----+\n",
      "|Region Code|count|\n",
      "+-----------+-----+\n",
      "|PN         |542  |\n",
      "|GJ         |172  |\n",
      "|DD         |236  |\n",
      "|DL         |60   |\n",
      "|KA         |178  |\n",
      "|JH         |287  |\n",
      "|AX         |202  |\n",
      "|HY         |15   |\n",
      "+-----------+-----+\n",
      "\n"
     ]
    }
   ],
   "source": [
    "new_df.groupby(\"Region Code\").count().show(50,False)"
   ]
  },
  {
   "cell_type": "code",
   "execution_count": 147,
   "metadata": {},
   "outputs": [
    {
     "name": "stdout",
     "output_type": "stream",
     "text": [
      "+---------------------+------------------------------------------+----------------+------------------+-----------+----------+-----+--------+------------+-----------+\n",
      "|Customer_main_type   |Customer_subtype                          |Number_of_houses|Avg_size_household|Avg_age    |Avg_Salary|label|constant|age_category|Region Code|\n",
      "+---------------------+------------------------------------------+----------------+------------------+-----------+----------+-----+--------+------------+-----------+\n",
      "|Family with grown ups|Lower class large families                |1               |2                 |40-50 years|25596     |0    |finance |Old         |PN         |\n",
      "|Family with grown ups|Mixed small town dwellers                 |1               |2                 |40-50 years|26579     |0    |finance |Old         |PN         |\n",
      "|Family with grown ups|Lower class large families                |1               |4                 |30-40 years|33537     |0    |finance |Mid Aged    |PN         |\n",
      "|Family with grown ups|Village families                          |1               |3                 |40-50 years|22089     |0    |finance |Old         |PN         |\n",
      "|Family with grown ups|Lower class large families                |1               |2                 |40-50 years|38712     |0    |finance |Old         |PN         |\n",
      "|Family with grown ups|Village families                          |1               |2                 |50-60 years|21519     |0    |finance |Old         |PN         |\n",
      "|Family with grown ups|Lower class large families                |1               |3                 |40-50 years|43214     |0    |finance |Old         |PN         |\n",
      "|Family with grown ups|Couples with teens 'Married with children'|1               |2                 |50-60 years|45028     |0    |finance |Old         |PN         |\n",
      "|Family with grown ups|Lower class large families                |1               |3                 |40-50 years|25747     |0    |finance |Old         |PN         |\n",
      "|Family with grown ups|Couples with teens 'Married with children'|1               |2                 |50-60 years|42847     |0    |finance |Old         |PN         |\n",
      "+---------------------+------------------------------------------+----------------+------------------+-----------+----------+-----+--------+------------+-----------+\n",
      "only showing top 10 rows\n",
      "\n"
     ]
    }
   ],
   "source": [
    "new_df.show(10, False)"
   ]
  },
  {
   "cell_type": "markdown",
   "metadata": {},
   "source": [
    "Мы взяли счетчик регионов после объединения исходного фрейма данных (df) с вновь созданным фреймом данных региона в столбце Customer_main_type."
   ]
  },
  {
   "cell_type": "markdown",
   "metadata": {},
   "source": [
    "### Вращение"
   ]
  },
  {
   "cell_type": "markdown",
   "metadata": {},
   "source": [
    "Мы можем использовать функцию pivot в PySpark для простого создания сводного представления фрейма данных для конкретных столбцов, как показано в следующем примере. Здесь мы группируем данные, основываясь на типе клиента. Столбцы представляют различные возрастные группы. Значения внутри сводной таблицы представляют собой сумму средней заработной платы по каждой из этих категорий типов клиентов для определенной возрастной группы. Мы также гарантируем, что нет никаких нулей или пустых значений, заполняя все нулевые значения 0. В следующем примере мы создадим еще одну сводную таблицу, используя столбец label и возьмем сумму средней заработной платы в качестве значений внутри нее."
   ]
  },
  {
   "cell_type": "code",
   "execution_count": 152,
   "metadata": {},
   "outputs": [
    {
     "name": "stdout",
     "output_type": "stream",
     "text": [
      "+--------------------+------------------+--------------------+--------------------+--------------------+------------------+-----------+\n",
      "|  Customer_main_type|       20-30 years|         30-40 years|         40-50 years|         50-60 years|       60-70 years|70-80 years|\n",
      "+--------------------+------------------+--------------------+--------------------+--------------------+------------------+-----------+\n",
      "|             Farmers|               0.0|   33001.92857142857|  28608.943661971833|            39525.75|               0.0|        0.0|\n",
      "|       Career Loners|           28799.6|             35327.8|             25701.0|  35064.333333333336|           32558.0|        0.0|\n",
      "|Retired and Relig...|           25270.0|  22442.066666666666|  28886.077669902912|  25189.716417910447|           33535.7|    30562.0|\n",
      "|Successful hedonists|           42261.0|1.0075221411764706E7|1.6311504186666667E7|1.6989909510869566E7|    2.5042516125E7|    15518.0|\n",
      "|         Living well|27089.882352941175|  31213.715789473685|  32643.727272727272|  30118.545454545456|               0.0|        0.0|\n",
      "|      Average Family|               0.0|   179415.1893939394|  50911.529411764706|  27499.333333333332|         28285.125|        0.0|\n",
      "|    Cruising Seniors|               0.0|             43302.0|  27600.090909090908|  27860.736842105263|           28657.0|    34884.5|\n",
      "|Conservative fami...|           34695.0|  28017.470588235294|   30529.04424778761|          28623.5625|           36608.0|        0.0|\n",
      "|      Driven Growers|               0.0|  31278.636363636364|   30157.58407079646|   32636.30769230769|           41968.0|        0.0|\n",
      "|Family with grown...|           16406.0|  29777.022727272728|  27424.666666666668|   29162.63716814159|27136.666666666668|    10496.0|\n",
      "+--------------------+------------------+--------------------+--------------------+--------------------+------------------+-----------+\n",
      "\n"
     ]
    }
   ],
   "source": [
    "df.groupBy('Customer_main_type').pivot('Avg_age').avg('Avg_salary').fillna(0).show()"
   ]
  },
  {
   "cell_type": "code",
   "execution_count": 157,
   "metadata": {},
   "outputs": [
    {
     "name": "stdout",
     "output_type": "stream",
     "text": [
      "+--------------------+------------------+--------------------+--------------------+--------------------+------------------+-----------+\n",
      "|  Customer_main_type|       20-30 years|         30-40 years|         40-50 years|         50-60 years|       60-70 years|70-80 years|\n",
      "+--------------------+------------------+--------------------+--------------------+--------------------+------------------+-----------+\n",
      "|             Farmers|               0.0|   33001.92857142857|  28608.943661971833|            39525.75|               0.0|        0.0|\n",
      "|       Career Loners|           28799.6|             35327.8|             25701.0|  35064.333333333336|           32558.0|        0.0|\n",
      "|Retired and Relig...|           25270.0|  22442.066666666666|  28886.077669902912|  25189.716417910447|           33535.7|    30562.0|\n",
      "|Successful hedonists|           42261.0|1.0075221411764706E7|1.6311504186666667E7|1.6989909510869566E7|    2.5042516125E7|    15518.0|\n",
      "|         Living well|27089.882352941175|  31213.715789473685|  32643.727272727272|  30118.545454545456|               0.0|        0.0|\n",
      "|      Average Family|               0.0|   179415.1893939394|  50911.529411764706|  27499.333333333332|         28285.125|        0.0|\n",
      "|    Cruising Seniors|               0.0|             43302.0|  27600.090909090908|  27860.736842105263|           28657.0|    34884.5|\n",
      "|Conservative fami...|           34695.0|  28017.470588235294|   30529.04424778761|          28623.5625|           36608.0|        0.0|\n",
      "|      Driven Growers|               0.0|  31278.636363636364|   30157.58407079646|   32636.30769230769|           41968.0|        0.0|\n",
      "|Family with grown...|           16406.0|  29777.022727272728|  27424.666666666668|   29162.63716814159|27136.666666666668|    10496.0|\n",
      "+--------------------+------------------+--------------------+--------------------+--------------------+------------------+-----------+\n",
      "\n"
     ]
    }
   ],
   "source": [
    "df.groupBy('Customer_main_type').pivot('Avg_age').mean('Avg_salary').fillna(0).show() "
   ]
  },
  {
   "cell_type": "code",
   "execution_count": 71,
   "metadata": {},
   "outputs": [
    {
     "name": "stdout",
     "output_type": "stream",
     "text": [
      "+--------------------+----------+---------+\n",
      "|  Customer_main_type|         0|        1|\n",
      "+--------------------+----------+---------+\n",
      "|             Farmers|   2734832|    74636|\n",
      "|       Career Loners|    484089|        0|\n",
      "|Retired and Relig...|   5328410|   194029|\n",
      "|Successful hedonists|2720381462|437729699|\n",
      "|         Living well|   5453384|    99156|\n",
      "|      Average Family|  26036999|  6074041|\n",
      "|    Cruising Seniors|   1675841|    56379|\n",
      "|Conservative fami...|   6595027|   368016|\n",
      "|      Driven Growers|   4492465|   799810|\n",
      "|Family with grown...|  14394094|   843798|\n",
      "+--------------------+----------+---------+\n",
      "\n"
     ]
    }
   ],
   "source": [
    "df.groupBy('Customer_main_type').pivot('label').sum('Avg_salary').fillna(0).show()"
   ]
  },
  {
   "cell_type": "markdown",
   "metadata": {},
   "source": [
    "Мы разделили данные, основываясь на столбце Customer_main_type, и взяли совокупную сумму средней зарплаты каждого из значений метки (0, 1), используя функцию pivot."
   ]
  },
  {
   "cell_type": "markdown",
   "metadata": {},
   "source": [
    "### Window Operations "
   ]
  },
  {
   "cell_type": "markdown",
   "metadata": {},
   "source": [
    "Эта функция в PySpark позволяет выполнять определенные операции с группами записей, известными как \" внутри окна.\"Он вычисляет результаты для каждой строки в окне. Классический пример использования окна-это различные агрегации для пользователя во время различных сеансов. Посетитель мог бы имейть несколько сеансов на определенном веб-сайте и, следовательно, окно может быть использовано для подсчета общей активности пользователя во время каждого сеанса. PySpark поддерживает три типа оконных функций:"
   ]
  },
  {
   "cell_type": "markdown",
   "metadata": {},
   "source": [
    "•  Aggregations\n",
    "•  Ranking\n",
    "•  Analytics"
   ]
  },
  {
   "cell_type": "markdown",
   "metadata": {},
   "source": [
    "В следующем примере мы импортируем функцию окна, в дополнение к другим, таким как номер строки. Следующим шагом является определение окна. Иногда это может быть просто упорядоченный столбец, а иногда он может быть основан на определенных категориях внутри столбца. Мы увидим примеры каждого из них. В первом примере мы определяем окно, которое просто основано на отсортированном столбце средняя зарплата, и мы ранжируем эти зарплаты. Мы создаем новый столбец \"ранг\" и присваиваем ранги каждому из значений средней заработной платы."
   ]
  },
  {
   "cell_type": "code",
   "execution_count": 72,
   "metadata": {},
   "outputs": [],
   "source": [
    "## Ranking "
   ]
  },
  {
   "cell_type": "code",
   "execution_count": 168,
   "metadata": {},
   "outputs": [],
   "source": [
    "from pyspark.sql.window import Window\n",
    "from pyspark.sql.functions import udf,rank, col,row_number"
   ]
  },
  {
   "cell_type": "code",
   "execution_count": 169,
   "metadata": {},
   "outputs": [],
   "source": [
    "#create a window function to order the relevant column( Avg Salary)\n",
    "win = Window.orderBy(df['Avg_Salary'].desc())"
   ]
  },
  {
   "cell_type": "code",
   "execution_count": null,
   "metadata": {},
   "outputs": [],
   "source": []
  },
  {
   "cell_type": "code",
   "execution_count": 166,
   "metadata": {},
   "outputs": [],
   "source": [
    "#create a additonal column with row numbers as rank\n",
    "df=df.withColumn('rank', row_number().over(win).alias('rank'))"
   ]
  },
  {
   "cell_type": "code",
   "execution_count": 171,
   "metadata": {},
   "outputs": [
    {
     "name": "stdout",
     "output_type": "stream",
     "text": [
      "+--------------------+----------------+------------------+-----------+--------------------+----------+-----+--------+------------+----+\n",
      "|    Customer_subtype|Number_of_houses|Avg_size_household|    Avg_age|  Customer_main_type|Avg_Salary|label|constant|age_category|rank|\n",
      "+--------------------+----------------+------------------+-----------+--------------------+----------+-----+--------+------------+----+\n",
      "| High status seniors|               1|                 2|60-70 years|Successful hedonists|  48919896|    0| finance|    Very Old|   1|\n",
      "|High Income, expe...|               1|                 2|50-60 years|Successful hedonists|  48177970|    0| finance|         Old|   2|\n",
      "|High Income, expe...|               1|                 2|50-60 years|Successful hedonists|  48069548|    1| finance|         Old|   3|\n",
      "|High Income, expe...|               1|                 3|40-50 years|Successful hedonists|  46911924|    0| finance|         Old|   4|\n",
      "| High status seniors|               1|                 3|40-50 years|Successful hedonists|  46614009|    0| finance|         Old|   5|\n",
      "|High Income, expe...|               1|                 3|30-40 years|Successful hedonists|  45952441|    0| finance|    Mid Aged|   6|\n",
      "|High Income, expe...|               1|                 3|40-50 years|Successful hedonists|  45864609|    1| finance|         Old|   7|\n",
      "| High status seniors|               1|                 1|50-60 years|Successful hedonists|  45592572|    0| finance|         Old|   8|\n",
      "| High status seniors|               1|                 2|50-60 years|Successful hedonists|  45170899|    0| finance|         Old|   9|\n",
      "|High Income, expe...|               1|                 3|50-60 years|Successful hedonists|  44843830|    0| finance|         Old|  10|\n",
      "| High status seniors|               1|                 2|50-60 years|Successful hedonists|  43230349|    0| finance|         Old|  11|\n",
      "| High status seniors|               1|                 5|40-50 years|Successful hedonists|  43181830|    0| finance|         Old|  12|\n",
      "| High status seniors|               1|                 1|30-40 years|Successful hedonists|  42631926|    0| finance|    Mid Aged|  13|\n",
      "| High status seniors|               1|                 2|50-60 years|Successful hedonists|  41919020|    0| finance|         Old|  14|\n",
      "| High status seniors|               1|                 2|50-60 years|Successful hedonists|  41699271|    0| finance|         Old|  15|\n",
      "| High status seniors|               1|                 2|40-50 years|Successful hedonists|  41398953|    0| finance|         Old|  16|\n",
      "|High Income, expe...|               1|                 3|40-50 years|Successful hedonists|  41269615|    1| finance|         Old|  17|\n",
      "| High status seniors|               1|                 2|50-60 years|Successful hedonists|  41192397|    1| finance|         Old|  18|\n",
      "| High status seniors|               1|                 2|40-50 years|Successful hedonists|  40564335|    0| finance|         Old|  19|\n",
      "| High status seniors|               1|                 2|50-60 years|Successful hedonists|  40453887|    0| finance|         Old|  20|\n",
      "+--------------------+----------------+------------------+-----------+--------------------+----------+-----+--------+------------+----+\n",
      "only showing top 20 rows\n",
      "\n"
     ]
    }
   ],
   "source": [
    "df.show()"
   ]
  },
  {
   "cell_type": "code",
   "execution_count": null,
   "metadata": {},
   "outputs": [],
   "source": []
  },
  {
   "cell_type": "markdown",
   "metadata": {},
   "source": [
    "Одним из распространенных требований является поиск первых трех значений из категории. В этом случае окно может быть использовано для получения результатов. В следующем примере мы определяем окно и секцию по столбцу подтип клиента. В основном, то, что он делает,-это сортировка средней заработной платы для каждой из категорий подтипов клиентов, поэтому теперь мы можем использовать фильтр для извлечения трех лучших значений заработной платы для каждой группы."
   ]
  },
  {
   "cell_type": "code",
   "execution_count": 172,
   "metadata": {},
   "outputs": [],
   "source": [
    "# Ranking groupwise \n",
    "#create a window function to order the relevant column( Avg Salary)\n",
    "win_1 = Window.partitionBy(\"Customer_subtype\").orderBy(df['Avg_Salary'].desc())"
   ]
  },
  {
   "cell_type": "code",
   "execution_count": 173,
   "metadata": {},
   "outputs": [],
   "source": [
    "#create a additonal column with row numbers as rank\n",
    "df=df.withColumn('rank', row_number().over(win_1).alias('rank'))"
   ]
  },
  {
   "cell_type": "markdown",
   "metadata": {},
   "source": [
    "Теперь, когда у нас есть новый столбец rank, состоящий из ранга или каждой категории Customer_subtype, мы можем легко фильтровать верхние три ранга для каждой категории."
   ]
  },
  {
   "cell_type": "code",
   "execution_count": 174,
   "metadata": {},
   "outputs": [
    {
     "name": "stdout",
     "output_type": "stream",
     "text": [
      "+----+-----+\n",
      "|rank|count|\n",
      "+----+-----+\n",
      "|   1|   39|\n",
      "|   2|   37|\n",
      "|   3|   36|\n",
      "|   4|   36|\n",
      "|   5|   34|\n",
      "|   6|   34|\n",
      "|   7|   32|\n",
      "|   8|   31|\n",
      "|   9|   31|\n",
      "|  10|   31|\n",
      "|  11|   31|\n",
      "|  12|   31|\n",
      "|  13|   31|\n",
      "|  14|   31|\n",
      "|  15|   31|\n",
      "|  16|   30|\n",
      "|  17|   30|\n",
      "|  18|   27|\n",
      "|  19|   27|\n",
      "|  20|   27|\n",
      "+----+-----+\n",
      "only showing top 20 rows\n",
      "\n"
     ]
    }
   ],
   "source": [
    "df.groupBy('rank').count().orderBy('rank').show()"
   ]
  },
  {
   "cell_type": "code",
   "execution_count": 175,
   "metadata": {},
   "outputs": [
    {
     "name": "stdout",
     "output_type": "stream",
     "text": [
      "+--------------------+----------------+------------------+-----------+--------------------+----------+-----+--------+------------+----+\n",
      "|    Customer_subtype|Number_of_houses|Avg_size_household|    Avg_age|  Customer_main_type|Avg_Salary|label|constant|age_category|rank|\n",
      "+--------------------+----------------+------------------+-----------+--------------------+----------+-----+--------+------------+----+\n",
      "|Affluent senior a...|               3|                 2|50-60 years|Successful hedonists|    994077|    0| finance|         Old|   1|\n",
      "|Affluent senior a...|               1|                 2|50-60 years|Successful hedonists|    983051|    0| finance|         Old|   2|\n",
      "|Affluent senior a...|               3|                 2|50-60 years|Successful hedonists|    944444|    0| finance|         Old|   3|\n",
      "|Affluent young fa...|               1|                 3|30-40 years|      Average Family|    991838|    0| finance|    Mid Aged|   1|\n",
      "|Affluent young fa...|               1|                 3|40-50 years|      Average Family|    988282|    0| finance|         Old|   2|\n",
      "|Affluent young fa...|               1|                 3|30-40 years|      Average Family|    964596|    0| finance|    Mid Aged|   3|\n",
      "|Career and childcare|               2|                 4|40-50 years|      Driven Growers|     47192|    0| finance|         Old|   1|\n",
      "|Career and childcare|               1|                 3|40-50 years|      Driven Growers|     47068|    0| finance|         Old|   2|\n",
      "|Career and childcare|               2|                 3|30-40 years|      Driven Growers|     44959|    0| finance|    Mid Aged|   3|\n",
      "|Couples with teen...|               1|                 3|40-50 years|Family with grown...|     49211|    1| finance|         Old|   1|\n",
      "|Couples with teen...|               1|                 2|40-50 years|Family with grown...|     49175|    0| finance|         Old|   2|\n",
      "|Couples with teen...|               1|                 3|40-50 years|Family with grown...|     48926|    0| finance|         Old|   3|\n",
      "|Dinki's (double i...|               2|                 1|60-70 years|      Driven Growers|     48812|    0| finance|    Very Old|   1|\n",
      "|Dinki's (double i...|               1|                 3|30-40 years|      Driven Growers|     41192|    0| finance|    Mid Aged|   2|\n",
      "|Dinki's (double i...|               1|                 3|40-50 years|      Driven Growers|     36505|    0| finance|         Old|   3|\n",
      "|   Etnically diverse|               1|                 2|40-50 years|         Living well|     43764|    0| finance|         Old|   1|\n",
      "|   Etnically diverse|               1|                 2|40-50 years|         Living well|     42475|    0| finance|         Old|   2|\n",
      "|   Etnically diverse|               1|                 2|30-40 years|         Living well|     35545|    0| finance|    Mid Aged|   3|\n",
      "|     Family starters|               1|                 3|40-50 years|      Average Family|     49602|    0| finance|         Old|   1|\n",
      "|     Family starters|               1|                 2|40-50 years|      Average Family|     49363|    0| finance|         Old|   2|\n",
      "+--------------------+----------------+------------------+-----------+--------------------+----------+-----+--------+------------+----+\n",
      "only showing top 20 rows\n",
      "\n"
     ]
    }
   ],
   "source": [
    "# filter top 3 customers from every group\n",
    "df.filter(col('rank') < 4).show()"
   ]
  },
  {
   "cell_type": "code",
   "execution_count": null,
   "metadata": {},
   "outputs": [],
   "source": []
  },
  {
   "attachments": {},
   "cell_type": "markdown",
   "metadata": {},
   "source": [
    "---"
   ]
  },
  {
   "cell_type": "code",
   "execution_count": 81,
   "metadata": {},
   "outputs": [
    {
     "name": "stdout",
     "output_type": "stream",
     "text": [
      "TreeEnsembleModel classifier with 3 trees\n",
      "\n",
      "TreeEnsembleModel classifier with 3 trees\n",
      "\n",
      "  Tree 0:\n",
      "    If (feature 0 <= 1.5)\n",
      "     Predict: 0.0\n",
      "    Else (feature 0 > 1.5)\n",
      "     Predict: 1.0\n",
      "  Tree 1:\n",
      "    If (feature 0 <= 1.5)\n",
      "     Predict: 0.0\n",
      "    Else (feature 0 > 1.5)\n",
      "     Predict: 1.0\n",
      "  Tree 2:\n",
      "    If (feature 0 <= 1.5)\n",
      "     Predict: 0.0\n",
      "    Else (feature 0 > 1.5)\n",
      "     Predict: 1.0\n",
      "\n"
     ]
    },
    {
     "data": {
      "text/plain": [
       "[1.0, 0.0]"
      ]
     },
     "execution_count": 81,
     "metadata": {},
     "output_type": "execute_result"
    }
   ],
   "source": [
    "from pyspark.mllib.regression import LabeledPoint\n",
    "from pyspark.mllib.tree import RandomForest\n",
    "\n",
    "data = [\n",
    "    LabeledPoint(0.0, [0.0]),\n",
    "    LabeledPoint(0.0, [1.0]),\n",
    "    LabeledPoint(1.0, [2.0]),\n",
    "    LabeledPoint(1.0, [3.0])\n",
    "]\n",
    "model = RandomForest.trainClassifier(spark.sparkContext.parallelize(data), 2, {}, 3, seed=42)\n",
    "model.numTrees()\n",
    "\n",
    "model.totalNumNodes()\n",
    "print(model)\n",
    "print(model.toDebugString())\n",
    "model.predict([2.0])\n",
    "model.predict([0.0])\n",
    "rdd = spark.sparkContext.parallelize([[3.0], [1.0]])\n",
    "model.predict(rdd).collect()"
   ]
  },
  {
   "cell_type": "code",
   "execution_count": null,
   "metadata": {},
   "outputs": [],
   "source": []
  },
  {
   "cell_type": "code",
   "execution_count": null,
   "metadata": {},
   "outputs": [],
   "source": []
  },
  {
   "cell_type": "code",
   "execution_count": null,
   "metadata": {},
   "outputs": [],
   "source": []
  },
  {
   "attachments": {},
   "cell_type": "markdown",
   "metadata": {},
   "source": [
    "---"
   ]
  },
  {
   "attachments": {},
   "cell_type": "markdown",
   "metadata": {},
   "source": [
    "[ML](https://spark.apache.org/docs/latest/ml-classification-regression.htm)"
   ]
  },
  {
   "cell_type": "code",
   "execution_count": 58,
   "metadata": {},
   "outputs": [
    {
     "ename": "AnalysisException",
     "evalue": "Path does not exist: file:/e:/Курсы по питону для преподования/Курсы по DS/курсы Беспальцев/уроки/Урок 33 Работа с большими данными ч2/data/mllib/sample_libsvm_data.txt",
     "output_type": "error",
     "traceback": [
      "\u001b[1;31m---------------------------------------------------------------------------\u001b[0m",
      "\u001b[1;31mAnalysisException\u001b[0m                         Traceback (most recent call last)",
      "Cell \u001b[1;32mIn[58], line 7\u001b[0m\n\u001b[0;32m      4\u001b[0m \u001b[39mfrom\u001b[39;00m \u001b[39mpyspark\u001b[39;00m\u001b[39m.\u001b[39;00m\u001b[39mml\u001b[39;00m\u001b[39m.\u001b[39;00m\u001b[39mevaluation\u001b[39;00m \u001b[39mimport\u001b[39;00m MulticlassClassificationEvaluator\n\u001b[0;32m      6\u001b[0m \u001b[39m# Load and parse the data file, converting it to a DataFrame.\u001b[39;00m\n\u001b[1;32m----> 7\u001b[0m data \u001b[39m=\u001b[39m spark\u001b[39m.\u001b[39;49mread\u001b[39m.\u001b[39;49mformat(\u001b[39m\"\u001b[39;49m\u001b[39mlibsvm\u001b[39;49m\u001b[39m\"\u001b[39;49m)\u001b[39m.\u001b[39;49mload(\u001b[39m\"\u001b[39;49m\u001b[39mdata/mllib/sample_libsvm_data.txt\u001b[39;49m\u001b[39m\"\u001b[39;49m)\n\u001b[0;32m      9\u001b[0m \u001b[39m# Index labels, adding metadata to the label column.\u001b[39;00m\n\u001b[0;32m     10\u001b[0m \u001b[39m# Fit on whole dataset to include all labels in index.\u001b[39;00m\n\u001b[0;32m     11\u001b[0m labelIndexer \u001b[39m=\u001b[39m StringIndexer(inputCol\u001b[39m=\u001b[39m\u001b[39m\"\u001b[39m\u001b[39mlabel\u001b[39m\u001b[39m\"\u001b[39m, outputCol\u001b[39m=\u001b[39m\u001b[39m\"\u001b[39m\u001b[39mindexedLabel\u001b[39m\u001b[39m\"\u001b[39m)\u001b[39m.\u001b[39mfit(data)\n",
      "File \u001b[1;32mc:\\Users\\biaspaltsau_aa\\Anaconda3\\envs\\spark\\lib\\site-packages\\pyspark\\sql\\readwriter.py:177\u001b[0m, in \u001b[0;36mDataFrameReader.load\u001b[1;34m(self, path, format, schema, **options)\u001b[0m\n\u001b[0;32m    175\u001b[0m \u001b[39mself\u001b[39m\u001b[39m.\u001b[39moptions(\u001b[39m*\u001b[39m\u001b[39m*\u001b[39moptions)\n\u001b[0;32m    176\u001b[0m \u001b[39mif\u001b[39;00m \u001b[39misinstance\u001b[39m(path, \u001b[39mstr\u001b[39m):\n\u001b[1;32m--> 177\u001b[0m     \u001b[39mreturn\u001b[39;00m \u001b[39mself\u001b[39m\u001b[39m.\u001b[39m_df(\u001b[39mself\u001b[39;49m\u001b[39m.\u001b[39;49m_jreader\u001b[39m.\u001b[39;49mload(path))\n\u001b[0;32m    178\u001b[0m \u001b[39melif\u001b[39;00m path \u001b[39mis\u001b[39;00m \u001b[39mnot\u001b[39;00m \u001b[39mNone\u001b[39;00m:\n\u001b[0;32m    179\u001b[0m     \u001b[39mif\u001b[39;00m \u001b[39mtype\u001b[39m(path) \u001b[39m!=\u001b[39m \u001b[39mlist\u001b[39m:\n",
      "File \u001b[1;32mc:\\Users\\biaspaltsau_aa\\Anaconda3\\envs\\spark\\lib\\site-packages\\py4j\\java_gateway.py:1321\u001b[0m, in \u001b[0;36mJavaMember.__call__\u001b[1;34m(self, *args)\u001b[0m\n\u001b[0;32m   1315\u001b[0m command \u001b[39m=\u001b[39m proto\u001b[39m.\u001b[39mCALL_COMMAND_NAME \u001b[39m+\u001b[39m\\\n\u001b[0;32m   1316\u001b[0m     \u001b[39mself\u001b[39m\u001b[39m.\u001b[39mcommand_header \u001b[39m+\u001b[39m\\\n\u001b[0;32m   1317\u001b[0m     args_command \u001b[39m+\u001b[39m\\\n\u001b[0;32m   1318\u001b[0m     proto\u001b[39m.\u001b[39mEND_COMMAND_PART\n\u001b[0;32m   1320\u001b[0m answer \u001b[39m=\u001b[39m \u001b[39mself\u001b[39m\u001b[39m.\u001b[39mgateway_client\u001b[39m.\u001b[39msend_command(command)\n\u001b[1;32m-> 1321\u001b[0m return_value \u001b[39m=\u001b[39m get_return_value(\n\u001b[0;32m   1322\u001b[0m     answer, \u001b[39mself\u001b[39;49m\u001b[39m.\u001b[39;49mgateway_client, \u001b[39mself\u001b[39;49m\u001b[39m.\u001b[39;49mtarget_id, \u001b[39mself\u001b[39;49m\u001b[39m.\u001b[39;49mname)\n\u001b[0;32m   1324\u001b[0m \u001b[39mfor\u001b[39;00m temp_arg \u001b[39min\u001b[39;00m temp_args:\n\u001b[0;32m   1325\u001b[0m     temp_arg\u001b[39m.\u001b[39m_detach()\n",
      "File \u001b[1;32mc:\\Users\\biaspaltsau_aa\\Anaconda3\\envs\\spark\\lib\\site-packages\\pyspark\\sql\\utils.py:196\u001b[0m, in \u001b[0;36mcapture_sql_exception.<locals>.deco\u001b[1;34m(*a, **kw)\u001b[0m\n\u001b[0;32m    192\u001b[0m converted \u001b[39m=\u001b[39m convert_exception(e\u001b[39m.\u001b[39mjava_exception)\n\u001b[0;32m    193\u001b[0m \u001b[39mif\u001b[39;00m \u001b[39mnot\u001b[39;00m \u001b[39misinstance\u001b[39m(converted, UnknownException):\n\u001b[0;32m    194\u001b[0m     \u001b[39m# Hide where the exception came from that shows a non-Pythonic\u001b[39;00m\n\u001b[0;32m    195\u001b[0m     \u001b[39m# JVM exception message.\u001b[39;00m\n\u001b[1;32m--> 196\u001b[0m     \u001b[39mraise\u001b[39;00m converted \u001b[39mfrom\u001b[39;00m \u001b[39mNone\u001b[39m\n\u001b[0;32m    197\u001b[0m \u001b[39melse\u001b[39;00m:\n\u001b[0;32m    198\u001b[0m     \u001b[39mraise\u001b[39;00m\n",
      "\u001b[1;31mAnalysisException\u001b[0m: Path does not exist: file:/e:/Курсы по питону для преподования/Курсы по DS/курсы Беспальцев/уроки/Урок 33 Работа с большими данными ч2/data/mllib/sample_libsvm_data.txt"
     ]
    }
   ],
   "source": [
    "from pyspark.ml import Pipeline\n",
    "from pyspark.ml.classification import RandomForestClassifier\n",
    "from pyspark.ml.feature import IndexToString, StringIndexer, VectorIndexer\n",
    "from pyspark.ml.evaluation import MulticlassClassificationEvaluator\n",
    "\n",
    "# Load and parse the data file, converting it to a DataFrame.\n",
    "data = spark.read.format(\"libsvm\").load(\"data/mllib/sample_libsvm_data.txt\")\n",
    "\n",
    "# Index labels, adding metadata to the label column.\n",
    "# Fit on whole dataset to include all labels in index.\n",
    "labelIndexer = StringIndexer(inputCol=\"label\", outputCol=\"indexedLabel\").fit(data)\n",
    "\n",
    "# Automatically identify categorical features, and index them.\n",
    "# Set maxCategories so features with > 4 distinct values are treated as continuous.\n",
    "featureIndexer =\\\n",
    "    VectorIndexer(inputCol=\"features\", outputCol=\"indexedFeatures\", maxCategories=4).fit(data)\n",
    "\n",
    "# Split the data into training and test sets (30% held out for testing)\n",
    "(trainingData, testData) = data.randomSplit([0.7, 0.3])\n",
    "\n",
    "# Train a RandomForest model.\n",
    "rf = RandomForestClassifier(labelCol=\"indexedLabel\", featuresCol=\"indexedFeatures\", numTrees=10)\n",
    "\n",
    "# Convert indexed labels back to original labels.\n",
    "labelConverter = IndexToString(inputCol=\"prediction\", outputCol=\"predictedLabel\",\n",
    "                               labels=labelIndexer.labels)\n",
    "\n",
    "# Chain indexers and forest in a Pipeline\n",
    "pipeline = Pipeline(stages=[labelIndexer, featureIndexer, rf, labelConverter])\n",
    "\n",
    "# Train model.  This also runs the indexers.\n",
    "model = pipeline.fit(trainingData)\n",
    "\n",
    "# Make predictions.\n",
    "predictions = model.transform(testData)\n",
    "\n",
    "# Select example rows to display.\n",
    "predictions.select(\"predictedLabel\", \"label\", \"features\").show(5)\n",
    "\n",
    "# Select (prediction, true label) and compute test error\n",
    "evaluator = MulticlassClassificationEvaluator(\n",
    "    labelCol=\"indexedLabel\", predictionCol=\"prediction\", metricName=\"accuracy\")\n",
    "accuracy = evaluator.evaluate(predictions)\n",
    "print(\"Test Error = %g\" % (1.0 - accuracy))\n",
    "\n",
    "rfModel = model.stages[2]\n",
    "print(rfModel)  # summary only"
   ]
  }
 ],
 "metadata": {
  "kernelspec": {
   "display_name": "base",
   "language": "python",
   "name": "python3"
  },
  "language_info": {
   "codemirror_mode": {
    "name": "ipython",
    "version": 3
   },
   "file_extension": ".py",
   "mimetype": "text/x-python",
   "name": "python",
   "nbconvert_exporter": "python",
   "pygments_lexer": "ipython3",
   "version": "3.9.7"
  },
  "name": "Data Wrangling using DataFrames",
  "notebookId": 1751261886603334,
  "vscode": {
   "interpreter": {
    "hash": "5114a98448da61d3c8717f10dbe3cc222d3772cc8c6832b6d605cb65183e3f6d"
   }
  }
 },
 "nbformat": 4,
 "nbformat_minor": 1
}
