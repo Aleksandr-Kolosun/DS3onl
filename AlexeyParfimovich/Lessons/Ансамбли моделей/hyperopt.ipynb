{
 "cells": [
  {
   "cell_type": "markdown",
   "metadata": {},
   "source": [
    "### Оптимизация параметров с помощью hyperopt\n"
   ]
  },
  {
   "cell_type": "markdown",
   "metadata": {},
   "source": [
    "Столкнувшись с оптимизацией гиперпараметров моделей в hw8 и почитав слак, я понял, что столь немаловажный аспект практически не затронут в курсе и вызывает немало вопросов. Чтож, давайте исправим ситуацию и окунемся в чудесный многомерный мир пространств параметров. <br/>\n",
    "Для воспроизведения кода понадобится установить библиотеку hyperopt. Остальное за нас подготовили создатели пакета Anaconda.\n",
    "Итак,"
   ]
  },
  {
   "cell_type": "code",
   "execution_count": 1,
   "metadata": {},
   "outputs": [
    {
     "name": "stdout",
     "output_type": "stream",
     "text": [
      "Requirement already satisfied: hyperopt in c:\\users\\biaspaltsau_aa\\anaconda3\\lib\\site-packages (0.2.7)\n",
      "Requirement already satisfied: cloudpickle in c:\\users\\biaspaltsau_aa\\appdata\\roaming\\python\\python39\\site-packages (from hyperopt) (2.0.0)\n",
      "Requirement already satisfied: scipy in c:\\users\\biaspaltsau_aa\\anaconda3\\lib\\site-packages (from hyperopt) (1.7.1)\n",
      "Requirement already satisfied: future in c:\\users\\biaspaltsau_aa\\anaconda3\\lib\\site-packages (from hyperopt) (0.18.2)\n",
      "Requirement already satisfied: py4j in c:\\users\\biaspaltsau_aa\\anaconda3\\lib\\site-packages (from hyperopt) (0.10.9.7)\n",
      "Requirement already satisfied: six in c:\\users\\biaspaltsau_aa\\appdata\\roaming\\python\\python39\\site-packages (from hyperopt) (1.16.0)\n",
      "Requirement already satisfied: networkx>=2.2 in c:\\users\\biaspaltsau_aa\\anaconda3\\lib\\site-packages (from hyperopt) (2.6.3)\n",
      "Requirement already satisfied: tqdm in c:\\users\\biaspaltsau_aa\\anaconda3\\lib\\site-packages (from hyperopt) (4.64.1)\n",
      "Requirement already satisfied: numpy in c:\\users\\biaspaltsau_aa\\anaconda3\\lib\\site-packages (from hyperopt) (1.22.4)\n",
      "Requirement already satisfied: colorama in c:\\users\\biaspaltsau_aa\\anaconda3\\lib\\site-packages (from tqdm->hyperopt) (0.4.4)\n"
     ]
    },
    {
     "name": "stderr",
     "output_type": "stream",
     "text": [
      "WARNING: Ignoring invalid distribution -pencv-python (c:\\users\\biaspaltsau_aa\\appdata\\roaming\\python\\python39\\site-packages)\n",
      "WARNING: Ignoring invalid distribution -pencv-contrib-python (c:\\users\\biaspaltsau_aa\\appdata\\roaming\\python\\python39\\site-packages)\n",
      "WARNING: Ignoring invalid distribution -illow (c:\\users\\biaspaltsau_aa\\appdata\\roaming\\python\\python39\\site-packages)\n",
      "WARNING: Ignoring invalid distribution -pencv-python (c:\\users\\biaspaltsau_aa\\appdata\\roaming\\python\\python39\\site-packages)\n",
      "WARNING: Ignoring invalid distribution -pencv-contrib-python (c:\\users\\biaspaltsau_aa\\appdata\\roaming\\python\\python39\\site-packages)\n",
      "WARNING: Ignoring invalid distribution -illow (c:\\users\\biaspaltsau_aa\\appdata\\roaming\\python\\python39\\site-packages)\n",
      "WARNING: Ignoring invalid distribution -pencv-python (c:\\users\\biaspaltsau_aa\\appdata\\roaming\\python\\python39\\site-packages)\n",
      "WARNING: Ignoring invalid distribution -pencv-contrib-python (c:\\users\\biaspaltsau_aa\\appdata\\roaming\\python\\python39\\site-packages)\n",
      "WARNING: Ignoring invalid distribution -illow (c:\\users\\biaspaltsau_aa\\appdata\\roaming\\python\\python39\\site-packages)\n",
      "WARNING: Ignoring invalid distribution -pencv-python (c:\\users\\biaspaltsau_aa\\appdata\\roaming\\python\\python39\\site-packages)\n",
      "WARNING: Ignoring invalid distribution -pencv-contrib-python (c:\\users\\biaspaltsau_aa\\appdata\\roaming\\python\\python39\\site-packages)\n",
      "WARNING: Ignoring invalid distribution -illow (c:\\users\\biaspaltsau_aa\\appdata\\roaming\\python\\python39\\site-packages)\n",
      "WARNING: Ignoring invalid distribution -pencv-python (c:\\users\\biaspaltsau_aa\\appdata\\roaming\\python\\python39\\site-packages)\n",
      "WARNING: Ignoring invalid distribution -pencv-contrib-python (c:\\users\\biaspaltsau_aa\\appdata\\roaming\\python\\python39\\site-packages)\n",
      "WARNING: Ignoring invalid distribution -illow (c:\\users\\biaspaltsau_aa\\appdata\\roaming\\python\\python39\\site-packages)\n",
      "WARNING: Ignoring invalid distribution -pencv-python (c:\\users\\biaspaltsau_aa\\appdata\\roaming\\python\\python39\\site-packages)\n",
      "WARNING: Ignoring invalid distribution -pencv-contrib-python (c:\\users\\biaspaltsau_aa\\appdata\\roaming\\python\\python39\\site-packages)\n",
      "WARNING: Ignoring invalid distribution -illow (c:\\users\\biaspaltsau_aa\\appdata\\roaming\\python\\python39\\site-packages)\n"
     ]
    }
   ],
   "source": [
    "!pip install hyperopt"
   ]
  },
  {
   "cell_type": "code",
   "execution_count": 2,
   "metadata": {},
   "outputs": [],
   "source": [
    "#необходимые импорты\n",
    "from hyperopt import fmin, tpe, rand, hp, STATUS_OK, Trials\n",
    "import numpy as np\n",
    "import matplotlib.pyplot as plt\n",
    "from sklearn.datasets import load_iris\n",
    "from sklearn.model_selection import train_test_split\n",
    "\n",
    "%matplotlib inline"
   ]
  },
  {
   "cell_type": "markdown",
   "metadata": {},
   "source": [
    "## Вводные"
   ]
  },
  {
   "attachments": {},
   "cell_type": "markdown",
   "metadata": {},
   "source": [
    "Думаю, все знают, для чего мы перебираем комбинации (или \"тюним\" модель) параметров - значения по умолчанию, а так же эмпирические догадки практически всегда не дают желаемой/оптимальной точности, показывают далеко не лучшие результаты в соревнованиях и проде. Примеры - ваши домашние работы."
   ]
  },
  {
   "cell_type": "markdown",
   "metadata": {},
   "source": [
    "С целью уменьшения количества итераций и времени перебора конфигураций были придуманы адаптивные байесовские методы. Они, в отличие от простого GridSearch(который работает в дискретном пространстве и имеет шанс пропустить оптимум, лежащий между ячейками сетки, как в примере ниже. Даже RandomSearch будет лучше), берут следующее приближение и вычисляют в нем значение функции опираясь на предыдущие проверки. Концепция заключается в нахождении некоторого баланса между поиском более удачных комбинаций около уже известных \"хороших\" точек и проверкой значений в неизведанных областях, где с ненулевой вероятностью могут находиться решения получше. Мне встречалось обозначение \"learning vs earning\" или \"дилеммой explore-exploit\" - можете блеснуть знаниями в кругу друзей или на митапе: обилие иностранных слов и терминов может даже помочь в трудоустройстве без собеседования(шутка - никогда не стоит говорить о том, в чем сам не разобрался. Перед использованием прогуглить). <br/>\n",
    "Данная методика позволяет сходиться к более удачным решениям и за более короткий срок(ведь на больших датасетах прогон одной модели может обходитсья достаточно дорого в разрезе вычислительных мощностей). <br/>\n"
   ]
  },
  {
   "cell_type": "markdown",
   "metadata": {},
   "source": [
    "В данной библиотеке реализован интересный аглоритм для оптимизации TPE, или Tree-Structured Parzen Estimators. Подробно с ним можно ознакомиться [по ссылке](https://papers.nips.cc/paper/4443-algorithms-for-hyper-parameter-optimization.pdf). Если коротко, то TPE берет некоторое пространство поиска с разными плотнотями вероятностей и накладывает на них нормальное(Гауссовское) распределение со смещением, равным координатам новой точки. "
   ]
  },
  {
   "cell_type": "markdown",
   "metadata": {},
   "source": [
    "## К столу, джентльмены"
   ]
  },
  {
   "cell_type": "markdown",
   "metadata": {},
   "source": [
    "Основным оружием в арсенале Hyperopt'a является функция fmin(первая в импортах). Она принимает в себя функцию(с несколькими аргументами, имеющими значения по умолчанию) и возвращает оптимальные параметры, с которыми значение функции минимально(если вам надо максимизировать, то очевидно, что нужно сменить знак вашей функции на противоположный). Подробнее об аргументах:\n",
    "* Функция, которую надо минимизировать\n",
    "* Пространство поиска параметров\n",
    "* Объект для хранения истории поиска\n",
    "* Алгоритм поиска\n"
   ]
  },
  {
   "cell_type": "markdown",
   "metadata": {},
   "source": [
    "Тот самый алгоритм поиска TPE можно заменить при желании на RandomSearch. Достаточно указать \n",
    "```python\n",
    "algo=hyperopt.tpe.suggest \n",
    "```\n",
    "или\n",
    "```python\n",
    "algo=hyperopt.random.suggest\n",
    "```"
   ]
  },
  {
   "cell_type": "markdown",
   "metadata": {},
   "source": [
    "Неоспоримый плюс TPE в том, что он может работать со странными и непонятными пространствами: пусть один гиперпараметр непрерывный, другой дискретный, иной и вовсе категориальный. Не обязательно даже, чтобы данная комбинация имела хоть какой то смысл. \n",
    "\n"
   ]
  },
  {
   "cell_type": "markdown",
   "metadata": {},
   "source": [
    "Пространство поиска тоже задается весьма легко. Нужно всего лишь указать тип распределения и его границы. Приведу тут основные типы, с остальными можно ознакомиться в репозитории самой библиотеки.\n",
    "```python\n",
    "hp.choice() #равновероятный выбор из множества\n",
    "hp.randint() #случайное целое число; random seed, например, т.к. нет корреляции между разноудаленными значениями\n",
    "hp.uniform() #равномерное непрерывное распределение\n",
    "hp.normal() #нормальное непрерывное распределение\n",
    "hp.lognormal() #логнормальное непрерывное распределение\n",
    "```"
   ]
  },
  {
   "cell_type": "markdown",
   "metadata": {},
   "source": [
    "Тут есть интересный трюк: можно перебирать не только параметры модели, но и сами модели. Однако не вижу смысла на нем останавливаться, так как обычно данные готовятся под конкретную модель; однако ж все таки можно упороться, сделать для каждой свои преобразования, фичи, как описывает пайплайны один из туториалов, смешать в одно и оставить считаться на ночь(главное ошибку глупую не допустить, кхе, были прецеденты). Вот простой пример:\n",
    "```python\n",
    "space = hp.choice('classifier_type', [\n",
    "    {\n",
    "        'type': 'naive_bayes',\n",
    "    },\n",
    "    {\n",
    "        'type': 'svm',\n",
    "        'C': hp.lognormal('svm_C', 0, 1),\n",
    "        'kernel': hp.choice('svm_kernel', [\n",
    "            {'ktype': 'linear'},\n",
    "            {'ktype': 'RBF', 'width': hp.lognormal('svm_rbf_width', 0, 1)},\n",
    "            ]),\n",
    "    },\n",
    "    {\n",
    "        'type': 'dtree',\n",
    "        'criterion': hp.choice('dtree_criterion', ['gini', 'entropy']),\n",
    "        'max_depth': hp.choice('dtree_max_depth',\n",
    "            [None, hp.qlognormal('dtree_max_depth_int', 3, 1, 1)]),\n",
    "    },\n",
    "    ])\n",
    "```"
   ]
  },
  {
   "cell_type": "markdown",
   "metadata": {},
   "source": [
    "И да, можно сделать ТОТ САМЫЙ *AutoML* :)"
   ]
  },
  {
   "cell_type": "markdown",
   "metadata": {},
   "source": [
    "\"Объект для хранения истории поиска\", он же Trials, позволяет нам сохранять и переносить, а так же прерывать и продолжать процесс перебора и поиска гиперпараматров. Очень удобно, кстати  - новый создаем командой\n",
    "```Python\n",
    "trials = Trials()\n",
    "```\n",
    ", а если захотим продолжить со старого места(скажем, накинуть еще 100 итераций или же если остановили kernel, так как подумали, что соверишили ошибку/любая другая ситуация), то просто не будем пересоздавать объект, а укажем старый объект аргументом вызываемой функции *fmin*\n",
    "```Python\n",
    "best = fmin(objective,\n",
    "    space=hp.uniform('x', -10, 10),\n",
    "    algo=tpe.suggest,\n",
    "    max_evals=100,\n",
    "    trials=trials)\n",
    "```"
   ]
  },
  {
   "cell_type": "markdown",
   "metadata": {},
   "source": [
    "Здесь стоит отметить, что прерывать поиск раньше заданного количества итераций не стоит. Это объясняется тем, что при поиске и выборе новых точек для проверки одним из критериев как раз и выступает оставшийся \"баланс\" проверок(эволюций). Сначала пространство замеряется в разных точках(условно бьется), а затем уточняется. Поэтому *trials* могут стать вашими друзьями. Вместе с этим они хранят все результаты вычисления заданной функции и статусы выполнения(можно отлавливать ошибки). \n",
    "<br/>Поставили на ночь перебор, утром остановили, сделали pickle, ушли на работу, вернулись и продолжили перебор после загрузки trials. Вещь!"
   ]
  },
  {
   "cell_type": "markdown",
   "metadata": {},
   "source": [
    "И, наконец, самое главное. Сама функция для оптимизации. Она должна принимать словарь значений гиперпараметров и возвращать значение целевой функции и, по желанию, статус. Простой пример\n",
    "```Python\n",
    "def objective(x):\n",
    "    return {'loss': x ** 2, 'status': STATUS_OK }\n",
    "```\n",
    ", где STATUS_OK - объект, импортированный нами в начале(см. импорты). "
   ]
  },
  {
   "cell_type": "markdown",
   "metadata": {},
   "source": [
    "Посмотрим на игрушечный пример(они нагляднее и понятнее всего, чего уж спорить) и сравним random и tpe."
   ]
  },
  {
   "cell_type": "code",
   "execution_count": 6,
   "metadata": {},
   "outputs": [
    {
     "name": "stdout",
     "output_type": "stream",
     "text": [
      "100%|██████████| 100/100 [00:00<00:00, 480.77trial/s, best loss: -0.9604575772157702]\n",
      "TPE result:  {'x': -1.9116217036966627, 'y': 0.17813393704386962}\n",
      "100%|██████████| 100/100 [00:00<00:00, 3124.88trial/s, best loss: -0.5313823838574135]\n",
      "random result:  {'x': -1.6208831566158977, 'y': -0.5699895044692143}\n"
     ]
    }
   ],
   "source": [
    "#зададим пространство поиска\n",
    "space = [hp.uniform('x', -5, 5), hp.normal('y', -2, 2)] \n",
    "\n",
    "#укажем objective-функцию\n",
    "def f(args):\n",
    "    x, y = args\n",
    "    return (x+2)**2+y**2-1\n",
    "\n",
    "best = fmin(f, space, algo = tpe.suggest, max_evals=100)\n",
    "print ('TPE result: ', best)\n",
    "\n",
    "best = fmin(f, space, algo = rand.suggest, max_evals=100)\n",
    "print ('random result: ', best)"
   ]
  },
  {
   "cell_type": "markdown",
   "metadata": {},
   "source": [
    "Тут очевидно, что оптимум достигается в точке (-2.0; 0). Наиболее подходящую комбинацию аргументов (где дотигается минимальное значение функции) нашел именно TPE. То же применимо и к сложным многомерным структурам. <br/> Более того - предположим, что функция имеет локальные минимумы. При неудачном начальном приближении градиентный спуск не может выбраться из низины без использования специальных техник. Посмотрим, что сможет показать Hyperopt."
   ]
  },
  {
   "cell_type": "code",
   "execution_count": 7,
   "metadata": {
    "collapsed": true
   },
   "outputs": [],
   "source": [
    "def f(args):\n",
    "    x = args\n",
    "    if x>=3:\n",
    "        return (x-8.3)**2\n",
    "    else:\n",
    "        return (x+2)**2+3"
   ]
  },
  {
   "cell_type": "code",
   "execution_count": 8,
   "metadata": {},
   "outputs": [
    {
     "name": "stdout",
     "output_type": "stream",
     "text": [
      "100%|██████████| 50/50 [00:00<00:00, 1111.17trial/s, best loss: 0.0011247537764133713]\n",
      "TPE result:  {'x': 8.266462651022877}\n",
      "100%|██████████| 50/50 [00:00<00:00, 4545.49trial/s, best loss: 0.7481126730543572]\n",
      "random result:  {'x': 7.435064931307352}\n"
     ]
    },
    {
     "data": {
      "image/png": "[encoded data removed]",
      "text/plain": [
       "<Figure size 432x288 with 1 Axes>"
      ]
     },
     "metadata": {
      "needs_background": "light"
     },
     "output_type": "display_data"
    }
   ],
   "source": [
    "x = np.linspace(-5, 10, 1000)\n",
    "y = [f(i) for i in x]\n",
    "\n",
    "plt.plot(x, y);\n",
    "\n",
    "space = hp.normal('x', -10, 10)\n",
    "\n",
    "best = fmin(f, space, algo = tpe.suggest, max_evals=50)\n",
    "print ('TPE result: ', best)\n",
    "\n",
    "best = fmin(f, space, algo = rand.suggest, max_evals=50)\n",
    "print ('random result: ', best)"
   ]
  },
  {
   "cell_type": "markdown",
   "metadata": {},
   "source": [
    "Любое начальное приближение x < 3 давало бы другой оптимум в разрезе градиентного спуска. <br/>\n",
    "Удивляет и RandomSearch - он так же попался на уловку. Правда, для этого пришлось снизить количество итераций. "
   ]
  },
  {
   "cell_type": "markdown",
   "metadata": {},
   "source": [
    "## Заключение\n",
    "Hyperopt - мощное средство в руках умелого Data Scientist'a. Данная библиотека наиболее точно оценивает оптимальные параметры для заданных моделей, позволяет улучшать их результаты. С умным алгоритмом оптимизации TPE/байесовской оптимизацией ей не страшны локальные минимумы, ловушки разрывных распределений(причем, любых) и прочие узкие места остальных алгоритмов. "
   ]
  },
  {
   "cell_type": "code",
   "execution_count": 1,
   "metadata": {},
   "outputs": [],
   "source": [
    "from tqdm import tqdm\n",
    "import time"
   ]
  },
  {
   "cell_type": "code",
   "execution_count": 2,
   "metadata": {},
   "outputs": [
    {
     "name": "stderr",
     "output_type": "stream",
     "text": [
      "100%|██████████| 10/10 [00:10<00:00,  1.01s/it]\n"
     ]
    }
   ],
   "source": [
    "for i in tqdm(range(10)):\n",
    "    time.sleep(1.)"
   ]
  },
  {
   "cell_type": "code",
   "execution_count": null,
   "metadata": {},
   "outputs": [],
   "source": []
  }
 ],
 "metadata": {
  "anaconda-cloud": {},
  "kernelspec": {
   "display_name": "base",
   "language": "python",
   "name": "python3"
  },
  "language_info": {
   "codemirror_mode": {
    "name": "ipython",
    "version": 3
   },
   "file_extension": ".py",
   "mimetype": "text/x-python",
   "name": "python",
   "nbconvert_exporter": "python",
   "pygments_lexer": "ipython3",
   "version": "3.9.7"
  },
  "vscode": {
   "interpreter": {
    "hash": "5114a98448da61d3c8717f10dbe3cc222d3772cc8c6832b6d605cb65183e3f6d"
   }
  }
 },
 "nbformat": 4,
 "nbformat_minor": 1
}
