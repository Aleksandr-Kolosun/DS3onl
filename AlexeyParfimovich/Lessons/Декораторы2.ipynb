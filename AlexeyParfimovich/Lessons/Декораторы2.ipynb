{
 "cells": [
  {
   "cell_type": "code",
   "execution_count": 1,
   "id": "8966d924",
   "metadata": {},
   "outputs": [],
   "source": [
    "from datetime import datetime\n",
    "\n",
    "def timeIt(func):\n",
    "    def wrapped(*args, **kwargs):\n",
    "        start = datetime.now()\n",
    "        result = func(*args, **kwargs)\n",
    "        print(datetime.now() - start)\n",
    "        return result\n",
    "    return wrapped"
   ]
  },
  {
   "cell_type": "code",
   "execution_count": 2,
   "id": "b8f2d908",
   "metadata": {},
   "outputs": [
    {
     "name": "stdout",
     "output_type": "stream",
     "text": [
      "0:00:09.045311\n",
      "39\n"
     ]
    }
   ],
   "source": [
    "@timeIt\n",
    "def test():\n",
    "    r = 0\n",
    "    for i in range(0, 10000):\n",
    "        for j in range(0, 10000):\n",
    "            r = (r + (i * j) % 100) % 47\n",
    "    return r\n",
    "\n",
    "\n",
    "print(test())"
   ]
  },
  {
   "cell_type": "code",
   "execution_count": 3,
   "id": "aef06020",
   "metadata": {},
   "outputs": [],
   "source": [
    "n = 50000000\n",
    "@timeIt\n",
    "def func(n):\n",
    "    while n >1:\n",
    "        n-=1\n",
    "    return n"
   ]
  },
  {
   "cell_type": "code",
   "execution_count": 4,
   "id": "30659ada",
   "metadata": {},
   "outputs": [
    {
     "name": "stdout",
     "output_type": "stream",
     "text": [
      "0:00:02.383998\n"
     ]
    }
   ],
   "source": [
    "a = func(n)"
   ]
  },
  {
   "cell_type": "code",
   "execution_count": null,
   "id": "b697e18e",
   "metadata": {},
   "outputs": [],
   "source": []
  },
  {
   "cell_type": "markdown",
   "id": "5fd194a8",
   "metadata": {},
   "source": [
    "Благодаря тому, что python в отличии непример от C++ поддерживает вложенные функции, ПОЯВИЛИСЬ декораторы которые являються обертками над функцией."
   ]
  },
  {
   "cell_type": "code",
   "execution_count": 21,
   "id": "1db22a14",
   "metadata": {},
   "outputs": [
    {
     "name": "stdout",
     "output_type": "stream",
     "text": [
      "0:00:00.006028\n",
      "0:00:00.005992\n"
     ]
    }
   ],
   "source": [
    "@timeIt\n",
    "def One(rng):\n",
    "    l = []\n",
    "    for i in range(rng):\n",
    "        if i % 2 == 0:\n",
    "            l.append(i)\n",
    "    return l\n",
    "\n",
    "@timeIt\n",
    "def Two(rng):\n",
    "    l = [i for i in range(rng) if i % 2 == 0]\n",
    "    return l\n",
    "\n",
    "\n",
    "l1 = One(100000)\n",
    "la = Two(100000)"
   ]
  },
  {
   "cell_type": "code",
   "execution_count": 5,
   "id": "64471585",
   "metadata": {},
   "outputs": [
    {
     "name": "stdout",
     "output_type": "stream",
     "text": [
      "('name', 'FD')\n",
      "0:00:00.002027\n"
     ]
    }
   ],
   "source": [
    "def timeItArg(*arg):\n",
    "    print(arg)\n",
    "    def outer(func):\n",
    "        def wrapped(*args, **kwargs):\n",
    "            start = datetime.now()\n",
    "            result = func(*args, **kwargs)\n",
    "            print(datetime.now() - start)\n",
    "            return result\n",
    "        return wrapped\n",
    "    return outer\n",
    "\n",
    "\n",
    "@timeItArg('name','FD')\n",
    "def OneArg(rng):\n",
    "    l = []\n",
    "    for i in range(rng):\n",
    "        if i % 2 == 0:\n",
    "            l.append(i)\n",
    "    return l\n",
    "\n",
    "l3 = OneArg(10000)\n",
    "#l4 = timeItArg('name')(OneArg)(10000) #без декоратора"
   ]
  },
  {
   "cell_type": "code",
   "execution_count": 27,
   "id": "a51bd0ae",
   "metadata": {},
   "outputs": [
    {
     "name": "stdout",
     "output_type": "stream",
     "text": [
      "('name',)\n",
      "0:00:00.006023\n",
      "0:00:00.006023\n"
     ]
    }
   ],
   "source": [
    "l4 = timeItArg('name')(OneArg)(100000) #без декоратора"
   ]
  },
  {
   "cell_type": "code",
   "execution_count": 28,
   "id": "72793bbd",
   "metadata": {},
   "outputs": [
    {
     "name": "stdout",
     "output_type": "stream",
     "text": [
      "0:00:07.690122\n",
      "39\n"
     ]
    }
   ],
   "source": [
    "\n",
    "@timeIt\n",
    "def test():\n",
    "    r = 0\n",
    "    for i in range(0, 10000):\n",
    "        for j in range(0, 10000):\n",
    "            r = (r + (i * j) % 100) % 47\n",
    "    return r\n",
    "\n",
    "\n",
    "print(test())"
   ]
  }
 ],
 "metadata": {
  "kernelspec": {
   "display_name": "Python 3.9.7 64-bit",
   "language": "python",
   "name": "python3"
  },
  "language_info": {
   "codemirror_mode": {
    "name": "ipython",
    "version": 3
   },
   "file_extension": ".py",
   "mimetype": "text/x-python",
   "name": "python",
   "nbconvert_exporter": "python",
   "pygments_lexer": "ipython3",
   "version": "3.9.7"
  },
  "vscode": {
   "interpreter": {
    "hash": "cf92aa13fedf815d5c8dd192b8d835913fde3e8bc926b2a0ad6cc74ef2ba3ca2"
   }
  }
 },
 "nbformat": 4,
 "nbformat_minor": 5
}
