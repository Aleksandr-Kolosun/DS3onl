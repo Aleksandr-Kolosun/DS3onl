{
 "cells": [
  {
   "cell_type": "markdown",
   "metadata": {
    "colab_type": "text",
    "id": "Ah7dy1kFL2H9"
   },
   "source": [
    "# Распознавание рукописных цифр из набора данных MNIST"
   ]
  },
  {
   "cell_type": "code",
   "execution_count": 3,
   "metadata": {
    "colab": {},
    "colab_type": "code",
    "id": "qrfd6FzSLrE2"
   },
   "outputs": [],
   "source": [
    "from tensorflow.keras.datasets import mnist\n",
    "from tensorflow.python.keras.models import Sequential\n",
    "from tensorflow.python.keras.layers import Dense\n",
    "from tensorflow.python.keras import utils\n",
    "import numpy as np\n",
    "import matplotlib.pyplot as plt\n",
    "#from scipy.misc import toimage\n",
    "%matplotlib inline "
   ]
  },
  {
   "cell_type": "markdown",
   "metadata": {
    "colab_type": "text",
    "id": "xiurjCBVMDTG"
   },
   "source": [
    "## Подготовка данных для обучения сети"
   ]
  },
  {
   "cell_type": "markdown",
   "metadata": {
    "colab_type": "text",
    "id": "1yDF75Cx8VPz"
   },
   "source": [
    "**Загружаем набор данных с рукописными цифрами**"
   ]
  },
  {
   "cell_type": "code",
   "execution_count": 4,
   "metadata": {
    "colab": {},
    "colab_type": "code",
    "id": "E5L3LUIi8PDV"
   },
   "outputs": [
    {
     "name": "stdout",
     "output_type": "stream",
     "text": [
      "Downloading data from https://storage.googleapis.com/tensorflow/tf-keras-datasets/mnist.npz\n",
      "11490434/11490434 [==============================] - 8s 1us/step\n"
     ]
    }
   ],
   "source": [
    "(X_train, y_train), (X_test, y_test) = mnist.load_data()"
   ]
  },
  {
   "cell_type": "markdown",
   "metadata": {
    "colab_type": "text",
    "id": "7uXTnIojJLbl"
   },
   "source": [
    "**Преобразование размерности данных в наборе**"
   ]
  },
  {
   "cell_type": "code",
   "execution_count": 5,
   "metadata": {
    "colab": {},
    "colab_type": "code",
    "id": "GBAqLKjGJJ-V"
   },
   "outputs": [],
   "source": [
    "X_train = X_train.reshape(60000, 784)\n",
    "X_test = X_test.reshape(10000, 784)"
   ]
  },
  {
   "cell_type": "markdown",
   "metadata": {
    "colab_type": "text",
    "id": "hDaHO5LgJYxU"
   },
   "source": [
    "**Нормализация данных**"
   ]
  },
  {
   "cell_type": "code",
   "execution_count": 6,
   "metadata": {
    "colab": {},
    "colab_type": "code",
    "id": "rscaAuBNJdq9"
   },
   "outputs": [],
   "source": [
    "X_train = X_train.astype('float32')\n",
    "X_test = X_test.astype('float32')\n",
    "X_train /= 255\n",
    "X_test /= 255"
   ]
  },
  {
   "cell_type": "markdown",
   "metadata": {
    "colab_type": "text",
    "id": "KRcMlNzqJk1t"
   },
   "source": [
    "**Работа с правильными ответами**"
   ]
  },
  {
   "cell_type": "code",
   "execution_count": 7,
   "metadata": {
    "colab": {
     "base_uri": "https://localhost:8080/",
     "height": 34
    },
    "colab_type": "code",
    "executionInfo": {
     "elapsed": 616,
     "status": "ok",
     "timestamp": 1521113381879,
     "user": {
      "displayName": "Andrey Sozykin",
      "photoUrl": "//lh5.googleusercontent.com/-ErNH158Vx74/AAAAAAAAAAI/AAAAAAAAALA/FLh7rOkXgJs/s50-c-k-no/photo.jpg",
      "userId": "101492825683836041366"
     },
     "user_tz": -300
    },
    "id": "A5lKe_syJqPu",
    "outputId": "d205b482-7bb3-4d7f-c7c8-1c9533183fe5"
   },
   "outputs": [
    {
     "name": "stdout",
     "output_type": "stream",
     "text": [
      "5\n"
     ]
    }
   ],
   "source": [
    "n = 100\n",
    "print(y_train[n])"
   ]
  },
  {
   "cell_type": "markdown",
   "metadata": {
    "colab_type": "text",
    "id": "zqJ9GA1kJxBF"
   },
   "source": [
    "**Преобразуем метки в формат one hot encoding**"
   ]
  },
  {
   "cell_type": "code",
   "execution_count": 10,
   "metadata": {
    "colab": {},
    "colab_type": "code",
    "id": "zQnasUyyJ3cG"
   },
   "outputs": [],
   "source": [
    "from keras.utils import to_categorical\n",
    "Y_train = to_categorical(y_train, 10)\n",
    "Y_test = to_categorical(y_test, 10)"
   ]
  },
  {
   "cell_type": "markdown",
   "metadata": {
    "colab_type": "text",
    "id": "KfuqlyjHJ_ye"
   },
   "source": [
    "**Правильный ответ в формате one hot encoding**"
   ]
  },
  {
   "cell_type": "code",
   "execution_count": 11,
   "metadata": {
    "colab": {
     "base_uri": "https://localhost:8080/",
     "height": 35
    },
    "colab_type": "code",
    "executionInfo": {
     "elapsed": 664,
     "status": "ok",
     "timestamp": 1521020333192,
     "user": {
      "displayName": "Andrey Sozykin",
      "photoUrl": "//lh5.googleusercontent.com/-ErNH158Vx74/AAAAAAAAAAI/AAAAAAAAALA/FLh7rOkXgJs/s50-c-k-no/photo.jpg",
      "userId": "101492825683836041366"
     },
     "user_tz": -300
    },
    "id": "9zUfd1aeKH3e",
    "outputId": "f0422b67-7b91-4ffc-d520-ecb664600153"
   },
   "outputs": [
    {
     "name": "stdout",
     "output_type": "stream",
     "text": [
      "[0. 0. 0. 0. 0. 1. 0. 0. 0. 0.]\n"
     ]
    }
   ],
   "source": [
    "print(Y_train[n])"
   ]
  },
  {
   "cell_type": "markdown",
   "metadata": {
    "colab_type": "text",
    "id": "BmTr_lXTKNbN"
   },
   "source": [
    "## Создаем нейронную сеть"
   ]
  },
  {
   "cell_type": "markdown",
   "metadata": {
    "colab_type": "text",
    "id": "fV_igNZuMNXe"
   },
   "source": [
    "**Создаем последовательную модель**"
   ]
  },
  {
   "cell_type": "code",
   "execution_count": 12,
   "metadata": {
    "colab": {},
    "colab_type": "code",
    "id": "D-jPYYxIKQkt"
   },
   "outputs": [],
   "source": [
    "model = Sequential()"
   ]
  },
  {
   "cell_type": "markdown",
   "metadata": {
    "colab_type": "text",
    "id": "Q3QzIVtBMQRG"
   },
   "source": [
    "**Добавляем уровни сети**"
   ]
  },
  {
   "cell_type": "code",
   "execution_count": 13,
   "metadata": {
    "colab": {},
    "colab_type": "code",
    "id": "kYVSvpNIMSnG"
   },
   "outputs": [],
   "source": [
    "model.add(Dense(800, input_dim=784, activation=\"relu\"))\n",
    "model.add(Dense(10, activation=\"softmax\"))"
   ]
  },
  {
   "cell_type": "markdown",
   "metadata": {
    "colab_type": "text",
    "id": "G__m76T-KWhd"
   },
   "source": [
    "**Компилируем сеть**"
   ]
  },
  {
   "cell_type": "code",
   "execution_count": 14,
   "metadata": {
    "colab": {
     "base_uri": "https://localhost:8080/",
     "height": 235
    },
    "colab_type": "code",
    "executionInfo": {
     "elapsed": 674,
     "status": "ok",
     "timestamp": 1521025158074,
     "user": {
      "displayName": "Andrey Sozykin",
      "photoUrl": "//lh5.googleusercontent.com/-ErNH158Vx74/AAAAAAAAAAI/AAAAAAAAALA/FLh7rOkXgJs/s50-c-k-no/photo.jpg",
      "userId": "101492825683836041366"
     },
     "user_tz": -300
    },
    "id": "PTcbSxchKZjd",
    "outputId": "e810d96a-7509-4a68-bda9-9c62fd7a9310"
   },
   "outputs": [
    {
     "name": "stdout",
     "output_type": "stream",
     "text": [
      "Model: \"sequential\"\n",
      "_________________________________________________________________\n",
      "Layer (type)                 Output Shape              Param #   \n",
      "=================================================================\n",
      "dense (Dense)                (None, 800)               628000    \n",
      "_________________________________________________________________\n",
      "dense_1 (Dense)              (None, 10)                8010      \n",
      "=================================================================\n",
      "Total params: 636,010\n",
      "Trainable params: 636,010\n",
      "Non-trainable params: 0\n",
      "_________________________________________________________________\n",
      "None\n"
     ]
    }
   ],
   "source": [
    "model.compile(loss=\"categorical_crossentropy\", optimizer=\"adam\", metrics=[\"accuracy\"])\n",
    "\n",
    "print(model.summary())"
   ]
  },
  {
   "cell_type": "markdown",
   "metadata": {
    "colab_type": "text",
    "id": "lspCHiaCKl72"
   },
   "source": [
    "## Обучаем нейронную сеть"
   ]
  },
  {
   "cell_type": "code",
   "execution_count": 15,
   "metadata": {
    "colab": {
     "base_uri": "https://localhost:8080/",
     "height": 944
    },
    "colab_type": "code",
    "executionInfo": {
     "elapsed": 38074,
     "status": "ok",
     "timestamp": 1521025198450,
     "user": {
      "displayName": "Andrey Sozykin",
      "photoUrl": "//lh5.googleusercontent.com/-ErNH158Vx74/AAAAAAAAAAI/AAAAAAAAALA/FLh7rOkXgJs/s50-c-k-no/photo.jpg",
      "userId": "101492825683836041366"
     },
     "user_tz": -300
    },
    "id": "H6EIXu1dKoju",
    "outputId": "b4255fb0-36f7-43fa-ab6c-cf0748c76844"
   },
   "outputs": [
    {
     "name": "stdout",
     "output_type": "stream",
     "text": [
      "Epoch 1/25\n",
      "240/240 - 2s - loss: 0.3096 - accuracy: 0.9116 - val_loss: 0.1554 - val_accuracy: 0.9573\n",
      "Epoch 2/25\n",
      "240/240 - 0s - loss: 0.1250 - accuracy: 0.9642 - val_loss: 0.1114 - val_accuracy: 0.9663\n",
      "Epoch 3/25\n",
      "240/240 - 0s - loss: 0.0820 - accuracy: 0.9768 - val_loss: 0.0973 - val_accuracy: 0.9703\n",
      "Epoch 4/25\n",
      "240/240 - 0s - loss: 0.0578 - accuracy: 0.9832 - val_loss: 0.0771 - val_accuracy: 0.9750\n",
      "Epoch 5/25\n",
      "240/240 - 0s - loss: 0.0406 - accuracy: 0.9886 - val_loss: 0.0727 - val_accuracy: 0.9776\n",
      "Epoch 6/25\n",
      "240/240 - 0s - loss: 0.0301 - accuracy: 0.9923 - val_loss: 0.0769 - val_accuracy: 0.9760\n",
      "Epoch 7/25\n",
      "240/240 - 1s - loss: 0.0233 - accuracy: 0.9939 - val_loss: 0.0725 - val_accuracy: 0.9781\n",
      "Epoch 8/25\n",
      "240/240 - 0s - loss: 0.0167 - accuracy: 0.9962 - val_loss: 0.0692 - val_accuracy: 0.9793\n",
      "Epoch 9/25\n",
      "240/240 - 0s - loss: 0.0126 - accuracy: 0.9975 - val_loss: 0.0728 - val_accuracy: 0.9789\n",
      "Epoch 10/25\n",
      "240/240 - 0s - loss: 0.0093 - accuracy: 0.9985 - val_loss: 0.0719 - val_accuracy: 0.9785\n",
      "Epoch 11/25\n",
      "240/240 - 0s - loss: 0.0066 - accuracy: 0.9993 - val_loss: 0.0719 - val_accuracy: 0.9791\n",
      "Epoch 12/25\n",
      "240/240 - 0s - loss: 0.0057 - accuracy: 0.9992 - val_loss: 0.0771 - val_accuracy: 0.9786\n",
      "Epoch 13/25\n",
      "240/240 - 0s - loss: 0.0041 - accuracy: 0.9996 - val_loss: 0.0735 - val_accuracy: 0.9800\n",
      "Epoch 14/25\n",
      "240/240 - 0s - loss: 0.0029 - accuracy: 0.9998 - val_loss: 0.0729 - val_accuracy: 0.9798\n",
      "Epoch 15/25\n",
      "240/240 - 0s - loss: 0.0019 - accuracy: 1.0000 - val_loss: 0.0715 - val_accuracy: 0.9811\n",
      "Epoch 16/25\n",
      "240/240 - 0s - loss: 0.0016 - accuracy: 0.9999 - val_loss: 0.0807 - val_accuracy: 0.9797\n",
      "Epoch 17/25\n",
      "240/240 - 0s - loss: 0.0061 - accuracy: 0.9984 - val_loss: 0.1063 - val_accuracy: 0.9733\n",
      "Epoch 18/25\n",
      "240/240 - 1s - loss: 0.0180 - accuracy: 0.9937 - val_loss: 0.0842 - val_accuracy: 0.9797\n",
      "Epoch 19/25\n",
      "240/240 - 0s - loss: 0.0073 - accuracy: 0.9980 - val_loss: 0.0846 - val_accuracy: 0.9803\n",
      "Epoch 20/25\n",
      "240/240 - 0s - loss: 0.0036 - accuracy: 0.9991 - val_loss: 0.0821 - val_accuracy: 0.9798\n",
      "Epoch 21/25\n",
      "240/240 - 0s - loss: 0.0013 - accuracy: 0.9998 - val_loss: 0.0786 - val_accuracy: 0.9812\n",
      "Epoch 22/25\n",
      "240/240 - 0s - loss: 5.4943e-04 - accuracy: 1.0000 - val_loss: 0.0774 - val_accuracy: 0.9813\n",
      "Epoch 23/25\n",
      "240/240 - 0s - loss: 3.4914e-04 - accuracy: 1.0000 - val_loss: 0.0785 - val_accuracy: 0.9818\n",
      "Epoch 24/25\n",
      "240/240 - 0s - loss: 3.0085e-04 - accuracy: 1.0000 - val_loss: 0.0797 - val_accuracy: 0.9816\n",
      "Epoch 25/25\n",
      "240/240 - 0s - loss: 2.5572e-04 - accuracy: 1.0000 - val_loss: 0.0802 - val_accuracy: 0.9818\n"
     ]
    }
   ],
   "source": [
    "history = model.fit(X_train, Y_train, batch_size=200, epochs=25, validation_split=0.2, verbose=2)"
   ]
  },
  {
   "cell_type": "markdown",
   "metadata": {
    "colab_type": "text",
    "id": "7Ainmp4ASA0_"
   },
   "source": [
    "## Оцениваем качество работы сети"
   ]
  },
  {
   "cell_type": "markdown",
   "metadata": {
    "colab_type": "text",
    "id": "njz1tmjxSSrw"
   },
   "source": [
    "**Качество работы сети на тестовых данных**"
   ]
  },
  {
   "cell_type": "code",
   "execution_count": 12,
   "metadata": {
    "colab": {
     "base_uri": "https://localhost:8080/",
     "height": 35
    },
    "colab_type": "code",
    "executionInfo": {
     "elapsed": 1215,
     "status": "ok",
     "timestamp": 1521025302151,
     "user": {
      "displayName": "Andrey Sozykin",
      "photoUrl": "//lh5.googleusercontent.com/-ErNH158Vx74/AAAAAAAAAAI/AAAAAAAAALA/FLh7rOkXgJs/s50-c-k-no/photo.jpg",
      "userId": "101492825683836041366"
     },
     "user_tz": -300
    },
    "id": "X7hvlEaySHfv",
    "outputId": "ded594f3-ad66-4d86-f116-4bf5ee944397"
   },
   "outputs": [
    {
     "name": "stdout",
     "output_type": "stream",
     "text": [
      "Точность работы на тестовых данных: 98.30%\n"
     ]
    }
   ],
   "source": [
    "scores = model.evaluate(X_test, Y_test, verbose=0)\n",
    "print(\"Точность работы на тестовых данных: %.2f%%\" % (scores[1]*100))"
   ]
  },
  {
   "cell_type": "markdown",
   "metadata": {
    "colab_type": "text",
    "id": "67czWh4PSXDG"
   },
   "source": [
    "**Графики качества во время обучения**"
   ]
  },
  {
   "cell_type": "code",
   "execution_count": 16,
   "metadata": {
    "colab": {
     "base_uri": "https://localhost:8080/",
     "height": 279
    },
    "colab_type": "code",
    "executionInfo": {
     "elapsed": 710,
     "status": "ok",
     "timestamp": 1521025786539,
     "user": {
      "displayName": "Andrey Sozykin",
      "photoUrl": "//lh5.googleusercontent.com/-ErNH158Vx74/AAAAAAAAAAI/AAAAAAAAALA/FLh7rOkXgJs/s50-c-k-no/photo.jpg",
      "userId": "101492825683836041366"
     },
     "user_tz": -300
    },
    "id": "qXtCHXiuScAe",
    "outputId": "9b19fc0b-b285-4a7f-d3e9-7c5907a5e36e"
   },
   "outputs": [
    {
     "ename": "KeyError",
     "evalue": "'acc'",
     "output_type": "error",
     "traceback": [
      "\u001b[1;31m---------------------------------------------------------------------------\u001b[0m",
      "\u001b[1;31mKeyError\u001b[0m                                  Traceback (most recent call last)",
      "Cell \u001b[1;32mIn[16], line 1\u001b[0m\n\u001b[1;32m----> 1\u001b[0m plt\u001b[39m.\u001b[39mplot(history\u001b[39m.\u001b[39mhistory[\u001b[39m'\u001b[39m\u001b[39macc\u001b[39m\u001b[39m'\u001b[39m], label\u001b[39m=\u001b[39m\u001b[39m'\u001b[39m\u001b[39mАккуратность на обучающем наборе\u001b[39m\u001b[39m'\u001b[39m)\n\u001b[0;32m      2\u001b[0m plt\u001b[39m.\u001b[39mplot(history\u001b[39m.\u001b[39mhistory[\u001b[39m'\u001b[39m\u001b[39mval_acc\u001b[39m\u001b[39m'\u001b[39m], label\u001b[39m=\u001b[39m\u001b[39m'\u001b[39m\u001b[39mАккуратность на проверочном наборе\u001b[39m\u001b[39m'\u001b[39m)\n\u001b[0;32m      3\u001b[0m plt\u001b[39m.\u001b[39mxlabel(\u001b[39m'\u001b[39m\u001b[39mЭпоха обучения\u001b[39m\u001b[39m'\u001b[39m)\n",
      "\u001b[1;31mKeyError\u001b[0m: 'acc'"
     ]
    }
   ],
   "source": [
    "plt.plot(history.history['acc'], label='Аккуратность на обучающем наборе')\n",
    "plt.plot(history.history['val_acc'], label='Аккуратность на проверочном наборе')\n",
    "plt.xlabel('Эпоха обучения')\n",
    "plt.ylabel('Аккуратность')\n",
    "plt.legend()\n",
    "plt.show()"
   ]
  },
  {
   "cell_type": "markdown",
   "metadata": {
    "colab_type": "text",
    "id": "7vMx5V5QMYlW"
   },
   "source": [
    "## Используем сеть для распознавания рукописных цифр"
   ]
  },
  {
   "cell_type": "code",
   "execution_count": 14,
   "metadata": {
    "colab": {},
    "colab_type": "code",
    "id": "-AGygAcPMd0G"
   },
   "outputs": [],
   "source": [
    "n_rec = 488"
   ]
  },
  {
   "cell_type": "markdown",
   "metadata": {
    "colab_type": "text",
    "id": "Lnft8V55M0Rc"
   },
   "source": [
    "**Меняем размерность изображения и нормализуем его**"
   ]
  },
  {
   "cell_type": "code",
   "execution_count": 15,
   "metadata": {
    "colab": {},
    "colab_type": "code",
    "id": "UKFWqSHtM7Nf"
   },
   "outputs": [],
   "source": [
    "x = X_test[n_rec]\n",
    "x = np.expand_dims(x, axis=0)\n"
   ]
  },
  {
   "cell_type": "markdown",
   "metadata": {
    "colab_type": "text",
    "id": "bMruIcf2NHlN"
   },
   "source": [
    "**Запускаем распознавание**"
   ]
  },
  {
   "cell_type": "code",
   "execution_count": 16,
   "metadata": {
    "colab": {},
    "colab_type": "code",
    "id": "Ap72-9_kNKU2"
   },
   "outputs": [],
   "source": [
    "prediction = model.predict(x)\n"
   ]
  },
  {
   "cell_type": "markdown",
   "metadata": {
    "colab_type": "text",
    "id": "2Gldpmn2NQ6-"
   },
   "source": [
    "**Печатаем результаты распознавания**"
   ]
  },
  {
   "cell_type": "code",
   "execution_count": 17,
   "metadata": {
    "colab": {
     "base_uri": "https://localhost:8080/",
     "height": 53
    },
    "colab_type": "code",
    "executionInfo": {
     "elapsed": 643,
     "status": "ok",
     "timestamp": 1521020409283,
     "user": {
      "displayName": "Andrey Sozykin",
      "photoUrl": "//lh5.googleusercontent.com/-ErNH158Vx74/AAAAAAAAAAI/AAAAAAAAALA/FLh7rOkXgJs/s50-c-k-no/photo.jpg",
      "userId": "101492825683836041366"
     },
     "user_tz": -300
    },
    "id": "P7opRiSZNUku",
    "outputId": "a556cfd1-d0fa-4d72-eb7a-3964cfba9158"
   },
   "outputs": [
    {
     "name": "stdout",
     "output_type": "stream",
     "text": [
      "[[1.9918456e-11 8.2595373e-13 1.2210451e-10 2.7252136e-09 2.1977241e-06\n",
      "  2.1778244e-13 2.4081031e-14 1.2990685e-04 6.6416298e-08 9.9986780e-01]]\n"
     ]
    }
   ],
   "source": [
    "print(prediction)"
   ]
  },
  {
   "cell_type": "markdown",
   "metadata": {
    "colab_type": "text",
    "id": "LQTiyEM3NfRG"
   },
   "source": [
    "**Преобразуем результаты из формата one hot encoding**"
   ]
  },
  {
   "cell_type": "code",
   "execution_count": 18,
   "metadata": {
    "colab": {
     "base_uri": "https://localhost:8080/",
     "height": 35
    },
    "colab_type": "code",
    "executionInfo": {
     "elapsed": 654,
     "status": "ok",
     "timestamp": 1521020416057,
     "user": {
      "displayName": "Andrey Sozykin",
      "photoUrl": "//lh5.googleusercontent.com/-ErNH158Vx74/AAAAAAAAAAI/AAAAAAAAALA/FLh7rOkXgJs/s50-c-k-no/photo.jpg",
      "userId": "101492825683836041366"
     },
     "user_tz": -300
    },
    "id": "XVC_dTGqNohG",
    "outputId": "32055ec9-144b-4e9b-e8cf-60e4cdf9cc30"
   },
   "outputs": [
    {
     "name": "stdout",
     "output_type": "stream",
     "text": [
      "9\n"
     ]
    }
   ],
   "source": [
    "prediction = np.argmax(prediction)\n",
    "print(prediction)"
   ]
  },
  {
   "cell_type": "markdown",
   "metadata": {
    "colab_type": "text",
    "id": "zJy8tKjuNyD2"
   },
   "source": [
    "**Печатаем правильный ответ**"
   ]
  },
  {
   "cell_type": "code",
   "execution_count": 19,
   "metadata": {
    "colab": {
     "base_uri": "https://localhost:8080/",
     "height": 35
    },
    "colab_type": "code",
    "executionInfo": {
     "elapsed": 642,
     "status": "ok",
     "timestamp": 1521020419023,
     "user": {
      "displayName": "Andrey Sozykin",
      "photoUrl": "//lh5.googleusercontent.com/-ErNH158Vx74/AAAAAAAAAAI/AAAAAAAAALA/FLh7rOkXgJs/s50-c-k-no/photo.jpg",
      "userId": "101492825683836041366"
     },
     "user_tz": -300
    },
    "id": "0zoGlCZWN2Id",
    "outputId": "917bafc5-a99e-4342-b18f-009b6f809a6b"
   },
   "outputs": [
    {
     "name": "stdout",
     "output_type": "stream",
     "text": [
      "9\n"
     ]
    }
   ],
   "source": [
    "print(y_test[n_rec])"
   ]
  },
  {
   "cell_type": "markdown",
   "metadata": {
    "colab_type": "text",
    "id": "x35i8yNv9rnM"
   },
   "source": []
  }
 ],
 "metadata": {
  "accelerator": "GPU",
  "colab": {
   "name": "Mnist_evaluation.ipynb",
   "provenance": [
    {
     "file_id": "1VeEeArZAekRLCx2AwZw1v9_FyA58gaaR",
     "timestamp": 1521009715627
    }
   ],
   "version": "0.3.2"
  },
  "kernelspec": {
   "display_name": "base",
   "language": "python",
   "name": "python3"
  },
  "language_info": {
   "codemirror_mode": {
    "name": "ipython",
    "version": 3
   },
   "file_extension": ".py",
   "mimetype": "text/x-python",
   "name": "python",
   "nbconvert_exporter": "python",
   "pygments_lexer": "ipython3",
   "version": "3.9.7 (default, Sep 16 2021, 16:59:28) [MSC v.1916 64 bit (AMD64)]"
  },
  "vscode": {
   "interpreter": {
    "hash": "cceda5113f07d4047741cabbb211c044d7f16bbd82324456effbfb8d7e8a3a9e"
   }
  }
 },
 "nbformat": 4,
 "nbformat_minor": 1
}
