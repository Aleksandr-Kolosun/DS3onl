{
 "cells": [
  {
   "cell_type": "markdown",
   "metadata": {},
   "source": [
    "Иллюстрация утечки информации"
   ]
  },
  {
   "cell_type": "markdown",
   "metadata": {},
   "source": [
    "Замечательный пример утечки информации при проведении перекрестной\n",
    "проверки дан в книге Hastie, Tibshirani, Friedman The Elements of Statistical\n",
    "Learning, а мы приведем здесь адаптированный вариант. Рассмотрим\n",
    "синтетическую задачу регрессии со 100 наблюдениями и 10000 признаками,\n",
    "которые извлекаем независимо друг от друга из гауссовского распределения. Мы\n",
    "также сгенерируем зависимую переменную из гауссовского распределения."
   ]
  },
  {
   "cell_type": "code",
   "execution_count": 1,
   "metadata": {},
   "outputs": [],
   "source": [
    "from sklearn.pipeline import Pipeline\n",
    "import numpy as np"
   ]
  },
  {
   "cell_type": "code",
   "execution_count": 2,
   "metadata": {},
   "outputs": [],
   "source": [
    "rnd = np.random.RandomState(seed=0)\n",
    "X = rnd.normal(size=(100, 10000))\n",
    "y = rnd.normal(size=(100,))"
   ]
  },
  {
   "cell_type": "markdown",
   "metadata": {},
   "source": [
    "При таком способе создания набора данных взаимосвязь между данными X и\n",
    "зависимой переменной y отсутствует (они независимы), поэтому невозможно\n",
    "построить модель на этих данных (модели нечему научиться). Теперь мы сделаем\n",
    "следующее. Во-первых, выберем самые информативные признаки с помощью\n",
    "SelectPercentile, а затем оценим качество регрессионной модели Ridge с помощью\n",
    "перекрестной проверки:"
   ]
  },
  {
   "cell_type": "code",
   "execution_count": 3,
   "metadata": {},
   "outputs": [
    {
     "name": "stdout",
     "output_type": "stream",
     "text": [
      "форма массива X_selected: (100, 500)\n"
     ]
    }
   ],
   "source": [
    "from sklearn.feature_selection import SelectPercentile, f_regression\n",
    "select = SelectPercentile(score_func=f_regression, percentile=5).fit(X, y)\n",
    "X_selected = select.transform(X)\n",
    "print(\"форма массива X_selected: {}\".format(X_selected.shape))"
   ]
  },
  {
   "cell_type": "code",
   "execution_count": 4,
   "metadata": {},
   "outputs": [
    {
     "name": "stdout",
     "output_type": "stream",
     "text": [
      "Правильность перекр проверки (cv только для ridge): 0.91\n"
     ]
    }
   ],
   "source": [
    "from sklearn.model_selection import cross_val_score\n",
    "from sklearn.linear_model import Ridge\n",
    "print(\"Правильность перекр проверки (cv только для ridge): {:.2f}\".format(\n",
    "np.mean(cross_val_score(Ridge(), X_selected, y, cv=5))))"
   ]
  },
  {
   "cell_type": "markdown",
   "metadata": {},
   "source": [
    "Среднее значение R2, вычисленное в результате перекрестной проверки, равно 0.91,\n",
    "что указывает на очень хорошее качество модели. Ясно, что данный результат не\n",
    "может быть правильным, поскольку наши данные получены совершенно\n",
    "случайным образом. То, что произошло здесь, обусловлено тем, что из 10000\n",
    "случайных признаков были выбраны некоторые характеристики, которые (по\n",
    "чистой случайности) имеют сильную корреляцию с зависимой переменной.\n",
    "Поскольку мы осуществляли отбор признаков вне перекрестной проверки, это\n",
    "позволило нам найти признаки, которые коррелировали с зависимой переменной\n",
    "как в обучающем, так и в тестовом блоках. Информация, которая «просочилась» из\n",
    "тестовых наборов, была очень информативной и привела к весьма нереалистичным\n",
    "результатам. Давайте сравним этот результат с результатом правильной\n",
    "перекрестной проверки, использующей конвейер:"
   ]
  },
  {
   "cell_type": "code",
   "execution_count": 5,
   "metadata": {},
   "outputs": [
    {
     "name": "stdout",
     "output_type": "stream",
     "text": [
      "Правильность перекр проверки (конвейер): -0.25\n"
     ]
    }
   ],
   "source": [
    "pipe = Pipeline([(\"select\", SelectPercentile(score_func=f_regression,\n",
    "                                             percentile=5)),\n",
    "                                             (\"ridge\", Ridge())])\n",
    "print(\"Правильность перекр проверки (конвейер): {:.2f}\".format(\n",
    "np.mean(cross_val_score(pipe, X, y, cv=5))))"
   ]
  },
  {
   "cell_type": "markdown",
   "metadata": {},
   "source": [
    "На этот раз мы получаем отрицательное значение R2, что указывает на очень плохое\n",
    "качество модели. Когда используется конвейер, отбор признаков осуществляется\n",
    "внутри цикла перекрестной проверки. Это означает, что для отбора признаков\n",
    "могут использоваться только обучающие блоки, а не тестовый блок. Процедура\n",
    "отбора признаков находит характеристики, которые коррелируют с зависимой\n",
    "переменной в обучающем наборе, но поскольку данные выбраны случайным\n",
    "образом, то в тестовом наборе корреляции между найденными признаками и\n",
    "зависимой переменной не обнаруживаются. В этом примере устранение утечки\n",
    "информации при выборе признаков привело к получению двух\n",
    "взаимоисключающих выводов о качестве модели: модель работает очень хорошо и\n",
    "модель вообще не работает."
   ]
  },
  {
   "cell_type": "code",
   "execution_count": null,
   "metadata": {},
   "outputs": [],
   "source": []
  }
 ],
 "metadata": {
  "kernelspec": {
   "display_name": "base",
   "language": "python",
   "name": "python3"
  },
  "language_info": {
   "codemirror_mode": {
    "name": "ipython",
    "version": 3
   },
   "file_extension": ".py",
   "mimetype": "text/x-python",
   "name": "python",
   "nbconvert_exporter": "python",
   "pygments_lexer": "ipython3",
   "version": "3.9.7"
  },
  "vscode": {
   "interpreter": {
    "hash": "cceda5113f07d4047741cabbb211c044d7f16bbd82324456effbfb8d7e8a3a9e"
   }
  }
 },
 "nbformat": 4,
 "nbformat_minor": 2
}
