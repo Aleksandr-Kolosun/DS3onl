{
 "cells": [
  {
   "cell_type": "code",
   "execution_count": 11,
   "metadata": {},
   "outputs": [
    {
     "name": "stdout",
     "output_type": "stream",
     "text": [
      "186 µs ± 720 ns per loop (mean ± std. dev. of 7 runs, 10,000 loops each)\n"
     ]
    }
   ],
   "source": [
    "%%timeit \n",
    "L = [n ** 2 for n in range(1000)]\n"
   ]
  },
  {
   "cell_type": "code",
   "execution_count": 20,
   "metadata": {},
   "outputs": [],
   "source": [
    "import math\n",
    "\n",
    "math.sin(3);"
   ]
  },
  {
   "cell_type": "code",
   "execution_count": 24,
   "metadata": {},
   "outputs": [
    {
     "ename": "ZeroDivisionError",
     "evalue": "division by zero",
     "output_type": "error",
     "traceback": [
      "\u001b[1;31m---------------------------------------------------------------------------\u001b[0m",
      "\u001b[1;31mZeroDivisionError\u001b[0m                         Traceback (most recent call last)",
      "\u001b[1;32mc:\\Documents\\Projects\\DS3onl\\AlexeyParfimovich\\Lessons\\Books\\DataScienceHB\\test.ipynb Ячейка 3\u001b[0m in \u001b[0;36m<cell line: 8>\u001b[1;34m()\u001b[0m\n\u001b[0;32m      <a href='vscode-notebook-cell:/c%3A/Documents/Projects/DS3onl/AlexeyParfimovich/Lessons/Books/DataScienceHB/test.ipynb#W2sZmlsZQ%3D%3D?line=4'>5</a>\u001b[0m    b \u001b[39m=\u001b[39m x \u001b[39m-\u001b[39m \u001b[39m1\u001b[39m\n\u001b[0;32m      <a href='vscode-notebook-cell:/c%3A/Documents/Projects/DS3onl/AlexeyParfimovich/Lessons/Books/DataScienceHB/test.ipynb#W2sZmlsZQ%3D%3D?line=5'>6</a>\u001b[0m    \u001b[39mreturn\u001b[39;00m func1(a, b)\n\u001b[1;32m----> <a href='vscode-notebook-cell:/c%3A/Documents/Projects/DS3onl/AlexeyParfimovich/Lessons/Books/DataScienceHB/test.ipynb#W2sZmlsZQ%3D%3D?line=7'>8</a>\u001b[0m func2(\u001b[39m1\u001b[39;49m)\n",
      "\u001b[1;32mc:\\Documents\\Projects\\DS3onl\\AlexeyParfimovich\\Lessons\\Books\\DataScienceHB\\test.ipynb Ячейка 3\u001b[0m in \u001b[0;36mfunc2\u001b[1;34m(x)\u001b[0m\n\u001b[0;32m      <a href='vscode-notebook-cell:/c%3A/Documents/Projects/DS3onl/AlexeyParfimovich/Lessons/Books/DataScienceHB/test.ipynb#W2sZmlsZQ%3D%3D?line=3'>4</a>\u001b[0m a \u001b[39m=\u001b[39m x\n\u001b[0;32m      <a href='vscode-notebook-cell:/c%3A/Documents/Projects/DS3onl/AlexeyParfimovich/Lessons/Books/DataScienceHB/test.ipynb#W2sZmlsZQ%3D%3D?line=4'>5</a>\u001b[0m b \u001b[39m=\u001b[39m x \u001b[39m-\u001b[39m \u001b[39m1\u001b[39m\n\u001b[1;32m----> <a href='vscode-notebook-cell:/c%3A/Documents/Projects/DS3onl/AlexeyParfimovich/Lessons/Books/DataScienceHB/test.ipynb#W2sZmlsZQ%3D%3D?line=5'>6</a>\u001b[0m \u001b[39mreturn\u001b[39;00m func1(a, b)\n",
      "\u001b[1;32mc:\\Documents\\Projects\\DS3onl\\AlexeyParfimovich\\Lessons\\Books\\DataScienceHB\\test.ipynb Ячейка 3\u001b[0m in \u001b[0;36mfunc1\u001b[1;34m(a, b)\u001b[0m\n\u001b[0;32m      <a href='vscode-notebook-cell:/c%3A/Documents/Projects/DS3onl/AlexeyParfimovich/Lessons/Books/DataScienceHB/test.ipynb#W2sZmlsZQ%3D%3D?line=0'>1</a>\u001b[0m \u001b[39mdef\u001b[39;00m \u001b[39mfunc1\u001b[39m(a, b):\n\u001b[1;32m----> <a href='vscode-notebook-cell:/c%3A/Documents/Projects/DS3onl/AlexeyParfimovich/Lessons/Books/DataScienceHB/test.ipynb#W2sZmlsZQ%3D%3D?line=1'>2</a>\u001b[0m    \u001b[39mreturn\u001b[39;00m a \u001b[39m/\u001b[39;49m b\n",
      "\u001b[1;31mZeroDivisionError\u001b[0m: division by zero"
     ]
    }
   ],
   "source": [
    " def func1(a, b):\n",
    "    return a / b\n",
    " def func2(x):\n",
    "    a = x\n",
    "    b = x - 1\n",
    "    return func1(a, b)\n",
    " \n",
    " func2(1)"
   ]
  },
  {
   "cell_type": "code",
   "execution_count": 34,
   "metadata": {},
   "outputs": [
    {
     "name": "stdout",
     "output_type": "stream",
     "text": [
      "Exception reporting mode: Verbose\n",
      "Automatic pdb calling has been turned ON\n"
     ]
    },
    {
     "ename": "ZeroDivisionError",
     "evalue": "division by zero",
     "output_type": "error",
     "traceback": [
      "\u001b[1;31m---------------------------------------------------------------------------\u001b[0m",
      "\u001b[1;31mZeroDivisionError\u001b[0m                         Traceback (most recent call last)",
      "\u001b[1;32mc:\\Documents\\Projects\\DS3onl\\AlexeyParfimovich\\Lessons\\Books\\DataScienceHB\\test.ipynb Ячейка 4\u001b[0m in \u001b[0;36m<cell line: 4>\u001b[1;34m()\u001b[0m\n\u001b[0;32m      <a href='vscode-notebook-cell:/c%3A/Documents/Projects/DS3onl/AlexeyParfimovich/Lessons/Books/DataScienceHB/test.ipynb#W3sZmlsZQ%3D%3D?line=0'>1</a>\u001b[0m get_ipython()\u001b[39m.\u001b[39mrun_line_magic(\u001b[39m'\u001b[39m\u001b[39mxmode\u001b[39m\u001b[39m'\u001b[39m, \u001b[39m'\u001b[39m\u001b[39mVerbose\u001b[39m\u001b[39m'\u001b[39m)\n\u001b[0;32m      <a href='vscode-notebook-cell:/c%3A/Documents/Projects/DS3onl/AlexeyParfimovich/Lessons/Books/DataScienceHB/test.ipynb#W3sZmlsZQ%3D%3D?line=1'>2</a>\u001b[0m get_ipython()\u001b[39m.\u001b[39mrun_line_magic(\u001b[39m'\u001b[39m\u001b[39mpdb\u001b[39m\u001b[39m'\u001b[39m, \u001b[39m'\u001b[39m\u001b[39mon\u001b[39m\u001b[39m'\u001b[39m)\n\u001b[1;32m----> <a href='vscode-notebook-cell:/c%3A/Documents/Projects/DS3onl/AlexeyParfimovich/Lessons/Books/DataScienceHB/test.ipynb#W3sZmlsZQ%3D%3D?line=3'>4</a>\u001b[0m func2(\u001b[39m1\u001b[39;49m)\n",
      "\u001b[1;32mc:\\Documents\\Projects\\DS3onl\\AlexeyParfimovich\\Lessons\\Books\\DataScienceHB\\test.ipynb Ячейка 4\u001b[0m in \u001b[0;36mfunc2\u001b[1;34m(x=1)\u001b[0m\n\u001b[0;32m      <a href='vscode-notebook-cell:/c%3A/Documents/Projects/DS3onl/AlexeyParfimovich/Lessons/Books/DataScienceHB/test.ipynb#W3sZmlsZQ%3D%3D?line=3'>4</a>\u001b[0m a \u001b[39m=\u001b[39m x\n\u001b[0;32m      <a href='vscode-notebook-cell:/c%3A/Documents/Projects/DS3onl/AlexeyParfimovich/Lessons/Books/DataScienceHB/test.ipynb#W3sZmlsZQ%3D%3D?line=4'>5</a>\u001b[0m b \u001b[39m=\u001b[39m x \u001b[39m-\u001b[39m \u001b[39m1\u001b[39m\n\u001b[1;32m----> <a href='vscode-notebook-cell:/c%3A/Documents/Projects/DS3onl/AlexeyParfimovich/Lessons/Books/DataScienceHB/test.ipynb#W3sZmlsZQ%3D%3D?line=5'>6</a>\u001b[0m \u001b[39mreturn\u001b[39;00m func1(a, b)\n        a \u001b[1;34m= 1\u001b[0m\u001b[1;34m\n        \u001b[0mb \u001b[1;34m= 0\u001b[0m\n",
      "\u001b[1;32mc:\\Documents\\Projects\\DS3onl\\AlexeyParfimovich\\Lessons\\Books\\DataScienceHB\\test.ipynb Ячейка 4\u001b[0m in \u001b[0;36mfunc1\u001b[1;34m(a=1, b=0)\u001b[0m\n\u001b[0;32m      <a href='vscode-notebook-cell:/c%3A/Documents/Projects/DS3onl/AlexeyParfimovich/Lessons/Books/DataScienceHB/test.ipynb#W3sZmlsZQ%3D%3D?line=0'>1</a>\u001b[0m \u001b[39mdef\u001b[39;00m \u001b[39mfunc1\u001b[39m(a, b):\n\u001b[1;32m----> <a href='vscode-notebook-cell:/c%3A/Documents/Projects/DS3onl/AlexeyParfimovich/Lessons/Books/DataScienceHB/test.ipynb#W3sZmlsZQ%3D%3D?line=1'>2</a>\u001b[0m    \u001b[39mreturn\u001b[39;00m a \u001b[39m/\u001b[39;49m b\n        a \u001b[1;34m= 1\u001b[0m\u001b[1;34m\n        \u001b[0mb \u001b[1;34m= 0\u001b[0m\n",
      "\u001b[1;31mZeroDivisionError\u001b[0m: division by zero"
     ]
    },
    {
     "name": "stdout",
     "output_type": "stream",
     "text": [
      "> \u001b[1;32mc:\\windows\\temp\\ipykernel_13060\\4252249120.py\u001b[0m(2)\u001b[0;36mfunc1\u001b[1;34m()\u001b[0m\n",
      "\n",
      "1\n",
      "*** SyntaxError: invalid syntax\n",
      "0\n"
     ]
    }
   ],
   "source": [
    "%xmode Verbose\n",
    "%pdb on\n",
    "\n",
    "func2(1)"
   ]
  },
  {
   "cell_type": "code",
   "execution_count": 33,
   "metadata": {},
   "outputs": [
    {
     "name": "stdout",
     "output_type": "stream",
     "text": [
      "> \u001b[1;32mc:\\windows\\temp\\ipykernel_13060\\4252249120.py\u001b[0m(2)\u001b[0;36mfunc1\u001b[1;34m()\u001b[0m\n",
      "\n",
      "*** SyntaxError: Missing parentheses in call to 'print'. Did you mean print(a)?\n",
      "0\n",
      "1\n",
      "0\n",
      "1\n"
     ]
    }
   ],
   "source": [
    "%debug"
   ]
  }
 ],
 "metadata": {
  "kernelspec": {
   "display_name": "Python 3.9.7 64-bit",
   "language": "python",
   "name": "python3"
  },
  "language_info": {
   "codemirror_mode": {
    "name": "ipython",
    "version": 3
   },
   "file_extension": ".py",
   "mimetype": "text/x-python",
   "name": "python",
   "nbconvert_exporter": "python",
   "pygments_lexer": "ipython3",
   "version": "3.9.7"
  },
  "orig_nbformat": 4,
  "vscode": {
   "interpreter": {
    "hash": "cf92aa13fedf815d5c8dd192b8d835913fde3e8bc926b2a0ad6cc74ef2ba3ca2"
   }
  }
 },
 "nbformat": 4,
 "nbformat_minor": 2
}
