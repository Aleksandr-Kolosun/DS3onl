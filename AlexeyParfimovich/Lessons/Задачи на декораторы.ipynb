{
 "cells": [
  {
   "cell_type": "code",
   "execution_count": null,
   "id": "ee590f2a",
   "metadata": {},
   "outputs": [],
   "source": [
    "\n",
    "user_permissions = [\"user\"]\n",
    "\n",
    "def check_permission(permission):\n",
    "    def wrapper_permission(func):\n",
    "        def wrapped_check():\n",
    "            if permission not in user_permissions:\n",
    "                raise ValueError(\"Недостаточно прав\")\n",
    "            return func()\n",
    "        return wrapped_check\n",
    "    return wrapper_permission\n",
    "\n",
    "@check_permission(\"user\")\n",
    "def check_value():\n",
    "    return \"значение\"\n",
    "\n",
    "@check_permission(\"admin\")\n",
    "def do_something():\n",
    "    return \"только админ\"\n",
    "\n",
    "# print('старт программы')\n",
    "# check_value()\n",
    "# do_something()\n",
    "# print('конец программы')"
   ]
  },
  {
   "cell_type": "code",
   "execution_count": null,
   "id": "70c23a4d",
   "metadata": {},
   "outputs": [],
   "source": [
    "check_value()"
   ]
  },
  {
   "cell_type": "code",
   "execution_count": null,
   "id": "611870c6",
   "metadata": {},
   "outputs": [],
   "source": [
    "do_something()"
   ]
  },
  {
   "cell_type": "code",
   "execution_count": null,
   "id": "b9efdac7",
   "metadata": {},
   "outputs": [],
   "source": [
    "@check_permission(\"admin\")\n",
    "def do_something():\n",
    "     return \"только админ\""
   ]
  },
  {
   "cell_type": "code",
   "execution_count": null,
   "id": "92745a21",
   "metadata": {},
   "outputs": [],
   "source": [
    "do_something()"
   ]
  },
  {
   "cell_type": "markdown",
   "id": "6d69f85b",
   "metadata": {},
   "source": [
    "Написать функцию для обработки ошибок"
   ]
  },
  {
   "cell_type": "code",
   "execution_count": null,
   "id": "e95e8ee7",
   "metadata": {},
   "outputs": [],
   "source": [
    "def error_handler(func):\n",
    "    def wrapper(*args, **kwargs):\n",
    "        ret = 0\n",
    "        try:\n",
    "            ret = func(*args, **kwargs)\n",
    "        except:\n",
    "            print('>> Ошибка в функции', func.__name__)\n",
    "        return ret\n",
    "    return wrapper\n",
    "\n",
    "@error_handler\n",
    "def div(a, b):\n",
    "    return a / b\n",
    "\n",
    "print('старт')\n",
    "print(div(10, 2))\n",
    "print(div(10, 0))\n",
    "print('конец')"
   ]
  },
  {
   "cell_type": "markdown",
   "id": "86c21f64",
   "metadata": {},
   "source": [
    "Написать декоратор который бы читал в глобальной области видимости лист с правами и в случае если права в декораторе отсутствуют в листе - выбрасывал бы исключение"
   ]
  },
  {
   "cell_type": "markdown",
   "id": "a90fff4d",
   "metadata": {},
   "source": [
    "Написать обертку синглтон. Если число функций в системе превышает заданный порог то мы возвращаем то что уже создали ранее. "
   ]
  },
  {
   "cell_type": "code",
   "execution_count": null,
   "id": "ce2bb2b0",
   "metadata": {},
   "outputs": [],
   "source": [
    "def singleton(cls):\n",
    "    '''Класс Singleton (один экземпляр)'''\n",
    "    def wrapper_singleton(*args, **kwargs):\n",
    "        if not wrapper_singleton.instance:\n",
    "            \n",
    "           wrapper_singleton.instance = cls(*args, **kwargs)\n",
    "        return wrapper_singleton.instance\n",
    "    wrapper_singleton.instance = None\n",
    "    return wrapper_singleton\n",
    "\n",
    "@singleton\n",
    "class TheOne:\n",
    "    pass\n",
    "\n",
    "print('старт')\n",
    "first_one = TheOne()\n",
    "second_one = TheOne()\n",
    "_one = TheOne()\n",
    "print(id(first_one))\n",
    "print(id(second_one))\n",
    "print(id(_one))\n",
    "print('конец')"
   ]
  }
 ],
 "metadata": {
  "kernelspec": {
   "display_name": "Python 3.9.7 64-bit",
   "language": "python",
   "name": "python3"
  },
  "language_info": {
   "codemirror_mode": {
    "name": "ipython",
    "version": 3
   },
   "file_extension": ".py",
   "mimetype": "text/x-python",
   "name": "python",
   "nbconvert_exporter": "python",
   "pygments_lexer": "ipython3",
   "version": "3.9.7"
  },
  "vscode": {
   "interpreter": {
    "hash": "cf92aa13fedf815d5c8dd192b8d835913fde3e8bc926b2a0ad6cc74ef2ba3ca2"
   }
  }
 },
 "nbformat": 4,
 "nbformat_minor": 5
}
