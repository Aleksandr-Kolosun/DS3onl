{
 "cells": [
  {
   "cell_type": "markdown",
   "metadata": {},
   "source": [
    "### Строим логистическую регрессию - угадываем пол спортсмена по признакам"
   ]
  },
  {
   "cell_type": "markdown",
   "metadata": {},
   "source": [
    "https://www.kaggle.com/rio2016/olympic-games"
   ]
  },
  {
   "cell_type": "code",
   "execution_count": 1,
   "metadata": {},
   "outputs": [],
   "source": [
    "import pandas as pd\n",
    "import numpy as np\n",
    "#целевая переменная - столбец пол."
   ]
  },
  {
   "cell_type": "code",
   "execution_count": 2,
   "metadata": {},
   "outputs": [
    {
     "data": {
      "text/html": [
       "<div>\n",
       "<style scoped>\n",
       "    .dataframe tbody tr th:only-of-type {\n",
       "        vertical-align: middle;\n",
       "    }\n",
       "\n",
       "    .dataframe tbody tr th {\n",
       "        vertical-align: top;\n",
       "    }\n",
       "\n",
       "    .dataframe thead th {\n",
       "        text-align: right;\n",
       "    }\n",
       "</style>\n",
       "<table border=\"1\" class=\"dataframe\">\n",
       "  <thead>\n",
       "    <tr style=\"text-align: right;\">\n",
       "      <th></th>\n",
       "      <th>id</th>\n",
       "      <th>name</th>\n",
       "      <th>nationality</th>\n",
       "      <th>sex</th>\n",
       "      <th>dob</th>\n",
       "      <th>height</th>\n",
       "      <th>weight</th>\n",
       "      <th>sport</th>\n",
       "      <th>gold</th>\n",
       "      <th>silver</th>\n",
       "      <th>bronze</th>\n",
       "    </tr>\n",
       "  </thead>\n",
       "  <tbody>\n",
       "    <tr>\n",
       "      <th>0</th>\n",
       "      <td>736041664</td>\n",
       "      <td>A Jesus Garcia</td>\n",
       "      <td>ESP</td>\n",
       "      <td>male</td>\n",
       "      <td>10/17/69</td>\n",
       "      <td>1.72</td>\n",
       "      <td>64.0</td>\n",
       "      <td>athletics</td>\n",
       "      <td>0</td>\n",
       "      <td>0</td>\n",
       "      <td>0</td>\n",
       "    </tr>\n",
       "    <tr>\n",
       "      <th>1</th>\n",
       "      <td>532037425</td>\n",
       "      <td>A Lam Shin</td>\n",
       "      <td>KOR</td>\n",
       "      <td>female</td>\n",
       "      <td>9/23/86</td>\n",
       "      <td>1.68</td>\n",
       "      <td>56.0</td>\n",
       "      <td>fencing</td>\n",
       "      <td>0</td>\n",
       "      <td>0</td>\n",
       "      <td>0</td>\n",
       "    </tr>\n",
       "    <tr>\n",
       "      <th>2</th>\n",
       "      <td>435962603</td>\n",
       "      <td>Aaron Brown</td>\n",
       "      <td>CAN</td>\n",
       "      <td>male</td>\n",
       "      <td>5/27/92</td>\n",
       "      <td>1.98</td>\n",
       "      <td>79.0</td>\n",
       "      <td>athletics</td>\n",
       "      <td>0</td>\n",
       "      <td>0</td>\n",
       "      <td>1</td>\n",
       "    </tr>\n",
       "    <tr>\n",
       "      <th>3</th>\n",
       "      <td>521041435</td>\n",
       "      <td>Aaron Cook</td>\n",
       "      <td>MDA</td>\n",
       "      <td>male</td>\n",
       "      <td>1/2/91</td>\n",
       "      <td>1.83</td>\n",
       "      <td>80.0</td>\n",
       "      <td>taekwondo</td>\n",
       "      <td>0</td>\n",
       "      <td>0</td>\n",
       "      <td>0</td>\n",
       "    </tr>\n",
       "    <tr>\n",
       "      <th>4</th>\n",
       "      <td>33922579</td>\n",
       "      <td>Aaron Gate</td>\n",
       "      <td>NZL</td>\n",
       "      <td>male</td>\n",
       "      <td>11/26/90</td>\n",
       "      <td>1.81</td>\n",
       "      <td>71.0</td>\n",
       "      <td>cycling</td>\n",
       "      <td>0</td>\n",
       "      <td>0</td>\n",
       "      <td>0</td>\n",
       "    </tr>\n",
       "  </tbody>\n",
       "</table>\n",
       "</div>"
      ],
      "text/plain": [
       "          id            name nationality     sex       dob  height  weight  \\\n",
       "0  736041664  A Jesus Garcia         ESP    male  10/17/69    1.72    64.0   \n",
       "1  532037425      A Lam Shin         KOR  female   9/23/86    1.68    56.0   \n",
       "2  435962603     Aaron Brown         CAN    male   5/27/92    1.98    79.0   \n",
       "3  521041435      Aaron Cook         MDA    male    1/2/91    1.83    80.0   \n",
       "4   33922579      Aaron Gate         NZL    male  11/26/90    1.81    71.0   \n",
       "\n",
       "       sport  gold  silver  bronze  \n",
       "0  athletics     0       0       0  \n",
       "1    fencing     0       0       0  \n",
       "2  athletics     0       0       1  \n",
       "3  taekwondo     0       0       0  \n",
       "4    cycling     0       0       0  "
      ]
     },
     "execution_count": 2,
     "metadata": {},
     "output_type": "execute_result"
    }
   ],
   "source": [
    "data = pd.read_csv( 'athletes.csv' )\n",
    "data.head()"
   ]
  },
  {
   "cell_type": "code",
   "execution_count": 3,
   "metadata": {},
   "outputs": [
    {
     "name": "stdout",
     "output_type": "stream",
     "text": [
      "<class 'pandas.core.frame.DataFrame'>\n",
      "RangeIndex: 11538 entries, 0 to 11537\n",
      "Data columns (total 11 columns):\n",
      " #   Column       Non-Null Count  Dtype  \n",
      "---  ------       --------------  -----  \n",
      " 0   id           11538 non-null  int64  \n",
      " 1   name         11538 non-null  object \n",
      " 2   nationality  11538 non-null  object \n",
      " 3   sex          11538 non-null  object \n",
      " 4   dob          11537 non-null  object \n",
      " 5   height       11208 non-null  float64\n",
      " 6   weight       10879 non-null  float64\n",
      " 7   sport        11538 non-null  object \n",
      " 8   gold         11538 non-null  int64  \n",
      " 9   silver       11538 non-null  int64  \n",
      " 10  bronze       11538 non-null  int64  \n",
      "dtypes: float64(2), int64(4), object(5)\n",
      "memory usage: 991.7+ KB\n"
     ]
    }
   ],
   "source": [
    "data.info()"
   ]
  },
  {
   "cell_type": "markdown",
   "metadata": {},
   "source": [
    "#### Попробуем угадать пол на основе роста, веса и вида спорта"
   ]
  },
  {
   "cell_type": "markdown",
   "metadata": {},
   "source": [
    "Посмотрим много ли в наших признаках пустых значений"
   ]
  },
  {
   "cell_type": "code",
   "execution_count": 4,
   "metadata": {},
   "outputs": [
    {
     "data": {
      "text/html": [
       "<div>\n",
       "<style scoped>\n",
       "    .dataframe tbody tr th:only-of-type {\n",
       "        vertical-align: middle;\n",
       "    }\n",
       "\n",
       "    .dataframe tbody tr th {\n",
       "        vertical-align: top;\n",
       "    }\n",
       "\n",
       "    .dataframe thead th {\n",
       "        text-align: right;\n",
       "    }\n",
       "</style>\n",
       "<table border=\"1\" class=\"dataframe\">\n",
       "  <thead>\n",
       "    <tr style=\"text-align: right;\">\n",
       "      <th></th>\n",
       "      <th>id</th>\n",
       "      <th>name</th>\n",
       "      <th>nationality</th>\n",
       "      <th>sex</th>\n",
       "      <th>dob</th>\n",
       "      <th>height</th>\n",
       "      <th>weight</th>\n",
       "      <th>sport</th>\n",
       "      <th>gold</th>\n",
       "      <th>silver</th>\n",
       "      <th>bronze</th>\n",
       "    </tr>\n",
       "  </thead>\n",
       "  <tbody>\n",
       "    <tr>\n",
       "      <th>12</th>\n",
       "      <td>258556239</td>\n",
       "      <td>Abbas Qali</td>\n",
       "      <td>IOA</td>\n",
       "      <td>male</td>\n",
       "      <td>10/11/92</td>\n",
       "      <td>NaN</td>\n",
       "      <td>NaN</td>\n",
       "      <td>aquatics</td>\n",
       "      <td>0</td>\n",
       "      <td>0</td>\n",
       "      <td>0</td>\n",
       "    </tr>\n",
       "    <tr>\n",
       "      <th>47</th>\n",
       "      <td>469953606</td>\n",
       "      <td>Abdoullah Bamoussa</td>\n",
       "      <td>ITA</td>\n",
       "      <td>male</td>\n",
       "      <td>6/8/86</td>\n",
       "      <td>NaN</td>\n",
       "      <td>NaN</td>\n",
       "      <td>athletics</td>\n",
       "      <td>0</td>\n",
       "      <td>0</td>\n",
       "      <td>0</td>\n",
       "    </tr>\n",
       "    <tr>\n",
       "      <th>50</th>\n",
       "      <td>325809293</td>\n",
       "      <td>Abdul Omar</td>\n",
       "      <td>GHA</td>\n",
       "      <td>male</td>\n",
       "      <td>10/3/93</td>\n",
       "      <td>NaN</td>\n",
       "      <td>NaN</td>\n",
       "      <td>boxing</td>\n",
       "      <td>0</td>\n",
       "      <td>0</td>\n",
       "      <td>0</td>\n",
       "    </tr>\n",
       "    <tr>\n",
       "      <th>52</th>\n",
       "      <td>262868423</td>\n",
       "      <td>Abdulaziz Alshatti</td>\n",
       "      <td>IOA</td>\n",
       "      <td>male</td>\n",
       "      <td>10/30/90</td>\n",
       "      <td>NaN</td>\n",
       "      <td>NaN</td>\n",
       "      <td>fencing</td>\n",
       "      <td>0</td>\n",
       "      <td>0</td>\n",
       "      <td>0</td>\n",
       "    </tr>\n",
       "    <tr>\n",
       "      <th>56</th>\n",
       "      <td>897549624</td>\n",
       "      <td>Abdullah Hel Baki</td>\n",
       "      <td>BAN</td>\n",
       "      <td>male</td>\n",
       "      <td>8/1/89</td>\n",
       "      <td>NaN</td>\n",
       "      <td>NaN</td>\n",
       "      <td>shooting</td>\n",
       "      <td>0</td>\n",
       "      <td>0</td>\n",
       "      <td>0</td>\n",
       "    </tr>\n",
       "  </tbody>\n",
       "</table>\n",
       "</div>"
      ],
      "text/plain": [
       "           id                name nationality   sex       dob  height  weight  \\\n",
       "12  258556239          Abbas Qali         IOA  male  10/11/92     NaN     NaN   \n",
       "47  469953606  Abdoullah Bamoussa         ITA  male    6/8/86     NaN     NaN   \n",
       "50  325809293          Abdul Omar         GHA  male   10/3/93     NaN     NaN   \n",
       "52  262868423  Abdulaziz Alshatti         IOA  male  10/30/90     NaN     NaN   \n",
       "56  897549624   Abdullah Hel Baki         BAN  male    8/1/89     NaN     NaN   \n",
       "\n",
       "        sport  gold  silver  bronze  \n",
       "12   aquatics     0       0       0  \n",
       "47  athletics     0       0       0  \n",
       "50     boxing     0       0       0  \n",
       "52    fencing     0       0       0  \n",
       "56   shooting     0       0       0  "
      ]
     },
     "execution_count": 4,
     "metadata": {},
     "output_type": "execute_result"
    }
   ],
   "source": [
    "data[ pd.isnull( data['height'] ) ].head()"
   ]
  },
  {
   "cell_type": "code",
   "execution_count": 5,
   "metadata": {},
   "outputs": [
    {
     "name": "stdout",
     "output_type": "stream",
     "text": [
      "Для height пустых строк 330\n",
      "Для weight пустых строк 659\n",
      "Для sport пустых строк 0\n",
      "Для sport пустых строк 0\n",
      "Всего строк в наборе 11538\n"
     ]
    }
   ],
   "source": [
    "print('Для height пустых строк {}'.format( len( data[ pd.isnull( data['height'] ) ] ) ))\n",
    "print('Для weight пустых строк {}'.format( len( data[ pd.isnull( data['weight'] ) ] ) ))\n",
    "print('Для sport пустых строк {}'.format( len( data[ pd.isnull( data['sport'] ) ] ) ))\n",
    "print('Для sport пустых строк {}'.format( len( data[ pd.isnull( data['sex'] ) ] ) ))\n",
    "print('Всего строк в наборе {}'.format( len( data ) ))"
   ]
  },
  {
   "cell_type": "code",
   "execution_count": 6,
   "metadata": {},
   "outputs": [
    {
     "data": {
      "text/plain": [
       "str"
      ]
     },
     "execution_count": 6,
     "metadata": {},
     "output_type": "execute_result"
    }
   ],
   "source": [
    "type(data['sex'][0])"
   ]
  },
  {
   "cell_type": "code",
   "execution_count": 7,
   "metadata": {},
   "outputs": [],
   "source": [
    "temp = pd.DataFrame(0.0, columns = pd.MultiIndex.from_product([data['sex'].unique(), ['weight', 'height']]), index = data['sport'].unique() )"
   ]
  },
  {
   "cell_type": "code",
   "execution_count": 8,
   "metadata": {},
   "outputs": [
    {
     "name": "stderr",
     "output_type": "stream",
     "text": [
      "C:\\Users\\BIASPA~1\\AppData\\Local\\Temp/ipykernel_19116/1097964379.py:4: UserWarning: Boolean Series key will be reindexed to match DataFrame index.\n",
      "  temp.loc[sport][sex, x] = data[data['sport'] == sport][data['sex'] == sex][[x]].mean(skipna=True)\n"
     ]
    }
   ],
   "source": [
    "for sport in temp.index:\n",
    "    for sex in ('male', 'female'):\n",
    "        for x in ('weight', 'height'):\n",
    "            temp.loc[sport][sex, x] = data[data['sport'] == sport][data['sex'] == sex][[x]].mean(skipna=True)"
   ]
  },
  {
   "cell_type": "code",
   "execution_count": 9,
   "metadata": {},
   "outputs": [],
   "source": [
    "temp.fillna(0, inplace=True)"
   ]
  },
  {
   "cell_type": "code",
   "execution_count": 10,
   "metadata": {},
   "outputs": [
    {
     "data": {
      "text/html": [
       "<div>\n",
       "<style scoped>\n",
       "    .dataframe tbody tr th:only-of-type {\n",
       "        vertical-align: middle;\n",
       "    }\n",
       "\n",
       "    .dataframe tbody tr th {\n",
       "        vertical-align: top;\n",
       "    }\n",
       "\n",
       "    .dataframe thead tr th {\n",
       "        text-align: left;\n",
       "    }\n",
       "</style>\n",
       "<table border=\"1\" class=\"dataframe\">\n",
       "  <thead>\n",
       "    <tr>\n",
       "      <th></th>\n",
       "      <th colspan=\"2\" halign=\"left\">male</th>\n",
       "      <th colspan=\"2\" halign=\"left\">female</th>\n",
       "    </tr>\n",
       "    <tr>\n",
       "      <th></th>\n",
       "      <th>weight</th>\n",
       "      <th>height</th>\n",
       "      <th>weight</th>\n",
       "      <th>height</th>\n",
       "    </tr>\n",
       "  </thead>\n",
       "  <tbody>\n",
       "    <tr>\n",
       "      <th>athletics</th>\n",
       "      <td>74.777680</td>\n",
       "      <td>1.809234</td>\n",
       "      <td>60.152542</td>\n",
       "      <td>1.690500</td>\n",
       "    </tr>\n",
       "    <tr>\n",
       "      <th>fencing</th>\n",
       "      <td>78.785124</td>\n",
       "      <td>1.833802</td>\n",
       "      <td>62.733871</td>\n",
       "      <td>1.712581</td>\n",
       "    </tr>\n",
       "    <tr>\n",
       "      <th>taekwondo</th>\n",
       "      <td>74.809524</td>\n",
       "      <td>1.863750</td>\n",
       "      <td>61.258065</td>\n",
       "      <td>1.730159</td>\n",
       "    </tr>\n",
       "    <tr>\n",
       "      <th>cycling</th>\n",
       "      <td>72.576052</td>\n",
       "      <td>1.793074</td>\n",
       "      <td>60.207254</td>\n",
       "      <td>1.673128</td>\n",
       "    </tr>\n",
       "    <tr>\n",
       "      <th>triathlon</th>\n",
       "      <td>66.814815</td>\n",
       "      <td>1.788704</td>\n",
       "      <td>54.563636</td>\n",
       "      <td>1.676545</td>\n",
       "    </tr>\n",
       "  </tbody>\n",
       "</table>\n",
       "</div>"
      ],
      "text/plain": [
       "                male               female          \n",
       "              weight    height     weight    height\n",
       "athletics  74.777680  1.809234  60.152542  1.690500\n",
       "fencing    78.785124  1.833802  62.733871  1.712581\n",
       "taekwondo  74.809524  1.863750  61.258065  1.730159\n",
       "cycling    72.576052  1.793074  60.207254  1.673128\n",
       "triathlon  66.814815  1.788704  54.563636  1.676545"
      ]
     },
     "execution_count": 10,
     "metadata": {},
     "output_type": "execute_result"
    }
   ],
   "source": [
    "temp.head()"
   ]
  },
  {
   "cell_type": "code",
   "execution_count": 11,
   "metadata": {},
   "outputs": [],
   "source": [
    "for i in data.index:\n",
    "    t = data.loc[i]\n",
    "    if (pd.isnull(t['height'])):\n",
    "        data.loc[i, 'height'] = temp.loc[t['sport']][t['sex'], 'height']\n",
    "    if (pd.isnull(t['weight'])):\n",
    "        data.loc[i, 'weight'] = temp.loc[t['sport']][t['sex'], 'weight']        "
   ]
  },
  {
   "cell_type": "code",
   "execution_count": 12,
   "metadata": {},
   "outputs": [
    {
     "name": "stdout",
     "output_type": "stream",
     "text": [
      "Для sex пустых строк 0\n",
      "Для height пустых строк 0\n",
      "Для weight пустых строк 0\n",
      "Для sport пустых строк 0\n",
      "Для sport пустых строк 0\n",
      "Всего строк в наборе 11538\n"
     ]
    }
   ],
   "source": [
    "print('Для sex пустых строк {}'.format( len( data[ pd.isnull( data['sex'] ) ] ) ))\n",
    "print('Для height пустых строк {}'.format( len( data[ pd.isnull( data['height'] ) ] ) ))\n",
    "print('Для weight пустых строк {}'.format( len( data[ pd.isnull( data['weight'] ) ] ) ))\n",
    "print('Для sport пустых строк {}'.format( len( data[ pd.isnull( data['sport'] ) ] ) ))\n",
    "print('Для sport пустых строк {}'.format( len( data[ pd.isnull( data['sex'] ) ] ) ))\n",
    "print('Всего строк в наборе {}'.format( len( data ) ))"
   ]
  },
  {
   "cell_type": "code",
   "execution_count": 13,
   "metadata": {},
   "outputs": [
    {
     "data": {
      "text/html": [
       "<div>\n",
       "<style scoped>\n",
       "    .dataframe tbody tr th:only-of-type {\n",
       "        vertical-align: middle;\n",
       "    }\n",
       "\n",
       "    .dataframe tbody tr th {\n",
       "        vertical-align: top;\n",
       "    }\n",
       "\n",
       "    .dataframe thead th {\n",
       "        text-align: right;\n",
       "    }\n",
       "</style>\n",
       "<table border=\"1\" class=\"dataframe\">\n",
       "  <thead>\n",
       "    <tr style=\"text-align: right;\">\n",
       "      <th></th>\n",
       "      <th>id</th>\n",
       "      <th>name</th>\n",
       "      <th>nationality</th>\n",
       "      <th>sex</th>\n",
       "      <th>dob</th>\n",
       "      <th>height</th>\n",
       "      <th>weight</th>\n",
       "      <th>sport</th>\n",
       "      <th>gold</th>\n",
       "      <th>silver</th>\n",
       "      <th>bronze</th>\n",
       "    </tr>\n",
       "  </thead>\n",
       "  <tbody>\n",
       "    <tr>\n",
       "      <th>0</th>\n",
       "      <td>736041664</td>\n",
       "      <td>A Jesus Garcia</td>\n",
       "      <td>ESP</td>\n",
       "      <td>male</td>\n",
       "      <td>10/17/69</td>\n",
       "      <td>1.72</td>\n",
       "      <td>64.0</td>\n",
       "      <td>athletics</td>\n",
       "      <td>0</td>\n",
       "      <td>0</td>\n",
       "      <td>0</td>\n",
       "    </tr>\n",
       "    <tr>\n",
       "      <th>1</th>\n",
       "      <td>532037425</td>\n",
       "      <td>A Lam Shin</td>\n",
       "      <td>KOR</td>\n",
       "      <td>female</td>\n",
       "      <td>9/23/86</td>\n",
       "      <td>1.68</td>\n",
       "      <td>56.0</td>\n",
       "      <td>fencing</td>\n",
       "      <td>0</td>\n",
       "      <td>0</td>\n",
       "      <td>0</td>\n",
       "    </tr>\n",
       "    <tr>\n",
       "      <th>2</th>\n",
       "      <td>435962603</td>\n",
       "      <td>Aaron Brown</td>\n",
       "      <td>CAN</td>\n",
       "      <td>male</td>\n",
       "      <td>5/27/92</td>\n",
       "      <td>1.98</td>\n",
       "      <td>79.0</td>\n",
       "      <td>athletics</td>\n",
       "      <td>0</td>\n",
       "      <td>0</td>\n",
       "      <td>1</td>\n",
       "    </tr>\n",
       "    <tr>\n",
       "      <th>3</th>\n",
       "      <td>521041435</td>\n",
       "      <td>Aaron Cook</td>\n",
       "      <td>MDA</td>\n",
       "      <td>male</td>\n",
       "      <td>1/2/91</td>\n",
       "      <td>1.83</td>\n",
       "      <td>80.0</td>\n",
       "      <td>taekwondo</td>\n",
       "      <td>0</td>\n",
       "      <td>0</td>\n",
       "      <td>0</td>\n",
       "    </tr>\n",
       "    <tr>\n",
       "      <th>4</th>\n",
       "      <td>33922579</td>\n",
       "      <td>Aaron Gate</td>\n",
       "      <td>NZL</td>\n",
       "      <td>male</td>\n",
       "      <td>11/26/90</td>\n",
       "      <td>1.81</td>\n",
       "      <td>71.0</td>\n",
       "      <td>cycling</td>\n",
       "      <td>0</td>\n",
       "      <td>0</td>\n",
       "      <td>0</td>\n",
       "    </tr>\n",
       "  </tbody>\n",
       "</table>\n",
       "</div>"
      ],
      "text/plain": [
       "          id            name nationality     sex       dob  height  weight  \\\n",
       "0  736041664  A Jesus Garcia         ESP    male  10/17/69    1.72    64.0   \n",
       "1  532037425      A Lam Shin         KOR  female   9/23/86    1.68    56.0   \n",
       "2  435962603     Aaron Brown         CAN    male   5/27/92    1.98    79.0   \n",
       "3  521041435      Aaron Cook         MDA    male    1/2/91    1.83    80.0   \n",
       "4   33922579      Aaron Gate         NZL    male  11/26/90    1.81    71.0   \n",
       "\n",
       "       sport  gold  silver  bronze  \n",
       "0  athletics     0       0       0  \n",
       "1    fencing     0       0       0  \n",
       "2  athletics     0       0       1  \n",
       "3  taekwondo     0       0       0  \n",
       "4    cycling     0       0       0  "
      ]
     },
     "execution_count": 13,
     "metadata": {},
     "output_type": "execute_result"
    }
   ],
   "source": [
    "data.head()"
   ]
  },
  {
   "cell_type": "code",
   "execution_count": 14,
   "metadata": {},
   "outputs": [
    {
     "name": "stdout",
     "output_type": "stream",
     "text": [
      "<class 'pandas.core.frame.DataFrame'>\n",
      "RangeIndex: 11538 entries, 0 to 11537\n",
      "Data columns (total 11 columns):\n",
      " #   Column       Non-Null Count  Dtype  \n",
      "---  ------       --------------  -----  \n",
      " 0   id           11538 non-null  int64  \n",
      " 1   name         11538 non-null  object \n",
      " 2   nationality  11538 non-null  object \n",
      " 3   sex          11538 non-null  object \n",
      " 4   dob          11537 non-null  object \n",
      " 5   height       11538 non-null  float64\n",
      " 6   weight       11538 non-null  float64\n",
      " 7   sport        11538 non-null  object \n",
      " 8   gold         11538 non-null  int64  \n",
      " 9   silver       11538 non-null  int64  \n",
      " 10  bronze       11538 non-null  int64  \n",
      "dtypes: float64(2), int64(4), object(5)\n",
      "memory usage: 991.7+ KB\n"
     ]
    }
   ],
   "source": [
    "data.info()"
   ]
  },
  {
   "cell_type": "code",
   "execution_count": 15,
   "metadata": {},
   "outputs": [],
   "source": [
    "from sklearn.linear_model import LogisticRegression"
   ]
  },
  {
   "cell_type": "code",
   "execution_count": 16,
   "metadata": {},
   "outputs": [
    {
     "data": {
      "text/html": [
       "<div>\n",
       "<style scoped>\n",
       "    .dataframe tbody tr th:only-of-type {\n",
       "        vertical-align: middle;\n",
       "    }\n",
       "\n",
       "    .dataframe tbody tr th {\n",
       "        vertical-align: top;\n",
       "    }\n",
       "\n",
       "    .dataframe thead th {\n",
       "        text-align: right;\n",
       "    }\n",
       "</style>\n",
       "<table border=\"1\" class=\"dataframe\">\n",
       "  <thead>\n",
       "    <tr style=\"text-align: right;\">\n",
       "      <th></th>\n",
       "      <th>height</th>\n",
       "      <th>weight</th>\n",
       "      <th>sport_aquatics</th>\n",
       "      <th>sport_archery</th>\n",
       "      <th>sport_athletics</th>\n",
       "      <th>sport_badminton</th>\n",
       "      <th>sport_basketball</th>\n",
       "      <th>sport_boxing</th>\n",
       "      <th>sport_canoe</th>\n",
       "      <th>sport_cycling</th>\n",
       "      <th>...</th>\n",
       "      <th>sport_rugby sevens</th>\n",
       "      <th>sport_sailing</th>\n",
       "      <th>sport_shooting</th>\n",
       "      <th>sport_table tennis</th>\n",
       "      <th>sport_taekwondo</th>\n",
       "      <th>sport_tennis</th>\n",
       "      <th>sport_triathlon</th>\n",
       "      <th>sport_volleyball</th>\n",
       "      <th>sport_weightlifting</th>\n",
       "      <th>sport_wrestling</th>\n",
       "    </tr>\n",
       "  </thead>\n",
       "  <tbody>\n",
       "    <tr>\n",
       "      <th>0</th>\n",
       "      <td>1.72</td>\n",
       "      <td>64.0</td>\n",
       "      <td>0</td>\n",
       "      <td>0</td>\n",
       "      <td>1</td>\n",
       "      <td>0</td>\n",
       "      <td>0</td>\n",
       "      <td>0</td>\n",
       "      <td>0</td>\n",
       "      <td>0</td>\n",
       "      <td>...</td>\n",
       "      <td>0</td>\n",
       "      <td>0</td>\n",
       "      <td>0</td>\n",
       "      <td>0</td>\n",
       "      <td>0</td>\n",
       "      <td>0</td>\n",
       "      <td>0</td>\n",
       "      <td>0</td>\n",
       "      <td>0</td>\n",
       "      <td>0</td>\n",
       "    </tr>\n",
       "    <tr>\n",
       "      <th>1</th>\n",
       "      <td>1.68</td>\n",
       "      <td>56.0</td>\n",
       "      <td>0</td>\n",
       "      <td>0</td>\n",
       "      <td>0</td>\n",
       "      <td>0</td>\n",
       "      <td>0</td>\n",
       "      <td>0</td>\n",
       "      <td>0</td>\n",
       "      <td>0</td>\n",
       "      <td>...</td>\n",
       "      <td>0</td>\n",
       "      <td>0</td>\n",
       "      <td>0</td>\n",
       "      <td>0</td>\n",
       "      <td>0</td>\n",
       "      <td>0</td>\n",
       "      <td>0</td>\n",
       "      <td>0</td>\n",
       "      <td>0</td>\n",
       "      <td>0</td>\n",
       "    </tr>\n",
       "    <tr>\n",
       "      <th>2</th>\n",
       "      <td>1.98</td>\n",
       "      <td>79.0</td>\n",
       "      <td>0</td>\n",
       "      <td>0</td>\n",
       "      <td>1</td>\n",
       "      <td>0</td>\n",
       "      <td>0</td>\n",
       "      <td>0</td>\n",
       "      <td>0</td>\n",
       "      <td>0</td>\n",
       "      <td>...</td>\n",
       "      <td>0</td>\n",
       "      <td>0</td>\n",
       "      <td>0</td>\n",
       "      <td>0</td>\n",
       "      <td>0</td>\n",
       "      <td>0</td>\n",
       "      <td>0</td>\n",
       "      <td>0</td>\n",
       "      <td>0</td>\n",
       "      <td>0</td>\n",
       "    </tr>\n",
       "    <tr>\n",
       "      <th>3</th>\n",
       "      <td>1.83</td>\n",
       "      <td>80.0</td>\n",
       "      <td>0</td>\n",
       "      <td>0</td>\n",
       "      <td>0</td>\n",
       "      <td>0</td>\n",
       "      <td>0</td>\n",
       "      <td>0</td>\n",
       "      <td>0</td>\n",
       "      <td>0</td>\n",
       "      <td>...</td>\n",
       "      <td>0</td>\n",
       "      <td>0</td>\n",
       "      <td>0</td>\n",
       "      <td>0</td>\n",
       "      <td>1</td>\n",
       "      <td>0</td>\n",
       "      <td>0</td>\n",
       "      <td>0</td>\n",
       "      <td>0</td>\n",
       "      <td>0</td>\n",
       "    </tr>\n",
       "    <tr>\n",
       "      <th>4</th>\n",
       "      <td>1.81</td>\n",
       "      <td>71.0</td>\n",
       "      <td>0</td>\n",
       "      <td>0</td>\n",
       "      <td>0</td>\n",
       "      <td>0</td>\n",
       "      <td>0</td>\n",
       "      <td>0</td>\n",
       "      <td>0</td>\n",
       "      <td>1</td>\n",
       "      <td>...</td>\n",
       "      <td>0</td>\n",
       "      <td>0</td>\n",
       "      <td>0</td>\n",
       "      <td>0</td>\n",
       "      <td>0</td>\n",
       "      <td>0</td>\n",
       "      <td>0</td>\n",
       "      <td>0</td>\n",
       "      <td>0</td>\n",
       "      <td>0</td>\n",
       "    </tr>\n",
       "  </tbody>\n",
       "</table>\n",
       "<p>5 rows × 30 columns</p>\n",
       "</div>"
      ],
      "text/plain": [
       "   height  weight  sport_aquatics  sport_archery  sport_athletics  \\\n",
       "0    1.72    64.0               0              0                1   \n",
       "1    1.68    56.0               0              0                0   \n",
       "2    1.98    79.0               0              0                1   \n",
       "3    1.83    80.0               0              0                0   \n",
       "4    1.81    71.0               0              0                0   \n",
       "\n",
       "   sport_badminton  sport_basketball  sport_boxing  sport_canoe  \\\n",
       "0                0                 0             0            0   \n",
       "1                0                 0             0            0   \n",
       "2                0                 0             0            0   \n",
       "3                0                 0             0            0   \n",
       "4                0                 0             0            0   \n",
       "\n",
       "   sport_cycling  ...  sport_rugby sevens  sport_sailing  sport_shooting  \\\n",
       "0              0  ...                   0              0               0   \n",
       "1              0  ...                   0              0               0   \n",
       "2              0  ...                   0              0               0   \n",
       "3              0  ...                   0              0               0   \n",
       "4              1  ...                   0              0               0   \n",
       "\n",
       "   sport_table tennis  sport_taekwondo  sport_tennis  sport_triathlon  \\\n",
       "0                   0                0             0                0   \n",
       "1                   0                0             0                0   \n",
       "2                   0                0             0                0   \n",
       "3                   0                1             0                0   \n",
       "4                   0                0             0                0   \n",
       "\n",
       "   sport_volleyball  sport_weightlifting  sport_wrestling  \n",
       "0                 0                    0                0  \n",
       "1                 0                    0                0  \n",
       "2                 0                    0                0  \n",
       "3                 0                    0                0  \n",
       "4                 0                    0                0  \n",
       "\n",
       "[5 rows x 30 columns]"
      ]
     },
     "execution_count": 16,
     "metadata": {},
     "output_type": "execute_result"
    }
   ],
   "source": [
    "# попробуем выбрать какие-нибудь признаки\n",
    "selectedColumns = data[ [ 'height', 'weight', 'sport', 'sex' ] ]\n",
    "\n",
    "# столбец sport является категориальной переменой\n",
    "# переведем ее в значения 0 и 1, добавив столбцы с соответствующими названиями\n",
    "X = pd.get_dummies( selectedColumns, columns = [ 'sport' ] )\n",
    "\n",
    "# столбец sex является целевой переменной, удаляем его из X\n",
    "del X['sex']\n",
    "X.head()"
   ]
  },
  {
   "cell_type": "code",
   "execution_count": 17,
   "metadata": {},
   "outputs": [],
   "source": [
    "# целевая переменная (столбец sex) снова является категориальной\n",
    "# переведем значения столбца в числа, оставив один столбец\n",
    "\n",
    "from sklearn.preprocessing import LabelEncoder\n",
    "le = LabelEncoder()"
   ]
  },
  {
   "cell_type": "code",
   "execution_count": 18,
   "metadata": {},
   "outputs": [
    {
     "data": {
      "text/html": [
       "<style>#sk-container-id-1 {color: black;background-color: white;}#sk-container-id-1 pre{padding: 0;}#sk-container-id-1 div.sk-toggleable {background-color: white;}#sk-container-id-1 label.sk-toggleable__label {cursor: pointer;display: block;width: 100%;margin-bottom: 0;padding: 0.3em;box-sizing: border-box;text-align: center;}#sk-container-id-1 label.sk-toggleable__label-arrow:before {content: \"▸\";float: left;margin-right: 0.25em;color: #696969;}#sk-container-id-1 label.sk-toggleable__label-arrow:hover:before {color: black;}#sk-container-id-1 div.sk-estimator:hover label.sk-toggleable__label-arrow:before {color: black;}#sk-container-id-1 div.sk-toggleable__content {max-height: 0;max-width: 0;overflow: hidden;text-align: left;background-color: #f0f8ff;}#sk-container-id-1 div.sk-toggleable__content pre {margin: 0.2em;color: black;border-radius: 0.25em;background-color: #f0f8ff;}#sk-container-id-1 input.sk-toggleable__control:checked~div.sk-toggleable__content {max-height: 200px;max-width: 100%;overflow: auto;}#sk-container-id-1 input.sk-toggleable__control:checked~label.sk-toggleable__label-arrow:before {content: \"▾\";}#sk-container-id-1 div.sk-estimator input.sk-toggleable__control:checked~label.sk-toggleable__label {background-color: #d4ebff;}#sk-container-id-1 div.sk-label input.sk-toggleable__control:checked~label.sk-toggleable__label {background-color: #d4ebff;}#sk-container-id-1 input.sk-hidden--visually {border: 0;clip: rect(1px 1px 1px 1px);clip: rect(1px, 1px, 1px, 1px);height: 1px;margin: -1px;overflow: hidden;padding: 0;position: absolute;width: 1px;}#sk-container-id-1 div.sk-estimator {font-family: monospace;background-color: #f0f8ff;border: 1px dotted black;border-radius: 0.25em;box-sizing: border-box;margin-bottom: 0.5em;}#sk-container-id-1 div.sk-estimator:hover {background-color: #d4ebff;}#sk-container-id-1 div.sk-parallel-item::after {content: \"\";width: 100%;border-bottom: 1px solid gray;flex-grow: 1;}#sk-container-id-1 div.sk-label:hover label.sk-toggleable__label {background-color: #d4ebff;}#sk-container-id-1 div.sk-serial::before {content: \"\";position: absolute;border-left: 1px solid gray;box-sizing: border-box;top: 0;bottom: 0;left: 50%;z-index: 0;}#sk-container-id-1 div.sk-serial {display: flex;flex-direction: column;align-items: center;background-color: white;padding-right: 0.2em;padding-left: 0.2em;position: relative;}#sk-container-id-1 div.sk-item {position: relative;z-index: 1;}#sk-container-id-1 div.sk-parallel {display: flex;align-items: stretch;justify-content: center;background-color: white;position: relative;}#sk-container-id-1 div.sk-item::before, #sk-container-id-1 div.sk-parallel-item::before {content: \"\";position: absolute;border-left: 1px solid gray;box-sizing: border-box;top: 0;bottom: 0;left: 50%;z-index: -1;}#sk-container-id-1 div.sk-parallel-item {display: flex;flex-direction: column;z-index: 1;position: relative;background-color: white;}#sk-container-id-1 div.sk-parallel-item:first-child::after {align-self: flex-end;width: 50%;}#sk-container-id-1 div.sk-parallel-item:last-child::after {align-self: flex-start;width: 50%;}#sk-container-id-1 div.sk-parallel-item:only-child::after {width: 0;}#sk-container-id-1 div.sk-dashed-wrapped {border: 1px dashed gray;margin: 0 0.4em 0.5em 0.4em;box-sizing: border-box;padding-bottom: 0.4em;background-color: white;}#sk-container-id-1 div.sk-label label {font-family: monospace;font-weight: bold;display: inline-block;line-height: 1.2em;}#sk-container-id-1 div.sk-label-container {text-align: center;}#sk-container-id-1 div.sk-container {/* jupyter's `normalize.less` sets `[hidden] { display: none; }` but bootstrap.min.css set `[hidden] { display: none !important; }` so we also need the `!important` here to be able to override the default hidden behavior on the sphinx rendered scikit-learn.org. See: https://github.com/scikit-learn/scikit-learn/issues/21755 */display: inline-block !important;position: relative;}#sk-container-id-1 div.sk-text-repr-fallback {display: none;}</style><div id=\"sk-container-id-1\" class=\"sk-top-container\"><div class=\"sk-text-repr-fallback\"><pre>LabelEncoder()</pre><b>In a Jupyter environment, please rerun this cell to show the HTML representation or trust the notebook. <br />On GitHub, the HTML representation is unable to render, please try loading this page with nbviewer.org.</b></div><div class=\"sk-container\" hidden><div class=\"sk-item\"><div class=\"sk-estimator sk-toggleable\"><input class=\"sk-toggleable__control sk-hidden--visually\" id=\"sk-estimator-id-1\" type=\"checkbox\" checked><label for=\"sk-estimator-id-1\" class=\"sk-toggleable__label sk-toggleable__label-arrow\">LabelEncoder</label><div class=\"sk-toggleable__content\"><pre>LabelEncoder()</pre></div></div></div></div></div>"
      ],
      "text/plain": [
       "LabelEncoder()"
      ]
     },
     "execution_count": 18,
     "metadata": {},
     "output_type": "execute_result"
    }
   ],
   "source": [
    "le.fit( data['sex'] )"
   ]
  },
  {
   "cell_type": "code",
   "execution_count": 19,
   "metadata": {},
   "outputs": [
    {
     "data": {
      "text/plain": [
       "array(['female', 'male'], dtype=object)"
      ]
     },
     "execution_count": 19,
     "metadata": {},
     "output_type": "execute_result"
    }
   ],
   "source": [
    "le.classes_"
   ]
  },
  {
   "cell_type": "code",
   "execution_count": 20,
   "metadata": {},
   "outputs": [
    {
     "data": {
      "text/plain": [
       "array([1, 0, 1])"
      ]
     },
     "execution_count": 20,
     "metadata": {},
     "output_type": "execute_result"
    }
   ],
   "source": [
    "# пример \"расшировки\" столбца sex\n",
    "\n",
    "le.transform( [ 'male', 'female', 'male' ] )"
   ]
  },
  {
   "cell_type": "code",
   "execution_count": 21,
   "metadata": {},
   "outputs": [
    {
     "data": {
      "text/plain": [
       "0    1\n",
       "1    0\n",
       "2    1\n",
       "3    1\n",
       "4    1\n",
       "dtype: int32"
      ]
     },
     "execution_count": 21,
     "metadata": {},
     "output_type": "execute_result"
    }
   ],
   "source": [
    "# записываем в переменную y преобразованный столбец sex\n",
    "\n",
    "y = pd.Series( data = le.transform( data['sex'] ) )\n",
    "y.head()"
   ]
  },
  {
   "cell_type": "code",
   "execution_count": 22,
   "metadata": {},
   "outputs": [],
   "source": [
    "model = LogisticRegression(max_iter=1000)"
   ]
  },
  {
   "cell_type": "code",
   "execution_count": 23,
   "metadata": {},
   "outputs": [],
   "source": [
    "# обучаем модель\n",
    "model.fit( X, y )\n",
    "predictions = model.predict_proba( X )"
   ]
  },
  {
   "cell_type": "code",
   "execution_count": 24,
   "metadata": {},
   "outputs": [
    {
     "data": {
      "text/plain": [
       "array([[0.5857263 , 0.4142737 ],\n",
       "       [0.90604676, 0.09395324],\n",
       "       [0.02059745, 0.97940255],\n",
       "       [0.17037628, 0.82962372],\n",
       "       [0.1485224 , 0.8514776 ]])"
      ]
     },
     "execution_count": 24,
     "metadata": {},
     "output_type": "execute_result"
    }
   ],
   "source": [
    "predictions[:5]"
   ]
  },
  {
   "cell_type": "code",
   "execution_count": 28,
   "metadata": {},
   "outputs": [
    {
     "data": {
      "text/plain": [
       "[(0.41427369992115404, 1),\n",
       " (0.09395323766593203, 0),\n",
       " (0.9794025509670963, 1),\n",
       " (0.829623716487017, 1),\n",
       " (0.8514775954641487, 1)]"
      ]
     },
     "execution_count": 28,
     "metadata": {},
     "output_type": "execute_result"
    }
   ],
   "source": [
    "# сравниваем факт с предсказаниями\n",
    "# (да, сравнивать предсказания с самими данными не круто, лучше было разбить на обучающую и тестовую выборку)\n",
    "# это будет следующим заданием\n",
    "\n",
    "list(zip( predictions[:, 1], y ))[:5]"
   ]
  },
  {
   "cell_type": "code",
   "execution_count": 29,
   "metadata": {},
   "outputs": [
    {
     "data": {
      "text/plain": [
       "0.8219795458485006"
      ]
     },
     "execution_count": 29,
     "metadata": {},
     "output_type": "execute_result"
    }
   ],
   "source": [
    "model.score(X, y)"
   ]
  },
  {
   "cell_type": "markdown",
   "metadata": {},
   "source": [
    "### Задание"
   ]
  },
  {
   "cell_type": "markdown",
   "metadata": {},
   "source": [
    "1. Построить модель. \n",
    "2. Улучшить ее показатели"
   ]
  },
  {
   "cell_type": "code",
   "execution_count": 27,
   "metadata": {},
   "outputs": [
    {
     "data": {
      "text/plain": [
       "30"
      ]
     },
     "execution_count": 27,
     "metadata": {},
     "output_type": "execute_result"
    }
   ],
   "source": [
    "len(model.coef_[0])\n",
    "len(X.columns)"
   ]
  },
  {
   "cell_type": "code",
   "execution_count": null,
   "metadata": {},
   "outputs": [],
   "source": []
  },
  {
   "cell_type": "code",
   "execution_count": null,
   "metadata": {},
   "outputs": [],
   "source": []
  }
 ],
 "metadata": {
  "kernelspec": {
   "display_name": "Python 3.9.7 ('base')",
   "language": "python",
   "name": "python3"
  },
  "language_info": {
   "codemirror_mode": {
    "name": "ipython",
    "version": 3
   },
   "file_extension": ".py",
   "mimetype": "text/x-python",
   "name": "python",
   "nbconvert_exporter": "python",
   "pygments_lexer": "ipython3",
   "version": "3.9.7"
  },
  "vscode": {
   "interpreter": {
    "hash": "cceda5113f07d4047741cabbb211c044d7f16bbd82324456effbfb8d7e8a3a9e"
   }
  }
 },
 "nbformat": 4,
 "nbformat_minor": 2
}
