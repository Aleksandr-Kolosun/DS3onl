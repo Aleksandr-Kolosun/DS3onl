{
 "cells": [
  {
   "cell_type": "markdown",
   "id": "a329fffd",
   "metadata": {},
   "source": [
    "Романовский А.Н. 02.10.2022\n",
    "____"
   ]
  },
  {
   "cell_type": "markdown",
   "id": "0f6870bf",
   "metadata": {},
   "source": [
    "Напишите декоратор, оптимизирующий работу декорируемой функции. Декоратор должен сохранять результат работы функции на ближайшие три запуска и вместо выполнения функции возвращать сохранённый результат. \n",
    "После трёх запусков функция должна вызываться вновь, а результат работы функции — вновь кешироваться."
   ]
  },
  {
   "cell_type": "code",
   "execution_count": 1,
   "id": "d3df84e0",
   "metadata": {},
   "outputs": [],
   "source": [
    "def count(func):\n",
    "    def wrapper():\n",
    "        if wrapper.counter == 0: #если функция вызвана вепрвые, добавляем значение в list\n",
    "            mem.append(result)                 \n",
    "            print('I will remember')      #распечатаем значения листа \n",
    "            wrapper.counter +=1\n",
    "            return mem[-1]\n",
    "            \n",
    "            \n",
    "        elif wrapper.counter == 4: #на четвертый вызов функции очистим сохраненное значение в листе \n",
    "            print('I forgot, repeat again')\n",
    "            wrapper.counter = 0\n",
    "            mem.clear()\n",
    "        \n",
    "        elif wrapper.counter > 0: #вызвав функцию 1-3 раза распечатаем значения хранящиеся в листе \n",
    "            print('I remember')\n",
    "            wrapper.counter +=1\n",
    "            return mem[-1]\n",
    "    \n",
    "    mem=[]  \n",
    "    result = func()\n",
    "    wrapper.counter = 0\n",
    "    return wrapper"
   ]
  },
  {
   "cell_type": "code",
   "execution_count": 11,
   "id": "985ef0c8",
   "metadata": {},
   "outputs": [],
   "source": [
    "@count\n",
    "def test():\n",
    "    r = 0\n",
    "    for i in range(0, 1000):\n",
    "        for j in range(0, 1000):\n",
    "            r = (r + (i * j) % 100) % 47\n",
    "    return r"
   ]
  },
  {
   "cell_type": "code",
   "execution_count": 12,
   "id": "d1deae98",
   "metadata": {},
   "outputs": [
    {
     "name": "stdout",
     "output_type": "stream",
     "text": [
      "I will remember\n"
     ]
    },
    {
     "data": {
      "text/plain": [
       "30"
      ]
     },
     "execution_count": 12,
     "metadata": {},
     "output_type": "execute_result"
    }
   ],
   "source": [
    "test()"
   ]
  },
  {
   "cell_type": "code",
   "execution_count": 13,
   "id": "4ee3022c",
   "metadata": {},
   "outputs": [
    {
     "name": "stdout",
     "output_type": "stream",
     "text": [
      "I remember\n"
     ]
    },
    {
     "data": {
      "text/plain": [
       "30"
      ]
     },
     "execution_count": 13,
     "metadata": {},
     "output_type": "execute_result"
    }
   ],
   "source": [
    "test()"
   ]
  },
  {
   "cell_type": "code",
   "execution_count": 14,
   "id": "247d6366",
   "metadata": {},
   "outputs": [
    {
     "name": "stdout",
     "output_type": "stream",
     "text": [
      "I remember\n"
     ]
    },
    {
     "data": {
      "text/plain": [
       "30"
      ]
     },
     "execution_count": 14,
     "metadata": {},
     "output_type": "execute_result"
    }
   ],
   "source": [
    "test()"
   ]
  },
  {
   "cell_type": "code",
   "execution_count": 15,
   "id": "892edba6",
   "metadata": {},
   "outputs": [
    {
     "name": "stdout",
     "output_type": "stream",
     "text": [
      "I remember\n"
     ]
    },
    {
     "data": {
      "text/plain": [
       "30"
      ]
     },
     "execution_count": 15,
     "metadata": {},
     "output_type": "execute_result"
    }
   ],
   "source": [
    "test()"
   ]
  },
  {
   "cell_type": "code",
   "execution_count": 16,
   "id": "a58d19da",
   "metadata": {},
   "outputs": [
    {
     "name": "stdout",
     "output_type": "stream",
     "text": [
      "I forgot, repeat again\n"
     ]
    }
   ],
   "source": [
    "test()"
   ]
  },
  {
   "cell_type": "code",
   "execution_count": null,
   "id": "224c04f2",
   "metadata": {},
   "outputs": [],
   "source": []
  }
 ],
 "metadata": {
  "kernelspec": {
   "display_name": "Python 3 (ipykernel)",
   "language": "python",
   "name": "python3"
  },
  "language_info": {
   "codemirror_mode": {
    "name": "ipython",
    "version": 3
   },
   "file_extension": ".py",
   "mimetype": "text/x-python",
   "name": "python",
   "nbconvert_exporter": "python",
   "pygments_lexer": "ipython3",
   "version": "3.10.4"
  }
 },
 "nbformat": 4,
 "nbformat_minor": 5
}
